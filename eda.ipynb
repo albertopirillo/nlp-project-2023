{
 "cells": [
  {
   "cell_type": "markdown",
   "source": [
    "# Exploratory Data Analysis"
   ],
   "metadata": {
    "collapsed": false
   }
  },
  {
   "cell_type": "code",
   "execution_count": 1,
   "outputs": [],
   "source": [
    "import csv\n",
    "import pandas as pd"
   ],
   "metadata": {
    "collapsed": false,
    "ExecuteTime": {
     "end_time": "2023-05-11T08:25:52.379509500Z",
     "start_time": "2023-05-11T08:25:51.496319100Z"
    }
   }
  },
  {
   "cell_type": "code",
   "execution_count": 2,
   "outputs": [],
   "source": [
    "path_train = 'data/sts-train.csv'\n",
    "path_dev = 'data/sts-dev.csv'\n",
    "path_test = 'data/sts-test.csv'"
   ],
   "metadata": {
    "collapsed": false,
    "ExecuteTime": {
     "end_time": "2023-05-11T08:25:52.397116Z",
     "start_time": "2023-05-11T08:25:52.379509500Z"
    }
   }
  },
  {
   "cell_type": "code",
   "execution_count": 3,
   "outputs": [],
   "source": [
    "columns=['genre', 'file', 'year', 'index', 'score', 'sentence1', 'sentence2']"
   ],
   "metadata": {
    "collapsed": false,
    "ExecuteTime": {
     "end_time": "2023-05-11T08:25:52.419137700Z",
     "start_time": "2023-05-11T08:25:52.397116Z"
    }
   }
  },
  {
   "cell_type": "code",
   "execution_count": 4,
   "outputs": [],
   "source": [
    "df_train = pd.read_csv(path_train, sep='\\t', usecols=range(7), header=None, quoting=csv.QUOTE_NONE, names=columns, encoding='UTF-8')\n",
    "df_dev = pd.read_csv(path_dev, sep='\\t', usecols=range(7), header=None, quoting=csv.QUOTE_NONE, names=columns, encoding='UTF-8')\n",
    "df_test = pd.read_csv(path_test, sep='\\t', usecols=range(7), header=None, quoting=csv.QUOTE_NONE, names=columns, encoding='UTF-8')"
   ],
   "metadata": {
    "collapsed": false,
    "ExecuteTime": {
     "end_time": "2023-05-11T08:25:52.458773200Z",
     "start_time": "2023-05-11T08:25:52.411133900Z"
    }
   }
  },
  {
   "cell_type": "code",
   "execution_count": 5,
   "outputs": [
    {
     "data": {
      "text/plain": "              genre       file      year  index  score   \n0     main-captions     MSRvid  2012test      1   5.00  \\\n1     main-captions     MSRvid  2012test      4   3.80   \n2     main-captions     MSRvid  2012test      5   3.80   \n3     main-captions     MSRvid  2012test      6   2.60   \n4     main-captions     MSRvid  2012test      9   4.25   \n...             ...        ...       ...    ...    ...   \n8623      main-news  headlines      2016   1354   0.00   \n8624      main-news  headlines      2016   1360   1.00   \n8625      main-news  headlines      2016   1368   1.00   \n8626      main-news  headlines      2016   1420   0.00   \n8627      main-news  headlines      2016   1432   0.00   \n\n                                              sentence1   \n0                                A plane is taking off.  \\\n1                       A man is playing a large flute.   \n2         A man is spreading shreded cheese on a pizza.   \n3                          Three men are playing chess.   \n4                           A man is playing the cello.   \n...                                                 ...   \n8623  Philippines, Canada pledge to further boost re...   \n8624  Israel bars Palestinians from Jerusalem's Old ...   \n8625         How much do you know about Secret Service?   \n8626  Obama Struggles to Soothe Saudi Fears As Iran ...   \n8627          South Korea declares end to MERS outbreak   \n\n                                              sentence2  \n0                           An air plane is taking off.  \n1                             A man is playing a flute.  \n2     A man is spreading shredded cheese on an uncoo...  \n3                            Two men are playing chess.  \n4                    A man seated is playing the cello.  \n...                                                 ...  \n8623            Philippines saves 100 after ferry sinks  \n8624  Two-state solution between Palestinians, Israe...  \n8625  Lawmakers from both sides express outrage at S...  \n8626  Myanmar Struggles to Finalize Voter Lists for ...  \n8627  North Korea Delegation Meets With South Korean...  \n\n[8628 rows x 7 columns]",
      "text/html": "<div>\n<style scoped>\n    .dataframe tbody tr th:only-of-type {\n        vertical-align: middle;\n    }\n\n    .dataframe tbody tr th {\n        vertical-align: top;\n    }\n\n    .dataframe thead th {\n        text-align: right;\n    }\n</style>\n<table border=\"1\" class=\"dataframe\">\n  <thead>\n    <tr style=\"text-align: right;\">\n      <th></th>\n      <th>genre</th>\n      <th>file</th>\n      <th>year</th>\n      <th>index</th>\n      <th>score</th>\n      <th>sentence1</th>\n      <th>sentence2</th>\n    </tr>\n  </thead>\n  <tbody>\n    <tr>\n      <th>0</th>\n      <td>main-captions</td>\n      <td>MSRvid</td>\n      <td>2012test</td>\n      <td>1</td>\n      <td>5.00</td>\n      <td>A plane is taking off.</td>\n      <td>An air plane is taking off.</td>\n    </tr>\n    <tr>\n      <th>1</th>\n      <td>main-captions</td>\n      <td>MSRvid</td>\n      <td>2012test</td>\n      <td>4</td>\n      <td>3.80</td>\n      <td>A man is playing a large flute.</td>\n      <td>A man is playing a flute.</td>\n    </tr>\n    <tr>\n      <th>2</th>\n      <td>main-captions</td>\n      <td>MSRvid</td>\n      <td>2012test</td>\n      <td>5</td>\n      <td>3.80</td>\n      <td>A man is spreading shreded cheese on a pizza.</td>\n      <td>A man is spreading shredded cheese on an uncoo...</td>\n    </tr>\n    <tr>\n      <th>3</th>\n      <td>main-captions</td>\n      <td>MSRvid</td>\n      <td>2012test</td>\n      <td>6</td>\n      <td>2.60</td>\n      <td>Three men are playing chess.</td>\n      <td>Two men are playing chess.</td>\n    </tr>\n    <tr>\n      <th>4</th>\n      <td>main-captions</td>\n      <td>MSRvid</td>\n      <td>2012test</td>\n      <td>9</td>\n      <td>4.25</td>\n      <td>A man is playing the cello.</td>\n      <td>A man seated is playing the cello.</td>\n    </tr>\n    <tr>\n      <th>...</th>\n      <td>...</td>\n      <td>...</td>\n      <td>...</td>\n      <td>...</td>\n      <td>...</td>\n      <td>...</td>\n      <td>...</td>\n    </tr>\n    <tr>\n      <th>8623</th>\n      <td>main-news</td>\n      <td>headlines</td>\n      <td>2016</td>\n      <td>1354</td>\n      <td>0.00</td>\n      <td>Philippines, Canada pledge to further boost re...</td>\n      <td>Philippines saves 100 after ferry sinks</td>\n    </tr>\n    <tr>\n      <th>8624</th>\n      <td>main-news</td>\n      <td>headlines</td>\n      <td>2016</td>\n      <td>1360</td>\n      <td>1.00</td>\n      <td>Israel bars Palestinians from Jerusalem's Old ...</td>\n      <td>Two-state solution between Palestinians, Israe...</td>\n    </tr>\n    <tr>\n      <th>8625</th>\n      <td>main-news</td>\n      <td>headlines</td>\n      <td>2016</td>\n      <td>1368</td>\n      <td>1.00</td>\n      <td>How much do you know about Secret Service?</td>\n      <td>Lawmakers from both sides express outrage at S...</td>\n    </tr>\n    <tr>\n      <th>8626</th>\n      <td>main-news</td>\n      <td>headlines</td>\n      <td>2016</td>\n      <td>1420</td>\n      <td>0.00</td>\n      <td>Obama Struggles to Soothe Saudi Fears As Iran ...</td>\n      <td>Myanmar Struggles to Finalize Voter Lists for ...</td>\n    </tr>\n    <tr>\n      <th>8627</th>\n      <td>main-news</td>\n      <td>headlines</td>\n      <td>2016</td>\n      <td>1432</td>\n      <td>0.00</td>\n      <td>South Korea declares end to MERS outbreak</td>\n      <td>North Korea Delegation Meets With South Korean...</td>\n    </tr>\n  </tbody>\n</table>\n<p>8628 rows × 7 columns</p>\n</div>"
     },
     "execution_count": 5,
     "metadata": {},
     "output_type": "execute_result"
    }
   ],
   "source": [
    "df = pd.concat([df_train, df_dev, df_test]).reset_index(drop=True)\n",
    "df"
   ],
   "metadata": {
    "collapsed": false,
    "ExecuteTime": {
     "end_time": "2023-05-11T08:25:52.507155500Z",
     "start_time": "2023-05-11T08:25:52.458773200Z"
    }
   }
  },
  {
   "cell_type": "markdown",
   "source": [
    "## Data cleaning"
   ],
   "metadata": {
    "collapsed": false
   }
  },
  {
   "cell_type": "markdown",
   "source": [
    "Check for the presence of null values:"
   ],
   "metadata": {
    "collapsed": false
   }
  },
  {
   "cell_type": "code",
   "execution_count": 6,
   "outputs": [
    {
     "name": "stdout",
     "output_type": "stream",
     "text": [
      "<class 'pandas.core.frame.DataFrame'>\n",
      "RangeIndex: 8628 entries, 0 to 8627\n",
      "Data columns (total 7 columns):\n",
      " #   Column     Non-Null Count  Dtype  \n",
      "---  ------     --------------  -----  \n",
      " 0   genre      8628 non-null   object \n",
      " 1   file       8628 non-null   object \n",
      " 2   year       8628 non-null   object \n",
      " 3   index      8628 non-null   int64  \n",
      " 4   score      8628 non-null   float64\n",
      " 5   sentence1  8628 non-null   object \n",
      " 6   sentence2  8628 non-null   object \n",
      "dtypes: float64(1), int64(1), object(5)\n",
      "memory usage: 472.0+ KB\n"
     ]
    }
   ],
   "source": [
    "df.info()"
   ],
   "metadata": {
    "collapsed": false,
    "ExecuteTime": {
     "end_time": "2023-05-11T08:25:52.579998900Z",
     "start_time": "2023-05-11T08:25:52.499133700Z"
    }
   }
  },
  {
   "cell_type": "markdown",
   "source": [
    "There are no null values."
   ],
   "metadata": {
    "collapsed": false
   }
  },
  {
   "cell_type": "code",
   "execution_count": 7,
   "outputs": [
    {
     "data": {
      "text/plain": "genre\nmain-news        4299\nmain-captions    3250\nmain-forums       629\nmain-forum        450\nName: count, dtype: int64"
     },
     "execution_count": 7,
     "metadata": {},
     "output_type": "execute_result"
    }
   ],
   "source": [
    "df['genre'].value_counts()"
   ],
   "metadata": {
    "collapsed": false,
    "ExecuteTime": {
     "end_time": "2023-05-11T08:25:52.579998900Z",
     "start_time": "2023-05-11T08:25:52.515146700Z"
    }
   }
  },
  {
   "cell_type": "code",
   "execution_count": 8,
   "outputs": [],
   "source": [
    "df['genre'] = df['genre'].replace('main-', '', regex=True)\n",
    "df['genre'] = df['genre'].replace('forum', 'forums')"
   ],
   "metadata": {
    "collapsed": false,
    "ExecuteTime": {
     "end_time": "2023-05-11T08:25:52.688762400Z",
     "start_time": "2023-05-11T08:25:52.523493600Z"
    }
   }
  },
  {
   "cell_type": "code",
   "execution_count": 9,
   "outputs": [
    {
     "data": {
      "text/plain": "genre\nnews        4299\ncaptions    3250\nforums      1079\nName: count, dtype: int64"
     },
     "execution_count": 9,
     "metadata": {},
     "output_type": "execute_result"
    }
   ],
   "source": [
    "df['genre'].value_counts()"
   ],
   "metadata": {
    "collapsed": false,
    "ExecuteTime": {
     "end_time": "2023-05-11T08:25:52.697317500Z",
     "start_time": "2023-05-11T08:25:52.556142300Z"
    }
   }
  },
  {
   "cell_type": "code",
   "execution_count": 10,
   "outputs": [
    {
     "data": {
      "text/plain": "year\n2014         2250\n2015         1875\n2012test     1500\n2012train    1500\n2013          750\n2016          503\n2017          250\nName: count, dtype: int64"
     },
     "execution_count": 10,
     "metadata": {},
     "output_type": "execute_result"
    }
   ],
   "source": [
    "df['year'].value_counts()"
   ],
   "metadata": {
    "collapsed": false,
    "ExecuteTime": {
     "end_time": "2023-05-11T08:25:52.697317500Z",
     "start_time": "2023-05-11T08:25:52.572003700Z"
    }
   }
  },
  {
   "cell_type": "code",
   "execution_count": 11,
   "outputs": [],
   "source": [
    "# Remove everything in this column which is not a number\n",
    "df['year'] = df['year'].replace(r'\\D', '', regex=True)"
   ],
   "metadata": {
    "collapsed": false,
    "ExecuteTime": {
     "end_time": "2023-05-11T08:25:52.697317500Z",
     "start_time": "2023-05-11T08:25:52.587993300Z"
    }
   }
  },
  {
   "cell_type": "code",
   "execution_count": 12,
   "outputs": [
    {
     "data": {
      "text/plain": "year\n2012    3000\n2014    2250\n2015    1875\n2013     750\n2016     503\n2017     250\nName: count, dtype: int64"
     },
     "execution_count": 12,
     "metadata": {},
     "output_type": "execute_result"
    }
   ],
   "source": [
    "df['year'].value_counts()"
   ],
   "metadata": {
    "collapsed": false,
    "ExecuteTime": {
     "end_time": "2023-05-11T08:25:52.697317500Z",
     "start_time": "2023-05-11T08:25:52.612456200Z"
    }
   }
  },
  {
   "cell_type": "code",
   "execution_count": 13,
   "outputs": [],
   "source": [
    "# MinMax scaling through scikit-learn\n",
    "from sklearn.preprocessing import MinMaxScaler\n",
    "scaler = MinMaxScaler()\n",
    "df['score'] = scaler.fit_transform(df[['score']])"
   ],
   "metadata": {
    "collapsed": false,
    "ExecuteTime": {
     "end_time": "2023-05-11T08:25:54.086532400Z",
     "start_time": "2023-05-11T08:25:52.636080700Z"
    }
   }
  },
  {
   "cell_type": "code",
   "execution_count": 14,
   "outputs": [
    {
     "data": {
      "text/plain": "count    8628.000000\nmean        0.525504\nstd         0.297152\nmin         0.000000\n25%         0.280000\n50%         0.560000\n75%         0.760000\nmax         1.000000\nName: score, dtype: float64"
     },
     "execution_count": 14,
     "metadata": {},
     "output_type": "execute_result"
    }
   ],
   "source": [
    "df['score'].describe()"
   ],
   "metadata": {
    "collapsed": false,
    "ExecuteTime": {
     "end_time": "2023-05-11T08:25:54.127887Z",
     "start_time": "2023-05-11T08:25:54.086532400Z"
    }
   }
  },
  {
   "cell_type": "code",
   "execution_count": 15,
   "outputs": [],
   "source": [
    "df['genre-file-year'] = df.apply(lambda row: row['genre'] + '-' + row['file'] + '-' +  row['year'] , axis=1)\n",
    "df['genre-year'] = df.apply(lambda row: row['genre'] + '-' + row['year'] , axis=1)\n",
    "df['genre-file'] = df.apply(lambda row: row['genre'] + '-' + row['file'] , axis=1)\n",
    "df['file-year'] = df.apply(lambda row: row['file'] + '-' + row['year'] , axis=1)"
   ],
   "metadata": {
    "collapsed": false,
    "ExecuteTime": {
     "end_time": "2023-05-11T08:25:54.305733600Z",
     "start_time": "2023-05-11T08:25:54.110553300Z"
    }
   }
  },
  {
   "cell_type": "code",
   "execution_count": 16,
   "outputs": [
    {
     "data": {
      "text/plain": "         genre       file  year  index  score   \n0     captions     MSRvid  2012      1   1.00  \\\n1     captions     MSRvid  2012      4   0.76   \n2     captions     MSRvid  2012      5   0.76   \n3     captions     MSRvid  2012      6   0.52   \n4     captions     MSRvid  2012      9   0.85   \n...        ...        ...   ...    ...    ...   \n8623      news  headlines  2016   1354   0.00   \n8624      news  headlines  2016   1360   0.20   \n8625      news  headlines  2016   1368   0.20   \n8626      news  headlines  2016   1420   0.00   \n8627      news  headlines  2016   1432   0.00   \n\n                                              sentence1   \n0                                A plane is taking off.  \\\n1                       A man is playing a large flute.   \n2         A man is spreading shreded cheese on a pizza.   \n3                          Three men are playing chess.   \n4                           A man is playing the cello.   \n...                                                 ...   \n8623  Philippines, Canada pledge to further boost re...   \n8624  Israel bars Palestinians from Jerusalem's Old ...   \n8625         How much do you know about Secret Service?   \n8626  Obama Struggles to Soothe Saudi Fears As Iran ...   \n8627          South Korea declares end to MERS outbreak   \n\n                                              sentence2       genre-file-year   \n0                           An air plane is taking off.  captions-MSRvid-2012  \\\n1                             A man is playing a flute.  captions-MSRvid-2012   \n2     A man is spreading shredded cheese on an uncoo...  captions-MSRvid-2012   \n3                            Two men are playing chess.  captions-MSRvid-2012   \n4                    A man seated is playing the cello.  captions-MSRvid-2012   \n...                                                 ...                   ...   \n8623            Philippines saves 100 after ferry sinks   news-headlines-2016   \n8624  Two-state solution between Palestinians, Israe...   news-headlines-2016   \n8625  Lawmakers from both sides express outrage at S...   news-headlines-2016   \n8626  Myanmar Struggles to Finalize Voter Lists for ...   news-headlines-2016   \n8627  North Korea Delegation Meets With South Korean...   news-headlines-2016   \n\n         genre-year       genre-file       file-year  \n0     captions-2012  captions-MSRvid     MSRvid-2012  \n1     captions-2012  captions-MSRvid     MSRvid-2012  \n2     captions-2012  captions-MSRvid     MSRvid-2012  \n3     captions-2012  captions-MSRvid     MSRvid-2012  \n4     captions-2012  captions-MSRvid     MSRvid-2012  \n...             ...              ...             ...  \n8623      news-2016   news-headlines  headlines-2016  \n8624      news-2016   news-headlines  headlines-2016  \n8625      news-2016   news-headlines  headlines-2016  \n8626      news-2016   news-headlines  headlines-2016  \n8627      news-2016   news-headlines  headlines-2016  \n\n[8628 rows x 11 columns]",
      "text/html": "<div>\n<style scoped>\n    .dataframe tbody tr th:only-of-type {\n        vertical-align: middle;\n    }\n\n    .dataframe tbody tr th {\n        vertical-align: top;\n    }\n\n    .dataframe thead th {\n        text-align: right;\n    }\n</style>\n<table border=\"1\" class=\"dataframe\">\n  <thead>\n    <tr style=\"text-align: right;\">\n      <th></th>\n      <th>genre</th>\n      <th>file</th>\n      <th>year</th>\n      <th>index</th>\n      <th>score</th>\n      <th>sentence1</th>\n      <th>sentence2</th>\n      <th>genre-file-year</th>\n      <th>genre-year</th>\n      <th>genre-file</th>\n      <th>file-year</th>\n    </tr>\n  </thead>\n  <tbody>\n    <tr>\n      <th>0</th>\n      <td>captions</td>\n      <td>MSRvid</td>\n      <td>2012</td>\n      <td>1</td>\n      <td>1.00</td>\n      <td>A plane is taking off.</td>\n      <td>An air plane is taking off.</td>\n      <td>captions-MSRvid-2012</td>\n      <td>captions-2012</td>\n      <td>captions-MSRvid</td>\n      <td>MSRvid-2012</td>\n    </tr>\n    <tr>\n      <th>1</th>\n      <td>captions</td>\n      <td>MSRvid</td>\n      <td>2012</td>\n      <td>4</td>\n      <td>0.76</td>\n      <td>A man is playing a large flute.</td>\n      <td>A man is playing a flute.</td>\n      <td>captions-MSRvid-2012</td>\n      <td>captions-2012</td>\n      <td>captions-MSRvid</td>\n      <td>MSRvid-2012</td>\n    </tr>\n    <tr>\n      <th>2</th>\n      <td>captions</td>\n      <td>MSRvid</td>\n      <td>2012</td>\n      <td>5</td>\n      <td>0.76</td>\n      <td>A man is spreading shreded cheese on a pizza.</td>\n      <td>A man is spreading shredded cheese on an uncoo...</td>\n      <td>captions-MSRvid-2012</td>\n      <td>captions-2012</td>\n      <td>captions-MSRvid</td>\n      <td>MSRvid-2012</td>\n    </tr>\n    <tr>\n      <th>3</th>\n      <td>captions</td>\n      <td>MSRvid</td>\n      <td>2012</td>\n      <td>6</td>\n      <td>0.52</td>\n      <td>Three men are playing chess.</td>\n      <td>Two men are playing chess.</td>\n      <td>captions-MSRvid-2012</td>\n      <td>captions-2012</td>\n      <td>captions-MSRvid</td>\n      <td>MSRvid-2012</td>\n    </tr>\n    <tr>\n      <th>4</th>\n      <td>captions</td>\n      <td>MSRvid</td>\n      <td>2012</td>\n      <td>9</td>\n      <td>0.85</td>\n      <td>A man is playing the cello.</td>\n      <td>A man seated is playing the cello.</td>\n      <td>captions-MSRvid-2012</td>\n      <td>captions-2012</td>\n      <td>captions-MSRvid</td>\n      <td>MSRvid-2012</td>\n    </tr>\n    <tr>\n      <th>...</th>\n      <td>...</td>\n      <td>...</td>\n      <td>...</td>\n      <td>...</td>\n      <td>...</td>\n      <td>...</td>\n      <td>...</td>\n      <td>...</td>\n      <td>...</td>\n      <td>...</td>\n      <td>...</td>\n    </tr>\n    <tr>\n      <th>8623</th>\n      <td>news</td>\n      <td>headlines</td>\n      <td>2016</td>\n      <td>1354</td>\n      <td>0.00</td>\n      <td>Philippines, Canada pledge to further boost re...</td>\n      <td>Philippines saves 100 after ferry sinks</td>\n      <td>news-headlines-2016</td>\n      <td>news-2016</td>\n      <td>news-headlines</td>\n      <td>headlines-2016</td>\n    </tr>\n    <tr>\n      <th>8624</th>\n      <td>news</td>\n      <td>headlines</td>\n      <td>2016</td>\n      <td>1360</td>\n      <td>0.20</td>\n      <td>Israel bars Palestinians from Jerusalem's Old ...</td>\n      <td>Two-state solution between Palestinians, Israe...</td>\n      <td>news-headlines-2016</td>\n      <td>news-2016</td>\n      <td>news-headlines</td>\n      <td>headlines-2016</td>\n    </tr>\n    <tr>\n      <th>8625</th>\n      <td>news</td>\n      <td>headlines</td>\n      <td>2016</td>\n      <td>1368</td>\n      <td>0.20</td>\n      <td>How much do you know about Secret Service?</td>\n      <td>Lawmakers from both sides express outrage at S...</td>\n      <td>news-headlines-2016</td>\n      <td>news-2016</td>\n      <td>news-headlines</td>\n      <td>headlines-2016</td>\n    </tr>\n    <tr>\n      <th>8626</th>\n      <td>news</td>\n      <td>headlines</td>\n      <td>2016</td>\n      <td>1420</td>\n      <td>0.00</td>\n      <td>Obama Struggles to Soothe Saudi Fears As Iran ...</td>\n      <td>Myanmar Struggles to Finalize Voter Lists for ...</td>\n      <td>news-headlines-2016</td>\n      <td>news-2016</td>\n      <td>news-headlines</td>\n      <td>headlines-2016</td>\n    </tr>\n    <tr>\n      <th>8627</th>\n      <td>news</td>\n      <td>headlines</td>\n      <td>2016</td>\n      <td>1432</td>\n      <td>0.00</td>\n      <td>South Korea declares end to MERS outbreak</td>\n      <td>North Korea Delegation Meets With South Korean...</td>\n      <td>news-headlines-2016</td>\n      <td>news-2016</td>\n      <td>news-headlines</td>\n      <td>headlines-2016</td>\n    </tr>\n  </tbody>\n</table>\n<p>8628 rows × 11 columns</p>\n</div>"
     },
     "execution_count": 16,
     "metadata": {},
     "output_type": "execute_result"
    }
   ],
   "source": [
    "df"
   ],
   "metadata": {
    "collapsed": false,
    "ExecuteTime": {
     "end_time": "2023-05-11T08:25:54.321744600Z",
     "start_time": "2023-05-11T08:25:54.305733600Z"
    }
   }
  }
 ],
 "metadata": {
  "kernelspec": {
   "display_name": "Python 3",
   "language": "python",
   "name": "python3"
  },
  "language_info": {
   "codemirror_mode": {
    "name": "ipython",
    "version": 2
   },
   "file_extension": ".py",
   "mimetype": "text/x-python",
   "name": "python",
   "nbconvert_exporter": "python",
   "pygments_lexer": "ipython2",
   "version": "2.7.6"
  }
 },
 "nbformat": 4,
 "nbformat_minor": 0
}
