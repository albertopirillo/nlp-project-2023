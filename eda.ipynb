{
 "cells": [
  {
   "cell_type": "markdown",
   "source": [
    "# Exploratory Data Analysis"
   ],
   "metadata": {
    "collapsed": false
   }
  },
  {
   "cell_type": "code",
   "execution_count": 1,
   "outputs": [],
   "source": [
    "import csv\n",
    "import pandas as pd"
   ],
   "metadata": {
    "collapsed": false,
    "ExecuteTime": {
     "start_time": "2023-04-30T11:43:41.364482Z",
     "end_time": "2023-04-30T11:43:41.390292Z"
    }
   }
  },
  {
   "cell_type": "code",
   "execution_count": 2,
   "outputs": [],
   "source": [
    "path_train = 'data/sts-train.csv'\n",
    "path_dev = 'data/sts-dev.csv'\n",
    "path_test = 'data/sts-test.csv'"
   ],
   "metadata": {
    "collapsed": false,
    "ExecuteTime": {
     "start_time": "2023-04-30T11:43:41.376638Z",
     "end_time": "2023-04-30T11:43:41.392228Z"
    }
   }
  },
  {
   "cell_type": "code",
   "execution_count": 3,
   "outputs": [],
   "source": [
    "columns=['genre', 'file', 'year', 'index', 'score', 'sentence1', 'sentence2']"
   ],
   "metadata": {
    "collapsed": false,
    "ExecuteTime": {
     "start_time": "2023-04-30T11:43:41.393736Z",
     "end_time": "2023-04-30T11:43:41.409361Z"
    }
   }
  },
  {
   "cell_type": "code",
   "execution_count": 4,
   "outputs": [],
   "source": [
    "df_train = pd.read_csv(path_train, sep='\\t', usecols=range(7), header=None, quoting=csv.QUOTE_NONE, names=columns, encoding='UTF-8')\n",
    "df_dev = pd.read_csv(path_dev, sep='\\t', usecols=range(7), header=None, quoting=csv.QUOTE_NONE, names=columns, encoding='UTF-8')\n",
    "df_test = pd.read_csv(path_test, sep='\\t', usecols=range(7), header=None, quoting=csv.QUOTE_NONE, names=columns, encoding='UTF-8')"
   ],
   "metadata": {
    "collapsed": false,
    "ExecuteTime": {
     "start_time": "2023-04-30T11:43:41.407552Z",
     "end_time": "2023-04-30T11:43:41.469578Z"
    }
   }
  },
  {
   "cell_type": "code",
   "execution_count": 5,
   "outputs": [
    {
     "data": {
      "text/plain": "              genre       file      year  index  score   \n0     main-captions     MSRvid  2012test      1   5.00  \\\n1     main-captions     MSRvid  2012test      4   3.80   \n2     main-captions     MSRvid  2012test      5   3.80   \n3     main-captions     MSRvid  2012test      6   2.60   \n4     main-captions     MSRvid  2012test      9   4.25   \n...             ...        ...       ...    ...    ...   \n1374      main-news  headlines      2016   1354   0.00   \n1375      main-news  headlines      2016   1360   1.00   \n1376      main-news  headlines      2016   1368   1.00   \n1377      main-news  headlines      2016   1420   0.00   \n1378      main-news  headlines      2016   1432   0.00   \n\n                                              sentence1   \n0                                A plane is taking off.  \\\n1                       A man is playing a large flute.   \n2         A man is spreading shreded cheese on a pizza.   \n3                          Three men are playing chess.   \n4                           A man is playing the cello.   \n...                                                 ...   \n1374  Philippines, Canada pledge to further boost re...   \n1375  Israel bars Palestinians from Jerusalem's Old ...   \n1376         How much do you know about Secret Service?   \n1377  Obama Struggles to Soothe Saudi Fears As Iran ...   \n1378          South Korea declares end to MERS outbreak   \n\n                                              sentence2  \n0                           An air plane is taking off.  \n1                             A man is playing a flute.  \n2     A man is spreading shredded cheese on an uncoo...  \n3                            Two men are playing chess.  \n4                    A man seated is playing the cello.  \n...                                                 ...  \n1374            Philippines saves 100 after ferry sinks  \n1375  Two-state solution between Palestinians, Israe...  \n1376  Lawmakers from both sides express outrage at S...  \n1377  Myanmar Struggles to Finalize Voter Lists for ...  \n1378  North Korea Delegation Meets With South Korean...  \n\n[8628 rows x 7 columns]",
      "text/html": "<div>\n<style scoped>\n    .dataframe tbody tr th:only-of-type {\n        vertical-align: middle;\n    }\n\n    .dataframe tbody tr th {\n        vertical-align: top;\n    }\n\n    .dataframe thead th {\n        text-align: right;\n    }\n</style>\n<table border=\"1\" class=\"dataframe\">\n  <thead>\n    <tr style=\"text-align: right;\">\n      <th></th>\n      <th>genre</th>\n      <th>file</th>\n      <th>year</th>\n      <th>index</th>\n      <th>score</th>\n      <th>sentence1</th>\n      <th>sentence2</th>\n    </tr>\n  </thead>\n  <tbody>\n    <tr>\n      <th>0</th>\n      <td>main-captions</td>\n      <td>MSRvid</td>\n      <td>2012test</td>\n      <td>1</td>\n      <td>5.00</td>\n      <td>A plane is taking off.</td>\n      <td>An air plane is taking off.</td>\n    </tr>\n    <tr>\n      <th>1</th>\n      <td>main-captions</td>\n      <td>MSRvid</td>\n      <td>2012test</td>\n      <td>4</td>\n      <td>3.80</td>\n      <td>A man is playing a large flute.</td>\n      <td>A man is playing a flute.</td>\n    </tr>\n    <tr>\n      <th>2</th>\n      <td>main-captions</td>\n      <td>MSRvid</td>\n      <td>2012test</td>\n      <td>5</td>\n      <td>3.80</td>\n      <td>A man is spreading shreded cheese on a pizza.</td>\n      <td>A man is spreading shredded cheese on an uncoo...</td>\n    </tr>\n    <tr>\n      <th>3</th>\n      <td>main-captions</td>\n      <td>MSRvid</td>\n      <td>2012test</td>\n      <td>6</td>\n      <td>2.60</td>\n      <td>Three men are playing chess.</td>\n      <td>Two men are playing chess.</td>\n    </tr>\n    <tr>\n      <th>4</th>\n      <td>main-captions</td>\n      <td>MSRvid</td>\n      <td>2012test</td>\n      <td>9</td>\n      <td>4.25</td>\n      <td>A man is playing the cello.</td>\n      <td>A man seated is playing the cello.</td>\n    </tr>\n    <tr>\n      <th>...</th>\n      <td>...</td>\n      <td>...</td>\n      <td>...</td>\n      <td>...</td>\n      <td>...</td>\n      <td>...</td>\n      <td>...</td>\n    </tr>\n    <tr>\n      <th>1374</th>\n      <td>main-news</td>\n      <td>headlines</td>\n      <td>2016</td>\n      <td>1354</td>\n      <td>0.00</td>\n      <td>Philippines, Canada pledge to further boost re...</td>\n      <td>Philippines saves 100 after ferry sinks</td>\n    </tr>\n    <tr>\n      <th>1375</th>\n      <td>main-news</td>\n      <td>headlines</td>\n      <td>2016</td>\n      <td>1360</td>\n      <td>1.00</td>\n      <td>Israel bars Palestinians from Jerusalem's Old ...</td>\n      <td>Two-state solution between Palestinians, Israe...</td>\n    </tr>\n    <tr>\n      <th>1376</th>\n      <td>main-news</td>\n      <td>headlines</td>\n      <td>2016</td>\n      <td>1368</td>\n      <td>1.00</td>\n      <td>How much do you know about Secret Service?</td>\n      <td>Lawmakers from both sides express outrage at S...</td>\n    </tr>\n    <tr>\n      <th>1377</th>\n      <td>main-news</td>\n      <td>headlines</td>\n      <td>2016</td>\n      <td>1420</td>\n      <td>0.00</td>\n      <td>Obama Struggles to Soothe Saudi Fears As Iran ...</td>\n      <td>Myanmar Struggles to Finalize Voter Lists for ...</td>\n    </tr>\n    <tr>\n      <th>1378</th>\n      <td>main-news</td>\n      <td>headlines</td>\n      <td>2016</td>\n      <td>1432</td>\n      <td>0.00</td>\n      <td>South Korea declares end to MERS outbreak</td>\n      <td>North Korea Delegation Meets With South Korean...</td>\n    </tr>\n  </tbody>\n</table>\n<p>8628 rows × 7 columns</p>\n</div>"
     },
     "execution_count": 5,
     "metadata": {},
     "output_type": "execute_result"
    }
   ],
   "source": [
    "df = pd.concat([df_train, df_dev, df_test])\n",
    "df"
   ],
   "metadata": {
    "collapsed": false,
    "ExecuteTime": {
     "start_time": "2023-04-30T11:43:41.469578Z",
     "end_time": "2023-04-30T11:43:41.529677Z"
    }
   }
  },
  {
   "cell_type": "markdown",
   "source": [
    "## Data cleaning"
   ],
   "metadata": {
    "collapsed": false
   }
  },
  {
   "cell_type": "markdown",
   "source": [
    "Check for the presence of null values:"
   ],
   "metadata": {
    "collapsed": false
   }
  },
  {
   "cell_type": "code",
   "execution_count": 6,
   "outputs": [
    {
     "name": "stdout",
     "output_type": "stream",
     "text": [
      "<class 'pandas.core.frame.DataFrame'>\n",
      "Index: 8628 entries, 0 to 1378\n",
      "Data columns (total 7 columns):\n",
      " #   Column     Non-Null Count  Dtype  \n",
      "---  ------     --------------  -----  \n",
      " 0   genre      8628 non-null   object \n",
      " 1   file       8628 non-null   object \n",
      " 2   year       8628 non-null   object \n",
      " 3   index      8628 non-null   int64  \n",
      " 4   score      8628 non-null   float64\n",
      " 5   sentence1  8628 non-null   object \n",
      " 6   sentence2  8628 non-null   object \n",
      "dtypes: float64(1), int64(1), object(5)\n",
      "memory usage: 539.2+ KB\n"
     ]
    }
   ],
   "source": [
    "df.info()"
   ],
   "metadata": {
    "collapsed": false,
    "ExecuteTime": {
     "start_time": "2023-04-30T11:43:41.501113Z",
     "end_time": "2023-04-30T11:43:41.620777Z"
    }
   }
  },
  {
   "cell_type": "markdown",
   "source": [
    "There are no null values."
   ],
   "metadata": {
    "collapsed": false
   }
  },
  {
   "cell_type": "code",
   "execution_count": 7,
   "outputs": [
    {
     "data": {
      "text/plain": "genre\nmain-news        4299\nmain-captions    3250\nmain-forums       629\nmain-forum        450\nName: count, dtype: int64"
     },
     "execution_count": 7,
     "metadata": {},
     "output_type": "execute_result"
    }
   ],
   "source": [
    "df['genre'].value_counts()"
   ],
   "metadata": {
    "collapsed": false,
    "ExecuteTime": {
     "start_time": "2023-04-30T11:43:41.531671Z",
     "end_time": "2023-04-30T11:43:41.621760Z"
    }
   }
  },
  {
   "cell_type": "code",
   "execution_count": 8,
   "outputs": [],
   "source": [
    "df['genre'] = df['genre'].replace('main-', '', regex=True)\n",
    "df['genre'] = df['genre'].replace('forum', 'forums')"
   ],
   "metadata": {
    "collapsed": false,
    "ExecuteTime": {
     "start_time": "2023-04-30T11:43:41.548702Z",
     "end_time": "2023-04-30T11:43:41.697926Z"
    }
   }
  },
  {
   "cell_type": "code",
   "execution_count": 9,
   "outputs": [
    {
     "data": {
      "text/plain": "genre\nnews        4299\ncaptions    3250\nforums      1079\nName: count, dtype: int64"
     },
     "execution_count": 9,
     "metadata": {},
     "output_type": "execute_result"
    }
   ],
   "source": [
    "df['genre'].value_counts()"
   ],
   "metadata": {
    "collapsed": false,
    "ExecuteTime": {
     "start_time": "2023-04-30T11:43:41.563719Z",
     "end_time": "2023-04-30T11:43:41.724911Z"
    }
   }
  },
  {
   "cell_type": "code",
   "execution_count": 10,
   "outputs": [
    {
     "data": {
      "text/plain": "year\n2014         2250\n2015         1875\n2012test     1500\n2012train    1500\n2013          750\n2016          503\n2017          250\nName: count, dtype: int64"
     },
     "execution_count": 10,
     "metadata": {},
     "output_type": "execute_result"
    }
   ],
   "source": [
    "df['year'].value_counts()"
   ],
   "metadata": {
    "collapsed": false,
    "ExecuteTime": {
     "start_time": "2023-04-30T11:43:41.580921Z",
     "end_time": "2023-04-30T11:43:41.725424Z"
    }
   }
  },
  {
   "cell_type": "code",
   "execution_count": 11,
   "outputs": [],
   "source": [
    "# Remove everything in this column which is not a number\n",
    "df['year'] = df['year'].replace(r'\\D', '', regex=True)"
   ],
   "metadata": {
    "collapsed": false,
    "ExecuteTime": {
     "start_time": "2023-04-30T11:43:41.592024Z",
     "end_time": "2023-04-30T11:43:41.725424Z"
    }
   }
  },
  {
   "cell_type": "code",
   "execution_count": 12,
   "outputs": [
    {
     "data": {
      "text/plain": "year\n2012    3000\n2014    2250\n2015    1875\n2013     750\n2016     503\n2017     250\nName: count, dtype: int64"
     },
     "execution_count": 12,
     "metadata": {},
     "output_type": "execute_result"
    }
   ],
   "source": [
    "df['year'].value_counts()"
   ],
   "metadata": {
    "collapsed": false,
    "ExecuteTime": {
     "start_time": "2023-04-30T11:43:41.608868Z",
     "end_time": "2023-04-30T11:43:41.725424Z"
    }
   }
  }
 ],
 "metadata": {
  "kernelspec": {
   "display_name": "Python 3",
   "language": "python",
   "name": "python3"
  },
  "language_info": {
   "codemirror_mode": {
    "name": "ipython",
    "version": 2
   },
   "file_extension": ".py",
   "mimetype": "text/x-python",
   "name": "python",
   "nbconvert_exporter": "python",
   "pygments_lexer": "ipython2",
   "version": "2.7.6"
  }
 },
 "nbformat": 4,
 "nbformat_minor": 0
}
