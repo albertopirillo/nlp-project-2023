{
 "cells": [
  {
   "cell_type": "markdown",
   "source": [
    "# Exploratory Data Analysis"
   ],
   "metadata": {
    "collapsed": false
   }
  },
  {
   "cell_type": "code",
   "execution_count": 1,
   "outputs": [],
   "source": [
    "import csv\n",
    "import pandas as pd"
   ],
   "metadata": {
    "collapsed": false,
    "ExecuteTime": {
     "start_time": "2023-04-27T15:58:49.815275Z",
     "end_time": "2023-04-27T15:58:50.220772Z"
    }
   }
  },
  {
   "cell_type": "code",
   "execution_count": 14,
   "outputs": [],
   "source": [
    "path = 'data/sts-train.csv'"
   ],
   "metadata": {
    "collapsed": false,
    "ExecuteTime": {
     "start_time": "2023-04-27T15:59:02.899741Z",
     "end_time": "2023-04-27T15:59:02.925012Z"
    }
   }
  },
  {
   "cell_type": "code",
   "execution_count": 15,
   "outputs": [],
   "source": [
    "columns=['genre', 'file', 'year', 'index', 'score', 'sentence1', 'sentence2']"
   ],
   "metadata": {
    "collapsed": false,
    "ExecuteTime": {
     "start_time": "2023-04-27T15:59:03.100756Z",
     "end_time": "2023-04-27T15:59:03.121900Z"
    }
   }
  },
  {
   "cell_type": "code",
   "execution_count": 16,
   "outputs": [],
   "source": [
    "df = pd.read_csv(path, sep='\\t', usecols=range(7), header=None, quoting=csv.QUOTE_NONE, names=columns, encoding='UTF-8')"
   ],
   "metadata": {
    "collapsed": false,
    "ExecuteTime": {
     "start_time": "2023-04-27T15:59:03.280523Z",
     "end_time": "2023-04-27T15:59:03.300353Z"
    }
   }
  },
  {
   "cell_type": "code",
   "execution_count": 17,
   "outputs": [
    {
     "data": {
      "text/plain": "              genre       file      year  index  score   \n0     main-captions     MSRvid  2012test      1   5.00  \\\n1     main-captions     MSRvid  2012test      4   3.80   \n2     main-captions     MSRvid  2012test      5   3.80   \n3     main-captions     MSRvid  2012test      6   2.60   \n4     main-captions     MSRvid  2012test      9   4.25   \n...             ...        ...       ...    ...    ...   \n5744      main-news  headlines      2016   1456   0.00   \n5745      main-news  headlines      2016   1465   0.00   \n5746      main-news  headlines      2016   1466   0.00   \n5747      main-news  headlines      2016   1470   0.00   \n5748      main-news  headlines      2016   1492   0.00   \n\n                                              sentence1   \n0                                A plane is taking off.  \\\n1                       A man is playing a large flute.   \n2         A man is spreading shreded cheese on a pizza.   \n3                          Three men are playing chess.   \n4                           A man is playing the cello.   \n...                                                 ...   \n5744         Severe Gales As Storm Clodagh Hits Britain   \n5745  Dozens of Egyptians hostages taken by Libyan t...   \n5746                       President heading to Bahrain   \n5747         China, India vow to further bilateral ties   \n5748   Putin spokesman: Doping charges appear unfounded   \n\n                                              sentence2  \n0                           An air plane is taking off.  \n1                             A man is playing a flute.  \n2     A man is spreading shredded cheese on an uncoo...  \n3                            Two men are playing chess.  \n4                    A man seated is playing the cello.  \n...                                                 ...  \n5744         Merkel pledges NATO solidarity with Latvia  \n5745  Egyptian boat crash death toll rises as more b...  \n5746  President Xi: China to continue help to fight ...  \n5747  China Scrambles to Reassure Jittery Stock Traders  \n5748  The Latest on Severe Weather: 1 Dead in Texas ...  \n\n[5749 rows x 7 columns]",
      "text/html": "<div>\n<style scoped>\n    .dataframe tbody tr th:only-of-type {\n        vertical-align: middle;\n    }\n\n    .dataframe tbody tr th {\n        vertical-align: top;\n    }\n\n    .dataframe thead th {\n        text-align: right;\n    }\n</style>\n<table border=\"1\" class=\"dataframe\">\n  <thead>\n    <tr style=\"text-align: right;\">\n      <th></th>\n      <th>genre</th>\n      <th>file</th>\n      <th>year</th>\n      <th>index</th>\n      <th>score</th>\n      <th>sentence1</th>\n      <th>sentence2</th>\n    </tr>\n  </thead>\n  <tbody>\n    <tr>\n      <th>0</th>\n      <td>main-captions</td>\n      <td>MSRvid</td>\n      <td>2012test</td>\n      <td>1</td>\n      <td>5.00</td>\n      <td>A plane is taking off.</td>\n      <td>An air plane is taking off.</td>\n    </tr>\n    <tr>\n      <th>1</th>\n      <td>main-captions</td>\n      <td>MSRvid</td>\n      <td>2012test</td>\n      <td>4</td>\n      <td>3.80</td>\n      <td>A man is playing a large flute.</td>\n      <td>A man is playing a flute.</td>\n    </tr>\n    <tr>\n      <th>2</th>\n      <td>main-captions</td>\n      <td>MSRvid</td>\n      <td>2012test</td>\n      <td>5</td>\n      <td>3.80</td>\n      <td>A man is spreading shreded cheese on a pizza.</td>\n      <td>A man is spreading shredded cheese on an uncoo...</td>\n    </tr>\n    <tr>\n      <th>3</th>\n      <td>main-captions</td>\n      <td>MSRvid</td>\n      <td>2012test</td>\n      <td>6</td>\n      <td>2.60</td>\n      <td>Three men are playing chess.</td>\n      <td>Two men are playing chess.</td>\n    </tr>\n    <tr>\n      <th>4</th>\n      <td>main-captions</td>\n      <td>MSRvid</td>\n      <td>2012test</td>\n      <td>9</td>\n      <td>4.25</td>\n      <td>A man is playing the cello.</td>\n      <td>A man seated is playing the cello.</td>\n    </tr>\n    <tr>\n      <th>...</th>\n      <td>...</td>\n      <td>...</td>\n      <td>...</td>\n      <td>...</td>\n      <td>...</td>\n      <td>...</td>\n      <td>...</td>\n    </tr>\n    <tr>\n      <th>5744</th>\n      <td>main-news</td>\n      <td>headlines</td>\n      <td>2016</td>\n      <td>1456</td>\n      <td>0.00</td>\n      <td>Severe Gales As Storm Clodagh Hits Britain</td>\n      <td>Merkel pledges NATO solidarity with Latvia</td>\n    </tr>\n    <tr>\n      <th>5745</th>\n      <td>main-news</td>\n      <td>headlines</td>\n      <td>2016</td>\n      <td>1465</td>\n      <td>0.00</td>\n      <td>Dozens of Egyptians hostages taken by Libyan t...</td>\n      <td>Egyptian boat crash death toll rises as more b...</td>\n    </tr>\n    <tr>\n      <th>5746</th>\n      <td>main-news</td>\n      <td>headlines</td>\n      <td>2016</td>\n      <td>1466</td>\n      <td>0.00</td>\n      <td>President heading to Bahrain</td>\n      <td>President Xi: China to continue help to fight ...</td>\n    </tr>\n    <tr>\n      <th>5747</th>\n      <td>main-news</td>\n      <td>headlines</td>\n      <td>2016</td>\n      <td>1470</td>\n      <td>0.00</td>\n      <td>China, India vow to further bilateral ties</td>\n      <td>China Scrambles to Reassure Jittery Stock Traders</td>\n    </tr>\n    <tr>\n      <th>5748</th>\n      <td>main-news</td>\n      <td>headlines</td>\n      <td>2016</td>\n      <td>1492</td>\n      <td>0.00</td>\n      <td>Putin spokesman: Doping charges appear unfounded</td>\n      <td>The Latest on Severe Weather: 1 Dead in Texas ...</td>\n    </tr>\n  </tbody>\n</table>\n<p>5749 rows × 7 columns</p>\n</div>"
     },
     "execution_count": 17,
     "metadata": {},
     "output_type": "execute_result"
    }
   ],
   "source": [
    "df"
   ],
   "metadata": {
    "collapsed": false,
    "ExecuteTime": {
     "start_time": "2023-04-27T15:59:03.650449Z",
     "end_time": "2023-04-27T15:59:03.670189Z"
    }
   }
  },
  {
   "cell_type": "code",
   "execution_count": null,
   "outputs": [],
   "source": [],
   "metadata": {
    "collapsed": false
   }
  }
 ],
 "metadata": {
  "kernelspec": {
   "display_name": "Python 3",
   "language": "python",
   "name": "python3"
  },
  "language_info": {
   "codemirror_mode": {
    "name": "ipython",
    "version": 2
   },
   "file_extension": ".py",
   "mimetype": "text/x-python",
   "name": "python",
   "nbconvert_exporter": "python",
   "pygments_lexer": "ipython2",
   "version": "2.7.6"
  }
 },
 "nbformat": 4,
 "nbformat_minor": 0
}
