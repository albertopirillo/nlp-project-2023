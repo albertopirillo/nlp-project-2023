{
  "nbformat": 4,
  "nbformat_minor": 0,
  "metadata": {
    "colab": {
      "provenance": []
    },
    "kernelspec": {
      "name": "python3",
      "display_name": "Python 3"
    },
    "language_info": {
      "name": "python"
    },
    "widgets": {
      "application/vnd.jupyter.widget-state+json": {
        "7b9a1a6843294a91912e8878dc242cc5": {
          "model_module": "@jupyter-widgets/controls",
          "model_name": "HBoxModel",
          "model_module_version": "1.5.0",
          "state": {
            "_dom_classes": [],
            "_model_module": "@jupyter-widgets/controls",
            "_model_module_version": "1.5.0",
            "_model_name": "HBoxModel",
            "_view_count": null,
            "_view_module": "@jupyter-widgets/controls",
            "_view_module_version": "1.5.0",
            "_view_name": "HBoxView",
            "box_style": "",
            "children": [
              "IPY_MODEL_69f1bbc12c67401e908bfd89d7779521",
              "IPY_MODEL_c52ce5f2a8a645a491e2fffdf691e32f",
              "IPY_MODEL_fffe610e72a14d6595977df012f4f666"
            ],
            "layout": "IPY_MODEL_604c12b904c54cc08490aceebb37773e"
          }
        },
        "69f1bbc12c67401e908bfd89d7779521": {
          "model_module": "@jupyter-widgets/controls",
          "model_name": "HTMLModel",
          "model_module_version": "1.5.0",
          "state": {
            "_dom_classes": [],
            "_model_module": "@jupyter-widgets/controls",
            "_model_module_version": "1.5.0",
            "_model_name": "HTMLModel",
            "_view_count": null,
            "_view_module": "@jupyter-widgets/controls",
            "_view_module_version": "1.5.0",
            "_view_name": "HTMLView",
            "description": "",
            "description_tooltip": null,
            "layout": "IPY_MODEL_dcb091f7726b402883b1ab9a33024d1f",
            "placeholder": "​",
            "style": "IPY_MODEL_006df4d80d2e47939098a5f826db8bae",
            "value": "Downloading (…)a8e1d/.gitattributes: 100%"
          }
        },
        "c52ce5f2a8a645a491e2fffdf691e32f": {
          "model_module": "@jupyter-widgets/controls",
          "model_name": "FloatProgressModel",
          "model_module_version": "1.5.0",
          "state": {
            "_dom_classes": [],
            "_model_module": "@jupyter-widgets/controls",
            "_model_module_version": "1.5.0",
            "_model_name": "FloatProgressModel",
            "_view_count": null,
            "_view_module": "@jupyter-widgets/controls",
            "_view_module_version": "1.5.0",
            "_view_name": "ProgressView",
            "bar_style": "success",
            "description": "",
            "description_tooltip": null,
            "layout": "IPY_MODEL_b900289daba048bd81ccfce38ae8380b",
            "max": 1175,
            "min": 0,
            "orientation": "horizontal",
            "style": "IPY_MODEL_c922858575dd45ae9753a5dafee596fc",
            "value": 1175
          }
        },
        "fffe610e72a14d6595977df012f4f666": {
          "model_module": "@jupyter-widgets/controls",
          "model_name": "HTMLModel",
          "model_module_version": "1.5.0",
          "state": {
            "_dom_classes": [],
            "_model_module": "@jupyter-widgets/controls",
            "_model_module_version": "1.5.0",
            "_model_name": "HTMLModel",
            "_view_count": null,
            "_view_module": "@jupyter-widgets/controls",
            "_view_module_version": "1.5.0",
            "_view_name": "HTMLView",
            "description": "",
            "description_tooltip": null,
            "layout": "IPY_MODEL_6910e164c38147c987634fbc26c7aef5",
            "placeholder": "​",
            "style": "IPY_MODEL_66adbf3c934a4a79984627566883bc1e",
            "value": " 1.18k/1.18k [00:00&lt;00:00, 17.6kB/s]"
          }
        },
        "604c12b904c54cc08490aceebb37773e": {
          "model_module": "@jupyter-widgets/base",
          "model_name": "LayoutModel",
          "model_module_version": "1.2.0",
          "state": {
            "_model_module": "@jupyter-widgets/base",
            "_model_module_version": "1.2.0",
            "_model_name": "LayoutModel",
            "_view_count": null,
            "_view_module": "@jupyter-widgets/base",
            "_view_module_version": "1.2.0",
            "_view_name": "LayoutView",
            "align_content": null,
            "align_items": null,
            "align_self": null,
            "border": null,
            "bottom": null,
            "display": null,
            "flex": null,
            "flex_flow": null,
            "grid_area": null,
            "grid_auto_columns": null,
            "grid_auto_flow": null,
            "grid_auto_rows": null,
            "grid_column": null,
            "grid_gap": null,
            "grid_row": null,
            "grid_template_areas": null,
            "grid_template_columns": null,
            "grid_template_rows": null,
            "height": null,
            "justify_content": null,
            "justify_items": null,
            "left": null,
            "margin": null,
            "max_height": null,
            "max_width": null,
            "min_height": null,
            "min_width": null,
            "object_fit": null,
            "object_position": null,
            "order": null,
            "overflow": null,
            "overflow_x": null,
            "overflow_y": null,
            "padding": null,
            "right": null,
            "top": null,
            "visibility": null,
            "width": null
          }
        },
        "dcb091f7726b402883b1ab9a33024d1f": {
          "model_module": "@jupyter-widgets/base",
          "model_name": "LayoutModel",
          "model_module_version": "1.2.0",
          "state": {
            "_model_module": "@jupyter-widgets/base",
            "_model_module_version": "1.2.0",
            "_model_name": "LayoutModel",
            "_view_count": null,
            "_view_module": "@jupyter-widgets/base",
            "_view_module_version": "1.2.0",
            "_view_name": "LayoutView",
            "align_content": null,
            "align_items": null,
            "align_self": null,
            "border": null,
            "bottom": null,
            "display": null,
            "flex": null,
            "flex_flow": null,
            "grid_area": null,
            "grid_auto_columns": null,
            "grid_auto_flow": null,
            "grid_auto_rows": null,
            "grid_column": null,
            "grid_gap": null,
            "grid_row": null,
            "grid_template_areas": null,
            "grid_template_columns": null,
            "grid_template_rows": null,
            "height": null,
            "justify_content": null,
            "justify_items": null,
            "left": null,
            "margin": null,
            "max_height": null,
            "max_width": null,
            "min_height": null,
            "min_width": null,
            "object_fit": null,
            "object_position": null,
            "order": null,
            "overflow": null,
            "overflow_x": null,
            "overflow_y": null,
            "padding": null,
            "right": null,
            "top": null,
            "visibility": null,
            "width": null
          }
        },
        "006df4d80d2e47939098a5f826db8bae": {
          "model_module": "@jupyter-widgets/controls",
          "model_name": "DescriptionStyleModel",
          "model_module_version": "1.5.0",
          "state": {
            "_model_module": "@jupyter-widgets/controls",
            "_model_module_version": "1.5.0",
            "_model_name": "DescriptionStyleModel",
            "_view_count": null,
            "_view_module": "@jupyter-widgets/base",
            "_view_module_version": "1.2.0",
            "_view_name": "StyleView",
            "description_width": ""
          }
        },
        "b900289daba048bd81ccfce38ae8380b": {
          "model_module": "@jupyter-widgets/base",
          "model_name": "LayoutModel",
          "model_module_version": "1.2.0",
          "state": {
            "_model_module": "@jupyter-widgets/base",
            "_model_module_version": "1.2.0",
            "_model_name": "LayoutModel",
            "_view_count": null,
            "_view_module": "@jupyter-widgets/base",
            "_view_module_version": "1.2.0",
            "_view_name": "LayoutView",
            "align_content": null,
            "align_items": null,
            "align_self": null,
            "border": null,
            "bottom": null,
            "display": null,
            "flex": null,
            "flex_flow": null,
            "grid_area": null,
            "grid_auto_columns": null,
            "grid_auto_flow": null,
            "grid_auto_rows": null,
            "grid_column": null,
            "grid_gap": null,
            "grid_row": null,
            "grid_template_areas": null,
            "grid_template_columns": null,
            "grid_template_rows": null,
            "height": null,
            "justify_content": null,
            "justify_items": null,
            "left": null,
            "margin": null,
            "max_height": null,
            "max_width": null,
            "min_height": null,
            "min_width": null,
            "object_fit": null,
            "object_position": null,
            "order": null,
            "overflow": null,
            "overflow_x": null,
            "overflow_y": null,
            "padding": null,
            "right": null,
            "top": null,
            "visibility": null,
            "width": null
          }
        },
        "c922858575dd45ae9753a5dafee596fc": {
          "model_module": "@jupyter-widgets/controls",
          "model_name": "ProgressStyleModel",
          "model_module_version": "1.5.0",
          "state": {
            "_model_module": "@jupyter-widgets/controls",
            "_model_module_version": "1.5.0",
            "_model_name": "ProgressStyleModel",
            "_view_count": null,
            "_view_module": "@jupyter-widgets/base",
            "_view_module_version": "1.2.0",
            "_view_name": "StyleView",
            "bar_color": null,
            "description_width": ""
          }
        },
        "6910e164c38147c987634fbc26c7aef5": {
          "model_module": "@jupyter-widgets/base",
          "model_name": "LayoutModel",
          "model_module_version": "1.2.0",
          "state": {
            "_model_module": "@jupyter-widgets/base",
            "_model_module_version": "1.2.0",
            "_model_name": "LayoutModel",
            "_view_count": null,
            "_view_module": "@jupyter-widgets/base",
            "_view_module_version": "1.2.0",
            "_view_name": "LayoutView",
            "align_content": null,
            "align_items": null,
            "align_self": null,
            "border": null,
            "bottom": null,
            "display": null,
            "flex": null,
            "flex_flow": null,
            "grid_area": null,
            "grid_auto_columns": null,
            "grid_auto_flow": null,
            "grid_auto_rows": null,
            "grid_column": null,
            "grid_gap": null,
            "grid_row": null,
            "grid_template_areas": null,
            "grid_template_columns": null,
            "grid_template_rows": null,
            "height": null,
            "justify_content": null,
            "justify_items": null,
            "left": null,
            "margin": null,
            "max_height": null,
            "max_width": null,
            "min_height": null,
            "min_width": null,
            "object_fit": null,
            "object_position": null,
            "order": null,
            "overflow": null,
            "overflow_x": null,
            "overflow_y": null,
            "padding": null,
            "right": null,
            "top": null,
            "visibility": null,
            "width": null
          }
        },
        "66adbf3c934a4a79984627566883bc1e": {
          "model_module": "@jupyter-widgets/controls",
          "model_name": "DescriptionStyleModel",
          "model_module_version": "1.5.0",
          "state": {
            "_model_module": "@jupyter-widgets/controls",
            "_model_module_version": "1.5.0",
            "_model_name": "DescriptionStyleModel",
            "_view_count": null,
            "_view_module": "@jupyter-widgets/base",
            "_view_module_version": "1.2.0",
            "_view_name": "StyleView",
            "description_width": ""
          }
        },
        "cd98f21b86174440a1d8d000100c9cd3": {
          "model_module": "@jupyter-widgets/controls",
          "model_name": "HBoxModel",
          "model_module_version": "1.5.0",
          "state": {
            "_dom_classes": [],
            "_model_module": "@jupyter-widgets/controls",
            "_model_module_version": "1.5.0",
            "_model_name": "HBoxModel",
            "_view_count": null,
            "_view_module": "@jupyter-widgets/controls",
            "_view_module_version": "1.5.0",
            "_view_name": "HBoxView",
            "box_style": "",
            "children": [
              "IPY_MODEL_fded9dfbdf0d4c0da304b86e4cd5265c",
              "IPY_MODEL_2c36567523b743fda45ad89c486bf2ed",
              "IPY_MODEL_f9ebef7e849b477491f8b153a692f8d1"
            ],
            "layout": "IPY_MODEL_08248a7113504bd1a4bbe892978f5a18"
          }
        },
        "fded9dfbdf0d4c0da304b86e4cd5265c": {
          "model_module": "@jupyter-widgets/controls",
          "model_name": "HTMLModel",
          "model_module_version": "1.5.0",
          "state": {
            "_dom_classes": [],
            "_model_module": "@jupyter-widgets/controls",
            "_model_module_version": "1.5.0",
            "_model_name": "HTMLModel",
            "_view_count": null,
            "_view_module": "@jupyter-widgets/controls",
            "_view_module_version": "1.5.0",
            "_view_name": "HTMLView",
            "description": "",
            "description_tooltip": null,
            "layout": "IPY_MODEL_23d6708f344243369d748593a1b99ec1",
            "placeholder": "​",
            "style": "IPY_MODEL_cbe2a41642ce431595b67e1f05344523",
            "value": "Downloading (…)_Pooling/config.json: 100%"
          }
        },
        "2c36567523b743fda45ad89c486bf2ed": {
          "model_module": "@jupyter-widgets/controls",
          "model_name": "FloatProgressModel",
          "model_module_version": "1.5.0",
          "state": {
            "_dom_classes": [],
            "_model_module": "@jupyter-widgets/controls",
            "_model_module_version": "1.5.0",
            "_model_name": "FloatProgressModel",
            "_view_count": null,
            "_view_module": "@jupyter-widgets/controls",
            "_view_module_version": "1.5.0",
            "_view_name": "ProgressView",
            "bar_style": "success",
            "description": "",
            "description_tooltip": null,
            "layout": "IPY_MODEL_fc487f4668c44610895bf5e1e36b6584",
            "max": 190,
            "min": 0,
            "orientation": "horizontal",
            "style": "IPY_MODEL_518572c97e88414a9f7a4c6935289be8",
            "value": 190
          }
        },
        "f9ebef7e849b477491f8b153a692f8d1": {
          "model_module": "@jupyter-widgets/controls",
          "model_name": "HTMLModel",
          "model_module_version": "1.5.0",
          "state": {
            "_dom_classes": [],
            "_model_module": "@jupyter-widgets/controls",
            "_model_module_version": "1.5.0",
            "_model_name": "HTMLModel",
            "_view_count": null,
            "_view_module": "@jupyter-widgets/controls",
            "_view_module_version": "1.5.0",
            "_view_name": "HTMLView",
            "description": "",
            "description_tooltip": null,
            "layout": "IPY_MODEL_4c17aa9495bd457bbdc62f603c8e8fa6",
            "placeholder": "​",
            "style": "IPY_MODEL_a26271196ea34277bde9e9ec44731098",
            "value": " 190/190 [00:00&lt;00:00, 1.96kB/s]"
          }
        },
        "08248a7113504bd1a4bbe892978f5a18": {
          "model_module": "@jupyter-widgets/base",
          "model_name": "LayoutModel",
          "model_module_version": "1.2.0",
          "state": {
            "_model_module": "@jupyter-widgets/base",
            "_model_module_version": "1.2.0",
            "_model_name": "LayoutModel",
            "_view_count": null,
            "_view_module": "@jupyter-widgets/base",
            "_view_module_version": "1.2.0",
            "_view_name": "LayoutView",
            "align_content": null,
            "align_items": null,
            "align_self": null,
            "border": null,
            "bottom": null,
            "display": null,
            "flex": null,
            "flex_flow": null,
            "grid_area": null,
            "grid_auto_columns": null,
            "grid_auto_flow": null,
            "grid_auto_rows": null,
            "grid_column": null,
            "grid_gap": null,
            "grid_row": null,
            "grid_template_areas": null,
            "grid_template_columns": null,
            "grid_template_rows": null,
            "height": null,
            "justify_content": null,
            "justify_items": null,
            "left": null,
            "margin": null,
            "max_height": null,
            "max_width": null,
            "min_height": null,
            "min_width": null,
            "object_fit": null,
            "object_position": null,
            "order": null,
            "overflow": null,
            "overflow_x": null,
            "overflow_y": null,
            "padding": null,
            "right": null,
            "top": null,
            "visibility": null,
            "width": null
          }
        },
        "23d6708f344243369d748593a1b99ec1": {
          "model_module": "@jupyter-widgets/base",
          "model_name": "LayoutModel",
          "model_module_version": "1.2.0",
          "state": {
            "_model_module": "@jupyter-widgets/base",
            "_model_module_version": "1.2.0",
            "_model_name": "LayoutModel",
            "_view_count": null,
            "_view_module": "@jupyter-widgets/base",
            "_view_module_version": "1.2.0",
            "_view_name": "LayoutView",
            "align_content": null,
            "align_items": null,
            "align_self": null,
            "border": null,
            "bottom": null,
            "display": null,
            "flex": null,
            "flex_flow": null,
            "grid_area": null,
            "grid_auto_columns": null,
            "grid_auto_flow": null,
            "grid_auto_rows": null,
            "grid_column": null,
            "grid_gap": null,
            "grid_row": null,
            "grid_template_areas": null,
            "grid_template_columns": null,
            "grid_template_rows": null,
            "height": null,
            "justify_content": null,
            "justify_items": null,
            "left": null,
            "margin": null,
            "max_height": null,
            "max_width": null,
            "min_height": null,
            "min_width": null,
            "object_fit": null,
            "object_position": null,
            "order": null,
            "overflow": null,
            "overflow_x": null,
            "overflow_y": null,
            "padding": null,
            "right": null,
            "top": null,
            "visibility": null,
            "width": null
          }
        },
        "cbe2a41642ce431595b67e1f05344523": {
          "model_module": "@jupyter-widgets/controls",
          "model_name": "DescriptionStyleModel",
          "model_module_version": "1.5.0",
          "state": {
            "_model_module": "@jupyter-widgets/controls",
            "_model_module_version": "1.5.0",
            "_model_name": "DescriptionStyleModel",
            "_view_count": null,
            "_view_module": "@jupyter-widgets/base",
            "_view_module_version": "1.2.0",
            "_view_name": "StyleView",
            "description_width": ""
          }
        },
        "fc487f4668c44610895bf5e1e36b6584": {
          "model_module": "@jupyter-widgets/base",
          "model_name": "LayoutModel",
          "model_module_version": "1.2.0",
          "state": {
            "_model_module": "@jupyter-widgets/base",
            "_model_module_version": "1.2.0",
            "_model_name": "LayoutModel",
            "_view_count": null,
            "_view_module": "@jupyter-widgets/base",
            "_view_module_version": "1.2.0",
            "_view_name": "LayoutView",
            "align_content": null,
            "align_items": null,
            "align_self": null,
            "border": null,
            "bottom": null,
            "display": null,
            "flex": null,
            "flex_flow": null,
            "grid_area": null,
            "grid_auto_columns": null,
            "grid_auto_flow": null,
            "grid_auto_rows": null,
            "grid_column": null,
            "grid_gap": null,
            "grid_row": null,
            "grid_template_areas": null,
            "grid_template_columns": null,
            "grid_template_rows": null,
            "height": null,
            "justify_content": null,
            "justify_items": null,
            "left": null,
            "margin": null,
            "max_height": null,
            "max_width": null,
            "min_height": null,
            "min_width": null,
            "object_fit": null,
            "object_position": null,
            "order": null,
            "overflow": null,
            "overflow_x": null,
            "overflow_y": null,
            "padding": null,
            "right": null,
            "top": null,
            "visibility": null,
            "width": null
          }
        },
        "518572c97e88414a9f7a4c6935289be8": {
          "model_module": "@jupyter-widgets/controls",
          "model_name": "ProgressStyleModel",
          "model_module_version": "1.5.0",
          "state": {
            "_model_module": "@jupyter-widgets/controls",
            "_model_module_version": "1.5.0",
            "_model_name": "ProgressStyleModel",
            "_view_count": null,
            "_view_module": "@jupyter-widgets/base",
            "_view_module_version": "1.2.0",
            "_view_name": "StyleView",
            "bar_color": null,
            "description_width": ""
          }
        },
        "4c17aa9495bd457bbdc62f603c8e8fa6": {
          "model_module": "@jupyter-widgets/base",
          "model_name": "LayoutModel",
          "model_module_version": "1.2.0",
          "state": {
            "_model_module": "@jupyter-widgets/base",
            "_model_module_version": "1.2.0",
            "_model_name": "LayoutModel",
            "_view_count": null,
            "_view_module": "@jupyter-widgets/base",
            "_view_module_version": "1.2.0",
            "_view_name": "LayoutView",
            "align_content": null,
            "align_items": null,
            "align_self": null,
            "border": null,
            "bottom": null,
            "display": null,
            "flex": null,
            "flex_flow": null,
            "grid_area": null,
            "grid_auto_columns": null,
            "grid_auto_flow": null,
            "grid_auto_rows": null,
            "grid_column": null,
            "grid_gap": null,
            "grid_row": null,
            "grid_template_areas": null,
            "grid_template_columns": null,
            "grid_template_rows": null,
            "height": null,
            "justify_content": null,
            "justify_items": null,
            "left": null,
            "margin": null,
            "max_height": null,
            "max_width": null,
            "min_height": null,
            "min_width": null,
            "object_fit": null,
            "object_position": null,
            "order": null,
            "overflow": null,
            "overflow_x": null,
            "overflow_y": null,
            "padding": null,
            "right": null,
            "top": null,
            "visibility": null,
            "width": null
          }
        },
        "a26271196ea34277bde9e9ec44731098": {
          "model_module": "@jupyter-widgets/controls",
          "model_name": "DescriptionStyleModel",
          "model_module_version": "1.5.0",
          "state": {
            "_model_module": "@jupyter-widgets/controls",
            "_model_module_version": "1.5.0",
            "_model_name": "DescriptionStyleModel",
            "_view_count": null,
            "_view_module": "@jupyter-widgets/base",
            "_view_module_version": "1.2.0",
            "_view_name": "StyleView",
            "description_width": ""
          }
        },
        "2920a8efad9e4f2389d46e6250d03b42": {
          "model_module": "@jupyter-widgets/controls",
          "model_name": "HBoxModel",
          "model_module_version": "1.5.0",
          "state": {
            "_dom_classes": [],
            "_model_module": "@jupyter-widgets/controls",
            "_model_module_version": "1.5.0",
            "_model_name": "HBoxModel",
            "_view_count": null,
            "_view_module": "@jupyter-widgets/controls",
            "_view_module_version": "1.5.0",
            "_view_name": "HBoxView",
            "box_style": "",
            "children": [
              "IPY_MODEL_7ddffc773f754eff9c8f8d6dc7491128",
              "IPY_MODEL_e2181deb2e0649869dcecf885f3ef423",
              "IPY_MODEL_de32d882d4a844d6901d77f2de21f6a2"
            ],
            "layout": "IPY_MODEL_b16cc8090b0b4c11b45e9df80d1260ef"
          }
        },
        "7ddffc773f754eff9c8f8d6dc7491128": {
          "model_module": "@jupyter-widgets/controls",
          "model_name": "HTMLModel",
          "model_module_version": "1.5.0",
          "state": {
            "_dom_classes": [],
            "_model_module": "@jupyter-widgets/controls",
            "_model_module_version": "1.5.0",
            "_model_name": "HTMLModel",
            "_view_count": null,
            "_view_module": "@jupyter-widgets/controls",
            "_view_module_version": "1.5.0",
            "_view_name": "HTMLView",
            "description": "",
            "description_tooltip": null,
            "layout": "IPY_MODEL_0d6b3384d122402c9312910da5cf48a5",
            "placeholder": "​",
            "style": "IPY_MODEL_4b466f43990645c186f6cb1461e96b68",
            "value": "Downloading (…)b20bca8e1d/README.md: 100%"
          }
        },
        "e2181deb2e0649869dcecf885f3ef423": {
          "model_module": "@jupyter-widgets/controls",
          "model_name": "FloatProgressModel",
          "model_module_version": "1.5.0",
          "state": {
            "_dom_classes": [],
            "_model_module": "@jupyter-widgets/controls",
            "_model_module_version": "1.5.0",
            "_model_name": "FloatProgressModel",
            "_view_count": null,
            "_view_module": "@jupyter-widgets/controls",
            "_view_module_version": "1.5.0",
            "_view_name": "ProgressView",
            "bar_style": "success",
            "description": "",
            "description_tooltip": null,
            "layout": "IPY_MODEL_19df706fe2ab429c96cd64a3065c2f73",
            "max": 10571,
            "min": 0,
            "orientation": "horizontal",
            "style": "IPY_MODEL_4de0fca51f6247618b216a524f467217",
            "value": 10571
          }
        },
        "de32d882d4a844d6901d77f2de21f6a2": {
          "model_module": "@jupyter-widgets/controls",
          "model_name": "HTMLModel",
          "model_module_version": "1.5.0",
          "state": {
            "_dom_classes": [],
            "_model_module": "@jupyter-widgets/controls",
            "_model_module_version": "1.5.0",
            "_model_name": "HTMLModel",
            "_view_count": null,
            "_view_module": "@jupyter-widgets/controls",
            "_view_module_version": "1.5.0",
            "_view_name": "HTMLView",
            "description": "",
            "description_tooltip": null,
            "layout": "IPY_MODEL_459e8d548f494300b61a147ac31a8609",
            "placeholder": "​",
            "style": "IPY_MODEL_f49c5a2744534e95a869ca020cbee5f5",
            "value": " 10.6k/10.6k [00:00&lt;00:00, 254kB/s]"
          }
        },
        "b16cc8090b0b4c11b45e9df80d1260ef": {
          "model_module": "@jupyter-widgets/base",
          "model_name": "LayoutModel",
          "model_module_version": "1.2.0",
          "state": {
            "_model_module": "@jupyter-widgets/base",
            "_model_module_version": "1.2.0",
            "_model_name": "LayoutModel",
            "_view_count": null,
            "_view_module": "@jupyter-widgets/base",
            "_view_module_version": "1.2.0",
            "_view_name": "LayoutView",
            "align_content": null,
            "align_items": null,
            "align_self": null,
            "border": null,
            "bottom": null,
            "display": null,
            "flex": null,
            "flex_flow": null,
            "grid_area": null,
            "grid_auto_columns": null,
            "grid_auto_flow": null,
            "grid_auto_rows": null,
            "grid_column": null,
            "grid_gap": null,
            "grid_row": null,
            "grid_template_areas": null,
            "grid_template_columns": null,
            "grid_template_rows": null,
            "height": null,
            "justify_content": null,
            "justify_items": null,
            "left": null,
            "margin": null,
            "max_height": null,
            "max_width": null,
            "min_height": null,
            "min_width": null,
            "object_fit": null,
            "object_position": null,
            "order": null,
            "overflow": null,
            "overflow_x": null,
            "overflow_y": null,
            "padding": null,
            "right": null,
            "top": null,
            "visibility": null,
            "width": null
          }
        },
        "0d6b3384d122402c9312910da5cf48a5": {
          "model_module": "@jupyter-widgets/base",
          "model_name": "LayoutModel",
          "model_module_version": "1.2.0",
          "state": {
            "_model_module": "@jupyter-widgets/base",
            "_model_module_version": "1.2.0",
            "_model_name": "LayoutModel",
            "_view_count": null,
            "_view_module": "@jupyter-widgets/base",
            "_view_module_version": "1.2.0",
            "_view_name": "LayoutView",
            "align_content": null,
            "align_items": null,
            "align_self": null,
            "border": null,
            "bottom": null,
            "display": null,
            "flex": null,
            "flex_flow": null,
            "grid_area": null,
            "grid_auto_columns": null,
            "grid_auto_flow": null,
            "grid_auto_rows": null,
            "grid_column": null,
            "grid_gap": null,
            "grid_row": null,
            "grid_template_areas": null,
            "grid_template_columns": null,
            "grid_template_rows": null,
            "height": null,
            "justify_content": null,
            "justify_items": null,
            "left": null,
            "margin": null,
            "max_height": null,
            "max_width": null,
            "min_height": null,
            "min_width": null,
            "object_fit": null,
            "object_position": null,
            "order": null,
            "overflow": null,
            "overflow_x": null,
            "overflow_y": null,
            "padding": null,
            "right": null,
            "top": null,
            "visibility": null,
            "width": null
          }
        },
        "4b466f43990645c186f6cb1461e96b68": {
          "model_module": "@jupyter-widgets/controls",
          "model_name": "DescriptionStyleModel",
          "model_module_version": "1.5.0",
          "state": {
            "_model_module": "@jupyter-widgets/controls",
            "_model_module_version": "1.5.0",
            "_model_name": "DescriptionStyleModel",
            "_view_count": null,
            "_view_module": "@jupyter-widgets/base",
            "_view_module_version": "1.2.0",
            "_view_name": "StyleView",
            "description_width": ""
          }
        },
        "19df706fe2ab429c96cd64a3065c2f73": {
          "model_module": "@jupyter-widgets/base",
          "model_name": "LayoutModel",
          "model_module_version": "1.2.0",
          "state": {
            "_model_module": "@jupyter-widgets/base",
            "_model_module_version": "1.2.0",
            "_model_name": "LayoutModel",
            "_view_count": null,
            "_view_module": "@jupyter-widgets/base",
            "_view_module_version": "1.2.0",
            "_view_name": "LayoutView",
            "align_content": null,
            "align_items": null,
            "align_self": null,
            "border": null,
            "bottom": null,
            "display": null,
            "flex": null,
            "flex_flow": null,
            "grid_area": null,
            "grid_auto_columns": null,
            "grid_auto_flow": null,
            "grid_auto_rows": null,
            "grid_column": null,
            "grid_gap": null,
            "grid_row": null,
            "grid_template_areas": null,
            "grid_template_columns": null,
            "grid_template_rows": null,
            "height": null,
            "justify_content": null,
            "justify_items": null,
            "left": null,
            "margin": null,
            "max_height": null,
            "max_width": null,
            "min_height": null,
            "min_width": null,
            "object_fit": null,
            "object_position": null,
            "order": null,
            "overflow": null,
            "overflow_x": null,
            "overflow_y": null,
            "padding": null,
            "right": null,
            "top": null,
            "visibility": null,
            "width": null
          }
        },
        "4de0fca51f6247618b216a524f467217": {
          "model_module": "@jupyter-widgets/controls",
          "model_name": "ProgressStyleModel",
          "model_module_version": "1.5.0",
          "state": {
            "_model_module": "@jupyter-widgets/controls",
            "_model_module_version": "1.5.0",
            "_model_name": "ProgressStyleModel",
            "_view_count": null,
            "_view_module": "@jupyter-widgets/base",
            "_view_module_version": "1.2.0",
            "_view_name": "StyleView",
            "bar_color": null,
            "description_width": ""
          }
        },
        "459e8d548f494300b61a147ac31a8609": {
          "model_module": "@jupyter-widgets/base",
          "model_name": "LayoutModel",
          "model_module_version": "1.2.0",
          "state": {
            "_model_module": "@jupyter-widgets/base",
            "_model_module_version": "1.2.0",
            "_model_name": "LayoutModel",
            "_view_count": null,
            "_view_module": "@jupyter-widgets/base",
            "_view_module_version": "1.2.0",
            "_view_name": "LayoutView",
            "align_content": null,
            "align_items": null,
            "align_self": null,
            "border": null,
            "bottom": null,
            "display": null,
            "flex": null,
            "flex_flow": null,
            "grid_area": null,
            "grid_auto_columns": null,
            "grid_auto_flow": null,
            "grid_auto_rows": null,
            "grid_column": null,
            "grid_gap": null,
            "grid_row": null,
            "grid_template_areas": null,
            "grid_template_columns": null,
            "grid_template_rows": null,
            "height": null,
            "justify_content": null,
            "justify_items": null,
            "left": null,
            "margin": null,
            "max_height": null,
            "max_width": null,
            "min_height": null,
            "min_width": null,
            "object_fit": null,
            "object_position": null,
            "order": null,
            "overflow": null,
            "overflow_x": null,
            "overflow_y": null,
            "padding": null,
            "right": null,
            "top": null,
            "visibility": null,
            "width": null
          }
        },
        "f49c5a2744534e95a869ca020cbee5f5": {
          "model_module": "@jupyter-widgets/controls",
          "model_name": "DescriptionStyleModel",
          "model_module_version": "1.5.0",
          "state": {
            "_model_module": "@jupyter-widgets/controls",
            "_model_module_version": "1.5.0",
            "_model_name": "DescriptionStyleModel",
            "_view_count": null,
            "_view_module": "@jupyter-widgets/base",
            "_view_module_version": "1.2.0",
            "_view_name": "StyleView",
            "description_width": ""
          }
        },
        "926ccda9bc22429b95cfdb70b85b43de": {
          "model_module": "@jupyter-widgets/controls",
          "model_name": "HBoxModel",
          "model_module_version": "1.5.0",
          "state": {
            "_dom_classes": [],
            "_model_module": "@jupyter-widgets/controls",
            "_model_module_version": "1.5.0",
            "_model_name": "HBoxModel",
            "_view_count": null,
            "_view_module": "@jupyter-widgets/controls",
            "_view_module_version": "1.5.0",
            "_view_name": "HBoxView",
            "box_style": "",
            "children": [
              "IPY_MODEL_678511a0b45d48ff8c6aaa6403c6a75a",
              "IPY_MODEL_ad3ea915b3c84625a747032931ea9f5a",
              "IPY_MODEL_726de75cb1bc4c14a53c7f56988e1695"
            ],
            "layout": "IPY_MODEL_a64000076ff749499c3a394e2b3a79ca"
          }
        },
        "678511a0b45d48ff8c6aaa6403c6a75a": {
          "model_module": "@jupyter-widgets/controls",
          "model_name": "HTMLModel",
          "model_module_version": "1.5.0",
          "state": {
            "_dom_classes": [],
            "_model_module": "@jupyter-widgets/controls",
            "_model_module_version": "1.5.0",
            "_model_name": "HTMLModel",
            "_view_count": null,
            "_view_module": "@jupyter-widgets/controls",
            "_view_module_version": "1.5.0",
            "_view_name": "HTMLView",
            "description": "",
            "description_tooltip": null,
            "layout": "IPY_MODEL_893ffc4030cb41f4bc4d8c4cc50ef350",
            "placeholder": "​",
            "style": "IPY_MODEL_652bf0a4fa6046c5940a82ee88df8b48",
            "value": "Downloading (…)0bca8e1d/config.json: 100%"
          }
        },
        "ad3ea915b3c84625a747032931ea9f5a": {
          "model_module": "@jupyter-widgets/controls",
          "model_name": "FloatProgressModel",
          "model_module_version": "1.5.0",
          "state": {
            "_dom_classes": [],
            "_model_module": "@jupyter-widgets/controls",
            "_model_module_version": "1.5.0",
            "_model_name": "FloatProgressModel",
            "_view_count": null,
            "_view_module": "@jupyter-widgets/controls",
            "_view_module_version": "1.5.0",
            "_view_name": "ProgressView",
            "bar_style": "success",
            "description": "",
            "description_tooltip": null,
            "layout": "IPY_MODEL_8d0f77ebd79847b4a7838834500e077c",
            "max": 571,
            "min": 0,
            "orientation": "horizontal",
            "style": "IPY_MODEL_2c45982040554ad9ac486ede2ea887c2",
            "value": 571
          }
        },
        "726de75cb1bc4c14a53c7f56988e1695": {
          "model_module": "@jupyter-widgets/controls",
          "model_name": "HTMLModel",
          "model_module_version": "1.5.0",
          "state": {
            "_dom_classes": [],
            "_model_module": "@jupyter-widgets/controls",
            "_model_module_version": "1.5.0",
            "_model_name": "HTMLModel",
            "_view_count": null,
            "_view_module": "@jupyter-widgets/controls",
            "_view_module_version": "1.5.0",
            "_view_name": "HTMLView",
            "description": "",
            "description_tooltip": null,
            "layout": "IPY_MODEL_436a39f89ca9475a8d1f58d350b8393c",
            "placeholder": "​",
            "style": "IPY_MODEL_a1c47696677e4536a8c085fbbc1d87a8",
            "value": " 571/571 [00:00&lt;00:00, 16.9kB/s]"
          }
        },
        "a64000076ff749499c3a394e2b3a79ca": {
          "model_module": "@jupyter-widgets/base",
          "model_name": "LayoutModel",
          "model_module_version": "1.2.0",
          "state": {
            "_model_module": "@jupyter-widgets/base",
            "_model_module_version": "1.2.0",
            "_model_name": "LayoutModel",
            "_view_count": null,
            "_view_module": "@jupyter-widgets/base",
            "_view_module_version": "1.2.0",
            "_view_name": "LayoutView",
            "align_content": null,
            "align_items": null,
            "align_self": null,
            "border": null,
            "bottom": null,
            "display": null,
            "flex": null,
            "flex_flow": null,
            "grid_area": null,
            "grid_auto_columns": null,
            "grid_auto_flow": null,
            "grid_auto_rows": null,
            "grid_column": null,
            "grid_gap": null,
            "grid_row": null,
            "grid_template_areas": null,
            "grid_template_columns": null,
            "grid_template_rows": null,
            "height": null,
            "justify_content": null,
            "justify_items": null,
            "left": null,
            "margin": null,
            "max_height": null,
            "max_width": null,
            "min_height": null,
            "min_width": null,
            "object_fit": null,
            "object_position": null,
            "order": null,
            "overflow": null,
            "overflow_x": null,
            "overflow_y": null,
            "padding": null,
            "right": null,
            "top": null,
            "visibility": null,
            "width": null
          }
        },
        "893ffc4030cb41f4bc4d8c4cc50ef350": {
          "model_module": "@jupyter-widgets/base",
          "model_name": "LayoutModel",
          "model_module_version": "1.2.0",
          "state": {
            "_model_module": "@jupyter-widgets/base",
            "_model_module_version": "1.2.0",
            "_model_name": "LayoutModel",
            "_view_count": null,
            "_view_module": "@jupyter-widgets/base",
            "_view_module_version": "1.2.0",
            "_view_name": "LayoutView",
            "align_content": null,
            "align_items": null,
            "align_self": null,
            "border": null,
            "bottom": null,
            "display": null,
            "flex": null,
            "flex_flow": null,
            "grid_area": null,
            "grid_auto_columns": null,
            "grid_auto_flow": null,
            "grid_auto_rows": null,
            "grid_column": null,
            "grid_gap": null,
            "grid_row": null,
            "grid_template_areas": null,
            "grid_template_columns": null,
            "grid_template_rows": null,
            "height": null,
            "justify_content": null,
            "justify_items": null,
            "left": null,
            "margin": null,
            "max_height": null,
            "max_width": null,
            "min_height": null,
            "min_width": null,
            "object_fit": null,
            "object_position": null,
            "order": null,
            "overflow": null,
            "overflow_x": null,
            "overflow_y": null,
            "padding": null,
            "right": null,
            "top": null,
            "visibility": null,
            "width": null
          }
        },
        "652bf0a4fa6046c5940a82ee88df8b48": {
          "model_module": "@jupyter-widgets/controls",
          "model_name": "DescriptionStyleModel",
          "model_module_version": "1.5.0",
          "state": {
            "_model_module": "@jupyter-widgets/controls",
            "_model_module_version": "1.5.0",
            "_model_name": "DescriptionStyleModel",
            "_view_count": null,
            "_view_module": "@jupyter-widgets/base",
            "_view_module_version": "1.2.0",
            "_view_name": "StyleView",
            "description_width": ""
          }
        },
        "8d0f77ebd79847b4a7838834500e077c": {
          "model_module": "@jupyter-widgets/base",
          "model_name": "LayoutModel",
          "model_module_version": "1.2.0",
          "state": {
            "_model_module": "@jupyter-widgets/base",
            "_model_module_version": "1.2.0",
            "_model_name": "LayoutModel",
            "_view_count": null,
            "_view_module": "@jupyter-widgets/base",
            "_view_module_version": "1.2.0",
            "_view_name": "LayoutView",
            "align_content": null,
            "align_items": null,
            "align_self": null,
            "border": null,
            "bottom": null,
            "display": null,
            "flex": null,
            "flex_flow": null,
            "grid_area": null,
            "grid_auto_columns": null,
            "grid_auto_flow": null,
            "grid_auto_rows": null,
            "grid_column": null,
            "grid_gap": null,
            "grid_row": null,
            "grid_template_areas": null,
            "grid_template_columns": null,
            "grid_template_rows": null,
            "height": null,
            "justify_content": null,
            "justify_items": null,
            "left": null,
            "margin": null,
            "max_height": null,
            "max_width": null,
            "min_height": null,
            "min_width": null,
            "object_fit": null,
            "object_position": null,
            "order": null,
            "overflow": null,
            "overflow_x": null,
            "overflow_y": null,
            "padding": null,
            "right": null,
            "top": null,
            "visibility": null,
            "width": null
          }
        },
        "2c45982040554ad9ac486ede2ea887c2": {
          "model_module": "@jupyter-widgets/controls",
          "model_name": "ProgressStyleModel",
          "model_module_version": "1.5.0",
          "state": {
            "_model_module": "@jupyter-widgets/controls",
            "_model_module_version": "1.5.0",
            "_model_name": "ProgressStyleModel",
            "_view_count": null,
            "_view_module": "@jupyter-widgets/base",
            "_view_module_version": "1.2.0",
            "_view_name": "StyleView",
            "bar_color": null,
            "description_width": ""
          }
        },
        "436a39f89ca9475a8d1f58d350b8393c": {
          "model_module": "@jupyter-widgets/base",
          "model_name": "LayoutModel",
          "model_module_version": "1.2.0",
          "state": {
            "_model_module": "@jupyter-widgets/base",
            "_model_module_version": "1.2.0",
            "_model_name": "LayoutModel",
            "_view_count": null,
            "_view_module": "@jupyter-widgets/base",
            "_view_module_version": "1.2.0",
            "_view_name": "LayoutView",
            "align_content": null,
            "align_items": null,
            "align_self": null,
            "border": null,
            "bottom": null,
            "display": null,
            "flex": null,
            "flex_flow": null,
            "grid_area": null,
            "grid_auto_columns": null,
            "grid_auto_flow": null,
            "grid_auto_rows": null,
            "grid_column": null,
            "grid_gap": null,
            "grid_row": null,
            "grid_template_areas": null,
            "grid_template_columns": null,
            "grid_template_rows": null,
            "height": null,
            "justify_content": null,
            "justify_items": null,
            "left": null,
            "margin": null,
            "max_height": null,
            "max_width": null,
            "min_height": null,
            "min_width": null,
            "object_fit": null,
            "object_position": null,
            "order": null,
            "overflow": null,
            "overflow_x": null,
            "overflow_y": null,
            "padding": null,
            "right": null,
            "top": null,
            "visibility": null,
            "width": null
          }
        },
        "a1c47696677e4536a8c085fbbc1d87a8": {
          "model_module": "@jupyter-widgets/controls",
          "model_name": "DescriptionStyleModel",
          "model_module_version": "1.5.0",
          "state": {
            "_model_module": "@jupyter-widgets/controls",
            "_model_module_version": "1.5.0",
            "_model_name": "DescriptionStyleModel",
            "_view_count": null,
            "_view_module": "@jupyter-widgets/base",
            "_view_module_version": "1.2.0",
            "_view_name": "StyleView",
            "description_width": ""
          }
        },
        "de935c089b4145a3b73cf4e0e6af4cd8": {
          "model_module": "@jupyter-widgets/controls",
          "model_name": "HBoxModel",
          "model_module_version": "1.5.0",
          "state": {
            "_dom_classes": [],
            "_model_module": "@jupyter-widgets/controls",
            "_model_module_version": "1.5.0",
            "_model_name": "HBoxModel",
            "_view_count": null,
            "_view_module": "@jupyter-widgets/controls",
            "_view_module_version": "1.5.0",
            "_view_name": "HBoxView",
            "box_style": "",
            "children": [
              "IPY_MODEL_d32fd25eff084faaa7ecf5c90fd1aabd",
              "IPY_MODEL_9522ea1f0e1a4c418b4cb430f204c308",
              "IPY_MODEL_3f9411623adb469ca536d1963d2a5390"
            ],
            "layout": "IPY_MODEL_e4f45ecd76a0478aa840d658f9baeb6e"
          }
        },
        "d32fd25eff084faaa7ecf5c90fd1aabd": {
          "model_module": "@jupyter-widgets/controls",
          "model_name": "HTMLModel",
          "model_module_version": "1.5.0",
          "state": {
            "_dom_classes": [],
            "_model_module": "@jupyter-widgets/controls",
            "_model_module_version": "1.5.0",
            "_model_name": "HTMLModel",
            "_view_count": null,
            "_view_module": "@jupyter-widgets/controls",
            "_view_module_version": "1.5.0",
            "_view_name": "HTMLView",
            "description": "",
            "description_tooltip": null,
            "layout": "IPY_MODEL_cb8dd16a43374698a1437e647818421a",
            "placeholder": "​",
            "style": "IPY_MODEL_48f55a021f924d8ebc239b5bea7ce151",
            "value": "Downloading (…)ce_transformers.json: 100%"
          }
        },
        "9522ea1f0e1a4c418b4cb430f204c308": {
          "model_module": "@jupyter-widgets/controls",
          "model_name": "FloatProgressModel",
          "model_module_version": "1.5.0",
          "state": {
            "_dom_classes": [],
            "_model_module": "@jupyter-widgets/controls",
            "_model_module_version": "1.5.0",
            "_model_name": "FloatProgressModel",
            "_view_count": null,
            "_view_module": "@jupyter-widgets/controls",
            "_view_module_version": "1.5.0",
            "_view_name": "ProgressView",
            "bar_style": "success",
            "description": "",
            "description_tooltip": null,
            "layout": "IPY_MODEL_93eba08678a142fd85a970e2a21fb38d",
            "max": 116,
            "min": 0,
            "orientation": "horizontal",
            "style": "IPY_MODEL_19d6f5d57c764f1ba51862dfbd392f11",
            "value": 116
          }
        },
        "3f9411623adb469ca536d1963d2a5390": {
          "model_module": "@jupyter-widgets/controls",
          "model_name": "HTMLModel",
          "model_module_version": "1.5.0",
          "state": {
            "_dom_classes": [],
            "_model_module": "@jupyter-widgets/controls",
            "_model_module_version": "1.5.0",
            "_model_name": "HTMLModel",
            "_view_count": null,
            "_view_module": "@jupyter-widgets/controls",
            "_view_module_version": "1.5.0",
            "_view_name": "HTMLView",
            "description": "",
            "description_tooltip": null,
            "layout": "IPY_MODEL_755269ae122b4312a94c950c99478e7f",
            "placeholder": "​",
            "style": "IPY_MODEL_993350d5448e40b19b485f84c7af97af",
            "value": " 116/116 [00:00&lt;00:00, 950B/s]"
          }
        },
        "e4f45ecd76a0478aa840d658f9baeb6e": {
          "model_module": "@jupyter-widgets/base",
          "model_name": "LayoutModel",
          "model_module_version": "1.2.0",
          "state": {
            "_model_module": "@jupyter-widgets/base",
            "_model_module_version": "1.2.0",
            "_model_name": "LayoutModel",
            "_view_count": null,
            "_view_module": "@jupyter-widgets/base",
            "_view_module_version": "1.2.0",
            "_view_name": "LayoutView",
            "align_content": null,
            "align_items": null,
            "align_self": null,
            "border": null,
            "bottom": null,
            "display": null,
            "flex": null,
            "flex_flow": null,
            "grid_area": null,
            "grid_auto_columns": null,
            "grid_auto_flow": null,
            "grid_auto_rows": null,
            "grid_column": null,
            "grid_gap": null,
            "grid_row": null,
            "grid_template_areas": null,
            "grid_template_columns": null,
            "grid_template_rows": null,
            "height": null,
            "justify_content": null,
            "justify_items": null,
            "left": null,
            "margin": null,
            "max_height": null,
            "max_width": null,
            "min_height": null,
            "min_width": null,
            "object_fit": null,
            "object_position": null,
            "order": null,
            "overflow": null,
            "overflow_x": null,
            "overflow_y": null,
            "padding": null,
            "right": null,
            "top": null,
            "visibility": null,
            "width": null
          }
        },
        "cb8dd16a43374698a1437e647818421a": {
          "model_module": "@jupyter-widgets/base",
          "model_name": "LayoutModel",
          "model_module_version": "1.2.0",
          "state": {
            "_model_module": "@jupyter-widgets/base",
            "_model_module_version": "1.2.0",
            "_model_name": "LayoutModel",
            "_view_count": null,
            "_view_module": "@jupyter-widgets/base",
            "_view_module_version": "1.2.0",
            "_view_name": "LayoutView",
            "align_content": null,
            "align_items": null,
            "align_self": null,
            "border": null,
            "bottom": null,
            "display": null,
            "flex": null,
            "flex_flow": null,
            "grid_area": null,
            "grid_auto_columns": null,
            "grid_auto_flow": null,
            "grid_auto_rows": null,
            "grid_column": null,
            "grid_gap": null,
            "grid_row": null,
            "grid_template_areas": null,
            "grid_template_columns": null,
            "grid_template_rows": null,
            "height": null,
            "justify_content": null,
            "justify_items": null,
            "left": null,
            "margin": null,
            "max_height": null,
            "max_width": null,
            "min_height": null,
            "min_width": null,
            "object_fit": null,
            "object_position": null,
            "order": null,
            "overflow": null,
            "overflow_x": null,
            "overflow_y": null,
            "padding": null,
            "right": null,
            "top": null,
            "visibility": null,
            "width": null
          }
        },
        "48f55a021f924d8ebc239b5bea7ce151": {
          "model_module": "@jupyter-widgets/controls",
          "model_name": "DescriptionStyleModel",
          "model_module_version": "1.5.0",
          "state": {
            "_model_module": "@jupyter-widgets/controls",
            "_model_module_version": "1.5.0",
            "_model_name": "DescriptionStyleModel",
            "_view_count": null,
            "_view_module": "@jupyter-widgets/base",
            "_view_module_version": "1.2.0",
            "_view_name": "StyleView",
            "description_width": ""
          }
        },
        "93eba08678a142fd85a970e2a21fb38d": {
          "model_module": "@jupyter-widgets/base",
          "model_name": "LayoutModel",
          "model_module_version": "1.2.0",
          "state": {
            "_model_module": "@jupyter-widgets/base",
            "_model_module_version": "1.2.0",
            "_model_name": "LayoutModel",
            "_view_count": null,
            "_view_module": "@jupyter-widgets/base",
            "_view_module_version": "1.2.0",
            "_view_name": "LayoutView",
            "align_content": null,
            "align_items": null,
            "align_self": null,
            "border": null,
            "bottom": null,
            "display": null,
            "flex": null,
            "flex_flow": null,
            "grid_area": null,
            "grid_auto_columns": null,
            "grid_auto_flow": null,
            "grid_auto_rows": null,
            "grid_column": null,
            "grid_gap": null,
            "grid_row": null,
            "grid_template_areas": null,
            "grid_template_columns": null,
            "grid_template_rows": null,
            "height": null,
            "justify_content": null,
            "justify_items": null,
            "left": null,
            "margin": null,
            "max_height": null,
            "max_width": null,
            "min_height": null,
            "min_width": null,
            "object_fit": null,
            "object_position": null,
            "order": null,
            "overflow": null,
            "overflow_x": null,
            "overflow_y": null,
            "padding": null,
            "right": null,
            "top": null,
            "visibility": null,
            "width": null
          }
        },
        "19d6f5d57c764f1ba51862dfbd392f11": {
          "model_module": "@jupyter-widgets/controls",
          "model_name": "ProgressStyleModel",
          "model_module_version": "1.5.0",
          "state": {
            "_model_module": "@jupyter-widgets/controls",
            "_model_module_version": "1.5.0",
            "_model_name": "ProgressStyleModel",
            "_view_count": null,
            "_view_module": "@jupyter-widgets/base",
            "_view_module_version": "1.2.0",
            "_view_name": "StyleView",
            "bar_color": null,
            "description_width": ""
          }
        },
        "755269ae122b4312a94c950c99478e7f": {
          "model_module": "@jupyter-widgets/base",
          "model_name": "LayoutModel",
          "model_module_version": "1.2.0",
          "state": {
            "_model_module": "@jupyter-widgets/base",
            "_model_module_version": "1.2.0",
            "_model_name": "LayoutModel",
            "_view_count": null,
            "_view_module": "@jupyter-widgets/base",
            "_view_module_version": "1.2.0",
            "_view_name": "LayoutView",
            "align_content": null,
            "align_items": null,
            "align_self": null,
            "border": null,
            "bottom": null,
            "display": null,
            "flex": null,
            "flex_flow": null,
            "grid_area": null,
            "grid_auto_columns": null,
            "grid_auto_flow": null,
            "grid_auto_rows": null,
            "grid_column": null,
            "grid_gap": null,
            "grid_row": null,
            "grid_template_areas": null,
            "grid_template_columns": null,
            "grid_template_rows": null,
            "height": null,
            "justify_content": null,
            "justify_items": null,
            "left": null,
            "margin": null,
            "max_height": null,
            "max_width": null,
            "min_height": null,
            "min_width": null,
            "object_fit": null,
            "object_position": null,
            "order": null,
            "overflow": null,
            "overflow_x": null,
            "overflow_y": null,
            "padding": null,
            "right": null,
            "top": null,
            "visibility": null,
            "width": null
          }
        },
        "993350d5448e40b19b485f84c7af97af": {
          "model_module": "@jupyter-widgets/controls",
          "model_name": "DescriptionStyleModel",
          "model_module_version": "1.5.0",
          "state": {
            "_model_module": "@jupyter-widgets/controls",
            "_model_module_version": "1.5.0",
            "_model_name": "DescriptionStyleModel",
            "_view_count": null,
            "_view_module": "@jupyter-widgets/base",
            "_view_module_version": "1.2.0",
            "_view_name": "StyleView",
            "description_width": ""
          }
        },
        "346b510a14b546518c15e099e0e09068": {
          "model_module": "@jupyter-widgets/controls",
          "model_name": "HBoxModel",
          "model_module_version": "1.5.0",
          "state": {
            "_dom_classes": [],
            "_model_module": "@jupyter-widgets/controls",
            "_model_module_version": "1.5.0",
            "_model_name": "HBoxModel",
            "_view_count": null,
            "_view_module": "@jupyter-widgets/controls",
            "_view_module_version": "1.5.0",
            "_view_name": "HBoxView",
            "box_style": "",
            "children": [
              "IPY_MODEL_6cbc2a6911e7452fbdcdf6200218b519",
              "IPY_MODEL_11e60608c53e4b0fb248fe4aa190f0a0",
              "IPY_MODEL_56501a81772640d9ba2350a21f64e8f2"
            ],
            "layout": "IPY_MODEL_942e193ea68a4ae8a57d06395cf61e4d"
          }
        },
        "6cbc2a6911e7452fbdcdf6200218b519": {
          "model_module": "@jupyter-widgets/controls",
          "model_name": "HTMLModel",
          "model_module_version": "1.5.0",
          "state": {
            "_dom_classes": [],
            "_model_module": "@jupyter-widgets/controls",
            "_model_module_version": "1.5.0",
            "_model_name": "HTMLModel",
            "_view_count": null,
            "_view_module": "@jupyter-widgets/controls",
            "_view_module_version": "1.5.0",
            "_view_name": "HTMLView",
            "description": "",
            "description_tooltip": null,
            "layout": "IPY_MODEL_b5ab342edaaf40eba3c46b840d7bdf94",
            "placeholder": "​",
            "style": "IPY_MODEL_afb6d0e148d446afa66a82b63cfb46ac",
            "value": "Downloading (…)e1d/data_config.json: 100%"
          }
        },
        "11e60608c53e4b0fb248fe4aa190f0a0": {
          "model_module": "@jupyter-widgets/controls",
          "model_name": "FloatProgressModel",
          "model_module_version": "1.5.0",
          "state": {
            "_dom_classes": [],
            "_model_module": "@jupyter-widgets/controls",
            "_model_module_version": "1.5.0",
            "_model_name": "FloatProgressModel",
            "_view_count": null,
            "_view_module": "@jupyter-widgets/controls",
            "_view_module_version": "1.5.0",
            "_view_name": "ProgressView",
            "bar_style": "success",
            "description": "",
            "description_tooltip": null,
            "layout": "IPY_MODEL_a24b7b88183648cabc4dbcd90c04b08f",
            "max": 39265,
            "min": 0,
            "orientation": "horizontal",
            "style": "IPY_MODEL_26e45491e5e04d9591abccd54d35a2f2",
            "value": 39265
          }
        },
        "56501a81772640d9ba2350a21f64e8f2": {
          "model_module": "@jupyter-widgets/controls",
          "model_name": "HTMLModel",
          "model_module_version": "1.5.0",
          "state": {
            "_dom_classes": [],
            "_model_module": "@jupyter-widgets/controls",
            "_model_module_version": "1.5.0",
            "_model_name": "HTMLModel",
            "_view_count": null,
            "_view_module": "@jupyter-widgets/controls",
            "_view_module_version": "1.5.0",
            "_view_name": "HTMLView",
            "description": "",
            "description_tooltip": null,
            "layout": "IPY_MODEL_f3fb400189174617a35a433340fdaeb6",
            "placeholder": "​",
            "style": "IPY_MODEL_aa3ba2dd12db43968c03d3c1b7619cb3",
            "value": " 39.3k/39.3k [00:00&lt;00:00, 499kB/s]"
          }
        },
        "942e193ea68a4ae8a57d06395cf61e4d": {
          "model_module": "@jupyter-widgets/base",
          "model_name": "LayoutModel",
          "model_module_version": "1.2.0",
          "state": {
            "_model_module": "@jupyter-widgets/base",
            "_model_module_version": "1.2.0",
            "_model_name": "LayoutModel",
            "_view_count": null,
            "_view_module": "@jupyter-widgets/base",
            "_view_module_version": "1.2.0",
            "_view_name": "LayoutView",
            "align_content": null,
            "align_items": null,
            "align_self": null,
            "border": null,
            "bottom": null,
            "display": null,
            "flex": null,
            "flex_flow": null,
            "grid_area": null,
            "grid_auto_columns": null,
            "grid_auto_flow": null,
            "grid_auto_rows": null,
            "grid_column": null,
            "grid_gap": null,
            "grid_row": null,
            "grid_template_areas": null,
            "grid_template_columns": null,
            "grid_template_rows": null,
            "height": null,
            "justify_content": null,
            "justify_items": null,
            "left": null,
            "margin": null,
            "max_height": null,
            "max_width": null,
            "min_height": null,
            "min_width": null,
            "object_fit": null,
            "object_position": null,
            "order": null,
            "overflow": null,
            "overflow_x": null,
            "overflow_y": null,
            "padding": null,
            "right": null,
            "top": null,
            "visibility": null,
            "width": null
          }
        },
        "b5ab342edaaf40eba3c46b840d7bdf94": {
          "model_module": "@jupyter-widgets/base",
          "model_name": "LayoutModel",
          "model_module_version": "1.2.0",
          "state": {
            "_model_module": "@jupyter-widgets/base",
            "_model_module_version": "1.2.0",
            "_model_name": "LayoutModel",
            "_view_count": null,
            "_view_module": "@jupyter-widgets/base",
            "_view_module_version": "1.2.0",
            "_view_name": "LayoutView",
            "align_content": null,
            "align_items": null,
            "align_self": null,
            "border": null,
            "bottom": null,
            "display": null,
            "flex": null,
            "flex_flow": null,
            "grid_area": null,
            "grid_auto_columns": null,
            "grid_auto_flow": null,
            "grid_auto_rows": null,
            "grid_column": null,
            "grid_gap": null,
            "grid_row": null,
            "grid_template_areas": null,
            "grid_template_columns": null,
            "grid_template_rows": null,
            "height": null,
            "justify_content": null,
            "justify_items": null,
            "left": null,
            "margin": null,
            "max_height": null,
            "max_width": null,
            "min_height": null,
            "min_width": null,
            "object_fit": null,
            "object_position": null,
            "order": null,
            "overflow": null,
            "overflow_x": null,
            "overflow_y": null,
            "padding": null,
            "right": null,
            "top": null,
            "visibility": null,
            "width": null
          }
        },
        "afb6d0e148d446afa66a82b63cfb46ac": {
          "model_module": "@jupyter-widgets/controls",
          "model_name": "DescriptionStyleModel",
          "model_module_version": "1.5.0",
          "state": {
            "_model_module": "@jupyter-widgets/controls",
            "_model_module_version": "1.5.0",
            "_model_name": "DescriptionStyleModel",
            "_view_count": null,
            "_view_module": "@jupyter-widgets/base",
            "_view_module_version": "1.2.0",
            "_view_name": "StyleView",
            "description_width": ""
          }
        },
        "a24b7b88183648cabc4dbcd90c04b08f": {
          "model_module": "@jupyter-widgets/base",
          "model_name": "LayoutModel",
          "model_module_version": "1.2.0",
          "state": {
            "_model_module": "@jupyter-widgets/base",
            "_model_module_version": "1.2.0",
            "_model_name": "LayoutModel",
            "_view_count": null,
            "_view_module": "@jupyter-widgets/base",
            "_view_module_version": "1.2.0",
            "_view_name": "LayoutView",
            "align_content": null,
            "align_items": null,
            "align_self": null,
            "border": null,
            "bottom": null,
            "display": null,
            "flex": null,
            "flex_flow": null,
            "grid_area": null,
            "grid_auto_columns": null,
            "grid_auto_flow": null,
            "grid_auto_rows": null,
            "grid_column": null,
            "grid_gap": null,
            "grid_row": null,
            "grid_template_areas": null,
            "grid_template_columns": null,
            "grid_template_rows": null,
            "height": null,
            "justify_content": null,
            "justify_items": null,
            "left": null,
            "margin": null,
            "max_height": null,
            "max_width": null,
            "min_height": null,
            "min_width": null,
            "object_fit": null,
            "object_position": null,
            "order": null,
            "overflow": null,
            "overflow_x": null,
            "overflow_y": null,
            "padding": null,
            "right": null,
            "top": null,
            "visibility": null,
            "width": null
          }
        },
        "26e45491e5e04d9591abccd54d35a2f2": {
          "model_module": "@jupyter-widgets/controls",
          "model_name": "ProgressStyleModel",
          "model_module_version": "1.5.0",
          "state": {
            "_model_module": "@jupyter-widgets/controls",
            "_model_module_version": "1.5.0",
            "_model_name": "ProgressStyleModel",
            "_view_count": null,
            "_view_module": "@jupyter-widgets/base",
            "_view_module_version": "1.2.0",
            "_view_name": "StyleView",
            "bar_color": null,
            "description_width": ""
          }
        },
        "f3fb400189174617a35a433340fdaeb6": {
          "model_module": "@jupyter-widgets/base",
          "model_name": "LayoutModel",
          "model_module_version": "1.2.0",
          "state": {
            "_model_module": "@jupyter-widgets/base",
            "_model_module_version": "1.2.0",
            "_model_name": "LayoutModel",
            "_view_count": null,
            "_view_module": "@jupyter-widgets/base",
            "_view_module_version": "1.2.0",
            "_view_name": "LayoutView",
            "align_content": null,
            "align_items": null,
            "align_self": null,
            "border": null,
            "bottom": null,
            "display": null,
            "flex": null,
            "flex_flow": null,
            "grid_area": null,
            "grid_auto_columns": null,
            "grid_auto_flow": null,
            "grid_auto_rows": null,
            "grid_column": null,
            "grid_gap": null,
            "grid_row": null,
            "grid_template_areas": null,
            "grid_template_columns": null,
            "grid_template_rows": null,
            "height": null,
            "justify_content": null,
            "justify_items": null,
            "left": null,
            "margin": null,
            "max_height": null,
            "max_width": null,
            "min_height": null,
            "min_width": null,
            "object_fit": null,
            "object_position": null,
            "order": null,
            "overflow": null,
            "overflow_x": null,
            "overflow_y": null,
            "padding": null,
            "right": null,
            "top": null,
            "visibility": null,
            "width": null
          }
        },
        "aa3ba2dd12db43968c03d3c1b7619cb3": {
          "model_module": "@jupyter-widgets/controls",
          "model_name": "DescriptionStyleModel",
          "model_module_version": "1.5.0",
          "state": {
            "_model_module": "@jupyter-widgets/controls",
            "_model_module_version": "1.5.0",
            "_model_name": "DescriptionStyleModel",
            "_view_count": null,
            "_view_module": "@jupyter-widgets/base",
            "_view_module_version": "1.2.0",
            "_view_name": "StyleView",
            "description_width": ""
          }
        },
        "869d42c520694422ba398a7243a96ab7": {
          "model_module": "@jupyter-widgets/controls",
          "model_name": "HBoxModel",
          "model_module_version": "1.5.0",
          "state": {
            "_dom_classes": [],
            "_model_module": "@jupyter-widgets/controls",
            "_model_module_version": "1.5.0",
            "_model_name": "HBoxModel",
            "_view_count": null,
            "_view_module": "@jupyter-widgets/controls",
            "_view_module_version": "1.5.0",
            "_view_name": "HBoxView",
            "box_style": "",
            "children": [
              "IPY_MODEL_cf464947750f49e984ea5c7611984738",
              "IPY_MODEL_070689456b9848d19e278fa2f28a8076",
              "IPY_MODEL_46b7dbb38c2d419bb05fd404822ba2e2"
            ],
            "layout": "IPY_MODEL_3b90514de8c846f7b34cb5ff941a189a"
          }
        },
        "cf464947750f49e984ea5c7611984738": {
          "model_module": "@jupyter-widgets/controls",
          "model_name": "HTMLModel",
          "model_module_version": "1.5.0",
          "state": {
            "_dom_classes": [],
            "_model_module": "@jupyter-widgets/controls",
            "_model_module_version": "1.5.0",
            "_model_name": "HTMLModel",
            "_view_count": null,
            "_view_module": "@jupyter-widgets/controls",
            "_view_module_version": "1.5.0",
            "_view_name": "HTMLView",
            "description": "",
            "description_tooltip": null,
            "layout": "IPY_MODEL_75adcb68f9434899b7be909d9ccc9e94",
            "placeholder": "​",
            "style": "IPY_MODEL_38a86bb83f2e49bf8ae1a5395bc6e6ca",
            "value": "Downloading pytorch_model.bin: 100%"
          }
        },
        "070689456b9848d19e278fa2f28a8076": {
          "model_module": "@jupyter-widgets/controls",
          "model_name": "FloatProgressModel",
          "model_module_version": "1.5.0",
          "state": {
            "_dom_classes": [],
            "_model_module": "@jupyter-widgets/controls",
            "_model_module_version": "1.5.0",
            "_model_name": "FloatProgressModel",
            "_view_count": null,
            "_view_module": "@jupyter-widgets/controls",
            "_view_module_version": "1.5.0",
            "_view_name": "ProgressView",
            "bar_style": "success",
            "description": "",
            "description_tooltip": null,
            "layout": "IPY_MODEL_15c40bcd43914054893d1021a4a43abc",
            "max": 438011953,
            "min": 0,
            "orientation": "horizontal",
            "style": "IPY_MODEL_b98f04a942c6407995756304a6453480",
            "value": 438011953
          }
        },
        "46b7dbb38c2d419bb05fd404822ba2e2": {
          "model_module": "@jupyter-widgets/controls",
          "model_name": "HTMLModel",
          "model_module_version": "1.5.0",
          "state": {
            "_dom_classes": [],
            "_model_module": "@jupyter-widgets/controls",
            "_model_module_version": "1.5.0",
            "_model_name": "HTMLModel",
            "_view_count": null,
            "_view_module": "@jupyter-widgets/controls",
            "_view_module_version": "1.5.0",
            "_view_name": "HTMLView",
            "description": "",
            "description_tooltip": null,
            "layout": "IPY_MODEL_ae550090c29d48d3b001b227f1e589f2",
            "placeholder": "​",
            "style": "IPY_MODEL_e5f2931fe1834cc08affa5ab3f0aadff",
            "value": " 438M/438M [00:02&lt;00:00, 153MB/s]"
          }
        },
        "3b90514de8c846f7b34cb5ff941a189a": {
          "model_module": "@jupyter-widgets/base",
          "model_name": "LayoutModel",
          "model_module_version": "1.2.0",
          "state": {
            "_model_module": "@jupyter-widgets/base",
            "_model_module_version": "1.2.0",
            "_model_name": "LayoutModel",
            "_view_count": null,
            "_view_module": "@jupyter-widgets/base",
            "_view_module_version": "1.2.0",
            "_view_name": "LayoutView",
            "align_content": null,
            "align_items": null,
            "align_self": null,
            "border": null,
            "bottom": null,
            "display": null,
            "flex": null,
            "flex_flow": null,
            "grid_area": null,
            "grid_auto_columns": null,
            "grid_auto_flow": null,
            "grid_auto_rows": null,
            "grid_column": null,
            "grid_gap": null,
            "grid_row": null,
            "grid_template_areas": null,
            "grid_template_columns": null,
            "grid_template_rows": null,
            "height": null,
            "justify_content": null,
            "justify_items": null,
            "left": null,
            "margin": null,
            "max_height": null,
            "max_width": null,
            "min_height": null,
            "min_width": null,
            "object_fit": null,
            "object_position": null,
            "order": null,
            "overflow": null,
            "overflow_x": null,
            "overflow_y": null,
            "padding": null,
            "right": null,
            "top": null,
            "visibility": null,
            "width": null
          }
        },
        "75adcb68f9434899b7be909d9ccc9e94": {
          "model_module": "@jupyter-widgets/base",
          "model_name": "LayoutModel",
          "model_module_version": "1.2.0",
          "state": {
            "_model_module": "@jupyter-widgets/base",
            "_model_module_version": "1.2.0",
            "_model_name": "LayoutModel",
            "_view_count": null,
            "_view_module": "@jupyter-widgets/base",
            "_view_module_version": "1.2.0",
            "_view_name": "LayoutView",
            "align_content": null,
            "align_items": null,
            "align_self": null,
            "border": null,
            "bottom": null,
            "display": null,
            "flex": null,
            "flex_flow": null,
            "grid_area": null,
            "grid_auto_columns": null,
            "grid_auto_flow": null,
            "grid_auto_rows": null,
            "grid_column": null,
            "grid_gap": null,
            "grid_row": null,
            "grid_template_areas": null,
            "grid_template_columns": null,
            "grid_template_rows": null,
            "height": null,
            "justify_content": null,
            "justify_items": null,
            "left": null,
            "margin": null,
            "max_height": null,
            "max_width": null,
            "min_height": null,
            "min_width": null,
            "object_fit": null,
            "object_position": null,
            "order": null,
            "overflow": null,
            "overflow_x": null,
            "overflow_y": null,
            "padding": null,
            "right": null,
            "top": null,
            "visibility": null,
            "width": null
          }
        },
        "38a86bb83f2e49bf8ae1a5395bc6e6ca": {
          "model_module": "@jupyter-widgets/controls",
          "model_name": "DescriptionStyleModel",
          "model_module_version": "1.5.0",
          "state": {
            "_model_module": "@jupyter-widgets/controls",
            "_model_module_version": "1.5.0",
            "_model_name": "DescriptionStyleModel",
            "_view_count": null,
            "_view_module": "@jupyter-widgets/base",
            "_view_module_version": "1.2.0",
            "_view_name": "StyleView",
            "description_width": ""
          }
        },
        "15c40bcd43914054893d1021a4a43abc": {
          "model_module": "@jupyter-widgets/base",
          "model_name": "LayoutModel",
          "model_module_version": "1.2.0",
          "state": {
            "_model_module": "@jupyter-widgets/base",
            "_model_module_version": "1.2.0",
            "_model_name": "LayoutModel",
            "_view_count": null,
            "_view_module": "@jupyter-widgets/base",
            "_view_module_version": "1.2.0",
            "_view_name": "LayoutView",
            "align_content": null,
            "align_items": null,
            "align_self": null,
            "border": null,
            "bottom": null,
            "display": null,
            "flex": null,
            "flex_flow": null,
            "grid_area": null,
            "grid_auto_columns": null,
            "grid_auto_flow": null,
            "grid_auto_rows": null,
            "grid_column": null,
            "grid_gap": null,
            "grid_row": null,
            "grid_template_areas": null,
            "grid_template_columns": null,
            "grid_template_rows": null,
            "height": null,
            "justify_content": null,
            "justify_items": null,
            "left": null,
            "margin": null,
            "max_height": null,
            "max_width": null,
            "min_height": null,
            "min_width": null,
            "object_fit": null,
            "object_position": null,
            "order": null,
            "overflow": null,
            "overflow_x": null,
            "overflow_y": null,
            "padding": null,
            "right": null,
            "top": null,
            "visibility": null,
            "width": null
          }
        },
        "b98f04a942c6407995756304a6453480": {
          "model_module": "@jupyter-widgets/controls",
          "model_name": "ProgressStyleModel",
          "model_module_version": "1.5.0",
          "state": {
            "_model_module": "@jupyter-widgets/controls",
            "_model_module_version": "1.5.0",
            "_model_name": "ProgressStyleModel",
            "_view_count": null,
            "_view_module": "@jupyter-widgets/base",
            "_view_module_version": "1.2.0",
            "_view_name": "StyleView",
            "bar_color": null,
            "description_width": ""
          }
        },
        "ae550090c29d48d3b001b227f1e589f2": {
          "model_module": "@jupyter-widgets/base",
          "model_name": "LayoutModel",
          "model_module_version": "1.2.0",
          "state": {
            "_model_module": "@jupyter-widgets/base",
            "_model_module_version": "1.2.0",
            "_model_name": "LayoutModel",
            "_view_count": null,
            "_view_module": "@jupyter-widgets/base",
            "_view_module_version": "1.2.0",
            "_view_name": "LayoutView",
            "align_content": null,
            "align_items": null,
            "align_self": null,
            "border": null,
            "bottom": null,
            "display": null,
            "flex": null,
            "flex_flow": null,
            "grid_area": null,
            "grid_auto_columns": null,
            "grid_auto_flow": null,
            "grid_auto_rows": null,
            "grid_column": null,
            "grid_gap": null,
            "grid_row": null,
            "grid_template_areas": null,
            "grid_template_columns": null,
            "grid_template_rows": null,
            "height": null,
            "justify_content": null,
            "justify_items": null,
            "left": null,
            "margin": null,
            "max_height": null,
            "max_width": null,
            "min_height": null,
            "min_width": null,
            "object_fit": null,
            "object_position": null,
            "order": null,
            "overflow": null,
            "overflow_x": null,
            "overflow_y": null,
            "padding": null,
            "right": null,
            "top": null,
            "visibility": null,
            "width": null
          }
        },
        "e5f2931fe1834cc08affa5ab3f0aadff": {
          "model_module": "@jupyter-widgets/controls",
          "model_name": "DescriptionStyleModel",
          "model_module_version": "1.5.0",
          "state": {
            "_model_module": "@jupyter-widgets/controls",
            "_model_module_version": "1.5.0",
            "_model_name": "DescriptionStyleModel",
            "_view_count": null,
            "_view_module": "@jupyter-widgets/base",
            "_view_module_version": "1.2.0",
            "_view_name": "StyleView",
            "description_width": ""
          }
        },
        "9d37cd635d0042928ca135c66c481227": {
          "model_module": "@jupyter-widgets/controls",
          "model_name": "HBoxModel",
          "model_module_version": "1.5.0",
          "state": {
            "_dom_classes": [],
            "_model_module": "@jupyter-widgets/controls",
            "_model_module_version": "1.5.0",
            "_model_name": "HBoxModel",
            "_view_count": null,
            "_view_module": "@jupyter-widgets/controls",
            "_view_module_version": "1.5.0",
            "_view_name": "HBoxView",
            "box_style": "",
            "children": [
              "IPY_MODEL_172c3c7c433549b5b99c7f3cd685e0c8",
              "IPY_MODEL_e54de0c57484458cb5d0ea5ba7b2f6d1",
              "IPY_MODEL_5127510e87194034a5bd59ed923615cc"
            ],
            "layout": "IPY_MODEL_945a6541149748c698d8031f07a05a21"
          }
        },
        "172c3c7c433549b5b99c7f3cd685e0c8": {
          "model_module": "@jupyter-widgets/controls",
          "model_name": "HTMLModel",
          "model_module_version": "1.5.0",
          "state": {
            "_dom_classes": [],
            "_model_module": "@jupyter-widgets/controls",
            "_model_module_version": "1.5.0",
            "_model_name": "HTMLModel",
            "_view_count": null,
            "_view_module": "@jupyter-widgets/controls",
            "_view_module_version": "1.5.0",
            "_view_name": "HTMLView",
            "description": "",
            "description_tooltip": null,
            "layout": "IPY_MODEL_8de7a7f5b1a54b958de04f8365873bfa",
            "placeholder": "​",
            "style": "IPY_MODEL_0fa558e1441d479695456c85dc1efeb9",
            "value": "Downloading (…)nce_bert_config.json: 100%"
          }
        },
        "e54de0c57484458cb5d0ea5ba7b2f6d1": {
          "model_module": "@jupyter-widgets/controls",
          "model_name": "FloatProgressModel",
          "model_module_version": "1.5.0",
          "state": {
            "_dom_classes": [],
            "_model_module": "@jupyter-widgets/controls",
            "_model_module_version": "1.5.0",
            "_model_name": "FloatProgressModel",
            "_view_count": null,
            "_view_module": "@jupyter-widgets/controls",
            "_view_module_version": "1.5.0",
            "_view_name": "ProgressView",
            "bar_style": "success",
            "description": "",
            "description_tooltip": null,
            "layout": "IPY_MODEL_f3e9b6533f974eb19f8a52da3b75c98f",
            "max": 53,
            "min": 0,
            "orientation": "horizontal",
            "style": "IPY_MODEL_8048541e7a8f46dda04a0852b906ecd2",
            "value": 53
          }
        },
        "5127510e87194034a5bd59ed923615cc": {
          "model_module": "@jupyter-widgets/controls",
          "model_name": "HTMLModel",
          "model_module_version": "1.5.0",
          "state": {
            "_dom_classes": [],
            "_model_module": "@jupyter-widgets/controls",
            "_model_module_version": "1.5.0",
            "_model_name": "HTMLModel",
            "_view_count": null,
            "_view_module": "@jupyter-widgets/controls",
            "_view_module_version": "1.5.0",
            "_view_name": "HTMLView",
            "description": "",
            "description_tooltip": null,
            "layout": "IPY_MODEL_feaa30dcbfa04739acb2ce196a14baf9",
            "placeholder": "​",
            "style": "IPY_MODEL_1478e541ed544ed3ac64b5f776d0fb11",
            "value": " 53.0/53.0 [00:00&lt;00:00, 1.16kB/s]"
          }
        },
        "945a6541149748c698d8031f07a05a21": {
          "model_module": "@jupyter-widgets/base",
          "model_name": "LayoutModel",
          "model_module_version": "1.2.0",
          "state": {
            "_model_module": "@jupyter-widgets/base",
            "_model_module_version": "1.2.0",
            "_model_name": "LayoutModel",
            "_view_count": null,
            "_view_module": "@jupyter-widgets/base",
            "_view_module_version": "1.2.0",
            "_view_name": "LayoutView",
            "align_content": null,
            "align_items": null,
            "align_self": null,
            "border": null,
            "bottom": null,
            "display": null,
            "flex": null,
            "flex_flow": null,
            "grid_area": null,
            "grid_auto_columns": null,
            "grid_auto_flow": null,
            "grid_auto_rows": null,
            "grid_column": null,
            "grid_gap": null,
            "grid_row": null,
            "grid_template_areas": null,
            "grid_template_columns": null,
            "grid_template_rows": null,
            "height": null,
            "justify_content": null,
            "justify_items": null,
            "left": null,
            "margin": null,
            "max_height": null,
            "max_width": null,
            "min_height": null,
            "min_width": null,
            "object_fit": null,
            "object_position": null,
            "order": null,
            "overflow": null,
            "overflow_x": null,
            "overflow_y": null,
            "padding": null,
            "right": null,
            "top": null,
            "visibility": null,
            "width": null
          }
        },
        "8de7a7f5b1a54b958de04f8365873bfa": {
          "model_module": "@jupyter-widgets/base",
          "model_name": "LayoutModel",
          "model_module_version": "1.2.0",
          "state": {
            "_model_module": "@jupyter-widgets/base",
            "_model_module_version": "1.2.0",
            "_model_name": "LayoutModel",
            "_view_count": null,
            "_view_module": "@jupyter-widgets/base",
            "_view_module_version": "1.2.0",
            "_view_name": "LayoutView",
            "align_content": null,
            "align_items": null,
            "align_self": null,
            "border": null,
            "bottom": null,
            "display": null,
            "flex": null,
            "flex_flow": null,
            "grid_area": null,
            "grid_auto_columns": null,
            "grid_auto_flow": null,
            "grid_auto_rows": null,
            "grid_column": null,
            "grid_gap": null,
            "grid_row": null,
            "grid_template_areas": null,
            "grid_template_columns": null,
            "grid_template_rows": null,
            "height": null,
            "justify_content": null,
            "justify_items": null,
            "left": null,
            "margin": null,
            "max_height": null,
            "max_width": null,
            "min_height": null,
            "min_width": null,
            "object_fit": null,
            "object_position": null,
            "order": null,
            "overflow": null,
            "overflow_x": null,
            "overflow_y": null,
            "padding": null,
            "right": null,
            "top": null,
            "visibility": null,
            "width": null
          }
        },
        "0fa558e1441d479695456c85dc1efeb9": {
          "model_module": "@jupyter-widgets/controls",
          "model_name": "DescriptionStyleModel",
          "model_module_version": "1.5.0",
          "state": {
            "_model_module": "@jupyter-widgets/controls",
            "_model_module_version": "1.5.0",
            "_model_name": "DescriptionStyleModel",
            "_view_count": null,
            "_view_module": "@jupyter-widgets/base",
            "_view_module_version": "1.2.0",
            "_view_name": "StyleView",
            "description_width": ""
          }
        },
        "f3e9b6533f974eb19f8a52da3b75c98f": {
          "model_module": "@jupyter-widgets/base",
          "model_name": "LayoutModel",
          "model_module_version": "1.2.0",
          "state": {
            "_model_module": "@jupyter-widgets/base",
            "_model_module_version": "1.2.0",
            "_model_name": "LayoutModel",
            "_view_count": null,
            "_view_module": "@jupyter-widgets/base",
            "_view_module_version": "1.2.0",
            "_view_name": "LayoutView",
            "align_content": null,
            "align_items": null,
            "align_self": null,
            "border": null,
            "bottom": null,
            "display": null,
            "flex": null,
            "flex_flow": null,
            "grid_area": null,
            "grid_auto_columns": null,
            "grid_auto_flow": null,
            "grid_auto_rows": null,
            "grid_column": null,
            "grid_gap": null,
            "grid_row": null,
            "grid_template_areas": null,
            "grid_template_columns": null,
            "grid_template_rows": null,
            "height": null,
            "justify_content": null,
            "justify_items": null,
            "left": null,
            "margin": null,
            "max_height": null,
            "max_width": null,
            "min_height": null,
            "min_width": null,
            "object_fit": null,
            "object_position": null,
            "order": null,
            "overflow": null,
            "overflow_x": null,
            "overflow_y": null,
            "padding": null,
            "right": null,
            "top": null,
            "visibility": null,
            "width": null
          }
        },
        "8048541e7a8f46dda04a0852b906ecd2": {
          "model_module": "@jupyter-widgets/controls",
          "model_name": "ProgressStyleModel",
          "model_module_version": "1.5.0",
          "state": {
            "_model_module": "@jupyter-widgets/controls",
            "_model_module_version": "1.5.0",
            "_model_name": "ProgressStyleModel",
            "_view_count": null,
            "_view_module": "@jupyter-widgets/base",
            "_view_module_version": "1.2.0",
            "_view_name": "StyleView",
            "bar_color": null,
            "description_width": ""
          }
        },
        "feaa30dcbfa04739acb2ce196a14baf9": {
          "model_module": "@jupyter-widgets/base",
          "model_name": "LayoutModel",
          "model_module_version": "1.2.0",
          "state": {
            "_model_module": "@jupyter-widgets/base",
            "_model_module_version": "1.2.0",
            "_model_name": "LayoutModel",
            "_view_count": null,
            "_view_module": "@jupyter-widgets/base",
            "_view_module_version": "1.2.0",
            "_view_name": "LayoutView",
            "align_content": null,
            "align_items": null,
            "align_self": null,
            "border": null,
            "bottom": null,
            "display": null,
            "flex": null,
            "flex_flow": null,
            "grid_area": null,
            "grid_auto_columns": null,
            "grid_auto_flow": null,
            "grid_auto_rows": null,
            "grid_column": null,
            "grid_gap": null,
            "grid_row": null,
            "grid_template_areas": null,
            "grid_template_columns": null,
            "grid_template_rows": null,
            "height": null,
            "justify_content": null,
            "justify_items": null,
            "left": null,
            "margin": null,
            "max_height": null,
            "max_width": null,
            "min_height": null,
            "min_width": null,
            "object_fit": null,
            "object_position": null,
            "order": null,
            "overflow": null,
            "overflow_x": null,
            "overflow_y": null,
            "padding": null,
            "right": null,
            "top": null,
            "visibility": null,
            "width": null
          }
        },
        "1478e541ed544ed3ac64b5f776d0fb11": {
          "model_module": "@jupyter-widgets/controls",
          "model_name": "DescriptionStyleModel",
          "model_module_version": "1.5.0",
          "state": {
            "_model_module": "@jupyter-widgets/controls",
            "_model_module_version": "1.5.0",
            "_model_name": "DescriptionStyleModel",
            "_view_count": null,
            "_view_module": "@jupyter-widgets/base",
            "_view_module_version": "1.2.0",
            "_view_name": "StyleView",
            "description_width": ""
          }
        },
        "b1d5071932994b43a7d2d93fcea13638": {
          "model_module": "@jupyter-widgets/controls",
          "model_name": "HBoxModel",
          "model_module_version": "1.5.0",
          "state": {
            "_dom_classes": [],
            "_model_module": "@jupyter-widgets/controls",
            "_model_module_version": "1.5.0",
            "_model_name": "HBoxModel",
            "_view_count": null,
            "_view_module": "@jupyter-widgets/controls",
            "_view_module_version": "1.5.0",
            "_view_name": "HBoxView",
            "box_style": "",
            "children": [
              "IPY_MODEL_4b43f92e67f1470d8735667b9e53fa29",
              "IPY_MODEL_04e9678420534c9884bb668833b8b48e",
              "IPY_MODEL_a59b2bc6ea804ddab94874c55b91e7ee"
            ],
            "layout": "IPY_MODEL_e1a8edbbf4ea4b398b3704ec2e9210c7"
          }
        },
        "4b43f92e67f1470d8735667b9e53fa29": {
          "model_module": "@jupyter-widgets/controls",
          "model_name": "HTMLModel",
          "model_module_version": "1.5.0",
          "state": {
            "_dom_classes": [],
            "_model_module": "@jupyter-widgets/controls",
            "_model_module_version": "1.5.0",
            "_model_name": "HTMLModel",
            "_view_count": null,
            "_view_module": "@jupyter-widgets/controls",
            "_view_module_version": "1.5.0",
            "_view_name": "HTMLView",
            "description": "",
            "description_tooltip": null,
            "layout": "IPY_MODEL_bfa894907775406c98fd14d75b016d7f",
            "placeholder": "​",
            "style": "IPY_MODEL_9c27b8b962dc4819b456f9efee7cb447",
            "value": "Downloading (…)cial_tokens_map.json: 100%"
          }
        },
        "04e9678420534c9884bb668833b8b48e": {
          "model_module": "@jupyter-widgets/controls",
          "model_name": "FloatProgressModel",
          "model_module_version": "1.5.0",
          "state": {
            "_dom_classes": [],
            "_model_module": "@jupyter-widgets/controls",
            "_model_module_version": "1.5.0",
            "_model_name": "FloatProgressModel",
            "_view_count": null,
            "_view_module": "@jupyter-widgets/controls",
            "_view_module_version": "1.5.0",
            "_view_name": "ProgressView",
            "bar_style": "success",
            "description": "",
            "description_tooltip": null,
            "layout": "IPY_MODEL_cabf07bf2a814fa6858286ec4dc5a1f4",
            "max": 239,
            "min": 0,
            "orientation": "horizontal",
            "style": "IPY_MODEL_900e9fcb67974946a1786c5544999cd5",
            "value": 239
          }
        },
        "a59b2bc6ea804ddab94874c55b91e7ee": {
          "model_module": "@jupyter-widgets/controls",
          "model_name": "HTMLModel",
          "model_module_version": "1.5.0",
          "state": {
            "_dom_classes": [],
            "_model_module": "@jupyter-widgets/controls",
            "_model_module_version": "1.5.0",
            "_model_name": "HTMLModel",
            "_view_count": null,
            "_view_module": "@jupyter-widgets/controls",
            "_view_module_version": "1.5.0",
            "_view_name": "HTMLView",
            "description": "",
            "description_tooltip": null,
            "layout": "IPY_MODEL_9a523a1c67a14e8897b74003ad6ed006",
            "placeholder": "​",
            "style": "IPY_MODEL_cf2ae2349d074a9da7ac8e42442bac6f",
            "value": " 239/239 [00:00&lt;00:00, 2.95kB/s]"
          }
        },
        "e1a8edbbf4ea4b398b3704ec2e9210c7": {
          "model_module": "@jupyter-widgets/base",
          "model_name": "LayoutModel",
          "model_module_version": "1.2.0",
          "state": {
            "_model_module": "@jupyter-widgets/base",
            "_model_module_version": "1.2.0",
            "_model_name": "LayoutModel",
            "_view_count": null,
            "_view_module": "@jupyter-widgets/base",
            "_view_module_version": "1.2.0",
            "_view_name": "LayoutView",
            "align_content": null,
            "align_items": null,
            "align_self": null,
            "border": null,
            "bottom": null,
            "display": null,
            "flex": null,
            "flex_flow": null,
            "grid_area": null,
            "grid_auto_columns": null,
            "grid_auto_flow": null,
            "grid_auto_rows": null,
            "grid_column": null,
            "grid_gap": null,
            "grid_row": null,
            "grid_template_areas": null,
            "grid_template_columns": null,
            "grid_template_rows": null,
            "height": null,
            "justify_content": null,
            "justify_items": null,
            "left": null,
            "margin": null,
            "max_height": null,
            "max_width": null,
            "min_height": null,
            "min_width": null,
            "object_fit": null,
            "object_position": null,
            "order": null,
            "overflow": null,
            "overflow_x": null,
            "overflow_y": null,
            "padding": null,
            "right": null,
            "top": null,
            "visibility": null,
            "width": null
          }
        },
        "bfa894907775406c98fd14d75b016d7f": {
          "model_module": "@jupyter-widgets/base",
          "model_name": "LayoutModel",
          "model_module_version": "1.2.0",
          "state": {
            "_model_module": "@jupyter-widgets/base",
            "_model_module_version": "1.2.0",
            "_model_name": "LayoutModel",
            "_view_count": null,
            "_view_module": "@jupyter-widgets/base",
            "_view_module_version": "1.2.0",
            "_view_name": "LayoutView",
            "align_content": null,
            "align_items": null,
            "align_self": null,
            "border": null,
            "bottom": null,
            "display": null,
            "flex": null,
            "flex_flow": null,
            "grid_area": null,
            "grid_auto_columns": null,
            "grid_auto_flow": null,
            "grid_auto_rows": null,
            "grid_column": null,
            "grid_gap": null,
            "grid_row": null,
            "grid_template_areas": null,
            "grid_template_columns": null,
            "grid_template_rows": null,
            "height": null,
            "justify_content": null,
            "justify_items": null,
            "left": null,
            "margin": null,
            "max_height": null,
            "max_width": null,
            "min_height": null,
            "min_width": null,
            "object_fit": null,
            "object_position": null,
            "order": null,
            "overflow": null,
            "overflow_x": null,
            "overflow_y": null,
            "padding": null,
            "right": null,
            "top": null,
            "visibility": null,
            "width": null
          }
        },
        "9c27b8b962dc4819b456f9efee7cb447": {
          "model_module": "@jupyter-widgets/controls",
          "model_name": "DescriptionStyleModel",
          "model_module_version": "1.5.0",
          "state": {
            "_model_module": "@jupyter-widgets/controls",
            "_model_module_version": "1.5.0",
            "_model_name": "DescriptionStyleModel",
            "_view_count": null,
            "_view_module": "@jupyter-widgets/base",
            "_view_module_version": "1.2.0",
            "_view_name": "StyleView",
            "description_width": ""
          }
        },
        "cabf07bf2a814fa6858286ec4dc5a1f4": {
          "model_module": "@jupyter-widgets/base",
          "model_name": "LayoutModel",
          "model_module_version": "1.2.0",
          "state": {
            "_model_module": "@jupyter-widgets/base",
            "_model_module_version": "1.2.0",
            "_model_name": "LayoutModel",
            "_view_count": null,
            "_view_module": "@jupyter-widgets/base",
            "_view_module_version": "1.2.0",
            "_view_name": "LayoutView",
            "align_content": null,
            "align_items": null,
            "align_self": null,
            "border": null,
            "bottom": null,
            "display": null,
            "flex": null,
            "flex_flow": null,
            "grid_area": null,
            "grid_auto_columns": null,
            "grid_auto_flow": null,
            "grid_auto_rows": null,
            "grid_column": null,
            "grid_gap": null,
            "grid_row": null,
            "grid_template_areas": null,
            "grid_template_columns": null,
            "grid_template_rows": null,
            "height": null,
            "justify_content": null,
            "justify_items": null,
            "left": null,
            "margin": null,
            "max_height": null,
            "max_width": null,
            "min_height": null,
            "min_width": null,
            "object_fit": null,
            "object_position": null,
            "order": null,
            "overflow": null,
            "overflow_x": null,
            "overflow_y": null,
            "padding": null,
            "right": null,
            "top": null,
            "visibility": null,
            "width": null
          }
        },
        "900e9fcb67974946a1786c5544999cd5": {
          "model_module": "@jupyter-widgets/controls",
          "model_name": "ProgressStyleModel",
          "model_module_version": "1.5.0",
          "state": {
            "_model_module": "@jupyter-widgets/controls",
            "_model_module_version": "1.5.0",
            "_model_name": "ProgressStyleModel",
            "_view_count": null,
            "_view_module": "@jupyter-widgets/base",
            "_view_module_version": "1.2.0",
            "_view_name": "StyleView",
            "bar_color": null,
            "description_width": ""
          }
        },
        "9a523a1c67a14e8897b74003ad6ed006": {
          "model_module": "@jupyter-widgets/base",
          "model_name": "LayoutModel",
          "model_module_version": "1.2.0",
          "state": {
            "_model_module": "@jupyter-widgets/base",
            "_model_module_version": "1.2.0",
            "_model_name": "LayoutModel",
            "_view_count": null,
            "_view_module": "@jupyter-widgets/base",
            "_view_module_version": "1.2.0",
            "_view_name": "LayoutView",
            "align_content": null,
            "align_items": null,
            "align_self": null,
            "border": null,
            "bottom": null,
            "display": null,
            "flex": null,
            "flex_flow": null,
            "grid_area": null,
            "grid_auto_columns": null,
            "grid_auto_flow": null,
            "grid_auto_rows": null,
            "grid_column": null,
            "grid_gap": null,
            "grid_row": null,
            "grid_template_areas": null,
            "grid_template_columns": null,
            "grid_template_rows": null,
            "height": null,
            "justify_content": null,
            "justify_items": null,
            "left": null,
            "margin": null,
            "max_height": null,
            "max_width": null,
            "min_height": null,
            "min_width": null,
            "object_fit": null,
            "object_position": null,
            "order": null,
            "overflow": null,
            "overflow_x": null,
            "overflow_y": null,
            "padding": null,
            "right": null,
            "top": null,
            "visibility": null,
            "width": null
          }
        },
        "cf2ae2349d074a9da7ac8e42442bac6f": {
          "model_module": "@jupyter-widgets/controls",
          "model_name": "DescriptionStyleModel",
          "model_module_version": "1.5.0",
          "state": {
            "_model_module": "@jupyter-widgets/controls",
            "_model_module_version": "1.5.0",
            "_model_name": "DescriptionStyleModel",
            "_view_count": null,
            "_view_module": "@jupyter-widgets/base",
            "_view_module_version": "1.2.0",
            "_view_name": "StyleView",
            "description_width": ""
          }
        },
        "511c35dd76b94f908c8aa251b0828703": {
          "model_module": "@jupyter-widgets/controls",
          "model_name": "HBoxModel",
          "model_module_version": "1.5.0",
          "state": {
            "_dom_classes": [],
            "_model_module": "@jupyter-widgets/controls",
            "_model_module_version": "1.5.0",
            "_model_name": "HBoxModel",
            "_view_count": null,
            "_view_module": "@jupyter-widgets/controls",
            "_view_module_version": "1.5.0",
            "_view_name": "HBoxView",
            "box_style": "",
            "children": [
              "IPY_MODEL_3867d50eca084dc6b5f3c63b7cd9e860",
              "IPY_MODEL_6d24d05cfcf242c18e76a72f9e714ca0",
              "IPY_MODEL_26be98a71d394107b2f7b0cf2cc7d0b3"
            ],
            "layout": "IPY_MODEL_c5c4cd2701e24978a9906ef7207dbfe7"
          }
        },
        "3867d50eca084dc6b5f3c63b7cd9e860": {
          "model_module": "@jupyter-widgets/controls",
          "model_name": "HTMLModel",
          "model_module_version": "1.5.0",
          "state": {
            "_dom_classes": [],
            "_model_module": "@jupyter-widgets/controls",
            "_model_module_version": "1.5.0",
            "_model_name": "HTMLModel",
            "_view_count": null,
            "_view_module": "@jupyter-widgets/controls",
            "_view_module_version": "1.5.0",
            "_view_name": "HTMLView",
            "description": "",
            "description_tooltip": null,
            "layout": "IPY_MODEL_9571a9ddc4004d70bab4e6962a050ffe",
            "placeholder": "​",
            "style": "IPY_MODEL_0d3734795eb045b9b58af18dc93d69e6",
            "value": "Downloading (…)a8e1d/tokenizer.json: 100%"
          }
        },
        "6d24d05cfcf242c18e76a72f9e714ca0": {
          "model_module": "@jupyter-widgets/controls",
          "model_name": "FloatProgressModel",
          "model_module_version": "1.5.0",
          "state": {
            "_dom_classes": [],
            "_model_module": "@jupyter-widgets/controls",
            "_model_module_version": "1.5.0",
            "_model_name": "FloatProgressModel",
            "_view_count": null,
            "_view_module": "@jupyter-widgets/controls",
            "_view_module_version": "1.5.0",
            "_view_name": "ProgressView",
            "bar_style": "success",
            "description": "",
            "description_tooltip": null,
            "layout": "IPY_MODEL_9ff02e50145e40759e900d5d89339143",
            "max": 466021,
            "min": 0,
            "orientation": "horizontal",
            "style": "IPY_MODEL_b7fcb513ed304653862475d6e33d2cf2",
            "value": 466021
          }
        },
        "26be98a71d394107b2f7b0cf2cc7d0b3": {
          "model_module": "@jupyter-widgets/controls",
          "model_name": "HTMLModel",
          "model_module_version": "1.5.0",
          "state": {
            "_dom_classes": [],
            "_model_module": "@jupyter-widgets/controls",
            "_model_module_version": "1.5.0",
            "_model_name": "HTMLModel",
            "_view_count": null,
            "_view_module": "@jupyter-widgets/controls",
            "_view_module_version": "1.5.0",
            "_view_name": "HTMLView",
            "description": "",
            "description_tooltip": null,
            "layout": "IPY_MODEL_a19bdda1d493448480143cec7d744da4",
            "placeholder": "​",
            "style": "IPY_MODEL_7bd7d5ed441047f4b03e0dadd97364a2",
            "value": " 466k/466k [00:00&lt;00:00, 2.86MB/s]"
          }
        },
        "c5c4cd2701e24978a9906ef7207dbfe7": {
          "model_module": "@jupyter-widgets/base",
          "model_name": "LayoutModel",
          "model_module_version": "1.2.0",
          "state": {
            "_model_module": "@jupyter-widgets/base",
            "_model_module_version": "1.2.0",
            "_model_name": "LayoutModel",
            "_view_count": null,
            "_view_module": "@jupyter-widgets/base",
            "_view_module_version": "1.2.0",
            "_view_name": "LayoutView",
            "align_content": null,
            "align_items": null,
            "align_self": null,
            "border": null,
            "bottom": null,
            "display": null,
            "flex": null,
            "flex_flow": null,
            "grid_area": null,
            "grid_auto_columns": null,
            "grid_auto_flow": null,
            "grid_auto_rows": null,
            "grid_column": null,
            "grid_gap": null,
            "grid_row": null,
            "grid_template_areas": null,
            "grid_template_columns": null,
            "grid_template_rows": null,
            "height": null,
            "justify_content": null,
            "justify_items": null,
            "left": null,
            "margin": null,
            "max_height": null,
            "max_width": null,
            "min_height": null,
            "min_width": null,
            "object_fit": null,
            "object_position": null,
            "order": null,
            "overflow": null,
            "overflow_x": null,
            "overflow_y": null,
            "padding": null,
            "right": null,
            "top": null,
            "visibility": null,
            "width": null
          }
        },
        "9571a9ddc4004d70bab4e6962a050ffe": {
          "model_module": "@jupyter-widgets/base",
          "model_name": "LayoutModel",
          "model_module_version": "1.2.0",
          "state": {
            "_model_module": "@jupyter-widgets/base",
            "_model_module_version": "1.2.0",
            "_model_name": "LayoutModel",
            "_view_count": null,
            "_view_module": "@jupyter-widgets/base",
            "_view_module_version": "1.2.0",
            "_view_name": "LayoutView",
            "align_content": null,
            "align_items": null,
            "align_self": null,
            "border": null,
            "bottom": null,
            "display": null,
            "flex": null,
            "flex_flow": null,
            "grid_area": null,
            "grid_auto_columns": null,
            "grid_auto_flow": null,
            "grid_auto_rows": null,
            "grid_column": null,
            "grid_gap": null,
            "grid_row": null,
            "grid_template_areas": null,
            "grid_template_columns": null,
            "grid_template_rows": null,
            "height": null,
            "justify_content": null,
            "justify_items": null,
            "left": null,
            "margin": null,
            "max_height": null,
            "max_width": null,
            "min_height": null,
            "min_width": null,
            "object_fit": null,
            "object_position": null,
            "order": null,
            "overflow": null,
            "overflow_x": null,
            "overflow_y": null,
            "padding": null,
            "right": null,
            "top": null,
            "visibility": null,
            "width": null
          }
        },
        "0d3734795eb045b9b58af18dc93d69e6": {
          "model_module": "@jupyter-widgets/controls",
          "model_name": "DescriptionStyleModel",
          "model_module_version": "1.5.0",
          "state": {
            "_model_module": "@jupyter-widgets/controls",
            "_model_module_version": "1.5.0",
            "_model_name": "DescriptionStyleModel",
            "_view_count": null,
            "_view_module": "@jupyter-widgets/base",
            "_view_module_version": "1.2.0",
            "_view_name": "StyleView",
            "description_width": ""
          }
        },
        "9ff02e50145e40759e900d5d89339143": {
          "model_module": "@jupyter-widgets/base",
          "model_name": "LayoutModel",
          "model_module_version": "1.2.0",
          "state": {
            "_model_module": "@jupyter-widgets/base",
            "_model_module_version": "1.2.0",
            "_model_name": "LayoutModel",
            "_view_count": null,
            "_view_module": "@jupyter-widgets/base",
            "_view_module_version": "1.2.0",
            "_view_name": "LayoutView",
            "align_content": null,
            "align_items": null,
            "align_self": null,
            "border": null,
            "bottom": null,
            "display": null,
            "flex": null,
            "flex_flow": null,
            "grid_area": null,
            "grid_auto_columns": null,
            "grid_auto_flow": null,
            "grid_auto_rows": null,
            "grid_column": null,
            "grid_gap": null,
            "grid_row": null,
            "grid_template_areas": null,
            "grid_template_columns": null,
            "grid_template_rows": null,
            "height": null,
            "justify_content": null,
            "justify_items": null,
            "left": null,
            "margin": null,
            "max_height": null,
            "max_width": null,
            "min_height": null,
            "min_width": null,
            "object_fit": null,
            "object_position": null,
            "order": null,
            "overflow": null,
            "overflow_x": null,
            "overflow_y": null,
            "padding": null,
            "right": null,
            "top": null,
            "visibility": null,
            "width": null
          }
        },
        "b7fcb513ed304653862475d6e33d2cf2": {
          "model_module": "@jupyter-widgets/controls",
          "model_name": "ProgressStyleModel",
          "model_module_version": "1.5.0",
          "state": {
            "_model_module": "@jupyter-widgets/controls",
            "_model_module_version": "1.5.0",
            "_model_name": "ProgressStyleModel",
            "_view_count": null,
            "_view_module": "@jupyter-widgets/base",
            "_view_module_version": "1.2.0",
            "_view_name": "StyleView",
            "bar_color": null,
            "description_width": ""
          }
        },
        "a19bdda1d493448480143cec7d744da4": {
          "model_module": "@jupyter-widgets/base",
          "model_name": "LayoutModel",
          "model_module_version": "1.2.0",
          "state": {
            "_model_module": "@jupyter-widgets/base",
            "_model_module_version": "1.2.0",
            "_model_name": "LayoutModel",
            "_view_count": null,
            "_view_module": "@jupyter-widgets/base",
            "_view_module_version": "1.2.0",
            "_view_name": "LayoutView",
            "align_content": null,
            "align_items": null,
            "align_self": null,
            "border": null,
            "bottom": null,
            "display": null,
            "flex": null,
            "flex_flow": null,
            "grid_area": null,
            "grid_auto_columns": null,
            "grid_auto_flow": null,
            "grid_auto_rows": null,
            "grid_column": null,
            "grid_gap": null,
            "grid_row": null,
            "grid_template_areas": null,
            "grid_template_columns": null,
            "grid_template_rows": null,
            "height": null,
            "justify_content": null,
            "justify_items": null,
            "left": null,
            "margin": null,
            "max_height": null,
            "max_width": null,
            "min_height": null,
            "min_width": null,
            "object_fit": null,
            "object_position": null,
            "order": null,
            "overflow": null,
            "overflow_x": null,
            "overflow_y": null,
            "padding": null,
            "right": null,
            "top": null,
            "visibility": null,
            "width": null
          }
        },
        "7bd7d5ed441047f4b03e0dadd97364a2": {
          "model_module": "@jupyter-widgets/controls",
          "model_name": "DescriptionStyleModel",
          "model_module_version": "1.5.0",
          "state": {
            "_model_module": "@jupyter-widgets/controls",
            "_model_module_version": "1.5.0",
            "_model_name": "DescriptionStyleModel",
            "_view_count": null,
            "_view_module": "@jupyter-widgets/base",
            "_view_module_version": "1.2.0",
            "_view_name": "StyleView",
            "description_width": ""
          }
        },
        "f3444ed7c9e0431e9e4269320cffe1fa": {
          "model_module": "@jupyter-widgets/controls",
          "model_name": "HBoxModel",
          "model_module_version": "1.5.0",
          "state": {
            "_dom_classes": [],
            "_model_module": "@jupyter-widgets/controls",
            "_model_module_version": "1.5.0",
            "_model_name": "HBoxModel",
            "_view_count": null,
            "_view_module": "@jupyter-widgets/controls",
            "_view_module_version": "1.5.0",
            "_view_name": "HBoxView",
            "box_style": "",
            "children": [
              "IPY_MODEL_c9a8e687d6b44527ae5a0300d70cecbf",
              "IPY_MODEL_b07c0a0bad57478493449c5473775c44",
              "IPY_MODEL_ca37893dc8a149b78abdca4e8c94f455"
            ],
            "layout": "IPY_MODEL_fc8e92f8d5a44cbeaacda0e8e301b321"
          }
        },
        "c9a8e687d6b44527ae5a0300d70cecbf": {
          "model_module": "@jupyter-widgets/controls",
          "model_name": "HTMLModel",
          "model_module_version": "1.5.0",
          "state": {
            "_dom_classes": [],
            "_model_module": "@jupyter-widgets/controls",
            "_model_module_version": "1.5.0",
            "_model_name": "HTMLModel",
            "_view_count": null,
            "_view_module": "@jupyter-widgets/controls",
            "_view_module_version": "1.5.0",
            "_view_name": "HTMLView",
            "description": "",
            "description_tooltip": null,
            "layout": "IPY_MODEL_33b640d253a9451d8669591e0c139c85",
            "placeholder": "​",
            "style": "IPY_MODEL_c7916dfc923f41cfb2f240b116e3fdd4",
            "value": "Downloading (…)okenizer_config.json: 100%"
          }
        },
        "b07c0a0bad57478493449c5473775c44": {
          "model_module": "@jupyter-widgets/controls",
          "model_name": "FloatProgressModel",
          "model_module_version": "1.5.0",
          "state": {
            "_dom_classes": [],
            "_model_module": "@jupyter-widgets/controls",
            "_model_module_version": "1.5.0",
            "_model_name": "FloatProgressModel",
            "_view_count": null,
            "_view_module": "@jupyter-widgets/controls",
            "_view_module_version": "1.5.0",
            "_view_name": "ProgressView",
            "bar_style": "success",
            "description": "",
            "description_tooltip": null,
            "layout": "IPY_MODEL_408dcd9ddeb14227b829f5e8d54dd5a8",
            "max": 363,
            "min": 0,
            "orientation": "horizontal",
            "style": "IPY_MODEL_30e1d5fb107d469a9b0d2f5fa8f64cf4",
            "value": 363
          }
        },
        "ca37893dc8a149b78abdca4e8c94f455": {
          "model_module": "@jupyter-widgets/controls",
          "model_name": "HTMLModel",
          "model_module_version": "1.5.0",
          "state": {
            "_dom_classes": [],
            "_model_module": "@jupyter-widgets/controls",
            "_model_module_version": "1.5.0",
            "_model_name": "HTMLModel",
            "_view_count": null,
            "_view_module": "@jupyter-widgets/controls",
            "_view_module_version": "1.5.0",
            "_view_name": "HTMLView",
            "description": "",
            "description_tooltip": null,
            "layout": "IPY_MODEL_52a544639a2f4bc6861da3e584e687b1",
            "placeholder": "​",
            "style": "IPY_MODEL_18e2c5fc58c94b119cb86bab5625b56d",
            "value": " 363/363 [00:00&lt;00:00, 12.7kB/s]"
          }
        },
        "fc8e92f8d5a44cbeaacda0e8e301b321": {
          "model_module": "@jupyter-widgets/base",
          "model_name": "LayoutModel",
          "model_module_version": "1.2.0",
          "state": {
            "_model_module": "@jupyter-widgets/base",
            "_model_module_version": "1.2.0",
            "_model_name": "LayoutModel",
            "_view_count": null,
            "_view_module": "@jupyter-widgets/base",
            "_view_module_version": "1.2.0",
            "_view_name": "LayoutView",
            "align_content": null,
            "align_items": null,
            "align_self": null,
            "border": null,
            "bottom": null,
            "display": null,
            "flex": null,
            "flex_flow": null,
            "grid_area": null,
            "grid_auto_columns": null,
            "grid_auto_flow": null,
            "grid_auto_rows": null,
            "grid_column": null,
            "grid_gap": null,
            "grid_row": null,
            "grid_template_areas": null,
            "grid_template_columns": null,
            "grid_template_rows": null,
            "height": null,
            "justify_content": null,
            "justify_items": null,
            "left": null,
            "margin": null,
            "max_height": null,
            "max_width": null,
            "min_height": null,
            "min_width": null,
            "object_fit": null,
            "object_position": null,
            "order": null,
            "overflow": null,
            "overflow_x": null,
            "overflow_y": null,
            "padding": null,
            "right": null,
            "top": null,
            "visibility": null,
            "width": null
          }
        },
        "33b640d253a9451d8669591e0c139c85": {
          "model_module": "@jupyter-widgets/base",
          "model_name": "LayoutModel",
          "model_module_version": "1.2.0",
          "state": {
            "_model_module": "@jupyter-widgets/base",
            "_model_module_version": "1.2.0",
            "_model_name": "LayoutModel",
            "_view_count": null,
            "_view_module": "@jupyter-widgets/base",
            "_view_module_version": "1.2.0",
            "_view_name": "LayoutView",
            "align_content": null,
            "align_items": null,
            "align_self": null,
            "border": null,
            "bottom": null,
            "display": null,
            "flex": null,
            "flex_flow": null,
            "grid_area": null,
            "grid_auto_columns": null,
            "grid_auto_flow": null,
            "grid_auto_rows": null,
            "grid_column": null,
            "grid_gap": null,
            "grid_row": null,
            "grid_template_areas": null,
            "grid_template_columns": null,
            "grid_template_rows": null,
            "height": null,
            "justify_content": null,
            "justify_items": null,
            "left": null,
            "margin": null,
            "max_height": null,
            "max_width": null,
            "min_height": null,
            "min_width": null,
            "object_fit": null,
            "object_position": null,
            "order": null,
            "overflow": null,
            "overflow_x": null,
            "overflow_y": null,
            "padding": null,
            "right": null,
            "top": null,
            "visibility": null,
            "width": null
          }
        },
        "c7916dfc923f41cfb2f240b116e3fdd4": {
          "model_module": "@jupyter-widgets/controls",
          "model_name": "DescriptionStyleModel",
          "model_module_version": "1.5.0",
          "state": {
            "_model_module": "@jupyter-widgets/controls",
            "_model_module_version": "1.5.0",
            "_model_name": "DescriptionStyleModel",
            "_view_count": null,
            "_view_module": "@jupyter-widgets/base",
            "_view_module_version": "1.2.0",
            "_view_name": "StyleView",
            "description_width": ""
          }
        },
        "408dcd9ddeb14227b829f5e8d54dd5a8": {
          "model_module": "@jupyter-widgets/base",
          "model_name": "LayoutModel",
          "model_module_version": "1.2.0",
          "state": {
            "_model_module": "@jupyter-widgets/base",
            "_model_module_version": "1.2.0",
            "_model_name": "LayoutModel",
            "_view_count": null,
            "_view_module": "@jupyter-widgets/base",
            "_view_module_version": "1.2.0",
            "_view_name": "LayoutView",
            "align_content": null,
            "align_items": null,
            "align_self": null,
            "border": null,
            "bottom": null,
            "display": null,
            "flex": null,
            "flex_flow": null,
            "grid_area": null,
            "grid_auto_columns": null,
            "grid_auto_flow": null,
            "grid_auto_rows": null,
            "grid_column": null,
            "grid_gap": null,
            "grid_row": null,
            "grid_template_areas": null,
            "grid_template_columns": null,
            "grid_template_rows": null,
            "height": null,
            "justify_content": null,
            "justify_items": null,
            "left": null,
            "margin": null,
            "max_height": null,
            "max_width": null,
            "min_height": null,
            "min_width": null,
            "object_fit": null,
            "object_position": null,
            "order": null,
            "overflow": null,
            "overflow_x": null,
            "overflow_y": null,
            "padding": null,
            "right": null,
            "top": null,
            "visibility": null,
            "width": null
          }
        },
        "30e1d5fb107d469a9b0d2f5fa8f64cf4": {
          "model_module": "@jupyter-widgets/controls",
          "model_name": "ProgressStyleModel",
          "model_module_version": "1.5.0",
          "state": {
            "_model_module": "@jupyter-widgets/controls",
            "_model_module_version": "1.5.0",
            "_model_name": "ProgressStyleModel",
            "_view_count": null,
            "_view_module": "@jupyter-widgets/base",
            "_view_module_version": "1.2.0",
            "_view_name": "StyleView",
            "bar_color": null,
            "description_width": ""
          }
        },
        "52a544639a2f4bc6861da3e584e687b1": {
          "model_module": "@jupyter-widgets/base",
          "model_name": "LayoutModel",
          "model_module_version": "1.2.0",
          "state": {
            "_model_module": "@jupyter-widgets/base",
            "_model_module_version": "1.2.0",
            "_model_name": "LayoutModel",
            "_view_count": null,
            "_view_module": "@jupyter-widgets/base",
            "_view_module_version": "1.2.0",
            "_view_name": "LayoutView",
            "align_content": null,
            "align_items": null,
            "align_self": null,
            "border": null,
            "bottom": null,
            "display": null,
            "flex": null,
            "flex_flow": null,
            "grid_area": null,
            "grid_auto_columns": null,
            "grid_auto_flow": null,
            "grid_auto_rows": null,
            "grid_column": null,
            "grid_gap": null,
            "grid_row": null,
            "grid_template_areas": null,
            "grid_template_columns": null,
            "grid_template_rows": null,
            "height": null,
            "justify_content": null,
            "justify_items": null,
            "left": null,
            "margin": null,
            "max_height": null,
            "max_width": null,
            "min_height": null,
            "min_width": null,
            "object_fit": null,
            "object_position": null,
            "order": null,
            "overflow": null,
            "overflow_x": null,
            "overflow_y": null,
            "padding": null,
            "right": null,
            "top": null,
            "visibility": null,
            "width": null
          }
        },
        "18e2c5fc58c94b119cb86bab5625b56d": {
          "model_module": "@jupyter-widgets/controls",
          "model_name": "DescriptionStyleModel",
          "model_module_version": "1.5.0",
          "state": {
            "_model_module": "@jupyter-widgets/controls",
            "_model_module_version": "1.5.0",
            "_model_name": "DescriptionStyleModel",
            "_view_count": null,
            "_view_module": "@jupyter-widgets/base",
            "_view_module_version": "1.2.0",
            "_view_name": "StyleView",
            "description_width": ""
          }
        },
        "afba13bdd984456e9da54bacffa13077": {
          "model_module": "@jupyter-widgets/controls",
          "model_name": "HBoxModel",
          "model_module_version": "1.5.0",
          "state": {
            "_dom_classes": [],
            "_model_module": "@jupyter-widgets/controls",
            "_model_module_version": "1.5.0",
            "_model_name": "HBoxModel",
            "_view_count": null,
            "_view_module": "@jupyter-widgets/controls",
            "_view_module_version": "1.5.0",
            "_view_name": "HBoxView",
            "box_style": "",
            "children": [
              "IPY_MODEL_eedddcb8334e4d06a7c4d2605885c5c8",
              "IPY_MODEL_5163905fe08b45a3915a74cbc23e52af",
              "IPY_MODEL_7f231cdceece42e2a990dcd76e771c85"
            ],
            "layout": "IPY_MODEL_bbfd33e110c64ff683059320675399cd"
          }
        },
        "eedddcb8334e4d06a7c4d2605885c5c8": {
          "model_module": "@jupyter-widgets/controls",
          "model_name": "HTMLModel",
          "model_module_version": "1.5.0",
          "state": {
            "_dom_classes": [],
            "_model_module": "@jupyter-widgets/controls",
            "_model_module_version": "1.5.0",
            "_model_name": "HTMLModel",
            "_view_count": null,
            "_view_module": "@jupyter-widgets/controls",
            "_view_module_version": "1.5.0",
            "_view_name": "HTMLView",
            "description": "",
            "description_tooltip": null,
            "layout": "IPY_MODEL_b29ce9b6ff744b8ba575bc11b48e776d",
            "placeholder": "​",
            "style": "IPY_MODEL_c5e725ad475f43f9bb24fa2b69cbfe0e",
            "value": "Downloading (…)8e1d/train_script.py: 100%"
          }
        },
        "5163905fe08b45a3915a74cbc23e52af": {
          "model_module": "@jupyter-widgets/controls",
          "model_name": "FloatProgressModel",
          "model_module_version": "1.5.0",
          "state": {
            "_dom_classes": [],
            "_model_module": "@jupyter-widgets/controls",
            "_model_module_version": "1.5.0",
            "_model_name": "FloatProgressModel",
            "_view_count": null,
            "_view_module": "@jupyter-widgets/controls",
            "_view_module_version": "1.5.0",
            "_view_name": "ProgressView",
            "bar_style": "success",
            "description": "",
            "description_tooltip": null,
            "layout": "IPY_MODEL_53369179c6e84c959c2d187def0c37bf",
            "max": 13123,
            "min": 0,
            "orientation": "horizontal",
            "style": "IPY_MODEL_a9cd42d6bef4445cb07413bd392d69fb",
            "value": 13123
          }
        },
        "7f231cdceece42e2a990dcd76e771c85": {
          "model_module": "@jupyter-widgets/controls",
          "model_name": "HTMLModel",
          "model_module_version": "1.5.0",
          "state": {
            "_dom_classes": [],
            "_model_module": "@jupyter-widgets/controls",
            "_model_module_version": "1.5.0",
            "_model_name": "HTMLModel",
            "_view_count": null,
            "_view_module": "@jupyter-widgets/controls",
            "_view_module_version": "1.5.0",
            "_view_name": "HTMLView",
            "description": "",
            "description_tooltip": null,
            "layout": "IPY_MODEL_d3c9faf05abc4985b7b1a575fd469987",
            "placeholder": "​",
            "style": "IPY_MODEL_a2f24ca654a4484b903b415257faddce",
            "value": " 13.1k/13.1k [00:00&lt;00:00, 190kB/s]"
          }
        },
        "bbfd33e110c64ff683059320675399cd": {
          "model_module": "@jupyter-widgets/base",
          "model_name": "LayoutModel",
          "model_module_version": "1.2.0",
          "state": {
            "_model_module": "@jupyter-widgets/base",
            "_model_module_version": "1.2.0",
            "_model_name": "LayoutModel",
            "_view_count": null,
            "_view_module": "@jupyter-widgets/base",
            "_view_module_version": "1.2.0",
            "_view_name": "LayoutView",
            "align_content": null,
            "align_items": null,
            "align_self": null,
            "border": null,
            "bottom": null,
            "display": null,
            "flex": null,
            "flex_flow": null,
            "grid_area": null,
            "grid_auto_columns": null,
            "grid_auto_flow": null,
            "grid_auto_rows": null,
            "grid_column": null,
            "grid_gap": null,
            "grid_row": null,
            "grid_template_areas": null,
            "grid_template_columns": null,
            "grid_template_rows": null,
            "height": null,
            "justify_content": null,
            "justify_items": null,
            "left": null,
            "margin": null,
            "max_height": null,
            "max_width": null,
            "min_height": null,
            "min_width": null,
            "object_fit": null,
            "object_position": null,
            "order": null,
            "overflow": null,
            "overflow_x": null,
            "overflow_y": null,
            "padding": null,
            "right": null,
            "top": null,
            "visibility": null,
            "width": null
          }
        },
        "b29ce9b6ff744b8ba575bc11b48e776d": {
          "model_module": "@jupyter-widgets/base",
          "model_name": "LayoutModel",
          "model_module_version": "1.2.0",
          "state": {
            "_model_module": "@jupyter-widgets/base",
            "_model_module_version": "1.2.0",
            "_model_name": "LayoutModel",
            "_view_count": null,
            "_view_module": "@jupyter-widgets/base",
            "_view_module_version": "1.2.0",
            "_view_name": "LayoutView",
            "align_content": null,
            "align_items": null,
            "align_self": null,
            "border": null,
            "bottom": null,
            "display": null,
            "flex": null,
            "flex_flow": null,
            "grid_area": null,
            "grid_auto_columns": null,
            "grid_auto_flow": null,
            "grid_auto_rows": null,
            "grid_column": null,
            "grid_gap": null,
            "grid_row": null,
            "grid_template_areas": null,
            "grid_template_columns": null,
            "grid_template_rows": null,
            "height": null,
            "justify_content": null,
            "justify_items": null,
            "left": null,
            "margin": null,
            "max_height": null,
            "max_width": null,
            "min_height": null,
            "min_width": null,
            "object_fit": null,
            "object_position": null,
            "order": null,
            "overflow": null,
            "overflow_x": null,
            "overflow_y": null,
            "padding": null,
            "right": null,
            "top": null,
            "visibility": null,
            "width": null
          }
        },
        "c5e725ad475f43f9bb24fa2b69cbfe0e": {
          "model_module": "@jupyter-widgets/controls",
          "model_name": "DescriptionStyleModel",
          "model_module_version": "1.5.0",
          "state": {
            "_model_module": "@jupyter-widgets/controls",
            "_model_module_version": "1.5.0",
            "_model_name": "DescriptionStyleModel",
            "_view_count": null,
            "_view_module": "@jupyter-widgets/base",
            "_view_module_version": "1.2.0",
            "_view_name": "StyleView",
            "description_width": ""
          }
        },
        "53369179c6e84c959c2d187def0c37bf": {
          "model_module": "@jupyter-widgets/base",
          "model_name": "LayoutModel",
          "model_module_version": "1.2.0",
          "state": {
            "_model_module": "@jupyter-widgets/base",
            "_model_module_version": "1.2.0",
            "_model_name": "LayoutModel",
            "_view_count": null,
            "_view_module": "@jupyter-widgets/base",
            "_view_module_version": "1.2.0",
            "_view_name": "LayoutView",
            "align_content": null,
            "align_items": null,
            "align_self": null,
            "border": null,
            "bottom": null,
            "display": null,
            "flex": null,
            "flex_flow": null,
            "grid_area": null,
            "grid_auto_columns": null,
            "grid_auto_flow": null,
            "grid_auto_rows": null,
            "grid_column": null,
            "grid_gap": null,
            "grid_row": null,
            "grid_template_areas": null,
            "grid_template_columns": null,
            "grid_template_rows": null,
            "height": null,
            "justify_content": null,
            "justify_items": null,
            "left": null,
            "margin": null,
            "max_height": null,
            "max_width": null,
            "min_height": null,
            "min_width": null,
            "object_fit": null,
            "object_position": null,
            "order": null,
            "overflow": null,
            "overflow_x": null,
            "overflow_y": null,
            "padding": null,
            "right": null,
            "top": null,
            "visibility": null,
            "width": null
          }
        },
        "a9cd42d6bef4445cb07413bd392d69fb": {
          "model_module": "@jupyter-widgets/controls",
          "model_name": "ProgressStyleModel",
          "model_module_version": "1.5.0",
          "state": {
            "_model_module": "@jupyter-widgets/controls",
            "_model_module_version": "1.5.0",
            "_model_name": "ProgressStyleModel",
            "_view_count": null,
            "_view_module": "@jupyter-widgets/base",
            "_view_module_version": "1.2.0",
            "_view_name": "StyleView",
            "bar_color": null,
            "description_width": ""
          }
        },
        "d3c9faf05abc4985b7b1a575fd469987": {
          "model_module": "@jupyter-widgets/base",
          "model_name": "LayoutModel",
          "model_module_version": "1.2.0",
          "state": {
            "_model_module": "@jupyter-widgets/base",
            "_model_module_version": "1.2.0",
            "_model_name": "LayoutModel",
            "_view_count": null,
            "_view_module": "@jupyter-widgets/base",
            "_view_module_version": "1.2.0",
            "_view_name": "LayoutView",
            "align_content": null,
            "align_items": null,
            "align_self": null,
            "border": null,
            "bottom": null,
            "display": null,
            "flex": null,
            "flex_flow": null,
            "grid_area": null,
            "grid_auto_columns": null,
            "grid_auto_flow": null,
            "grid_auto_rows": null,
            "grid_column": null,
            "grid_gap": null,
            "grid_row": null,
            "grid_template_areas": null,
            "grid_template_columns": null,
            "grid_template_rows": null,
            "height": null,
            "justify_content": null,
            "justify_items": null,
            "left": null,
            "margin": null,
            "max_height": null,
            "max_width": null,
            "min_height": null,
            "min_width": null,
            "object_fit": null,
            "object_position": null,
            "order": null,
            "overflow": null,
            "overflow_x": null,
            "overflow_y": null,
            "padding": null,
            "right": null,
            "top": null,
            "visibility": null,
            "width": null
          }
        },
        "a2f24ca654a4484b903b415257faddce": {
          "model_module": "@jupyter-widgets/controls",
          "model_name": "DescriptionStyleModel",
          "model_module_version": "1.5.0",
          "state": {
            "_model_module": "@jupyter-widgets/controls",
            "_model_module_version": "1.5.0",
            "_model_name": "DescriptionStyleModel",
            "_view_count": null,
            "_view_module": "@jupyter-widgets/base",
            "_view_module_version": "1.2.0",
            "_view_name": "StyleView",
            "description_width": ""
          }
        },
        "f877968d196e41998591c71544aee709": {
          "model_module": "@jupyter-widgets/controls",
          "model_name": "HBoxModel",
          "model_module_version": "1.5.0",
          "state": {
            "_dom_classes": [],
            "_model_module": "@jupyter-widgets/controls",
            "_model_module_version": "1.5.0",
            "_model_name": "HBoxModel",
            "_view_count": null,
            "_view_module": "@jupyter-widgets/controls",
            "_view_module_version": "1.5.0",
            "_view_name": "HBoxView",
            "box_style": "",
            "children": [
              "IPY_MODEL_6e970d089d184861bdec406680ee19bf",
              "IPY_MODEL_d55bdb7c205042a3bea2ad8ccce05a0a",
              "IPY_MODEL_278625ec98fc49d0913b9d9feae626b9"
            ],
            "layout": "IPY_MODEL_0510a88047b146bca8c04a2778c63d96"
          }
        },
        "6e970d089d184861bdec406680ee19bf": {
          "model_module": "@jupyter-widgets/controls",
          "model_name": "HTMLModel",
          "model_module_version": "1.5.0",
          "state": {
            "_dom_classes": [],
            "_model_module": "@jupyter-widgets/controls",
            "_model_module_version": "1.5.0",
            "_model_name": "HTMLModel",
            "_view_count": null,
            "_view_module": "@jupyter-widgets/controls",
            "_view_module_version": "1.5.0",
            "_view_name": "HTMLView",
            "description": "",
            "description_tooltip": null,
            "layout": "IPY_MODEL_7bf1e0308a4447958acbe7e3a3fb574a",
            "placeholder": "​",
            "style": "IPY_MODEL_ac12a2bbce2f4d859db44a7c7f78f2b2",
            "value": "Downloading (…)b20bca8e1d/vocab.txt: 100%"
          }
        },
        "d55bdb7c205042a3bea2ad8ccce05a0a": {
          "model_module": "@jupyter-widgets/controls",
          "model_name": "FloatProgressModel",
          "model_module_version": "1.5.0",
          "state": {
            "_dom_classes": [],
            "_model_module": "@jupyter-widgets/controls",
            "_model_module_version": "1.5.0",
            "_model_name": "FloatProgressModel",
            "_view_count": null,
            "_view_module": "@jupyter-widgets/controls",
            "_view_module_version": "1.5.0",
            "_view_name": "ProgressView",
            "bar_style": "success",
            "description": "",
            "description_tooltip": null,
            "layout": "IPY_MODEL_ab88df6a43f2433d90b3b15c9b9f302e",
            "max": 231536,
            "min": 0,
            "orientation": "horizontal",
            "style": "IPY_MODEL_aa5189bd8a3f4072a5dd93c41aaef13d",
            "value": 231536
          }
        },
        "278625ec98fc49d0913b9d9feae626b9": {
          "model_module": "@jupyter-widgets/controls",
          "model_name": "HTMLModel",
          "model_module_version": "1.5.0",
          "state": {
            "_dom_classes": [],
            "_model_module": "@jupyter-widgets/controls",
            "_model_module_version": "1.5.0",
            "_model_name": "HTMLModel",
            "_view_count": null,
            "_view_module": "@jupyter-widgets/controls",
            "_view_module_version": "1.5.0",
            "_view_name": "HTMLView",
            "description": "",
            "description_tooltip": null,
            "layout": "IPY_MODEL_70c4308ca5be461790fd14d380b188b5",
            "placeholder": "​",
            "style": "IPY_MODEL_d9935c7d79dc4c7599d478c7fedddaf4",
            "value": " 232k/232k [00:00&lt;00:00, 2.68MB/s]"
          }
        },
        "0510a88047b146bca8c04a2778c63d96": {
          "model_module": "@jupyter-widgets/base",
          "model_name": "LayoutModel",
          "model_module_version": "1.2.0",
          "state": {
            "_model_module": "@jupyter-widgets/base",
            "_model_module_version": "1.2.0",
            "_model_name": "LayoutModel",
            "_view_count": null,
            "_view_module": "@jupyter-widgets/base",
            "_view_module_version": "1.2.0",
            "_view_name": "LayoutView",
            "align_content": null,
            "align_items": null,
            "align_self": null,
            "border": null,
            "bottom": null,
            "display": null,
            "flex": null,
            "flex_flow": null,
            "grid_area": null,
            "grid_auto_columns": null,
            "grid_auto_flow": null,
            "grid_auto_rows": null,
            "grid_column": null,
            "grid_gap": null,
            "grid_row": null,
            "grid_template_areas": null,
            "grid_template_columns": null,
            "grid_template_rows": null,
            "height": null,
            "justify_content": null,
            "justify_items": null,
            "left": null,
            "margin": null,
            "max_height": null,
            "max_width": null,
            "min_height": null,
            "min_width": null,
            "object_fit": null,
            "object_position": null,
            "order": null,
            "overflow": null,
            "overflow_x": null,
            "overflow_y": null,
            "padding": null,
            "right": null,
            "top": null,
            "visibility": null,
            "width": null
          }
        },
        "7bf1e0308a4447958acbe7e3a3fb574a": {
          "model_module": "@jupyter-widgets/base",
          "model_name": "LayoutModel",
          "model_module_version": "1.2.0",
          "state": {
            "_model_module": "@jupyter-widgets/base",
            "_model_module_version": "1.2.0",
            "_model_name": "LayoutModel",
            "_view_count": null,
            "_view_module": "@jupyter-widgets/base",
            "_view_module_version": "1.2.0",
            "_view_name": "LayoutView",
            "align_content": null,
            "align_items": null,
            "align_self": null,
            "border": null,
            "bottom": null,
            "display": null,
            "flex": null,
            "flex_flow": null,
            "grid_area": null,
            "grid_auto_columns": null,
            "grid_auto_flow": null,
            "grid_auto_rows": null,
            "grid_column": null,
            "grid_gap": null,
            "grid_row": null,
            "grid_template_areas": null,
            "grid_template_columns": null,
            "grid_template_rows": null,
            "height": null,
            "justify_content": null,
            "justify_items": null,
            "left": null,
            "margin": null,
            "max_height": null,
            "max_width": null,
            "min_height": null,
            "min_width": null,
            "object_fit": null,
            "object_position": null,
            "order": null,
            "overflow": null,
            "overflow_x": null,
            "overflow_y": null,
            "padding": null,
            "right": null,
            "top": null,
            "visibility": null,
            "width": null
          }
        },
        "ac12a2bbce2f4d859db44a7c7f78f2b2": {
          "model_module": "@jupyter-widgets/controls",
          "model_name": "DescriptionStyleModel",
          "model_module_version": "1.5.0",
          "state": {
            "_model_module": "@jupyter-widgets/controls",
            "_model_module_version": "1.5.0",
            "_model_name": "DescriptionStyleModel",
            "_view_count": null,
            "_view_module": "@jupyter-widgets/base",
            "_view_module_version": "1.2.0",
            "_view_name": "StyleView",
            "description_width": ""
          }
        },
        "ab88df6a43f2433d90b3b15c9b9f302e": {
          "model_module": "@jupyter-widgets/base",
          "model_name": "LayoutModel",
          "model_module_version": "1.2.0",
          "state": {
            "_model_module": "@jupyter-widgets/base",
            "_model_module_version": "1.2.0",
            "_model_name": "LayoutModel",
            "_view_count": null,
            "_view_module": "@jupyter-widgets/base",
            "_view_module_version": "1.2.0",
            "_view_name": "LayoutView",
            "align_content": null,
            "align_items": null,
            "align_self": null,
            "border": null,
            "bottom": null,
            "display": null,
            "flex": null,
            "flex_flow": null,
            "grid_area": null,
            "grid_auto_columns": null,
            "grid_auto_flow": null,
            "grid_auto_rows": null,
            "grid_column": null,
            "grid_gap": null,
            "grid_row": null,
            "grid_template_areas": null,
            "grid_template_columns": null,
            "grid_template_rows": null,
            "height": null,
            "justify_content": null,
            "justify_items": null,
            "left": null,
            "margin": null,
            "max_height": null,
            "max_width": null,
            "min_height": null,
            "min_width": null,
            "object_fit": null,
            "object_position": null,
            "order": null,
            "overflow": null,
            "overflow_x": null,
            "overflow_y": null,
            "padding": null,
            "right": null,
            "top": null,
            "visibility": null,
            "width": null
          }
        },
        "aa5189bd8a3f4072a5dd93c41aaef13d": {
          "model_module": "@jupyter-widgets/controls",
          "model_name": "ProgressStyleModel",
          "model_module_version": "1.5.0",
          "state": {
            "_model_module": "@jupyter-widgets/controls",
            "_model_module_version": "1.5.0",
            "_model_name": "ProgressStyleModel",
            "_view_count": null,
            "_view_module": "@jupyter-widgets/base",
            "_view_module_version": "1.2.0",
            "_view_name": "StyleView",
            "bar_color": null,
            "description_width": ""
          }
        },
        "70c4308ca5be461790fd14d380b188b5": {
          "model_module": "@jupyter-widgets/base",
          "model_name": "LayoutModel",
          "model_module_version": "1.2.0",
          "state": {
            "_model_module": "@jupyter-widgets/base",
            "_model_module_version": "1.2.0",
            "_model_name": "LayoutModel",
            "_view_count": null,
            "_view_module": "@jupyter-widgets/base",
            "_view_module_version": "1.2.0",
            "_view_name": "LayoutView",
            "align_content": null,
            "align_items": null,
            "align_self": null,
            "border": null,
            "bottom": null,
            "display": null,
            "flex": null,
            "flex_flow": null,
            "grid_area": null,
            "grid_auto_columns": null,
            "grid_auto_flow": null,
            "grid_auto_rows": null,
            "grid_column": null,
            "grid_gap": null,
            "grid_row": null,
            "grid_template_areas": null,
            "grid_template_columns": null,
            "grid_template_rows": null,
            "height": null,
            "justify_content": null,
            "justify_items": null,
            "left": null,
            "margin": null,
            "max_height": null,
            "max_width": null,
            "min_height": null,
            "min_width": null,
            "object_fit": null,
            "object_position": null,
            "order": null,
            "overflow": null,
            "overflow_x": null,
            "overflow_y": null,
            "padding": null,
            "right": null,
            "top": null,
            "visibility": null,
            "width": null
          }
        },
        "d9935c7d79dc4c7599d478c7fedddaf4": {
          "model_module": "@jupyter-widgets/controls",
          "model_name": "DescriptionStyleModel",
          "model_module_version": "1.5.0",
          "state": {
            "_model_module": "@jupyter-widgets/controls",
            "_model_module_version": "1.5.0",
            "_model_name": "DescriptionStyleModel",
            "_view_count": null,
            "_view_module": "@jupyter-widgets/base",
            "_view_module_version": "1.2.0",
            "_view_name": "StyleView",
            "description_width": ""
          }
        },
        "08d2c5cc05e241bfb318797c3544d5ba": {
          "model_module": "@jupyter-widgets/controls",
          "model_name": "HBoxModel",
          "model_module_version": "1.5.0",
          "state": {
            "_dom_classes": [],
            "_model_module": "@jupyter-widgets/controls",
            "_model_module_version": "1.5.0",
            "_model_name": "HBoxModel",
            "_view_count": null,
            "_view_module": "@jupyter-widgets/controls",
            "_view_module_version": "1.5.0",
            "_view_name": "HBoxView",
            "box_style": "",
            "children": [
              "IPY_MODEL_24f753f319d544daabc2f39e90c36723",
              "IPY_MODEL_91f03e2fb84249b68b43185981791a4b",
              "IPY_MODEL_d9955840374645188a24b6ca4d69ecfb"
            ],
            "layout": "IPY_MODEL_4ccbc7da4b5d490389634a41522e5f83"
          }
        },
        "24f753f319d544daabc2f39e90c36723": {
          "model_module": "@jupyter-widgets/controls",
          "model_name": "HTMLModel",
          "model_module_version": "1.5.0",
          "state": {
            "_dom_classes": [],
            "_model_module": "@jupyter-widgets/controls",
            "_model_module_version": "1.5.0",
            "_model_name": "HTMLModel",
            "_view_count": null,
            "_view_module": "@jupyter-widgets/controls",
            "_view_module_version": "1.5.0",
            "_view_name": "HTMLView",
            "description": "",
            "description_tooltip": null,
            "layout": "IPY_MODEL_7101e68a162a4c7e8b620450a8d5324c",
            "placeholder": "​",
            "style": "IPY_MODEL_a5ad9418d9c5445e8d47c76c2b3abd59",
            "value": "Downloading (…)bca8e1d/modules.json: 100%"
          }
        },
        "91f03e2fb84249b68b43185981791a4b": {
          "model_module": "@jupyter-widgets/controls",
          "model_name": "FloatProgressModel",
          "model_module_version": "1.5.0",
          "state": {
            "_dom_classes": [],
            "_model_module": "@jupyter-widgets/controls",
            "_model_module_version": "1.5.0",
            "_model_name": "FloatProgressModel",
            "_view_count": null,
            "_view_module": "@jupyter-widgets/controls",
            "_view_module_version": "1.5.0",
            "_view_name": "ProgressView",
            "bar_style": "success",
            "description": "",
            "description_tooltip": null,
            "layout": "IPY_MODEL_60db0f56554a4a418add20a5ace1eff2",
            "max": 349,
            "min": 0,
            "orientation": "horizontal",
            "style": "IPY_MODEL_4dab2553cdfa4cd08a4ac55caef1f6e7",
            "value": 349
          }
        },
        "d9955840374645188a24b6ca4d69ecfb": {
          "model_module": "@jupyter-widgets/controls",
          "model_name": "HTMLModel",
          "model_module_version": "1.5.0",
          "state": {
            "_dom_classes": [],
            "_model_module": "@jupyter-widgets/controls",
            "_model_module_version": "1.5.0",
            "_model_name": "HTMLModel",
            "_view_count": null,
            "_view_module": "@jupyter-widgets/controls",
            "_view_module_version": "1.5.0",
            "_view_name": "HTMLView",
            "description": "",
            "description_tooltip": null,
            "layout": "IPY_MODEL_949e12311e00414f8c206ab37c0a6cde",
            "placeholder": "​",
            "style": "IPY_MODEL_e1ea83d01daf488f855a6829b8b214c4",
            "value": " 349/349 [00:00&lt;00:00, 7.71kB/s]"
          }
        },
        "4ccbc7da4b5d490389634a41522e5f83": {
          "model_module": "@jupyter-widgets/base",
          "model_name": "LayoutModel",
          "model_module_version": "1.2.0",
          "state": {
            "_model_module": "@jupyter-widgets/base",
            "_model_module_version": "1.2.0",
            "_model_name": "LayoutModel",
            "_view_count": null,
            "_view_module": "@jupyter-widgets/base",
            "_view_module_version": "1.2.0",
            "_view_name": "LayoutView",
            "align_content": null,
            "align_items": null,
            "align_self": null,
            "border": null,
            "bottom": null,
            "display": null,
            "flex": null,
            "flex_flow": null,
            "grid_area": null,
            "grid_auto_columns": null,
            "grid_auto_flow": null,
            "grid_auto_rows": null,
            "grid_column": null,
            "grid_gap": null,
            "grid_row": null,
            "grid_template_areas": null,
            "grid_template_columns": null,
            "grid_template_rows": null,
            "height": null,
            "justify_content": null,
            "justify_items": null,
            "left": null,
            "margin": null,
            "max_height": null,
            "max_width": null,
            "min_height": null,
            "min_width": null,
            "object_fit": null,
            "object_position": null,
            "order": null,
            "overflow": null,
            "overflow_x": null,
            "overflow_y": null,
            "padding": null,
            "right": null,
            "top": null,
            "visibility": null,
            "width": null
          }
        },
        "7101e68a162a4c7e8b620450a8d5324c": {
          "model_module": "@jupyter-widgets/base",
          "model_name": "LayoutModel",
          "model_module_version": "1.2.0",
          "state": {
            "_model_module": "@jupyter-widgets/base",
            "_model_module_version": "1.2.0",
            "_model_name": "LayoutModel",
            "_view_count": null,
            "_view_module": "@jupyter-widgets/base",
            "_view_module_version": "1.2.0",
            "_view_name": "LayoutView",
            "align_content": null,
            "align_items": null,
            "align_self": null,
            "border": null,
            "bottom": null,
            "display": null,
            "flex": null,
            "flex_flow": null,
            "grid_area": null,
            "grid_auto_columns": null,
            "grid_auto_flow": null,
            "grid_auto_rows": null,
            "grid_column": null,
            "grid_gap": null,
            "grid_row": null,
            "grid_template_areas": null,
            "grid_template_columns": null,
            "grid_template_rows": null,
            "height": null,
            "justify_content": null,
            "justify_items": null,
            "left": null,
            "margin": null,
            "max_height": null,
            "max_width": null,
            "min_height": null,
            "min_width": null,
            "object_fit": null,
            "object_position": null,
            "order": null,
            "overflow": null,
            "overflow_x": null,
            "overflow_y": null,
            "padding": null,
            "right": null,
            "top": null,
            "visibility": null,
            "width": null
          }
        },
        "a5ad9418d9c5445e8d47c76c2b3abd59": {
          "model_module": "@jupyter-widgets/controls",
          "model_name": "DescriptionStyleModel",
          "model_module_version": "1.5.0",
          "state": {
            "_model_module": "@jupyter-widgets/controls",
            "_model_module_version": "1.5.0",
            "_model_name": "DescriptionStyleModel",
            "_view_count": null,
            "_view_module": "@jupyter-widgets/base",
            "_view_module_version": "1.2.0",
            "_view_name": "StyleView",
            "description_width": ""
          }
        },
        "60db0f56554a4a418add20a5ace1eff2": {
          "model_module": "@jupyter-widgets/base",
          "model_name": "LayoutModel",
          "model_module_version": "1.2.0",
          "state": {
            "_model_module": "@jupyter-widgets/base",
            "_model_module_version": "1.2.0",
            "_model_name": "LayoutModel",
            "_view_count": null,
            "_view_module": "@jupyter-widgets/base",
            "_view_module_version": "1.2.0",
            "_view_name": "LayoutView",
            "align_content": null,
            "align_items": null,
            "align_self": null,
            "border": null,
            "bottom": null,
            "display": null,
            "flex": null,
            "flex_flow": null,
            "grid_area": null,
            "grid_auto_columns": null,
            "grid_auto_flow": null,
            "grid_auto_rows": null,
            "grid_column": null,
            "grid_gap": null,
            "grid_row": null,
            "grid_template_areas": null,
            "grid_template_columns": null,
            "grid_template_rows": null,
            "height": null,
            "justify_content": null,
            "justify_items": null,
            "left": null,
            "margin": null,
            "max_height": null,
            "max_width": null,
            "min_height": null,
            "min_width": null,
            "object_fit": null,
            "object_position": null,
            "order": null,
            "overflow": null,
            "overflow_x": null,
            "overflow_y": null,
            "padding": null,
            "right": null,
            "top": null,
            "visibility": null,
            "width": null
          }
        },
        "4dab2553cdfa4cd08a4ac55caef1f6e7": {
          "model_module": "@jupyter-widgets/controls",
          "model_name": "ProgressStyleModel",
          "model_module_version": "1.5.0",
          "state": {
            "_model_module": "@jupyter-widgets/controls",
            "_model_module_version": "1.5.0",
            "_model_name": "ProgressStyleModel",
            "_view_count": null,
            "_view_module": "@jupyter-widgets/base",
            "_view_module_version": "1.2.0",
            "_view_name": "StyleView",
            "bar_color": null,
            "description_width": ""
          }
        },
        "949e12311e00414f8c206ab37c0a6cde": {
          "model_module": "@jupyter-widgets/base",
          "model_name": "LayoutModel",
          "model_module_version": "1.2.0",
          "state": {
            "_model_module": "@jupyter-widgets/base",
            "_model_module_version": "1.2.0",
            "_model_name": "LayoutModel",
            "_view_count": null,
            "_view_module": "@jupyter-widgets/base",
            "_view_module_version": "1.2.0",
            "_view_name": "LayoutView",
            "align_content": null,
            "align_items": null,
            "align_self": null,
            "border": null,
            "bottom": null,
            "display": null,
            "flex": null,
            "flex_flow": null,
            "grid_area": null,
            "grid_auto_columns": null,
            "grid_auto_flow": null,
            "grid_auto_rows": null,
            "grid_column": null,
            "grid_gap": null,
            "grid_row": null,
            "grid_template_areas": null,
            "grid_template_columns": null,
            "grid_template_rows": null,
            "height": null,
            "justify_content": null,
            "justify_items": null,
            "left": null,
            "margin": null,
            "max_height": null,
            "max_width": null,
            "min_height": null,
            "min_width": null,
            "object_fit": null,
            "object_position": null,
            "order": null,
            "overflow": null,
            "overflow_x": null,
            "overflow_y": null,
            "padding": null,
            "right": null,
            "top": null,
            "visibility": null,
            "width": null
          }
        },
        "e1ea83d01daf488f855a6829b8b214c4": {
          "model_module": "@jupyter-widgets/controls",
          "model_name": "DescriptionStyleModel",
          "model_module_version": "1.5.0",
          "state": {
            "_model_module": "@jupyter-widgets/controls",
            "_model_module_version": "1.5.0",
            "_model_name": "DescriptionStyleModel",
            "_view_count": null,
            "_view_module": "@jupyter-widgets/base",
            "_view_module_version": "1.2.0",
            "_view_name": "StyleView",
            "description_width": ""
          }
        }
      }
    }
  },
  "cells": [
    {
      "cell_type": "code",
      "execution_count": 1,
      "metadata": {
        "colab": {
          "base_uri": "https://localhost:8080/",
          "height": 53
        },
        "id": "7RT8YGtT6kkN",
        "outputId": "c4e7f38f-1134-4ba5-8188-08a4f8a584df"
      },
      "outputs": [
        {
          "output_type": "stream",
          "name": "stdout",
          "text": [
            "Mounted at /content/drive\n"
          ]
        },
        {
          "output_type": "execute_result",
          "data": {
            "text/plain": [
              "'/content/drive/MyDrive/stsbenchmark'"
            ],
            "application/vnd.google.colaboratory.intrinsic+json": {
              "type": "string"
            }
          },
          "metadata": {},
          "execution_count": 1
        }
      ],
      "source": [
        "from google.colab import drive\n",
        "drive.mount('/content/drive')\n",
        "import os\n",
        "os.chdir('/content/drive/MyDrive/stsbenchmark')\n",
        "os.getcwd()"
      ]
    },
    {
      "cell_type": "markdown",
      "source": [
        "**EMBEDDINGS SINGOLE FRASI E POI CONCATENAZIONE, SENTENCE TRANSFORMER**"
      ],
      "metadata": {
        "id": "wOI0kVISYt4f"
      }
    },
    {
      "cell_type": "code",
      "source": [
        "import csv\n",
        "import pandas as pd\n",
        "import json\n",
        "import string\n",
        "import re\n",
        "import numpy as np\n",
        "import plotly.express as px\n",
        "\n",
        "from sklearn.feature_extraction.text import TfidfVectorizer\n",
        "from sklearn.cluster import KMeans\n",
        "from sklearn import metrics\n",
        "\n",
        "from mpl_toolkits.mplot3d import Axes3D\n",
        "from sklearn.preprocessing import LabelEncoder\n",
        "from sklearn.preprocessing import MinMaxScaler\n",
        "from matplotlib import pyplot as plt\n",
        "from sklearn.decomposition import TruncatedSVD\n",
        "\n",
        "from sklearn.feature_extraction.text import CountVectorizer\n",
        "from sklearn.decomposition import LatentDirichletAllocation\n",
        "from sklearn.manifold import TSNE"
      ],
      "metadata": {
        "id": "pMk4kchH6nwO"
      },
      "execution_count": 2,
      "outputs": []
    },
    {
      "cell_type": "code",
      "source": [
        "columns=['genre', 'file', 'year', 'index', 'score', 'sentence1', 'sentence2']\n",
        "df_train = pd.read_csv('/content/drive/MyDrive/stsbenchmark/sts-train.csv', sep='\\t', usecols=range(7), header=None, quoting=csv.QUOTE_NONE, names=columns, encoding='UTF-8')\n",
        "df_dev = pd.read_csv('/content/drive/MyDrive/stsbenchmark/sts-dev.csv', sep='\\t', usecols=range(7), header=None, quoting=csv.QUOTE_NONE, names=columns, encoding='UTF-8')\n",
        "df_test = pd.read_csv('/content/drive/MyDrive/stsbenchmark/sts-test.csv', sep='\\t', usecols=range(7), header=None, quoting=csv.QUOTE_NONE, names=columns, encoding='UTF-8')"
      ],
      "metadata": {
        "id": "1T4W4ytX6vYZ"
      },
      "execution_count": 3,
      "outputs": []
    },
    {
      "cell_type": "code",
      "source": [
        "def pre_processing(df: pd.DataFrame) -> pd.DataFrame:\n",
        "    df['genre'] = df['genre'].replace('main-', '', regex=True)\n",
        "    df['genre'] = df['genre'].replace('forum', 'forums')\n",
        "    df['year'] = df['year'].replace(r'\\D', '', regex=True)\n",
        "    df['score'] = MinMaxScaler().fit_transform(df[['score']])\n",
        "    return df"
      ],
      "metadata": {
        "id": "3GxM9uF9IS15"
      },
      "execution_count": 4,
      "outputs": []
    },
    {
      "cell_type": "code",
      "source": [
        "df_train = pre_processing(df_train)\n",
        "df_dev = pre_processing(df_dev)\n",
        "df_test = pre_processing(df_test)"
      ],
      "metadata": {
        "id": "hC0zvNCYGszu"
      },
      "execution_count": 5,
      "outputs": []
    },
    {
      "cell_type": "markdown",
      "source": [
        "--descrizione dataset--"
      ],
      "metadata": {
        "id": "1l8I1mex614D"
      }
    },
    {
      "cell_type": "markdown",
      "source": [
        "**Data Processing**"
      ],
      "metadata": {
        "id": "GPADCvMWBIgc"
      }
    },
    {
      "cell_type": "code",
      "source": [
        "import string\n",
        "import re\n",
        "\n",
        "regex = '[' + string.punctuation + ']'\n",
        "print(regex)"
      ],
      "metadata": {
        "colab": {
          "base_uri": "https://localhost:8080/"
        },
        "id": "XZlfU3CYBO3l",
        "outputId": "5081dc78-50f6-431e-94f0-1fb1a18eba71"
      },
      "execution_count": 6,
      "outputs": [
        {
          "output_type": "stream",
          "name": "stdout",
          "text": [
            "[!\"#$%&'()*+,-./:;<=>?@[\\]^_`{|}~]\n"
          ]
        }
      ]
    },
    {
      "cell_type": "code",
      "source": [
        "df_train['vocab1'] = df_train['sentence1'].apply(lambda x: sorted(str(re.sub(regex, '', x)).split()))  \n",
        "df_train['vocab2'] = df_train['sentence2'].apply(lambda x: sorted(str(re.sub(regex, '', x)).split()))\n",
        "df_dev['vocab1'] = df_dev['sentence1'].apply(lambda x: sorted(str(re.sub(regex, '', x)).split())) \n",
        "df_dev['vocab2'] = df_dev['sentence2'].apply(lambda x: sorted(str(re.sub(regex, '', x)).split()))\n",
        "df_test['vocab1'] = df_test['sentence1'].apply(lambda x: sorted(str(re.sub(regex, '', x)).split())) \n",
        "df_test['vocab2'] = df_test['sentence2'].apply(lambda x: sorted(str(re.sub(regex, '', x)).split()))"
      ],
      "metadata": {
        "id": "-uvL4187P6tp"
      },
      "execution_count": 7,
      "outputs": []
    },
    {
      "cell_type": "code",
      "source": [
        "'''global_vocab1 = df_train['vocab1'].sum()\n",
        "print(global_vocab1[:20])\n",
        "\n",
        "global_vocab2 = df_train['vocab2'].sum()\n",
        "print(global_vocab2[:20])'''"
      ],
      "metadata": {
        "colab": {
          "base_uri": "https://localhost:8080/",
          "height": 35
        },
        "id": "b_ZtybQeI_Fz",
        "outputId": "b97acb20-d29f-492d-effb-71c0bf99aa71"
      },
      "execution_count": 8,
      "outputs": [
        {
          "output_type": "execute_result",
          "data": {
            "text/plain": [
              "\"global_vocab1 = df_train['vocab1'].sum()\\nprint(global_vocab1[:20])\\n\\nglobal_vocab2 = df_train['vocab2'].sum()\\nprint(global_vocab2[:20])\""
            ],
            "application/vnd.google.colaboratory.intrinsic+json": {
              "type": "string"
            }
          },
          "metadata": {},
          "execution_count": 8
        }
      ]
    },
    {
      "cell_type": "code",
      "source": [
        "'''import nltk\n",
        "counts1 = nltk.Counter(global_vocab1)\n",
        "print(counts1)\n",
        "\n",
        "counts2 = nltk.Counter(global_vocab2)\n",
        "print(counts2)'''"
      ],
      "metadata": {
        "colab": {
          "base_uri": "https://localhost:8080/",
          "height": 35
        },
        "id": "fTg7Yi1UJb4B",
        "outputId": "f1b0f710-24d8-47c4-94e5-06af6c4ff15b"
      },
      "execution_count": 9,
      "outputs": [
        {
          "output_type": "execute_result",
          "data": {
            "text/plain": [
              "'import nltk\\ncounts1 = nltk.Counter(global_vocab1)\\nprint(counts1)\\n\\ncounts2 = nltk.Counter(global_vocab2)\\nprint(counts2)'"
            ],
            "application/vnd.google.colaboratory.intrinsic+json": {
              "type": "string"
            }
          },
          "metadata": {},
          "execution_count": 9
        }
      ]
    },
    {
      "cell_type": "code",
      "source": [
        "'''counts1.most_common(30)\n",
        "\n",
        "counts2.most_common(30)'''"
      ],
      "metadata": {
        "colab": {
          "base_uri": "https://localhost:8080/",
          "height": 35
        },
        "id": "LPi60Yb7Dd1o",
        "outputId": "1690ef78-fd51-48d7-c233-ac9a4e044cca"
      },
      "execution_count": 10,
      "outputs": [
        {
          "output_type": "execute_result",
          "data": {
            "text/plain": [
              "'counts1.most_common(30)\\n\\ncounts2.most_common(30)'"
            ],
            "application/vnd.google.colaboratory.intrinsic+json": {
              "type": "string"
            }
          },
          "metadata": {},
          "execution_count": 10
        }
      ]
    },
    {
      "cell_type": "code",
      "source": [
        "'''nltk.download('stopwords')\n",
        "from nltk.corpus import stopwords\n",
        "\n",
        "# vocab 1 without stopwords\n",
        "vocab1_nostop = [w for w in global_vocab1 if w not in stopwords.words('english')]\n",
        "counts1_nostop = nltk.Counter(vocab1_nostop)\n",
        "\n",
        "# vocab 2 without stopwords\n",
        "vocab2_nostop = [w for w in global_vocab2 if w not in stopwords.words('english')]\n",
        "counts2_nostop = nltk.Counter(vocab2_nostop)'''"
      ],
      "metadata": {
        "colab": {
          "base_uri": "https://localhost:8080/",
          "height": 70
        },
        "id": "TlPTft71Dd--",
        "outputId": "f5ec3dd8-ea61-4368-9634-03422c0bc17f"
      },
      "execution_count": 11,
      "outputs": [
        {
          "output_type": "execute_result",
          "data": {
            "text/plain": [
              "\"nltk.download('stopwords')\\nfrom nltk.corpus import stopwords\\n\\n# vocab 1 without stopwords\\nvocab1_nostop = [w for w in global_vocab1 if w not in stopwords.words('english')]\\ncounts1_nostop = nltk.Counter(vocab1_nostop)\\n\\n# vocab 2 without stopwords\\nvocab2_nostop = [w for w in global_vocab2 if w not in stopwords.words('english')]\\ncounts2_nostop = nltk.Counter(vocab2_nostop)\""
            ],
            "application/vnd.google.colaboratory.intrinsic+json": {
              "type": "string"
            }
          },
          "metadata": {},
          "execution_count": 11
        }
      ]
    },
    {
      "cell_type": "markdown",
      "source": [
        "removing stopwords\n"
      ],
      "metadata": {
        "id": "rN5PjK95NE6N"
      }
    },
    {
      "cell_type": "code",
      "source": [
        "'''from nltk.corpus import stopwords\n",
        "for i in range(0,len(df_train)):\n",
        "  df_train['sentence1'][i] = re.sub(regex,' ',df_train['sentence1'][i])\n",
        "  df_train['sentence2'][i] = re.sub(regex,' ',df_train['sentence2'][i])\n",
        "  words1 = df_train['sentence1'][i].lower().split()\n",
        "  words2 = df_train['sentence2'][i].lower().split()\n",
        "  df_train['sentence1'][i] = ' '.join([w for w in words1 if w not in stopwords.words('english')])\n",
        "  df_train['sentence2'][i] = ' '.join([w for w in words2 if w not in stopwords.words('english')])\n",
        "\n",
        "for i in range(0,len(df_dev)):\n",
        "  df_dev['sentence1'][i] = re.sub(regex,' ',df_dev['sentence1'][i])\n",
        "  df_dev['sentence2'][i] = re.sub(regex,' ',df_dev['sentence2'][i])\n",
        "  words1 = df_dev['sentence1'][i].lower().split()\n",
        "  words2 = df_dev['sentence2'][i].lower().split()\n",
        "  df_dev['sentence1'][i] = ' '.join([w for w in words1 if w not in stopwords.words('english')])\n",
        "  df_dev['sentence2'][i] = ' '.join([w for w in words2 if w not in stopwords.words('english')])\n",
        "\n",
        "for i in range(0,len(df_test)):\n",
        "  df_test['sentence1'][i] = re.sub(regex,' ',df_test['sentence1'][i])\n",
        "  df_test['sentence2'][i] = re.sub(regex,' ',df_test['sentence2'][i])\n",
        "  words1 = df_test['sentence1'][i].lower().split()\n",
        "  words2 = df_test['sentence2'][i].lower().split()\n",
        "  df_test['sentence1'][i] = ' '.join([w for w in words1 if w not in stopwords.words('english')])\n",
        "  df_test['sentence2'][i] = ' '.join([w for w in words2 if w not in stopwords.words('english')])'''\n",
        " \n"
      ],
      "metadata": {
        "id": "ZWnPu6qaDeKr",
        "colab": {
          "base_uri": "https://localhost:8080/",
          "height": 140
        },
        "outputId": "9f730056-a717-45b0-e609-b88fe4f21030"
      },
      "execution_count": 12,
      "outputs": [
        {
          "output_type": "execute_result",
          "data": {
            "text/plain": [
              "\"from nltk.corpus import stopwords\\nfor i in range(0,len(df_train)):\\n  df_train['sentence1'][i] = re.sub(regex,' ',df_train['sentence1'][i])\\n  df_train['sentence2'][i] = re.sub(regex,' ',df_train['sentence2'][i])\\n  words1 = df_train['sentence1'][i].lower().split()\\n  words2 = df_train['sentence2'][i].lower().split()\\n  df_train['sentence1'][i] = ' '.join([w for w in words1 if w not in stopwords.words('english')])\\n  df_train['sentence2'][i] = ' '.join([w for w in words2 if w not in stopwords.words('english')])\\n\\nfor i in range(0,len(df_dev)):\\n  df_dev['sentence1'][i] = re.sub(regex,' ',df_dev['sentence1'][i])\\n  df_dev['sentence2'][i] = re.sub(regex,' ',df_dev['sentence2'][i])\\n  words1 = df_dev['sentence1'][i].lower().split()\\n  words2 = df_dev['sentence2'][i].lower().split()\\n  df_dev['sentence1'][i] = ' '.join([w for w in words1 if w not in stopwords.words('english')])\\n  df_dev['sentence2'][i] = ' '.join([w for w in words2 if w not in stopwords.words('english')])\\n\\nfor i in range(0,len(df_test)):\\n  df_test['sentence1'][i] = re.sub(regex,' ',df_test['sentence1'][i])\\n  df_test['sentence2'][i] = re.sub(regex,' ',df_test['sentence2'][i])\\n  words1 = df_test['sentence1'][i].lower().split()\\n  words2 = df_test['sentence2'][i].lower().split()\\n  df_test['sentence1'][i] = ' '.join([w for w in words1 if w not in stopwords.words('english')])\\n  df_test['sentence2'][i] = ' '.join([w for w in words2 if w not in stopwords.words('english')])\""
            ],
            "application/vnd.google.colaboratory.intrinsic+json": {
              "type": "string"
            }
          },
          "metadata": {},
          "execution_count": 12
        }
      ]
    },
    {
      "cell_type": "code",
      "source": [
        "len(df_train)"
      ],
      "metadata": {
        "colab": {
          "base_uri": "https://localhost:8080/"
        },
        "id": "XG0fszjb67q2",
        "outputId": "7747a978-aa68-47d6-c964-0139551412d5"
      },
      "execution_count": 13,
      "outputs": [
        {
          "output_type": "execute_result",
          "data": {
            "text/plain": [
              "5749"
            ]
          },
          "metadata": {},
          "execution_count": 13
        }
      ]
    },
    {
      "cell_type": "markdown",
      "source": [
        "**Word Embeddings**"
      ],
      "metadata": {
        "id": "acGLYf_DA_Ny"
      }
    },
    {
      "cell_type": "code",
      "source": [
        "!pip install -U sentence-transformers\n",
        "!pip install datasets\n",
        "!pip install hnswlib"
      ],
      "metadata": {
        "colab": {
          "base_uri": "https://localhost:8080/"
        },
        "id": "FUqzCh2VCwvT",
        "outputId": "949a1684-8d0d-4aaa-fdfb-6326f51ba148"
      },
      "execution_count": 14,
      "outputs": [
        {
          "output_type": "stream",
          "name": "stdout",
          "text": [
            "Looking in indexes: https://pypi.org/simple, https://us-python.pkg.dev/colab-wheels/public/simple/\n",
            "Collecting sentence-transformers\n",
            "  Downloading sentence-transformers-2.2.2.tar.gz (85 kB)\n",
            "\u001b[2K     \u001b[90m━━━━━━━━━━━━━━━━━━━━━━━━━━━━━━━━━━━━━━━━\u001b[0m \u001b[32m86.0/86.0 kB\u001b[0m \u001b[31m5.0 MB/s\u001b[0m eta \u001b[36m0:00:00\u001b[0m\n",
            "\u001b[?25h  Preparing metadata (setup.py) ... \u001b[?25l\u001b[?25hdone\n",
            "Collecting transformers<5.0.0,>=4.6.0 (from sentence-transformers)\n",
            "  Downloading transformers-4.29.2-py3-none-any.whl (7.1 MB)\n",
            "\u001b[2K     \u001b[90m━━━━━━━━━━━━━━━━━━━━━━━━━━━━━━━━━━━━━━━━\u001b[0m \u001b[32m7.1/7.1 MB\u001b[0m \u001b[31m80.7 MB/s\u001b[0m eta \u001b[36m0:00:00\u001b[0m\n",
            "\u001b[?25hRequirement already satisfied: tqdm in /usr/local/lib/python3.10/dist-packages (from sentence-transformers) (4.65.0)\n",
            "Requirement already satisfied: torch>=1.6.0 in /usr/local/lib/python3.10/dist-packages (from sentence-transformers) (2.0.1+cu118)\n",
            "Requirement already satisfied: torchvision in /usr/local/lib/python3.10/dist-packages (from sentence-transformers) (0.15.2+cu118)\n",
            "Requirement already satisfied: numpy in /usr/local/lib/python3.10/dist-packages (from sentence-transformers) (1.22.4)\n",
            "Requirement already satisfied: scikit-learn in /usr/local/lib/python3.10/dist-packages (from sentence-transformers) (1.2.2)\n",
            "Requirement already satisfied: scipy in /usr/local/lib/python3.10/dist-packages (from sentence-transformers) (1.10.1)\n",
            "Requirement already satisfied: nltk in /usr/local/lib/python3.10/dist-packages (from sentence-transformers) (3.8.1)\n",
            "Collecting sentencepiece (from sentence-transformers)\n",
            "  Downloading sentencepiece-0.1.99-cp310-cp310-manylinux_2_17_x86_64.manylinux2014_x86_64.whl (1.3 MB)\n",
            "\u001b[2K     \u001b[90m━━━━━━━━━━━━━━━━━━━━━━━━━━━━━━━━━━━━━━━━\u001b[0m \u001b[32m1.3/1.3 MB\u001b[0m \u001b[31m68.7 MB/s\u001b[0m eta \u001b[36m0:00:00\u001b[0m\n",
            "\u001b[?25hCollecting huggingface-hub>=0.4.0 (from sentence-transformers)\n",
            "  Downloading huggingface_hub-0.14.1-py3-none-any.whl (224 kB)\n",
            "\u001b[2K     \u001b[90m━━━━━━━━━━━━━━━━━━━━━━━━━━━━━━━━━━━━━━\u001b[0m \u001b[32m224.5/224.5 kB\u001b[0m \u001b[31m26.7 MB/s\u001b[0m eta \u001b[36m0:00:00\u001b[0m\n",
            "\u001b[?25hRequirement already satisfied: filelock in /usr/local/lib/python3.10/dist-packages (from huggingface-hub>=0.4.0->sentence-transformers) (3.12.0)\n",
            "Requirement already satisfied: fsspec in /usr/local/lib/python3.10/dist-packages (from huggingface-hub>=0.4.0->sentence-transformers) (2023.4.0)\n",
            "Requirement already satisfied: requests in /usr/local/lib/python3.10/dist-packages (from huggingface-hub>=0.4.0->sentence-transformers) (2.27.1)\n",
            "Requirement already satisfied: pyyaml>=5.1 in /usr/local/lib/python3.10/dist-packages (from huggingface-hub>=0.4.0->sentence-transformers) (6.0)\n",
            "Requirement already satisfied: typing-extensions>=3.7.4.3 in /usr/local/lib/python3.10/dist-packages (from huggingface-hub>=0.4.0->sentence-transformers) (4.5.0)\n",
            "Requirement already satisfied: packaging>=20.9 in /usr/local/lib/python3.10/dist-packages (from huggingface-hub>=0.4.0->sentence-transformers) (23.1)\n",
            "Requirement already satisfied: sympy in /usr/local/lib/python3.10/dist-packages (from torch>=1.6.0->sentence-transformers) (1.11.1)\n",
            "Requirement already satisfied: networkx in /usr/local/lib/python3.10/dist-packages (from torch>=1.6.0->sentence-transformers) (3.1)\n",
            "Requirement already satisfied: jinja2 in /usr/local/lib/python3.10/dist-packages (from torch>=1.6.0->sentence-transformers) (3.1.2)\n",
            "Requirement already satisfied: triton==2.0.0 in /usr/local/lib/python3.10/dist-packages (from torch>=1.6.0->sentence-transformers) (2.0.0)\n",
            "Requirement already satisfied: cmake in /usr/local/lib/python3.10/dist-packages (from triton==2.0.0->torch>=1.6.0->sentence-transformers) (3.25.2)\n",
            "Requirement already satisfied: lit in /usr/local/lib/python3.10/dist-packages (from triton==2.0.0->torch>=1.6.0->sentence-transformers) (16.0.5)\n",
            "Requirement already satisfied: regex!=2019.12.17 in /usr/local/lib/python3.10/dist-packages (from transformers<5.0.0,>=4.6.0->sentence-transformers) (2022.10.31)\n",
            "Collecting tokenizers!=0.11.3,<0.14,>=0.11.1 (from transformers<5.0.0,>=4.6.0->sentence-transformers)\n",
            "  Downloading tokenizers-0.13.3-cp310-cp310-manylinux_2_17_x86_64.manylinux2014_x86_64.whl (7.8 MB)\n",
            "\u001b[2K     \u001b[90m━━━━━━━━━━━━━━━━━━━━━━━━━━━━━━━━━━━━━━━━\u001b[0m \u001b[32m7.8/7.8 MB\u001b[0m \u001b[31m89.3 MB/s\u001b[0m eta \u001b[36m0:00:00\u001b[0m\n",
            "\u001b[?25hRequirement already satisfied: click in /usr/local/lib/python3.10/dist-packages (from nltk->sentence-transformers) (8.1.3)\n",
            "Requirement already satisfied: joblib in /usr/local/lib/python3.10/dist-packages (from nltk->sentence-transformers) (1.2.0)\n",
            "Requirement already satisfied: threadpoolctl>=2.0.0 in /usr/local/lib/python3.10/dist-packages (from scikit-learn->sentence-transformers) (3.1.0)\n",
            "Requirement already satisfied: pillow!=8.3.*,>=5.3.0 in /usr/local/lib/python3.10/dist-packages (from torchvision->sentence-transformers) (8.4.0)\n",
            "Requirement already satisfied: MarkupSafe>=2.0 in /usr/local/lib/python3.10/dist-packages (from jinja2->torch>=1.6.0->sentence-transformers) (2.1.2)\n",
            "Requirement already satisfied: urllib3<1.27,>=1.21.1 in /usr/local/lib/python3.10/dist-packages (from requests->huggingface-hub>=0.4.0->sentence-transformers) (1.26.15)\n",
            "Requirement already satisfied: certifi>=2017.4.17 in /usr/local/lib/python3.10/dist-packages (from requests->huggingface-hub>=0.4.0->sentence-transformers) (2022.12.7)\n",
            "Requirement already satisfied: charset-normalizer~=2.0.0 in /usr/local/lib/python3.10/dist-packages (from requests->huggingface-hub>=0.4.0->sentence-transformers) (2.0.12)\n",
            "Requirement already satisfied: idna<4,>=2.5 in /usr/local/lib/python3.10/dist-packages (from requests->huggingface-hub>=0.4.0->sentence-transformers) (3.4)\n",
            "Requirement already satisfied: mpmath>=0.19 in /usr/local/lib/python3.10/dist-packages (from sympy->torch>=1.6.0->sentence-transformers) (1.3.0)\n",
            "Building wheels for collected packages: sentence-transformers\n",
            "  Building wheel for sentence-transformers (setup.py) ... \u001b[?25l\u001b[?25hdone\n",
            "  Created wheel for sentence-transformers: filename=sentence_transformers-2.2.2-py3-none-any.whl size=125926 sha256=b99a727fe0a543315b8be25df500c13641a077ddfeeb045e93dbb038de7f93b8\n",
            "  Stored in directory: /root/.cache/pip/wheels/62/f2/10/1e606fd5f02395388f74e7462910fe851042f97238cbbd902f\n",
            "Successfully built sentence-transformers\n",
            "Installing collected packages: tokenizers, sentencepiece, huggingface-hub, transformers, sentence-transformers\n",
            "Successfully installed huggingface-hub-0.14.1 sentence-transformers-2.2.2 sentencepiece-0.1.99 tokenizers-0.13.3 transformers-4.29.2\n",
            "Looking in indexes: https://pypi.org/simple, https://us-python.pkg.dev/colab-wheels/public/simple/\n",
            "Collecting datasets\n",
            "  Downloading datasets-2.12.0-py3-none-any.whl (474 kB)\n",
            "\u001b[2K     \u001b[90m━━━━━━━━━━━━━━━━━━━━━━━━━━━━━━━━━━━━━━\u001b[0m \u001b[32m474.6/474.6 kB\u001b[0m \u001b[31m18.1 MB/s\u001b[0m eta \u001b[36m0:00:00\u001b[0m\n",
            "\u001b[?25hRequirement already satisfied: numpy>=1.17 in /usr/local/lib/python3.10/dist-packages (from datasets) (1.22.4)\n",
            "Requirement already satisfied: pyarrow>=8.0.0 in /usr/local/lib/python3.10/dist-packages (from datasets) (9.0.0)\n",
            "Collecting dill<0.3.7,>=0.3.0 (from datasets)\n",
            "  Downloading dill-0.3.6-py3-none-any.whl (110 kB)\n",
            "\u001b[2K     \u001b[90m━━━━━━━━━━━━━━━━━━━━━━━━━━━━━━━━━━━━━━\u001b[0m \u001b[32m110.5/110.5 kB\u001b[0m \u001b[31m14.8 MB/s\u001b[0m eta \u001b[36m0:00:00\u001b[0m\n",
            "\u001b[?25hRequirement already satisfied: pandas in /usr/local/lib/python3.10/dist-packages (from datasets) (1.5.3)\n",
            "Requirement already satisfied: requests>=2.19.0 in /usr/local/lib/python3.10/dist-packages (from datasets) (2.27.1)\n",
            "Requirement already satisfied: tqdm>=4.62.1 in /usr/local/lib/python3.10/dist-packages (from datasets) (4.65.0)\n",
            "Collecting xxhash (from datasets)\n",
            "  Downloading xxhash-3.2.0-cp310-cp310-manylinux_2_17_x86_64.manylinux2014_x86_64.whl (212 kB)\n",
            "\u001b[2K     \u001b[90m━━━━━━━━━━━━━━━━━━━━━━━━━━━━━━━━━━━━━━\u001b[0m \u001b[32m212.5/212.5 kB\u001b[0m \u001b[31m24.1 MB/s\u001b[0m eta \u001b[36m0:00:00\u001b[0m\n",
            "\u001b[?25hCollecting multiprocess (from datasets)\n",
            "  Downloading multiprocess-0.70.14-py310-none-any.whl (134 kB)\n",
            "\u001b[2K     \u001b[90m━━━━━━━━━━━━━━━━━━━━━━━━━━━━━━━━━━━━━━\u001b[0m \u001b[32m134.3/134.3 kB\u001b[0m \u001b[31m12.7 MB/s\u001b[0m eta \u001b[36m0:00:00\u001b[0m\n",
            "\u001b[?25hRequirement already satisfied: fsspec[http]>=2021.11.1 in /usr/local/lib/python3.10/dist-packages (from datasets) (2023.4.0)\n",
            "Collecting aiohttp (from datasets)\n",
            "  Downloading aiohttp-3.8.4-cp310-cp310-manylinux_2_17_x86_64.manylinux2014_x86_64.whl (1.0 MB)\n",
            "\u001b[2K     \u001b[90m━━━━━━━━━━━━━━━━━━━━━━━━━━━━━━━━━━━━━━━━\u001b[0m \u001b[32m1.0/1.0 MB\u001b[0m \u001b[31m48.4 MB/s\u001b[0m eta \u001b[36m0:00:00\u001b[0m\n",
            "\u001b[?25hRequirement already satisfied: huggingface-hub<1.0.0,>=0.11.0 in /usr/local/lib/python3.10/dist-packages (from datasets) (0.14.1)\n",
            "Requirement already satisfied: packaging in /usr/local/lib/python3.10/dist-packages (from datasets) (23.1)\n",
            "Collecting responses<0.19 (from datasets)\n",
            "  Downloading responses-0.18.0-py3-none-any.whl (38 kB)\n",
            "Requirement already satisfied: pyyaml>=5.1 in /usr/local/lib/python3.10/dist-packages (from datasets) (6.0)\n",
            "Requirement already satisfied: attrs>=17.3.0 in /usr/local/lib/python3.10/dist-packages (from aiohttp->datasets) (23.1.0)\n",
            "Requirement already satisfied: charset-normalizer<4.0,>=2.0 in /usr/local/lib/python3.10/dist-packages (from aiohttp->datasets) (2.0.12)\n",
            "Collecting multidict<7.0,>=4.5 (from aiohttp->datasets)\n",
            "  Downloading multidict-6.0.4-cp310-cp310-manylinux_2_17_x86_64.manylinux2014_x86_64.whl (114 kB)\n",
            "\u001b[2K     \u001b[90m━━━━━━━━━━━━━━━━━━━━━━━━━━━━━━━━━━━━━━\u001b[0m \u001b[32m114.5/114.5 kB\u001b[0m \u001b[31m12.9 MB/s\u001b[0m eta \u001b[36m0:00:00\u001b[0m\n",
            "\u001b[?25hCollecting async-timeout<5.0,>=4.0.0a3 (from aiohttp->datasets)\n",
            "  Downloading async_timeout-4.0.2-py3-none-any.whl (5.8 kB)\n",
            "Collecting yarl<2.0,>=1.0 (from aiohttp->datasets)\n",
            "  Downloading yarl-1.9.2-cp310-cp310-manylinux_2_17_x86_64.manylinux2014_x86_64.whl (268 kB)\n",
            "\u001b[2K     \u001b[90m━━━━━━━━━━━━━━━━━━━━━━━━━━━━━━━━━━━━━━\u001b[0m \u001b[32m268.8/268.8 kB\u001b[0m \u001b[31m26.7 MB/s\u001b[0m eta \u001b[36m0:00:00\u001b[0m\n",
            "\u001b[?25hCollecting frozenlist>=1.1.1 (from aiohttp->datasets)\n",
            "  Downloading frozenlist-1.3.3-cp310-cp310-manylinux_2_5_x86_64.manylinux1_x86_64.manylinux_2_17_x86_64.manylinux2014_x86_64.whl (149 kB)\n",
            "\u001b[2K     \u001b[90m━━━━━━━━━━━━━━━━━━━━━━━━━━━━━━━━━━━━━━\u001b[0m \u001b[32m149.6/149.6 kB\u001b[0m \u001b[31m13.3 MB/s\u001b[0m eta \u001b[36m0:00:00\u001b[0m\n",
            "\u001b[?25hCollecting aiosignal>=1.1.2 (from aiohttp->datasets)\n",
            "  Downloading aiosignal-1.3.1-py3-none-any.whl (7.6 kB)\n",
            "Requirement already satisfied: filelock in /usr/local/lib/python3.10/dist-packages (from huggingface-hub<1.0.0,>=0.11.0->datasets) (3.12.0)\n",
            "Requirement already satisfied: typing-extensions>=3.7.4.3 in /usr/local/lib/python3.10/dist-packages (from huggingface-hub<1.0.0,>=0.11.0->datasets) (4.5.0)\n",
            "Requirement already satisfied: urllib3<1.27,>=1.21.1 in /usr/local/lib/python3.10/dist-packages (from requests>=2.19.0->datasets) (1.26.15)\n",
            "Requirement already satisfied: certifi>=2017.4.17 in /usr/local/lib/python3.10/dist-packages (from requests>=2.19.0->datasets) (2022.12.7)\n",
            "Requirement already satisfied: idna<4,>=2.5 in /usr/local/lib/python3.10/dist-packages (from requests>=2.19.0->datasets) (3.4)\n",
            "Requirement already satisfied: python-dateutil>=2.8.1 in /usr/local/lib/python3.10/dist-packages (from pandas->datasets) (2.8.2)\n",
            "Requirement already satisfied: pytz>=2020.1 in /usr/local/lib/python3.10/dist-packages (from pandas->datasets) (2022.7.1)\n",
            "Requirement already satisfied: six>=1.5 in /usr/local/lib/python3.10/dist-packages (from python-dateutil>=2.8.1->pandas->datasets) (1.16.0)\n",
            "Installing collected packages: xxhash, multidict, frozenlist, dill, async-timeout, yarl, responses, multiprocess, aiosignal, aiohttp, datasets\n",
            "Successfully installed aiohttp-3.8.4 aiosignal-1.3.1 async-timeout-4.0.2 datasets-2.12.0 dill-0.3.6 frozenlist-1.3.3 multidict-6.0.4 multiprocess-0.70.14 responses-0.18.0 xxhash-3.2.0 yarl-1.9.2\n",
            "Looking in indexes: https://pypi.org/simple, https://us-python.pkg.dev/colab-wheels/public/simple/\n",
            "Collecting hnswlib\n",
            "  Downloading hnswlib-0.7.0.tar.gz (33 kB)\n",
            "  Installing build dependencies ... \u001b[?25l\u001b[?25hdone\n",
            "  Getting requirements to build wheel ... \u001b[?25l\u001b[?25hdone\n",
            "  Preparing metadata (pyproject.toml) ... \u001b[?25l\u001b[?25hdone\n",
            "Requirement already satisfied: numpy in /usr/local/lib/python3.10/dist-packages (from hnswlib) (1.22.4)\n",
            "Building wheels for collected packages: hnswlib\n",
            "  Building wheel for hnswlib (pyproject.toml) ... \u001b[?25l\u001b[?25hdone\n",
            "  Created wheel for hnswlib: filename=hnswlib-0.7.0-cp310-cp310-linux_x86_64.whl size=2119903 sha256=dbb0e52d353464f61b08af521f66446dd2bb1e271f739b0038ef5e86e8fc3629\n",
            "  Stored in directory: /root/.cache/pip/wheels/8a/ae/ec/235a682e0041fbaeee389843670581ec6c66872db856dfa9a4\n",
            "Successfully built hnswlib\n",
            "Installing collected packages: hnswlib\n",
            "Successfully installed hnswlib-0.7.0\n"
          ]
        }
      ]
    },
    {
      "cell_type": "code",
      "source": [
        "from matplotlib import pyplot as plt\n",
        "%matplotlib inline"
      ],
      "metadata": {
        "id": "eDc-wwgmCwau"
      },
      "execution_count": 15,
      "outputs": []
    },
    {
      "cell_type": "code",
      "source": [
        "from sentence_transformers import SentenceTransformer, util\n",
        "import torch\n",
        "\n",
        "model = SentenceTransformer('all-mpnet-base-v2')"
      ],
      "metadata": {
        "id": "R792JcZOCmeo",
        "colab": {
          "base_uri": "https://localhost:8080/",
          "height": 465,
          "referenced_widgets": [
            "7b9a1a6843294a91912e8878dc242cc5",
            "69f1bbc12c67401e908bfd89d7779521",
            "c52ce5f2a8a645a491e2fffdf691e32f",
            "fffe610e72a14d6595977df012f4f666",
            "604c12b904c54cc08490aceebb37773e",
            "dcb091f7726b402883b1ab9a33024d1f",
            "006df4d80d2e47939098a5f826db8bae",
            "b900289daba048bd81ccfce38ae8380b",
            "c922858575dd45ae9753a5dafee596fc",
            "6910e164c38147c987634fbc26c7aef5",
            "66adbf3c934a4a79984627566883bc1e",
            "cd98f21b86174440a1d8d000100c9cd3",
            "fded9dfbdf0d4c0da304b86e4cd5265c",
            "2c36567523b743fda45ad89c486bf2ed",
            "f9ebef7e849b477491f8b153a692f8d1",
            "08248a7113504bd1a4bbe892978f5a18",
            "23d6708f344243369d748593a1b99ec1",
            "cbe2a41642ce431595b67e1f05344523",
            "fc487f4668c44610895bf5e1e36b6584",
            "518572c97e88414a9f7a4c6935289be8",
            "4c17aa9495bd457bbdc62f603c8e8fa6",
            "a26271196ea34277bde9e9ec44731098",
            "2920a8efad9e4f2389d46e6250d03b42",
            "7ddffc773f754eff9c8f8d6dc7491128",
            "e2181deb2e0649869dcecf885f3ef423",
            "de32d882d4a844d6901d77f2de21f6a2",
            "b16cc8090b0b4c11b45e9df80d1260ef",
            "0d6b3384d122402c9312910da5cf48a5",
            "4b466f43990645c186f6cb1461e96b68",
            "19df706fe2ab429c96cd64a3065c2f73",
            "4de0fca51f6247618b216a524f467217",
            "459e8d548f494300b61a147ac31a8609",
            "f49c5a2744534e95a869ca020cbee5f5",
            "926ccda9bc22429b95cfdb70b85b43de",
            "678511a0b45d48ff8c6aaa6403c6a75a",
            "ad3ea915b3c84625a747032931ea9f5a",
            "726de75cb1bc4c14a53c7f56988e1695",
            "a64000076ff749499c3a394e2b3a79ca",
            "893ffc4030cb41f4bc4d8c4cc50ef350",
            "652bf0a4fa6046c5940a82ee88df8b48",
            "8d0f77ebd79847b4a7838834500e077c",
            "2c45982040554ad9ac486ede2ea887c2",
            "436a39f89ca9475a8d1f58d350b8393c",
            "a1c47696677e4536a8c085fbbc1d87a8",
            "de935c089b4145a3b73cf4e0e6af4cd8",
            "d32fd25eff084faaa7ecf5c90fd1aabd",
            "9522ea1f0e1a4c418b4cb430f204c308",
            "3f9411623adb469ca536d1963d2a5390",
            "e4f45ecd76a0478aa840d658f9baeb6e",
            "cb8dd16a43374698a1437e647818421a",
            "48f55a021f924d8ebc239b5bea7ce151",
            "93eba08678a142fd85a970e2a21fb38d",
            "19d6f5d57c764f1ba51862dfbd392f11",
            "755269ae122b4312a94c950c99478e7f",
            "993350d5448e40b19b485f84c7af97af",
            "346b510a14b546518c15e099e0e09068",
            "6cbc2a6911e7452fbdcdf6200218b519",
            "11e60608c53e4b0fb248fe4aa190f0a0",
            "56501a81772640d9ba2350a21f64e8f2",
            "942e193ea68a4ae8a57d06395cf61e4d",
            "b5ab342edaaf40eba3c46b840d7bdf94",
            "afb6d0e148d446afa66a82b63cfb46ac",
            "a24b7b88183648cabc4dbcd90c04b08f",
            "26e45491e5e04d9591abccd54d35a2f2",
            "f3fb400189174617a35a433340fdaeb6",
            "aa3ba2dd12db43968c03d3c1b7619cb3",
            "869d42c520694422ba398a7243a96ab7",
            "cf464947750f49e984ea5c7611984738",
            "070689456b9848d19e278fa2f28a8076",
            "46b7dbb38c2d419bb05fd404822ba2e2",
            "3b90514de8c846f7b34cb5ff941a189a",
            "75adcb68f9434899b7be909d9ccc9e94",
            "38a86bb83f2e49bf8ae1a5395bc6e6ca",
            "15c40bcd43914054893d1021a4a43abc",
            "b98f04a942c6407995756304a6453480",
            "ae550090c29d48d3b001b227f1e589f2",
            "e5f2931fe1834cc08affa5ab3f0aadff",
            "9d37cd635d0042928ca135c66c481227",
            "172c3c7c433549b5b99c7f3cd685e0c8",
            "e54de0c57484458cb5d0ea5ba7b2f6d1",
            "5127510e87194034a5bd59ed923615cc",
            "945a6541149748c698d8031f07a05a21",
            "8de7a7f5b1a54b958de04f8365873bfa",
            "0fa558e1441d479695456c85dc1efeb9",
            "f3e9b6533f974eb19f8a52da3b75c98f",
            "8048541e7a8f46dda04a0852b906ecd2",
            "feaa30dcbfa04739acb2ce196a14baf9",
            "1478e541ed544ed3ac64b5f776d0fb11",
            "b1d5071932994b43a7d2d93fcea13638",
            "4b43f92e67f1470d8735667b9e53fa29",
            "04e9678420534c9884bb668833b8b48e",
            "a59b2bc6ea804ddab94874c55b91e7ee",
            "e1a8edbbf4ea4b398b3704ec2e9210c7",
            "bfa894907775406c98fd14d75b016d7f",
            "9c27b8b962dc4819b456f9efee7cb447",
            "cabf07bf2a814fa6858286ec4dc5a1f4",
            "900e9fcb67974946a1786c5544999cd5",
            "9a523a1c67a14e8897b74003ad6ed006",
            "cf2ae2349d074a9da7ac8e42442bac6f",
            "511c35dd76b94f908c8aa251b0828703",
            "3867d50eca084dc6b5f3c63b7cd9e860",
            "6d24d05cfcf242c18e76a72f9e714ca0",
            "26be98a71d394107b2f7b0cf2cc7d0b3",
            "c5c4cd2701e24978a9906ef7207dbfe7",
            "9571a9ddc4004d70bab4e6962a050ffe",
            "0d3734795eb045b9b58af18dc93d69e6",
            "9ff02e50145e40759e900d5d89339143",
            "b7fcb513ed304653862475d6e33d2cf2",
            "a19bdda1d493448480143cec7d744da4",
            "7bd7d5ed441047f4b03e0dadd97364a2",
            "f3444ed7c9e0431e9e4269320cffe1fa",
            "c9a8e687d6b44527ae5a0300d70cecbf",
            "b07c0a0bad57478493449c5473775c44",
            "ca37893dc8a149b78abdca4e8c94f455",
            "fc8e92f8d5a44cbeaacda0e8e301b321",
            "33b640d253a9451d8669591e0c139c85",
            "c7916dfc923f41cfb2f240b116e3fdd4",
            "408dcd9ddeb14227b829f5e8d54dd5a8",
            "30e1d5fb107d469a9b0d2f5fa8f64cf4",
            "52a544639a2f4bc6861da3e584e687b1",
            "18e2c5fc58c94b119cb86bab5625b56d",
            "afba13bdd984456e9da54bacffa13077",
            "eedddcb8334e4d06a7c4d2605885c5c8",
            "5163905fe08b45a3915a74cbc23e52af",
            "7f231cdceece42e2a990dcd76e771c85",
            "bbfd33e110c64ff683059320675399cd",
            "b29ce9b6ff744b8ba575bc11b48e776d",
            "c5e725ad475f43f9bb24fa2b69cbfe0e",
            "53369179c6e84c959c2d187def0c37bf",
            "a9cd42d6bef4445cb07413bd392d69fb",
            "d3c9faf05abc4985b7b1a575fd469987",
            "a2f24ca654a4484b903b415257faddce",
            "f877968d196e41998591c71544aee709",
            "6e970d089d184861bdec406680ee19bf",
            "d55bdb7c205042a3bea2ad8ccce05a0a",
            "278625ec98fc49d0913b9d9feae626b9",
            "0510a88047b146bca8c04a2778c63d96",
            "7bf1e0308a4447958acbe7e3a3fb574a",
            "ac12a2bbce2f4d859db44a7c7f78f2b2",
            "ab88df6a43f2433d90b3b15c9b9f302e",
            "aa5189bd8a3f4072a5dd93c41aaef13d",
            "70c4308ca5be461790fd14d380b188b5",
            "d9935c7d79dc4c7599d478c7fedddaf4",
            "08d2c5cc05e241bfb318797c3544d5ba",
            "24f753f319d544daabc2f39e90c36723",
            "91f03e2fb84249b68b43185981791a4b",
            "d9955840374645188a24b6ca4d69ecfb",
            "4ccbc7da4b5d490389634a41522e5f83",
            "7101e68a162a4c7e8b620450a8d5324c",
            "a5ad9418d9c5445e8d47c76c2b3abd59",
            "60db0f56554a4a418add20a5ace1eff2",
            "4dab2553cdfa4cd08a4ac55caef1f6e7",
            "949e12311e00414f8c206ab37c0a6cde",
            "e1ea83d01daf488f855a6829b8b214c4"
          ]
        },
        "outputId": "a2fb19a3-aba2-4e37-b882-ab61d0991457"
      },
      "execution_count": 16,
      "outputs": [
        {
          "output_type": "display_data",
          "data": {
            "text/plain": [
              "Downloading (…)a8e1d/.gitattributes:   0%|          | 0.00/1.18k [00:00<?, ?B/s]"
            ],
            "application/vnd.jupyter.widget-view+json": {
              "version_major": 2,
              "version_minor": 0,
              "model_id": "7b9a1a6843294a91912e8878dc242cc5"
            }
          },
          "metadata": {}
        },
        {
          "output_type": "display_data",
          "data": {
            "text/plain": [
              "Downloading (…)_Pooling/config.json:   0%|          | 0.00/190 [00:00<?, ?B/s]"
            ],
            "application/vnd.jupyter.widget-view+json": {
              "version_major": 2,
              "version_minor": 0,
              "model_id": "cd98f21b86174440a1d8d000100c9cd3"
            }
          },
          "metadata": {}
        },
        {
          "output_type": "display_data",
          "data": {
            "text/plain": [
              "Downloading (…)b20bca8e1d/README.md:   0%|          | 0.00/10.6k [00:00<?, ?B/s]"
            ],
            "application/vnd.jupyter.widget-view+json": {
              "version_major": 2,
              "version_minor": 0,
              "model_id": "2920a8efad9e4f2389d46e6250d03b42"
            }
          },
          "metadata": {}
        },
        {
          "output_type": "display_data",
          "data": {
            "text/plain": [
              "Downloading (…)0bca8e1d/config.json:   0%|          | 0.00/571 [00:00<?, ?B/s]"
            ],
            "application/vnd.jupyter.widget-view+json": {
              "version_major": 2,
              "version_minor": 0,
              "model_id": "926ccda9bc22429b95cfdb70b85b43de"
            }
          },
          "metadata": {}
        },
        {
          "output_type": "display_data",
          "data": {
            "text/plain": [
              "Downloading (…)ce_transformers.json:   0%|          | 0.00/116 [00:00<?, ?B/s]"
            ],
            "application/vnd.jupyter.widget-view+json": {
              "version_major": 2,
              "version_minor": 0,
              "model_id": "de935c089b4145a3b73cf4e0e6af4cd8"
            }
          },
          "metadata": {}
        },
        {
          "output_type": "display_data",
          "data": {
            "text/plain": [
              "Downloading (…)e1d/data_config.json:   0%|          | 0.00/39.3k [00:00<?, ?B/s]"
            ],
            "application/vnd.jupyter.widget-view+json": {
              "version_major": 2,
              "version_minor": 0,
              "model_id": "346b510a14b546518c15e099e0e09068"
            }
          },
          "metadata": {}
        },
        {
          "output_type": "display_data",
          "data": {
            "text/plain": [
              "Downloading pytorch_model.bin:   0%|          | 0.00/438M [00:00<?, ?B/s]"
            ],
            "application/vnd.jupyter.widget-view+json": {
              "version_major": 2,
              "version_minor": 0,
              "model_id": "869d42c520694422ba398a7243a96ab7"
            }
          },
          "metadata": {}
        },
        {
          "output_type": "display_data",
          "data": {
            "text/plain": [
              "Downloading (…)nce_bert_config.json:   0%|          | 0.00/53.0 [00:00<?, ?B/s]"
            ],
            "application/vnd.jupyter.widget-view+json": {
              "version_major": 2,
              "version_minor": 0,
              "model_id": "9d37cd635d0042928ca135c66c481227"
            }
          },
          "metadata": {}
        },
        {
          "output_type": "display_data",
          "data": {
            "text/plain": [
              "Downloading (…)cial_tokens_map.json:   0%|          | 0.00/239 [00:00<?, ?B/s]"
            ],
            "application/vnd.jupyter.widget-view+json": {
              "version_major": 2,
              "version_minor": 0,
              "model_id": "b1d5071932994b43a7d2d93fcea13638"
            }
          },
          "metadata": {}
        },
        {
          "output_type": "display_data",
          "data": {
            "text/plain": [
              "Downloading (…)a8e1d/tokenizer.json:   0%|          | 0.00/466k [00:00<?, ?B/s]"
            ],
            "application/vnd.jupyter.widget-view+json": {
              "version_major": 2,
              "version_minor": 0,
              "model_id": "511c35dd76b94f908c8aa251b0828703"
            }
          },
          "metadata": {}
        },
        {
          "output_type": "display_data",
          "data": {
            "text/plain": [
              "Downloading (…)okenizer_config.json:   0%|          | 0.00/363 [00:00<?, ?B/s]"
            ],
            "application/vnd.jupyter.widget-view+json": {
              "version_major": 2,
              "version_minor": 0,
              "model_id": "f3444ed7c9e0431e9e4269320cffe1fa"
            }
          },
          "metadata": {}
        },
        {
          "output_type": "display_data",
          "data": {
            "text/plain": [
              "Downloading (…)8e1d/train_script.py:   0%|          | 0.00/13.1k [00:00<?, ?B/s]"
            ],
            "application/vnd.jupyter.widget-view+json": {
              "version_major": 2,
              "version_minor": 0,
              "model_id": "afba13bdd984456e9da54bacffa13077"
            }
          },
          "metadata": {}
        },
        {
          "output_type": "display_data",
          "data": {
            "text/plain": [
              "Downloading (…)b20bca8e1d/vocab.txt:   0%|          | 0.00/232k [00:00<?, ?B/s]"
            ],
            "application/vnd.jupyter.widget-view+json": {
              "version_major": 2,
              "version_minor": 0,
              "model_id": "f877968d196e41998591c71544aee709"
            }
          },
          "metadata": {}
        },
        {
          "output_type": "display_data",
          "data": {
            "text/plain": [
              "Downloading (…)bca8e1d/modules.json:   0%|          | 0.00/349 [00:00<?, ?B/s]"
            ],
            "application/vnd.jupyter.widget-view+json": {
              "version_major": 2,
              "version_minor": 0,
              "model_id": "08d2c5cc05e241bfb318797c3544d5ba"
            }
          },
          "metadata": {}
        }
      ]
    },
    {
      "cell_type": "code",
      "source": [
        "#df_train.head()\n",
        "\n",
        "corpus_train1= (df_train['sentence1'])\n",
        "corpus_train2 = (df_train['sentence2'])\n",
        "corpus_dev1 = (df_dev['sentence1'])\n",
        "corpus_dev2 = (df_dev['sentence2'])\n",
        "corpus_test1= (df_test['sentence1'])\n",
        "corpus_test2= (df_test['sentence2'])\n",
        "corpus_train1\n"
      ],
      "metadata": {
        "id": "GAmqJG26E_Y2",
        "colab": {
          "base_uri": "https://localhost:8080/"
        },
        "outputId": "ce22e3a8-c7a7-4595-8f74-4583b12a8714"
      },
      "execution_count": 17,
      "outputs": [
        {
          "output_type": "execute_result",
          "data": {
            "text/plain": [
              "0                                  A plane is taking off.\n",
              "1                         A man is playing a large flute.\n",
              "2           A man is spreading shreded cheese on a pizza.\n",
              "3                            Three men are playing chess.\n",
              "4                             A man is playing the cello.\n",
              "                              ...                        \n",
              "5744           Severe Gales As Storm Clodagh Hits Britain\n",
              "5745    Dozens of Egyptians hostages taken by Libyan t...\n",
              "5746                         President heading to Bahrain\n",
              "5747           China, India vow to further bilateral ties\n",
              "5748     Putin spokesman: Doping charges appear unfounded\n",
              "Name: sentence1, Length: 5749, dtype: object"
            ]
          },
          "metadata": {},
          "execution_count": 17
        }
      ]
    },
    {
      "cell_type": "code",
      "source": [
        "corpus_embeddings_train1 = model.encode(corpus_train1, convert_to_tensor=True) #each sentence into a single vector\n",
        "corpus_embeddings_train2 = model.encode(corpus_train2, convert_to_tensor=True)\n",
        "\n",
        "corpus_embeddings_dev1 = model.encode(corpus_dev1, convert_to_tensor=True) \n",
        "corpus_embeddings_dev2 = model.encode(corpus_dev2, convert_to_tensor=True) #each sentence into a single vector\n",
        "\n",
        "corpus_embeddings_test1 = model.encode(corpus_test1, convert_to_tensor=True) \n",
        "corpus_embeddings_test2 = model.encode(corpus_test2, convert_to_tensor=True) #each sentence into a single vector\n",
        "corpus_embeddings_test2.size()"
      ],
      "metadata": {
        "colab": {
          "base_uri": "https://localhost:8080/"
        },
        "id": "RgI63joOCiUc",
        "outputId": "d5e2eb9d-060a-4a37-9f5d-ce28ca1cebe7"
      },
      "execution_count": 18,
      "outputs": [
        {
          "output_type": "execute_result",
          "data": {
            "text/plain": [
              "torch.Size([1379, 768])"
            ]
          },
          "metadata": {},
          "execution_count": 18
        }
      ]
    },
    {
      "cell_type": "code",
      "source": [
        "print(corpus_embeddings_train1.size())\n",
        "print(corpus_embeddings_train2.size())\n"
      ],
      "metadata": {
        "colab": {
          "base_uri": "https://localhost:8080/"
        },
        "id": "FHWEJE-Xjqxv",
        "outputId": "fd43e633-93db-4813-faee-59b3d56dca16"
      },
      "execution_count": 19,
      "outputs": [
        {
          "output_type": "stream",
          "name": "stdout",
          "text": [
            "torch.Size([5749, 768])\n",
            "torch.Size([5749, 768])\n"
          ]
        }
      ]
    },
    {
      "cell_type": "code",
      "source": [
        "X_train=torch.cat((corpus_embeddings_train1, corpus_embeddings_train2), 1)\n",
        "X_train.size()"
      ],
      "metadata": {
        "colab": {
          "base_uri": "https://localhost:8080/"
        },
        "id": "jJmALFX6ROT6",
        "outputId": "e879b5f5-306d-4afb-ae1a-91e94ebfce75"
      },
      "execution_count": 20,
      "outputs": [
        {
          "output_type": "execute_result",
          "data": {
            "text/plain": [
              "torch.Size([5749, 1536])"
            ]
          },
          "metadata": {},
          "execution_count": 20
        }
      ]
    },
    {
      "cell_type": "code",
      "source": [
        "x_dev=torch.cat((corpus_embeddings_dev1, corpus_embeddings_dev2), 1)\n",
        "X_train = torch.cat([X_train, x_dev])"
      ],
      "metadata": {
        "id": "dLLP1hcaTIaz"
      },
      "execution_count": 21,
      "outputs": []
    },
    {
      "cell_type": "code",
      "source": [
        "x_test=torch.cat((corpus_embeddings_test1, corpus_embeddings_test2), 1)"
      ],
      "metadata": {
        "id": "4Z_rR4gSTIxa"
      },
      "execution_count": 22,
      "outputs": []
    },
    {
      "cell_type": "code",
      "source": [
        "'''from sklearn.manifold import TSNE\n",
        "\n",
        "tsne_train = TSNE(n_components=3, n_iter=500, n_jobs=-1, verbose=2)\n",
        "tsne_embedding_train = tsne_train.fit_transform(corpus_embeddings_train)\n",
        "x, y, z = np.transpose(tsne_embedding_train)\n",
        "x1, y1, z1 = np.transpose(tsne_embedding_train[:len(df_train)])\n",
        "x2, y2, z2 = np.transpose(tsne_embedding_train[len(df_train):])\n",
        "\n",
        "tsne_test = TSNE(n_components=3, n_iter=500, n_jobs=-1, verbose=2)\n",
        "tsne_embedding_test = tsne_test.fit_transform(corpus_embeddings_test)\n",
        "x, y, z = np.transpose(tsne_embedding_test)\n",
        "x1_test, y1_test, z1_test = np.transpose(tsne_embedding_test[:len(df_test)])\n",
        "x2_test, y2_test, z2_test = np.transpose(tsne_embedding_test[len(df_test):])'''"
      ],
      "metadata": {
        "colab": {
          "base_uri": "https://localhost:8080/",
          "height": 105
        },
        "id": "QCrq5tFiCiLF",
        "outputId": "8f30dfc3-b36b-4bdf-ef29-fdf4e40a83ab"
      },
      "execution_count": 23,
      "outputs": [
        {
          "output_type": "execute_result",
          "data": {
            "text/plain": [
              "'from sklearn.manifold import TSNE\\n\\ntsne_train = TSNE(n_components=3, n_iter=500, n_jobs=-1, verbose=2)\\ntsne_embedding_train = tsne_train.fit_transform(corpus_embeddings_train)\\nx, y, z = np.transpose(tsne_embedding_train)\\nx1, y1, z1 = np.transpose(tsne_embedding_train[:len(df_train)])\\nx2, y2, z2 = np.transpose(tsne_embedding_train[len(df_train):])\\n\\ntsne_test = TSNE(n_components=3, n_iter=500, n_jobs=-1, verbose=2)\\ntsne_embedding_test = tsne_test.fit_transform(corpus_embeddings_test)\\nx, y, z = np.transpose(tsne_embedding_test)\\nx1_test, y1_test, z1_test = np.transpose(tsne_embedding_test[:len(df_test)])\\nx2_test, y2_test, z2_test = np.transpose(tsne_embedding_test[len(df_test):])'"
            ],
            "application/vnd.google.colaboratory.intrinsic+json": {
              "type": "string"
            }
          },
          "metadata": {},
          "execution_count": 23
        }
      ]
    },
    {
      "cell_type": "code",
      "source": [
        "'''#Mean Average of distances\n",
        "X_train= pd.DataFrame(columns=['datax','datay','dataz'])\n",
        "for i in range(0,len(df_train)):\n",
        "  dist_x=np.sqrt(abs(x1[i]*x1[i] - x2[i]*x2[i]))\n",
        "  dist_y=np.sqrt(abs(y1[i]*y1[i] - y2[i]*y2[i]))\n",
        "  dist_z=np.sqrt(abs(z1[i]*z1[i] - z2[i]*z2[i]))\n",
        "  #coord_avg=np.mean([dist_x,dist_y,dist_z])\n",
        "  new_row={'datax': dist_x, 'datay': dist_y, 'dataz': dist_z}\n",
        "  X_train.loc[len(X_train)]=new_row\n",
        "\n",
        "X_test=pd.DataFrame(columns=['datax','datay','dataz'])\n",
        "for i in range(0,len(df_test)):\n",
        "  dist_x=np.sqrt(abs(x1_test[i]*x1_test[i] - x2_test[i]*x2_test[i]))\n",
        "  dist_y=np.sqrt(abs(y1_test[i]*y1_test[i] - y2_test[i]*y2_test[i]))\n",
        "  dist_z=np.sqrt(abs(z1_test[i]*z1_test[i] - z2_test[i]*z2_test[i]))\n",
        "  #coord_avg=np.mean([dist_x,dist_y,dist_z])\n",
        "  new_row={'datax': dist_x, 'datay': dist_y, 'dataz': dist_z}\n",
        "  X_test.loc[len(X_test)]=new_row\n",
        "\n",
        "print(X_train.head(15),X_test.head(15))'''"
      ],
      "metadata": {
        "colab": {
          "base_uri": "https://localhost:8080/",
          "height": 122
        },
        "id": "_UyS_7fwCiCC",
        "outputId": "f65262cd-abda-482b-9b95-d9bd7b5929f2"
      },
      "execution_count": 24,
      "outputs": [
        {
          "output_type": "execute_result",
          "data": {
            "text/plain": [
              "\"#Mean Average of distances\\nX_train= pd.DataFrame(columns=['datax','datay','dataz'])\\nfor i in range(0,len(df_train)):\\n  dist_x=np.sqrt(abs(x1[i]*x1[i] - x2[i]*x2[i]))\\n  dist_y=np.sqrt(abs(y1[i]*y1[i] - y2[i]*y2[i]))\\n  dist_z=np.sqrt(abs(z1[i]*z1[i] - z2[i]*z2[i]))\\n  #coord_avg=np.mean([dist_x,dist_y,dist_z])\\n  new_row={'datax': dist_x, 'datay': dist_y, 'dataz': dist_z}\\n  X_train.loc[len(X_train)]=new_row\\n\\nX_test=pd.DataFrame(columns=['datax','datay','dataz'])\\nfor i in range(0,len(df_test)):\\n  dist_x=np.sqrt(abs(x1_test[i]*x1_test[i] - x2_test[i]*x2_test[i]))\\n  dist_y=np.sqrt(abs(y1_test[i]*y1_test[i] - y2_test[i]*y2_test[i]))\\n  dist_z=np.sqrt(abs(z1_test[i]*z1_test[i] - z2_test[i]*z2_test[i]))\\n  #coord_avg=np.mean([dist_x,dist_y,dist_z])\\n  new_row={'datax': dist_x, 'datay': dist_y, 'dataz': dist_z}\\n  X_test.loc[len(X_test)]=new_row\\n\\nprint(X_train.head(15),X_test.head(15))\""
            ],
            "application/vnd.google.colaboratory.intrinsic+json": {
              "type": "string"
            }
          },
          "metadata": {},
          "execution_count": 24
        }
      ]
    },
    {
      "cell_type": "code",
      "source": [
        "#y_train = df_train['score']\n",
        "y_train = pd.concat([df_train['score'],df_dev['score']]).reset_index(drop=True)"
      ],
      "metadata": {
        "id": "BeDa6F4uFTLk"
      },
      "execution_count": 25,
      "outputs": []
    },
    {
      "cell_type": "code",
      "source": [
        "y_dev = df_dev['score']"
      ],
      "metadata": {
        "id": "9KDocpmP2S6j"
      },
      "execution_count": 26,
      "outputs": []
    },
    {
      "cell_type": "code",
      "source": [
        "y_test = df_test['score']\n"
      ],
      "metadata": {
        "id": "T4JMAgNeFTZr",
        "colab": {
          "base_uri": "https://localhost:8080/"
        },
        "outputId": "2ac887dc-0b51-4e5f-93de-833bde125a8b"
      },
      "execution_count": 27,
      "outputs": [
        {
          "output_type": "execute_result",
          "data": {
            "text/plain": [
              "7249"
            ]
          },
          "metadata": {},
          "execution_count": 27
        }
      ]
    },
    {
      "cell_type": "markdown",
      "source": [
        "**Training Data**"
      ],
      "metadata": {
        "id": "462OJwRKHmkd"
      }
    },
    {
      "cell_type": "code",
      "source": [
        "from sklearn.linear_model import LinearRegression\n",
        "\n",
        "model = LinearRegression()\n",
        "\n",
        "model.fit(X_train, y_train)"
      ],
      "metadata": {
        "colab": {
          "base_uri": "https://localhost:8080/",
          "height": 75
        },
        "id": "FY_j7Yw48Tzs",
        "outputId": "e24864c6-5927-496c-89f3-f8ec0c659137"
      },
      "execution_count": 28,
      "outputs": [
        {
          "output_type": "execute_result",
          "data": {
            "text/plain": [
              "LinearRegression()"
            ],
            "text/html": [
              "<style>#sk-container-id-1 {color: black;background-color: white;}#sk-container-id-1 pre{padding: 0;}#sk-container-id-1 div.sk-toggleable {background-color: white;}#sk-container-id-1 label.sk-toggleable__label {cursor: pointer;display: block;width: 100%;margin-bottom: 0;padding: 0.3em;box-sizing: border-box;text-align: center;}#sk-container-id-1 label.sk-toggleable__label-arrow:before {content: \"▸\";float: left;margin-right: 0.25em;color: #696969;}#sk-container-id-1 label.sk-toggleable__label-arrow:hover:before {color: black;}#sk-container-id-1 div.sk-estimator:hover label.sk-toggleable__label-arrow:before {color: black;}#sk-container-id-1 div.sk-toggleable__content {max-height: 0;max-width: 0;overflow: hidden;text-align: left;background-color: #f0f8ff;}#sk-container-id-1 div.sk-toggleable__content pre {margin: 0.2em;color: black;border-radius: 0.25em;background-color: #f0f8ff;}#sk-container-id-1 input.sk-toggleable__control:checked~div.sk-toggleable__content {max-height: 200px;max-width: 100%;overflow: auto;}#sk-container-id-1 input.sk-toggleable__control:checked~label.sk-toggleable__label-arrow:before {content: \"▾\";}#sk-container-id-1 div.sk-estimator input.sk-toggleable__control:checked~label.sk-toggleable__label {background-color: #d4ebff;}#sk-container-id-1 div.sk-label input.sk-toggleable__control:checked~label.sk-toggleable__label {background-color: #d4ebff;}#sk-container-id-1 input.sk-hidden--visually {border: 0;clip: rect(1px 1px 1px 1px);clip: rect(1px, 1px, 1px, 1px);height: 1px;margin: -1px;overflow: hidden;padding: 0;position: absolute;width: 1px;}#sk-container-id-1 div.sk-estimator {font-family: monospace;background-color: #f0f8ff;border: 1px dotted black;border-radius: 0.25em;box-sizing: border-box;margin-bottom: 0.5em;}#sk-container-id-1 div.sk-estimator:hover {background-color: #d4ebff;}#sk-container-id-1 div.sk-parallel-item::after {content: \"\";width: 100%;border-bottom: 1px solid gray;flex-grow: 1;}#sk-container-id-1 div.sk-label:hover label.sk-toggleable__label {background-color: #d4ebff;}#sk-container-id-1 div.sk-serial::before {content: \"\";position: absolute;border-left: 1px solid gray;box-sizing: border-box;top: 0;bottom: 0;left: 50%;z-index: 0;}#sk-container-id-1 div.sk-serial {display: flex;flex-direction: column;align-items: center;background-color: white;padding-right: 0.2em;padding-left: 0.2em;position: relative;}#sk-container-id-1 div.sk-item {position: relative;z-index: 1;}#sk-container-id-1 div.sk-parallel {display: flex;align-items: stretch;justify-content: center;background-color: white;position: relative;}#sk-container-id-1 div.sk-item::before, #sk-container-id-1 div.sk-parallel-item::before {content: \"\";position: absolute;border-left: 1px solid gray;box-sizing: border-box;top: 0;bottom: 0;left: 50%;z-index: -1;}#sk-container-id-1 div.sk-parallel-item {display: flex;flex-direction: column;z-index: 1;position: relative;background-color: white;}#sk-container-id-1 div.sk-parallel-item:first-child::after {align-self: flex-end;width: 50%;}#sk-container-id-1 div.sk-parallel-item:last-child::after {align-self: flex-start;width: 50%;}#sk-container-id-1 div.sk-parallel-item:only-child::after {width: 0;}#sk-container-id-1 div.sk-dashed-wrapped {border: 1px dashed gray;margin: 0 0.4em 0.5em 0.4em;box-sizing: border-box;padding-bottom: 0.4em;background-color: white;}#sk-container-id-1 div.sk-label label {font-family: monospace;font-weight: bold;display: inline-block;line-height: 1.2em;}#sk-container-id-1 div.sk-label-container {text-align: center;}#sk-container-id-1 div.sk-container {/* jupyter's `normalize.less` sets `[hidden] { display: none; }` but bootstrap.min.css set `[hidden] { display: none !important; }` so we also need the `!important` here to be able to override the default hidden behavior on the sphinx rendered scikit-learn.org. See: https://github.com/scikit-learn/scikit-learn/issues/21755 */display: inline-block !important;position: relative;}#sk-container-id-1 div.sk-text-repr-fallback {display: none;}</style><div id=\"sk-container-id-1\" class=\"sk-top-container\"><div class=\"sk-text-repr-fallback\"><pre>LinearRegression()</pre><b>In a Jupyter environment, please rerun this cell to show the HTML representation or trust the notebook. <br />On GitHub, the HTML representation is unable to render, please try loading this page with nbviewer.org.</b></div><div class=\"sk-container\" hidden><div class=\"sk-item\"><div class=\"sk-estimator sk-toggleable\"><input class=\"sk-toggleable__control sk-hidden--visually\" id=\"sk-estimator-id-1\" type=\"checkbox\" checked><label for=\"sk-estimator-id-1\" class=\"sk-toggleable__label sk-toggleable__label-arrow\">LinearRegression</label><div class=\"sk-toggleable__content\"><pre>LinearRegression()</pre></div></div></div></div></div>"
            ]
          },
          "metadata": {},
          "execution_count": 28
        }
      ]
    },
    {
      "cell_type": "code",
      "source": [
        "y_pred = model.predict(x_test)"
      ],
      "metadata": {
        "id": "rGNPgW68JYLr"
      },
      "execution_count": 29,
      "outputs": []
    },
    {
      "cell_type": "code",
      "source": [
        "#print(\"MAE train: \", metrics.mean_absolute_error(y_train, model.predict(x_test))) \n",
        "print(\"MSE train: \",metrics.mean_squared_error(y_train, model.predict(X_train)))\n",
        "print(\"RMSE train: \",np.sqrt(metrics.mean_squared_error(y_train, model.predict(X_train))))\n",
        "print(\"r2: \",metrics.r2_score(y_train, model.predict(X_train)))\n",
        "\n",
        "#print(\"MAE test: \", metrics.mean_absolute_error(y_test, model.predict(x_test))) \n",
        "print(\"MSE test: \",metrics.mean_squared_error(y_test, model.predict(x_test)))\n",
        "print(\"RMSE test: \",np.sqrt(metrics.mean_squared_error(y_test, model.predict(x_test))))\n",
        "print(\"r2: \", metrics.r2_score(y_test, model.predict(x_test)))"
      ],
      "metadata": {
        "colab": {
          "base_uri": "https://localhost:8080/"
        },
        "id": "57KjX0tfJGYn",
        "outputId": "b46a0c2a-e400-4bab-f7cc-ea5e06ab184d"
      },
      "execution_count": 30,
      "outputs": [
        {
          "output_type": "stream",
          "name": "stdout",
          "text": [
            "MSE train:  0.08901471064559091\n",
            "RMSE train:  0.2983533318828381\n",
            "r2:  -0.018641254922482586\n",
            "MSE test:  0.14412619583064376\n",
            "RMSE test:  0.3796395604130894\n",
            "r2:  -0.5494004364636655\n"
          ]
        }
      ]
    },
    {
      "cell_type": "code",
      "source": [
        "import plotly.graph_objects as go\n",
        "from plotly.subplots import make_subplots\n",
        "\n",
        "# Create figure with secondary y-axis\n",
        "fig = make_subplots(specs=[[{\"secondary_y\": True}]])\n",
        "x_ax=np.array(range(0,len(y_test)))\n",
        "# Add traces\n",
        "fig.add_trace(\n",
        "    go.Scatter(x=x_ax, y=y_test, name=\"True\"),\n",
        "    secondary_y=True,\n",
        ")\n",
        "\n",
        "fig.add_trace(\n",
        "    go.Scatter(x=x_ax, y=y_pred, name=\"Predicition\"),\n",
        "    secondary_y=True,\n",
        ")\n",
        "\n",
        "# Add figure title\n",
        "fig.update_layout(\n",
        "    title_text=\"Results\"\n",
        ")\n",
        "\n",
        "# Set x-axis title\n",
        "fig.update_xaxes(title_text=\"Couple of sentences\")\n",
        "\n",
        "# Set y-axes titles\n",
        "fig.update_yaxes(title_text=\"True\", secondary_y=True)\n",
        "fig.update_yaxes(title_text=\"Prediction\", secondary_y=True)\n",
        "\n",
        "fig.show()"
      ],
      "metadata": {
        "colab": {
          "base_uri": "https://localhost:8080/",
          "height": 542
        },
        "id": "J2XXtn572Wee",
        "outputId": "763891f5-a376-42b5-dfc2-da624fc03af8"
      },
      "execution_count": 31,
      "outputs": [
        {
          "output_type": "display_data",
          "data": {
            "text/html": [
              "<html>\n",
              "<head><meta charset=\"utf-8\" /></head>\n",
              "<body>\n",
              "    <div>            <script src=\"https://cdnjs.cloudflare.com/ajax/libs/mathjax/2.7.5/MathJax.js?config=TeX-AMS-MML_SVG\"></script><script type=\"text/javascript\">if (window.MathJax && window.MathJax.Hub && window.MathJax.Hub.Config) {window.MathJax.Hub.Config({SVG: {font: \"STIX-Web\"}});}</script>                <script type=\"text/javascript\">window.PlotlyConfig = {MathJaxConfig: 'local'};</script>\n",
              "        <script src=\"https://cdn.plot.ly/plotly-2.18.2.min.js\"></script>                <div id=\"7aa2e34b-69b9-4278-bfec-77148a084a3c\" class=\"plotly-graph-div\" style=\"height:525px; width:100%;\"></div>            <script type=\"text/javascript\">                                    window.PLOTLYENV=window.PLOTLYENV || {};                                    if (document.getElementById(\"7aa2e34b-69b9-4278-bfec-77148a084a3c\")) {                    Plotly.newPlot(                        \"7aa2e34b-69b9-4278-bfec-77148a084a3c\",                        [{\"name\":\"True\",\"x\":[0,1,2,3,4,5,6,7,8,9,10,11,12,13,14,15,16,17,18,19,20,21,22,23,24,25,26,27,28,29,30,31,32,33,34,35,36,37,38,39,40,41,42,43,44,45,46,47,48,49,50,51,52,53,54,55,56,57,58,59,60,61,62,63,64,65,66,67,68,69,70,71,72,73,74,75,76,77,78,79,80,81,82,83,84,85,86,87,88,89,90,91,92,93,94,95,96,97,98,99,100,101,102,103,104,105,106,107,108,109,110,111,112,113,114,115,116,117,118,119,120,121,122,123,124,125,126,127,128,129,130,131,132,133,134,135,136,137,138,139,140,141,142,143,144,145,146,147,148,149,150,151,152,153,154,155,156,157,158,159,160,161,162,163,164,165,166,167,168,169,170,171,172,173,174,175,176,177,178,179,180,181,182,183,184,185,186,187,188,189,190,191,192,193,194,195,196,197,198,199,200,201,202,203,204,205,206,207,208,209,210,211,212,213,214,215,216,217,218,219,220,221,222,223,224,225,226,227,228,229,230,231,232,233,234,235,236,237,238,239,240,241,242,243,244,245,246,247,248,249,250,251,252,253,254,255,256,257,258,259,260,261,262,263,264,265,266,267,268,269,270,271,272,273,274,275,276,277,278,279,280,281,282,283,284,285,286,287,288,289,290,291,292,293,294,295,296,297,298,299,300,301,302,303,304,305,306,307,308,309,310,311,312,313,314,315,316,317,318,319,320,321,322,323,324,325,326,327,328,329,330,331,332,333,334,335,336,337,338,339,340,341,342,343,344,345,346,347,348,349,350,351,352,353,354,355,356,357,358,359,360,361,362,363,364,365,366,367,368,369,370,371,372,373,374,375,376,377,378,379,380,381,382,383,384,385,386,387,388,389,390,391,392,393,394,395,396,397,398,399,400,401,402,403,404,405,406,407,408,409,410,411,412,413,414,415,416,417,418,419,420,421,422,423,424,425,426,427,428,429,430,431,432,433,434,435,436,437,438,439,440,441,442,443,444,445,446,447,448,449,450,451,452,453,454,455,456,457,458,459,460,461,462,463,464,465,466,467,468,469,470,471,472,473,474,475,476,477,478,479,480,481,482,483,484,485,486,487,488,489,490,491,492,493,494,495,496,497,498,499,500,501,502,503,504,505,506,507,508,509,510,511,512,513,514,515,516,517,518,519,520,521,522,523,524,525,526,527,528,529,530,531,532,533,534,535,536,537,538,539,540,541,542,543,544,545,546,547,548,549,550,551,552,553,554,555,556,557,558,559,560,561,562,563,564,565,566,567,568,569,570,571,572,573,574,575,576,577,578,579,580,581,582,583,584,585,586,587,588,589,590,591,592,593,594,595,596,597,598,599,600,601,602,603,604,605,606,607,608,609,610,611,612,613,614,615,616,617,618,619,620,621,622,623,624,625,626,627,628,629,630,631,632,633,634,635,636,637,638,639,640,641,642,643,644,645,646,647,648,649,650,651,652,653,654,655,656,657,658,659,660,661,662,663,664,665,666,667,668,669,670,671,672,673,674,675,676,677,678,679,680,681,682,683,684,685,686,687,688,689,690,691,692,693,694,695,696,697,698,699,700,701,702,703,704,705,706,707,708,709,710,711,712,713,714,715,716,717,718,719,720,721,722,723,724,725,726,727,728,729,730,731,732,733,734,735,736,737,738,739,740,741,742,743,744,745,746,747,748,749,750,751,752,753,754,755,756,757,758,759,760,761,762,763,764,765,766,767,768,769,770,771,772,773,774,775,776,777,778,779,780,781,782,783,784,785,786,787,788,789,790,791,792,793,794,795,796,797,798,799,800,801,802,803,804,805,806,807,808,809,810,811,812,813,814,815,816,817,818,819,820,821,822,823,824,825,826,827,828,829,830,831,832,833,834,835,836,837,838,839,840,841,842,843,844,845,846,847,848,849,850,851,852,853,854,855,856,857,858,859,860,861,862,863,864,865,866,867,868,869,870,871,872,873,874,875,876,877,878,879,880,881,882,883,884,885,886,887,888,889,890,891,892,893,894,895,896,897,898,899,900,901,902,903,904,905,906,907,908,909,910,911,912,913,914,915,916,917,918,919,920,921,922,923,924,925,926,927,928,929,930,931,932,933,934,935,936,937,938,939,940,941,942,943,944,945,946,947,948,949,950,951,952,953,954,955,956,957,958,959,960,961,962,963,964,965,966,967,968,969,970,971,972,973,974,975,976,977,978,979,980,981,982,983,984,985,986,987,988,989,990,991,992,993,994,995,996,997,998,999,1000,1001,1002,1003,1004,1005,1006,1007,1008,1009,1010,1011,1012,1013,1014,1015,1016,1017,1018,1019,1020,1021,1022,1023,1024,1025,1026,1027,1028,1029,1030,1031,1032,1033,1034,1035,1036,1037,1038,1039,1040,1041,1042,1043,1044,1045,1046,1047,1048,1049,1050,1051,1052,1053,1054,1055,1056,1057,1058,1059,1060,1061,1062,1063,1064,1065,1066,1067,1068,1069,1070,1071,1072,1073,1074,1075,1076,1077,1078,1079,1080,1081,1082,1083,1084,1085,1086,1087,1088,1089,1090,1091,1092,1093,1094,1095,1096,1097,1098,1099,1100,1101,1102,1103,1104,1105,1106,1107,1108,1109,1110,1111,1112,1113,1114,1115,1116,1117,1118,1119,1120,1121,1122,1123,1124,1125,1126,1127,1128,1129,1130,1131,1132,1133,1134,1135,1136,1137,1138,1139,1140,1141,1142,1143,1144,1145,1146,1147,1148,1149,1150,1151,1152,1153,1154,1155,1156,1157,1158,1159,1160,1161,1162,1163,1164,1165,1166,1167,1168,1169,1170,1171,1172,1173,1174,1175,1176,1177,1178,1179,1180,1181,1182,1183,1184,1185,1186,1187,1188,1189,1190,1191,1192,1193,1194,1195,1196,1197,1198,1199,1200,1201,1202,1203,1204,1205,1206,1207,1208,1209,1210,1211,1212,1213,1214,1215,1216,1217,1218,1219,1220,1221,1222,1223,1224,1225,1226,1227,1228,1229,1230,1231,1232,1233,1234,1235,1236,1237,1238,1239,1240,1241,1242,1243,1244,1245,1246,1247,1248,1249,1250,1251,1252,1253,1254,1255,1256,1257,1258,1259,1260,1261,1262,1263,1264,1265,1266,1267,1268,1269,1270,1271,1272,1273,1274,1275,1276,1277,1278,1279,1280,1281,1282,1283,1284,1285,1286,1287,1288,1289,1290,1291,1292,1293,1294,1295,1296,1297,1298,1299,1300,1301,1302,1303,1304,1305,1306,1307,1308,1309,1310,1311,1312,1313,1314,1315,1316,1317,1318,1319,1320,1321,1322,1323,1324,1325,1326,1327,1328,1329,1330,1331,1332,1333,1334,1335,1336,1337,1338,1339,1340,1341,1342,1343,1344,1345,1346,1347,1348,1349,1350,1351,1352,1353,1354,1355,1356,1357,1358,1359,1360,1361,1362,1363,1364,1365,1366,1367,1368,1369,1370,1371,1372,1373,1374,1375,1376,1377,1378],\"y\":[0.5,0.7200000000000001,1.0,0.8400000000000001,0.30000000000000004,0.36000000000000004,0.7000000000000001,0.44000000000000006,0.44000000000000006,0.3428,0.3428,1.0,0.12,0.8800000000000001,0.4,0.36000000000000004,0.8800000000000001,0.7200000000000001,0.7200000000000001,0.24,0.48,0.04000000000000001,0.8400000000000001,0.8800000000000001,0.45,0.4,0.15000000000000002,0.44000000000000006,0.16000000000000003,0.44000000000000006,0.6400000000000001,0.96,0.27999999999999997,0.8500000000000001,0.68,0.10660000000000001,0.08000000000000002,0.24,1.0,0.10760000000000002,0.75,0.6000000000000001,0.7200000000000001,0.1,0.30000000000000004,0.16000000000000003,0.16000000000000003,0.12,0.8800000000000001,0.35000000000000003,0.08000000000000002,0.27999999999999997,0.08000000000000002,0.16000000000000003,0.4,0.026600000000000002,0.8,0.0534,0.68,0.24,1.0,0.0,0.76,0.15000000000000002,0.68,0.0,0.04000000000000001,0.8,0.1,0.76,0.48,0.9500000000000001,0.0,0.75,0.52,0.0,0.15000000000000002,0.0,0.76,0.5599999999999999,0.0,0.16000000000000003,0.6000000000000001,0.2,0.0,0.2,0.68,1.0,0.46660000000000007,0.27999999999999997,0.15000000000000002,0.7076,0.16000000000000003,0.7000000000000001,0.4,0.9500000000000001,0.8,0.9,0.30000000000000004,0.48,0.0,0.08000000000000002,0.5,0.52,0.7200000000000001,0.6000000000000001,0.0,0.32000000000000006,0.25,0.7200000000000001,0.4,0.7200000000000001,0.5599999999999999,0.8800000000000001,0.0,0.0,0.75,0.5,0.0,0.16000000000000003,0.2,0.0,0.05,0.08000000000000002,0.0,1.0,0.06,0.55,1.0,0.8500000000000001,0.68,0.32000000000000006,0.52,1.0,0.6400000000000001,0.96,1.0,0.48,0.4,1.0,1.0,0.68,0.9,0.8400000000000001,0.44000000000000006,0.48,0.76,0.5,0.4,0.15000000000000002,0.4,0.44000000000000006,0.8,0.6400000000000001,0.76,0.75,0.1,0.16000000000000003,1.0,0.24,1.0,0.5599999999999999,0.24,0.6400000000000001,0.9199999999999999,0.8,0.76,0.68,0.9199999999999999,0.52,0.36000000000000004,0.15000000000000002,0.8,0.55,0.76,0.52,0.4,0.76,0.1166,0.08000000000000002,0.05,0.5599999999999999,0.6400000000000001,0.1,0.45,0.0,0.0,0.0616,0.15000000000000002,0.08000000000000002,0.8400000000000001,0.75,0.32000000000000006,0.6000000000000001,0.8,0.6000000000000001,0.75,0.08000000000000002,0.0,0.6000000000000001,0.08000000000000002,0.08000000000000002,0.05,0.05,0.08000000000000002,0.08000000000000002,0.6400000000000001,0.0,0.44000000000000006,0.16000000000000003,0.16000000000000003,0.06,0.0,0.15000000000000002,0.46660000000000007,0.2666,0.24,0.8400000000000001,0.76,0.6000000000000001,0.1,0.0,0.0666,0.30000000000000004,0.033400000000000006,0.1,0.25,0.32000000000000006,0.0,0.2,0.0,0.0,0.8,0.55,0.6666000000000001,0.7000000000000001,0.0376,0.0,0.05,0.0728,0.6400000000000001,0.0,0.0,0.0,0.35000000000000003,0.0,0.55,0.36000000000000004,0.0,0.0,0.5599999999999999,0.8800000000000001,0.8,0.52,0.24,0.6400000000000001,0.16000000000000003,0.68,0.4,0.0,0.9199999999999999,0.8,0.76,0.8,0.5599999999999999,0.7200000000000001,0.36000000000000004,0.7200000000000001,0.24,1.0,0.8,0.0,0.68,0.8800000000000001,0.8400000000000001,1.0,0.04000000000000001,0.04000000000000001,0.8,0.52,0.12,0.24,0.76,0.8400000000000001,0.5599999999999999,0.8400000000000001,0.48,0.7200000000000001,0.76,0.12,0.96,0.24,0.48,0.8400000000000001,0.0,0.04000000000000001,0.68,0.6000000000000001,0.6400000000000001,0.6000000000000001,0.8800000000000001,0.36000000000000004,0.4,0.96,0.8,0.44000000000000006,0.8400000000000001,0.68,0.8400000000000001,0.68,0.48,0.2,0.32000000000000006,0.6400000000000001,0.68,0.8,0.6000000000000001,0.76,0.0,0.0,0.52,0.52,0.76,0.52,0.5599999999999999,0.0,0.52,0.9199999999999999,0.76,0.68,1.0,0.9199999999999999,0.6000000000000001,0.44000000000000006,0.76,0.44000000000000006,0.7200000000000001,0.8,0.08000000000000002,0.0,0.76,1.0,0.96,0.48,0.5599999999999999,0.27999999999999997,0.7200000000000001,0.0,0.8400000000000001,0.08000000000000002,0.76,0.8,0.24,0.8,0.6000000000000001,0.0,0.48,0.68,0.16000000000000003,0.8400000000000001,0.8800000000000001,0.8,0.36000000000000004,0.5599999999999999,1.0,0.0,0.04000000000000001,0.8,0.76,0.8800000000000001,0.6400000000000001,0.9199999999999999,0.0,0.2,0.16000000000000003,0.8,0.32000000000000006,0.0,0.68,0.2,0.8,0.6000000000000001,0.6000000000000001,0.15000000000000002,0.68,0.5599999999999999,0.96,0.27999999999999997,0.48,0.36000000000000004,0.96,0.27999999999999997,0.08000000000000002,0.266,0.48,0.08000000000000002,0.12,0.96,0.5599999999999999,0.4,0.52,0.0,0.48,0.8,0.8,0.8,0.0,0.6400000000000001,0.27999999999999997,0.7200000000000001,0.8800000000000001,1.0,0.36000000000000004,0.96,0.12,0.27999999999999997,0.04000000000000001,0.8400000000000001,0.9199999999999999,0.8,0.9199999999999999,0.36000000000000004,0.9199999999999999,0.04000000000000001,0.52,0.76,0.0,1.0,0.7200000000000001,0.9199999999999999,0.4,1.0,0.0,0.68,0.0,0.4,0.4,0.9199999999999999,0.6000000000000001,0.9199999999999999,0.4,0.52,0.08000000000000002,0.52,0.8400000000000001,0.0,0.44000000000000006,0.8,0.0,0.4,0.6000000000000001,0.52,0.0,0.0,0.96,0.6000000000000001,0.44000000000000006,0.8800000000000001,0.16000000000000003,0.68,0.0,0.12,0.0,0.48,0.68,0.8,0.4,0.8,0.96,0.12,0.48,0.8800000000000001,0.48,0.96,0.68,0.5599999999999999,0.16000000000000003,0.44000000000000006,0.76,0.08000000000000002,0.9199999999999999,0.6000000000000001,0.9199999999999999,0.16000000000000003,0.8,0.24,0.6400000000000001,0.7200000000000001,0.68,1.0,0.8,0.8,0.5599999999999999,0.76,0.52,0.4,0.16000000000000003,1.0,0.2,1.0,0.48,0.4,0.44000000000000006,0.68,0.16000000000000003,0.9199999999999999,0.5599999999999999,0.4,0.52,0.04000000000000001,0.27999999999999997,0.32000000000000006,0.6400000000000001,0.04000000000000001,0.48,0.04000000000000001,0.27999999999999997,0.36000000000000004,0.32000000000000006,0.76,0.2,0.24,0.8,0.4,0.52,0.76,0.52,0.04000000000000001,0.6000000000000001,0.36000000000000004,0.12,0.12,0.04000000000000001,0.12,0.04000000000000001,0.2,0.68,0.27999999999999997,0.4,0.5599999999999999,0.6400000000000001,0.16000000000000003,0.36000000000000004,0.44000000000000006,0.8400000000000001,1.0,0.24,0.5599999999999999,0.8800000000000001,0.8800000000000001,0.7200000000000001,0.24,0.27999999999999997,0.68,0.16000000000000003,0.5599999999999999,0.6400000000000001,0.32000000000000006,1.0,0.7200000000000001,0.7200000000000001,0.08000000000000002,0.36000000000000004,0.24,0.24,0.44000000000000006,1.0,0.52,0.0,0.5599999999999999,0.6400000000000001,0.32000000000000006,0.04000000000000001,0.76,0.8,0.5599999999999999,1.0,0.68,0.5599999999999999,0.27999999999999997,0.24,0.6400000000000001,0.6000000000000001,0.44000000000000006,0.4,0.76,0.32000000000000006,0.96,0.24,0.48,0.36000000000000004,0.52,0.76,0.24,0.04000000000000001,0.76,0.48,0.08000000000000002,0.68,0.8400000000000001,0.48,0.16000000000000003,0.8800000000000001,0.6000000000000001,0.4,0.6000000000000001,0.44000000000000006,0.36000000000000004,0.5599999999999999,0.5599999999999999,1.0,0.44000000000000006,0.24,0.32000000000000006,0.5599999999999999,0.36000000000000004,0.52,0.04000000000000001,0.48,0.8400000000000001,0.44000000000000006,0.32000000000000006,0.16000000000000003,1.0,0.24,0.6000000000000001,0.6000000000000001,0.0,0.0,0.4,0.0,1.0,0.6000000000000001,0.4,0.0,0.4,1.0,0.2,0.8,0.8,0.2,0.2,0.2,0.8,0.2,1.0,0.8,0.8,0.8,0.8,0.6000000000000001,0.8,0.0,0.0,0.2,0.8,1.0,0.4,0.8,0.0,0.4,0.2,0.0,0.4,1.0,0.2,0.6000000000000001,0.4,1.0,0.4,0.2,1.0,0.0,1.0,1.0,0.0,0.4,0.8,0.0,0.4,0.6000000000000001,0.0,0.6000000000000001,0.2,0.6000000000000001,0.4,0.8,0.0,0.8,0.8,0.4,0.4,1.0,0.4,0.4,0.0,0.4,0.0,0.4,0.8,0.8,0.2,0.8,0.8,0.4,0.4,0.4,0.0,0.6000000000000001,0.2,1.0,0.2,0.0,0.4,0.4,0.0,0.6000000000000001,0.6000000000000001,0.6000000000000001,1.0,1.0,0.8,0.2,0.0,1.0,0.0,0.8,1.0,0.6000000000000001,0.6000000000000001,0.6000000000000001,0.4,0.2,0.0,0.4,0.0,0.4,1.0,0.6000000000000001,0.6000000000000001,1.0,0.6000000000000001,0.4,0.2,0.2,1.0,0.2,0.4,0.8,0.0,0.4,0.2,0.6000000000000001,0.2,0.2,1.0,1.0,1.0,0.0,0.8,0.8,0.0,0.0,0.4,0.8,1.0,0.6000000000000001,0.6000000000000001,0.8,0.2,0.0,0.4,0.4,1.0,0.8,1.0,0.2,0.0,0.4,0.0,0.4,0.2,1.0,1.0,0.6000000000000001,0.0,0.0,0.4,1.0,0.2,0.6000000000000001,0.6000000000000001,0.4,0.2,0.2,0.4,0.4,0.8,0.0,0.2,0.2,0.4,0.4,0.0,0.2,1.0,0.4,0.4,1.0,0.4,1.0,0.0,0.8,0.8,0.8,0.0,0.4,0.4,1.0,0.4,0.6000000000000001,0.8,0.2,1.0,0.4,0.2,0.4,0.2,0.8,1.0,0.2,0.8,0.4,0.8,0.4,0.8,1.0,0.0,0.0,1.0,0.8,0.2,0.8,0.8,1.0,1.0,0.8,0.2,0.0,0.6000000000000001,0.8,0.6000000000000001,1.0,1.0,1.0,0.2,0.0,0.8,0.2,0.8,0.6000000000000001,1.0,1.0,0.0,0.2,0.0,0.0,0.0,0.0,0.8,1.0,0.2,0.2,0.8,0.2,1.0,0.6000000000000001,1.0,1.0,0.27999999999999997,0.7200000000000001,0.7000000000000001,0.6400000000000001,0.8,0.4,0.7200000000000001,0.8400000000000001,0.8,0.65,0.68,0.7334,0.75,0.24,0.76,0.68,0.6400000000000001,0.7200000000000001,0.6000000000000001,0.32000000000000006,0.6400000000000001,0.76,0.8400000000000001,0.6000000000000001,0.8,0.9500000000000001,0.7066,0.25,0.8,0.6000000000000001,0.52,0.7000000000000001,0.30000000000000004,0.4,0.7000000000000001,0.6000000000000001,0.9500000000000001,0.68,0.68,0.8500000000000001,0.76,0.6000000000000001,0.6000000000000001,0.9199999999999999,0.6000000000000001,0.8500000000000001,0.36000000000000004,0.5599999999999999,0.25,0.75,0.75,0.75,0.7000000000000001,0.9199999999999999,0.65,0.2666,0.5,0.65,0.6000000000000001,0.7200000000000001,0.44000000000000006,0.96,0.8,0.68,0.6400000000000001,0.5,0.65,0.76,0.8800000000000001,0.7000000000000001,0.30000000000000004,0.5599999999999999,0.7200000000000001,0.8400000000000001,0.6000000000000001,0.6000000000000001,0.32000000000000006,0.8,0.2666,0.7200000000000001,0.6000000000000001,0.6000000000000001,0.7000000000000001,0.8,0.44000000000000006,0.68,0.7000000000000001,0.8500000000000001,0.52,0.6000000000000001,0.48,0.76,0.6000000000000001,0.7000000000000001,0.7000000000000001,0.75,0.45,0.65,0.96,0.76,0.68,0.4,0.9199999999999999,0.7000000000000001,0.6666000000000001,0.5334,0.6400000000000001,0.76,0.68,0.68,0.7200000000000001,0.76,0.36000000000000004,0.6400000000000001,0.6000000000000001,0.36000000000000004,0.55,0.32000000000000006,0.55,0.65,0.45,0.6000000000000001,0.6364000000000001,0.75,0.52,0.25,0.5,0.8400000000000001,0.52,0.27999999999999997,0.7200000000000001,0.6000000000000001,0.7000000000000001,1.0,0.6000000000000001,0.76,0.76,0.8444000000000002,0.5,1.0,0.8,0.7200000000000001,0.8400000000000001,0.68,0.52,0.7200000000000001,0.8,0.7000000000000001,0.30000000000000004,0.7000000000000001,0.35000000000000003,0.75,0.96,0.68,0.52,0.8800000000000001,0.7200000000000001,0.7200000000000001,0.8,0.9,1.0,0.68,0.75,0.6352000000000001,0.7200000000000001,0.6400000000000001,0.7000000000000001,0.38,0.6000000000000001,0.7200000000000001,0.75,0.7200000000000001,0.75,0.6666000000000001,0.52,0.36000000000000004,0.7200000000000001,0.8800000000000001,0.6000000000000001,0.8,0.65,0.6000000000000001,0.52,0.52,0.9199999999999999,0.55,0.44000000000000006,0.6666000000000001,0.5538000000000001,0.5599999999999999,0.8,0.9466,0.32000000000000006,0.75,0.1,0.65,0.48,0.6400000000000001,0.75,0.65,0.48,0.9,0.8,0.76,0.16000000000000003,0.6000000000000001,0.7000000000000001,0.4,0.5599999999999999,0.4,0.6000000000000001,0.7000000000000001,1.0,0.65,0.68,0.68,0.75,0.55,0.6400000000000001,0.52,0.32000000000000006,0.5,0.68,0.8,0.8500000000000001,0.8,0.68,0.5599999999999999,0.32000000000000006,0.76,0.5334,0.24,0.96,0.6000000000000001,0.8,0.8,0.55,0.45,0.6400000000000001,0.9500000000000001,0.5599999999999999,0.27999999999999997,0.15000000000000002,0.7334,0.68,0.68,0.7714000000000001,0.6000000000000001,0.7000000000000001,0.65,0.27999999999999997,0.15000000000000002,0.68,0.96,0.08000000000000002,0.36000000000000004,0.48,0.32000000000000006,0.6400000000000001,0.08000000000000002,0.8,0.16000000000000003,0.27999999999999997,0.36000000000000004,0.44000000000000006,0.6400000000000001,0.24,0.25,0.8400000000000001,0.52,0.7200000000000001,0.08000000000000002,0.0,1.0,0.8800000000000001,0.96,0.7200000000000001,0.76,0.04000000000000001,0.76,0.44000000000000006,0.8,0.52,0.12,0.8800000000000001,0.8,0.16000000000000003,0.4,0.27999999999999997,0.6000000000000001,0.12,0.4,0.9199999999999999,0.27999999999999997,0.9,0.16000000000000003,0.0,0.8800000000000001,0.2,0.68,0.12,0.2,0.5599999999999999,0.32000000000000006,0.48,0.16000000000000003,0.8800000000000001,0.96,0.68,0.76,0.9,0.44000000000000006,0.8,0.2,0.52,0.2,0.27999999999999997,0.8,0.8400000000000001,0.76,0.76,0.48,0.08000000000000002,0.44000000000000006,0.8800000000000001,0.7200000000000001,0.44000000000000006,1.0,0.8400000000000001,0.36000000000000004,0.27999999999999997,0.44000000000000006,0.76,0.8400000000000001,0.4,1.0,0.76,0.24,0.44000000000000006,0.27999999999999997,0.48,0.6000000000000001,0.6400000000000001,0.76,0.6000000000000001,0.4,0.5599999999999999,0.8,0.9199999999999999,0.8,0.44000000000000006,0.68,0.68,0.68,0.8400000000000001,0.76,0.52,0.44000000000000006,0.08000000000000002,0.36000000000000004,0.2,0.32000000000000006,0.32000000000000006,0.52,0.52,0.0,0.8800000000000001,0.68,0.12,0.0,0.8800000000000001,0.7200000000000001,0.6000000000000001,0.76,0.44000000000000006,0.0,0.9199999999999999,0.32000000000000006,0.9199999999999999,0.8400000000000001,0.76,0.6000000000000001,0.2,0.7200000000000001,0.16000000000000003,0.44000000000000006,0.8400000000000001,0.8400000000000001,0.68,0.26,0.24,0.7200000000000001,0.6400000000000001,0.2,0.6000000000000001,0.76,0.32000000000000006,0.24,0.68,0.08000000000000002,0.96,0.0,0.08000000000000002,0.5599999999999999,0.7200000000000001,0.4,0.8,0.76,0.36000000000000004,0.04000000000000001,0.4,1.0,0.0,0.7200000000000001,0.7200000000000001,0.68,0.04000000000000001,0.8800000000000001,0.12,0.08000000000000002,0.9199999999999999,0.52,0.5599999999999999,0.6400000000000001,0.4,0.36000000000000004,0.08000000000000002,0.27999999999999997,0.24,0.52,0.48,0.8400000000000001,1.0,0.08000000000000002,0.32000000000000006,0.6400000000000001,0.8800000000000001,0.96,1.0,0.534,0.0,1.0,0.6000000000000001,0.96,0.48,1.0,0.96,1.0,0.6400000000000001,0.24,1.0,0.9199999999999999,0.4,0.36000000000000004,0.6000000000000001,0.76,0.8,0.96,0.96,0.5599999999999999,0.52,0.8800000000000001,0.9199999999999999,0.44000000000000006,0.08000000000000002,0.08000000000000002,0.27999999999999997,0.96,0.8800000000000001,1.0,0.4,1.0,1.0,1.0,1.0,0.8,0.6000000000000001,0.6000000000000001,1.0,0.8,0.4,0.2,0.8,0.0,0.4,1.0,0.6000000000000001,0.4,0.4,0.0,0.0,0.2,0.2,0.2,0.4,0.0,0.2,0.2,0.0,0.0],\"type\":\"scatter\",\"xaxis\":\"x\",\"yaxis\":\"y2\"},{\"name\":\"Predicition\",\"x\":[0,1,2,3,4,5,6,7,8,9,10,11,12,13,14,15,16,17,18,19,20,21,22,23,24,25,26,27,28,29,30,31,32,33,34,35,36,37,38,39,40,41,42,43,44,45,46,47,48,49,50,51,52,53,54,55,56,57,58,59,60,61,62,63,64,65,66,67,68,69,70,71,72,73,74,75,76,77,78,79,80,81,82,83,84,85,86,87,88,89,90,91,92,93,94,95,96,97,98,99,100,101,102,103,104,105,106,107,108,109,110,111,112,113,114,115,116,117,118,119,120,121,122,123,124,125,126,127,128,129,130,131,132,133,134,135,136,137,138,139,140,141,142,143,144,145,146,147,148,149,150,151,152,153,154,155,156,157,158,159,160,161,162,163,164,165,166,167,168,169,170,171,172,173,174,175,176,177,178,179,180,181,182,183,184,185,186,187,188,189,190,191,192,193,194,195,196,197,198,199,200,201,202,203,204,205,206,207,208,209,210,211,212,213,214,215,216,217,218,219,220,221,222,223,224,225,226,227,228,229,230,231,232,233,234,235,236,237,238,239,240,241,242,243,244,245,246,247,248,249,250,251,252,253,254,255,256,257,258,259,260,261,262,263,264,265,266,267,268,269,270,271,272,273,274,275,276,277,278,279,280,281,282,283,284,285,286,287,288,289,290,291,292,293,294,295,296,297,298,299,300,301,302,303,304,305,306,307,308,309,310,311,312,313,314,315,316,317,318,319,320,321,322,323,324,325,326,327,328,329,330,331,332,333,334,335,336,337,338,339,340,341,342,343,344,345,346,347,348,349,350,351,352,353,354,355,356,357,358,359,360,361,362,363,364,365,366,367,368,369,370,371,372,373,374,375,376,377,378,379,380,381,382,383,384,385,386,387,388,389,390,391,392,393,394,395,396,397,398,399,400,401,402,403,404,405,406,407,408,409,410,411,412,413,414,415,416,417,418,419,420,421,422,423,424,425,426,427,428,429,430,431,432,433,434,435,436,437,438,439,440,441,442,443,444,445,446,447,448,449,450,451,452,453,454,455,456,457,458,459,460,461,462,463,464,465,466,467,468,469,470,471,472,473,474,475,476,477,478,479,480,481,482,483,484,485,486,487,488,489,490,491,492,493,494,495,496,497,498,499,500,501,502,503,504,505,506,507,508,509,510,511,512,513,514,515,516,517,518,519,520,521,522,523,524,525,526,527,528,529,530,531,532,533,534,535,536,537,538,539,540,541,542,543,544,545,546,547,548,549,550,551,552,553,554,555,556,557,558,559,560,561,562,563,564,565,566,567,568,569,570,571,572,573,574,575,576,577,578,579,580,581,582,583,584,585,586,587,588,589,590,591,592,593,594,595,596,597,598,599,600,601,602,603,604,605,606,607,608,609,610,611,612,613,614,615,616,617,618,619,620,621,622,623,624,625,626,627,628,629,630,631,632,633,634,635,636,637,638,639,640,641,642,643,644,645,646,647,648,649,650,651,652,653,654,655,656,657,658,659,660,661,662,663,664,665,666,667,668,669,670,671,672,673,674,675,676,677,678,679,680,681,682,683,684,685,686,687,688,689,690,691,692,693,694,695,696,697,698,699,700,701,702,703,704,705,706,707,708,709,710,711,712,713,714,715,716,717,718,719,720,721,722,723,724,725,726,727,728,729,730,731,732,733,734,735,736,737,738,739,740,741,742,743,744,745,746,747,748,749,750,751,752,753,754,755,756,757,758,759,760,761,762,763,764,765,766,767,768,769,770,771,772,773,774,775,776,777,778,779,780,781,782,783,784,785,786,787,788,789,790,791,792,793,794,795,796,797,798,799,800,801,802,803,804,805,806,807,808,809,810,811,812,813,814,815,816,817,818,819,820,821,822,823,824,825,826,827,828,829,830,831,832,833,834,835,836,837,838,839,840,841,842,843,844,845,846,847,848,849,850,851,852,853,854,855,856,857,858,859,860,861,862,863,864,865,866,867,868,869,870,871,872,873,874,875,876,877,878,879,880,881,882,883,884,885,886,887,888,889,890,891,892,893,894,895,896,897,898,899,900,901,902,903,904,905,906,907,908,909,910,911,912,913,914,915,916,917,918,919,920,921,922,923,924,925,926,927,928,929,930,931,932,933,934,935,936,937,938,939,940,941,942,943,944,945,946,947,948,949,950,951,952,953,954,955,956,957,958,959,960,961,962,963,964,965,966,967,968,969,970,971,972,973,974,975,976,977,978,979,980,981,982,983,984,985,986,987,988,989,990,991,992,993,994,995,996,997,998,999,1000,1001,1002,1003,1004,1005,1006,1007,1008,1009,1010,1011,1012,1013,1014,1015,1016,1017,1018,1019,1020,1021,1022,1023,1024,1025,1026,1027,1028,1029,1030,1031,1032,1033,1034,1035,1036,1037,1038,1039,1040,1041,1042,1043,1044,1045,1046,1047,1048,1049,1050,1051,1052,1053,1054,1055,1056,1057,1058,1059,1060,1061,1062,1063,1064,1065,1066,1067,1068,1069,1070,1071,1072,1073,1074,1075,1076,1077,1078,1079,1080,1081,1082,1083,1084,1085,1086,1087,1088,1089,1090,1091,1092,1093,1094,1095,1096,1097,1098,1099,1100,1101,1102,1103,1104,1105,1106,1107,1108,1109,1110,1111,1112,1113,1114,1115,1116,1117,1118,1119,1120,1121,1122,1123,1124,1125,1126,1127,1128,1129,1130,1131,1132,1133,1134,1135,1136,1137,1138,1139,1140,1141,1142,1143,1144,1145,1146,1147,1148,1149,1150,1151,1152,1153,1154,1155,1156,1157,1158,1159,1160,1161,1162,1163,1164,1165,1166,1167,1168,1169,1170,1171,1172,1173,1174,1175,1176,1177,1178,1179,1180,1181,1182,1183,1184,1185,1186,1187,1188,1189,1190,1191,1192,1193,1194,1195,1196,1197,1198,1199,1200,1201,1202,1203,1204,1205,1206,1207,1208,1209,1210,1211,1212,1213,1214,1215,1216,1217,1218,1219,1220,1221,1222,1223,1224,1225,1226,1227,1228,1229,1230,1231,1232,1233,1234,1235,1236,1237,1238,1239,1240,1241,1242,1243,1244,1245,1246,1247,1248,1249,1250,1251,1252,1253,1254,1255,1256,1257,1258,1259,1260,1261,1262,1263,1264,1265,1266,1267,1268,1269,1270,1271,1272,1273,1274,1275,1276,1277,1278,1279,1280,1281,1282,1283,1284,1285,1286,1287,1288,1289,1290,1291,1292,1293,1294,1295,1296,1297,1298,1299,1300,1301,1302,1303,1304,1305,1306,1307,1308,1309,1310,1311,1312,1313,1314,1315,1316,1317,1318,1319,1320,1321,1322,1323,1324,1325,1326,1327,1328,1329,1330,1331,1332,1333,1334,1335,1336,1337,1338,1339,1340,1341,1342,1343,1344,1345,1346,1347,1348,1349,1350,1351,1352,1353,1354,1355,1356,1357,1358,1359,1360,1361,1362,1363,1364,1365,1366,1367,1368,1369,1370,1371,1372,1373,1374,1375,1376,1377,1378],\"y\":[0.12995368242263794,0.43296951055526733,0.4576875865459442,0.3903866112232208,0.19924551248550415,0.4402020573616028,0.729241669178009,0.6643542051315308,0.5333230495452881,0.3528599441051483,0.3528599441051483,0.4805571734905243,0.12534914910793304,0.5707627534866333,0.5468915700912476,0.556187629699707,0.7350118160247803,0.5733745098114014,0.42847156524658203,0.150811567902565,0.7043443322181702,0.13652276992797852,0.2564658522605896,0.3722742199897766,0.7580808401107788,0.23174071311950684,0.2921665906906128,0.22805100679397583,0.3021807074546814,0.7450288534164429,0.73970627784729,-0.08282315731048584,0.474433958530426,0.3292539119720459,0.37383145093917847,-0.09907543659210205,0.47560811042785645,0.6357247829437256,0.10698795318603516,0.20403611660003662,0.5513023138046265,0.3784395754337311,0.3180471360683441,0.5692264437675476,0.3466412425041199,0.2849552035331726,0.42320239543914795,0.679540753364563,0.4229244589805603,0.1756799817085266,0.34985604882240295,0.48678624629974365,0.3770751357078552,-0.08387011289596558,0.30185139179229736,0.1369052529335022,0.1266980767250061,0.6064622402191162,0.17750945687294006,0.6818902492523193,0.30589979887008667,0.7081316709518433,0.5606465339660645,0.38814777135849,0.5391449928283691,0.5775411128997803,0.4174950122833252,0.374175488948822,0.38700607419013977,0.5139585733413696,0.6878865957260132,0.28558260202407837,-0.013058185577392578,0.20908771455287933,0.8150005340576172,0.45144081115722656,0.5576804876327515,0.3709358274936676,0.8300495743751526,0.2603146433830261,0.13060063123703003,0.5335012078285217,0.333976149559021,0.5789405703544617,0.2331075370311737,0.07030609250068665,0.8391965627670288,-0.10006701946258545,0.26126039028167725,0.5332925915718079,0.4910895824432373,0.4011242985725403,0.2438475638628006,0.450391948223114,0.24076226353645325,0.45360174775123596,0.7326832413673401,0.415017306804657,0.6291415691375732,0.09856802225112915,0.37757882475852966,0.5618067979812622,0.4015181362628937,0.48143434524536133,0.210338294506073,0.38247424364089966,0.4593060612678528,0.6834778785705566,0.45019036531448364,0.6241419315338135,0.404544472694397,0.7043077349662781,0.6727051734924316,0.8686915040016174,0.6422014236450195,0.5961978435516357,0.2880215048789978,0.4079464375972748,0.5120412111282349,0.7642382383346558,0.2857624292373657,0.7029032707214355,0.8394085168838501,0.2950877547264099,0.19667166471481323,0.12696722149848938,0.16454721987247467,0.4242514967918396,0.7759263515472412,0.43946999311447144,0.3412151336669922,0.4732530117034912,0.2794027626514435,0.4843702018260956,0.6070171594619751,0.2809503674507141,0.5802167057991028,0.8152749538421631,0.23871639370918274,0.34234219789505005,0.3949083089828491,0.38621002435684204,0.33688920736312866,0.5542755722999573,0.3607059121131897,0.30277201533317566,0.5768018960952759,0.3430269658565521,0.6810182332992554,0.3448365330696106,0.32217249274253845,0.4588099718093872,0.3105390667915344,0.48437613248825073,-0.408857524394989,0.27062827348709106,0.4176481366157532,0.21321775019168854,0.6096293330192566,0.3618875741958618,0.543012261390686,0.39507579803466797,0.7795566916465759,0.6724772453308105,0.2637789249420166,0.6456155180931091,0.20571184158325195,0.5439493060112,0.4535185694694519,0.7583232522010803,0.8013879060745239,0.12056460976600647,0.4070442020893097,0.5417333245277405,0.4884091019630432,0.291843980550766,0.43085479736328125,0.5935428142547607,0.3717331886291504,0.45641741156578064,0.035900264978408813,0.5417951345443726,-0.02322399616241455,0.5399367213249207,0.76633620262146,0.2567023038864136,0.16529563069343567,0.5884382724761963,0.09473177790641785,0.8441486358642578,0.7423574328422546,0.5013256072998047,0.5293611288070679,0.4284617304801941,0.3458632230758667,0.6567589044570923,0.2293485403060913,0.14527443051338196,0.4088633060455322,0.983082115650177,0.6713087558746338,0.07892483472824097,0.22720670700073242,-0.20244580507278442,0.7425633668899536,0.2781224846839905,0.660192608833313,0.6790753602981567,0.37693238258361816,0.4997681975364685,0.2498466968536377,0.28461533784866333,0.49498945474624634,0.5697795152664185,0.4792780578136444,-0.029469162225723267,0.6348438858985901,0.7016081213951111,0.16169410943984985,0.21616438031196594,0.6276814937591553,0.36057165265083313,0.5966693758964539,0.4602140188217163,0.6401345133781433,0.12352842092514038,0.6769704818725586,0.6411932110786438,0.6590478420257568,0.5957297682762146,0.26560157537460327,0.4741278290748596,0.4837193489074707,0.08823788166046143,-0.003222525119781494,0.9766209721565247,-0.15183025598526,0.15222758054733276,0.4104108214378357,0.19104832410812378,0.6346238851547241,0.3178912401199341,0.3995759189128876,0.2803303599357605,0.6508511900901794,0.5595823526382446,0.627337634563446,0.5263234376907349,0.554435670375824,0.3027847111225128,0.5736367106437683,0.6513687968254089,0.30772674083709717,0.46882888674736023,0.6985973119735718,0.4021827280521393,0.2932981252670288,0.35350513458251953,0.4744645953178406,0.4875543415546417,0.4444049894809723,0.27093419432640076,0.41096603870391846,0.6899091005325317,0.6262099146842957,0.019079208374023438,0.3031708002090454,0.819126546382904,0.8311576247215271,0.6072051525115967,0.44586795568466187,0.46962231397628784,0.3597278594970703,0.5432690382003784,0.6185898780822754,0.3145117461681366,0.4887236952781677,0.36615699529647827,0.6049381494522095,0.4052955210208893,0.3147270977497101,0.4730724096298218,0.5862038731575012,0.5608938932418823,0.41654378175735474,0.7185469269752502,0.5177088975906372,0.28046566247940063,0.5451028347015381,-0.12934589385986328,0.5834006667137146,0.5714211463928223,0.7655020356178284,0.49695754051208496,0.39789271354675293,1.0651224851608276,0.6453027129173279,1.0580229759216309,0.34948158264160156,0.4091610610485077,0.6938577890396118,0.8909202218055725,0.5706924200057983,0.925288736820221,0.550606369972229,0.5748856067657471,0.49970364570617676,0.3921315670013428,0.47676438093185425,0.400905042886734,0.5453183650970459,0.3314064145088196,0.4681597948074341,0.6796234846115112,-0.14465981721878052,0.586753249168396,0.6754361391067505,0.7547405958175659,0.6038237810134888,0.1519484519958496,0.6599262356758118,0.5202485918998718,0.3389604687690735,0.40001770853996277,0.5724496245384216,0.6921012997627258,0.7610868215560913,0.47968369722366333,0.3157070279121399,0.2412380874156952,0.589238703250885,0.5336621999740601,0.6252870559692383,0.6461747884750366,0.4185963273048401,0.4593696594238281,0.7700334787368774,0.5152720808982849,0.35359206795692444,0.3927740156650543,-0.051322340965270996,0.7014080286026001,0.5963768362998962,-0.049694716930389404,0.16517305374145508,0.9134085178375244,0.6523817777633667,0.6799643039703369,0.8171133995056152,1.1098964214324951,0.5354465842247009,0.5314558148384094,0.2645750641822815,0.5391466021537781,0.7074554562568665,0.48812365531921387,1.037602424621582,0.5293858647346497,0.018019676208496094,0.3037785291671753,0.6696515083312988,0.33902060985565186,0.6268451809883118,0.373711496591568,0.8606733679771423,0.40156498551368713,0.33640462160110474,0.6763603687286377,0.6246655583381653,0.39132216572761536,0.4785291850566864,0.37505069375038147,0.3840046525001526,0.5835376977920532,0.4278408885002136,0.6356742978096008,0.6447601914405823,0.38806354999542236,0.3194897770881653,0.5807605981826782,0.9511844515800476,0.3928185701370239,0.8291168212890625,0.2983059585094452,0.261779248714447,0.5436322689056396,0.21639606356620789,0.809584379196167,0.5366865396499634,0.8608613014221191,0.6029881238937378,0.41010043025016785,0.6704615354537964,0.4237601161003113,0.4518260955810547,0.9910286068916321,0.32265275716781616,0.7840343713760376,0.1628093719482422,0.16980639100074768,0.7520603537559509,0.8271701335906982,0.8200865983963013,0.7079512476921082,0.5846018195152283,0.8079649806022644,0.4321032464504242,0.6479718685150146,0.7040020227432251,0.6569724082946777,0.43686896562576294,0.6049605011940002,0.5236527919769287,0.13662517070770264,0.4398360252380371,0.8676793575286865,0.24351432919502258,0.5191153883934021,0.6413824558258057,0.7610715627670288,0.5725455284118652,0.47103601694107056,0.5697197318077087,0.34953898191452026,0.7426680326461792,0.38602739572525024,0.0033431053161621094,0.2128479778766632,0.4403518736362457,0.562004804611206,0.8280852437019348,0.6454482078552246,0.6405371427536011,0.565304160118103,0.3899730145931244,0.6805852055549622,0.14265510439872742,0.5942486524581909,0.37893667817115784,0.5875291228294373,0.43914228677749634,0.49971795082092285,0.6921659708023071,0.7951922416687012,0.7725086212158203,0.7203474044799805,0.3485008478164673,0.5416107773780823,0.3080509603023529,0.6230047941207886,0.33607059717178345,0.7578097581863403,0.5022233128547668,0.05129486322402954,0.27417224645614624,0.6870953440666199,0.22575433552265167,0.4682613015174866,0.5307374000549316,0.28578096628189087,0.7444354295730591,0.19960731267929077,0.46376678347587585,0.44319289922714233,0.6184058785438538,0.5971006751060486,0.38610169291496277,0.3942694365978241,0.4758256673812866,0.4475622773170471,0.5832472443580627,0.8144922852516174,0.4763217270374298,0.4823247194290161,0.5044366121292114,0.5603954792022705,0.6010662913322449,0.3392818570137024,0.28594592213630676,0.1672435700893402,1.0634580850601196,0.46746283769607544,0.8967081904411316,1.141843318939209,0.6238176226615906,0.6046072840690613,0.44287559390068054,0.5273877382278442,0.5961775183677673,0.7830532789230347,0.7963743209838867,0.6796163320541382,0.5996770858764648,0.547986626625061,0.9588066935539246,0.5509536266326904,-0.02258920669555664,0.5012904405593872,0.34541523456573486,0.3029044568538666,0.4545939266681671,0.6941133737564087,0.26936736702919006,0.5653559565544128,0.2583460807800293,0.5026071071624756,0.058998316526412964,-0.07939976453781128,0.41269856691360474,0.5262227058410645,0.6395750045776367,0.046894609928131104,0.7702188491821289,0.9343873858451843,0.04892584681510925,0.6182292103767395,0.17033874988555908,0.39195626974105835,0.11783403158187866,0.7886296510696411,0.11054396629333496,1.2173359394073486,0.5541926026344299,0.1379019021987915,0.17311829328536987,0.25892436504364014,0.5625569224357605,0.15380090475082397,0.354170024394989,0.2122832089662552,-0.0685478150844574,0.5322067141532898,0.2965012192726135,0.24624162912368774,0.49001073837280273,0.14462310075759888,0.6631519794464111,0.4700471758842468,0.6555344462394714,0.5449577569961548,0.5681136846542358,0.46974486112594604,0.37919339537620544,0.49487805366516113,0.005885422229766846,0.7772863507270813,0.4817747175693512,0.252013623714447,0.14345839619636536,0.35471218824386597,0.02252727746963501,0.06976383924484253,0.26574400067329407,0.4426513612270355,-0.056554555892944336,0.5131182670593262,0.495296835899353,0.5495063066482544,0.3855289816856384,0.4378056526184082,0.6908584833145142,0.04288467764854431,0.5537217855453491,0.584611713886261,0.3348586857318878,0.28877371549606323,0.41110295057296753,0.6036363840103149,0.8734879493713379,0.36504673957824707,0.5770801305770874,0.6808371543884277,0.6718189120292664,0.1816430687904358,0.10616075992584229,-0.014187276363372803,-0.0988207459449768,0.16663901507854462,0.42991629242897034,0.45914044976234436,0.652596116065979,0.646037220954895,1.0085530281066895,0.16970333456993103,0.21047699451446533,0.29938608407974243,0.23663151264190674,0.5492682456970215,0.6736670732498169,0.27739018201828003,0.41899624466896057,0.44394534826278687,0.6107079982757568,-0.21754688024520874,0.327464759349823,0.4184117019176483,0.31181615591049194,0.4399401545524597,0.5517616868019104,0.5463060140609741,1.0877721309661865,0.6203085780143738,0.7348668575286865,0.19238495826721191,1.0642902851104736,0.8007796406745911,0.1976407766342163,0.6114163994789124,0.48235809803009033,0.35264742374420166,0.5554766058921814,0.8757626414299011,-0.019909679889678955,0.6137142181396484,0.8086687326431274,-0.04558694362640381,0.18985550105571747,0.43602079153060913,0.5331594347953796,0.4892953634262085,0.46117401123046875,0.7408126592636108,0.09554073214530945,0.31391847133636475,0.5426520705223083,0.38502252101898193,0.5639742612838745,0.3850924074649811,0.6416221261024475,0.07028692960739136,0.6413981318473816,0.5904871821403503,0.9231106638908386,0.5666003823280334,0.9951545596122742,0.2417495846748352,0.6148773431777954,0.8158556222915649,0.3911200761795044,0.06356623768806458,0.8754259943962097,0.5937244892120361,0.796637773513794,0.4445946216583252,0.5577623248100281,0.634888768196106,0.8238994479179382,0.6061753034591675,0.8164989948272705,0.404477059841156,-0.2661176323890686,0.03716197609901428,-0.10474994778633118,0.2402639538049698,0.3150172233581543,0.4927144944667816,0.3578827977180481,0.8685547709465027,0.6619810461997986,0.3971479535102844,0.7016745805740356,0.5012304782867432,-0.08232429623603821,0.5119489431381226,0.29127737879753113,0.5099167823791504,0.2054184377193451,0.5632827281951904,0.023881196975708008,-0.07274973392486572,0.6471313238143921,-0.004992425441741943,0.030842483043670654,0.8447290658950806,0.47907930612564087,-0.037326544523239136,0.5218488574028015,0.8786875605583191,1.5335538387298584,0.043285250663757324,0.8547090888023376,0.5421637892723083,1.0184983015060425,0.2899908423423767,0.7497692704200745,0.6266666054725647,0.6128484010696411,0.07959359884262085,0.11080378293991089,-0.24583584070205688,0.14231562614440918,0.16853079199790955,0.2227790653705597,0.42559367418289185,0.4975745677947998,0.8434006571769714,0.04792928695678711,0.33627623319625854,0.4671112895011902,0.41836124658584595,0.5204095244407654,0.46125537157058716,0.5889607071876526,0.843721866607666,0.49668553471565247,0.7284786701202393,0.44059067964553833,0.7193667888641357,1.1692935228347778,0.14630240201950073,-0.11714452505111694,0.2425561547279358,0.6382305026054382,-0.4354206323623657,0.6942766904830933,0.4519071877002716,0.3141700029373169,0.6269644498825073,-0.03285187482833862,0.4195128381252289,0.26875191926956177,0.8702943921089172,0.478406697511673,0.678736686706543,0.5749135613441467,0.5780752301216125,0.9086588025093079,0.5248668789863586,0.5007927417755127,0.3627316355705261,-0.22959810495376587,0.8247436285018921,0.2806673049926758,0.46452778577804565,0.5028142929077148,0.8517224192619324,0.3949519097805023,0.15228313207626343,0.4786156117916107,0.8037939667701721,0.4816935062408447,-0.07986795902252197,0.6223500370979309,0.19770973920822144,0.6270719766616821,0.43493011593818665,0.23210497200489044,0.7236194610595703,1.1683311462402344,-0.13077262043952942,0.6972990036010742,0.7816237807273865,0.6728606224060059,0.2806778848171234,0.17168235778808594,-0.15665757656097412,0.6621704697608948,0.3540278673171997,0.5549057126045227,0.5010624527931213,1.1972410678863525,0.3111790418624878,-0.07916715741157532,0.49394750595092773,1.1731455326080322,0.38335728645324707,0.45561257004737854,0.3430126905441284,0.5675926208496094,1.3937227725982666,0.27218198776245117,0.4146597385406494,-0.11064022779464722,0.5747048854827881,-0.06875696778297424,0.377439022064209,0.7973611354827881,0.19297969341278076,-0.06940162181854248,0.623513400554657,0.6355890035629272,0.5710322856903076,0.541117250919342,0.2860068678855896,0.4602513909339905,0.07025289535522461,-0.07682323455810547,-0.6161485314369202,0.4316915273666382,0.8884682059288025,0.6177096366882324,0.7541067600250244,0.5017901659011841,0.7602442502975464,-0.08288359642028809,0.2652773857116699,0.904387354850769,0.4556455910205841,0.5573728680610657,-0.14868628978729248,0.7156193256378174,0.6029595732688904,0.8814191222190857,0.34536507725715637,0.1727198362350464,0.327333003282547,0.5283260345458984,0.3500905930995941,0.17650878429412842,0.1802937388420105,1.0418413877487183,0.5866597890853882,0.2681685984134674,0.5230311155319214,0.5912961959838867,1.0451440811157227,0.4541358947753906,1.0749022960662842,0.3416365087032318,0.5776665806770325,0.4615848660469055,0.3932374119758606,0.2580189108848572,0.6981924176216125,0.6334684491157532,0.38225096464157104,-0.004166960716247559,0.03534960746765137,0.09993380308151245,0.44188231229782104,0.5788493752479553,0.27465102076530457,0.7214618921279907,-0.06068405508995056,0.773429811000824,0.5564594268798828,0.3586786091327667,0.39250296354293823,0.6353319883346558,0.5890618562698364,-0.22988086938858032,0.4734640121459961,0.6118425130844116,0.20703762769699097,0.4656304717063904,0.5905318856239319,0.5557971596717834,0.44066059589385986,0.09808844327926636,0.3027988076210022,0.7469072341918945,0.5844355821609497,0.3966018557548523,0.10611248016357422,0.1686972677707672,0.9257245659828186,1.026830792427063,0.618294894695282,0.26481860876083374,0.733863353729248,0.5234816074371338,0.23861482739448547,-0.06987142562866211,-0.12257248163223267,0.4974270462989807,0.5275762677192688,0.6683648824691772,0.5700306296348572,-0.4511297345161438,0.4319261908531189,0.7501306533813477,0.05982828140258789,0.36971932649612427,0.31930720806121826,-0.10321277379989624,0.9035617113113403,0.6728735566139221,0.3957573175430298,0.5384713411331177,0.4653553366661072,0.7891873121261597,0.2220505028963089,0.751955509185791,0.4131755828857422,0.5189634561538696,0.5196772813796997,0.34931299090385437,1.0629724264144897,0.6703091263771057,0.6328029632568359,0.7131523489952087,0.44140997529029846,0.46619945764541626,0.5429209470748901,0.4992859363555908,0.599597692489624,0.4296572804450989,0.2509065866470337,0.876051127910614,0.4158661663532257,0.571956217288971,0.563666820526123,0.4378665089607239,0.9220876097679138,0.815853476524353,0.6962302923202515,0.3391304016113281,0.5460047125816345,0.914875328540802,0.6186478734016418,0.5222474932670593,0.6114975810050964,0.6468650102615356,0.4960734248161316,0.5266422629356384,0.8338777422904968,0.7801715731620789,0.40619727969169617,0.8129243850708008,0.5620214343070984,0.6370216012001038,0.2604246437549591,0.8705187439918518,0.4712909758090973,0.6532858610153198,0.3614848256111145,0.4978100657463074,0.8549343943595886,0.6520299911499023,0.8525780439376831,0.5100809335708618,1.127831220626831,0.9347701668739319,1.0020742416381836,0.4659237265586853,0.4189514219760895,0.7092173099517822,1.1007177829742432,0.2933807373046875,0.4739062488079071,0.7504966259002686,0.5476093292236328,0.5113376379013062,0.4718386232852936,0.058054327964782715,0.3956441283226013,0.5543404817581177,0.5514553189277649,0.43715929985046387,0.8003714084625244,0.6460525989532471,0.8235224485397339,0.4070768356323242,0.41405826807022095,0.8144642114639282,0.3616013526916504,0.5557159781455994,1.0168771743774414,0.8280839920043945,0.5602911710739136,0.8167598247528076,1.1066234111785889,0.5512653589248657,0.4934847056865692,0.9540344476699829,0.6592697501182556,0.9833580851554871,0.6556294560432434,0.6265757083892822,0.8685200214385986,0.1465568244457245,1.1023120880126953,0.713509738445282,0.3054165840148926,0.8576677441596985,0.223332941532135,0.8229950070381165,0.5535897016525269,0.9120644330978394,0.6547122001647949,0.32142239809036255,0.4635939598083496,0.7846130132675171,0.36916497349739075,0.5962861776351929,0.367866188287735,0.5649027824401855,0.5498648881912231,0.9476912617683411,0.6381070613861084,0.7685625553131104,0.5607044696807861,0.6685889959335327,0.6984070539474487,0.49326518177986145,0.316426157951355,0.35064709186553955,0.3965526521205902,0.29705119132995605,0.6965676546096802,0.4379498064517975,1.143604040145874,0.7653886079788208,1.0976781845092773,0.09846729040145874,0.7023088932037354,0.725724458694458,0.6182799935340881,0.9862424731254578,0.4826928377151489,0.7509844303131104,0.8198058605194092,0.6677713990211487,0.8733447790145874,0.9133674502372742,0.6997775435447693,0.6354691386222839,0.844395637512207,0.5159610509872437,0.4405179023742676,0.6084186434745789,0.44313856959342957,0.7481220960617065,0.587796151638031,0.2815249562263489,1.0469945669174194,0.8876522183418274,0.6942593455314636,0.9758225679397583,0.5535413026809692,0.8769355416297913,0.943188488483429,1.1340696811676025,0.12557542324066162,0.69953852891922,0.48369818925857544,0.72288978099823,0.6531344652175903,0.676021933555603,1.0418765544891357,0.6716814637184143,1.1343200206756592,0.19423073530197144,0.1901959478855133,1.0092477798461914,0.49077874422073364,0.13458877801895142,0.9790611863136292,0.2843378186225891,0.6804781556129456,0.742172122001648,1.2151566743850708,0.8753424286842346,0.8806573152542114,0.8581799864768982,0.7192472815513611,0.6869416832923889,0.44086700677871704,0.5182154774665833,0.5139454007148743,0.5078290104866028,0.9105340838432312,0.9314286112785339,0.3592771589756012,0.7005391120910645,0.6754746437072754,0.3989744782447815,1.048530101776123,0.6767609119415283,0.6245871782302856,0.6626995801925659,1.0718119144439697,0.6416170001029968,0.45656144618988037,0.551563024520874,0.5618901252746582,0.8175413012504578,0.9613142609596252,0.941088080406189,0.3941841721534729,0.5953284502029419,0.5755113959312439,0.37875255942344666,0.2044658362865448,0.6461220979690552,0.887023389339447,0.4490354061126709,0.40195903182029724,0.5105071663856506,0.9256590008735657,1.101180076599121,1.026275873184204,0.5669774413108826,0.553227424621582,0.8581446409225464,0.563896119594574,0.7732211947441101,0.7446735501289368,0.676323652267456,-0.09899672865867615,0.6407663822174072,0.6446931958198547,0.6501404047012329,0.861529529094696,0.9307387471199036,1.1133105754852295,0.8594355583190918,0.7434951663017273,0.8096355199813843,0.728584349155426,0.2572655975818634,0.5144182443618774,0.8346303701400757,0.7438832521438599,0.7781169414520264,0.6104236245155334,0.43501031398773193,0.6414419412612915,0.345819354057312,0.9890363216400146,0.7385469675064087,0.39257335662841797,0.9939194917678833,0.5904659032821655,0.37345388531684875,0.8068445920944214,0.7420762777328491,0.8643301725387573,0.7612841725349426,0.24083973467350006,0.4014836847782135,0.14099940657615662,0.6098509430885315,0.4052155315876007,0.25815093517303467,0.35319387912750244,0.46153759956359863,0.5402531623840332,0.04155075550079346,1.0063600540161133,0.4409307837486267,0.8124514222145081,0.31711113452911377,0.7414957880973816,0.5824549198150635,0.40116387605667114,0.5264018774032593,0.5081808567047119,0.8555121421813965,0.5638682842254639,0.462657630443573,0.8398618698120117,0.7749956846237183,0.46585214138031006,0.3888015151023865,0.8969287276268005,0.7548602819442749,0.8650234937667847,0.2956598401069641,0.23527447879314423,0.5084574222564697,0.542839765548706,1.1749544143676758,0.537692129611969,0.5573954582214355,-0.08170270919799805,0.7866109609603882,0.6561899185180664,0.644582986831665,0.14528024196624756,0.6796441078186035,0.6668042540550232,0.8682941198348999,0.6559962630271912,0.8347786664962769,0.5339624881744385,0.4116174578666687,-0.07157152891159058,0.6420688033103943,0.732956051826477,0.9443098902702332,0.7657009959220886,0.4663441777229309,0.8436708450317383,0.5489243865013123,0.8994529843330383,0.5675832629203796,0.5721532106399536,0.12395314872264862,0.6366261839866638,0.6430104970932007,0.829008936882019,0.8402655124664307,0.28248804807662964,0.635566234588623,0.6161432266235352,0.6245924234390259,0.6703368425369263,0.2371821254491806,0.5651872754096985,0.7614871263504028,0.26619526743888855,0.3689482808113098,0.6104322671890259,0.5725211501121521,0.37584277987480164,0.5451027154922485,0.48111534118652344,0.57691890001297,0.4631088078022003,0.15055668354034424,0.9716591238975525,0.7165747880935669,0.48627835512161255,0.8774386048316956,0.8475953340530396,0.6156197786331177,0.5646170377731323,0.09418421983718872,0.6913226842880249,0.3854832649230957,0.16242986917495728,0.2497178614139557,0.33399611711502075,0.936307430267334,0.5212634801864624,0.6025428175926208,0.5906152129173279,0.5186486840248108,0.3349626064300537,0.7339994311332703,0.9304673075675964,0.5643370151519775,0.6355992555618286,0.5721114277839661,0.9929789900779724,0.5216497182846069,0.9096956849098206,0.17791521549224854,0.44236844778060913,0.8624274730682373,0.5076912641525269,0.5282443165779114,0.4199216961860657,0.5381650328636169,0.6290993690490723,0.5551846623420715,1.0527665615081787,0.5285732746124268,0.5991795659065247,0.4549366235733032,0.49625879526138306,0.40314215421676636,0.3937259912490845,0.5788406133651733,0.554307758808136,0.4000747501850128,0.8074767589569092,0.5323148369789124,0.4947853684425354,0.46891966462135315,0.3754032552242279,0.3500603437423706,0.6746885776519775,0.8555628061294556,0.561836838722229,0.34687507152557373,0.2569935917854309,0.4274083971977234,0.06943672895431519,0.667759120464325,0.0835149884223938,0.39802712202072144,1.1235300302505493,0.30828556418418884,0.4489406645298004,0.5949267148971558,0.3044230341911316,0.7166433334350586,0.5688221454620361,0.7647407054901123,0.9809233546257019,0.5538463592529297,0.5083259344100952,0.7439476847648621,0.7310349941253662,0.6380144953727722,0.43799862265586853,-0.027862638235092163,0.4441338777542114,0.45047199726104736,0.2711951732635498,0.9162493944168091,0.7044671177864075,0.7531576156616211,0.7815243005752563,0.5322885513305664,0.451278954744339,0.4873681366443634,0.16535018384456635,0.35856980085372925,0.6886603832244873,0.8052213191986084,0.3523387312889099,0.3735157251358032,0.7388486862182617,0.3182361125946045,0.36577290296554565,0.4145830571651459,0.6299026608467102,0.5821261405944824,0.8125213384628296,0.6569358110427856,0.43310946226119995,-0.07330644130706787,0.5413696765899658,0.3028258681297302,0.4232161045074463,0.3829038143157959,0.2019660472869873,0.9418854117393494,0.6210405230522156,1.275525450706482,0.7344680428504944,0.3139178454875946,0.9266126751899719,0.5708838701248169,0.3782714009284973,0.4586796164512634,0.45902538299560547,0.5889387130737305,0.4006672203540802,1.0042035579681396,0.7103769779205322,0.38967448472976685,0.7485849857330322,0.542834997177124,0.5486948490142822,0.34321415424346924,0.1381099820137024,0.4972255825996399,0.481286883354187,0.39058998227119446,0.3225688934326172,0.6227030754089355,0.2711182236671448,0.7176681160926819,0.5796197652816772,0.5894781351089478,0.4671454429626465,0.14028805494308472,0.6873444318771362,0.6331678628921509,1.0316648483276367,0.5069651007652283,0.40467527508735657,0.1505308747291565,0.42883121967315674,0.398715078830719,0.5884103775024414,0.13206274807453156,0.89985591173172,0.9533061385154724,0.9252557158470154,0.7029585838317871,0.7294893264770508,0.20732492208480835,0.5140910148620605,0.9156891107559204,0.6299718618392944,0.3294569253921509,0.4077873229980469,0.8073076605796814,0.7068914175033569,0.36639145016670227,0.469668447971344,0.09163790941238403,1.2287285327911377,0.7138266563415527],\"type\":\"scatter\",\"xaxis\":\"x\",\"yaxis\":\"y2\"}],                        {\"template\":{\"data\":{\"histogram2dcontour\":[{\"type\":\"histogram2dcontour\",\"colorbar\":{\"outlinewidth\":0,\"ticks\":\"\"},\"colorscale\":[[0.0,\"#0d0887\"],[0.1111111111111111,\"#46039f\"],[0.2222222222222222,\"#7201a8\"],[0.3333333333333333,\"#9c179e\"],[0.4444444444444444,\"#bd3786\"],[0.5555555555555556,\"#d8576b\"],[0.6666666666666666,\"#ed7953\"],[0.7777777777777778,\"#fb9f3a\"],[0.8888888888888888,\"#fdca26\"],[1.0,\"#f0f921\"]]}],\"choropleth\":[{\"type\":\"choropleth\",\"colorbar\":{\"outlinewidth\":0,\"ticks\":\"\"}}],\"histogram2d\":[{\"type\":\"histogram2d\",\"colorbar\":{\"outlinewidth\":0,\"ticks\":\"\"},\"colorscale\":[[0.0,\"#0d0887\"],[0.1111111111111111,\"#46039f\"],[0.2222222222222222,\"#7201a8\"],[0.3333333333333333,\"#9c179e\"],[0.4444444444444444,\"#bd3786\"],[0.5555555555555556,\"#d8576b\"],[0.6666666666666666,\"#ed7953\"],[0.7777777777777778,\"#fb9f3a\"],[0.8888888888888888,\"#fdca26\"],[1.0,\"#f0f921\"]]}],\"heatmap\":[{\"type\":\"heatmap\",\"colorbar\":{\"outlinewidth\":0,\"ticks\":\"\"},\"colorscale\":[[0.0,\"#0d0887\"],[0.1111111111111111,\"#46039f\"],[0.2222222222222222,\"#7201a8\"],[0.3333333333333333,\"#9c179e\"],[0.4444444444444444,\"#bd3786\"],[0.5555555555555556,\"#d8576b\"],[0.6666666666666666,\"#ed7953\"],[0.7777777777777778,\"#fb9f3a\"],[0.8888888888888888,\"#fdca26\"],[1.0,\"#f0f921\"]]}],\"heatmapgl\":[{\"type\":\"heatmapgl\",\"colorbar\":{\"outlinewidth\":0,\"ticks\":\"\"},\"colorscale\":[[0.0,\"#0d0887\"],[0.1111111111111111,\"#46039f\"],[0.2222222222222222,\"#7201a8\"],[0.3333333333333333,\"#9c179e\"],[0.4444444444444444,\"#bd3786\"],[0.5555555555555556,\"#d8576b\"],[0.6666666666666666,\"#ed7953\"],[0.7777777777777778,\"#fb9f3a\"],[0.8888888888888888,\"#fdca26\"],[1.0,\"#f0f921\"]]}],\"contourcarpet\":[{\"type\":\"contourcarpet\",\"colorbar\":{\"outlinewidth\":0,\"ticks\":\"\"}}],\"contour\":[{\"type\":\"contour\",\"colorbar\":{\"outlinewidth\":0,\"ticks\":\"\"},\"colorscale\":[[0.0,\"#0d0887\"],[0.1111111111111111,\"#46039f\"],[0.2222222222222222,\"#7201a8\"],[0.3333333333333333,\"#9c179e\"],[0.4444444444444444,\"#bd3786\"],[0.5555555555555556,\"#d8576b\"],[0.6666666666666666,\"#ed7953\"],[0.7777777777777778,\"#fb9f3a\"],[0.8888888888888888,\"#fdca26\"],[1.0,\"#f0f921\"]]}],\"surface\":[{\"type\":\"surface\",\"colorbar\":{\"outlinewidth\":0,\"ticks\":\"\"},\"colorscale\":[[0.0,\"#0d0887\"],[0.1111111111111111,\"#46039f\"],[0.2222222222222222,\"#7201a8\"],[0.3333333333333333,\"#9c179e\"],[0.4444444444444444,\"#bd3786\"],[0.5555555555555556,\"#d8576b\"],[0.6666666666666666,\"#ed7953\"],[0.7777777777777778,\"#fb9f3a\"],[0.8888888888888888,\"#fdca26\"],[1.0,\"#f0f921\"]]}],\"mesh3d\":[{\"type\":\"mesh3d\",\"colorbar\":{\"outlinewidth\":0,\"ticks\":\"\"}}],\"scatter\":[{\"fillpattern\":{\"fillmode\":\"overlay\",\"size\":10,\"solidity\":0.2},\"type\":\"scatter\"}],\"parcoords\":[{\"type\":\"parcoords\",\"line\":{\"colorbar\":{\"outlinewidth\":0,\"ticks\":\"\"}}}],\"scatterpolargl\":[{\"type\":\"scatterpolargl\",\"marker\":{\"colorbar\":{\"outlinewidth\":0,\"ticks\":\"\"}}}],\"bar\":[{\"error_x\":{\"color\":\"#2a3f5f\"},\"error_y\":{\"color\":\"#2a3f5f\"},\"marker\":{\"line\":{\"color\":\"#E5ECF6\",\"width\":0.5},\"pattern\":{\"fillmode\":\"overlay\",\"size\":10,\"solidity\":0.2}},\"type\":\"bar\"}],\"scattergeo\":[{\"type\":\"scattergeo\",\"marker\":{\"colorbar\":{\"outlinewidth\":0,\"ticks\":\"\"}}}],\"scatterpolar\":[{\"type\":\"scatterpolar\",\"marker\":{\"colorbar\":{\"outlinewidth\":0,\"ticks\":\"\"}}}],\"histogram\":[{\"marker\":{\"pattern\":{\"fillmode\":\"overlay\",\"size\":10,\"solidity\":0.2}},\"type\":\"histogram\"}],\"scattergl\":[{\"type\":\"scattergl\",\"marker\":{\"colorbar\":{\"outlinewidth\":0,\"ticks\":\"\"}}}],\"scatter3d\":[{\"type\":\"scatter3d\",\"line\":{\"colorbar\":{\"outlinewidth\":0,\"ticks\":\"\"}},\"marker\":{\"colorbar\":{\"outlinewidth\":0,\"ticks\":\"\"}}}],\"scattermapbox\":[{\"type\":\"scattermapbox\",\"marker\":{\"colorbar\":{\"outlinewidth\":0,\"ticks\":\"\"}}}],\"scatterternary\":[{\"type\":\"scatterternary\",\"marker\":{\"colorbar\":{\"outlinewidth\":0,\"ticks\":\"\"}}}],\"scattercarpet\":[{\"type\":\"scattercarpet\",\"marker\":{\"colorbar\":{\"outlinewidth\":0,\"ticks\":\"\"}}}],\"carpet\":[{\"aaxis\":{\"endlinecolor\":\"#2a3f5f\",\"gridcolor\":\"white\",\"linecolor\":\"white\",\"minorgridcolor\":\"white\",\"startlinecolor\":\"#2a3f5f\"},\"baxis\":{\"endlinecolor\":\"#2a3f5f\",\"gridcolor\":\"white\",\"linecolor\":\"white\",\"minorgridcolor\":\"white\",\"startlinecolor\":\"#2a3f5f\"},\"type\":\"carpet\"}],\"table\":[{\"cells\":{\"fill\":{\"color\":\"#EBF0F8\"},\"line\":{\"color\":\"white\"}},\"header\":{\"fill\":{\"color\":\"#C8D4E3\"},\"line\":{\"color\":\"white\"}},\"type\":\"table\"}],\"barpolar\":[{\"marker\":{\"line\":{\"color\":\"#E5ECF6\",\"width\":0.5},\"pattern\":{\"fillmode\":\"overlay\",\"size\":10,\"solidity\":0.2}},\"type\":\"barpolar\"}],\"pie\":[{\"automargin\":true,\"type\":\"pie\"}]},\"layout\":{\"autotypenumbers\":\"strict\",\"colorway\":[\"#636efa\",\"#EF553B\",\"#00cc96\",\"#ab63fa\",\"#FFA15A\",\"#19d3f3\",\"#FF6692\",\"#B6E880\",\"#FF97FF\",\"#FECB52\"],\"font\":{\"color\":\"#2a3f5f\"},\"hovermode\":\"closest\",\"hoverlabel\":{\"align\":\"left\"},\"paper_bgcolor\":\"white\",\"plot_bgcolor\":\"#E5ECF6\",\"polar\":{\"bgcolor\":\"#E5ECF6\",\"angularaxis\":{\"gridcolor\":\"white\",\"linecolor\":\"white\",\"ticks\":\"\"},\"radialaxis\":{\"gridcolor\":\"white\",\"linecolor\":\"white\",\"ticks\":\"\"}},\"ternary\":{\"bgcolor\":\"#E5ECF6\",\"aaxis\":{\"gridcolor\":\"white\",\"linecolor\":\"white\",\"ticks\":\"\"},\"baxis\":{\"gridcolor\":\"white\",\"linecolor\":\"white\",\"ticks\":\"\"},\"caxis\":{\"gridcolor\":\"white\",\"linecolor\":\"white\",\"ticks\":\"\"}},\"coloraxis\":{\"colorbar\":{\"outlinewidth\":0,\"ticks\":\"\"}},\"colorscale\":{\"sequential\":[[0.0,\"#0d0887\"],[0.1111111111111111,\"#46039f\"],[0.2222222222222222,\"#7201a8\"],[0.3333333333333333,\"#9c179e\"],[0.4444444444444444,\"#bd3786\"],[0.5555555555555556,\"#d8576b\"],[0.6666666666666666,\"#ed7953\"],[0.7777777777777778,\"#fb9f3a\"],[0.8888888888888888,\"#fdca26\"],[1.0,\"#f0f921\"]],\"sequentialminus\":[[0.0,\"#0d0887\"],[0.1111111111111111,\"#46039f\"],[0.2222222222222222,\"#7201a8\"],[0.3333333333333333,\"#9c179e\"],[0.4444444444444444,\"#bd3786\"],[0.5555555555555556,\"#d8576b\"],[0.6666666666666666,\"#ed7953\"],[0.7777777777777778,\"#fb9f3a\"],[0.8888888888888888,\"#fdca26\"],[1.0,\"#f0f921\"]],\"diverging\":[[0,\"#8e0152\"],[0.1,\"#c51b7d\"],[0.2,\"#de77ae\"],[0.3,\"#f1b6da\"],[0.4,\"#fde0ef\"],[0.5,\"#f7f7f7\"],[0.6,\"#e6f5d0\"],[0.7,\"#b8e186\"],[0.8,\"#7fbc41\"],[0.9,\"#4d9221\"],[1,\"#276419\"]]},\"xaxis\":{\"gridcolor\":\"white\",\"linecolor\":\"white\",\"ticks\":\"\",\"title\":{\"standoff\":15},\"zerolinecolor\":\"white\",\"automargin\":true,\"zerolinewidth\":2},\"yaxis\":{\"gridcolor\":\"white\",\"linecolor\":\"white\",\"ticks\":\"\",\"title\":{\"standoff\":15},\"zerolinecolor\":\"white\",\"automargin\":true,\"zerolinewidth\":2},\"scene\":{\"xaxis\":{\"backgroundcolor\":\"#E5ECF6\",\"gridcolor\":\"white\",\"linecolor\":\"white\",\"showbackground\":true,\"ticks\":\"\",\"zerolinecolor\":\"white\",\"gridwidth\":2},\"yaxis\":{\"backgroundcolor\":\"#E5ECF6\",\"gridcolor\":\"white\",\"linecolor\":\"white\",\"showbackground\":true,\"ticks\":\"\",\"zerolinecolor\":\"white\",\"gridwidth\":2},\"zaxis\":{\"backgroundcolor\":\"#E5ECF6\",\"gridcolor\":\"white\",\"linecolor\":\"white\",\"showbackground\":true,\"ticks\":\"\",\"zerolinecolor\":\"white\",\"gridwidth\":2}},\"shapedefaults\":{\"line\":{\"color\":\"#2a3f5f\"}},\"annotationdefaults\":{\"arrowcolor\":\"#2a3f5f\",\"arrowhead\":0,\"arrowwidth\":1},\"geo\":{\"bgcolor\":\"white\",\"landcolor\":\"#E5ECF6\",\"subunitcolor\":\"white\",\"showland\":true,\"showlakes\":true,\"lakecolor\":\"white\"},\"title\":{\"x\":0.05},\"mapbox\":{\"style\":\"light\"}}},\"xaxis\":{\"anchor\":\"y\",\"domain\":[0.0,0.94],\"title\":{\"text\":\"Couple of sentences\"}},\"yaxis\":{\"anchor\":\"x\",\"domain\":[0.0,1.0]},\"yaxis2\":{\"anchor\":\"x\",\"overlaying\":\"y\",\"side\":\"right\",\"title\":{\"text\":\"Prediction\"}},\"title\":{\"text\":\"Results\"}},                        {\"responsive\": true}                    ).then(function(){\n",
              "                            \n",
              "var gd = document.getElementById('7aa2e34b-69b9-4278-bfec-77148a084a3c');\n",
              "var x = new MutationObserver(function (mutations, observer) {{\n",
              "        var display = window.getComputedStyle(gd).display;\n",
              "        if (!display || display === 'none') {{\n",
              "            console.log([gd, 'removed!']);\n",
              "            Plotly.purge(gd);\n",
              "            observer.disconnect();\n",
              "        }}\n",
              "}});\n",
              "\n",
              "// Listen for the removal of the full notebook cells\n",
              "var notebookContainer = gd.closest('#notebook-container');\n",
              "if (notebookContainer) {{\n",
              "    x.observe(notebookContainer, {childList: true});\n",
              "}}\n",
              "\n",
              "// Listen for the clearing of the current output cell\n",
              "var outputEl = gd.closest('.output');\n",
              "if (outputEl) {{\n",
              "    x.observe(outputEl, {childList: true});\n",
              "}}\n",
              "\n",
              "                        })                };                            </script>        </div>\n",
              "</body>\n",
              "</html>"
            ]
          },
          "metadata": {}
        }
      ]
    },
    {
      "cell_type": "code",
      "source": [
        "from sklearn.linear_model import PoissonRegressor\n",
        "\n",
        "model = PoissonRegressor()\n",
        "model.fit(X_train, y_train)"
      ],
      "metadata": {
        "colab": {
          "base_uri": "https://localhost:8080/",
          "height": 75
        },
        "id": "2GBKEzVpUAz-",
        "outputId": "e32cd52b-17c0-42a6-a214-39d3d789639d"
      },
      "execution_count": 32,
      "outputs": [
        {
          "output_type": "execute_result",
          "data": {
            "text/plain": [
              "PoissonRegressor()"
            ],
            "text/html": [
              "<style>#sk-container-id-2 {color: black;background-color: white;}#sk-container-id-2 pre{padding: 0;}#sk-container-id-2 div.sk-toggleable {background-color: white;}#sk-container-id-2 label.sk-toggleable__label {cursor: pointer;display: block;width: 100%;margin-bottom: 0;padding: 0.3em;box-sizing: border-box;text-align: center;}#sk-container-id-2 label.sk-toggleable__label-arrow:before {content: \"▸\";float: left;margin-right: 0.25em;color: #696969;}#sk-container-id-2 label.sk-toggleable__label-arrow:hover:before {color: black;}#sk-container-id-2 div.sk-estimator:hover label.sk-toggleable__label-arrow:before {color: black;}#sk-container-id-2 div.sk-toggleable__content {max-height: 0;max-width: 0;overflow: hidden;text-align: left;background-color: #f0f8ff;}#sk-container-id-2 div.sk-toggleable__content pre {margin: 0.2em;color: black;border-radius: 0.25em;background-color: #f0f8ff;}#sk-container-id-2 input.sk-toggleable__control:checked~div.sk-toggleable__content {max-height: 200px;max-width: 100%;overflow: auto;}#sk-container-id-2 input.sk-toggleable__control:checked~label.sk-toggleable__label-arrow:before {content: \"▾\";}#sk-container-id-2 div.sk-estimator input.sk-toggleable__control:checked~label.sk-toggleable__label {background-color: #d4ebff;}#sk-container-id-2 div.sk-label input.sk-toggleable__control:checked~label.sk-toggleable__label {background-color: #d4ebff;}#sk-container-id-2 input.sk-hidden--visually {border: 0;clip: rect(1px 1px 1px 1px);clip: rect(1px, 1px, 1px, 1px);height: 1px;margin: -1px;overflow: hidden;padding: 0;position: absolute;width: 1px;}#sk-container-id-2 div.sk-estimator {font-family: monospace;background-color: #f0f8ff;border: 1px dotted black;border-radius: 0.25em;box-sizing: border-box;margin-bottom: 0.5em;}#sk-container-id-2 div.sk-estimator:hover {background-color: #d4ebff;}#sk-container-id-2 div.sk-parallel-item::after {content: \"\";width: 100%;border-bottom: 1px solid gray;flex-grow: 1;}#sk-container-id-2 div.sk-label:hover label.sk-toggleable__label {background-color: #d4ebff;}#sk-container-id-2 div.sk-serial::before {content: \"\";position: absolute;border-left: 1px solid gray;box-sizing: border-box;top: 0;bottom: 0;left: 50%;z-index: 0;}#sk-container-id-2 div.sk-serial {display: flex;flex-direction: column;align-items: center;background-color: white;padding-right: 0.2em;padding-left: 0.2em;position: relative;}#sk-container-id-2 div.sk-item {position: relative;z-index: 1;}#sk-container-id-2 div.sk-parallel {display: flex;align-items: stretch;justify-content: center;background-color: white;position: relative;}#sk-container-id-2 div.sk-item::before, #sk-container-id-2 div.sk-parallel-item::before {content: \"\";position: absolute;border-left: 1px solid gray;box-sizing: border-box;top: 0;bottom: 0;left: 50%;z-index: -1;}#sk-container-id-2 div.sk-parallel-item {display: flex;flex-direction: column;z-index: 1;position: relative;background-color: white;}#sk-container-id-2 div.sk-parallel-item:first-child::after {align-self: flex-end;width: 50%;}#sk-container-id-2 div.sk-parallel-item:last-child::after {align-self: flex-start;width: 50%;}#sk-container-id-2 div.sk-parallel-item:only-child::after {width: 0;}#sk-container-id-2 div.sk-dashed-wrapped {border: 1px dashed gray;margin: 0 0.4em 0.5em 0.4em;box-sizing: border-box;padding-bottom: 0.4em;background-color: white;}#sk-container-id-2 div.sk-label label {font-family: monospace;font-weight: bold;display: inline-block;line-height: 1.2em;}#sk-container-id-2 div.sk-label-container {text-align: center;}#sk-container-id-2 div.sk-container {/* jupyter's `normalize.less` sets `[hidden] { display: none; }` but bootstrap.min.css set `[hidden] { display: none !important; }` so we also need the `!important` here to be able to override the default hidden behavior on the sphinx rendered scikit-learn.org. See: https://github.com/scikit-learn/scikit-learn/issues/21755 */display: inline-block !important;position: relative;}#sk-container-id-2 div.sk-text-repr-fallback {display: none;}</style><div id=\"sk-container-id-2\" class=\"sk-top-container\"><div class=\"sk-text-repr-fallback\"><pre>PoissonRegressor()</pre><b>In a Jupyter environment, please rerun this cell to show the HTML representation or trust the notebook. <br />On GitHub, the HTML representation is unable to render, please try loading this page with nbviewer.org.</b></div><div class=\"sk-container\" hidden><div class=\"sk-item\"><div class=\"sk-estimator sk-toggleable\"><input class=\"sk-toggleable__control sk-hidden--visually\" id=\"sk-estimator-id-2\" type=\"checkbox\" checked><label for=\"sk-estimator-id-2\" class=\"sk-toggleable__label sk-toggleable__label-arrow\">PoissonRegressor</label><div class=\"sk-toggleable__content\"><pre>PoissonRegressor()</pre></div></div></div></div></div>"
            ]
          },
          "metadata": {},
          "execution_count": 32
        }
      ]
    },
    {
      "cell_type": "code",
      "source": [
        "y_pred = model.predict(x_test)"
      ],
      "metadata": {
        "id": "nNcMVqrzJ1dR"
      },
      "execution_count": 33,
      "outputs": []
    },
    {
      "cell_type": "code",
      "source": [
        "print(\"MAE train: \", metrics.mean_absolute_error(y_train, model.predict(X_train))) \n",
        "print(\"MSE train: \",metrics.mean_squared_error(y_train, model.predict(X_train)))\n",
        "print(\"RMSE train: \",np.sqrt(metrics.mean_squared_error(y_train, model.predict(X_train))))\n",
        "print(\"r2: \",metrics.r2_score(y_train, model.predict(X_train)))\n",
        "\n",
        "print(\"MAE test: \", metrics.mean_absolute_error(y_test, model.predict(x_test))) \n",
        "print(\"MSE test: \",metrics.mean_squared_error(y_test, model.predict(x_test)))\n",
        "print(\"RMSE test: \",np.sqrt(metrics.mean_squared_error(y_test, model.predict(x_test))))\n",
        "print(\"r2: \", metrics.r2_score(y_test, model.predict(x_test)))"
      ],
      "metadata": {
        "colab": {
          "base_uri": "https://localhost:8080/"
        },
        "id": "tRQ50SWkI-tm",
        "outputId": "f1f7d401-18a6-44c1-e9bb-0ac66202a1f0"
      },
      "execution_count": 34,
      "outputs": [
        {
          "output_type": "stream",
          "name": "stdout",
          "text": [
            "MAE train:  0.25288183628630007\n",
            "MSE train:  0.08720267082822418\n",
            "RMSE train:  0.29530098345285644\n",
            "r2:  0.002094851504701234\n",
            "MAE test:  0.26113113416380324\n",
            "MSE test:  0.09286050297206337\n",
            "RMSE test:  0.30473021342174683\n",
            "r2:  0.0017213525554006237\n"
          ]
        }
      ]
    },
    {
      "cell_type": "code",
      "source": [
        "import plotly.graph_objects as go\n",
        "from plotly.subplots import make_subplots\n",
        "\n",
        "fig = make_subplots(specs=[[{\"secondary_y\": True}]])\n",
        "x_ax=np.array(range(0,len(y_test)))\n",
        "fig.add_trace(\n",
        "    go.Scatter(x=x_ax, y=y_test, name=\"True\"),\n",
        "    secondary_y=True,)\n",
        "fig.add_trace(\n",
        "    go.Scatter(x=x_ax, y=y_pred, name=\"Predicition\"),\n",
        "    secondary_y=True,)\n",
        "fig.update_layout(\n",
        "    title_text=\"Results\")\n",
        "fig.update_xaxes(title_text=\"Couple of sentences\")\n",
        "fig.update_yaxes(title_text=\"True\", secondary_y=True)\n",
        "fig.update_yaxes(title_text=\"Prediction\", secondary_y=True)\n",
        "\n",
        "fig.show()"
      ],
      "metadata": {
        "colab": {
          "base_uri": "https://localhost:8080/",
          "height": 542
        },
        "id": "S3X3EfjF6ZvX",
        "outputId": "9d0b1e30-a10a-4086-ea61-0e6e1b5f6be7"
      },
      "execution_count": 35,
      "outputs": [
        {
          "output_type": "display_data",
          "data": {
            "text/html": [
              "<html>\n",
              "<head><meta charset=\"utf-8\" /></head>\n",
              "<body>\n",
              "    <div>            <script src=\"https://cdnjs.cloudflare.com/ajax/libs/mathjax/2.7.5/MathJax.js?config=TeX-AMS-MML_SVG\"></script><script type=\"text/javascript\">if (window.MathJax && window.MathJax.Hub && window.MathJax.Hub.Config) {window.MathJax.Hub.Config({SVG: {font: \"STIX-Web\"}});}</script>                <script type=\"text/javascript\">window.PlotlyConfig = {MathJaxConfig: 'local'};</script>\n",
              "        <script src=\"https://cdn.plot.ly/plotly-2.18.2.min.js\"></script>                <div id=\"d90e722c-6815-4c59-9bf4-d6d813f287ea\" class=\"plotly-graph-div\" style=\"height:525px; width:100%;\"></div>            <script type=\"text/javascript\">                                    window.PLOTLYENV=window.PLOTLYENV || {};                                    if (document.getElementById(\"d90e722c-6815-4c59-9bf4-d6d813f287ea\")) {                    Plotly.newPlot(                        \"d90e722c-6815-4c59-9bf4-d6d813f287ea\",                        [{\"name\":\"True\",\"x\":[0,1,2,3,4,5,6,7,8,9,10,11,12,13,14,15,16,17,18,19,20,21,22,23,24,25,26,27,28,29,30,31,32,33,34,35,36,37,38,39,40,41,42,43,44,45,46,47,48,49,50,51,52,53,54,55,56,57,58,59,60,61,62,63,64,65,66,67,68,69,70,71,72,73,74,75,76,77,78,79,80,81,82,83,84,85,86,87,88,89,90,91,92,93,94,95,96,97,98,99,100,101,102,103,104,105,106,107,108,109,110,111,112,113,114,115,116,117,118,119,120,121,122,123,124,125,126,127,128,129,130,131,132,133,134,135,136,137,138,139,140,141,142,143,144,145,146,147,148,149,150,151,152,153,154,155,156,157,158,159,160,161,162,163,164,165,166,167,168,169,170,171,172,173,174,175,176,177,178,179,180,181,182,183,184,185,186,187,188,189,190,191,192,193,194,195,196,197,198,199,200,201,202,203,204,205,206,207,208,209,210,211,212,213,214,215,216,217,218,219,220,221,222,223,224,225,226,227,228,229,230,231,232,233,234,235,236,237,238,239,240,241,242,243,244,245,246,247,248,249,250,251,252,253,254,255,256,257,258,259,260,261,262,263,264,265,266,267,268,269,270,271,272,273,274,275,276,277,278,279,280,281,282,283,284,285,286,287,288,289,290,291,292,293,294,295,296,297,298,299,300,301,302,303,304,305,306,307,308,309,310,311,312,313,314,315,316,317,318,319,320,321,322,323,324,325,326,327,328,329,330,331,332,333,334,335,336,337,338,339,340,341,342,343,344,345,346,347,348,349,350,351,352,353,354,355,356,357,358,359,360,361,362,363,364,365,366,367,368,369,370,371,372,373,374,375,376,377,378,379,380,381,382,383,384,385,386,387,388,389,390,391,392,393,394,395,396,397,398,399,400,401,402,403,404,405,406,407,408,409,410,411,412,413,414,415,416,417,418,419,420,421,422,423,424,425,426,427,428,429,430,431,432,433,434,435,436,437,438,439,440,441,442,443,444,445,446,447,448,449,450,451,452,453,454,455,456,457,458,459,460,461,462,463,464,465,466,467,468,469,470,471,472,473,474,475,476,477,478,479,480,481,482,483,484,485,486,487,488,489,490,491,492,493,494,495,496,497,498,499,500,501,502,503,504,505,506,507,508,509,510,511,512,513,514,515,516,517,518,519,520,521,522,523,524,525,526,527,528,529,530,531,532,533,534,535,536,537,538,539,540,541,542,543,544,545,546,547,548,549,550,551,552,553,554,555,556,557,558,559,560,561,562,563,564,565,566,567,568,569,570,571,572,573,574,575,576,577,578,579,580,581,582,583,584,585,586,587,588,589,590,591,592,593,594,595,596,597,598,599,600,601,602,603,604,605,606,607,608,609,610,611,612,613,614,615,616,617,618,619,620,621,622,623,624,625,626,627,628,629,630,631,632,633,634,635,636,637,638,639,640,641,642,643,644,645,646,647,648,649,650,651,652,653,654,655,656,657,658,659,660,661,662,663,664,665,666,667,668,669,670,671,672,673,674,675,676,677,678,679,680,681,682,683,684,685,686,687,688,689,690,691,692,693,694,695,696,697,698,699,700,701,702,703,704,705,706,707,708,709,710,711,712,713,714,715,716,717,718,719,720,721,722,723,724,725,726,727,728,729,730,731,732,733,734,735,736,737,738,739,740,741,742,743,744,745,746,747,748,749,750,751,752,753,754,755,756,757,758,759,760,761,762,763,764,765,766,767,768,769,770,771,772,773,774,775,776,777,778,779,780,781,782,783,784,785,786,787,788,789,790,791,792,793,794,795,796,797,798,799,800,801,802,803,804,805,806,807,808,809,810,811,812,813,814,815,816,817,818,819,820,821,822,823,824,825,826,827,828,829,830,831,832,833,834,835,836,837,838,839,840,841,842,843,844,845,846,847,848,849,850,851,852,853,854,855,856,857,858,859,860,861,862,863,864,865,866,867,868,869,870,871,872,873,874,875,876,877,878,879,880,881,882,883,884,885,886,887,888,889,890,891,892,893,894,895,896,897,898,899,900,901,902,903,904,905,906,907,908,909,910,911,912,913,914,915,916,917,918,919,920,921,922,923,924,925,926,927,928,929,930,931,932,933,934,935,936,937,938,939,940,941,942,943,944,945,946,947,948,949,950,951,952,953,954,955,956,957,958,959,960,961,962,963,964,965,966,967,968,969,970,971,972,973,974,975,976,977,978,979,980,981,982,983,984,985,986,987,988,989,990,991,992,993,994,995,996,997,998,999,1000,1001,1002,1003,1004,1005,1006,1007,1008,1009,1010,1011,1012,1013,1014,1015,1016,1017,1018,1019,1020,1021,1022,1023,1024,1025,1026,1027,1028,1029,1030,1031,1032,1033,1034,1035,1036,1037,1038,1039,1040,1041,1042,1043,1044,1045,1046,1047,1048,1049,1050,1051,1052,1053,1054,1055,1056,1057,1058,1059,1060,1061,1062,1063,1064,1065,1066,1067,1068,1069,1070,1071,1072,1073,1074,1075,1076,1077,1078,1079,1080,1081,1082,1083,1084,1085,1086,1087,1088,1089,1090,1091,1092,1093,1094,1095,1096,1097,1098,1099,1100,1101,1102,1103,1104,1105,1106,1107,1108,1109,1110,1111,1112,1113,1114,1115,1116,1117,1118,1119,1120,1121,1122,1123,1124,1125,1126,1127,1128,1129,1130,1131,1132,1133,1134,1135,1136,1137,1138,1139,1140,1141,1142,1143,1144,1145,1146,1147,1148,1149,1150,1151,1152,1153,1154,1155,1156,1157,1158,1159,1160,1161,1162,1163,1164,1165,1166,1167,1168,1169,1170,1171,1172,1173,1174,1175,1176,1177,1178,1179,1180,1181,1182,1183,1184,1185,1186,1187,1188,1189,1190,1191,1192,1193,1194,1195,1196,1197,1198,1199,1200,1201,1202,1203,1204,1205,1206,1207,1208,1209,1210,1211,1212,1213,1214,1215,1216,1217,1218,1219,1220,1221,1222,1223,1224,1225,1226,1227,1228,1229,1230,1231,1232,1233,1234,1235,1236,1237,1238,1239,1240,1241,1242,1243,1244,1245,1246,1247,1248,1249,1250,1251,1252,1253,1254,1255,1256,1257,1258,1259,1260,1261,1262,1263,1264,1265,1266,1267,1268,1269,1270,1271,1272,1273,1274,1275,1276,1277,1278,1279,1280,1281,1282,1283,1284,1285,1286,1287,1288,1289,1290,1291,1292,1293,1294,1295,1296,1297,1298,1299,1300,1301,1302,1303,1304,1305,1306,1307,1308,1309,1310,1311,1312,1313,1314,1315,1316,1317,1318,1319,1320,1321,1322,1323,1324,1325,1326,1327,1328,1329,1330,1331,1332,1333,1334,1335,1336,1337,1338,1339,1340,1341,1342,1343,1344,1345,1346,1347,1348,1349,1350,1351,1352,1353,1354,1355,1356,1357,1358,1359,1360,1361,1362,1363,1364,1365,1366,1367,1368,1369,1370,1371,1372,1373,1374,1375,1376,1377,1378],\"y\":[0.5,0.7200000000000001,1.0,0.8400000000000001,0.30000000000000004,0.36000000000000004,0.7000000000000001,0.44000000000000006,0.44000000000000006,0.3428,0.3428,1.0,0.12,0.8800000000000001,0.4,0.36000000000000004,0.8800000000000001,0.7200000000000001,0.7200000000000001,0.24,0.48,0.04000000000000001,0.8400000000000001,0.8800000000000001,0.45,0.4,0.15000000000000002,0.44000000000000006,0.16000000000000003,0.44000000000000006,0.6400000000000001,0.96,0.27999999999999997,0.8500000000000001,0.68,0.10660000000000001,0.08000000000000002,0.24,1.0,0.10760000000000002,0.75,0.6000000000000001,0.7200000000000001,0.1,0.30000000000000004,0.16000000000000003,0.16000000000000003,0.12,0.8800000000000001,0.35000000000000003,0.08000000000000002,0.27999999999999997,0.08000000000000002,0.16000000000000003,0.4,0.026600000000000002,0.8,0.0534,0.68,0.24,1.0,0.0,0.76,0.15000000000000002,0.68,0.0,0.04000000000000001,0.8,0.1,0.76,0.48,0.9500000000000001,0.0,0.75,0.52,0.0,0.15000000000000002,0.0,0.76,0.5599999999999999,0.0,0.16000000000000003,0.6000000000000001,0.2,0.0,0.2,0.68,1.0,0.46660000000000007,0.27999999999999997,0.15000000000000002,0.7076,0.16000000000000003,0.7000000000000001,0.4,0.9500000000000001,0.8,0.9,0.30000000000000004,0.48,0.0,0.08000000000000002,0.5,0.52,0.7200000000000001,0.6000000000000001,0.0,0.32000000000000006,0.25,0.7200000000000001,0.4,0.7200000000000001,0.5599999999999999,0.8800000000000001,0.0,0.0,0.75,0.5,0.0,0.16000000000000003,0.2,0.0,0.05,0.08000000000000002,0.0,1.0,0.06,0.55,1.0,0.8500000000000001,0.68,0.32000000000000006,0.52,1.0,0.6400000000000001,0.96,1.0,0.48,0.4,1.0,1.0,0.68,0.9,0.8400000000000001,0.44000000000000006,0.48,0.76,0.5,0.4,0.15000000000000002,0.4,0.44000000000000006,0.8,0.6400000000000001,0.76,0.75,0.1,0.16000000000000003,1.0,0.24,1.0,0.5599999999999999,0.24,0.6400000000000001,0.9199999999999999,0.8,0.76,0.68,0.9199999999999999,0.52,0.36000000000000004,0.15000000000000002,0.8,0.55,0.76,0.52,0.4,0.76,0.1166,0.08000000000000002,0.05,0.5599999999999999,0.6400000000000001,0.1,0.45,0.0,0.0,0.0616,0.15000000000000002,0.08000000000000002,0.8400000000000001,0.75,0.32000000000000006,0.6000000000000001,0.8,0.6000000000000001,0.75,0.08000000000000002,0.0,0.6000000000000001,0.08000000000000002,0.08000000000000002,0.05,0.05,0.08000000000000002,0.08000000000000002,0.6400000000000001,0.0,0.44000000000000006,0.16000000000000003,0.16000000000000003,0.06,0.0,0.15000000000000002,0.46660000000000007,0.2666,0.24,0.8400000000000001,0.76,0.6000000000000001,0.1,0.0,0.0666,0.30000000000000004,0.033400000000000006,0.1,0.25,0.32000000000000006,0.0,0.2,0.0,0.0,0.8,0.55,0.6666000000000001,0.7000000000000001,0.0376,0.0,0.05,0.0728,0.6400000000000001,0.0,0.0,0.0,0.35000000000000003,0.0,0.55,0.36000000000000004,0.0,0.0,0.5599999999999999,0.8800000000000001,0.8,0.52,0.24,0.6400000000000001,0.16000000000000003,0.68,0.4,0.0,0.9199999999999999,0.8,0.76,0.8,0.5599999999999999,0.7200000000000001,0.36000000000000004,0.7200000000000001,0.24,1.0,0.8,0.0,0.68,0.8800000000000001,0.8400000000000001,1.0,0.04000000000000001,0.04000000000000001,0.8,0.52,0.12,0.24,0.76,0.8400000000000001,0.5599999999999999,0.8400000000000001,0.48,0.7200000000000001,0.76,0.12,0.96,0.24,0.48,0.8400000000000001,0.0,0.04000000000000001,0.68,0.6000000000000001,0.6400000000000001,0.6000000000000001,0.8800000000000001,0.36000000000000004,0.4,0.96,0.8,0.44000000000000006,0.8400000000000001,0.68,0.8400000000000001,0.68,0.48,0.2,0.32000000000000006,0.6400000000000001,0.68,0.8,0.6000000000000001,0.76,0.0,0.0,0.52,0.52,0.76,0.52,0.5599999999999999,0.0,0.52,0.9199999999999999,0.76,0.68,1.0,0.9199999999999999,0.6000000000000001,0.44000000000000006,0.76,0.44000000000000006,0.7200000000000001,0.8,0.08000000000000002,0.0,0.76,1.0,0.96,0.48,0.5599999999999999,0.27999999999999997,0.7200000000000001,0.0,0.8400000000000001,0.08000000000000002,0.76,0.8,0.24,0.8,0.6000000000000001,0.0,0.48,0.68,0.16000000000000003,0.8400000000000001,0.8800000000000001,0.8,0.36000000000000004,0.5599999999999999,1.0,0.0,0.04000000000000001,0.8,0.76,0.8800000000000001,0.6400000000000001,0.9199999999999999,0.0,0.2,0.16000000000000003,0.8,0.32000000000000006,0.0,0.68,0.2,0.8,0.6000000000000001,0.6000000000000001,0.15000000000000002,0.68,0.5599999999999999,0.96,0.27999999999999997,0.48,0.36000000000000004,0.96,0.27999999999999997,0.08000000000000002,0.266,0.48,0.08000000000000002,0.12,0.96,0.5599999999999999,0.4,0.52,0.0,0.48,0.8,0.8,0.8,0.0,0.6400000000000001,0.27999999999999997,0.7200000000000001,0.8800000000000001,1.0,0.36000000000000004,0.96,0.12,0.27999999999999997,0.04000000000000001,0.8400000000000001,0.9199999999999999,0.8,0.9199999999999999,0.36000000000000004,0.9199999999999999,0.04000000000000001,0.52,0.76,0.0,1.0,0.7200000000000001,0.9199999999999999,0.4,1.0,0.0,0.68,0.0,0.4,0.4,0.9199999999999999,0.6000000000000001,0.9199999999999999,0.4,0.52,0.08000000000000002,0.52,0.8400000000000001,0.0,0.44000000000000006,0.8,0.0,0.4,0.6000000000000001,0.52,0.0,0.0,0.96,0.6000000000000001,0.44000000000000006,0.8800000000000001,0.16000000000000003,0.68,0.0,0.12,0.0,0.48,0.68,0.8,0.4,0.8,0.96,0.12,0.48,0.8800000000000001,0.48,0.96,0.68,0.5599999999999999,0.16000000000000003,0.44000000000000006,0.76,0.08000000000000002,0.9199999999999999,0.6000000000000001,0.9199999999999999,0.16000000000000003,0.8,0.24,0.6400000000000001,0.7200000000000001,0.68,1.0,0.8,0.8,0.5599999999999999,0.76,0.52,0.4,0.16000000000000003,1.0,0.2,1.0,0.48,0.4,0.44000000000000006,0.68,0.16000000000000003,0.9199999999999999,0.5599999999999999,0.4,0.52,0.04000000000000001,0.27999999999999997,0.32000000000000006,0.6400000000000001,0.04000000000000001,0.48,0.04000000000000001,0.27999999999999997,0.36000000000000004,0.32000000000000006,0.76,0.2,0.24,0.8,0.4,0.52,0.76,0.52,0.04000000000000001,0.6000000000000001,0.36000000000000004,0.12,0.12,0.04000000000000001,0.12,0.04000000000000001,0.2,0.68,0.27999999999999997,0.4,0.5599999999999999,0.6400000000000001,0.16000000000000003,0.36000000000000004,0.44000000000000006,0.8400000000000001,1.0,0.24,0.5599999999999999,0.8800000000000001,0.8800000000000001,0.7200000000000001,0.24,0.27999999999999997,0.68,0.16000000000000003,0.5599999999999999,0.6400000000000001,0.32000000000000006,1.0,0.7200000000000001,0.7200000000000001,0.08000000000000002,0.36000000000000004,0.24,0.24,0.44000000000000006,1.0,0.52,0.0,0.5599999999999999,0.6400000000000001,0.32000000000000006,0.04000000000000001,0.76,0.8,0.5599999999999999,1.0,0.68,0.5599999999999999,0.27999999999999997,0.24,0.6400000000000001,0.6000000000000001,0.44000000000000006,0.4,0.76,0.32000000000000006,0.96,0.24,0.48,0.36000000000000004,0.52,0.76,0.24,0.04000000000000001,0.76,0.48,0.08000000000000002,0.68,0.8400000000000001,0.48,0.16000000000000003,0.8800000000000001,0.6000000000000001,0.4,0.6000000000000001,0.44000000000000006,0.36000000000000004,0.5599999999999999,0.5599999999999999,1.0,0.44000000000000006,0.24,0.32000000000000006,0.5599999999999999,0.36000000000000004,0.52,0.04000000000000001,0.48,0.8400000000000001,0.44000000000000006,0.32000000000000006,0.16000000000000003,1.0,0.24,0.6000000000000001,0.6000000000000001,0.0,0.0,0.4,0.0,1.0,0.6000000000000001,0.4,0.0,0.4,1.0,0.2,0.8,0.8,0.2,0.2,0.2,0.8,0.2,1.0,0.8,0.8,0.8,0.8,0.6000000000000001,0.8,0.0,0.0,0.2,0.8,1.0,0.4,0.8,0.0,0.4,0.2,0.0,0.4,1.0,0.2,0.6000000000000001,0.4,1.0,0.4,0.2,1.0,0.0,1.0,1.0,0.0,0.4,0.8,0.0,0.4,0.6000000000000001,0.0,0.6000000000000001,0.2,0.6000000000000001,0.4,0.8,0.0,0.8,0.8,0.4,0.4,1.0,0.4,0.4,0.0,0.4,0.0,0.4,0.8,0.8,0.2,0.8,0.8,0.4,0.4,0.4,0.0,0.6000000000000001,0.2,1.0,0.2,0.0,0.4,0.4,0.0,0.6000000000000001,0.6000000000000001,0.6000000000000001,1.0,1.0,0.8,0.2,0.0,1.0,0.0,0.8,1.0,0.6000000000000001,0.6000000000000001,0.6000000000000001,0.4,0.2,0.0,0.4,0.0,0.4,1.0,0.6000000000000001,0.6000000000000001,1.0,0.6000000000000001,0.4,0.2,0.2,1.0,0.2,0.4,0.8,0.0,0.4,0.2,0.6000000000000001,0.2,0.2,1.0,1.0,1.0,0.0,0.8,0.8,0.0,0.0,0.4,0.8,1.0,0.6000000000000001,0.6000000000000001,0.8,0.2,0.0,0.4,0.4,1.0,0.8,1.0,0.2,0.0,0.4,0.0,0.4,0.2,1.0,1.0,0.6000000000000001,0.0,0.0,0.4,1.0,0.2,0.6000000000000001,0.6000000000000001,0.4,0.2,0.2,0.4,0.4,0.8,0.0,0.2,0.2,0.4,0.4,0.0,0.2,1.0,0.4,0.4,1.0,0.4,1.0,0.0,0.8,0.8,0.8,0.0,0.4,0.4,1.0,0.4,0.6000000000000001,0.8,0.2,1.0,0.4,0.2,0.4,0.2,0.8,1.0,0.2,0.8,0.4,0.8,0.4,0.8,1.0,0.0,0.0,1.0,0.8,0.2,0.8,0.8,1.0,1.0,0.8,0.2,0.0,0.6000000000000001,0.8,0.6000000000000001,1.0,1.0,1.0,0.2,0.0,0.8,0.2,0.8,0.6000000000000001,1.0,1.0,0.0,0.2,0.0,0.0,0.0,0.0,0.8,1.0,0.2,0.2,0.8,0.2,1.0,0.6000000000000001,1.0,1.0,0.27999999999999997,0.7200000000000001,0.7000000000000001,0.6400000000000001,0.8,0.4,0.7200000000000001,0.8400000000000001,0.8,0.65,0.68,0.7334,0.75,0.24,0.76,0.68,0.6400000000000001,0.7200000000000001,0.6000000000000001,0.32000000000000006,0.6400000000000001,0.76,0.8400000000000001,0.6000000000000001,0.8,0.9500000000000001,0.7066,0.25,0.8,0.6000000000000001,0.52,0.7000000000000001,0.30000000000000004,0.4,0.7000000000000001,0.6000000000000001,0.9500000000000001,0.68,0.68,0.8500000000000001,0.76,0.6000000000000001,0.6000000000000001,0.9199999999999999,0.6000000000000001,0.8500000000000001,0.36000000000000004,0.5599999999999999,0.25,0.75,0.75,0.75,0.7000000000000001,0.9199999999999999,0.65,0.2666,0.5,0.65,0.6000000000000001,0.7200000000000001,0.44000000000000006,0.96,0.8,0.68,0.6400000000000001,0.5,0.65,0.76,0.8800000000000001,0.7000000000000001,0.30000000000000004,0.5599999999999999,0.7200000000000001,0.8400000000000001,0.6000000000000001,0.6000000000000001,0.32000000000000006,0.8,0.2666,0.7200000000000001,0.6000000000000001,0.6000000000000001,0.7000000000000001,0.8,0.44000000000000006,0.68,0.7000000000000001,0.8500000000000001,0.52,0.6000000000000001,0.48,0.76,0.6000000000000001,0.7000000000000001,0.7000000000000001,0.75,0.45,0.65,0.96,0.76,0.68,0.4,0.9199999999999999,0.7000000000000001,0.6666000000000001,0.5334,0.6400000000000001,0.76,0.68,0.68,0.7200000000000001,0.76,0.36000000000000004,0.6400000000000001,0.6000000000000001,0.36000000000000004,0.55,0.32000000000000006,0.55,0.65,0.45,0.6000000000000001,0.6364000000000001,0.75,0.52,0.25,0.5,0.8400000000000001,0.52,0.27999999999999997,0.7200000000000001,0.6000000000000001,0.7000000000000001,1.0,0.6000000000000001,0.76,0.76,0.8444000000000002,0.5,1.0,0.8,0.7200000000000001,0.8400000000000001,0.68,0.52,0.7200000000000001,0.8,0.7000000000000001,0.30000000000000004,0.7000000000000001,0.35000000000000003,0.75,0.96,0.68,0.52,0.8800000000000001,0.7200000000000001,0.7200000000000001,0.8,0.9,1.0,0.68,0.75,0.6352000000000001,0.7200000000000001,0.6400000000000001,0.7000000000000001,0.38,0.6000000000000001,0.7200000000000001,0.75,0.7200000000000001,0.75,0.6666000000000001,0.52,0.36000000000000004,0.7200000000000001,0.8800000000000001,0.6000000000000001,0.8,0.65,0.6000000000000001,0.52,0.52,0.9199999999999999,0.55,0.44000000000000006,0.6666000000000001,0.5538000000000001,0.5599999999999999,0.8,0.9466,0.32000000000000006,0.75,0.1,0.65,0.48,0.6400000000000001,0.75,0.65,0.48,0.9,0.8,0.76,0.16000000000000003,0.6000000000000001,0.7000000000000001,0.4,0.5599999999999999,0.4,0.6000000000000001,0.7000000000000001,1.0,0.65,0.68,0.68,0.75,0.55,0.6400000000000001,0.52,0.32000000000000006,0.5,0.68,0.8,0.8500000000000001,0.8,0.68,0.5599999999999999,0.32000000000000006,0.76,0.5334,0.24,0.96,0.6000000000000001,0.8,0.8,0.55,0.45,0.6400000000000001,0.9500000000000001,0.5599999999999999,0.27999999999999997,0.15000000000000002,0.7334,0.68,0.68,0.7714000000000001,0.6000000000000001,0.7000000000000001,0.65,0.27999999999999997,0.15000000000000002,0.68,0.96,0.08000000000000002,0.36000000000000004,0.48,0.32000000000000006,0.6400000000000001,0.08000000000000002,0.8,0.16000000000000003,0.27999999999999997,0.36000000000000004,0.44000000000000006,0.6400000000000001,0.24,0.25,0.8400000000000001,0.52,0.7200000000000001,0.08000000000000002,0.0,1.0,0.8800000000000001,0.96,0.7200000000000001,0.76,0.04000000000000001,0.76,0.44000000000000006,0.8,0.52,0.12,0.8800000000000001,0.8,0.16000000000000003,0.4,0.27999999999999997,0.6000000000000001,0.12,0.4,0.9199999999999999,0.27999999999999997,0.9,0.16000000000000003,0.0,0.8800000000000001,0.2,0.68,0.12,0.2,0.5599999999999999,0.32000000000000006,0.48,0.16000000000000003,0.8800000000000001,0.96,0.68,0.76,0.9,0.44000000000000006,0.8,0.2,0.52,0.2,0.27999999999999997,0.8,0.8400000000000001,0.76,0.76,0.48,0.08000000000000002,0.44000000000000006,0.8800000000000001,0.7200000000000001,0.44000000000000006,1.0,0.8400000000000001,0.36000000000000004,0.27999999999999997,0.44000000000000006,0.76,0.8400000000000001,0.4,1.0,0.76,0.24,0.44000000000000006,0.27999999999999997,0.48,0.6000000000000001,0.6400000000000001,0.76,0.6000000000000001,0.4,0.5599999999999999,0.8,0.9199999999999999,0.8,0.44000000000000006,0.68,0.68,0.68,0.8400000000000001,0.76,0.52,0.44000000000000006,0.08000000000000002,0.36000000000000004,0.2,0.32000000000000006,0.32000000000000006,0.52,0.52,0.0,0.8800000000000001,0.68,0.12,0.0,0.8800000000000001,0.7200000000000001,0.6000000000000001,0.76,0.44000000000000006,0.0,0.9199999999999999,0.32000000000000006,0.9199999999999999,0.8400000000000001,0.76,0.6000000000000001,0.2,0.7200000000000001,0.16000000000000003,0.44000000000000006,0.8400000000000001,0.8400000000000001,0.68,0.26,0.24,0.7200000000000001,0.6400000000000001,0.2,0.6000000000000001,0.76,0.32000000000000006,0.24,0.68,0.08000000000000002,0.96,0.0,0.08000000000000002,0.5599999999999999,0.7200000000000001,0.4,0.8,0.76,0.36000000000000004,0.04000000000000001,0.4,1.0,0.0,0.7200000000000001,0.7200000000000001,0.68,0.04000000000000001,0.8800000000000001,0.12,0.08000000000000002,0.9199999999999999,0.52,0.5599999999999999,0.6400000000000001,0.4,0.36000000000000004,0.08000000000000002,0.27999999999999997,0.24,0.52,0.48,0.8400000000000001,1.0,0.08000000000000002,0.32000000000000006,0.6400000000000001,0.8800000000000001,0.96,1.0,0.534,0.0,1.0,0.6000000000000001,0.96,0.48,1.0,0.96,1.0,0.6400000000000001,0.24,1.0,0.9199999999999999,0.4,0.36000000000000004,0.6000000000000001,0.76,0.8,0.96,0.96,0.5599999999999999,0.52,0.8800000000000001,0.9199999999999999,0.44000000000000006,0.08000000000000002,0.08000000000000002,0.27999999999999997,0.96,0.8800000000000001,1.0,0.4,1.0,1.0,1.0,1.0,0.8,0.6000000000000001,0.6000000000000001,1.0,0.8,0.4,0.2,0.8,0.0,0.4,1.0,0.6000000000000001,0.4,0.4,0.0,0.0,0.2,0.2,0.2,0.4,0.0,0.2,0.2,0.0,0.0],\"type\":\"scatter\",\"xaxis\":\"x\",\"yaxis\":\"y2\"},{\"name\":\"Predicition\",\"x\":[0,1,2,3,4,5,6,7,8,9,10,11,12,13,14,15,16,17,18,19,20,21,22,23,24,25,26,27,28,29,30,31,32,33,34,35,36,37,38,39,40,41,42,43,44,45,46,47,48,49,50,51,52,53,54,55,56,57,58,59,60,61,62,63,64,65,66,67,68,69,70,71,72,73,74,75,76,77,78,79,80,81,82,83,84,85,86,87,88,89,90,91,92,93,94,95,96,97,98,99,100,101,102,103,104,105,106,107,108,109,110,111,112,113,114,115,116,117,118,119,120,121,122,123,124,125,126,127,128,129,130,131,132,133,134,135,136,137,138,139,140,141,142,143,144,145,146,147,148,149,150,151,152,153,154,155,156,157,158,159,160,161,162,163,164,165,166,167,168,169,170,171,172,173,174,175,176,177,178,179,180,181,182,183,184,185,186,187,188,189,190,191,192,193,194,195,196,197,198,199,200,201,202,203,204,205,206,207,208,209,210,211,212,213,214,215,216,217,218,219,220,221,222,223,224,225,226,227,228,229,230,231,232,233,234,235,236,237,238,239,240,241,242,243,244,245,246,247,248,249,250,251,252,253,254,255,256,257,258,259,260,261,262,263,264,265,266,267,268,269,270,271,272,273,274,275,276,277,278,279,280,281,282,283,284,285,286,287,288,289,290,291,292,293,294,295,296,297,298,299,300,301,302,303,304,305,306,307,308,309,310,311,312,313,314,315,316,317,318,319,320,321,322,323,324,325,326,327,328,329,330,331,332,333,334,335,336,337,338,339,340,341,342,343,344,345,346,347,348,349,350,351,352,353,354,355,356,357,358,359,360,361,362,363,364,365,366,367,368,369,370,371,372,373,374,375,376,377,378,379,380,381,382,383,384,385,386,387,388,389,390,391,392,393,394,395,396,397,398,399,400,401,402,403,404,405,406,407,408,409,410,411,412,413,414,415,416,417,418,419,420,421,422,423,424,425,426,427,428,429,430,431,432,433,434,435,436,437,438,439,440,441,442,443,444,445,446,447,448,449,450,451,452,453,454,455,456,457,458,459,460,461,462,463,464,465,466,467,468,469,470,471,472,473,474,475,476,477,478,479,480,481,482,483,484,485,486,487,488,489,490,491,492,493,494,495,496,497,498,499,500,501,502,503,504,505,506,507,508,509,510,511,512,513,514,515,516,517,518,519,520,521,522,523,524,525,526,527,528,529,530,531,532,533,534,535,536,537,538,539,540,541,542,543,544,545,546,547,548,549,550,551,552,553,554,555,556,557,558,559,560,561,562,563,564,565,566,567,568,569,570,571,572,573,574,575,576,577,578,579,580,581,582,583,584,585,586,587,588,589,590,591,592,593,594,595,596,597,598,599,600,601,602,603,604,605,606,607,608,609,610,611,612,613,614,615,616,617,618,619,620,621,622,623,624,625,626,627,628,629,630,631,632,633,634,635,636,637,638,639,640,641,642,643,644,645,646,647,648,649,650,651,652,653,654,655,656,657,658,659,660,661,662,663,664,665,666,667,668,669,670,671,672,673,674,675,676,677,678,679,680,681,682,683,684,685,686,687,688,689,690,691,692,693,694,695,696,697,698,699,700,701,702,703,704,705,706,707,708,709,710,711,712,713,714,715,716,717,718,719,720,721,722,723,724,725,726,727,728,729,730,731,732,733,734,735,736,737,738,739,740,741,742,743,744,745,746,747,748,749,750,751,752,753,754,755,756,757,758,759,760,761,762,763,764,765,766,767,768,769,770,771,772,773,774,775,776,777,778,779,780,781,782,783,784,785,786,787,788,789,790,791,792,793,794,795,796,797,798,799,800,801,802,803,804,805,806,807,808,809,810,811,812,813,814,815,816,817,818,819,820,821,822,823,824,825,826,827,828,829,830,831,832,833,834,835,836,837,838,839,840,841,842,843,844,845,846,847,848,849,850,851,852,853,854,855,856,857,858,859,860,861,862,863,864,865,866,867,868,869,870,871,872,873,874,875,876,877,878,879,880,881,882,883,884,885,886,887,888,889,890,891,892,893,894,895,896,897,898,899,900,901,902,903,904,905,906,907,908,909,910,911,912,913,914,915,916,917,918,919,920,921,922,923,924,925,926,927,928,929,930,931,932,933,934,935,936,937,938,939,940,941,942,943,944,945,946,947,948,949,950,951,952,953,954,955,956,957,958,959,960,961,962,963,964,965,966,967,968,969,970,971,972,973,974,975,976,977,978,979,980,981,982,983,984,985,986,987,988,989,990,991,992,993,994,995,996,997,998,999,1000,1001,1002,1003,1004,1005,1006,1007,1008,1009,1010,1011,1012,1013,1014,1015,1016,1017,1018,1019,1020,1021,1022,1023,1024,1025,1026,1027,1028,1029,1030,1031,1032,1033,1034,1035,1036,1037,1038,1039,1040,1041,1042,1043,1044,1045,1046,1047,1048,1049,1050,1051,1052,1053,1054,1055,1056,1057,1058,1059,1060,1061,1062,1063,1064,1065,1066,1067,1068,1069,1070,1071,1072,1073,1074,1075,1076,1077,1078,1079,1080,1081,1082,1083,1084,1085,1086,1087,1088,1089,1090,1091,1092,1093,1094,1095,1096,1097,1098,1099,1100,1101,1102,1103,1104,1105,1106,1107,1108,1109,1110,1111,1112,1113,1114,1115,1116,1117,1118,1119,1120,1121,1122,1123,1124,1125,1126,1127,1128,1129,1130,1131,1132,1133,1134,1135,1136,1137,1138,1139,1140,1141,1142,1143,1144,1145,1146,1147,1148,1149,1150,1151,1152,1153,1154,1155,1156,1157,1158,1159,1160,1161,1162,1163,1164,1165,1166,1167,1168,1169,1170,1171,1172,1173,1174,1175,1176,1177,1178,1179,1180,1181,1182,1183,1184,1185,1186,1187,1188,1189,1190,1191,1192,1193,1194,1195,1196,1197,1198,1199,1200,1201,1202,1203,1204,1205,1206,1207,1208,1209,1210,1211,1212,1213,1214,1215,1216,1217,1218,1219,1220,1221,1222,1223,1224,1225,1226,1227,1228,1229,1230,1231,1232,1233,1234,1235,1236,1237,1238,1239,1240,1241,1242,1243,1244,1245,1246,1247,1248,1249,1250,1251,1252,1253,1254,1255,1256,1257,1258,1259,1260,1261,1262,1263,1264,1265,1266,1267,1268,1269,1270,1271,1272,1273,1274,1275,1276,1277,1278,1279,1280,1281,1282,1283,1284,1285,1286,1287,1288,1289,1290,1291,1292,1293,1294,1295,1296,1297,1298,1299,1300,1301,1302,1303,1304,1305,1306,1307,1308,1309,1310,1311,1312,1313,1314,1315,1316,1317,1318,1319,1320,1321,1322,1323,1324,1325,1326,1327,1328,1329,1330,1331,1332,1333,1334,1335,1336,1337,1338,1339,1340,1341,1342,1343,1344,1345,1346,1347,1348,1349,1350,1351,1352,1353,1354,1355,1356,1357,1358,1359,1360,1361,1362,1363,1364,1365,1366,1367,1368,1369,1370,1371,1372,1373,1374,1375,1376,1377,1378],\"y\":[0.5242113026718032,0.5266381147298904,0.5251409781362442,0.5242594864870143,0.5239248339568906,0.5240176803303144,0.524126548631993,0.5235833755216152,0.5234013774989315,0.5234348239122056,0.5234348239122056,0.5236059025783275,0.5241979564470418,0.52403038768188,0.5240620013554429,0.5236491878061498,0.5254918615559557,0.5229424368858303,0.5254132268566004,0.5240260912815441,0.5241525713029439,0.5242377193022553,0.5257112265213976,0.5236594218426521,0.5238607201436817,0.5242949105335908,0.5240946426542649,0.5242173168540875,0.5235542641934544,0.5237613897954582,0.5259473044105997,0.524481341831096,0.5242834917324075,0.526087310001656,0.5238320512026053,0.5237181165150964,0.5236454496795346,0.5246638256371564,0.524271260696856,0.5241598924065808,0.5229171414106774,0.5253288691951671,0.5229713677538739,0.5238826300939856,0.5243439560002819,0.5238488247945944,0.5237818298129602,0.5241201323428647,0.5256786268152309,0.524261154882334,0.5240861401104742,0.5242775613078309,0.5243156463639431,0.5236686759896584,0.5239460603173659,0.5236591976630877,0.5235452183208188,0.523912325892883,0.5258646420723728,0.5254251182733994,0.5248214782086443,0.5245910829967978,0.5237874031896314,0.5238396574063497,0.524570539540672,0.5243173100657663,0.5238689822622243,0.5239800500840256,0.5234080940000068,0.5244964854133389,0.5256932218005677,0.5232005737823268,0.5241271207816084,0.5257059220715297,0.524217337563867,0.5239326653198109,0.5257702517097455,0.5244319752802026,0.525371269963681,0.5255448270024156,0.5238712611430981,0.5242034114193451,0.5242176616395168,0.5262207273721372,0.5245620425876617,0.524032935387957,0.5276832821526545,0.5235464322294688,0.5257645522471718,0.5234178568635962,0.5238570566883195,0.5253124934133923,0.5236289733700256,0.5261426996775561,0.5234684813595027,0.5243659512465636,0.5241998626315432,0.5240333450470163,0.5263457925621525,0.5244134429430234,0.5248995151630154,0.5253244841194376,0.525063172754028,0.5236843748857267,0.5235289546247842,0.5258494753790272,0.5247866709262431,0.5233816449087241,0.5236560876232726,0.5240220136900706,0.5239016289940357,0.5259483226038685,0.5268582446767615,0.5262622478289833,0.5250086224034538,0.5242537654283069,0.5269471460384344,0.524792315169917,0.5242005232258279,0.524534528608139,0.5242295009817541,0.5241709579307368,0.525122097550538,0.524607408505867,0.5253234295573498,0.5252172962306262,0.5236157144895801,0.5234143944441184,0.525843787088459,0.5235268301182343,0.5252872779666825,0.5240872686704678,0.5237277810708811,0.5242164707324235,0.52498726729233,0.5253917509725137,0.5242930293601259,0.5237155302913525,0.5231876571014358,0.5261743018014969,0.5230933983745448,0.5254845016341322,0.5241426743806474,0.5270136594307833,0.5238273236163171,0.5235438186339462,0.5240146097040541,0.5243261083207212,0.5247249163218303,0.5237588082786513,0.523714625891918,0.5240279406641508,0.5233339469405933,0.5228840677984374,0.5241498049388605,0.523903538921594,0.5234486291119765,0.5238954869640688,0.5240875164177187,0.5235823770526626,0.5239350340784161,0.5239155497289546,0.5252234685059173,0.5236515793182985,0.5234268055666337,0.526154394220257,0.5256601085496108,0.5252142695668875,0.5235360095277527,0.5252514622062386,0.5235870048720279,0.5237387533819816,0.5238066335082713,0.5248209354166192,0.525467531522806,0.5234390057266306,0.5246530542998307,0.5257640194882177,0.5238330667328764,0.5233657521153927,0.5236893770719667,0.5252052880249334,0.5252324283749225,0.5237257171500195,0.5262637564982965,0.5236030389952182,0.5248102171702774,0.5240564291402394,0.5240284661917064,0.52381996119611,0.5237365010150741,0.5237196622985586,0.5240740037699407,0.5257336971243681,0.5236701109210236,0.5252245341819162,0.526199989523704,0.5248116377589179,0.5236766059814324,0.5242950220154149,0.5246512348022048,0.5241669374001592,0.5233476463413349,0.5235991871832962,0.5236917725199794,0.5244870479489503,0.5246171998994665,0.5238299388748665,0.5233635567345132,0.5256492771879537,0.5249111541737486,0.5249138201299732,0.5243048340963055,0.523515029201303,0.5237647639274958,0.5231652922211956,0.5265349029811877,0.5254338400554738,0.5258875261422602,0.5271673270219276,0.5233121614948244,0.5243093551523202,0.5258501596806635,0.5254837030561783,0.5243763687117866,0.5242735322359365,0.5263891986044601,0.5261486208211741,0.5247398297008771,0.5236822393095596,0.523376846974327,0.5245373404071052,0.5236465232849836,0.5241032062224447,0.5241902947914934,0.5257233402397438,0.5230977742963373,0.5245183900584102,0.5247501651919094,0.5240284453088575,0.5232697060463678,0.5247310290120181,0.5239907597311064,0.5243522622734768,0.5262527125918169,0.5239461921455413,0.5237782761030244,0.5248260801080253,0.5253471480990205,0.5243921071743236,0.5265620337213902,0.5255773061098737,0.5247107109819835,0.5261194148483846,0.5244334776338495,0.5248058341568401,0.5255628756905644,0.5247942447952685,0.5254451670264425,0.5257590686925323,0.5271302629470231,0.525733893422087,0.5259068666229114,0.5266171521904706,0.5265358969646703,0.525641668922405,0.5246741188737816,0.5264272138216338,0.5258933621232025,0.5260290192612489,0.5255338919941446,0.5238760006759293,0.5248250801431693,0.5253383569499198,0.5256568956556511,0.5238791596990323,0.5241580724912965,0.5250566264644457,0.5254597355553187,0.5248877683718685,0.525984669930863,0.5242775218697873,0.5264908416941271,0.5255072209303399,0.5251664161787747,0.5264817873497781,0.5262484634954584,0.5237870005361894,0.5253278058612055,0.5254633376717579,0.5259049407750352,0.5260400249465977,0.5257597917261276,0.5257742166897914,0.5262180257964839,0.5251833135140471,0.5261987622773364,0.5254368053667923,0.5256462526215145,0.5266665285221422,0.5260760694650974,0.526334608212062,0.5262443809909468,0.5264484866027385,0.5261991299286997,0.5260779067740907,0.526708804626009,0.5256793834110077,0.5236271912730277,0.5259399025945347,0.5259430534189942,0.5254987467914378,0.5257868383863544,0.5257379410052141,0.5260913091664254,0.5253434217040086,0.5251082188238905,0.5241089563087961,0.5241684219954622,0.5254491507723635,0.5241887183113265,0.525492610664789,0.5237092600519923,0.5266499046190639,0.5250206506913699,0.5247494092775561,0.5261391818277962,0.5274510753876382,0.5261751309912962,0.5255990008436494,0.5257884593902691,0.5256006877381935,0.5262932532934754,0.5260511218397136,0.5245447443958035,0.5257635089051818,0.5266175191459199,0.5261792723263979,0.5262574830635114,0.5250355018741789,0.5257349115945142,0.5257773535058713,0.526276941391099,0.5262997137384801,0.5258437661355985,0.5256457144272694,0.5263290075716233,0.5255001740682392,0.5247962186222241,0.526390079944411,0.5256113921769665,0.5242365346953347,0.525061802308446,0.5262137469219794,0.5263154672841945,0.5251975476729526,0.5261809477511523,0.5260891695364938,0.5240117807740937,0.5256477563589356,0.525854953675002,0.5254321029471055,0.5251790227427533,0.5257086439795283,0.5256695365392701,0.525726852810472,0.5256194146762939,0.5256102760886683,0.5250021127082485,0.5261897729249818,0.5264429295071288,0.5259981200782954,0.5262202919585198,0.5264472204195995,0.525867921851675,0.5251549084061269,0.5263153612671829,0.5255111235312196,0.5255361804963772,0.5259096422720255,0.526114054504439,0.5254590779515627,0.526010515618252,0.5263206842725723,0.524597756392929,0.526398168038705,0.5255230774273597,0.5264272016787229,0.5256776585676711,0.5265431821996184,0.5255147105941393,0.5257636843997576,0.5248049196499457,0.5241382270426972,0.5263762089537422,0.5258870736048258,0.525421800421486,0.5261163498093946,0.5260811209550998,0.5259538371854243,0.5260541862272707,0.5242648101749867,0.525992874819642,0.5250634686917737,0.5261657029204316,0.5259459675273533,0.5254415294895204,0.5259579958531827,0.5261566184028754,0.5266996181282997,0.5260753722168526,0.5263613229635786,0.5262562846044304,0.5268853563763307,0.5242219675428597,0.5264725006935419,0.5239134013953436,0.5265878385810857,0.5264456699298894,0.5267446542545242,0.5269652968654389,0.5255806295408221,0.5262561696863216,0.5257333652901284,0.5264349343973502,0.5266554717327258,0.5257944267488485,0.5259774495187954,0.5254243360965768,0.5246517851677084,0.526505389256578,0.5263922436585933,0.5260844472649701,0.5258612998997126,0.5243911729994591,0.5263338059281178,0.5263190569929744,0.5271118882466465,0.5259199275966581,0.5236246580875296,0.5245862232863737,0.5247612457903821,0.5252225071957826,0.5253129185600384,0.5268058523358639,0.5251833863293958,0.5254198522342631,0.5253049424478656,0.5242844447676861,0.5263137610723665,0.5265480044950281,0.5267032840607536,0.5262922485800655,0.5247811660603918,0.5241930940993497,0.5253980813044011,0.5265959289891396,0.5252439175621368,0.5261740844800192,0.5260750956018119,0.5257392110146207,0.5248175021989349,0.525696585403366,0.5260721715132823,0.5254584219987986,0.5258266847827435,0.5258844320178051,0.5264303488890308,0.5246175387103406,0.5244485606974263,0.5264749627509081,0.5257607712338437,0.5264477203831618,0.5264517188208482,0.5246238030550053,0.524513062791089,0.524676759376274,0.524645203705368,0.5256169511742445,0.5248331112469111,0.5261867244542497,0.5263733884007311,0.5241537292727305,0.5265323537442707,0.5257305267624248,0.5258899157216776,0.5264021404695389,0.5271352494225182,0.5267265821470782,0.5244896170710627,0.5261834329288888,0.5249855800866512,0.5259233577636462,0.5266854426470974,0.5250359908804441,0.5266438135532833,0.525253246386333,0.5244693129302014,0.5248570677114262,0.5261688705176755,0.5243466315525904,0.5251340003663006,0.5262174543991652,0.5251836725210717,0.5240848323613602,0.5242495579089699,0.522881129047752,0.5256731063095905,0.5234029794680893,0.5254445345207859,0.5243240640065514,0.5266080783071824,0.5252363543116512,0.5248866146991764,0.5259703294041688,0.5270402629764963,0.5244189834106887,0.5245626119052851,0.524051430841808,0.5242894031847108,0.5239740849526154,0.525818694874073,0.5254923718576551,0.5250734292636982,0.5245028783817024,0.5267271343158035,0.5236903645455392,0.5246491336863346,0.5256828708010626,0.526111323603864,0.5248896909672528,0.5258233770373466,0.5246807525588303,0.5241510062075597,0.5245530039215459,0.5245778260947427,0.5242200961918749,0.5251590176658051,0.5256023175711653,0.5252320904513292,0.5267888094524641,0.5252924095899871,0.523954148839869,0.5263198885021548,0.5249487189002638,0.525031656369944,0.5246071249537807,0.5240294832954083,0.5250760866757579,0.5248081186855518,0.5263351980193525,0.5245368208142833,0.5239714813907608,0.5240267080122,0.5269269264084318,0.5252339368807379,0.525324969323543,0.5263895959519255,0.5230588658286456,0.5254002586002551,0.525474595006724,0.525295663769561,0.5252823731345877,0.525688160941441,0.5257962958804449,0.526336826594983,0.5263121223272064,0.5248174324712769,0.5256015400419216,0.524364586888119,0.5238802789575269,0.5265662943647988,0.5242918352878113,0.5267520905404408,0.5258756839188764,0.526922706731867,0.5254738538413509,0.5260715894912825,0.527440912573245,0.5245908672321284,0.5258631061987789,0.5255419282741391,0.5243948175090452,0.5271102268480812,0.524620890242869,0.5266509975825228,0.5262115051616941,0.5251427475177696,0.5243869562248235,0.5259665245648156,0.5244154953900128,0.5244231352071052,0.5266025062675812,0.5241444787050089,0.5264735673038704,0.526140884150612,0.5252110840525605,0.526819840491748,0.5262631488668379,0.5262021525010693,0.5262220736720966,0.5246590344105355,0.5262961874394503,0.5243505133914209,0.5273496401677487,0.5259768488122654,0.5269638308839398,0.5240589852309095,0.5232199129285816,0.5244583670293517,0.5261940251541821,0.5259878613714827,0.5267272835165693,0.5240833494957781,0.5251189185514317,0.5239901890760308,0.5257687654864142,0.5243433076375925,0.5246986414997798,0.5250698281358093,0.5239482430347212,0.5269074716553239,0.5252978870821061,0.5258225596837436,0.5265075109756824,0.5262637513462034,0.5257703166372668,0.5255139651558886,0.5258912370181887,0.5253652221994963,0.5267347539991386,0.5268121963691805,0.5259138242365634,0.5257914280919629,0.5257950316089427,0.5247796082056255,0.5253098917357848,0.525643121875049,0.5259317088029487,0.5251951793690223,0.5255811694473782,0.5268066421206015,0.5269660795244205,0.5261860048060878,0.5258829736498356,0.5265047802501196,0.5265628445358003,0.526824948063824,0.5258254999726659,0.5268146543725343,0.5264441447839251,0.5246647586860473,0.5267736517248655,0.5259734567510227,0.5264708312493521,0.5267821531143438,0.5264375113677732,0.526225002011292,0.5258102042576563,0.5255054323284011,0.5258704994591011,0.5259871743444993,0.5241601132048836,0.5251951691772464,0.5265687574908612,0.52668826657436,0.5263056014437543,0.5253707412943588,0.525624016557482,0.5253196972885422,0.5259416803269611,0.5262445755178724,0.5248796224937027,0.5269407063394693,0.5259953759104669,0.5266221963008312,0.52671792289951,0.525212211131731,0.5253376880935277,0.5260550960825777,0.5251280582227884,0.5264525261479928,0.5247316082718173,0.5264256860932709,0.5262632228609966,0.5260541055293869,0.5259740823440229,0.5267030320508077,0.5269271984261988,0.5253707687748729,0.5267276927942298,0.5256260743992169,0.5264105321748546,0.5261344963557828,0.5261373606754225,0.525153373420628,0.5248179028068457,0.5257301197475927,0.5252929964413795,0.5267366970502013,0.5264145378605952,0.5265096645726252,0.5249601258576132,0.5270290082383636,0.5256997183998523,0.5265035376895004,0.5253413721705371,0.526067203437057,0.5250394319009339,0.5257382946984793,0.5257056213697,0.5260384393773259,0.5247518486370347,0.5243264119064258,0.5258225380091498,0.5266051595571841,0.5256170353981185,0.5261817432322694,0.5257181873336327,0.5253468970810667,0.5268207907982477,0.5261918070158625,0.5260381355756136,0.5255103171468442,0.5266369172916384,0.5261955662472491,0.5266574221257481,0.5264910293752652,0.5259146240847075,0.525071880312484,0.5246494580003428,0.5272443232535925,0.5245930474991704,0.5257471119929263,0.5241108026481364,0.5255804464610103,0.5249439817735562,0.525227723232618,0.5254188431159604,0.5256675503267071,0.5256306302001849,0.5260585831432008,0.5256021448320941,0.526927652542218,0.5244160352372216,0.5253933978510246,0.5260350977646383,0.525475063172787,0.5260979335948303,0.5250269853478932,0.5246505765348075,0.525455482892414,0.5269667779342148,0.5262563307198552,0.5259235275932951,0.5258405908302439,0.5264021158904688,0.5267950218306675,0.5260355206708272,0.5256083812913352,0.5262803011329581,0.5257826030639091,0.5252582510251536,0.5260645244652454,0.5254032522662909,0.5259980852233792,0.5266280496133351,0.5258130709930839,0.5268359315398183,0.525601312834765,0.5263059139606286,0.526478657688117,0.5256200380274074,0.5253349788348723,0.525309057810404,0.5253727458862552,0.5261953049165429,0.5264819494583678,0.5266525910423593,0.5263344627228161,0.5251054665358941,0.5252955571620433,0.5268746992412662,0.5264478084005574,0.5261488209889035,0.5255421688326934,0.5258000001301002,0.5259410789366157,0.5260566644460231,0.5261974107653812,0.5262614396293344,0.5263759632927046,0.5255681074794053,0.5269442021922458,0.5254790108352434,0.5261388055738718,0.5260594397330957,0.5248608186812459,0.525578383746148,0.5257695176565884,0.5260368915581807,0.5257141657265185,0.5266564741902345,0.5263746420146012,0.5257615855312407,0.5256635964612097,0.5265114553694042,0.526219839340813,0.5265727209322363,0.5264076267420956,0.5274534627962205,0.5257266218755343,0.5256889590412118,0.5256764998401237,0.5256640309293298,0.5262483202608615,0.5255473267257034,0.5257912216617269,0.5253248003647071,0.526330903008415,0.525595020773449,0.5253593104422051,0.5253449250509646,0.5262195878732737,0.5261729742192532,0.5268159012079046,0.5257572266101419,0.5260943820284512,0.5268670194789046,0.5271046441477897,0.5247048134280042,0.5271703600068458,0.5266881532322426,0.5256639939546823,0.5265413689680115,0.525208907127293,0.5267240193692132,0.5263021488145301,0.5271251418381723,0.5257490849856385,0.5269107449850594,0.5255932973641306,0.5264262520473896,0.5255993936786979,0.5261038377647818,0.5260372608467655,0.5256972725819368,0.5258800883501573,0.5265951396576478,0.5258658933422051,0.5250799457340831,0.5258261952483624,0.5258399517098097,0.5257498397715574,0.5254114522106681,0.525946951095045,0.5250152501297811,0.5259307512893989,0.5268274849968545,0.5256575438850773,0.5263806933076304,0.526527345522772,0.5263294286736506,0.5254277608788077,0.5265566405657701,0.5259337735634356,0.5262787970992452,0.5255327633219933,0.5253992813401597,0.5259704353532256,0.524420275644505,0.5268734523796909,0.5265624714598929,0.5264287755676583,0.525019244388309,0.5272407754280509,0.5261674000392295,0.526099082912275,0.526479917987753,0.5266452427131326,0.5270547832782523,0.5277794524260547,0.5280973480216641,0.5266546902960693,0.5276625909589561,0.5272101261777485,0.5268890709376557,0.5275276986120386,0.5279047086871123,0.5280009298750447,0.5286648091953261,0.5279712282141058,0.526743971418012,0.5270380583023043,0.527867484369441,0.5265647321804285,0.5269431203366124,0.5267424458153666,0.5271856998520223,0.5279658909780636,0.5272609958764285,0.5280320092167519,0.527596456514354,0.5260308259392665,0.5266770770683644,0.5273325233365495,0.5277215384097517,0.527099178512283,0.5280279232378997,0.5266447838485468,0.5263830379960517,0.5260381039567583,0.5283710202593674,0.5274488194704137,0.5268162493389933,0.5268761110371597,0.5281973746984117,0.5284331604695724,0.5254111911516917,0.5274678268034211,0.5275675623321855,0.5274660394758655,0.5268871514190635,0.5273625424529891,0.5263871906088226,0.5264850241551594,0.5272434265812127,0.5285952657123901,0.5271874668714112,0.5275297057572721,0.5281648515098388,0.5284142605453168,0.5266557874219424,0.5270144845502635,0.526216534412956,0.5264011898830198,0.526221302073231,0.5280332099673308,0.5282399254868085,0.5274771836005533,0.527493617549152,0.5280839678737065,0.5288988541876657,0.5265942393722085,0.5270545213527853,0.5281369580823253,0.526969660009302,0.5271184059404944,0.5271702304681635,0.5271646003592613,0.5263516890622444,0.5262987778835482,0.5273819421327129,0.5270741420851809,0.5259123604389571,0.5262158060728825,0.5272171559301241,0.5263896476207701,0.5291157475530169,0.5276089983362346,0.5276320823539006,0.5278773144378567,0.5277560415386824,0.5261992629028469,0.5260154953581094,0.5277198019056769,0.5275451384619283,0.5275873902129227,0.5273476874244998,0.5268736792648346,0.5263294498189242,0.5287193773640851,0.5279093732516353,0.5284641816056838,0.528243488110724,0.5276775129574719,0.5267643774513726,0.5275261927385563,0.5277403885109742,0.525742099255687,0.5269388182273277,0.5266404249049018,0.5269814113013955,0.5264304450298336,0.5291915954780093,0.5267519493827261,0.5281533015058489,0.5269345742233663,0.5287219549324266,0.5275922920216131,0.5287753628632674,0.5275985597787165,0.5264628764592952,0.5273961185931327,0.5263967663875442,0.527122547953448,0.5267875706096218,0.5263773345620314,0.5268843568134854,0.5269419250773598,0.5263515870168438,0.5275268732663165,0.5272858011230473,0.5283630263080308,0.5281372498888904,0.5262594465529554,0.5264834606779022,0.5276885315092078,0.528190834730344,0.5264710716697324,0.5270053924798613,0.5277908570459708,0.526781361318468,0.5263573025112515,0.5284212803416105,0.5269228729244606,0.5280129250448118,0.5283332079930767,0.5269051233794826,0.5274587083483788,0.5282313908676604,0.5267452222644661,0.5281403404491972,0.526177704035025,0.5270240417795143,0.5278445362930981,0.527204253157241,0.5273363153847086,0.5281841687665569,0.5258227350643563,0.5266554120535843,0.5270710731089691,0.5280787358490684,0.5273231650085314,0.5274393592965407,0.5259696678370781,0.5277445002702897,0.5277041871863216,0.5277613269374906,0.5277797976045239,0.5274132110910307,0.5282421351132227,0.5265961460396549,0.5266232898701587,0.526869798868171,0.5273682345903946,0.5259100227698389,0.5270089543616514,0.5276522595066118,0.5274746577268977,0.5274575011771125,0.5279198576099771,0.5270983059466133,0.5268143091142705,0.5273986329077205,0.5263896768580925,0.5286135969557991,0.527652113117342,0.5287113454110393,0.5274266825468782,0.5267338653525059,0.5264419106848619,0.528832820469604,0.5274352532149569,0.5275537636985419,0.5269813376131309,0.5273126195240615,0.5287388659420059,0.5280687454785865,0.5278606135901207,0.5268773585423194,0.5286294963795767,0.5266942269795387,0.5258126083209288,0.5264924902888144,0.5270580089572259,0.5281098890002223,0.5276246015303476,0.5271455336505709,0.5266985766526977,0.5269504150605944,0.5277521250790852,0.5281485290275273,0.5261019511010632,0.5284130805176387,0.5265500486207433,0.5263879119399146,0.5272537327620608,0.5287721447537918,0.5271931696986062,0.5267854857093596,0.528060161961294,0.526709406769184,0.5269042653457989,0.5276129031115295,0.5269672020489025,0.5281640305246145,0.5270790834676973,0.5284186515064865,0.5257016036548307,0.5267648468249552,0.5265820430581617,0.5271051203254087,0.5270769267908226,0.527227153189924,0.528222493656223,0.5272967903926404,0.5262901762256452,0.527569451469809,0.5286395590099289,0.5258844687002092,0.5276110747085411,0.5273003588882187,0.5285649493739515,0.5275705899232078,0.5279208606838832,0.5273602887801621,0.5277131229443712,0.5265768157799007,0.5280880208039171,0.5263555086814068,0.5260762805882129,0.5289468895136521,0.5258587595522678,0.5271631285748637,0.5289461215576992,0.5262988762906627,0.5275383266247694,0.5269803543373619,0.5268170301319981,0.5248847056086167,0.5266920530011272,0.525834315276966,0.5274405770657449,0.5259466222794825,0.5259183106470137,0.5263036248483681,0.5270319207098856,0.5255310514909706,0.5279096122777143,0.5264289084255065,0.5262205634767477,0.5278856563430807,0.5257236426084256,0.5275321135029284,0.5258493709040687,0.5263380290731952,0.526667998110905,0.5262902511679236,0.5263438158837305,0.5274445257727304,0.5268732021544681,0.5270840746190336,0.5273974808653048,0.5256761878295146,0.5272803316432885,0.5254057371004123,0.5274727847305065,0.5261160248480264,0.5270526014919594,0.5264020084510989,0.5256901849572216,0.5269332647605784,0.5284817779161965,0.5269456967885204,0.5261348469696536,0.5263868128134683,0.5264657915905956,0.5256459846314949,0.5275657229997419,0.5249509979221064,0.5267056116861779,0.5275091626511819,0.5267668576417627,0.526114957853576,0.5280205026596427,0.5265504477443758,0.5264966385556268,0.5267587758131186,0.527131725344867,0.5265288106056233,0.5261821151574644,0.5264062211737562,0.5276602526258656,0.5270307053535759,0.5270224940403022,0.5272098146171889,0.5254923680406635,0.5265503414116852,0.5273599248158097,0.5273351429686276,0.5262740896266185,0.5263305660905913,0.5263366326342426,0.5271543250640146,0.5279274286039314,0.5267433613308807,0.5263013758326707,0.526577184716661,0.5264065648182389,0.5266254369143664,0.5274326937805436,0.5270466836029665,0.5272139505761674,0.5266025771345797,0.5261585315848838,0.527075248408162,0.5269485780463279,0.5263548271962732,0.5264579712604451,0.5267082947404066,0.5271858216301354,0.526810537042816,0.5268488172173219,0.5263229946119901,0.5274997313445977,0.5266663080157231,0.526006873588581,0.5258913280461939,0.5274598675107822,0.525944096061045,0.5277823216034134,0.5262096991129241,0.527042849801379,0.5262415591744021,0.5261203609117637,0.5270251318360827,0.5275080104617114,0.527314986982858,0.5266633845295561,0.5259395269269996,0.526264532817588,0.5268627467514876,0.5256144260517965,0.5274310888814465,0.5283508159868185,0.5273025705990411,0.5256181458694251,0.5286152159249139,0.5273575670223836,0.5263953221146334,0.5266246019669601,0.5269429844422512,0.5259588707648006,0.5260715096620139,0.5273524310592844,0.5264353875851209,0.5271790349799623,0.5267854712557185,0.526666708205336,0.5266443349783357,0.5279747977565483,0.5275438829761906,0.52573453797589,0.5280920742283872,0.5264956692654201,0.5265407703452756,0.5262572705849239,0.5267513114784864,0.5261133443085895,0.5266181790942046,0.5252879745169446,0.5275304380871111,0.5263879338383158,0.5265060703634481,0.5267654517247828,0.5266686451453273,0.5265925236581324,0.5275356346746906,0.5270202786730184,0.5277504629393768,0.5264560870466861,0.525812488785562,0.5269974058918029,0.5273960110818476,0.5257642131625226,0.5274685860366735,0.5267066145265762,0.5275290703948099,0.5271055562938693,0.5265873242236031,0.5269099285746637,0.5274500576788155,0.5271271959113297,0.5256073240631391,0.5257828481326025,0.5272661890269705,0.527327622619329,0.5272028117415688,0.5273059853360924,0.5272365961317064,0.525538509693682,0.5267858622938104,0.5263292104521571,0.5262975207217864,0.5264412711895258,0.5263828369037368,0.5270643063351259,0.526991095335517,0.5267131139241061,0.5259092142686779,0.5281290533766135,0.5261542150783763,0.5255937383894677,0.5267964728681094,0.5273731242826494,0.5261713881157901,0.5260972702490674,0.5273765807231185,0.5271671380628398,0.5266479786302835,0.5267955713611377,0.5263043827183665,0.527367580087541,0.5262452819282986,0.5264873733393154,0.526684803866928,0.5270930498855155,0.5295263285870248,0.5273286504321082,0.52714097134327,0.5257939108144073,0.5268791663133877,0.5257799874149819,0.5271906347969662,0.5279633079153894,0.5270421009725728,0.5255249708541062,0.5253187516649732,0.5261276600219248,0.5271581023739215,0.5282830210298008,0.5266963826454502,0.5264089195918974,0.5260826039297735,0.5257772090397269,0.5264887715927358,0.5261994204165459,0.5255829240561434,0.5265656658619245,0.5257623449324217,0.5258582439566147,0.527768659017184,0.5262742952514086,0.5272617098988962,0.5258427336358574,0.5270901985796828,0.5269911888835234,0.5254866531405062,0.5262805763598889,0.5268768566746094,0.5271663421421774,0.5272923822996357,0.526998780163059,0.5276402169294031,0.5260217366745508,0.5268658183760117,0.527647161285718,0.5263093409753554,0.5268893102924103,0.5266323973066872,0.5264075683658611,0.5270730036448729,0.5276271832364426,0.5279489892261475,0.5255845919357843,0.5259585708169809,0.5279734300781384,0.527038387475535,0.5262274689717945,0.5272120931863236,0.5265396047726612,0.5280311544963223,0.5272254156637298,0.526262682864235,0.5264107823201601,0.5281280956328961,0.5265794347105247,0.527703086677125],\"type\":\"scatter\",\"xaxis\":\"x\",\"yaxis\":\"y2\"}],                        {\"template\":{\"data\":{\"histogram2dcontour\":[{\"type\":\"histogram2dcontour\",\"colorbar\":{\"outlinewidth\":0,\"ticks\":\"\"},\"colorscale\":[[0.0,\"#0d0887\"],[0.1111111111111111,\"#46039f\"],[0.2222222222222222,\"#7201a8\"],[0.3333333333333333,\"#9c179e\"],[0.4444444444444444,\"#bd3786\"],[0.5555555555555556,\"#d8576b\"],[0.6666666666666666,\"#ed7953\"],[0.7777777777777778,\"#fb9f3a\"],[0.8888888888888888,\"#fdca26\"],[1.0,\"#f0f921\"]]}],\"choropleth\":[{\"type\":\"choropleth\",\"colorbar\":{\"outlinewidth\":0,\"ticks\":\"\"}}],\"histogram2d\":[{\"type\":\"histogram2d\",\"colorbar\":{\"outlinewidth\":0,\"ticks\":\"\"},\"colorscale\":[[0.0,\"#0d0887\"],[0.1111111111111111,\"#46039f\"],[0.2222222222222222,\"#7201a8\"],[0.3333333333333333,\"#9c179e\"],[0.4444444444444444,\"#bd3786\"],[0.5555555555555556,\"#d8576b\"],[0.6666666666666666,\"#ed7953\"],[0.7777777777777778,\"#fb9f3a\"],[0.8888888888888888,\"#fdca26\"],[1.0,\"#f0f921\"]]}],\"heatmap\":[{\"type\":\"heatmap\",\"colorbar\":{\"outlinewidth\":0,\"ticks\":\"\"},\"colorscale\":[[0.0,\"#0d0887\"],[0.1111111111111111,\"#46039f\"],[0.2222222222222222,\"#7201a8\"],[0.3333333333333333,\"#9c179e\"],[0.4444444444444444,\"#bd3786\"],[0.5555555555555556,\"#d8576b\"],[0.6666666666666666,\"#ed7953\"],[0.7777777777777778,\"#fb9f3a\"],[0.8888888888888888,\"#fdca26\"],[1.0,\"#f0f921\"]]}],\"heatmapgl\":[{\"type\":\"heatmapgl\",\"colorbar\":{\"outlinewidth\":0,\"ticks\":\"\"},\"colorscale\":[[0.0,\"#0d0887\"],[0.1111111111111111,\"#46039f\"],[0.2222222222222222,\"#7201a8\"],[0.3333333333333333,\"#9c179e\"],[0.4444444444444444,\"#bd3786\"],[0.5555555555555556,\"#d8576b\"],[0.6666666666666666,\"#ed7953\"],[0.7777777777777778,\"#fb9f3a\"],[0.8888888888888888,\"#fdca26\"],[1.0,\"#f0f921\"]]}],\"contourcarpet\":[{\"type\":\"contourcarpet\",\"colorbar\":{\"outlinewidth\":0,\"ticks\":\"\"}}],\"contour\":[{\"type\":\"contour\",\"colorbar\":{\"outlinewidth\":0,\"ticks\":\"\"},\"colorscale\":[[0.0,\"#0d0887\"],[0.1111111111111111,\"#46039f\"],[0.2222222222222222,\"#7201a8\"],[0.3333333333333333,\"#9c179e\"],[0.4444444444444444,\"#bd3786\"],[0.5555555555555556,\"#d8576b\"],[0.6666666666666666,\"#ed7953\"],[0.7777777777777778,\"#fb9f3a\"],[0.8888888888888888,\"#fdca26\"],[1.0,\"#f0f921\"]]}],\"surface\":[{\"type\":\"surface\",\"colorbar\":{\"outlinewidth\":0,\"ticks\":\"\"},\"colorscale\":[[0.0,\"#0d0887\"],[0.1111111111111111,\"#46039f\"],[0.2222222222222222,\"#7201a8\"],[0.3333333333333333,\"#9c179e\"],[0.4444444444444444,\"#bd3786\"],[0.5555555555555556,\"#d8576b\"],[0.6666666666666666,\"#ed7953\"],[0.7777777777777778,\"#fb9f3a\"],[0.8888888888888888,\"#fdca26\"],[1.0,\"#f0f921\"]]}],\"mesh3d\":[{\"type\":\"mesh3d\",\"colorbar\":{\"outlinewidth\":0,\"ticks\":\"\"}}],\"scatter\":[{\"fillpattern\":{\"fillmode\":\"overlay\",\"size\":10,\"solidity\":0.2},\"type\":\"scatter\"}],\"parcoords\":[{\"type\":\"parcoords\",\"line\":{\"colorbar\":{\"outlinewidth\":0,\"ticks\":\"\"}}}],\"scatterpolargl\":[{\"type\":\"scatterpolargl\",\"marker\":{\"colorbar\":{\"outlinewidth\":0,\"ticks\":\"\"}}}],\"bar\":[{\"error_x\":{\"color\":\"#2a3f5f\"},\"error_y\":{\"color\":\"#2a3f5f\"},\"marker\":{\"line\":{\"color\":\"#E5ECF6\",\"width\":0.5},\"pattern\":{\"fillmode\":\"overlay\",\"size\":10,\"solidity\":0.2}},\"type\":\"bar\"}],\"scattergeo\":[{\"type\":\"scattergeo\",\"marker\":{\"colorbar\":{\"outlinewidth\":0,\"ticks\":\"\"}}}],\"scatterpolar\":[{\"type\":\"scatterpolar\",\"marker\":{\"colorbar\":{\"outlinewidth\":0,\"ticks\":\"\"}}}],\"histogram\":[{\"marker\":{\"pattern\":{\"fillmode\":\"overlay\",\"size\":10,\"solidity\":0.2}},\"type\":\"histogram\"}],\"scattergl\":[{\"type\":\"scattergl\",\"marker\":{\"colorbar\":{\"outlinewidth\":0,\"ticks\":\"\"}}}],\"scatter3d\":[{\"type\":\"scatter3d\",\"line\":{\"colorbar\":{\"outlinewidth\":0,\"ticks\":\"\"}},\"marker\":{\"colorbar\":{\"outlinewidth\":0,\"ticks\":\"\"}}}],\"scattermapbox\":[{\"type\":\"scattermapbox\",\"marker\":{\"colorbar\":{\"outlinewidth\":0,\"ticks\":\"\"}}}],\"scatterternary\":[{\"type\":\"scatterternary\",\"marker\":{\"colorbar\":{\"outlinewidth\":0,\"ticks\":\"\"}}}],\"scattercarpet\":[{\"type\":\"scattercarpet\",\"marker\":{\"colorbar\":{\"outlinewidth\":0,\"ticks\":\"\"}}}],\"carpet\":[{\"aaxis\":{\"endlinecolor\":\"#2a3f5f\",\"gridcolor\":\"white\",\"linecolor\":\"white\",\"minorgridcolor\":\"white\",\"startlinecolor\":\"#2a3f5f\"},\"baxis\":{\"endlinecolor\":\"#2a3f5f\",\"gridcolor\":\"white\",\"linecolor\":\"white\",\"minorgridcolor\":\"white\",\"startlinecolor\":\"#2a3f5f\"},\"type\":\"carpet\"}],\"table\":[{\"cells\":{\"fill\":{\"color\":\"#EBF0F8\"},\"line\":{\"color\":\"white\"}},\"header\":{\"fill\":{\"color\":\"#C8D4E3\"},\"line\":{\"color\":\"white\"}},\"type\":\"table\"}],\"barpolar\":[{\"marker\":{\"line\":{\"color\":\"#E5ECF6\",\"width\":0.5},\"pattern\":{\"fillmode\":\"overlay\",\"size\":10,\"solidity\":0.2}},\"type\":\"barpolar\"}],\"pie\":[{\"automargin\":true,\"type\":\"pie\"}]},\"layout\":{\"autotypenumbers\":\"strict\",\"colorway\":[\"#636efa\",\"#EF553B\",\"#00cc96\",\"#ab63fa\",\"#FFA15A\",\"#19d3f3\",\"#FF6692\",\"#B6E880\",\"#FF97FF\",\"#FECB52\"],\"font\":{\"color\":\"#2a3f5f\"},\"hovermode\":\"closest\",\"hoverlabel\":{\"align\":\"left\"},\"paper_bgcolor\":\"white\",\"plot_bgcolor\":\"#E5ECF6\",\"polar\":{\"bgcolor\":\"#E5ECF6\",\"angularaxis\":{\"gridcolor\":\"white\",\"linecolor\":\"white\",\"ticks\":\"\"},\"radialaxis\":{\"gridcolor\":\"white\",\"linecolor\":\"white\",\"ticks\":\"\"}},\"ternary\":{\"bgcolor\":\"#E5ECF6\",\"aaxis\":{\"gridcolor\":\"white\",\"linecolor\":\"white\",\"ticks\":\"\"},\"baxis\":{\"gridcolor\":\"white\",\"linecolor\":\"white\",\"ticks\":\"\"},\"caxis\":{\"gridcolor\":\"white\",\"linecolor\":\"white\",\"ticks\":\"\"}},\"coloraxis\":{\"colorbar\":{\"outlinewidth\":0,\"ticks\":\"\"}},\"colorscale\":{\"sequential\":[[0.0,\"#0d0887\"],[0.1111111111111111,\"#46039f\"],[0.2222222222222222,\"#7201a8\"],[0.3333333333333333,\"#9c179e\"],[0.4444444444444444,\"#bd3786\"],[0.5555555555555556,\"#d8576b\"],[0.6666666666666666,\"#ed7953\"],[0.7777777777777778,\"#fb9f3a\"],[0.8888888888888888,\"#fdca26\"],[1.0,\"#f0f921\"]],\"sequentialminus\":[[0.0,\"#0d0887\"],[0.1111111111111111,\"#46039f\"],[0.2222222222222222,\"#7201a8\"],[0.3333333333333333,\"#9c179e\"],[0.4444444444444444,\"#bd3786\"],[0.5555555555555556,\"#d8576b\"],[0.6666666666666666,\"#ed7953\"],[0.7777777777777778,\"#fb9f3a\"],[0.8888888888888888,\"#fdca26\"],[1.0,\"#f0f921\"]],\"diverging\":[[0,\"#8e0152\"],[0.1,\"#c51b7d\"],[0.2,\"#de77ae\"],[0.3,\"#f1b6da\"],[0.4,\"#fde0ef\"],[0.5,\"#f7f7f7\"],[0.6,\"#e6f5d0\"],[0.7,\"#b8e186\"],[0.8,\"#7fbc41\"],[0.9,\"#4d9221\"],[1,\"#276419\"]]},\"xaxis\":{\"gridcolor\":\"white\",\"linecolor\":\"white\",\"ticks\":\"\",\"title\":{\"standoff\":15},\"zerolinecolor\":\"white\",\"automargin\":true,\"zerolinewidth\":2},\"yaxis\":{\"gridcolor\":\"white\",\"linecolor\":\"white\",\"ticks\":\"\",\"title\":{\"standoff\":15},\"zerolinecolor\":\"white\",\"automargin\":true,\"zerolinewidth\":2},\"scene\":{\"xaxis\":{\"backgroundcolor\":\"#E5ECF6\",\"gridcolor\":\"white\",\"linecolor\":\"white\",\"showbackground\":true,\"ticks\":\"\",\"zerolinecolor\":\"white\",\"gridwidth\":2},\"yaxis\":{\"backgroundcolor\":\"#E5ECF6\",\"gridcolor\":\"white\",\"linecolor\":\"white\",\"showbackground\":true,\"ticks\":\"\",\"zerolinecolor\":\"white\",\"gridwidth\":2},\"zaxis\":{\"backgroundcolor\":\"#E5ECF6\",\"gridcolor\":\"white\",\"linecolor\":\"white\",\"showbackground\":true,\"ticks\":\"\",\"zerolinecolor\":\"white\",\"gridwidth\":2}},\"shapedefaults\":{\"line\":{\"color\":\"#2a3f5f\"}},\"annotationdefaults\":{\"arrowcolor\":\"#2a3f5f\",\"arrowhead\":0,\"arrowwidth\":1},\"geo\":{\"bgcolor\":\"white\",\"landcolor\":\"#E5ECF6\",\"subunitcolor\":\"white\",\"showland\":true,\"showlakes\":true,\"lakecolor\":\"white\"},\"title\":{\"x\":0.05},\"mapbox\":{\"style\":\"light\"}}},\"xaxis\":{\"anchor\":\"y\",\"domain\":[0.0,0.94],\"title\":{\"text\":\"Couple of sentences\"}},\"yaxis\":{\"anchor\":\"x\",\"domain\":[0.0,1.0]},\"yaxis2\":{\"anchor\":\"x\",\"overlaying\":\"y\",\"side\":\"right\",\"title\":{\"text\":\"Prediction\"}},\"title\":{\"text\":\"Results\"}},                        {\"responsive\": true}                    ).then(function(){\n",
              "                            \n",
              "var gd = document.getElementById('d90e722c-6815-4c59-9bf4-d6d813f287ea');\n",
              "var x = new MutationObserver(function (mutations, observer) {{\n",
              "        var display = window.getComputedStyle(gd).display;\n",
              "        if (!display || display === 'none') {{\n",
              "            console.log([gd, 'removed!']);\n",
              "            Plotly.purge(gd);\n",
              "            observer.disconnect();\n",
              "        }}\n",
              "}});\n",
              "\n",
              "// Listen for the removal of the full notebook cells\n",
              "var notebookContainer = gd.closest('#notebook-container');\n",
              "if (notebookContainer) {{\n",
              "    x.observe(notebookContainer, {childList: true});\n",
              "}}\n",
              "\n",
              "// Listen for the clearing of the current output cell\n",
              "var outputEl = gd.closest('.output');\n",
              "if (outputEl) {{\n",
              "    x.observe(outputEl, {childList: true});\n",
              "}}\n",
              "\n",
              "                        })                };                            </script>        </div>\n",
              "</body>\n",
              "</html>"
            ]
          },
          "metadata": {}
        }
      ]
    },
    {
      "cell_type": "code",
      "source": [
        "from sklearn.svm import SVR\n",
        "'''model = SVR()\n",
        "parameters = {'C': [10],\n",
        "             'epsilon': [0.1, 0.01],\n",
        "             'gamma':['auto'],\n",
        "             'kernel': ['linear', 'poly','rbf'],\n",
        "             'degree': [2,3,5]\n",
        "             }\n",
        "\n",
        "#DEFINE YOUR GRIDSEARCH \n",
        "from sklearn.model_selection import GridSearchCV\n",
        "gs = GridSearchCV(model, parameters, cv=3, verbose = 0)\n",
        "gs_dev = GridSearchCV(model, parameters, cv=3, verbose = 0)\n",
        "\n",
        "gs = gs.fit(X_train,y_train)\n",
        "gs_dev = gs_dev.fit(x_dev,y_dev)'''"
      ],
      "metadata": {
        "id": "KtjEHzTudwrt",
        "colab": {
          "base_uri": "https://localhost:8080/",
          "height": 70
        },
        "outputId": "1deb510f-ceac-4251-8692-0125d9433e24"
      },
      "execution_count": 36,
      "outputs": [
        {
          "output_type": "execute_result",
          "data": {
            "text/plain": [
              "\"model = SVR()\\nparameters = {'C': [10],\\n             'epsilon': [0.1, 0.01],\\n             'gamma':['auto'],\\n             'kernel': ['linear', 'poly','rbf'],\\n             'degree': [2,3,5]\\n             }\\n\\n#DEFINE YOUR GRIDSEARCH \\nfrom sklearn.model_selection import GridSearchCV\\ngs = GridSearchCV(model, parameters, cv=3, verbose = 0)\\ngs_dev = GridSearchCV(model, parameters, cv=3, verbose = 0)\\n\\ngs = gs.fit(X_train,y_train)\\ngs_dev = gs_dev.fit(x_dev,y_dev)\""
            ],
            "application/vnd.google.colaboratory.intrinsic+json": {
              "type": "string"
            }
          },
          "metadata": {},
          "execution_count": 36
        }
      ]
    },
    {
      "cell_type": "code",
      "source": [
        "'''print('**GRIDSEARCH RESULTS**')\n",
        "print(\"Best score: %f using %s\" % (gs.best_score_, gs.best_params_))\n",
        "means = gs.cv_results_['mean_test_score']\n",
        "stds = gs.cv_results_['std_test_score']\n",
        "params = gs.cv_results_['params']\n",
        "for mean, stdev, param in zip(means, stds, params):\n",
        "    print(\"%f (%f) with: %r\" % (mean, stdev, param))\n",
        "\n",
        "print(\"Best score: %f using %s\" % (gs_dev.best_score_, gs_dev.best_params_))\n",
        "means = gs_dev.cv_results_['mean_test_score']\n",
        "stds = gs_dev.cv_results_['std_test_score']\n",
        "params = gs_dev.cv_results_['params']\n",
        "for mean, stdev, param in zip(means, stds, params):\n",
        "    print(\"%f (%f) with: %r\" % (mean, stdev, param))\n",
        "\n",
        "#Returns the coefficient of determination R^2 of the prediction.\n",
        "#Explained variance score: 1 is perfect prediction'''\n"
      ],
      "metadata": {
        "colab": {
          "base_uri": "https://localhost:8080/",
          "height": 105
        },
        "id": "UBvuBfumGAOT",
        "outputId": "5ff809c8-3713-4730-98ab-530eb17d7a05"
      },
      "execution_count": 37,
      "outputs": [
        {
          "output_type": "execute_result",
          "data": {
            "text/plain": [
              "'print(\\'**GRIDSEARCH RESULTS**\\')\\nprint(\"Best score: %f using %s\" % (gs.best_score_, gs.best_params_))\\nmeans = gs.cv_results_[\\'mean_test_score\\']\\nstds = gs.cv_results_[\\'std_test_score\\']\\nparams = gs.cv_results_[\\'params\\']\\nfor mean, stdev, param in zip(means, stds, params):\\n    print(\"%f (%f) with: %r\" % (mean, stdev, param))\\n\\nprint(\"Best score: %f using %s\" % (gs_dev.best_score_, gs_dev.best_params_))\\nmeans = gs_dev.cv_results_[\\'mean_test_score\\']\\nstds = gs_dev.cv_results_[\\'std_test_score\\']\\nparams = gs_dev.cv_results_[\\'params\\']\\nfor mean, stdev, param in zip(means, stds, params):\\n    print(\"%f (%f) with: %r\" % (mean, stdev, param))\\n\\n#Returns the coefficient of determination R^2 of the prediction.\\n#Explained variance score: 1 is perfect prediction'"
            ],
            "application/vnd.google.colaboratory.intrinsic+json": {
              "type": "string"
            }
          },
          "metadata": {},
          "execution_count": 37
        }
      ]
    },
    {
      "cell_type": "code",
      "source": [
        "model = SVR(C= 10, degree= 2, epsilon= 0.1, gamma= 'auto', kernel= 'linear')\n",
        "model.fit(X_train, y_train)"
      ],
      "metadata": {
        "colab": {
          "base_uri": "https://localhost:8080/",
          "height": 75
        },
        "id": "hqDVTMI4HjDQ",
        "outputId": "c0082fe7-ce6e-4b8d-fea4-3c98008f68ad"
      },
      "execution_count": 38,
      "outputs": [
        {
          "output_type": "execute_result",
          "data": {
            "text/plain": [
              "SVR(C=10, degree=2, gamma='auto', kernel='linear')"
            ],
            "text/html": [
              "<style>#sk-container-id-3 {color: black;background-color: white;}#sk-container-id-3 pre{padding: 0;}#sk-container-id-3 div.sk-toggleable {background-color: white;}#sk-container-id-3 label.sk-toggleable__label {cursor: pointer;display: block;width: 100%;margin-bottom: 0;padding: 0.3em;box-sizing: border-box;text-align: center;}#sk-container-id-3 label.sk-toggleable__label-arrow:before {content: \"▸\";float: left;margin-right: 0.25em;color: #696969;}#sk-container-id-3 label.sk-toggleable__label-arrow:hover:before {color: black;}#sk-container-id-3 div.sk-estimator:hover label.sk-toggleable__label-arrow:before {color: black;}#sk-container-id-3 div.sk-toggleable__content {max-height: 0;max-width: 0;overflow: hidden;text-align: left;background-color: #f0f8ff;}#sk-container-id-3 div.sk-toggleable__content pre {margin: 0.2em;color: black;border-radius: 0.25em;background-color: #f0f8ff;}#sk-container-id-3 input.sk-toggleable__control:checked~div.sk-toggleable__content {max-height: 200px;max-width: 100%;overflow: auto;}#sk-container-id-3 input.sk-toggleable__control:checked~label.sk-toggleable__label-arrow:before {content: \"▾\";}#sk-container-id-3 div.sk-estimator input.sk-toggleable__control:checked~label.sk-toggleable__label {background-color: #d4ebff;}#sk-container-id-3 div.sk-label input.sk-toggleable__control:checked~label.sk-toggleable__label {background-color: #d4ebff;}#sk-container-id-3 input.sk-hidden--visually {border: 0;clip: rect(1px 1px 1px 1px);clip: rect(1px, 1px, 1px, 1px);height: 1px;margin: -1px;overflow: hidden;padding: 0;position: absolute;width: 1px;}#sk-container-id-3 div.sk-estimator {font-family: monospace;background-color: #f0f8ff;border: 1px dotted black;border-radius: 0.25em;box-sizing: border-box;margin-bottom: 0.5em;}#sk-container-id-3 div.sk-estimator:hover {background-color: #d4ebff;}#sk-container-id-3 div.sk-parallel-item::after {content: \"\";width: 100%;border-bottom: 1px solid gray;flex-grow: 1;}#sk-container-id-3 div.sk-label:hover label.sk-toggleable__label {background-color: #d4ebff;}#sk-container-id-3 div.sk-serial::before {content: \"\";position: absolute;border-left: 1px solid gray;box-sizing: border-box;top: 0;bottom: 0;left: 50%;z-index: 0;}#sk-container-id-3 div.sk-serial {display: flex;flex-direction: column;align-items: center;background-color: white;padding-right: 0.2em;padding-left: 0.2em;position: relative;}#sk-container-id-3 div.sk-item {position: relative;z-index: 1;}#sk-container-id-3 div.sk-parallel {display: flex;align-items: stretch;justify-content: center;background-color: white;position: relative;}#sk-container-id-3 div.sk-item::before, #sk-container-id-3 div.sk-parallel-item::before {content: \"\";position: absolute;border-left: 1px solid gray;box-sizing: border-box;top: 0;bottom: 0;left: 50%;z-index: -1;}#sk-container-id-3 div.sk-parallel-item {display: flex;flex-direction: column;z-index: 1;position: relative;background-color: white;}#sk-container-id-3 div.sk-parallel-item:first-child::after {align-self: flex-end;width: 50%;}#sk-container-id-3 div.sk-parallel-item:last-child::after {align-self: flex-start;width: 50%;}#sk-container-id-3 div.sk-parallel-item:only-child::after {width: 0;}#sk-container-id-3 div.sk-dashed-wrapped {border: 1px dashed gray;margin: 0 0.4em 0.5em 0.4em;box-sizing: border-box;padding-bottom: 0.4em;background-color: white;}#sk-container-id-3 div.sk-label label {font-family: monospace;font-weight: bold;display: inline-block;line-height: 1.2em;}#sk-container-id-3 div.sk-label-container {text-align: center;}#sk-container-id-3 div.sk-container {/* jupyter's `normalize.less` sets `[hidden] { display: none; }` but bootstrap.min.css set `[hidden] { display: none !important; }` so we also need the `!important` here to be able to override the default hidden behavior on the sphinx rendered scikit-learn.org. See: https://github.com/scikit-learn/scikit-learn/issues/21755 */display: inline-block !important;position: relative;}#sk-container-id-3 div.sk-text-repr-fallback {display: none;}</style><div id=\"sk-container-id-3\" class=\"sk-top-container\"><div class=\"sk-text-repr-fallback\"><pre>SVR(C=10, degree=2, gamma=&#x27;auto&#x27;, kernel=&#x27;linear&#x27;)</pre><b>In a Jupyter environment, please rerun this cell to show the HTML representation or trust the notebook. <br />On GitHub, the HTML representation is unable to render, please try loading this page with nbviewer.org.</b></div><div class=\"sk-container\" hidden><div class=\"sk-item\"><div class=\"sk-estimator sk-toggleable\"><input class=\"sk-toggleable__control sk-hidden--visually\" id=\"sk-estimator-id-3\" type=\"checkbox\" checked><label for=\"sk-estimator-id-3\" class=\"sk-toggleable__label sk-toggleable__label-arrow\">SVR</label><div class=\"sk-toggleable__content\"><pre>SVR(C=10, degree=2, gamma=&#x27;auto&#x27;, kernel=&#x27;linear&#x27;)</pre></div></div></div></div></div>"
            ]
          },
          "metadata": {},
          "execution_count": 38
        }
      ]
    },
    {
      "cell_type": "code",
      "source": [
        "y_pred = model.predict(x_test)"
      ],
      "metadata": {
        "id": "x09iIgSFKHx9"
      },
      "execution_count": 39,
      "outputs": []
    },
    {
      "cell_type": "code",
      "source": [
        "#print(\"MAE train: \", metrics.mean_absolute_error(y_train, model.predict(X_train))) \n",
        "print(\"MSE train: \",metrics.mean_squared_error(y_train, model.predict(X_train)))\n",
        "print(\"RMSE train: \",np.sqrt(metrics.mean_squared_error(y_train, model.predict(X_train))))\n",
        "print(\"r2: \",metrics.r2_score(y_train, model.predict(X_train)))\n",
        "\n",
        "#print(\"MAE test: \", metrics.mean_absolute_error(y_test, model.predict(x_test))) \n",
        "print(\"MSE test: \",metrics.mean_squared_error(y_test, model.predict(x_test)))\n",
        "print(\"RMSE test: \",np.sqrt(metrics.mean_squared_error(y_test, model.predict(x_test))))\n",
        "print(\"r2: \", metrics.r2_score(y_test, model.predict(x_test)))"
      ],
      "metadata": {
        "colab": {
          "base_uri": "https://localhost:8080/"
        },
        "id": "BzhOZ0lbGR99",
        "outputId": "93b1a441-826e-4dfb-933c-ac66e0d10a86"
      },
      "execution_count": 40,
      "outputs": [
        {
          "output_type": "stream",
          "name": "stdout",
          "text": [
            "MSE train:  0.06323678215248127\n",
            "RMSE train:  0.25146924693186895\n",
            "r2:  0.2763488791697396\n",
            "MSE test:  0.11321789129623762\n",
            "RMSE test:  0.3364786639539536\n",
            "r2:  -0.21712676296552247\n"
          ]
        }
      ]
    },
    {
      "cell_type": "code",
      "source": [
        "import plotly.graph_objects as go\n",
        "from plotly.subplots import make_subplots\n",
        "\n",
        "fig = make_subplots(specs=[[{\"secondary_y\": True}]])\n",
        "x_ax=np.array(range(0,len(y_test)))\n",
        "fig.add_trace(\n",
        "    go.Scatter(x=x_ax, y=y_test, name=\"True\"),\n",
        "    secondary_y=True,)\n",
        "fig.add_trace(\n",
        "    go.Scatter(x=x_ax, y=y_pred, name=\"Predicition\"),\n",
        "    secondary_y=True,)\n",
        "fig.update_layout(\n",
        "    title_text=\"Results\")\n",
        "fig.update_xaxes(title_text=\"Couple of sentences\")\n",
        "fig.update_yaxes(title_text=\"True\", secondary_y=True)\n",
        "fig.update_yaxes(title_text=\"Prediction\", secondary_y=True)\n",
        "\n",
        "fig.show()"
      ],
      "metadata": {
        "colab": {
          "base_uri": "https://localhost:8080/",
          "height": 542
        },
        "id": "4DgPlOG36q3c",
        "outputId": "33eca2df-a750-4700-af7d-4fb61898aeb0"
      },
      "execution_count": 41,
      "outputs": [
        {
          "output_type": "display_data",
          "data": {
            "text/html": [
              "<html>\n",
              "<head><meta charset=\"utf-8\" /></head>\n",
              "<body>\n",
              "    <div>            <script src=\"https://cdnjs.cloudflare.com/ajax/libs/mathjax/2.7.5/MathJax.js?config=TeX-AMS-MML_SVG\"></script><script type=\"text/javascript\">if (window.MathJax && window.MathJax.Hub && window.MathJax.Hub.Config) {window.MathJax.Hub.Config({SVG: {font: \"STIX-Web\"}});}</script>                <script type=\"text/javascript\">window.PlotlyConfig = {MathJaxConfig: 'local'};</script>\n",
              "        <script src=\"https://cdn.plot.ly/plotly-2.18.2.min.js\"></script>                <div id=\"ec8c017c-57bd-46f6-a31c-5f85058e63f4\" class=\"plotly-graph-div\" style=\"height:525px; width:100%;\"></div>            <script type=\"text/javascript\">                                    window.PLOTLYENV=window.PLOTLYENV || {};                                    if (document.getElementById(\"ec8c017c-57bd-46f6-a31c-5f85058e63f4\")) {                    Plotly.newPlot(                        \"ec8c017c-57bd-46f6-a31c-5f85058e63f4\",                        [{\"name\":\"True\",\"x\":[0,1,2,3,4,5,6,7,8,9,10,11,12,13,14,15,16,17,18,19,20,21,22,23,24,25,26,27,28,29,30,31,32,33,34,35,36,37,38,39,40,41,42,43,44,45,46,47,48,49,50,51,52,53,54,55,56,57,58,59,60,61,62,63,64,65,66,67,68,69,70,71,72,73,74,75,76,77,78,79,80,81,82,83,84,85,86,87,88,89,90,91,92,93,94,95,96,97,98,99,100,101,102,103,104,105,106,107,108,109,110,111,112,113,114,115,116,117,118,119,120,121,122,123,124,125,126,127,128,129,130,131,132,133,134,135,136,137,138,139,140,141,142,143,144,145,146,147,148,149,150,151,152,153,154,155,156,157,158,159,160,161,162,163,164,165,166,167,168,169,170,171,172,173,174,175,176,177,178,179,180,181,182,183,184,185,186,187,188,189,190,191,192,193,194,195,196,197,198,199,200,201,202,203,204,205,206,207,208,209,210,211,212,213,214,215,216,217,218,219,220,221,222,223,224,225,226,227,228,229,230,231,232,233,234,235,236,237,238,239,240,241,242,243,244,245,246,247,248,249,250,251,252,253,254,255,256,257,258,259,260,261,262,263,264,265,266,267,268,269,270,271,272,273,274,275,276,277,278,279,280,281,282,283,284,285,286,287,288,289,290,291,292,293,294,295,296,297,298,299,300,301,302,303,304,305,306,307,308,309,310,311,312,313,314,315,316,317,318,319,320,321,322,323,324,325,326,327,328,329,330,331,332,333,334,335,336,337,338,339,340,341,342,343,344,345,346,347,348,349,350,351,352,353,354,355,356,357,358,359,360,361,362,363,364,365,366,367,368,369,370,371,372,373,374,375,376,377,378,379,380,381,382,383,384,385,386,387,388,389,390,391,392,393,394,395,396,397,398,399,400,401,402,403,404,405,406,407,408,409,410,411,412,413,414,415,416,417,418,419,420,421,422,423,424,425,426,427,428,429,430,431,432,433,434,435,436,437,438,439,440,441,442,443,444,445,446,447,448,449,450,451,452,453,454,455,456,457,458,459,460,461,462,463,464,465,466,467,468,469,470,471,472,473,474,475,476,477,478,479,480,481,482,483,484,485,486,487,488,489,490,491,492,493,494,495,496,497,498,499,500,501,502,503,504,505,506,507,508,509,510,511,512,513,514,515,516,517,518,519,520,521,522,523,524,525,526,527,528,529,530,531,532,533,534,535,536,537,538,539,540,541,542,543,544,545,546,547,548,549,550,551,552,553,554,555,556,557,558,559,560,561,562,563,564,565,566,567,568,569,570,571,572,573,574,575,576,577,578,579,580,581,582,583,584,585,586,587,588,589,590,591,592,593,594,595,596,597,598,599,600,601,602,603,604,605,606,607,608,609,610,611,612,613,614,615,616,617,618,619,620,621,622,623,624,625,626,627,628,629,630,631,632,633,634,635,636,637,638,639,640,641,642,643,644,645,646,647,648,649,650,651,652,653,654,655,656,657,658,659,660,661,662,663,664,665,666,667,668,669,670,671,672,673,674,675,676,677,678,679,680,681,682,683,684,685,686,687,688,689,690,691,692,693,694,695,696,697,698,699,700,701,702,703,704,705,706,707,708,709,710,711,712,713,714,715,716,717,718,719,720,721,722,723,724,725,726,727,728,729,730,731,732,733,734,735,736,737,738,739,740,741,742,743,744,745,746,747,748,749,750,751,752,753,754,755,756,757,758,759,760,761,762,763,764,765,766,767,768,769,770,771,772,773,774,775,776,777,778,779,780,781,782,783,784,785,786,787,788,789,790,791,792,793,794,795,796,797,798,799,800,801,802,803,804,805,806,807,808,809,810,811,812,813,814,815,816,817,818,819,820,821,822,823,824,825,826,827,828,829,830,831,832,833,834,835,836,837,838,839,840,841,842,843,844,845,846,847,848,849,850,851,852,853,854,855,856,857,858,859,860,861,862,863,864,865,866,867,868,869,870,871,872,873,874,875,876,877,878,879,880,881,882,883,884,885,886,887,888,889,890,891,892,893,894,895,896,897,898,899,900,901,902,903,904,905,906,907,908,909,910,911,912,913,914,915,916,917,918,919,920,921,922,923,924,925,926,927,928,929,930,931,932,933,934,935,936,937,938,939,940,941,942,943,944,945,946,947,948,949,950,951,952,953,954,955,956,957,958,959,960,961,962,963,964,965,966,967,968,969,970,971,972,973,974,975,976,977,978,979,980,981,982,983,984,985,986,987,988,989,990,991,992,993,994,995,996,997,998,999,1000,1001,1002,1003,1004,1005,1006,1007,1008,1009,1010,1011,1012,1013,1014,1015,1016,1017,1018,1019,1020,1021,1022,1023,1024,1025,1026,1027,1028,1029,1030,1031,1032,1033,1034,1035,1036,1037,1038,1039,1040,1041,1042,1043,1044,1045,1046,1047,1048,1049,1050,1051,1052,1053,1054,1055,1056,1057,1058,1059,1060,1061,1062,1063,1064,1065,1066,1067,1068,1069,1070,1071,1072,1073,1074,1075,1076,1077,1078,1079,1080,1081,1082,1083,1084,1085,1086,1087,1088,1089,1090,1091,1092,1093,1094,1095,1096,1097,1098,1099,1100,1101,1102,1103,1104,1105,1106,1107,1108,1109,1110,1111,1112,1113,1114,1115,1116,1117,1118,1119,1120,1121,1122,1123,1124,1125,1126,1127,1128,1129,1130,1131,1132,1133,1134,1135,1136,1137,1138,1139,1140,1141,1142,1143,1144,1145,1146,1147,1148,1149,1150,1151,1152,1153,1154,1155,1156,1157,1158,1159,1160,1161,1162,1163,1164,1165,1166,1167,1168,1169,1170,1171,1172,1173,1174,1175,1176,1177,1178,1179,1180,1181,1182,1183,1184,1185,1186,1187,1188,1189,1190,1191,1192,1193,1194,1195,1196,1197,1198,1199,1200,1201,1202,1203,1204,1205,1206,1207,1208,1209,1210,1211,1212,1213,1214,1215,1216,1217,1218,1219,1220,1221,1222,1223,1224,1225,1226,1227,1228,1229,1230,1231,1232,1233,1234,1235,1236,1237,1238,1239,1240,1241,1242,1243,1244,1245,1246,1247,1248,1249,1250,1251,1252,1253,1254,1255,1256,1257,1258,1259,1260,1261,1262,1263,1264,1265,1266,1267,1268,1269,1270,1271,1272,1273,1274,1275,1276,1277,1278,1279,1280,1281,1282,1283,1284,1285,1286,1287,1288,1289,1290,1291,1292,1293,1294,1295,1296,1297,1298,1299,1300,1301,1302,1303,1304,1305,1306,1307,1308,1309,1310,1311,1312,1313,1314,1315,1316,1317,1318,1319,1320,1321,1322,1323,1324,1325,1326,1327,1328,1329,1330,1331,1332,1333,1334,1335,1336,1337,1338,1339,1340,1341,1342,1343,1344,1345,1346,1347,1348,1349,1350,1351,1352,1353,1354,1355,1356,1357,1358,1359,1360,1361,1362,1363,1364,1365,1366,1367,1368,1369,1370,1371,1372,1373,1374,1375,1376,1377,1378],\"y\":[0.5,0.7200000000000001,1.0,0.8400000000000001,0.30000000000000004,0.36000000000000004,0.7000000000000001,0.44000000000000006,0.44000000000000006,0.3428,0.3428,1.0,0.12,0.8800000000000001,0.4,0.36000000000000004,0.8800000000000001,0.7200000000000001,0.7200000000000001,0.24,0.48,0.04000000000000001,0.8400000000000001,0.8800000000000001,0.45,0.4,0.15000000000000002,0.44000000000000006,0.16000000000000003,0.44000000000000006,0.6400000000000001,0.96,0.27999999999999997,0.8500000000000001,0.68,0.10660000000000001,0.08000000000000002,0.24,1.0,0.10760000000000002,0.75,0.6000000000000001,0.7200000000000001,0.1,0.30000000000000004,0.16000000000000003,0.16000000000000003,0.12,0.8800000000000001,0.35000000000000003,0.08000000000000002,0.27999999999999997,0.08000000000000002,0.16000000000000003,0.4,0.026600000000000002,0.8,0.0534,0.68,0.24,1.0,0.0,0.76,0.15000000000000002,0.68,0.0,0.04000000000000001,0.8,0.1,0.76,0.48,0.9500000000000001,0.0,0.75,0.52,0.0,0.15000000000000002,0.0,0.76,0.5599999999999999,0.0,0.16000000000000003,0.6000000000000001,0.2,0.0,0.2,0.68,1.0,0.46660000000000007,0.27999999999999997,0.15000000000000002,0.7076,0.16000000000000003,0.7000000000000001,0.4,0.9500000000000001,0.8,0.9,0.30000000000000004,0.48,0.0,0.08000000000000002,0.5,0.52,0.7200000000000001,0.6000000000000001,0.0,0.32000000000000006,0.25,0.7200000000000001,0.4,0.7200000000000001,0.5599999999999999,0.8800000000000001,0.0,0.0,0.75,0.5,0.0,0.16000000000000003,0.2,0.0,0.05,0.08000000000000002,0.0,1.0,0.06,0.55,1.0,0.8500000000000001,0.68,0.32000000000000006,0.52,1.0,0.6400000000000001,0.96,1.0,0.48,0.4,1.0,1.0,0.68,0.9,0.8400000000000001,0.44000000000000006,0.48,0.76,0.5,0.4,0.15000000000000002,0.4,0.44000000000000006,0.8,0.6400000000000001,0.76,0.75,0.1,0.16000000000000003,1.0,0.24,1.0,0.5599999999999999,0.24,0.6400000000000001,0.9199999999999999,0.8,0.76,0.68,0.9199999999999999,0.52,0.36000000000000004,0.15000000000000002,0.8,0.55,0.76,0.52,0.4,0.76,0.1166,0.08000000000000002,0.05,0.5599999999999999,0.6400000000000001,0.1,0.45,0.0,0.0,0.0616,0.15000000000000002,0.08000000000000002,0.8400000000000001,0.75,0.32000000000000006,0.6000000000000001,0.8,0.6000000000000001,0.75,0.08000000000000002,0.0,0.6000000000000001,0.08000000000000002,0.08000000000000002,0.05,0.05,0.08000000000000002,0.08000000000000002,0.6400000000000001,0.0,0.44000000000000006,0.16000000000000003,0.16000000000000003,0.06,0.0,0.15000000000000002,0.46660000000000007,0.2666,0.24,0.8400000000000001,0.76,0.6000000000000001,0.1,0.0,0.0666,0.30000000000000004,0.033400000000000006,0.1,0.25,0.32000000000000006,0.0,0.2,0.0,0.0,0.8,0.55,0.6666000000000001,0.7000000000000001,0.0376,0.0,0.05,0.0728,0.6400000000000001,0.0,0.0,0.0,0.35000000000000003,0.0,0.55,0.36000000000000004,0.0,0.0,0.5599999999999999,0.8800000000000001,0.8,0.52,0.24,0.6400000000000001,0.16000000000000003,0.68,0.4,0.0,0.9199999999999999,0.8,0.76,0.8,0.5599999999999999,0.7200000000000001,0.36000000000000004,0.7200000000000001,0.24,1.0,0.8,0.0,0.68,0.8800000000000001,0.8400000000000001,1.0,0.04000000000000001,0.04000000000000001,0.8,0.52,0.12,0.24,0.76,0.8400000000000001,0.5599999999999999,0.8400000000000001,0.48,0.7200000000000001,0.76,0.12,0.96,0.24,0.48,0.8400000000000001,0.0,0.04000000000000001,0.68,0.6000000000000001,0.6400000000000001,0.6000000000000001,0.8800000000000001,0.36000000000000004,0.4,0.96,0.8,0.44000000000000006,0.8400000000000001,0.68,0.8400000000000001,0.68,0.48,0.2,0.32000000000000006,0.6400000000000001,0.68,0.8,0.6000000000000001,0.76,0.0,0.0,0.52,0.52,0.76,0.52,0.5599999999999999,0.0,0.52,0.9199999999999999,0.76,0.68,1.0,0.9199999999999999,0.6000000000000001,0.44000000000000006,0.76,0.44000000000000006,0.7200000000000001,0.8,0.08000000000000002,0.0,0.76,1.0,0.96,0.48,0.5599999999999999,0.27999999999999997,0.7200000000000001,0.0,0.8400000000000001,0.08000000000000002,0.76,0.8,0.24,0.8,0.6000000000000001,0.0,0.48,0.68,0.16000000000000003,0.8400000000000001,0.8800000000000001,0.8,0.36000000000000004,0.5599999999999999,1.0,0.0,0.04000000000000001,0.8,0.76,0.8800000000000001,0.6400000000000001,0.9199999999999999,0.0,0.2,0.16000000000000003,0.8,0.32000000000000006,0.0,0.68,0.2,0.8,0.6000000000000001,0.6000000000000001,0.15000000000000002,0.68,0.5599999999999999,0.96,0.27999999999999997,0.48,0.36000000000000004,0.96,0.27999999999999997,0.08000000000000002,0.266,0.48,0.08000000000000002,0.12,0.96,0.5599999999999999,0.4,0.52,0.0,0.48,0.8,0.8,0.8,0.0,0.6400000000000001,0.27999999999999997,0.7200000000000001,0.8800000000000001,1.0,0.36000000000000004,0.96,0.12,0.27999999999999997,0.04000000000000001,0.8400000000000001,0.9199999999999999,0.8,0.9199999999999999,0.36000000000000004,0.9199999999999999,0.04000000000000001,0.52,0.76,0.0,1.0,0.7200000000000001,0.9199999999999999,0.4,1.0,0.0,0.68,0.0,0.4,0.4,0.9199999999999999,0.6000000000000001,0.9199999999999999,0.4,0.52,0.08000000000000002,0.52,0.8400000000000001,0.0,0.44000000000000006,0.8,0.0,0.4,0.6000000000000001,0.52,0.0,0.0,0.96,0.6000000000000001,0.44000000000000006,0.8800000000000001,0.16000000000000003,0.68,0.0,0.12,0.0,0.48,0.68,0.8,0.4,0.8,0.96,0.12,0.48,0.8800000000000001,0.48,0.96,0.68,0.5599999999999999,0.16000000000000003,0.44000000000000006,0.76,0.08000000000000002,0.9199999999999999,0.6000000000000001,0.9199999999999999,0.16000000000000003,0.8,0.24,0.6400000000000001,0.7200000000000001,0.68,1.0,0.8,0.8,0.5599999999999999,0.76,0.52,0.4,0.16000000000000003,1.0,0.2,1.0,0.48,0.4,0.44000000000000006,0.68,0.16000000000000003,0.9199999999999999,0.5599999999999999,0.4,0.52,0.04000000000000001,0.27999999999999997,0.32000000000000006,0.6400000000000001,0.04000000000000001,0.48,0.04000000000000001,0.27999999999999997,0.36000000000000004,0.32000000000000006,0.76,0.2,0.24,0.8,0.4,0.52,0.76,0.52,0.04000000000000001,0.6000000000000001,0.36000000000000004,0.12,0.12,0.04000000000000001,0.12,0.04000000000000001,0.2,0.68,0.27999999999999997,0.4,0.5599999999999999,0.6400000000000001,0.16000000000000003,0.36000000000000004,0.44000000000000006,0.8400000000000001,1.0,0.24,0.5599999999999999,0.8800000000000001,0.8800000000000001,0.7200000000000001,0.24,0.27999999999999997,0.68,0.16000000000000003,0.5599999999999999,0.6400000000000001,0.32000000000000006,1.0,0.7200000000000001,0.7200000000000001,0.08000000000000002,0.36000000000000004,0.24,0.24,0.44000000000000006,1.0,0.52,0.0,0.5599999999999999,0.6400000000000001,0.32000000000000006,0.04000000000000001,0.76,0.8,0.5599999999999999,1.0,0.68,0.5599999999999999,0.27999999999999997,0.24,0.6400000000000001,0.6000000000000001,0.44000000000000006,0.4,0.76,0.32000000000000006,0.96,0.24,0.48,0.36000000000000004,0.52,0.76,0.24,0.04000000000000001,0.76,0.48,0.08000000000000002,0.68,0.8400000000000001,0.48,0.16000000000000003,0.8800000000000001,0.6000000000000001,0.4,0.6000000000000001,0.44000000000000006,0.36000000000000004,0.5599999999999999,0.5599999999999999,1.0,0.44000000000000006,0.24,0.32000000000000006,0.5599999999999999,0.36000000000000004,0.52,0.04000000000000001,0.48,0.8400000000000001,0.44000000000000006,0.32000000000000006,0.16000000000000003,1.0,0.24,0.6000000000000001,0.6000000000000001,0.0,0.0,0.4,0.0,1.0,0.6000000000000001,0.4,0.0,0.4,1.0,0.2,0.8,0.8,0.2,0.2,0.2,0.8,0.2,1.0,0.8,0.8,0.8,0.8,0.6000000000000001,0.8,0.0,0.0,0.2,0.8,1.0,0.4,0.8,0.0,0.4,0.2,0.0,0.4,1.0,0.2,0.6000000000000001,0.4,1.0,0.4,0.2,1.0,0.0,1.0,1.0,0.0,0.4,0.8,0.0,0.4,0.6000000000000001,0.0,0.6000000000000001,0.2,0.6000000000000001,0.4,0.8,0.0,0.8,0.8,0.4,0.4,1.0,0.4,0.4,0.0,0.4,0.0,0.4,0.8,0.8,0.2,0.8,0.8,0.4,0.4,0.4,0.0,0.6000000000000001,0.2,1.0,0.2,0.0,0.4,0.4,0.0,0.6000000000000001,0.6000000000000001,0.6000000000000001,1.0,1.0,0.8,0.2,0.0,1.0,0.0,0.8,1.0,0.6000000000000001,0.6000000000000001,0.6000000000000001,0.4,0.2,0.0,0.4,0.0,0.4,1.0,0.6000000000000001,0.6000000000000001,1.0,0.6000000000000001,0.4,0.2,0.2,1.0,0.2,0.4,0.8,0.0,0.4,0.2,0.6000000000000001,0.2,0.2,1.0,1.0,1.0,0.0,0.8,0.8,0.0,0.0,0.4,0.8,1.0,0.6000000000000001,0.6000000000000001,0.8,0.2,0.0,0.4,0.4,1.0,0.8,1.0,0.2,0.0,0.4,0.0,0.4,0.2,1.0,1.0,0.6000000000000001,0.0,0.0,0.4,1.0,0.2,0.6000000000000001,0.6000000000000001,0.4,0.2,0.2,0.4,0.4,0.8,0.0,0.2,0.2,0.4,0.4,0.0,0.2,1.0,0.4,0.4,1.0,0.4,1.0,0.0,0.8,0.8,0.8,0.0,0.4,0.4,1.0,0.4,0.6000000000000001,0.8,0.2,1.0,0.4,0.2,0.4,0.2,0.8,1.0,0.2,0.8,0.4,0.8,0.4,0.8,1.0,0.0,0.0,1.0,0.8,0.2,0.8,0.8,1.0,1.0,0.8,0.2,0.0,0.6000000000000001,0.8,0.6000000000000001,1.0,1.0,1.0,0.2,0.0,0.8,0.2,0.8,0.6000000000000001,1.0,1.0,0.0,0.2,0.0,0.0,0.0,0.0,0.8,1.0,0.2,0.2,0.8,0.2,1.0,0.6000000000000001,1.0,1.0,0.27999999999999997,0.7200000000000001,0.7000000000000001,0.6400000000000001,0.8,0.4,0.7200000000000001,0.8400000000000001,0.8,0.65,0.68,0.7334,0.75,0.24,0.76,0.68,0.6400000000000001,0.7200000000000001,0.6000000000000001,0.32000000000000006,0.6400000000000001,0.76,0.8400000000000001,0.6000000000000001,0.8,0.9500000000000001,0.7066,0.25,0.8,0.6000000000000001,0.52,0.7000000000000001,0.30000000000000004,0.4,0.7000000000000001,0.6000000000000001,0.9500000000000001,0.68,0.68,0.8500000000000001,0.76,0.6000000000000001,0.6000000000000001,0.9199999999999999,0.6000000000000001,0.8500000000000001,0.36000000000000004,0.5599999999999999,0.25,0.75,0.75,0.75,0.7000000000000001,0.9199999999999999,0.65,0.2666,0.5,0.65,0.6000000000000001,0.7200000000000001,0.44000000000000006,0.96,0.8,0.68,0.6400000000000001,0.5,0.65,0.76,0.8800000000000001,0.7000000000000001,0.30000000000000004,0.5599999999999999,0.7200000000000001,0.8400000000000001,0.6000000000000001,0.6000000000000001,0.32000000000000006,0.8,0.2666,0.7200000000000001,0.6000000000000001,0.6000000000000001,0.7000000000000001,0.8,0.44000000000000006,0.68,0.7000000000000001,0.8500000000000001,0.52,0.6000000000000001,0.48,0.76,0.6000000000000001,0.7000000000000001,0.7000000000000001,0.75,0.45,0.65,0.96,0.76,0.68,0.4,0.9199999999999999,0.7000000000000001,0.6666000000000001,0.5334,0.6400000000000001,0.76,0.68,0.68,0.7200000000000001,0.76,0.36000000000000004,0.6400000000000001,0.6000000000000001,0.36000000000000004,0.55,0.32000000000000006,0.55,0.65,0.45,0.6000000000000001,0.6364000000000001,0.75,0.52,0.25,0.5,0.8400000000000001,0.52,0.27999999999999997,0.7200000000000001,0.6000000000000001,0.7000000000000001,1.0,0.6000000000000001,0.76,0.76,0.8444000000000002,0.5,1.0,0.8,0.7200000000000001,0.8400000000000001,0.68,0.52,0.7200000000000001,0.8,0.7000000000000001,0.30000000000000004,0.7000000000000001,0.35000000000000003,0.75,0.96,0.68,0.52,0.8800000000000001,0.7200000000000001,0.7200000000000001,0.8,0.9,1.0,0.68,0.75,0.6352000000000001,0.7200000000000001,0.6400000000000001,0.7000000000000001,0.38,0.6000000000000001,0.7200000000000001,0.75,0.7200000000000001,0.75,0.6666000000000001,0.52,0.36000000000000004,0.7200000000000001,0.8800000000000001,0.6000000000000001,0.8,0.65,0.6000000000000001,0.52,0.52,0.9199999999999999,0.55,0.44000000000000006,0.6666000000000001,0.5538000000000001,0.5599999999999999,0.8,0.9466,0.32000000000000006,0.75,0.1,0.65,0.48,0.6400000000000001,0.75,0.65,0.48,0.9,0.8,0.76,0.16000000000000003,0.6000000000000001,0.7000000000000001,0.4,0.5599999999999999,0.4,0.6000000000000001,0.7000000000000001,1.0,0.65,0.68,0.68,0.75,0.55,0.6400000000000001,0.52,0.32000000000000006,0.5,0.68,0.8,0.8500000000000001,0.8,0.68,0.5599999999999999,0.32000000000000006,0.76,0.5334,0.24,0.96,0.6000000000000001,0.8,0.8,0.55,0.45,0.6400000000000001,0.9500000000000001,0.5599999999999999,0.27999999999999997,0.15000000000000002,0.7334,0.68,0.68,0.7714000000000001,0.6000000000000001,0.7000000000000001,0.65,0.27999999999999997,0.15000000000000002,0.68,0.96,0.08000000000000002,0.36000000000000004,0.48,0.32000000000000006,0.6400000000000001,0.08000000000000002,0.8,0.16000000000000003,0.27999999999999997,0.36000000000000004,0.44000000000000006,0.6400000000000001,0.24,0.25,0.8400000000000001,0.52,0.7200000000000001,0.08000000000000002,0.0,1.0,0.8800000000000001,0.96,0.7200000000000001,0.76,0.04000000000000001,0.76,0.44000000000000006,0.8,0.52,0.12,0.8800000000000001,0.8,0.16000000000000003,0.4,0.27999999999999997,0.6000000000000001,0.12,0.4,0.9199999999999999,0.27999999999999997,0.9,0.16000000000000003,0.0,0.8800000000000001,0.2,0.68,0.12,0.2,0.5599999999999999,0.32000000000000006,0.48,0.16000000000000003,0.8800000000000001,0.96,0.68,0.76,0.9,0.44000000000000006,0.8,0.2,0.52,0.2,0.27999999999999997,0.8,0.8400000000000001,0.76,0.76,0.48,0.08000000000000002,0.44000000000000006,0.8800000000000001,0.7200000000000001,0.44000000000000006,1.0,0.8400000000000001,0.36000000000000004,0.27999999999999997,0.44000000000000006,0.76,0.8400000000000001,0.4,1.0,0.76,0.24,0.44000000000000006,0.27999999999999997,0.48,0.6000000000000001,0.6400000000000001,0.76,0.6000000000000001,0.4,0.5599999999999999,0.8,0.9199999999999999,0.8,0.44000000000000006,0.68,0.68,0.68,0.8400000000000001,0.76,0.52,0.44000000000000006,0.08000000000000002,0.36000000000000004,0.2,0.32000000000000006,0.32000000000000006,0.52,0.52,0.0,0.8800000000000001,0.68,0.12,0.0,0.8800000000000001,0.7200000000000001,0.6000000000000001,0.76,0.44000000000000006,0.0,0.9199999999999999,0.32000000000000006,0.9199999999999999,0.8400000000000001,0.76,0.6000000000000001,0.2,0.7200000000000001,0.16000000000000003,0.44000000000000006,0.8400000000000001,0.8400000000000001,0.68,0.26,0.24,0.7200000000000001,0.6400000000000001,0.2,0.6000000000000001,0.76,0.32000000000000006,0.24,0.68,0.08000000000000002,0.96,0.0,0.08000000000000002,0.5599999999999999,0.7200000000000001,0.4,0.8,0.76,0.36000000000000004,0.04000000000000001,0.4,1.0,0.0,0.7200000000000001,0.7200000000000001,0.68,0.04000000000000001,0.8800000000000001,0.12,0.08000000000000002,0.9199999999999999,0.52,0.5599999999999999,0.6400000000000001,0.4,0.36000000000000004,0.08000000000000002,0.27999999999999997,0.24,0.52,0.48,0.8400000000000001,1.0,0.08000000000000002,0.32000000000000006,0.6400000000000001,0.8800000000000001,0.96,1.0,0.534,0.0,1.0,0.6000000000000001,0.96,0.48,1.0,0.96,1.0,0.6400000000000001,0.24,1.0,0.9199999999999999,0.4,0.36000000000000004,0.6000000000000001,0.76,0.8,0.96,0.96,0.5599999999999999,0.52,0.8800000000000001,0.9199999999999999,0.44000000000000006,0.08000000000000002,0.08000000000000002,0.27999999999999997,0.96,0.8800000000000001,1.0,0.4,1.0,1.0,1.0,1.0,0.8,0.6000000000000001,0.6000000000000001,1.0,0.8,0.4,0.2,0.8,0.0,0.4,1.0,0.6000000000000001,0.4,0.4,0.0,0.0,0.2,0.2,0.2,0.4,0.0,0.2,0.2,0.0,0.0],\"type\":\"scatter\",\"xaxis\":\"x\",\"yaxis\":\"y2\"},{\"name\":\"Predicition\",\"x\":[0,1,2,3,4,5,6,7,8,9,10,11,12,13,14,15,16,17,18,19,20,21,22,23,24,25,26,27,28,29,30,31,32,33,34,35,36,37,38,39,40,41,42,43,44,45,46,47,48,49,50,51,52,53,54,55,56,57,58,59,60,61,62,63,64,65,66,67,68,69,70,71,72,73,74,75,76,77,78,79,80,81,82,83,84,85,86,87,88,89,90,91,92,93,94,95,96,97,98,99,100,101,102,103,104,105,106,107,108,109,110,111,112,113,114,115,116,117,118,119,120,121,122,123,124,125,126,127,128,129,130,131,132,133,134,135,136,137,138,139,140,141,142,143,144,145,146,147,148,149,150,151,152,153,154,155,156,157,158,159,160,161,162,163,164,165,166,167,168,169,170,171,172,173,174,175,176,177,178,179,180,181,182,183,184,185,186,187,188,189,190,191,192,193,194,195,196,197,198,199,200,201,202,203,204,205,206,207,208,209,210,211,212,213,214,215,216,217,218,219,220,221,222,223,224,225,226,227,228,229,230,231,232,233,234,235,236,237,238,239,240,241,242,243,244,245,246,247,248,249,250,251,252,253,254,255,256,257,258,259,260,261,262,263,264,265,266,267,268,269,270,271,272,273,274,275,276,277,278,279,280,281,282,283,284,285,286,287,288,289,290,291,292,293,294,295,296,297,298,299,300,301,302,303,304,305,306,307,308,309,310,311,312,313,314,315,316,317,318,319,320,321,322,323,324,325,326,327,328,329,330,331,332,333,334,335,336,337,338,339,340,341,342,343,344,345,346,347,348,349,350,351,352,353,354,355,356,357,358,359,360,361,362,363,364,365,366,367,368,369,370,371,372,373,374,375,376,377,378,379,380,381,382,383,384,385,386,387,388,389,390,391,392,393,394,395,396,397,398,399,400,401,402,403,404,405,406,407,408,409,410,411,412,413,414,415,416,417,418,419,420,421,422,423,424,425,426,427,428,429,430,431,432,433,434,435,436,437,438,439,440,441,442,443,444,445,446,447,448,449,450,451,452,453,454,455,456,457,458,459,460,461,462,463,464,465,466,467,468,469,470,471,472,473,474,475,476,477,478,479,480,481,482,483,484,485,486,487,488,489,490,491,492,493,494,495,496,497,498,499,500,501,502,503,504,505,506,507,508,509,510,511,512,513,514,515,516,517,518,519,520,521,522,523,524,525,526,527,528,529,530,531,532,533,534,535,536,537,538,539,540,541,542,543,544,545,546,547,548,549,550,551,552,553,554,555,556,557,558,559,560,561,562,563,564,565,566,567,568,569,570,571,572,573,574,575,576,577,578,579,580,581,582,583,584,585,586,587,588,589,590,591,592,593,594,595,596,597,598,599,600,601,602,603,604,605,606,607,608,609,610,611,612,613,614,615,616,617,618,619,620,621,622,623,624,625,626,627,628,629,630,631,632,633,634,635,636,637,638,639,640,641,642,643,644,645,646,647,648,649,650,651,652,653,654,655,656,657,658,659,660,661,662,663,664,665,666,667,668,669,670,671,672,673,674,675,676,677,678,679,680,681,682,683,684,685,686,687,688,689,690,691,692,693,694,695,696,697,698,699,700,701,702,703,704,705,706,707,708,709,710,711,712,713,714,715,716,717,718,719,720,721,722,723,724,725,726,727,728,729,730,731,732,733,734,735,736,737,738,739,740,741,742,743,744,745,746,747,748,749,750,751,752,753,754,755,756,757,758,759,760,761,762,763,764,765,766,767,768,769,770,771,772,773,774,775,776,777,778,779,780,781,782,783,784,785,786,787,788,789,790,791,792,793,794,795,796,797,798,799,800,801,802,803,804,805,806,807,808,809,810,811,812,813,814,815,816,817,818,819,820,821,822,823,824,825,826,827,828,829,830,831,832,833,834,835,836,837,838,839,840,841,842,843,844,845,846,847,848,849,850,851,852,853,854,855,856,857,858,859,860,861,862,863,864,865,866,867,868,869,870,871,872,873,874,875,876,877,878,879,880,881,882,883,884,885,886,887,888,889,890,891,892,893,894,895,896,897,898,899,900,901,902,903,904,905,906,907,908,909,910,911,912,913,914,915,916,917,918,919,920,921,922,923,924,925,926,927,928,929,930,931,932,933,934,935,936,937,938,939,940,941,942,943,944,945,946,947,948,949,950,951,952,953,954,955,956,957,958,959,960,961,962,963,964,965,966,967,968,969,970,971,972,973,974,975,976,977,978,979,980,981,982,983,984,985,986,987,988,989,990,991,992,993,994,995,996,997,998,999,1000,1001,1002,1003,1004,1005,1006,1007,1008,1009,1010,1011,1012,1013,1014,1015,1016,1017,1018,1019,1020,1021,1022,1023,1024,1025,1026,1027,1028,1029,1030,1031,1032,1033,1034,1035,1036,1037,1038,1039,1040,1041,1042,1043,1044,1045,1046,1047,1048,1049,1050,1051,1052,1053,1054,1055,1056,1057,1058,1059,1060,1061,1062,1063,1064,1065,1066,1067,1068,1069,1070,1071,1072,1073,1074,1075,1076,1077,1078,1079,1080,1081,1082,1083,1084,1085,1086,1087,1088,1089,1090,1091,1092,1093,1094,1095,1096,1097,1098,1099,1100,1101,1102,1103,1104,1105,1106,1107,1108,1109,1110,1111,1112,1113,1114,1115,1116,1117,1118,1119,1120,1121,1122,1123,1124,1125,1126,1127,1128,1129,1130,1131,1132,1133,1134,1135,1136,1137,1138,1139,1140,1141,1142,1143,1144,1145,1146,1147,1148,1149,1150,1151,1152,1153,1154,1155,1156,1157,1158,1159,1160,1161,1162,1163,1164,1165,1166,1167,1168,1169,1170,1171,1172,1173,1174,1175,1176,1177,1178,1179,1180,1181,1182,1183,1184,1185,1186,1187,1188,1189,1190,1191,1192,1193,1194,1195,1196,1197,1198,1199,1200,1201,1202,1203,1204,1205,1206,1207,1208,1209,1210,1211,1212,1213,1214,1215,1216,1217,1218,1219,1220,1221,1222,1223,1224,1225,1226,1227,1228,1229,1230,1231,1232,1233,1234,1235,1236,1237,1238,1239,1240,1241,1242,1243,1244,1245,1246,1247,1248,1249,1250,1251,1252,1253,1254,1255,1256,1257,1258,1259,1260,1261,1262,1263,1264,1265,1266,1267,1268,1269,1270,1271,1272,1273,1274,1275,1276,1277,1278,1279,1280,1281,1282,1283,1284,1285,1286,1287,1288,1289,1290,1291,1292,1293,1294,1295,1296,1297,1298,1299,1300,1301,1302,1303,1304,1305,1306,1307,1308,1309,1310,1311,1312,1313,1314,1315,1316,1317,1318,1319,1320,1321,1322,1323,1324,1325,1326,1327,1328,1329,1330,1331,1332,1333,1334,1335,1336,1337,1338,1339,1340,1341,1342,1343,1344,1345,1346,1347,1348,1349,1350,1351,1352,1353,1354,1355,1356,1357,1358,1359,1360,1361,1362,1363,1364,1365,1366,1367,1368,1369,1370,1371,1372,1373,1374,1375,1376,1377,1378],\"y\":[0.1319405839776423,0.6555355894910336,0.32038092737414525,0.5014943526345691,0.5025370623051043,0.09431711899083173,0.7250577479301182,0.4701209523863986,0.44170273969976204,0.1910962017242558,0.1910962017242558,0.4016046265248948,0.2904085248586754,0.20175067600551067,0.5619256201610437,0.4868106788005685,0.8344237429535913,0.4307378259323612,0.3243857252721457,0.26475494674846556,0.4123211176219147,0.5279053619804782,0.4618026136746006,0.4320491517905508,0.4281657876319426,0.19143810424424873,0.36067445522349517,0.4254547738569582,0.25491243067720004,0.5382310130315389,0.6554422759131263,0.34512700973120947,0.4133437662609627,0.5640439930972679,0.5940363150600857,0.11563547168657895,0.37615879159973653,0.3855910633175307,0.14766207112499863,0.11985842319956908,0.638799907660211,0.34878861460728167,0.3947994166677854,0.4571944312141346,0.18690975604733617,0.3086498523671223,0.43413354511119573,0.26395847967373987,0.44973258210938233,0.0008339037213862532,0.13151784941731937,0.4250046517387419,0.182668823132212,0.2071620102416808,0.2899764550278737,0.2651106140233367,0.3710533194126783,0.40247790441343867,0.2918987499218577,0.6752831017651587,0.44251764291390294,0.43436507557956305,0.44454247404827896,0.23547590519038775,0.6171396706003707,0.31510754253680073,0.5643899102437844,0.31516172191688896,0.24161364114653672,0.7052130144383705,0.608504957055462,0.29404670068916816,0.09045942185736827,0.43031382180669764,0.5277485589981658,0.29326838802489485,0.47717709036313105,0.4888620662362543,0.5537641350951393,0.4198745978192883,-0.052708845497059786,0.17539443299706636,0.5527795418442618,0.5102769649369523,0.18621487479760912,0.5587984091132904,0.7332903357239909,0.23543804218317244,0.31079444273023193,0.5009970774037148,0.3726751447772104,0.06843905441272613,0.042096627350592386,0.5065737966146957,-0.0956349293342803,0.4349715668884925,0.3431982973221751,0.48617327111222963,0.6683366616609182,0.40099315408798375,0.3597328431898934,0.5363401087899516,0.42569998506081774,0.4775862208614984,0.22648468603729188,0.46838083061291347,0.33444931126291777,0.5778569037718592,0.4838479216776589,0.35429563375782336,0.4947722744227202,0.6751240846048752,0.5928819908586123,0.6990357845562915,0.6591809362755104,0.5535035585838027,0.6448963423498197,0.4839897688382325,0.42996609627870075,0.6959215708239733,0.4036738694299902,0.5585104529725623,0.7430716768537423,0.27315854514347304,0.6691380827729593,0.20904085160162333,0.38798506813003586,0.31530633004869946,0.6678441083212524,0.5822987794563206,0.33018353061602534,0.4993783259770495,0.3813943033365862,0.5923732751438128,0.3392899984666269,0.5250285410135169,0.541455618984535,0.6737736483123243,0.29985899767234037,0.44871046056263,0.40528962830955884,0.6603264979359561,0.2979640494568677,0.3432220630667159,0.08560373779442976,0.4656823334188043,0.4716138149255832,0.46253162191908614,0.5971502135481658,0.11500846133565279,0.3439956646883555,0.42954250088066537,0.15310155613163146,0.38022578694664644,-0.10072908139167414,0.232716350239084,0.4735172074741357,0.23183866732349745,0.5414640335246791,0.33865411420841884,0.4124585316209751,0.3685701603292113,0.7784653495336255,0.4870387674219153,0.3860972259948129,0.6014152523563225,0.582642048548773,0.41814076518005716,0.44518295290048104,0.7002569047900229,0.5434637140649866,0.24168236306671365,0.49355662488347674,0.6613105562776688,0.4054180614991318,0.3626472554111384,0.6502119735778464,0.5503894256876822,0.18788175718507916,0.2751197426703972,0.2477993794369061,0.46442366273540114,0.3567337724481465,0.6823187458000629,0.8519293586725524,0.23249719450006967,0.2572377625677521,-0.01889537070263836,0.050743336935260785,0.7443478983646074,0.5954135913069557,0.5336610576286133,0.4326730897094947,0.49584461463314977,0.2914754491145405,0.5845609303511629,0.5355951999055506,0.3289600613244291,0.1558379131691433,0.5188033683287413,0.44460401574414055,0.15573023221461724,0.4897237720384807,0.16201660101795745,0.7345630235277434,0.6508573890253673,0.45655789749601705,0.3546961144732105,0.5994192044827235,0.8575657996698068,0.6099738932313289,0.1304560369884048,0.25813937559674593,0.27568498398950203,0.4963477233166035,0.17580882008067034,0.36975983622133224,0.6968253624064896,0.4644350382974045,0.5876556686914444,0.40289738652834595,0.36621882865273225,0.8232890259397054,0.5910392578634471,0.34560889681250295,0.25340682877538734,0.45979085419856547,0.7575216899449769,0.23729443166249997,0.6432432187412686,0.26857805663976564,0.30014335611097487,0.48630871368019246,0.09383488699464593,0.10337511723727966,0.7408173917275529,0.08864882092054244,0.31350462275480184,0.5035672600952504,0.2636889023740042,0.5090801031425701,0.675195617876949,0.5661829471028551,0.5045991417721093,0.4741339016376581,0.49934396919760526,0.3480130952694045,0.5780042778421907,0.7128866255731982,0.4590245692591056,0.5286531319120352,0.5567612313940768,0.17865335118523562,0.5174287302607328,0.5103774288794153,0.511173656626882,0.4639263112623955,0.24392707846405248,0.4848396484468779,0.46804703820589366,0.6112751950455814,0.5569255459952627,0.5456231003484515,0.7774700876371905,0.8148756792190921,0.12521496015265043,0.5358185480714902,0.6208098879616255,0.7466450942101973,0.5789334195577578,0.553394430200343,0.20603887711722957,0.39468953347879765,0.5189199101980332,0.5058270893329734,0.5074836971876889,0.6830400948516009,0.22363179449390008,0.5168552562893192,0.46904077945702605,0.599751965710014,0.5425259478579673,0.6452214804691379,0.6882904145056916,0.6668650104908599,0.5954204171480874,0.708954807716401,0.47836745895809674,0.46354286039033804,0.04173156796568167,0.4082600350170906,0.6235384371287734,0.6356496516819626,0.694869789330153,0.42961271200341267,0.5560766072996004,0.2780682085852022,0.7063907676517517,0.4270909245235289,0.5052130235565035,0.6483452008111023,0.7099454130458838,0.4431652275638207,0.744306846702246,0.6947301963893809,0.5360948519176307,0.6095136195664373,0.6815977843103473,0.4176265796621432,0.5447293213519372,0.3262279646343463,0.2207929040595874,0.3683307871593278,0.49533313397558265,0.2519429424062564,0.4298998070317518,0.24672594785340474,0.6859485356828957,0.46315586445878576,0.31733577085700293,0.6333457398285163,0.4767536482090714,0.5418304600183502,0.36381835655305694,0.6594490637721632,0.41096421168937847,0.7331877323314027,0.5013694808885697,0.5456772565969354,0.37627692270878077,0.6264100355705167,0.5934168044962985,0.8947065346789395,0.5161139627208287,0.31092813404403097,0.4712445725597256,0.8324081190675815,0.4053632147863254,0.32739306627477405,0.28456526239719626,0.44751110680683415,0.7734191618102423,0.6465114981413911,0.42633022845894675,0.31442953515089644,0.6534845005871887,0.5634306371738464,0.5489060916106815,0.7153982984656145,0.9370295921298534,0.5865986010584577,0.6341571097856521,0.29701337098305414,0.5754784422119683,0.6070500293394838,0.4960777768110426,0.7108303817693022,0.5591423120773686,0.2972308241012917,0.5970053428221985,0.6730933101139001,0.3789528258558536,0.6904402290513268,0.7386665229848877,0.8942533922014916,0.3731330433856673,0.294821233831165,0.46774928756292833,0.640732739106875,0.3826308779230035,0.47421949716380074,0.5527659513115206,0.6036399909507276,0.5457503116832002,0.43089314473908136,0.5628000703781492,0.7976394585892564,0.4891919434318131,0.4858114394311277,0.6231162857535318,0.7791101001535607,0.39560396276865306,0.5311177391001037,0.21118854953743849,0.36794865125183296,0.523488337575295,0.17637560275417857,0.6339202509452699,0.31921152819863496,0.7383638121177325,0.5254495972346847,0.5287368342349916,0.3855374825653436,0.32454861036298277,0.6341074415915422,0.5279172512937622,0.44646634980110456,0.4598589842944779,0.319746505583845,0.1333827264855626,0.4067651160298765,0.2777155870646869,0.826229376361005,0.12009522876823786,0.9054141204541718,0.684035850968646,0.29879585859228686,0.6542142070236853,0.5090446237007614,0.47589237456027644,0.5924545936092129,0.5355162505494515,0.4230809802700336,0.26304392882298167,0.4418847110884909,0.6763964175979669,0.11038890319178585,0.633240838747658,0.7393991191746941,0.7239211050057434,0.7103865468875049,0.4296773250503931,0.5649164103872545,0.45895656774994376,0.6375066088225917,0.33568135143703703,0.43439978613776276,0.5043627581806837,0.5109203081607111,0.7087553317656995,0.7897297053115261,0.49045506933314476,0.44736745966426245,0.7008818324615853,0.32323516638753386,0.5497608928458417,0.43704434792393243,0.8492718460354636,0.7010054479154487,0.2754747974419406,0.6086804961260542,0.1704888948756027,0.8185753333723688,0.6559240042308472,0.5664782913101148,0.6560410740539531,0.4273981438638412,0.4853114400286943,0.293101964974951,0.6576624688726941,0.3792697610601594,0.8682080171846867,0.7407963386019434,0.1824366314322593,0.3716955772226657,0.5363424909784844,0.3386057983967078,0.3825733016336067,0.6654624748483788,0.46576847408268957,0.7521683837482585,-0.07143050252541405,0.5763844696958742,0.3788109842998668,0.3563364132178984,0.43257501969606205,0.43043929884416,0.8189058426778766,0.5816924172854038,0.5033616797478667,0.3509987343387816,0.5561431937968468,0.4684851416062029,0.3280488626074614,0.7181365409597423,0.7495763236102969,0.2412373365088643,0.2419438399631192,0.2704817144867153,0.2601342644388519,0.7414909252784111,0.5297391567265913,0.48412013104613594,0.6307487300794358,0.46786360930517534,0.5072505960127959,0.4922458415983316,0.5534691495015223,0.37431898015774656,0.5413240636103429,0.7788613522267074,0.7176604678890873,0.47984984687095555,0.47217203178100076,0.6561480713153544,0.5729002986677045,0.3597477597149198,0.46670508312084513,0.44111444957558255,0.5476793934154585,0.2923999825301281,0.4032666622172979,0.4291835698326294,0.45752597023725505,0.4615993221113829,0.6088013347962047,0.22204509148391016,0.32966385430789535,0.29477867867630836,0.356646146769079,0.4403602631015827,0.27256729076146335,0.4730506609784899,0.8162630140927579,0.29551862813479157,0.606443473371643,0.1713403118906126,0.44990742510840176,0.29485597643972483,0.7996086224447551,0.06424748154326743,0.9292072950400024,0.22870462543061137,0.391127161867725,0.4869253290934016,0.4621088170719065,0.4871537421546698,0.2769170167510481,0.17503282189710034,0.4407250033885868,0.06539964495021017,0.5761779655037612,0.3641284269544228,0.11072026267088042,0.7647106185492047,0.1219021686399846,0.568299571877057,0.8016963109590229,0.6209568317148785,0.6651909307827879,0.6283577084781872,0.2962878249636919,0.3952397954370829,0.42790177778828664,0.3398715385215072,0.5093109631030064,0.3960283878928994,0.3868289301037994,0.4602197350705236,0.5567526684326635,0.33579087540065056,0.35575425449426623,0.5975799930178106,0.48367263110002423,0.1665990358765903,0.32720681005805263,0.3509059064311485,0.5436611921226109,0.420416071601715,0.19494294445207627,0.48422683762190044,0.6380317230408165,0.49884553351392247,0.5707137530434769,0.33230551047318885,0.5399981429221004,0.46814792384144277,0.61158450997415,0.4613074989513788,0.17671035246154276,0.5221788408416387,0.5418756829700321,0.37381976448410226,0.2898908369682434,0.30701808661493657,0.5071269338181564,0.24420160308079442,0.4050817879056013,0.4942036540809437,0.457444703267219,0.44731066648388196,0.6355665112690124,0.7074540395629675,0.30735917677813773,0.4242606588323661,0.6793961486051714,0.22638916532905695,0.49749338578328234,0.06656730728229393,0.5879882793301708,0.3977130676019112,0.21687366786910978,0.6858266134426249,0.26229702059179594,0.35540093296242536,0.32457997487153945,0.41656670345986224,0.5916510691008453,0.4958222956512962,0.6740342173783295,0.7468685751620538,0.49359982658353074,0.8101122008229347,0.42154601008275117,0.8464617110599928,0.395905010659396,0.41922093517383585,0.4303541705340839,0.5767703884647121,0.5958401093469609,0.5395496459145903,0.471022473862713,0.1457878830968914,0.3608964152501172,0.9668191894961166,-0.02359040233545673,0.48099006304564285,0.4904185865959403,0.5338588856862104,0.440488513516752,0.31974398190631154,0.6582812649561824,0.3181969870652114,0.5634335918455617,0.3300011866906139,0.6697381875155071,0.3703881118028934,0.3796778954934348,0.8898846741693166,0.18231286636949334,0.7040492713256052,0.3456906998217105,0.46748643014555014,0.6198942464364203,0.6200230740311121,0.23828084397286942,0.6679002293028348,0.5150151977416833,0.591939870777508,0.04051797498274928,0.6523992645873972,0.37563129417926167,0.5289264147430746,0.13447891266443823,1.0176402908689572,0.7712207794158161,0.33956301912942466,0.6221895921360693,0.5785180816709711,0.2054199663583981,0.1978605693006572,0.226983746752364,0.39755328437932846,0.5573384149001652,0.5421607516571757,0.580208220914393,0.6019204026502273,1.0492517216557093,0.6372855523234643,-0.13825730094387445,0.21442118246618314,0.3577167188008175,-0.19944066822505813,0.7585089153209428,0.3929453015240151,0.6599070265990701,0.8438483514045081,0.9079042653640808,0.5499675517191561,0.25050171172936253,0.7438740080544081,0.2094410986698204,0.20589183593322524,0.5921619291453267,0.22772543393257805,0.18493500572298438,0.3142641101388249,0.41183940477424463,1.2037151217284845,0.19941610573612978,0.36970757965303136,0.6462291814490333,0.43157257494020196,0.2048897724436196,0.4259718208721244,0.4829416275167838,0.29896768500270654,0.30498871766663876,0.6327132301003343,-0.08558343954663583,0.5979587762682848,0.07785890950402874,0.2570536497714043,0.5873629372644884,0.5133576897149238,0.6450508416305895,0.3457171398060396,0.6035747080596421,0.3920289279644059,0.46500502693220014,0.41552509361035717,0.525197772576139,0.4874121707395629,0.6072867305723889,0.17837648057605082,0.8116541529649686,0.28108026633185657,0.7384729663065501,0.5696932481957759,0.6644611491995072,0.3061290456015413,0.6148492954988645,0.6840063615998379,-0.29581456042592047,0.8849042633352009,0.5156594358793536,0.21295938854145247,0.5998329173170217,0.23017171209249632,0.3596887397611873,0.48963706639670956,0.7587538387586733,0.7075235768331787,0.37622340229749573,0.03673086338757514,0.6413580641637681,0.6048808426550389,0.49856527940040685,0.6673051594653181,0.33071933894585226,-0.007313431180002383,0.49535292257637453,0.3973974160087207,0.3432499327971267,0.6627827141539281,0.6584289044345731,0.7050548254735645,0.6498807326497239,0.500928566213609,0.4483784146312584,0.6216856506099561,0.21059710231907436,0.8344916195742627,0.21275798245492505,0.6526101582009647,0.30933217844674643,0.4356613095002485,0.4502692879272727,0.7297443879814165,0.04799340699737714,0.6006743911192052,0.36342106999588675,0.5135611097009845,0.4191695886379133,0.3037108206462644,0.20846026016398872,0.04271970954151194,0.7692944017764984,0.7661867340105659,0.6621040407872361,0.587536452150612,0.6209492851091808,0.03924368807857359,0.48076461717142716,0.7569223855810253,0.36358188451574547,0.4049122939181715,0.34295140839416904,0.5423485706845245,0.42415346308000274,0.29764197515336727,0.5434356236548938,0.07476745126043682,0.9045166444005744,0.16843458089580643,0.38518416894770846,0.4931817933176001,0.8477454993531561,0.37435694192127456,0.5096107628494622,0.7114953245521125,0.18756514485728826,0.3780168597616643,0.4881277315404736,0.29800907492379364,0.4362222158980085,0.10489149429057176,0.2104133840327671,0.6516831467984502,0.666114717687112,0.7097557501023658,0.597366611488101,0.5535677416834281,0.68279338724713,0.22455926919754743,0.523576714859231,0.5512264861309487,0.032690748969719685,0.4305180773135736,0.14027631172942,0.6988097979446615,0.8252982260575145,0.883655769942173,0.8787218845090274,0.343038451329689,0.4845072814374448,0.5968308605264717,0.7697630701432663,0.29369808177894363,-0.03853098281624734,0.6037271798604883,0.29384232120860954,0.06281269935271105,0.11083332852747829,0.26525446586570023,0.7656206478534735,0.6735857132679567,0.6233125790056746,0.15986141848746144,0.6729321139044137,0.5937200329159151,0.560973637750024,0.53762280446482,0.6223594382941636,0.5632124866818767,0.6387941277101331,0.17353787331780013,0.033219695765952406,0.4627864590307239,0.5416077091818978,0.37237839264491945,0.22745101962529224,0.5296423232751332,0.26186834906833956,0.5248849878938445,0.21790129012536497,0.4885587979773046,0.3793288585234098,0.4704373688671311,0.4895432661202236,0.3742113511895152,0.3120806012319025,0.4583525507708302,0.39749801704065557,0.4238717542218159,0.8158671890160297,0.7452483642413554,0.41987354806317784,0.4948909575010798,0.29841847607503075,0.41434762729694186,0.5080667898773422,0.3577239403701343,0.20692731819708526,0.26386564183684363,0.4401756561566973,0.6043547791455427,0.3439991474730409,0.6810494446956457,0.49904113931530336,0.2340594328904146,0.2844942367315143,-0.08125422276312977,0.14664171306422774,0.39214097036268203,0.27561232434567173,0.533329996634266,0.6671145719552825,-0.08428880526613602,0.36973341645250524,0.7598823621917128,0.6263391572734613,0.41931643152766085,0.14450980424869542,-0.07992244244264435,0.6065814812617375,0.7887815656606669,0.31893393434615536,0.1922049612117961,0.48598574731839084,0.7518669463734747,0.5637388398268207,0.7371553398856019,0.5220471976225985,0.5337184114422434,0.6825979195645114,0.6031570500766018,0.8399132825292003,0.814726072562905,0.7346114597993115,0.5729741056919315,0.723830424497349,0.564693451849037,0.5013774307038358,0.6645650633896382,0.650512438534789,0.43418729429153524,0.2726227948557458,0.5933285620772726,0.42532008547974864,0.6251190932808541,0.5376004670699739,0.7068016142143217,0.6803606055261413,0.6213759387184441,0.9408632688569241,0.37092712023499474,0.5117762571559299,0.4316926337237844,0.6472943626923361,0.5305754305092004,0.583537883440172,0.6803024925707671,0.6028666495951306,0.6442939537633295,0.7734891927927431,0.6634751511508615,0.7792729729146205,0.6870577552760865,0.5690155638878525,0.7020492828850308,0.7669704318909923,0.8041995518861399,0.4157618193222815,0.5201705260888064,0.5331555157491081,0.4199232910329048,0.6982519162698991,0.6452638115738947,0.8726079629964825,0.5431327202798653,0.9274953687915785,0.7580333757309222,0.8447036677419426,0.45691495766914236,0.6529018539457206,0.3595791196148624,0.8717145107765997,0.5182304433841715,0.9657148355727273,0.8181561044258691,0.8011882454738862,0.6613949017283889,0.4967907621639802,0.2353272033442021,0.8437006935276729,0.6089515658177221,0.5490295190697267,0.701054439557243,0.5077298721540108,0.6283316345520237,0.32520254904686097,0.4021724886850251,0.37550322196232877,0.4924488141263654,0.32456993387930144,0.401849823175901,0.7447248362592183,1.0884659631885842,0.7278878717922129,0.6082527654697948,0.9447500635965026,0.7562282428963506,0.4333489034249267,0.5021868588650629,0.6853033933280442,1.1078052454634126,0.8192419113245998,0.5543455113524846,0.8400868125433192,0.4106970567515874,0.9542679780738309,0.8082764945828075,0.47063583776228224,0.6801279195664555,0.38653538442969715,0.6112201342001099,0.7834414004250102,0.8758685340298105,0.5070005881980018,0.45997377241646653,0.5667561368598418,0.5628120694121852,0.550106378789313,0.7338926928419405,0.6699502990638696,0.4840772549323137,0.4531851586532615,0.8278880858474119,0.48650510857697526,0.8242392736830196,0.555992073135849,0.6060133103756632,0.5467544629988433,0.33322938652684886,0.575987767554541,0.5738324381622363,0.39152499743956637,0.10447547542998592,0.8867266266532267,0.5462109985641359,0.9825358100880336,0.7065869266807178,0.8951308361298413,0.3052028694419531,0.2338409113682095,0.6056497466906395,0.796974136224948,0.7368039858968466,0.45498695261525673,0.5234005604504041,0.868928462564785,0.8730714881708136,0.7004027517778435,0.9877941827339883,0.6067020732284122,0.6288819048440478,0.6473898263799581,0.6054175271792851,0.783290787421178,0.7663723572945799,0.6102110016225878,0.40328898125689816,0.7593251442735433,0.7250317834710027,1.0856800992737368,0.9455906293367374,0.607767330670836,0.8635904028296911,0.3799751956752656,0.6666629727514217,0.9774468818991241,0.6349714164911768,0.4573028236126012,0.6370850547324827,0.41532353901363095,0.740711353585075,0.6561837354386842,0.7571584234808699,0.7804103357288052,0.6925729390068284,0.9094520384354506,0.2643034467989488,0.1078742285779899,1.0035955977691304,0.5313645436040185,0.2852158232380626,0.7649864080613172,0.7047026161072812,0.5602143418198028,0.8467839342817846,0.8800607402835774,0.9680942968369116,0.7085743984014682,0.9700879934968368,0.48775679203886724,0.829953193289445,0.6315307993122732,0.6237813752818527,0.5208056757660386,0.885532988909069,0.774835990151837,0.8789250030226043,0.5554212710684802,0.662551197370273,0.6146209722764384,0.5107049454454663,0.9143939865835347,0.7246838365742393,0.7100888483701467,0.69472482180071,0.8423233084024602,0.7831040672948056,0.5238998859043108,1.0620000427458272,0.6940814039097998,0.5743156921534694,0.9573114334181679,0.7700393355575987,0.2993411738974078,0.6834297525003726,0.580074810812548,0.5307134435848624,0.37351074651422916,0.7076549154771222,0.7864041806432028,0.22837052466082186,0.8030793814167422,0.5667561549792959,0.728007781448297,1.157596942568488,0.6085301783206979,0.7204917651492534,0.5468769176029502,0.5596223271577291,0.7602641850626266,0.6331608674806307,0.5167312068218327,0.5019772877978835,0.2552015051851938,0.4970810716320311,0.5522143906381519,0.2201239767622719,0.8280058146414039,0.9542222175946401,0.8488911203623899,0.6555520255541881,0.5141811792917498,0.7073945332460988,0.8964939733294809,0.35418564161821353,0.532046406566989,0.8553706526590816,0.6392213547530295,0.6935919701293383,0.7209892693201412,0.4583576641904855,0.39654460927314406,0.4750076369484586,1.0202938916892759,0.9117698891085347,0.313652081431824,0.997893391544886,0.5604600908012011,0.2707800558179282,0.8331802010451315,0.62902743391073,0.9512353160930765,0.5372772925935032,0.28832682427406364,0.1839310079693931,0.37388512681952235,0.3664546870286175,0.5454629318978549,0.42461965639532095,0.2654358701009375,0.740719337321769,0.49617621109706966,0.27747319191247743,0.7913128195835623,0.12021412225520967,0.6337343717718346,0.4833480350217645,0.6888728719220454,0.646763854485344,0.617654750648032,0.6279519752636142,0.35518709964482675,0.6708243630166967,0.7227714834073381,0.2873838995378528,0.40770269551024796,0.6946648857087491,0.6315080865132613,0.5595238733849275,0.6209686920446423,0.4839541028106755,0.8216807644514098,0.5914410266416554,0.28474482875183316,0.7952001708304165,0.5399123270491848,0.4977334360587048,0.7142699493056761,0.6360515399398929,0.1946933395350976,0.38496243447109213,0.2729234921240503,0.5220471736921345,0.554835937567517,0.38664680482323976,0.691709637071458,0.4978025103861038,0.6621315542539478,0.5754787881419942,0.8301407612963463,0.41220690863663867,0.19854189351008333,0.6851745161186117,0.7058285334320694,0.7977236071390612,0.6629265186065204,0.37126650428687746,0.7797160296483627,0.5544429971155912,0.8437847666157338,0.836839855777412,0.5162225081422774,0.3353151242978288,0.42050067674677216,0.5070679005293869,0.8996719588471368,0.47549697148226505,0.4914427866318064,0.5940795086171976,0.9239749347504731,0.7587543743256107,0.46904951320461985,0.28276541897656593,0.6047168079997746,0.5930835153289759,0.27471598541680775,0.33204215671745374,0.5670204018454207,0.5929721121378292,0.3672146234490906,0.5177705479155482,0.39323530823407493,0.5685888538693834,0.14149730065751898,0.6372019502719659,1.0287485270858077,0.6128715060563911,0.45232861772081057,0.7664653609268539,0.7986323474594029,0.538143074944783,0.46194480027266793,0.07920344862219453,0.8095883388481112,0.30392385770125807,0.5283474718068705,0.3882138456628217,0.3620550791568843,0.45105014460861725,0.4743249504228991,0.7795496183458311,0.5890645341575688,0.5926851324389811,0.37177181036458473,0.7241531666336741,0.5070545809101296,0.7166952526268106,0.813629152065098,0.5304612240688216,0.6059480096763886,0.5705542660191762,0.6581441513941989,0.45920885061579153,0.42015370238487615,0.43166500653909284,0.8309268835084319,0.534013133800891,0.700202887789182,0.4490772308008212,0.8038744048138985,0.5433652248088116,0.6381439439351602,0.5722116792523096,0.5266040926846668,0.7050257989532803,0.5967383653150912,0.3776635946095577,0.40349206074356536,0.6981410173871457,0.5625863836336035,0.3769697923842475,0.7516417447500854,0.358726715464296,0.5137517334154572,0.7223135387674501,0.25101820317253487,0.47591499694801465,0.6184609237050144,0.5838217198537973,0.5008579056494121,0.5068631106392437,0.36024702743160075,0.7464808450705089,0.28201419861724186,0.7911713974377305,0.5100836601268735,0.6771189303156243,0.881697428408425,0.6646598906752595,0.28663471009625474,0.32871668923681285,0.3513271024380993,0.7135692645976249,0.7165139473910286,0.4626803496315701,0.5597685365271686,0.45850623785491773,0.6196880132430229,0.6309344261770894,0.7923371914873053,0.7619050609848371,0.5862996248891582,0.16964857220740492,0.8637790643822997,0.4330937982453541,0.2879488072551889,0.6705548190116997,0.5849669004690002,0.73806824005432,0.613374124994104,0.6591488168075049,0.49334183354621197,0.5256325044845088,0.3008023058777175,0.30191504832269833,0.8229609555176004,0.652091415901637,0.5009857761561495,0.2817053565075694,0.6955420777165856,0.34892103849997314,0.37581398642171704,0.4570394361823027,0.5739396792552236,0.849980803536597,0.7615950257206497,0.41865319890089114,0.40711198495944256,0.21406711532652023,0.6762940495309828,0.3450816874921223,0.42766301372107884,0.4467271857076801,0.3120801129595666,0.7056674384742071,0.5161197193778605,0.9752284367811823,0.7142643902644424,0.5667427443806669,0.7496811788559481,0.634646933973306,0.47569656638554336,0.23294060385694693,0.5675220366894081,0.5129462192663538,0.5798640618835816,0.791137365556866,0.443160360549392,0.3533882289223528,0.7997316354378006,0.7843450686174748,0.6875229032240145,0.44190854041515715,0.31944439007764946,0.49230869328758764,0.5621166627155101,0.7170230129175842,0.10542737758547271,0.9248916481726535,0.3775092760165647,0.6608849598930191,0.5968493250341113,0.5537520552691925,0.6282808190927759,0.22717011132026677,0.8478945074465567,0.5746792259588455,0.6636097462628031,0.48156868451338253,0.434343244792771,0.28186184402646763,0.5542126267450382,0.6312707945499269,0.31358380653526485,0.5014977458500012,0.7935497402230521,0.4718493719326989,0.7506252605272639,0.576436155687283,0.6136161161601467,0.2566301370976677,0.6289755188280127,1.052816032851279,0.7171457243155973,1.009746437004258,0.36672110669736,0.7575121973528827,0.5325986320306523,0.47408397658947654,0.6950951658200136,0.5990784945185273,0.674007269810047,0.4565597450130625],\"type\":\"scatter\",\"xaxis\":\"x\",\"yaxis\":\"y2\"}],                        {\"template\":{\"data\":{\"histogram2dcontour\":[{\"type\":\"histogram2dcontour\",\"colorbar\":{\"outlinewidth\":0,\"ticks\":\"\"},\"colorscale\":[[0.0,\"#0d0887\"],[0.1111111111111111,\"#46039f\"],[0.2222222222222222,\"#7201a8\"],[0.3333333333333333,\"#9c179e\"],[0.4444444444444444,\"#bd3786\"],[0.5555555555555556,\"#d8576b\"],[0.6666666666666666,\"#ed7953\"],[0.7777777777777778,\"#fb9f3a\"],[0.8888888888888888,\"#fdca26\"],[1.0,\"#f0f921\"]]}],\"choropleth\":[{\"type\":\"choropleth\",\"colorbar\":{\"outlinewidth\":0,\"ticks\":\"\"}}],\"histogram2d\":[{\"type\":\"histogram2d\",\"colorbar\":{\"outlinewidth\":0,\"ticks\":\"\"},\"colorscale\":[[0.0,\"#0d0887\"],[0.1111111111111111,\"#46039f\"],[0.2222222222222222,\"#7201a8\"],[0.3333333333333333,\"#9c179e\"],[0.4444444444444444,\"#bd3786\"],[0.5555555555555556,\"#d8576b\"],[0.6666666666666666,\"#ed7953\"],[0.7777777777777778,\"#fb9f3a\"],[0.8888888888888888,\"#fdca26\"],[1.0,\"#f0f921\"]]}],\"heatmap\":[{\"type\":\"heatmap\",\"colorbar\":{\"outlinewidth\":0,\"ticks\":\"\"},\"colorscale\":[[0.0,\"#0d0887\"],[0.1111111111111111,\"#46039f\"],[0.2222222222222222,\"#7201a8\"],[0.3333333333333333,\"#9c179e\"],[0.4444444444444444,\"#bd3786\"],[0.5555555555555556,\"#d8576b\"],[0.6666666666666666,\"#ed7953\"],[0.7777777777777778,\"#fb9f3a\"],[0.8888888888888888,\"#fdca26\"],[1.0,\"#f0f921\"]]}],\"heatmapgl\":[{\"type\":\"heatmapgl\",\"colorbar\":{\"outlinewidth\":0,\"ticks\":\"\"},\"colorscale\":[[0.0,\"#0d0887\"],[0.1111111111111111,\"#46039f\"],[0.2222222222222222,\"#7201a8\"],[0.3333333333333333,\"#9c179e\"],[0.4444444444444444,\"#bd3786\"],[0.5555555555555556,\"#d8576b\"],[0.6666666666666666,\"#ed7953\"],[0.7777777777777778,\"#fb9f3a\"],[0.8888888888888888,\"#fdca26\"],[1.0,\"#f0f921\"]]}],\"contourcarpet\":[{\"type\":\"contourcarpet\",\"colorbar\":{\"outlinewidth\":0,\"ticks\":\"\"}}],\"contour\":[{\"type\":\"contour\",\"colorbar\":{\"outlinewidth\":0,\"ticks\":\"\"},\"colorscale\":[[0.0,\"#0d0887\"],[0.1111111111111111,\"#46039f\"],[0.2222222222222222,\"#7201a8\"],[0.3333333333333333,\"#9c179e\"],[0.4444444444444444,\"#bd3786\"],[0.5555555555555556,\"#d8576b\"],[0.6666666666666666,\"#ed7953\"],[0.7777777777777778,\"#fb9f3a\"],[0.8888888888888888,\"#fdca26\"],[1.0,\"#f0f921\"]]}],\"surface\":[{\"type\":\"surface\",\"colorbar\":{\"outlinewidth\":0,\"ticks\":\"\"},\"colorscale\":[[0.0,\"#0d0887\"],[0.1111111111111111,\"#46039f\"],[0.2222222222222222,\"#7201a8\"],[0.3333333333333333,\"#9c179e\"],[0.4444444444444444,\"#bd3786\"],[0.5555555555555556,\"#d8576b\"],[0.6666666666666666,\"#ed7953\"],[0.7777777777777778,\"#fb9f3a\"],[0.8888888888888888,\"#fdca26\"],[1.0,\"#f0f921\"]]}],\"mesh3d\":[{\"type\":\"mesh3d\",\"colorbar\":{\"outlinewidth\":0,\"ticks\":\"\"}}],\"scatter\":[{\"fillpattern\":{\"fillmode\":\"overlay\",\"size\":10,\"solidity\":0.2},\"type\":\"scatter\"}],\"parcoords\":[{\"type\":\"parcoords\",\"line\":{\"colorbar\":{\"outlinewidth\":0,\"ticks\":\"\"}}}],\"scatterpolargl\":[{\"type\":\"scatterpolargl\",\"marker\":{\"colorbar\":{\"outlinewidth\":0,\"ticks\":\"\"}}}],\"bar\":[{\"error_x\":{\"color\":\"#2a3f5f\"},\"error_y\":{\"color\":\"#2a3f5f\"},\"marker\":{\"line\":{\"color\":\"#E5ECF6\",\"width\":0.5},\"pattern\":{\"fillmode\":\"overlay\",\"size\":10,\"solidity\":0.2}},\"type\":\"bar\"}],\"scattergeo\":[{\"type\":\"scattergeo\",\"marker\":{\"colorbar\":{\"outlinewidth\":0,\"ticks\":\"\"}}}],\"scatterpolar\":[{\"type\":\"scatterpolar\",\"marker\":{\"colorbar\":{\"outlinewidth\":0,\"ticks\":\"\"}}}],\"histogram\":[{\"marker\":{\"pattern\":{\"fillmode\":\"overlay\",\"size\":10,\"solidity\":0.2}},\"type\":\"histogram\"}],\"scattergl\":[{\"type\":\"scattergl\",\"marker\":{\"colorbar\":{\"outlinewidth\":0,\"ticks\":\"\"}}}],\"scatter3d\":[{\"type\":\"scatter3d\",\"line\":{\"colorbar\":{\"outlinewidth\":0,\"ticks\":\"\"}},\"marker\":{\"colorbar\":{\"outlinewidth\":0,\"ticks\":\"\"}}}],\"scattermapbox\":[{\"type\":\"scattermapbox\",\"marker\":{\"colorbar\":{\"outlinewidth\":0,\"ticks\":\"\"}}}],\"scatterternary\":[{\"type\":\"scatterternary\",\"marker\":{\"colorbar\":{\"outlinewidth\":0,\"ticks\":\"\"}}}],\"scattercarpet\":[{\"type\":\"scattercarpet\",\"marker\":{\"colorbar\":{\"outlinewidth\":0,\"ticks\":\"\"}}}],\"carpet\":[{\"aaxis\":{\"endlinecolor\":\"#2a3f5f\",\"gridcolor\":\"white\",\"linecolor\":\"white\",\"minorgridcolor\":\"white\",\"startlinecolor\":\"#2a3f5f\"},\"baxis\":{\"endlinecolor\":\"#2a3f5f\",\"gridcolor\":\"white\",\"linecolor\":\"white\",\"minorgridcolor\":\"white\",\"startlinecolor\":\"#2a3f5f\"},\"type\":\"carpet\"}],\"table\":[{\"cells\":{\"fill\":{\"color\":\"#EBF0F8\"},\"line\":{\"color\":\"white\"}},\"header\":{\"fill\":{\"color\":\"#C8D4E3\"},\"line\":{\"color\":\"white\"}},\"type\":\"table\"}],\"barpolar\":[{\"marker\":{\"line\":{\"color\":\"#E5ECF6\",\"width\":0.5},\"pattern\":{\"fillmode\":\"overlay\",\"size\":10,\"solidity\":0.2}},\"type\":\"barpolar\"}],\"pie\":[{\"automargin\":true,\"type\":\"pie\"}]},\"layout\":{\"autotypenumbers\":\"strict\",\"colorway\":[\"#636efa\",\"#EF553B\",\"#00cc96\",\"#ab63fa\",\"#FFA15A\",\"#19d3f3\",\"#FF6692\",\"#B6E880\",\"#FF97FF\",\"#FECB52\"],\"font\":{\"color\":\"#2a3f5f\"},\"hovermode\":\"closest\",\"hoverlabel\":{\"align\":\"left\"},\"paper_bgcolor\":\"white\",\"plot_bgcolor\":\"#E5ECF6\",\"polar\":{\"bgcolor\":\"#E5ECF6\",\"angularaxis\":{\"gridcolor\":\"white\",\"linecolor\":\"white\",\"ticks\":\"\"},\"radialaxis\":{\"gridcolor\":\"white\",\"linecolor\":\"white\",\"ticks\":\"\"}},\"ternary\":{\"bgcolor\":\"#E5ECF6\",\"aaxis\":{\"gridcolor\":\"white\",\"linecolor\":\"white\",\"ticks\":\"\"},\"baxis\":{\"gridcolor\":\"white\",\"linecolor\":\"white\",\"ticks\":\"\"},\"caxis\":{\"gridcolor\":\"white\",\"linecolor\":\"white\",\"ticks\":\"\"}},\"coloraxis\":{\"colorbar\":{\"outlinewidth\":0,\"ticks\":\"\"}},\"colorscale\":{\"sequential\":[[0.0,\"#0d0887\"],[0.1111111111111111,\"#46039f\"],[0.2222222222222222,\"#7201a8\"],[0.3333333333333333,\"#9c179e\"],[0.4444444444444444,\"#bd3786\"],[0.5555555555555556,\"#d8576b\"],[0.6666666666666666,\"#ed7953\"],[0.7777777777777778,\"#fb9f3a\"],[0.8888888888888888,\"#fdca26\"],[1.0,\"#f0f921\"]],\"sequentialminus\":[[0.0,\"#0d0887\"],[0.1111111111111111,\"#46039f\"],[0.2222222222222222,\"#7201a8\"],[0.3333333333333333,\"#9c179e\"],[0.4444444444444444,\"#bd3786\"],[0.5555555555555556,\"#d8576b\"],[0.6666666666666666,\"#ed7953\"],[0.7777777777777778,\"#fb9f3a\"],[0.8888888888888888,\"#fdca26\"],[1.0,\"#f0f921\"]],\"diverging\":[[0,\"#8e0152\"],[0.1,\"#c51b7d\"],[0.2,\"#de77ae\"],[0.3,\"#f1b6da\"],[0.4,\"#fde0ef\"],[0.5,\"#f7f7f7\"],[0.6,\"#e6f5d0\"],[0.7,\"#b8e186\"],[0.8,\"#7fbc41\"],[0.9,\"#4d9221\"],[1,\"#276419\"]]},\"xaxis\":{\"gridcolor\":\"white\",\"linecolor\":\"white\",\"ticks\":\"\",\"title\":{\"standoff\":15},\"zerolinecolor\":\"white\",\"automargin\":true,\"zerolinewidth\":2},\"yaxis\":{\"gridcolor\":\"white\",\"linecolor\":\"white\",\"ticks\":\"\",\"title\":{\"standoff\":15},\"zerolinecolor\":\"white\",\"automargin\":true,\"zerolinewidth\":2},\"scene\":{\"xaxis\":{\"backgroundcolor\":\"#E5ECF6\",\"gridcolor\":\"white\",\"linecolor\":\"white\",\"showbackground\":true,\"ticks\":\"\",\"zerolinecolor\":\"white\",\"gridwidth\":2},\"yaxis\":{\"backgroundcolor\":\"#E5ECF6\",\"gridcolor\":\"white\",\"linecolor\":\"white\",\"showbackground\":true,\"ticks\":\"\",\"zerolinecolor\":\"white\",\"gridwidth\":2},\"zaxis\":{\"backgroundcolor\":\"#E5ECF6\",\"gridcolor\":\"white\",\"linecolor\":\"white\",\"showbackground\":true,\"ticks\":\"\",\"zerolinecolor\":\"white\",\"gridwidth\":2}},\"shapedefaults\":{\"line\":{\"color\":\"#2a3f5f\"}},\"annotationdefaults\":{\"arrowcolor\":\"#2a3f5f\",\"arrowhead\":0,\"arrowwidth\":1},\"geo\":{\"bgcolor\":\"white\",\"landcolor\":\"#E5ECF6\",\"subunitcolor\":\"white\",\"showland\":true,\"showlakes\":true,\"lakecolor\":\"white\"},\"title\":{\"x\":0.05},\"mapbox\":{\"style\":\"light\"}}},\"xaxis\":{\"anchor\":\"y\",\"domain\":[0.0,0.94],\"title\":{\"text\":\"Couple of sentences\"}},\"yaxis\":{\"anchor\":\"x\",\"domain\":[0.0,1.0]},\"yaxis2\":{\"anchor\":\"x\",\"overlaying\":\"y\",\"side\":\"right\",\"title\":{\"text\":\"Prediction\"}},\"title\":{\"text\":\"Results\"}},                        {\"responsive\": true}                    ).then(function(){\n",
              "                            \n",
              "var gd = document.getElementById('ec8c017c-57bd-46f6-a31c-5f85058e63f4');\n",
              "var x = new MutationObserver(function (mutations, observer) {{\n",
              "        var display = window.getComputedStyle(gd).display;\n",
              "        if (!display || display === 'none') {{\n",
              "            console.log([gd, 'removed!']);\n",
              "            Plotly.purge(gd);\n",
              "            observer.disconnect();\n",
              "        }}\n",
              "}});\n",
              "\n",
              "// Listen for the removal of the full notebook cells\n",
              "var notebookContainer = gd.closest('#notebook-container');\n",
              "if (notebookContainer) {{\n",
              "    x.observe(notebookContainer, {childList: true});\n",
              "}}\n",
              "\n",
              "// Listen for the clearing of the current output cell\n",
              "var outputEl = gd.closest('.output');\n",
              "if (outputEl) {{\n",
              "    x.observe(outputEl, {childList: true});\n",
              "}}\n",
              "\n",
              "                        })                };                            </script>        </div>\n",
              "</body>\n",
              "</html>"
            ]
          },
          "metadata": {}
        }
      ]
    },
    {
      "cell_type": "code",
      "source": [
        "from sklearn import linear_model\n",
        "from sklearn.linear_model import BayesianRidge\n",
        "model = linear_model.BayesianRidge()\n",
        "model.fit(X_train, y_train)"
      ],
      "metadata": {
        "colab": {
          "base_uri": "https://localhost:8080/",
          "height": 75
        },
        "id": "paQqCjdvzGG5",
        "outputId": "a3effa68-bc6a-4c2f-d80f-d600d31c4d28"
      },
      "execution_count": 42,
      "outputs": [
        {
          "output_type": "execute_result",
          "data": {
            "text/plain": [
              "BayesianRidge()"
            ],
            "text/html": [
              "<style>#sk-container-id-4 {color: black;background-color: white;}#sk-container-id-4 pre{padding: 0;}#sk-container-id-4 div.sk-toggleable {background-color: white;}#sk-container-id-4 label.sk-toggleable__label {cursor: pointer;display: block;width: 100%;margin-bottom: 0;padding: 0.3em;box-sizing: border-box;text-align: center;}#sk-container-id-4 label.sk-toggleable__label-arrow:before {content: \"▸\";float: left;margin-right: 0.25em;color: #696969;}#sk-container-id-4 label.sk-toggleable__label-arrow:hover:before {color: black;}#sk-container-id-4 div.sk-estimator:hover label.sk-toggleable__label-arrow:before {color: black;}#sk-container-id-4 div.sk-toggleable__content {max-height: 0;max-width: 0;overflow: hidden;text-align: left;background-color: #f0f8ff;}#sk-container-id-4 div.sk-toggleable__content pre {margin: 0.2em;color: black;border-radius: 0.25em;background-color: #f0f8ff;}#sk-container-id-4 input.sk-toggleable__control:checked~div.sk-toggleable__content {max-height: 200px;max-width: 100%;overflow: auto;}#sk-container-id-4 input.sk-toggleable__control:checked~label.sk-toggleable__label-arrow:before {content: \"▾\";}#sk-container-id-4 div.sk-estimator input.sk-toggleable__control:checked~label.sk-toggleable__label {background-color: #d4ebff;}#sk-container-id-4 div.sk-label input.sk-toggleable__control:checked~label.sk-toggleable__label {background-color: #d4ebff;}#sk-container-id-4 input.sk-hidden--visually {border: 0;clip: rect(1px 1px 1px 1px);clip: rect(1px, 1px, 1px, 1px);height: 1px;margin: -1px;overflow: hidden;padding: 0;position: absolute;width: 1px;}#sk-container-id-4 div.sk-estimator {font-family: monospace;background-color: #f0f8ff;border: 1px dotted black;border-radius: 0.25em;box-sizing: border-box;margin-bottom: 0.5em;}#sk-container-id-4 div.sk-estimator:hover {background-color: #d4ebff;}#sk-container-id-4 div.sk-parallel-item::after {content: \"\";width: 100%;border-bottom: 1px solid gray;flex-grow: 1;}#sk-container-id-4 div.sk-label:hover label.sk-toggleable__label {background-color: #d4ebff;}#sk-container-id-4 div.sk-serial::before {content: \"\";position: absolute;border-left: 1px solid gray;box-sizing: border-box;top: 0;bottom: 0;left: 50%;z-index: 0;}#sk-container-id-4 div.sk-serial {display: flex;flex-direction: column;align-items: center;background-color: white;padding-right: 0.2em;padding-left: 0.2em;position: relative;}#sk-container-id-4 div.sk-item {position: relative;z-index: 1;}#sk-container-id-4 div.sk-parallel {display: flex;align-items: stretch;justify-content: center;background-color: white;position: relative;}#sk-container-id-4 div.sk-item::before, #sk-container-id-4 div.sk-parallel-item::before {content: \"\";position: absolute;border-left: 1px solid gray;box-sizing: border-box;top: 0;bottom: 0;left: 50%;z-index: -1;}#sk-container-id-4 div.sk-parallel-item {display: flex;flex-direction: column;z-index: 1;position: relative;background-color: white;}#sk-container-id-4 div.sk-parallel-item:first-child::after {align-self: flex-end;width: 50%;}#sk-container-id-4 div.sk-parallel-item:last-child::after {align-self: flex-start;width: 50%;}#sk-container-id-4 div.sk-parallel-item:only-child::after {width: 0;}#sk-container-id-4 div.sk-dashed-wrapped {border: 1px dashed gray;margin: 0 0.4em 0.5em 0.4em;box-sizing: border-box;padding-bottom: 0.4em;background-color: white;}#sk-container-id-4 div.sk-label label {font-family: monospace;font-weight: bold;display: inline-block;line-height: 1.2em;}#sk-container-id-4 div.sk-label-container {text-align: center;}#sk-container-id-4 div.sk-container {/* jupyter's `normalize.less` sets `[hidden] { display: none; }` but bootstrap.min.css set `[hidden] { display: none !important; }` so we also need the `!important` here to be able to override the default hidden behavior on the sphinx rendered scikit-learn.org. See: https://github.com/scikit-learn/scikit-learn/issues/21755 */display: inline-block !important;position: relative;}#sk-container-id-4 div.sk-text-repr-fallback {display: none;}</style><div id=\"sk-container-id-4\" class=\"sk-top-container\"><div class=\"sk-text-repr-fallback\"><pre>BayesianRidge()</pre><b>In a Jupyter environment, please rerun this cell to show the HTML representation or trust the notebook. <br />On GitHub, the HTML representation is unable to render, please try loading this page with nbviewer.org.</b></div><div class=\"sk-container\" hidden><div class=\"sk-item\"><div class=\"sk-estimator sk-toggleable\"><input class=\"sk-toggleable__control sk-hidden--visually\" id=\"sk-estimator-id-4\" type=\"checkbox\" checked><label for=\"sk-estimator-id-4\" class=\"sk-toggleable__label sk-toggleable__label-arrow\">BayesianRidge</label><div class=\"sk-toggleable__content\"><pre>BayesianRidge()</pre></div></div></div></div></div>"
            ]
          },
          "metadata": {},
          "execution_count": 42
        }
      ]
    },
    {
      "cell_type": "code",
      "source": [
        "y_pred = model.predict(x_test)"
      ],
      "metadata": {
        "id": "RdeCloCw1mo6"
      },
      "execution_count": 43,
      "outputs": []
    },
    {
      "cell_type": "code",
      "source": [
        "#print(\"MAE train: \", metrics.mean_absolute_error(y_train, model.predict(X_train))) \n",
        "print(\"MSE train: \",metrics.mean_squared_error(y_train, model.predict(X_train)))\n",
        "print(\"RMSE train: \",np.sqrt(metrics.mean_squared_error(y_train, model.predict(X_train))))\n",
        "print(\"r2: \",metrics.r2_score(y_train, model.predict(X_train)))\n",
        "\n",
        "#print(\"MAE test: \", metrics.mean_absolute_error(y_test, model.predict(x_test))) \n",
        "print(\"MSE test: \",metrics.mean_squared_error(y_test, model.predict(x_test)))\n",
        "print(\"RMSE test: \",np.sqrt(metrics.mean_squared_error(y_test, model.predict(x_test))))\n",
        "print(\"r2: \", metrics.r2_score(y_test, model.predict(x_test)))"
      ],
      "metadata": {
        "colab": {
          "base_uri": "https://localhost:8080/"
        },
        "id": "iUmkDGPVKU1F",
        "outputId": "b4116a85-8bea-45b7-ae11-00c2043d2ff5"
      },
      "execution_count": 44,
      "outputs": [
        {
          "output_type": "stream",
          "name": "stdout",
          "text": [
            "MSE train:  0.07442695958787916\n",
            "RMSE train:  0.27281304878593904\n",
            "r2:  0.1482939059756706\n",
            "MSE test:  0.08763520083744296\n",
            "RMSE test:  0.29603243207027663\n",
            "r2:  0.05789493960788039\n"
          ]
        }
      ]
    },
    {
      "cell_type": "code",
      "source": [
        "import plotly.graph_objects as go\n",
        "from plotly.subplots import make_subplots\n",
        "\n",
        "fig = make_subplots(specs=[[{\"secondary_y\": True}]])\n",
        "x_ax=np.array(range(0,len(y_test)))\n",
        "fig.add_trace(\n",
        "    go.Scatter(x=x_ax, y=y_test, name=\"True\"),\n",
        "    secondary_y=True,)\n",
        "fig.add_trace(\n",
        "    go.Scatter(x=x_ax, y=y_pred, name=\"Predicition\"),\n",
        "    secondary_y=True,)\n",
        "fig.update_layout(\n",
        "    title_text=\"Results\")\n",
        "fig.update_xaxes(title_text=\"Couple of sentences\")\n",
        "fig.update_yaxes(title_text=\"True\", secondary_y=True)\n",
        "fig.update_yaxes(title_text=\"Prediction\", secondary_y=True)\n",
        "\n",
        "fig.show()"
      ],
      "metadata": {
        "colab": {
          "base_uri": "https://localhost:8080/",
          "height": 542
        },
        "id": "oA6M66yF6wRL",
        "outputId": "6c526c2e-639b-449d-8ce9-84ecd86837bb"
      },
      "execution_count": 45,
      "outputs": [
        {
          "output_type": "display_data",
          "data": {
            "text/html": [
              "<html>\n",
              "<head><meta charset=\"utf-8\" /></head>\n",
              "<body>\n",
              "    <div>            <script src=\"https://cdnjs.cloudflare.com/ajax/libs/mathjax/2.7.5/MathJax.js?config=TeX-AMS-MML_SVG\"></script><script type=\"text/javascript\">if (window.MathJax && window.MathJax.Hub && window.MathJax.Hub.Config) {window.MathJax.Hub.Config({SVG: {font: \"STIX-Web\"}});}</script>                <script type=\"text/javascript\">window.PlotlyConfig = {MathJaxConfig: 'local'};</script>\n",
              "        <script src=\"https://cdn.plot.ly/plotly-2.18.2.min.js\"></script>                <div id=\"7074942b-cec9-41b4-a930-2d54a1ba5d90\" class=\"plotly-graph-div\" style=\"height:525px; width:100%;\"></div>            <script type=\"text/javascript\">                                    window.PLOTLYENV=window.PLOTLYENV || {};                                    if (document.getElementById(\"7074942b-cec9-41b4-a930-2d54a1ba5d90\")) {                    Plotly.newPlot(                        \"7074942b-cec9-41b4-a930-2d54a1ba5d90\",                        [{\"name\":\"True\",\"x\":[0,1,2,3,4,5,6,7,8,9,10,11,12,13,14,15,16,17,18,19,20,21,22,23,24,25,26,27,28,29,30,31,32,33,34,35,36,37,38,39,40,41,42,43,44,45,46,47,48,49,50,51,52,53,54,55,56,57,58,59,60,61,62,63,64,65,66,67,68,69,70,71,72,73,74,75,76,77,78,79,80,81,82,83,84,85,86,87,88,89,90,91,92,93,94,95,96,97,98,99,100,101,102,103,104,105,106,107,108,109,110,111,112,113,114,115,116,117,118,119,120,121,122,123,124,125,126,127,128,129,130,131,132,133,134,135,136,137,138,139,140,141,142,143,144,145,146,147,148,149,150,151,152,153,154,155,156,157,158,159,160,161,162,163,164,165,166,167,168,169,170,171,172,173,174,175,176,177,178,179,180,181,182,183,184,185,186,187,188,189,190,191,192,193,194,195,196,197,198,199,200,201,202,203,204,205,206,207,208,209,210,211,212,213,214,215,216,217,218,219,220,221,222,223,224,225,226,227,228,229,230,231,232,233,234,235,236,237,238,239,240,241,242,243,244,245,246,247,248,249,250,251,252,253,254,255,256,257,258,259,260,261,262,263,264,265,266,267,268,269,270,271,272,273,274,275,276,277,278,279,280,281,282,283,284,285,286,287,288,289,290,291,292,293,294,295,296,297,298,299,300,301,302,303,304,305,306,307,308,309,310,311,312,313,314,315,316,317,318,319,320,321,322,323,324,325,326,327,328,329,330,331,332,333,334,335,336,337,338,339,340,341,342,343,344,345,346,347,348,349,350,351,352,353,354,355,356,357,358,359,360,361,362,363,364,365,366,367,368,369,370,371,372,373,374,375,376,377,378,379,380,381,382,383,384,385,386,387,388,389,390,391,392,393,394,395,396,397,398,399,400,401,402,403,404,405,406,407,408,409,410,411,412,413,414,415,416,417,418,419,420,421,422,423,424,425,426,427,428,429,430,431,432,433,434,435,436,437,438,439,440,441,442,443,444,445,446,447,448,449,450,451,452,453,454,455,456,457,458,459,460,461,462,463,464,465,466,467,468,469,470,471,472,473,474,475,476,477,478,479,480,481,482,483,484,485,486,487,488,489,490,491,492,493,494,495,496,497,498,499,500,501,502,503,504,505,506,507,508,509,510,511,512,513,514,515,516,517,518,519,520,521,522,523,524,525,526,527,528,529,530,531,532,533,534,535,536,537,538,539,540,541,542,543,544,545,546,547,548,549,550,551,552,553,554,555,556,557,558,559,560,561,562,563,564,565,566,567,568,569,570,571,572,573,574,575,576,577,578,579,580,581,582,583,584,585,586,587,588,589,590,591,592,593,594,595,596,597,598,599,600,601,602,603,604,605,606,607,608,609,610,611,612,613,614,615,616,617,618,619,620,621,622,623,624,625,626,627,628,629,630,631,632,633,634,635,636,637,638,639,640,641,642,643,644,645,646,647,648,649,650,651,652,653,654,655,656,657,658,659,660,661,662,663,664,665,666,667,668,669,670,671,672,673,674,675,676,677,678,679,680,681,682,683,684,685,686,687,688,689,690,691,692,693,694,695,696,697,698,699,700,701,702,703,704,705,706,707,708,709,710,711,712,713,714,715,716,717,718,719,720,721,722,723,724,725,726,727,728,729,730,731,732,733,734,735,736,737,738,739,740,741,742,743,744,745,746,747,748,749,750,751,752,753,754,755,756,757,758,759,760,761,762,763,764,765,766,767,768,769,770,771,772,773,774,775,776,777,778,779,780,781,782,783,784,785,786,787,788,789,790,791,792,793,794,795,796,797,798,799,800,801,802,803,804,805,806,807,808,809,810,811,812,813,814,815,816,817,818,819,820,821,822,823,824,825,826,827,828,829,830,831,832,833,834,835,836,837,838,839,840,841,842,843,844,845,846,847,848,849,850,851,852,853,854,855,856,857,858,859,860,861,862,863,864,865,866,867,868,869,870,871,872,873,874,875,876,877,878,879,880,881,882,883,884,885,886,887,888,889,890,891,892,893,894,895,896,897,898,899,900,901,902,903,904,905,906,907,908,909,910,911,912,913,914,915,916,917,918,919,920,921,922,923,924,925,926,927,928,929,930,931,932,933,934,935,936,937,938,939,940,941,942,943,944,945,946,947,948,949,950,951,952,953,954,955,956,957,958,959,960,961,962,963,964,965,966,967,968,969,970,971,972,973,974,975,976,977,978,979,980,981,982,983,984,985,986,987,988,989,990,991,992,993,994,995,996,997,998,999,1000,1001,1002,1003,1004,1005,1006,1007,1008,1009,1010,1011,1012,1013,1014,1015,1016,1017,1018,1019,1020,1021,1022,1023,1024,1025,1026,1027,1028,1029,1030,1031,1032,1033,1034,1035,1036,1037,1038,1039,1040,1041,1042,1043,1044,1045,1046,1047,1048,1049,1050,1051,1052,1053,1054,1055,1056,1057,1058,1059,1060,1061,1062,1063,1064,1065,1066,1067,1068,1069,1070,1071,1072,1073,1074,1075,1076,1077,1078,1079,1080,1081,1082,1083,1084,1085,1086,1087,1088,1089,1090,1091,1092,1093,1094,1095,1096,1097,1098,1099,1100,1101,1102,1103,1104,1105,1106,1107,1108,1109,1110,1111,1112,1113,1114,1115,1116,1117,1118,1119,1120,1121,1122,1123,1124,1125,1126,1127,1128,1129,1130,1131,1132,1133,1134,1135,1136,1137,1138,1139,1140,1141,1142,1143,1144,1145,1146,1147,1148,1149,1150,1151,1152,1153,1154,1155,1156,1157,1158,1159,1160,1161,1162,1163,1164,1165,1166,1167,1168,1169,1170,1171,1172,1173,1174,1175,1176,1177,1178,1179,1180,1181,1182,1183,1184,1185,1186,1187,1188,1189,1190,1191,1192,1193,1194,1195,1196,1197,1198,1199,1200,1201,1202,1203,1204,1205,1206,1207,1208,1209,1210,1211,1212,1213,1214,1215,1216,1217,1218,1219,1220,1221,1222,1223,1224,1225,1226,1227,1228,1229,1230,1231,1232,1233,1234,1235,1236,1237,1238,1239,1240,1241,1242,1243,1244,1245,1246,1247,1248,1249,1250,1251,1252,1253,1254,1255,1256,1257,1258,1259,1260,1261,1262,1263,1264,1265,1266,1267,1268,1269,1270,1271,1272,1273,1274,1275,1276,1277,1278,1279,1280,1281,1282,1283,1284,1285,1286,1287,1288,1289,1290,1291,1292,1293,1294,1295,1296,1297,1298,1299,1300,1301,1302,1303,1304,1305,1306,1307,1308,1309,1310,1311,1312,1313,1314,1315,1316,1317,1318,1319,1320,1321,1322,1323,1324,1325,1326,1327,1328,1329,1330,1331,1332,1333,1334,1335,1336,1337,1338,1339,1340,1341,1342,1343,1344,1345,1346,1347,1348,1349,1350,1351,1352,1353,1354,1355,1356,1357,1358,1359,1360,1361,1362,1363,1364,1365,1366,1367,1368,1369,1370,1371,1372,1373,1374,1375,1376,1377,1378],\"y\":[0.5,0.7200000000000001,1.0,0.8400000000000001,0.30000000000000004,0.36000000000000004,0.7000000000000001,0.44000000000000006,0.44000000000000006,0.3428,0.3428,1.0,0.12,0.8800000000000001,0.4,0.36000000000000004,0.8800000000000001,0.7200000000000001,0.7200000000000001,0.24,0.48,0.04000000000000001,0.8400000000000001,0.8800000000000001,0.45,0.4,0.15000000000000002,0.44000000000000006,0.16000000000000003,0.44000000000000006,0.6400000000000001,0.96,0.27999999999999997,0.8500000000000001,0.68,0.10660000000000001,0.08000000000000002,0.24,1.0,0.10760000000000002,0.75,0.6000000000000001,0.7200000000000001,0.1,0.30000000000000004,0.16000000000000003,0.16000000000000003,0.12,0.8800000000000001,0.35000000000000003,0.08000000000000002,0.27999999999999997,0.08000000000000002,0.16000000000000003,0.4,0.026600000000000002,0.8,0.0534,0.68,0.24,1.0,0.0,0.76,0.15000000000000002,0.68,0.0,0.04000000000000001,0.8,0.1,0.76,0.48,0.9500000000000001,0.0,0.75,0.52,0.0,0.15000000000000002,0.0,0.76,0.5599999999999999,0.0,0.16000000000000003,0.6000000000000001,0.2,0.0,0.2,0.68,1.0,0.46660000000000007,0.27999999999999997,0.15000000000000002,0.7076,0.16000000000000003,0.7000000000000001,0.4,0.9500000000000001,0.8,0.9,0.30000000000000004,0.48,0.0,0.08000000000000002,0.5,0.52,0.7200000000000001,0.6000000000000001,0.0,0.32000000000000006,0.25,0.7200000000000001,0.4,0.7200000000000001,0.5599999999999999,0.8800000000000001,0.0,0.0,0.75,0.5,0.0,0.16000000000000003,0.2,0.0,0.05,0.08000000000000002,0.0,1.0,0.06,0.55,1.0,0.8500000000000001,0.68,0.32000000000000006,0.52,1.0,0.6400000000000001,0.96,1.0,0.48,0.4,1.0,1.0,0.68,0.9,0.8400000000000001,0.44000000000000006,0.48,0.76,0.5,0.4,0.15000000000000002,0.4,0.44000000000000006,0.8,0.6400000000000001,0.76,0.75,0.1,0.16000000000000003,1.0,0.24,1.0,0.5599999999999999,0.24,0.6400000000000001,0.9199999999999999,0.8,0.76,0.68,0.9199999999999999,0.52,0.36000000000000004,0.15000000000000002,0.8,0.55,0.76,0.52,0.4,0.76,0.1166,0.08000000000000002,0.05,0.5599999999999999,0.6400000000000001,0.1,0.45,0.0,0.0,0.0616,0.15000000000000002,0.08000000000000002,0.8400000000000001,0.75,0.32000000000000006,0.6000000000000001,0.8,0.6000000000000001,0.75,0.08000000000000002,0.0,0.6000000000000001,0.08000000000000002,0.08000000000000002,0.05,0.05,0.08000000000000002,0.08000000000000002,0.6400000000000001,0.0,0.44000000000000006,0.16000000000000003,0.16000000000000003,0.06,0.0,0.15000000000000002,0.46660000000000007,0.2666,0.24,0.8400000000000001,0.76,0.6000000000000001,0.1,0.0,0.0666,0.30000000000000004,0.033400000000000006,0.1,0.25,0.32000000000000006,0.0,0.2,0.0,0.0,0.8,0.55,0.6666000000000001,0.7000000000000001,0.0376,0.0,0.05,0.0728,0.6400000000000001,0.0,0.0,0.0,0.35000000000000003,0.0,0.55,0.36000000000000004,0.0,0.0,0.5599999999999999,0.8800000000000001,0.8,0.52,0.24,0.6400000000000001,0.16000000000000003,0.68,0.4,0.0,0.9199999999999999,0.8,0.76,0.8,0.5599999999999999,0.7200000000000001,0.36000000000000004,0.7200000000000001,0.24,1.0,0.8,0.0,0.68,0.8800000000000001,0.8400000000000001,1.0,0.04000000000000001,0.04000000000000001,0.8,0.52,0.12,0.24,0.76,0.8400000000000001,0.5599999999999999,0.8400000000000001,0.48,0.7200000000000001,0.76,0.12,0.96,0.24,0.48,0.8400000000000001,0.0,0.04000000000000001,0.68,0.6000000000000001,0.6400000000000001,0.6000000000000001,0.8800000000000001,0.36000000000000004,0.4,0.96,0.8,0.44000000000000006,0.8400000000000001,0.68,0.8400000000000001,0.68,0.48,0.2,0.32000000000000006,0.6400000000000001,0.68,0.8,0.6000000000000001,0.76,0.0,0.0,0.52,0.52,0.76,0.52,0.5599999999999999,0.0,0.52,0.9199999999999999,0.76,0.68,1.0,0.9199999999999999,0.6000000000000001,0.44000000000000006,0.76,0.44000000000000006,0.7200000000000001,0.8,0.08000000000000002,0.0,0.76,1.0,0.96,0.48,0.5599999999999999,0.27999999999999997,0.7200000000000001,0.0,0.8400000000000001,0.08000000000000002,0.76,0.8,0.24,0.8,0.6000000000000001,0.0,0.48,0.68,0.16000000000000003,0.8400000000000001,0.8800000000000001,0.8,0.36000000000000004,0.5599999999999999,1.0,0.0,0.04000000000000001,0.8,0.76,0.8800000000000001,0.6400000000000001,0.9199999999999999,0.0,0.2,0.16000000000000003,0.8,0.32000000000000006,0.0,0.68,0.2,0.8,0.6000000000000001,0.6000000000000001,0.15000000000000002,0.68,0.5599999999999999,0.96,0.27999999999999997,0.48,0.36000000000000004,0.96,0.27999999999999997,0.08000000000000002,0.266,0.48,0.08000000000000002,0.12,0.96,0.5599999999999999,0.4,0.52,0.0,0.48,0.8,0.8,0.8,0.0,0.6400000000000001,0.27999999999999997,0.7200000000000001,0.8800000000000001,1.0,0.36000000000000004,0.96,0.12,0.27999999999999997,0.04000000000000001,0.8400000000000001,0.9199999999999999,0.8,0.9199999999999999,0.36000000000000004,0.9199999999999999,0.04000000000000001,0.52,0.76,0.0,1.0,0.7200000000000001,0.9199999999999999,0.4,1.0,0.0,0.68,0.0,0.4,0.4,0.9199999999999999,0.6000000000000001,0.9199999999999999,0.4,0.52,0.08000000000000002,0.52,0.8400000000000001,0.0,0.44000000000000006,0.8,0.0,0.4,0.6000000000000001,0.52,0.0,0.0,0.96,0.6000000000000001,0.44000000000000006,0.8800000000000001,0.16000000000000003,0.68,0.0,0.12,0.0,0.48,0.68,0.8,0.4,0.8,0.96,0.12,0.48,0.8800000000000001,0.48,0.96,0.68,0.5599999999999999,0.16000000000000003,0.44000000000000006,0.76,0.08000000000000002,0.9199999999999999,0.6000000000000001,0.9199999999999999,0.16000000000000003,0.8,0.24,0.6400000000000001,0.7200000000000001,0.68,1.0,0.8,0.8,0.5599999999999999,0.76,0.52,0.4,0.16000000000000003,1.0,0.2,1.0,0.48,0.4,0.44000000000000006,0.68,0.16000000000000003,0.9199999999999999,0.5599999999999999,0.4,0.52,0.04000000000000001,0.27999999999999997,0.32000000000000006,0.6400000000000001,0.04000000000000001,0.48,0.04000000000000001,0.27999999999999997,0.36000000000000004,0.32000000000000006,0.76,0.2,0.24,0.8,0.4,0.52,0.76,0.52,0.04000000000000001,0.6000000000000001,0.36000000000000004,0.12,0.12,0.04000000000000001,0.12,0.04000000000000001,0.2,0.68,0.27999999999999997,0.4,0.5599999999999999,0.6400000000000001,0.16000000000000003,0.36000000000000004,0.44000000000000006,0.8400000000000001,1.0,0.24,0.5599999999999999,0.8800000000000001,0.8800000000000001,0.7200000000000001,0.24,0.27999999999999997,0.68,0.16000000000000003,0.5599999999999999,0.6400000000000001,0.32000000000000006,1.0,0.7200000000000001,0.7200000000000001,0.08000000000000002,0.36000000000000004,0.24,0.24,0.44000000000000006,1.0,0.52,0.0,0.5599999999999999,0.6400000000000001,0.32000000000000006,0.04000000000000001,0.76,0.8,0.5599999999999999,1.0,0.68,0.5599999999999999,0.27999999999999997,0.24,0.6400000000000001,0.6000000000000001,0.44000000000000006,0.4,0.76,0.32000000000000006,0.96,0.24,0.48,0.36000000000000004,0.52,0.76,0.24,0.04000000000000001,0.76,0.48,0.08000000000000002,0.68,0.8400000000000001,0.48,0.16000000000000003,0.8800000000000001,0.6000000000000001,0.4,0.6000000000000001,0.44000000000000006,0.36000000000000004,0.5599999999999999,0.5599999999999999,1.0,0.44000000000000006,0.24,0.32000000000000006,0.5599999999999999,0.36000000000000004,0.52,0.04000000000000001,0.48,0.8400000000000001,0.44000000000000006,0.32000000000000006,0.16000000000000003,1.0,0.24,0.6000000000000001,0.6000000000000001,0.0,0.0,0.4,0.0,1.0,0.6000000000000001,0.4,0.0,0.4,1.0,0.2,0.8,0.8,0.2,0.2,0.2,0.8,0.2,1.0,0.8,0.8,0.8,0.8,0.6000000000000001,0.8,0.0,0.0,0.2,0.8,1.0,0.4,0.8,0.0,0.4,0.2,0.0,0.4,1.0,0.2,0.6000000000000001,0.4,1.0,0.4,0.2,1.0,0.0,1.0,1.0,0.0,0.4,0.8,0.0,0.4,0.6000000000000001,0.0,0.6000000000000001,0.2,0.6000000000000001,0.4,0.8,0.0,0.8,0.8,0.4,0.4,1.0,0.4,0.4,0.0,0.4,0.0,0.4,0.8,0.8,0.2,0.8,0.8,0.4,0.4,0.4,0.0,0.6000000000000001,0.2,1.0,0.2,0.0,0.4,0.4,0.0,0.6000000000000001,0.6000000000000001,0.6000000000000001,1.0,1.0,0.8,0.2,0.0,1.0,0.0,0.8,1.0,0.6000000000000001,0.6000000000000001,0.6000000000000001,0.4,0.2,0.0,0.4,0.0,0.4,1.0,0.6000000000000001,0.6000000000000001,1.0,0.6000000000000001,0.4,0.2,0.2,1.0,0.2,0.4,0.8,0.0,0.4,0.2,0.6000000000000001,0.2,0.2,1.0,1.0,1.0,0.0,0.8,0.8,0.0,0.0,0.4,0.8,1.0,0.6000000000000001,0.6000000000000001,0.8,0.2,0.0,0.4,0.4,1.0,0.8,1.0,0.2,0.0,0.4,0.0,0.4,0.2,1.0,1.0,0.6000000000000001,0.0,0.0,0.4,1.0,0.2,0.6000000000000001,0.6000000000000001,0.4,0.2,0.2,0.4,0.4,0.8,0.0,0.2,0.2,0.4,0.4,0.0,0.2,1.0,0.4,0.4,1.0,0.4,1.0,0.0,0.8,0.8,0.8,0.0,0.4,0.4,1.0,0.4,0.6000000000000001,0.8,0.2,1.0,0.4,0.2,0.4,0.2,0.8,1.0,0.2,0.8,0.4,0.8,0.4,0.8,1.0,0.0,0.0,1.0,0.8,0.2,0.8,0.8,1.0,1.0,0.8,0.2,0.0,0.6000000000000001,0.8,0.6000000000000001,1.0,1.0,1.0,0.2,0.0,0.8,0.2,0.8,0.6000000000000001,1.0,1.0,0.0,0.2,0.0,0.0,0.0,0.0,0.8,1.0,0.2,0.2,0.8,0.2,1.0,0.6000000000000001,1.0,1.0,0.27999999999999997,0.7200000000000001,0.7000000000000001,0.6400000000000001,0.8,0.4,0.7200000000000001,0.8400000000000001,0.8,0.65,0.68,0.7334,0.75,0.24,0.76,0.68,0.6400000000000001,0.7200000000000001,0.6000000000000001,0.32000000000000006,0.6400000000000001,0.76,0.8400000000000001,0.6000000000000001,0.8,0.9500000000000001,0.7066,0.25,0.8,0.6000000000000001,0.52,0.7000000000000001,0.30000000000000004,0.4,0.7000000000000001,0.6000000000000001,0.9500000000000001,0.68,0.68,0.8500000000000001,0.76,0.6000000000000001,0.6000000000000001,0.9199999999999999,0.6000000000000001,0.8500000000000001,0.36000000000000004,0.5599999999999999,0.25,0.75,0.75,0.75,0.7000000000000001,0.9199999999999999,0.65,0.2666,0.5,0.65,0.6000000000000001,0.7200000000000001,0.44000000000000006,0.96,0.8,0.68,0.6400000000000001,0.5,0.65,0.76,0.8800000000000001,0.7000000000000001,0.30000000000000004,0.5599999999999999,0.7200000000000001,0.8400000000000001,0.6000000000000001,0.6000000000000001,0.32000000000000006,0.8,0.2666,0.7200000000000001,0.6000000000000001,0.6000000000000001,0.7000000000000001,0.8,0.44000000000000006,0.68,0.7000000000000001,0.8500000000000001,0.52,0.6000000000000001,0.48,0.76,0.6000000000000001,0.7000000000000001,0.7000000000000001,0.75,0.45,0.65,0.96,0.76,0.68,0.4,0.9199999999999999,0.7000000000000001,0.6666000000000001,0.5334,0.6400000000000001,0.76,0.68,0.68,0.7200000000000001,0.76,0.36000000000000004,0.6400000000000001,0.6000000000000001,0.36000000000000004,0.55,0.32000000000000006,0.55,0.65,0.45,0.6000000000000001,0.6364000000000001,0.75,0.52,0.25,0.5,0.8400000000000001,0.52,0.27999999999999997,0.7200000000000001,0.6000000000000001,0.7000000000000001,1.0,0.6000000000000001,0.76,0.76,0.8444000000000002,0.5,1.0,0.8,0.7200000000000001,0.8400000000000001,0.68,0.52,0.7200000000000001,0.8,0.7000000000000001,0.30000000000000004,0.7000000000000001,0.35000000000000003,0.75,0.96,0.68,0.52,0.8800000000000001,0.7200000000000001,0.7200000000000001,0.8,0.9,1.0,0.68,0.75,0.6352000000000001,0.7200000000000001,0.6400000000000001,0.7000000000000001,0.38,0.6000000000000001,0.7200000000000001,0.75,0.7200000000000001,0.75,0.6666000000000001,0.52,0.36000000000000004,0.7200000000000001,0.8800000000000001,0.6000000000000001,0.8,0.65,0.6000000000000001,0.52,0.52,0.9199999999999999,0.55,0.44000000000000006,0.6666000000000001,0.5538000000000001,0.5599999999999999,0.8,0.9466,0.32000000000000006,0.75,0.1,0.65,0.48,0.6400000000000001,0.75,0.65,0.48,0.9,0.8,0.76,0.16000000000000003,0.6000000000000001,0.7000000000000001,0.4,0.5599999999999999,0.4,0.6000000000000001,0.7000000000000001,1.0,0.65,0.68,0.68,0.75,0.55,0.6400000000000001,0.52,0.32000000000000006,0.5,0.68,0.8,0.8500000000000001,0.8,0.68,0.5599999999999999,0.32000000000000006,0.76,0.5334,0.24,0.96,0.6000000000000001,0.8,0.8,0.55,0.45,0.6400000000000001,0.9500000000000001,0.5599999999999999,0.27999999999999997,0.15000000000000002,0.7334,0.68,0.68,0.7714000000000001,0.6000000000000001,0.7000000000000001,0.65,0.27999999999999997,0.15000000000000002,0.68,0.96,0.08000000000000002,0.36000000000000004,0.48,0.32000000000000006,0.6400000000000001,0.08000000000000002,0.8,0.16000000000000003,0.27999999999999997,0.36000000000000004,0.44000000000000006,0.6400000000000001,0.24,0.25,0.8400000000000001,0.52,0.7200000000000001,0.08000000000000002,0.0,1.0,0.8800000000000001,0.96,0.7200000000000001,0.76,0.04000000000000001,0.76,0.44000000000000006,0.8,0.52,0.12,0.8800000000000001,0.8,0.16000000000000003,0.4,0.27999999999999997,0.6000000000000001,0.12,0.4,0.9199999999999999,0.27999999999999997,0.9,0.16000000000000003,0.0,0.8800000000000001,0.2,0.68,0.12,0.2,0.5599999999999999,0.32000000000000006,0.48,0.16000000000000003,0.8800000000000001,0.96,0.68,0.76,0.9,0.44000000000000006,0.8,0.2,0.52,0.2,0.27999999999999997,0.8,0.8400000000000001,0.76,0.76,0.48,0.08000000000000002,0.44000000000000006,0.8800000000000001,0.7200000000000001,0.44000000000000006,1.0,0.8400000000000001,0.36000000000000004,0.27999999999999997,0.44000000000000006,0.76,0.8400000000000001,0.4,1.0,0.76,0.24,0.44000000000000006,0.27999999999999997,0.48,0.6000000000000001,0.6400000000000001,0.76,0.6000000000000001,0.4,0.5599999999999999,0.8,0.9199999999999999,0.8,0.44000000000000006,0.68,0.68,0.68,0.8400000000000001,0.76,0.52,0.44000000000000006,0.08000000000000002,0.36000000000000004,0.2,0.32000000000000006,0.32000000000000006,0.52,0.52,0.0,0.8800000000000001,0.68,0.12,0.0,0.8800000000000001,0.7200000000000001,0.6000000000000001,0.76,0.44000000000000006,0.0,0.9199999999999999,0.32000000000000006,0.9199999999999999,0.8400000000000001,0.76,0.6000000000000001,0.2,0.7200000000000001,0.16000000000000003,0.44000000000000006,0.8400000000000001,0.8400000000000001,0.68,0.26,0.24,0.7200000000000001,0.6400000000000001,0.2,0.6000000000000001,0.76,0.32000000000000006,0.24,0.68,0.08000000000000002,0.96,0.0,0.08000000000000002,0.5599999999999999,0.7200000000000001,0.4,0.8,0.76,0.36000000000000004,0.04000000000000001,0.4,1.0,0.0,0.7200000000000001,0.7200000000000001,0.68,0.04000000000000001,0.8800000000000001,0.12,0.08000000000000002,0.9199999999999999,0.52,0.5599999999999999,0.6400000000000001,0.4,0.36000000000000004,0.08000000000000002,0.27999999999999997,0.24,0.52,0.48,0.8400000000000001,1.0,0.08000000000000002,0.32000000000000006,0.6400000000000001,0.8800000000000001,0.96,1.0,0.534,0.0,1.0,0.6000000000000001,0.96,0.48,1.0,0.96,1.0,0.6400000000000001,0.24,1.0,0.9199999999999999,0.4,0.36000000000000004,0.6000000000000001,0.76,0.8,0.96,0.96,0.5599999999999999,0.52,0.8800000000000001,0.9199999999999999,0.44000000000000006,0.08000000000000002,0.08000000000000002,0.27999999999999997,0.96,0.8800000000000001,1.0,0.4,1.0,1.0,1.0,1.0,0.8,0.6000000000000001,0.6000000000000001,1.0,0.8,0.4,0.2,0.8,0.0,0.4,1.0,0.6000000000000001,0.4,0.4,0.0,0.0,0.2,0.2,0.2,0.4,0.0,0.2,0.2,0.0,0.0],\"type\":\"scatter\",\"xaxis\":\"x\",\"yaxis\":\"y2\"},{\"name\":\"Predicition\",\"x\":[0,1,2,3,4,5,6,7,8,9,10,11,12,13,14,15,16,17,18,19,20,21,22,23,24,25,26,27,28,29,30,31,32,33,34,35,36,37,38,39,40,41,42,43,44,45,46,47,48,49,50,51,52,53,54,55,56,57,58,59,60,61,62,63,64,65,66,67,68,69,70,71,72,73,74,75,76,77,78,79,80,81,82,83,84,85,86,87,88,89,90,91,92,93,94,95,96,97,98,99,100,101,102,103,104,105,106,107,108,109,110,111,112,113,114,115,116,117,118,119,120,121,122,123,124,125,126,127,128,129,130,131,132,133,134,135,136,137,138,139,140,141,142,143,144,145,146,147,148,149,150,151,152,153,154,155,156,157,158,159,160,161,162,163,164,165,166,167,168,169,170,171,172,173,174,175,176,177,178,179,180,181,182,183,184,185,186,187,188,189,190,191,192,193,194,195,196,197,198,199,200,201,202,203,204,205,206,207,208,209,210,211,212,213,214,215,216,217,218,219,220,221,222,223,224,225,226,227,228,229,230,231,232,233,234,235,236,237,238,239,240,241,242,243,244,245,246,247,248,249,250,251,252,253,254,255,256,257,258,259,260,261,262,263,264,265,266,267,268,269,270,271,272,273,274,275,276,277,278,279,280,281,282,283,284,285,286,287,288,289,290,291,292,293,294,295,296,297,298,299,300,301,302,303,304,305,306,307,308,309,310,311,312,313,314,315,316,317,318,319,320,321,322,323,324,325,326,327,328,329,330,331,332,333,334,335,336,337,338,339,340,341,342,343,344,345,346,347,348,349,350,351,352,353,354,355,356,357,358,359,360,361,362,363,364,365,366,367,368,369,370,371,372,373,374,375,376,377,378,379,380,381,382,383,384,385,386,387,388,389,390,391,392,393,394,395,396,397,398,399,400,401,402,403,404,405,406,407,408,409,410,411,412,413,414,415,416,417,418,419,420,421,422,423,424,425,426,427,428,429,430,431,432,433,434,435,436,437,438,439,440,441,442,443,444,445,446,447,448,449,450,451,452,453,454,455,456,457,458,459,460,461,462,463,464,465,466,467,468,469,470,471,472,473,474,475,476,477,478,479,480,481,482,483,484,485,486,487,488,489,490,491,492,493,494,495,496,497,498,499,500,501,502,503,504,505,506,507,508,509,510,511,512,513,514,515,516,517,518,519,520,521,522,523,524,525,526,527,528,529,530,531,532,533,534,535,536,537,538,539,540,541,542,543,544,545,546,547,548,549,550,551,552,553,554,555,556,557,558,559,560,561,562,563,564,565,566,567,568,569,570,571,572,573,574,575,576,577,578,579,580,581,582,583,584,585,586,587,588,589,590,591,592,593,594,595,596,597,598,599,600,601,602,603,604,605,606,607,608,609,610,611,612,613,614,615,616,617,618,619,620,621,622,623,624,625,626,627,628,629,630,631,632,633,634,635,636,637,638,639,640,641,642,643,644,645,646,647,648,649,650,651,652,653,654,655,656,657,658,659,660,661,662,663,664,665,666,667,668,669,670,671,672,673,674,675,676,677,678,679,680,681,682,683,684,685,686,687,688,689,690,691,692,693,694,695,696,697,698,699,700,701,702,703,704,705,706,707,708,709,710,711,712,713,714,715,716,717,718,719,720,721,722,723,724,725,726,727,728,729,730,731,732,733,734,735,736,737,738,739,740,741,742,743,744,745,746,747,748,749,750,751,752,753,754,755,756,757,758,759,760,761,762,763,764,765,766,767,768,769,770,771,772,773,774,775,776,777,778,779,780,781,782,783,784,785,786,787,788,789,790,791,792,793,794,795,796,797,798,799,800,801,802,803,804,805,806,807,808,809,810,811,812,813,814,815,816,817,818,819,820,821,822,823,824,825,826,827,828,829,830,831,832,833,834,835,836,837,838,839,840,841,842,843,844,845,846,847,848,849,850,851,852,853,854,855,856,857,858,859,860,861,862,863,864,865,866,867,868,869,870,871,872,873,874,875,876,877,878,879,880,881,882,883,884,885,886,887,888,889,890,891,892,893,894,895,896,897,898,899,900,901,902,903,904,905,906,907,908,909,910,911,912,913,914,915,916,917,918,919,920,921,922,923,924,925,926,927,928,929,930,931,932,933,934,935,936,937,938,939,940,941,942,943,944,945,946,947,948,949,950,951,952,953,954,955,956,957,958,959,960,961,962,963,964,965,966,967,968,969,970,971,972,973,974,975,976,977,978,979,980,981,982,983,984,985,986,987,988,989,990,991,992,993,994,995,996,997,998,999,1000,1001,1002,1003,1004,1005,1006,1007,1008,1009,1010,1011,1012,1013,1014,1015,1016,1017,1018,1019,1020,1021,1022,1023,1024,1025,1026,1027,1028,1029,1030,1031,1032,1033,1034,1035,1036,1037,1038,1039,1040,1041,1042,1043,1044,1045,1046,1047,1048,1049,1050,1051,1052,1053,1054,1055,1056,1057,1058,1059,1060,1061,1062,1063,1064,1065,1066,1067,1068,1069,1070,1071,1072,1073,1074,1075,1076,1077,1078,1079,1080,1081,1082,1083,1084,1085,1086,1087,1088,1089,1090,1091,1092,1093,1094,1095,1096,1097,1098,1099,1100,1101,1102,1103,1104,1105,1106,1107,1108,1109,1110,1111,1112,1113,1114,1115,1116,1117,1118,1119,1120,1121,1122,1123,1124,1125,1126,1127,1128,1129,1130,1131,1132,1133,1134,1135,1136,1137,1138,1139,1140,1141,1142,1143,1144,1145,1146,1147,1148,1149,1150,1151,1152,1153,1154,1155,1156,1157,1158,1159,1160,1161,1162,1163,1164,1165,1166,1167,1168,1169,1170,1171,1172,1173,1174,1175,1176,1177,1178,1179,1180,1181,1182,1183,1184,1185,1186,1187,1188,1189,1190,1191,1192,1193,1194,1195,1196,1197,1198,1199,1200,1201,1202,1203,1204,1205,1206,1207,1208,1209,1210,1211,1212,1213,1214,1215,1216,1217,1218,1219,1220,1221,1222,1223,1224,1225,1226,1227,1228,1229,1230,1231,1232,1233,1234,1235,1236,1237,1238,1239,1240,1241,1242,1243,1244,1245,1246,1247,1248,1249,1250,1251,1252,1253,1254,1255,1256,1257,1258,1259,1260,1261,1262,1263,1264,1265,1266,1267,1268,1269,1270,1271,1272,1273,1274,1275,1276,1277,1278,1279,1280,1281,1282,1283,1284,1285,1286,1287,1288,1289,1290,1291,1292,1293,1294,1295,1296,1297,1298,1299,1300,1301,1302,1303,1304,1305,1306,1307,1308,1309,1310,1311,1312,1313,1314,1315,1316,1317,1318,1319,1320,1321,1322,1323,1324,1325,1326,1327,1328,1329,1330,1331,1332,1333,1334,1335,1336,1337,1338,1339,1340,1341,1342,1343,1344,1345,1346,1347,1348,1349,1350,1351,1352,1353,1354,1355,1356,1357,1358,1359,1360,1361,1362,1363,1364,1365,1366,1367,1368,1369,1370,1371,1372,1373,1374,1375,1376,1377,1378],\"y\":[0.33560295798943734,0.5888824469094223,0.4464153756694504,0.47443111309898467,0.4533455251729444,0.36510435371453065,0.45112330450679683,0.4357398022324566,0.4362016290401836,0.3879399861331225,0.3879399861331225,0.45850960641698535,0.41082692112831215,0.4584615576260531,0.48735918820079255,0.4797385088926185,0.5195142132696926,0.4345336851403352,0.464205977529168,0.40727364338270045,0.44315179199188814,0.44518230399677694,0.4551349796131667,0.44238511679954773,0.42774669818847777,0.3622972944776982,0.4620020824554263,0.4636348777052358,0.34430125116803056,0.46286500303510375,0.5413148514433775,0.464284672058223,0.4370832876479488,0.6024967284791147,0.4764321090358097,0.4131272272913229,0.3950730648367604,0.5286756922074919,0.358847465214836,0.40800755843671316,0.37351667749158163,0.45423213572774823,0.4111061879641441,0.45885156613648126,0.4907232666497507,0.4031735766368179,0.44278654450034005,0.39659152714593726,0.4691592165281892,0.36814722971652497,0.34376872379481344,0.4680852005719137,0.3919129825350079,0.32784353202220656,0.4447879988564483,0.4008077345960254,0.46278171894704373,0.4038626787393503,0.4883771353595615,0.5406141808081912,0.5000084218337325,0.4779423062129447,0.4637413981428402,0.4064942246522334,0.529664518228166,0.35184205185992135,0.4152369672605938,0.4690815742432373,0.3989992840581106,0.46422839956834794,0.5023565676417628,0.4094843408762153,0.32740287983356525,0.4351377571628342,0.4680472597467026,0.3954790302769837,0.5339652117229403,0.4672112142184912,0.5447285704521319,0.4479310955945565,0.3574591675369977,0.35210898158419235,0.5049234287507339,0.520651119917754,0.42512730230745027,0.48988901547678276,0.6720023593194535,0.43433141085834737,0.5189798009801092,0.41450090398827055,0.4646111056543164,0.35105275256724644,0.3392569673178565,0.4929626864727519,0.38973157965753447,0.4968241711634966,0.42994705915259873,0.482818171674883,0.550542374789965,0.44320944063888823,0.45951274181246504,0.5187400778362262,0.4304637195387556,0.4478668785006917,0.37925175307949,0.4652788349481002,0.47634841769310593,0.4162086074256963,0.41076489426346663,0.427233348175884,0.4965573978859798,0.5409156193471969,0.5469208063247746,0.6235532516605641,0.5345033931676703,0.4877603990472572,0.6448828312936039,0.44600151113147934,0.45768811367539963,0.4920121074768521,0.47038722620732737,0.4608315389610977,0.5498832046693247,0.5086071283129787,0.5253747494987183,0.43512384054909603,0.3701447441695942,0.4314999419727653,0.5411719313656486,0.44621471680599567,0.4464969878855869,0.4912802755987879,0.46055683679479936,0.48878710853461915,0.4983934549069537,0.5481909508496385,0.42360653479247623,0.513927719313403,0.3635082837572055,0.5184809075158443,0.44776865468536337,0.55910364605927,0.38817316114593337,0.6127196243293288,0.35364414327749194,0.42379774926951064,0.4343823470347996,0.5063780842567253,0.5293180893963547,0.36629136050627475,0.38674896565931777,0.42226183781559573,0.36412271193322454,0.40175483088194636,0.3332677352302237,0.4642403853811119,0.4070975206985695,0.3569914101426002,0.4947210289734313,0.358606468432081,0.37749634771639207,0.46121167315902745,0.5032795667347914,0.4444200467045999,0.4277649154993658,0.5654639320685338,0.5867369261581703,0.5047483826871979,0.4445162137394682,0.5187763231965925,0.44189841768998533,0.39883711166694313,0.45742158338707106,0.4793846683233119,0.520239204354348,0.3812014482688466,0.4824655615403031,0.4727355117962026,0.44857852595358605,0.3040466272531558,0.3885125757918425,0.5106611422346463,0.45826480818920196,0.4514361383073739,0.635190326504021,0.3644636628459629,0.4171192899058041,0.3484027789136293,0.3576293673027702,0.5352952836368123,0.4667862026074612,0.4840986261918743,0.44043530382044616,0.4794325902215765,0.35452350406853333,0.5083016078181736,0.4512614421904054,0.48254923812178796,0.34894442433331374,0.45145973421870156,0.41339885697069606,0.3989962385920486,0.38173212998762307,0.3888729171472104,0.42139036454052414,0.3720580992751995,0.4366964029302588,0.4059426823898456,0.41908485405208046,0.5110078889408827,0.5143438113131208,0.4688152936092917,0.44508930896204507,0.37534565004265374,0.44985236073026325,0.35406980198782945,0.4986294492052938,0.5186033241002563,0.4964644226984858,0.6294312860617506,0.4776252482707438,0.49300045204987253,0.5350945810250951,0.4960318435109366,0.46315888461186977,0.4505058893493367,0.5458280337165365,0.5184784927099073,0.4437038892287493,0.45781501792659185,0.3616251037431766,0.45159077643180606,0.45678488537097683,0.35738547927110387,0.43168818573306744,0.5496570800952426,0.3404080400977124,0.44494661184679263,0.5010810360444511,0.4092010226287952,0.3922030827304607,0.4725552251003316,0.4491837578908526,0.4640933038755757,0.5220355963946419,0.43424915814917836,0.4563941961010915,0.5085592608272964,0.5109423720724505,0.44951955682784744,0.5219688333316091,0.5140734947186334,0.4498206973584033,0.5433189394182946,0.44403249173276876,0.45041692852500803,0.48396229475922686,0.4313389989702131,0.46812419327651467,0.4515699123968702,0.6073764557355608,0.509413679418838,0.5312356848570731,0.6215254793216902,0.5870510700576241,0.4679300800813652,0.42026308798039475,0.5640124226172646,0.5563049144283578,0.5311745698701846,0.5309514596544488,0.41064378209219937,0.4559568288815169,0.4377850693942783,0.49988431261371485,0.44549805888475724,0.5357600302576067,0.38784315788200485,0.4231255505130306,0.4740238129616544,0.557882249873507,0.44303212103834966,0.5865996803551975,0.5137555625163563,0.49746662287479276,0.5238552507690869,0.5874102550938285,0.4175724755097397,0.5095288101113146,0.47550927713482627,0.5550125233290937,0.5209831815191804,0.513204185060745,0.5706735222835618,0.598211013631142,0.4545407067809843,0.4627621573367279,0.4946096970852654,0.5214183243975338,0.5930568288954364,0.5772639323274099,0.5320960367372042,0.4988402312548633,0.5725094858520944,0.5398148813340269,0.49215932641175525,0.598334216810379,0.5458825512558142,0.3684742706503734,0.48538763700035514,0.4205293701820896,0.4665337572464779,0.4731981658173172,0.5049811338225572,0.48508815780700154,0.4980374163613829,0.37774426737873124,0.46996671948267965,0.4019896553236364,0.47385089637343897,0.4781477739399887,0.5050491716532208,0.3890983971061853,0.5513946722210578,0.5147420994804898,0.4521001134966901,0.5602032353523865,0.5653896557696226,0.5603747377742694,0.4964139191697381,0.5567049551607444,0.507201729929789,0.5523467937839569,0.5415033633615802,0.43292713280731476,0.5183815966636581,0.598914621690899,0.4990763855900155,0.49033144310107146,0.4312739338418913,0.46019648002746394,0.5220088281063351,0.5588374053678585,0.5001192607823414,0.4597235757853433,0.4677915321116169,0.5724490808723244,0.4889986330650215,0.5522725936182709,0.5710908540061466,0.5220398758360859,0.4854446180433829,0.4319265201075414,0.5102858049659386,0.5294408345564834,0.45454275788848,0.5842130692232103,0.5182005372193563,0.4270497383656746,0.5405845067429257,0.5019095798714647,0.45913259940763207,0.49396368736281016,0.5487195887075313,0.580598827692242,0.4780539443894617,0.48867629204985885,0.45921618358301564,0.5125008038650551,0.3981368682332205,0.567944849559242,0.579435723257421,0.5505001226669566,0.542151423138633,0.46873001641457657,0.5184815265178875,0.5476515719199029,0.4457303667362868,0.5107011771950943,0.5321286193757505,0.5743384605233923,0.47750052192749093,0.5201362875994052,0.48407874815082913,0.45280006065526296,0.5127500280152265,0.4824504882858199,0.5946238218581673,0.4975904061847011,0.6114408798619202,0.5557348118790919,0.5063866280283226,0.4230538191640306,0.4082741184948241,0.5902446879137226,0.48496647329137604,0.4554523303749066,0.5787987730147635,0.5047829241845442,0.465420459882876,0.5036859258326856,0.3714021930586656,0.598348688204243,0.43354428419698476,0.5338172832760295,0.6229605426704384,0.4882464634104895,0.5253923740160088,0.4691105607678496,0.565022890408944,0.5292316306415434,0.5221326073075767,0.5373989837447393,0.5446327782285253,0.4087447859113918,0.5384936270899219,0.2782095371814147,0.5780841954038762,0.5952789775277314,0.587350097081806,0.579803026802863,0.4453823822032319,0.5589270802677133,0.5140174001329663,0.5310942068841342,0.5453477766138197,0.5421082182863838,0.5538463028708152,0.4572410936918555,0.4787887576885674,0.5780297378783328,0.5218085656845783,0.5536035660520231,0.564059764937222,0.4302727426223096,0.5317689872471164,0.5508362870477546,0.612984411453601,0.5260705292892154,0.38059767543517453,0.479002732018703,0.4390449697025919,0.5358765704267111,0.5824229323554247,0.5880895533782833,0.5166538853757672,0.48182349645147143,0.48521929329586017,0.39556233655662887,0.5222617105106252,0.5592444003154351,0.6597780185908633,0.5192204209963472,0.3706000658974196,0.48741874752965586,0.5213861726649347,0.5172307532510457,0.47612698127764147,0.6005946964143942,0.5474018832085438,0.5615298172428312,0.37508540366991727,0.5041869654696186,0.45964054500595136,0.503292715033384,0.5453975203381334,0.5298155261903873,0.542893050558301,0.44867186915706503,0.4554257081335838,0.5163786272244553,0.4768804931644566,0.5399808236175194,0.4937952545327005,0.4593163680097794,0.4873706335252893,0.46756377587078446,0.4259142796586472,0.45749994262746907,0.402880533451896,0.5610045576479772,0.5197348331977946,0.4474140854404785,0.514127364326451,0.4811496210786932,0.5531754764220934,0.6082544789032924,0.5615301160818,0.5314611422112906,0.4550879153112229,0.5934813761500132,0.5268902375079817,0.5399290526603103,0.581631164853883,0.5056193125097295,0.6219975840413788,0.4987264479985417,0.4259637158468031,0.4562997013891291,0.565720648210177,0.47327066281719454,0.45569505529468624,0.5527492624548197,0.48794630077506057,0.37960362369802075,0.43746471603976855,0.31321604082266935,0.4223409681036385,0.30837804783299666,0.4770582512128122,0.3650372057746796,0.5574124610396853,0.46433430431145434,0.511318818294159,0.4748709592995899,0.5468248134199557,0.42103627306341473,0.4644448136689324,0.43223001869677147,0.5030994261220664,0.3601514261054452,0.6288076559837131,0.4803698337261953,0.4128951565436338,0.5185751113276196,0.5528402748573727,0.38824570273753567,0.398309637966745,0.4221218342353481,0.463344325386478,0.3568140517237074,0.5920275019898209,0.5313984073715408,0.34389512888834806,0.4727292733725347,0.397128138771921,0.44230704763098133,0.48045022028079676,0.48871238532990974,0.5495625869181888,0.5737724341209054,0.5015202772912201,0.4060107298319578,0.5922558349751417,0.359840065069528,0.4899099334303026,0.45804294742522406,0.43539174257036717,0.44394809739106667,0.4691757285654953,0.5080305694596889,0.4783749736227169,0.43091673035384076,0.3495379598031314,0.5951548445617938,0.479510234923319,0.40130320771192096,0.5055944085536581,0.4091241937518428,0.37643826786045054,0.4189731471929301,0.5898647722466688,0.4277525779144652,0.45134846370949133,0.4730135003535264,0.5147161576627225,0.5086335896071421,0.44069696539364756,0.44367568745138564,0.3965102098913306,0.4160228684512058,0.6028784399019295,0.5027111051123894,0.572056203887497,0.48194292586076,0.5259903344292689,0.39544289991353104,0.4988981141410873,0.6015832999756543,0.42542910599014916,0.5793396567049955,0.4978576522793666,0.5207333463814537,0.5651661590346448,0.435363937677164,0.5852460864367162,0.4785364021375544,0.5015876316614593,0.4292947843767153,0.5182481372050883,0.4524721972094604,0.3936028014555031,0.5965503709798141,0.3698430571818091,0.4992730051728024,0.4884350916652956,0.4897451459522485,0.5605957790430734,0.5773767813346443,0.532493325855765,0.5462219252165792,0.4840411370667692,0.5767318895542186,0.42553107483573893,0.6524629912487033,0.5074010315006885,0.525188263701528,0.38298317511546,0.4140673986929852,0.46589640690354944,0.5412914192681859,0.4877110957924244,0.5326358462657804,0.3971232463427782,0.528631902046242,0.2849484792313941,0.5064789990629341,0.40248852047644934,0.4704453999505029,0.4525847340565293,0.37347409497081874,0.5596860681193757,0.49383774237455547,0.5409464061496774,0.48942368265034997,0.5072349251357314,0.3623206844776484,0.4444175870061547,0.4178571282772913,0.43788525101325837,0.40801381871822956,0.49341799157185595,0.37464270946288825,0.4214437954946336,0.43553941551489006,0.2982343801360535,0.42629837891319505,0.38451788601818426,0.4262775988512658,0.2627706360632374,0.42849820535199745,0.4338906289349042,0.4681564712889728,0.4154374123885764,0.42634888596623344,0.49015843561043343,0.48602230440933303,0.4591008722124871,0.439555112328628,0.48018930843055413,0.435837365963395,0.39148905808037804,0.4628212091554393,0.4159732760123035,0.5052462461706219,0.45708593359554356,0.4953010616081854,0.45275724365074566,0.42631421857715224,0.36842401440418165,0.404710475361926,0.5000387972132828,0.38164846689815685,0.4631719890210819,0.43732706739669786,0.46488798422499555,0.46162068234827924,0.46937782455071,0.3610303659999535,0.3021320087678165,0.3604524891813564,0.4246780758979641,0.3356127444140558,0.5095298672969177,0.41648084606450086,0.4838738302918989,0.5022464869172144,0.3828592904670961,0.4636847872936484,0.44328039575748335,0.36453053584440126,0.4304806887678222,0.36500628312742944,0.39324647196986945,0.5268955280062015,0.4328947029216076,0.4370941844258523,0.46892628647905144,0.4799988360493606,0.2592467395522772,0.5032789700027939,0.37464476425623217,0.4821074835004271,0.4265968073145818,0.4243194981481828,0.34582603265837963,0.30835006947738064,0.4663490494870324,0.3691732407163737,0.44812211847100913,0.5023290111116202,0.42224419128858626,0.41795733717076355,0.531931014669614,0.4224298916482684,0.5192592528468108,0.39658230562544217,0.40221033091853675,0.41205089047269405,0.4504594156662209,0.37425315088734545,0.4177690112699189,0.3204653705733935,0.30011159162446405,0.38244357000951645,0.4657227888392666,0.32921723589458,0.4606314328003036,0.4805864764391006,0.32321247012246834,0.49247044597178113,0.4574745502774764,0.41324560389029835,0.38715834101441016,0.40369834032172314,0.5709742176436113,0.474471260368749,0.5114304829624671,0.43350601815233064,0.32168671760645773,0.23567181694207395,0.5406269014921932,0.379178717454701,0.4477506962425559,0.32819377880029565,0.4298626406986725,0.37363102027286066,0.5051993404155614,0.45420474003910466,0.4316204992594233,0.49643055227478305,0.3912736386221067,0.47166625448036736,0.4393537082828088,0.41263073566181196,0.3771450721943567,0.3724302175174564,0.33546086437083505,0.46342512055013474,0.3920669178931656,0.3517254234484183,0.347629870913867,0.4911938865108535,0.5631820023149391,0.46267344806074756,0.3963061008243881,0.3920899019956806,0.5349191038758261,0.39644870401622634,0.44918678669667844,0.4407213779592036,0.449611490861638,0.3558313725283213,0.4392500191784482,0.40477400943544334,0.3939723765710804,0.4622002916862738,0.46453008057132916,0.5359654097076999,0.46535074766034384,0.447650655218195,0.4531933931603706,0.4076025139301236,0.49845391120398247,0.3225018816442481,0.36592948600803166,0.4003128224360467,0.465109885540264,0.4922253365998369,0.5202319755048952,0.4466124744211954,0.3693092412084404,0.5468996855010091,0.4978237182357886,0.4617069623204118,0.3530845324195545,0.45489722492128337,0.40503239950648806,0.4661714356782493,0.4346081796535338,0.4974730423905723,0.3567830290922542,0.3329108334730866,0.5672963558541102,0.33673492513287084,0.4597456338500186,0.4792008993529283,0.3389554920254114,0.439700228918679,0.43227976632141546,0.3837021338655747,0.40746080655757744,0.4928263702382677,0.479615145941118,0.36974110748317146,0.43688737400324784,0.5097150737062959,0.6067672594236352,0.41229138708080026,0.4589961156872875,0.516866332908479,0.36181675407916136,0.3018940853848321,0.4033824095262114,0.420345139221441,0.5134998104582598,0.4544997438657216,0.41593634698089144,0.3700467684577091,0.5042495838037658,0.4609639354715496,0.3757601519965341,0.3965534971708858,0.42975001841369664,0.404202709724128,0.4948424980063604,0.3091957353219982,0.43087567771615876,0.46234198469747184,0.5201249240470163,0.36726899073556113,0.4598123525558199,0.505262823473385,0.2957114174266776,0.495030081313853,0.36494482222256064,0.4600199202261502,0.4514386479052605,0.46444819322602693,0.38818689253995825,0.4504547350064858,0.3918468274734567,0.43908622926321916,0.38610405041918017,0.3618885683269619,0.4320178794379738,0.3897231166499756,0.39111655715199906,0.4809296563772064,0.40131462141641644,0.40382291898009604,0.4624367390252938,0.38912898277215524,0.4002975337583431,0.30698795691294023,0.46054721296481915,0.333248875636134,0.3670083520547477,0.5269564165648604,0.4192523860453147,0.45404355644542044,0.4475775661329643,0.4092322768675475,0.37541075669051627,0.455727539394921,0.4626615490269427,0.5030492857148495,0.3869465103210829,0.3421962383627265,0.46138697575844306,0.328458105010698,0.495377110489695,0.4366676830236923,0.2998438532978725,0.3111478119017335,0.5242047260000624,0.48587367665773334,0.3867892783099662,0.46062891871278916,0.5049577263151759,0.6257784889737343,0.6099191738366602,0.6993344580614359,0.6036527402265959,0.5949356775585052,0.5365448583859077,0.5667171513010354,0.6652143734437388,0.6169657344401883,0.6385400134192247,0.6313169993046515,0.692617311251286,0.5500763723532638,0.6132039812289014,0.6349388438360604,0.5567608355342886,0.5521757478860796,0.5776605039606926,0.6424714327680767,0.6407547984083067,0.521916641273125,0.6431250210549585,0.5919127441506669,0.48932003152090414,0.5367905003815232,0.6411525157867729,0.602875602132603,0.5599572784456095,0.6262188306601595,0.6333339749411151,0.5795907036678118,0.59007352337495,0.6373933545734944,0.576738621533702,0.5870942139809202,0.5898291484445429,0.6504240541590707,0.6528085215233091,0.5279641919274747,0.5863961442933397,0.5633767034709666,0.6190699611284303,0.6420064636170115,0.5801969330383757,0.5785395528708162,0.46438402416729807,0.608349800452837,0.6516226382645012,0.5909113251867036,0.6273533604016599,0.5971146219999087,0.6878073025846297,0.5366640029226685,0.5628612978360295,0.5259612175504744,0.4350572982390446,0.5158402534287349,0.7273275681399202,0.6274981782992471,0.6312085138024374,0.6258696860516537,0.6280883326540598,0.6503012793303384,0.5467578877615971,0.5191570161052911,0.67776414563656,0.5433641716775317,0.6069615317476994,0.5950022299761264,0.6336361581037274,0.5512324790509389,0.5841037955184488,0.6056679050921291,0.5284014531220905,0.5235988614266991,0.502310606401562,0.5417169955102447,0.5627264255785329,0.7703751199145319,0.662424856109934,0.608762884997961,0.6896552158164979,0.6240028073044733,0.4882838068707533,0.5146291745203165,0.5910624189129354,0.6275203261681055,0.5544831276957418,0.6079524196254158,0.6306481362599248,0.5558052412752985,0.7276935487354791,0.6295187796064039,0.6396851382038219,0.690741034520399,0.5781783129771162,0.5969880531776783,0.5894482509102622,0.669862076133706,0.4789998592882348,0.5901548400108672,0.6026595056338775,0.5493458606588328,0.5405029429186041,0.7456752178487089,0.5796268359986811,0.6252822332918283,0.5443218134867093,0.6762493985713052,0.596251640406514,0.6972144727702965,0.6165870086724349,0.5078490832423428,0.5410890302364749,0.5074920375675698,0.6038389990359796,0.5212434690915717,0.5227437709648409,0.5121010589413764,0.549379817830742,0.4809029221752325,0.6468207091877443,0.5791683219981,0.7382847832368145,0.6140665479585937,0.4492738095622197,0.6196410830361192,0.635799162724741,0.6948336314410215,0.55635554290716,0.5966956712205493,0.6776343534427709,0.6229584305858085,0.5528971811440808,0.6840248581108037,0.6035203263667883,0.6389121533709177,0.6972668014551109,0.5761799041416682,0.6867567870381678,0.6601039882473801,0.5721428126926789,0.5958375049633358,0.5864874287851736,0.553029971790566,0.7197692661807525,0.7007185274129413,0.697176441811825,0.6969532738529765,0.4972769699655147,0.5782864843842713,0.5626305515515017,0.5930429184555497,0.5382836579090043,0.6418199575352507,0.4977160652041682,0.6160773336471619,0.583749698558857,0.6479072949364605,0.7260154954370921,0.6477635673727068,0.7501754384307332,0.523532512451162,0.5892218845307553,0.6073534706894691,0.5533291609018985,0.5416957047411131,0.6082370418164078,0.6208710188143547,0.5897576946516123,0.5286135864386604,0.6899863122202585,0.6597344293220644,0.5780406521502053,0.6397495368173467,0.5835426580328271,0.6576191248880061,0.6313387642548856,0.6043730996656373,0.548643720188372,0.6175870965998134,0.5212716013839952,0.7526614280193178,0.5788245152209183,0.6040661690347451,0.6228498472051803,0.5448882667329624,0.6815419731970198,0.6847282813674654,0.6549905996670771,0.5332102920409774,0.7564231754311905,0.5623445257649512,0.46781824436986374,0.6218684627310908,0.6479118087517468,0.599527035828986,0.6850921850251386,0.6427461960326067,0.5460033602826754,0.5869941088121186,0.6685102555076822,0.600423799487833,0.5266831130044095,0.6792145887374295,0.6142260659349029,0.5139946510715314,0.5891639577995121,0.6084255701568811,0.6163216490771372,0.7099508336144116,0.6804193228925088,0.5701510808695716,0.5803808663707004,0.5907274464553856,0.5383589577907286,0.6704504573721654,0.5326358761921639,0.642171669252388,0.407535322929341,0.6023063552763236,0.6492388720130375,0.5368724300419644,0.6185874729070849,0.7089950234114053,0.655838158901441,0.6516862843984654,0.5336120769814761,0.658825958235128,0.6907938242322198,0.46997269787653356,0.6083293512706341,0.6543293417272256,0.6549085791923845,0.5725307728821023,0.733715523987412,0.6271067634831136,0.6345465653344169,0.5015488160212409,0.7349721557767158,0.5992462634866322,0.4673491964467726,0.7072343893669323,0.568151316681176,0.5552048615230292,0.7459195692094599,0.5671932082761022,0.6940936456764707,0.6076040521171143,0.48999407252192784,0.43386570943305525,0.5346613975787594,0.43445402583796217,0.5681495759566757,0.4333118302848188,0.48923816290015804,0.4647986726853482,0.5080011735292335,0.40453588547585956,0.6714353617360089,0.4810134388984009,0.4656653466854218,0.5217920486982938,0.5144222021458082,0.5779366534593154,0.5252207965081834,0.5874927637087937,0.5098832107525622,0.4827514681900083,0.515397108485715,0.49526921703201615,0.5094411928061136,0.5357529972983278,0.5318925514596459,0.5434002357161032,0.5243787049287663,0.527056354098552,0.6389294682087607,0.5693225225002166,0.5352643603994708,0.5558226469797143,0.41329481435071,0.4912585929455237,0.6854323077867683,0.5379356860513598,0.4851656708957569,0.5182081501918544,0.45042865325360304,0.47944551578350464,0.5316752290493265,0.4617469087821335,0.6302021946462397,0.5433561952401682,0.610398725096556,0.5253833205522463,0.6187265731959135,0.4315184269087988,0.43884027967063544,0.5761917789789575,0.5979010002810544,0.560846686328084,0.4582913815822229,0.4819972688807242,0.6175879133292316,0.5921490713488748,0.5604411688860139,0.6013951571278489,0.5116777709551612,0.49617120584787117,0.5894404616999521,0.5028937590647399,0.5344430085209331,0.4440035684534865,0.5188453527381984,0.5375564159159474,0.6712475929471539,0.5540888115585725,0.483765989451581,0.44456262013696984,0.49684989535257157,0.4808835370980395,0.5327354330992855,0.531620300393887,0.5870408266969804,0.55195398130519,0.5011880637354086,0.4900222017181807,0.6067376297227224,0.5254955573372965,0.49030665349599073,0.5508326989031812,0.586750454370997,0.5057900539870452,0.5146589505444336,0.5698944169536981,0.6871423585843303,0.5628766830371631,0.4766045167492815,0.4272119901351038,0.5961473912695637,0.4360947168075211,0.5005513009069454,0.486656264242274,0.4850490578903128,0.4902074949763653,0.49716650276162977,0.5788747733121888,0.6521116749206133,0.6041072912437789,0.4569525747974538,0.5338506859820955,0.5376249571548571,0.5601245332218842,0.4934010491611165,0.5419403502226904,0.630785553695945,0.6187272435042532,0.4967666382272367,0.5929708996141265,0.6444397409480423,0.48946186284935106,0.5465910399677563,0.5512357276262327,0.5233990013723987,0.5592014529471485,0.5975116195166138,0.5800421911080723,0.5885089587144259,0.5585794722102198,0.49539603924459663,0.5987501798893744,0.7046992315870204,0.5662889956027313,0.4292732251869648,0.6852424011328969,0.6003718865386588,0.4431405598652421,0.6042509921603116,0.5175499069045588,0.5054428694348164,0.5415994465175027,0.41869695514022237,0.528200531008909,0.447136928090977,0.468402592754605,0.5416244493736465,0.48418607565282096,0.5078283571293296,0.5740466176440917,0.42649026405774965,0.5413379019614443,0.5164635567673147,0.466538503646531,0.587782014301702,0.6038102290205074,0.4192843956649683,0.532203192493275,0.580655972917366,0.5727519390623038,0.5230874584995394,0.4724810781137643,0.5473362726823533,0.5603426478830381,0.5591128866067052,0.456961809959716,0.5214756390910017,0.562510521607856,0.5524103073815982,0.5815567126819967,0.6533380683498611,0.5021206716597598,0.389602967788223,0.4746119959909306,0.49030060980159734,0.5343659650033474,0.5738628905917004,0.5907702702592093,0.4719243522175473,0.4955561812939486,0.4220858122750171,0.48818838038578244,0.6239677808488904,0.5384054142463583,0.4630632826619066,0.46588155880163573,0.633158165861759,0.4471541757051415,0.4392451842336873,0.5770679024594226,0.5545216220207607,0.5232095845548105,0.5735415567613492,0.5180628074002229,0.5217425217225317,0.4833884979264148,0.6346060584461364,0.5012280024983315,0.6335226006310994,0.6728715262834469,0.5164141832086107,0.5446132885140735,0.4669402827446781,0.5724532444315037,0.531614048748804,0.5090851913769014,0.6022325872912746,0.5679893257119942,0.44504704985505333,0.4161145358560602,0.4161841954966107,0.5116095521743841,0.5643090985817648,0.4890464069752106,0.4999405358427074,0.5071460031111089,0.5715487022014769,0.5816080425521086,0.5859398151272912,0.5103329539663356,0.4372366461233944,0.4532803417890143,0.49566481973912885,0.5860561296611266,0.4033495082486776,0.5089432563934116,0.44160458445058587,0.5844594486833644,0.5041992636565864,0.46883472913477103,0.5853169420287095,0.5126036404234554,0.6410366621008967,0.5823556759449403,0.5395433108417261,0.5071778161231352,0.4853810392073835,0.5189202651115233,0.6366869688119969,0.5519048478923316,0.48773836742088916,0.5119912520026028,0.5665032141507449,0.5331409367916897,0.5823893461205358,0.6438259532138284,0.44939347936501567,0.47654124040518453,0.5905999297531859,0.5794119668758808,0.5096675076851329,0.5706753104367244,0.479492325895349,0.6105971995912226,0.4665972368339336,0.4064321442023925,0.4815324228879994,0.6136709316503164,0.5223122403828323,0.5846748245130479],\"type\":\"scatter\",\"xaxis\":\"x\",\"yaxis\":\"y2\"}],                        {\"template\":{\"data\":{\"histogram2dcontour\":[{\"type\":\"histogram2dcontour\",\"colorbar\":{\"outlinewidth\":0,\"ticks\":\"\"},\"colorscale\":[[0.0,\"#0d0887\"],[0.1111111111111111,\"#46039f\"],[0.2222222222222222,\"#7201a8\"],[0.3333333333333333,\"#9c179e\"],[0.4444444444444444,\"#bd3786\"],[0.5555555555555556,\"#d8576b\"],[0.6666666666666666,\"#ed7953\"],[0.7777777777777778,\"#fb9f3a\"],[0.8888888888888888,\"#fdca26\"],[1.0,\"#f0f921\"]]}],\"choropleth\":[{\"type\":\"choropleth\",\"colorbar\":{\"outlinewidth\":0,\"ticks\":\"\"}}],\"histogram2d\":[{\"type\":\"histogram2d\",\"colorbar\":{\"outlinewidth\":0,\"ticks\":\"\"},\"colorscale\":[[0.0,\"#0d0887\"],[0.1111111111111111,\"#46039f\"],[0.2222222222222222,\"#7201a8\"],[0.3333333333333333,\"#9c179e\"],[0.4444444444444444,\"#bd3786\"],[0.5555555555555556,\"#d8576b\"],[0.6666666666666666,\"#ed7953\"],[0.7777777777777778,\"#fb9f3a\"],[0.8888888888888888,\"#fdca26\"],[1.0,\"#f0f921\"]]}],\"heatmap\":[{\"type\":\"heatmap\",\"colorbar\":{\"outlinewidth\":0,\"ticks\":\"\"},\"colorscale\":[[0.0,\"#0d0887\"],[0.1111111111111111,\"#46039f\"],[0.2222222222222222,\"#7201a8\"],[0.3333333333333333,\"#9c179e\"],[0.4444444444444444,\"#bd3786\"],[0.5555555555555556,\"#d8576b\"],[0.6666666666666666,\"#ed7953\"],[0.7777777777777778,\"#fb9f3a\"],[0.8888888888888888,\"#fdca26\"],[1.0,\"#f0f921\"]]}],\"heatmapgl\":[{\"type\":\"heatmapgl\",\"colorbar\":{\"outlinewidth\":0,\"ticks\":\"\"},\"colorscale\":[[0.0,\"#0d0887\"],[0.1111111111111111,\"#46039f\"],[0.2222222222222222,\"#7201a8\"],[0.3333333333333333,\"#9c179e\"],[0.4444444444444444,\"#bd3786\"],[0.5555555555555556,\"#d8576b\"],[0.6666666666666666,\"#ed7953\"],[0.7777777777777778,\"#fb9f3a\"],[0.8888888888888888,\"#fdca26\"],[1.0,\"#f0f921\"]]}],\"contourcarpet\":[{\"type\":\"contourcarpet\",\"colorbar\":{\"outlinewidth\":0,\"ticks\":\"\"}}],\"contour\":[{\"type\":\"contour\",\"colorbar\":{\"outlinewidth\":0,\"ticks\":\"\"},\"colorscale\":[[0.0,\"#0d0887\"],[0.1111111111111111,\"#46039f\"],[0.2222222222222222,\"#7201a8\"],[0.3333333333333333,\"#9c179e\"],[0.4444444444444444,\"#bd3786\"],[0.5555555555555556,\"#d8576b\"],[0.6666666666666666,\"#ed7953\"],[0.7777777777777778,\"#fb9f3a\"],[0.8888888888888888,\"#fdca26\"],[1.0,\"#f0f921\"]]}],\"surface\":[{\"type\":\"surface\",\"colorbar\":{\"outlinewidth\":0,\"ticks\":\"\"},\"colorscale\":[[0.0,\"#0d0887\"],[0.1111111111111111,\"#46039f\"],[0.2222222222222222,\"#7201a8\"],[0.3333333333333333,\"#9c179e\"],[0.4444444444444444,\"#bd3786\"],[0.5555555555555556,\"#d8576b\"],[0.6666666666666666,\"#ed7953\"],[0.7777777777777778,\"#fb9f3a\"],[0.8888888888888888,\"#fdca26\"],[1.0,\"#f0f921\"]]}],\"mesh3d\":[{\"type\":\"mesh3d\",\"colorbar\":{\"outlinewidth\":0,\"ticks\":\"\"}}],\"scatter\":[{\"fillpattern\":{\"fillmode\":\"overlay\",\"size\":10,\"solidity\":0.2},\"type\":\"scatter\"}],\"parcoords\":[{\"type\":\"parcoords\",\"line\":{\"colorbar\":{\"outlinewidth\":0,\"ticks\":\"\"}}}],\"scatterpolargl\":[{\"type\":\"scatterpolargl\",\"marker\":{\"colorbar\":{\"outlinewidth\":0,\"ticks\":\"\"}}}],\"bar\":[{\"error_x\":{\"color\":\"#2a3f5f\"},\"error_y\":{\"color\":\"#2a3f5f\"},\"marker\":{\"line\":{\"color\":\"#E5ECF6\",\"width\":0.5},\"pattern\":{\"fillmode\":\"overlay\",\"size\":10,\"solidity\":0.2}},\"type\":\"bar\"}],\"scattergeo\":[{\"type\":\"scattergeo\",\"marker\":{\"colorbar\":{\"outlinewidth\":0,\"ticks\":\"\"}}}],\"scatterpolar\":[{\"type\":\"scatterpolar\",\"marker\":{\"colorbar\":{\"outlinewidth\":0,\"ticks\":\"\"}}}],\"histogram\":[{\"marker\":{\"pattern\":{\"fillmode\":\"overlay\",\"size\":10,\"solidity\":0.2}},\"type\":\"histogram\"}],\"scattergl\":[{\"type\":\"scattergl\",\"marker\":{\"colorbar\":{\"outlinewidth\":0,\"ticks\":\"\"}}}],\"scatter3d\":[{\"type\":\"scatter3d\",\"line\":{\"colorbar\":{\"outlinewidth\":0,\"ticks\":\"\"}},\"marker\":{\"colorbar\":{\"outlinewidth\":0,\"ticks\":\"\"}}}],\"scattermapbox\":[{\"type\":\"scattermapbox\",\"marker\":{\"colorbar\":{\"outlinewidth\":0,\"ticks\":\"\"}}}],\"scatterternary\":[{\"type\":\"scatterternary\",\"marker\":{\"colorbar\":{\"outlinewidth\":0,\"ticks\":\"\"}}}],\"scattercarpet\":[{\"type\":\"scattercarpet\",\"marker\":{\"colorbar\":{\"outlinewidth\":0,\"ticks\":\"\"}}}],\"carpet\":[{\"aaxis\":{\"endlinecolor\":\"#2a3f5f\",\"gridcolor\":\"white\",\"linecolor\":\"white\",\"minorgridcolor\":\"white\",\"startlinecolor\":\"#2a3f5f\"},\"baxis\":{\"endlinecolor\":\"#2a3f5f\",\"gridcolor\":\"white\",\"linecolor\":\"white\",\"minorgridcolor\":\"white\",\"startlinecolor\":\"#2a3f5f\"},\"type\":\"carpet\"}],\"table\":[{\"cells\":{\"fill\":{\"color\":\"#EBF0F8\"},\"line\":{\"color\":\"white\"}},\"header\":{\"fill\":{\"color\":\"#C8D4E3\"},\"line\":{\"color\":\"white\"}},\"type\":\"table\"}],\"barpolar\":[{\"marker\":{\"line\":{\"color\":\"#E5ECF6\",\"width\":0.5},\"pattern\":{\"fillmode\":\"overlay\",\"size\":10,\"solidity\":0.2}},\"type\":\"barpolar\"}],\"pie\":[{\"automargin\":true,\"type\":\"pie\"}]},\"layout\":{\"autotypenumbers\":\"strict\",\"colorway\":[\"#636efa\",\"#EF553B\",\"#00cc96\",\"#ab63fa\",\"#FFA15A\",\"#19d3f3\",\"#FF6692\",\"#B6E880\",\"#FF97FF\",\"#FECB52\"],\"font\":{\"color\":\"#2a3f5f\"},\"hovermode\":\"closest\",\"hoverlabel\":{\"align\":\"left\"},\"paper_bgcolor\":\"white\",\"plot_bgcolor\":\"#E5ECF6\",\"polar\":{\"bgcolor\":\"#E5ECF6\",\"angularaxis\":{\"gridcolor\":\"white\",\"linecolor\":\"white\",\"ticks\":\"\"},\"radialaxis\":{\"gridcolor\":\"white\",\"linecolor\":\"white\",\"ticks\":\"\"}},\"ternary\":{\"bgcolor\":\"#E5ECF6\",\"aaxis\":{\"gridcolor\":\"white\",\"linecolor\":\"white\",\"ticks\":\"\"},\"baxis\":{\"gridcolor\":\"white\",\"linecolor\":\"white\",\"ticks\":\"\"},\"caxis\":{\"gridcolor\":\"white\",\"linecolor\":\"white\",\"ticks\":\"\"}},\"coloraxis\":{\"colorbar\":{\"outlinewidth\":0,\"ticks\":\"\"}},\"colorscale\":{\"sequential\":[[0.0,\"#0d0887\"],[0.1111111111111111,\"#46039f\"],[0.2222222222222222,\"#7201a8\"],[0.3333333333333333,\"#9c179e\"],[0.4444444444444444,\"#bd3786\"],[0.5555555555555556,\"#d8576b\"],[0.6666666666666666,\"#ed7953\"],[0.7777777777777778,\"#fb9f3a\"],[0.8888888888888888,\"#fdca26\"],[1.0,\"#f0f921\"]],\"sequentialminus\":[[0.0,\"#0d0887\"],[0.1111111111111111,\"#46039f\"],[0.2222222222222222,\"#7201a8\"],[0.3333333333333333,\"#9c179e\"],[0.4444444444444444,\"#bd3786\"],[0.5555555555555556,\"#d8576b\"],[0.6666666666666666,\"#ed7953\"],[0.7777777777777778,\"#fb9f3a\"],[0.8888888888888888,\"#fdca26\"],[1.0,\"#f0f921\"]],\"diverging\":[[0,\"#8e0152\"],[0.1,\"#c51b7d\"],[0.2,\"#de77ae\"],[0.3,\"#f1b6da\"],[0.4,\"#fde0ef\"],[0.5,\"#f7f7f7\"],[0.6,\"#e6f5d0\"],[0.7,\"#b8e186\"],[0.8,\"#7fbc41\"],[0.9,\"#4d9221\"],[1,\"#276419\"]]},\"xaxis\":{\"gridcolor\":\"white\",\"linecolor\":\"white\",\"ticks\":\"\",\"title\":{\"standoff\":15},\"zerolinecolor\":\"white\",\"automargin\":true,\"zerolinewidth\":2},\"yaxis\":{\"gridcolor\":\"white\",\"linecolor\":\"white\",\"ticks\":\"\",\"title\":{\"standoff\":15},\"zerolinecolor\":\"white\",\"automargin\":true,\"zerolinewidth\":2},\"scene\":{\"xaxis\":{\"backgroundcolor\":\"#E5ECF6\",\"gridcolor\":\"white\",\"linecolor\":\"white\",\"showbackground\":true,\"ticks\":\"\",\"zerolinecolor\":\"white\",\"gridwidth\":2},\"yaxis\":{\"backgroundcolor\":\"#E5ECF6\",\"gridcolor\":\"white\",\"linecolor\":\"white\",\"showbackground\":true,\"ticks\":\"\",\"zerolinecolor\":\"white\",\"gridwidth\":2},\"zaxis\":{\"backgroundcolor\":\"#E5ECF6\",\"gridcolor\":\"white\",\"linecolor\":\"white\",\"showbackground\":true,\"ticks\":\"\",\"zerolinecolor\":\"white\",\"gridwidth\":2}},\"shapedefaults\":{\"line\":{\"color\":\"#2a3f5f\"}},\"annotationdefaults\":{\"arrowcolor\":\"#2a3f5f\",\"arrowhead\":0,\"arrowwidth\":1},\"geo\":{\"bgcolor\":\"white\",\"landcolor\":\"#E5ECF6\",\"subunitcolor\":\"white\",\"showland\":true,\"showlakes\":true,\"lakecolor\":\"white\"},\"title\":{\"x\":0.05},\"mapbox\":{\"style\":\"light\"}}},\"xaxis\":{\"anchor\":\"y\",\"domain\":[0.0,0.94],\"title\":{\"text\":\"Couple of sentences\"}},\"yaxis\":{\"anchor\":\"x\",\"domain\":[0.0,1.0]},\"yaxis2\":{\"anchor\":\"x\",\"overlaying\":\"y\",\"side\":\"right\",\"title\":{\"text\":\"Prediction\"}},\"title\":{\"text\":\"Results\"}},                        {\"responsive\": true}                    ).then(function(){\n",
              "                            \n",
              "var gd = document.getElementById('7074942b-cec9-41b4-a930-2d54a1ba5d90');\n",
              "var x = new MutationObserver(function (mutations, observer) {{\n",
              "        var display = window.getComputedStyle(gd).display;\n",
              "        if (!display || display === 'none') {{\n",
              "            console.log([gd, 'removed!']);\n",
              "            Plotly.purge(gd);\n",
              "            observer.disconnect();\n",
              "        }}\n",
              "}});\n",
              "\n",
              "// Listen for the removal of the full notebook cells\n",
              "var notebookContainer = gd.closest('#notebook-container');\n",
              "if (notebookContainer) {{\n",
              "    x.observe(notebookContainer, {childList: true});\n",
              "}}\n",
              "\n",
              "// Listen for the clearing of the current output cell\n",
              "var outputEl = gd.closest('.output');\n",
              "if (outputEl) {{\n",
              "    x.observe(outputEl, {childList: true});\n",
              "}}\n",
              "\n",
              "                        })                };                            </script>        </div>\n",
              "</body>\n",
              "</html>"
            ]
          },
          "metadata": {}
        }
      ]
    },
    {
      "cell_type": "markdown",
      "source": [],
      "metadata": {
        "id": "Kk8tftkFGN2A"
      }
    }
  ]
}