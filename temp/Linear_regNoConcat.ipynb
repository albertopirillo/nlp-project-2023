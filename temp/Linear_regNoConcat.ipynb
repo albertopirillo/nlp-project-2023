{
  "nbformat": 4,
  "nbformat_minor": 0,
  "metadata": {
    "colab": {
      "provenance": []
    },
    "kernelspec": {
      "name": "python3",
      "display_name": "Python 3"
    },
    "language_info": {
      "name": "python"
    },
    "widgets": {
      "application/vnd.jupyter.widget-state+json": {
        "1548ea4b67a8439591e611edf56aa326": {
          "model_module": "@jupyter-widgets/controls",
          "model_name": "HBoxModel",
          "model_module_version": "1.5.0",
          "state": {
            "_dom_classes": [],
            "_model_module": "@jupyter-widgets/controls",
            "_model_module_version": "1.5.0",
            "_model_name": "HBoxModel",
            "_view_count": null,
            "_view_module": "@jupyter-widgets/controls",
            "_view_module_version": "1.5.0",
            "_view_name": "HBoxView",
            "box_style": "",
            "children": [
              "IPY_MODEL_323200d6375845ac981d453031ed0581",
              "IPY_MODEL_75afdd0402594fc8a480c07b748fa1b4",
              "IPY_MODEL_9b5ec44f4216460ebfb9203f76ad4c6c"
            ],
            "layout": "IPY_MODEL_800b409991644df398decb16f6670feb"
          }
        },
        "323200d6375845ac981d453031ed0581": {
          "model_module": "@jupyter-widgets/controls",
          "model_name": "HTMLModel",
          "model_module_version": "1.5.0",
          "state": {
            "_dom_classes": [],
            "_model_module": "@jupyter-widgets/controls",
            "_model_module_version": "1.5.0",
            "_model_name": "HTMLModel",
            "_view_count": null,
            "_view_module": "@jupyter-widgets/controls",
            "_view_module_version": "1.5.0",
            "_view_name": "HTMLView",
            "description": "",
            "description_tooltip": null,
            "layout": "IPY_MODEL_b073d21565414df4b11dcb901d0694e3",
            "placeholder": "​",
            "style": "IPY_MODEL_1d017d5efc00472dbf6b97cdada25d23",
            "value": "Downloading (…)a8e1d/.gitattributes: 100%"
          }
        },
        "75afdd0402594fc8a480c07b748fa1b4": {
          "model_module": "@jupyter-widgets/controls",
          "model_name": "FloatProgressModel",
          "model_module_version": "1.5.0",
          "state": {
            "_dom_classes": [],
            "_model_module": "@jupyter-widgets/controls",
            "_model_module_version": "1.5.0",
            "_model_name": "FloatProgressModel",
            "_view_count": null,
            "_view_module": "@jupyter-widgets/controls",
            "_view_module_version": "1.5.0",
            "_view_name": "ProgressView",
            "bar_style": "success",
            "description": "",
            "description_tooltip": null,
            "layout": "IPY_MODEL_130b48b7efe741359ae1d26ab5ce078a",
            "max": 1175,
            "min": 0,
            "orientation": "horizontal",
            "style": "IPY_MODEL_0942d776150d4896a4b8eed54decefb9",
            "value": 1175
          }
        },
        "9b5ec44f4216460ebfb9203f76ad4c6c": {
          "model_module": "@jupyter-widgets/controls",
          "model_name": "HTMLModel",
          "model_module_version": "1.5.0",
          "state": {
            "_dom_classes": [],
            "_model_module": "@jupyter-widgets/controls",
            "_model_module_version": "1.5.0",
            "_model_name": "HTMLModel",
            "_view_count": null,
            "_view_module": "@jupyter-widgets/controls",
            "_view_module_version": "1.5.0",
            "_view_name": "HTMLView",
            "description": "",
            "description_tooltip": null,
            "layout": "IPY_MODEL_d690016e91a249bb9f857f76b4ff443f",
            "placeholder": "​",
            "style": "IPY_MODEL_2ffac350b53544ae8c7746752e033817",
            "value": " 1.18k/1.18k [00:00&lt;00:00, 42.8kB/s]"
          }
        },
        "800b409991644df398decb16f6670feb": {
          "model_module": "@jupyter-widgets/base",
          "model_name": "LayoutModel",
          "model_module_version": "1.2.0",
          "state": {
            "_model_module": "@jupyter-widgets/base",
            "_model_module_version": "1.2.0",
            "_model_name": "LayoutModel",
            "_view_count": null,
            "_view_module": "@jupyter-widgets/base",
            "_view_module_version": "1.2.0",
            "_view_name": "LayoutView",
            "align_content": null,
            "align_items": null,
            "align_self": null,
            "border": null,
            "bottom": null,
            "display": null,
            "flex": null,
            "flex_flow": null,
            "grid_area": null,
            "grid_auto_columns": null,
            "grid_auto_flow": null,
            "grid_auto_rows": null,
            "grid_column": null,
            "grid_gap": null,
            "grid_row": null,
            "grid_template_areas": null,
            "grid_template_columns": null,
            "grid_template_rows": null,
            "height": null,
            "justify_content": null,
            "justify_items": null,
            "left": null,
            "margin": null,
            "max_height": null,
            "max_width": null,
            "min_height": null,
            "min_width": null,
            "object_fit": null,
            "object_position": null,
            "order": null,
            "overflow": null,
            "overflow_x": null,
            "overflow_y": null,
            "padding": null,
            "right": null,
            "top": null,
            "visibility": null,
            "width": null
          }
        },
        "b073d21565414df4b11dcb901d0694e3": {
          "model_module": "@jupyter-widgets/base",
          "model_name": "LayoutModel",
          "model_module_version": "1.2.0",
          "state": {
            "_model_module": "@jupyter-widgets/base",
            "_model_module_version": "1.2.0",
            "_model_name": "LayoutModel",
            "_view_count": null,
            "_view_module": "@jupyter-widgets/base",
            "_view_module_version": "1.2.0",
            "_view_name": "LayoutView",
            "align_content": null,
            "align_items": null,
            "align_self": null,
            "border": null,
            "bottom": null,
            "display": null,
            "flex": null,
            "flex_flow": null,
            "grid_area": null,
            "grid_auto_columns": null,
            "grid_auto_flow": null,
            "grid_auto_rows": null,
            "grid_column": null,
            "grid_gap": null,
            "grid_row": null,
            "grid_template_areas": null,
            "grid_template_columns": null,
            "grid_template_rows": null,
            "height": null,
            "justify_content": null,
            "justify_items": null,
            "left": null,
            "margin": null,
            "max_height": null,
            "max_width": null,
            "min_height": null,
            "min_width": null,
            "object_fit": null,
            "object_position": null,
            "order": null,
            "overflow": null,
            "overflow_x": null,
            "overflow_y": null,
            "padding": null,
            "right": null,
            "top": null,
            "visibility": null,
            "width": null
          }
        },
        "1d017d5efc00472dbf6b97cdada25d23": {
          "model_module": "@jupyter-widgets/controls",
          "model_name": "DescriptionStyleModel",
          "model_module_version": "1.5.0",
          "state": {
            "_model_module": "@jupyter-widgets/controls",
            "_model_module_version": "1.5.0",
            "_model_name": "DescriptionStyleModel",
            "_view_count": null,
            "_view_module": "@jupyter-widgets/base",
            "_view_module_version": "1.2.0",
            "_view_name": "StyleView",
            "description_width": ""
          }
        },
        "130b48b7efe741359ae1d26ab5ce078a": {
          "model_module": "@jupyter-widgets/base",
          "model_name": "LayoutModel",
          "model_module_version": "1.2.0",
          "state": {
            "_model_module": "@jupyter-widgets/base",
            "_model_module_version": "1.2.0",
            "_model_name": "LayoutModel",
            "_view_count": null,
            "_view_module": "@jupyter-widgets/base",
            "_view_module_version": "1.2.0",
            "_view_name": "LayoutView",
            "align_content": null,
            "align_items": null,
            "align_self": null,
            "border": null,
            "bottom": null,
            "display": null,
            "flex": null,
            "flex_flow": null,
            "grid_area": null,
            "grid_auto_columns": null,
            "grid_auto_flow": null,
            "grid_auto_rows": null,
            "grid_column": null,
            "grid_gap": null,
            "grid_row": null,
            "grid_template_areas": null,
            "grid_template_columns": null,
            "grid_template_rows": null,
            "height": null,
            "justify_content": null,
            "justify_items": null,
            "left": null,
            "margin": null,
            "max_height": null,
            "max_width": null,
            "min_height": null,
            "min_width": null,
            "object_fit": null,
            "object_position": null,
            "order": null,
            "overflow": null,
            "overflow_x": null,
            "overflow_y": null,
            "padding": null,
            "right": null,
            "top": null,
            "visibility": null,
            "width": null
          }
        },
        "0942d776150d4896a4b8eed54decefb9": {
          "model_module": "@jupyter-widgets/controls",
          "model_name": "ProgressStyleModel",
          "model_module_version": "1.5.0",
          "state": {
            "_model_module": "@jupyter-widgets/controls",
            "_model_module_version": "1.5.0",
            "_model_name": "ProgressStyleModel",
            "_view_count": null,
            "_view_module": "@jupyter-widgets/base",
            "_view_module_version": "1.2.0",
            "_view_name": "StyleView",
            "bar_color": null,
            "description_width": ""
          }
        },
        "d690016e91a249bb9f857f76b4ff443f": {
          "model_module": "@jupyter-widgets/base",
          "model_name": "LayoutModel",
          "model_module_version": "1.2.0",
          "state": {
            "_model_module": "@jupyter-widgets/base",
            "_model_module_version": "1.2.0",
            "_model_name": "LayoutModel",
            "_view_count": null,
            "_view_module": "@jupyter-widgets/base",
            "_view_module_version": "1.2.0",
            "_view_name": "LayoutView",
            "align_content": null,
            "align_items": null,
            "align_self": null,
            "border": null,
            "bottom": null,
            "display": null,
            "flex": null,
            "flex_flow": null,
            "grid_area": null,
            "grid_auto_columns": null,
            "grid_auto_flow": null,
            "grid_auto_rows": null,
            "grid_column": null,
            "grid_gap": null,
            "grid_row": null,
            "grid_template_areas": null,
            "grid_template_columns": null,
            "grid_template_rows": null,
            "height": null,
            "justify_content": null,
            "justify_items": null,
            "left": null,
            "margin": null,
            "max_height": null,
            "max_width": null,
            "min_height": null,
            "min_width": null,
            "object_fit": null,
            "object_position": null,
            "order": null,
            "overflow": null,
            "overflow_x": null,
            "overflow_y": null,
            "padding": null,
            "right": null,
            "top": null,
            "visibility": null,
            "width": null
          }
        },
        "2ffac350b53544ae8c7746752e033817": {
          "model_module": "@jupyter-widgets/controls",
          "model_name": "DescriptionStyleModel",
          "model_module_version": "1.5.0",
          "state": {
            "_model_module": "@jupyter-widgets/controls",
            "_model_module_version": "1.5.0",
            "_model_name": "DescriptionStyleModel",
            "_view_count": null,
            "_view_module": "@jupyter-widgets/base",
            "_view_module_version": "1.2.0",
            "_view_name": "StyleView",
            "description_width": ""
          }
        },
        "f08c53f123184ef2b48b8d1ccaa7c938": {
          "model_module": "@jupyter-widgets/controls",
          "model_name": "HBoxModel",
          "model_module_version": "1.5.0",
          "state": {
            "_dom_classes": [],
            "_model_module": "@jupyter-widgets/controls",
            "_model_module_version": "1.5.0",
            "_model_name": "HBoxModel",
            "_view_count": null,
            "_view_module": "@jupyter-widgets/controls",
            "_view_module_version": "1.5.0",
            "_view_name": "HBoxView",
            "box_style": "",
            "children": [
              "IPY_MODEL_53ae3f0d98b24d34a89d27ecca9d94c9",
              "IPY_MODEL_e5a7c8699ad04eecb0207312876eaf6f",
              "IPY_MODEL_ae9b7aac75dd429ebb25c62105b29a59"
            ],
            "layout": "IPY_MODEL_3ea370841e1a406797ff260c63353526"
          }
        },
        "53ae3f0d98b24d34a89d27ecca9d94c9": {
          "model_module": "@jupyter-widgets/controls",
          "model_name": "HTMLModel",
          "model_module_version": "1.5.0",
          "state": {
            "_dom_classes": [],
            "_model_module": "@jupyter-widgets/controls",
            "_model_module_version": "1.5.0",
            "_model_name": "HTMLModel",
            "_view_count": null,
            "_view_module": "@jupyter-widgets/controls",
            "_view_module_version": "1.5.0",
            "_view_name": "HTMLView",
            "description": "",
            "description_tooltip": null,
            "layout": "IPY_MODEL_dc822f7ec17246d1891277c6bb8dce7e",
            "placeholder": "​",
            "style": "IPY_MODEL_883ed3a664924244a1e01d6e4bde0499",
            "value": "Downloading (…)_Pooling/config.json: 100%"
          }
        },
        "e5a7c8699ad04eecb0207312876eaf6f": {
          "model_module": "@jupyter-widgets/controls",
          "model_name": "FloatProgressModel",
          "model_module_version": "1.5.0",
          "state": {
            "_dom_classes": [],
            "_model_module": "@jupyter-widgets/controls",
            "_model_module_version": "1.5.0",
            "_model_name": "FloatProgressModel",
            "_view_count": null,
            "_view_module": "@jupyter-widgets/controls",
            "_view_module_version": "1.5.0",
            "_view_name": "ProgressView",
            "bar_style": "success",
            "description": "",
            "description_tooltip": null,
            "layout": "IPY_MODEL_8600494987fa4bc594ab1f18d54462cc",
            "max": 190,
            "min": 0,
            "orientation": "horizontal",
            "style": "IPY_MODEL_d26e626d6282492589a8cf9bcd78f3ae",
            "value": 190
          }
        },
        "ae9b7aac75dd429ebb25c62105b29a59": {
          "model_module": "@jupyter-widgets/controls",
          "model_name": "HTMLModel",
          "model_module_version": "1.5.0",
          "state": {
            "_dom_classes": [],
            "_model_module": "@jupyter-widgets/controls",
            "_model_module_version": "1.5.0",
            "_model_name": "HTMLModel",
            "_view_count": null,
            "_view_module": "@jupyter-widgets/controls",
            "_view_module_version": "1.5.0",
            "_view_name": "HTMLView",
            "description": "",
            "description_tooltip": null,
            "layout": "IPY_MODEL_beefc5b779744a658bee58b278a175d5",
            "placeholder": "​",
            "style": "IPY_MODEL_1ba82bc4d3fe44f6a7ff71b61501b29d",
            "value": " 190/190 [00:00&lt;00:00, 2.18kB/s]"
          }
        },
        "3ea370841e1a406797ff260c63353526": {
          "model_module": "@jupyter-widgets/base",
          "model_name": "LayoutModel",
          "model_module_version": "1.2.0",
          "state": {
            "_model_module": "@jupyter-widgets/base",
            "_model_module_version": "1.2.0",
            "_model_name": "LayoutModel",
            "_view_count": null,
            "_view_module": "@jupyter-widgets/base",
            "_view_module_version": "1.2.0",
            "_view_name": "LayoutView",
            "align_content": null,
            "align_items": null,
            "align_self": null,
            "border": null,
            "bottom": null,
            "display": null,
            "flex": null,
            "flex_flow": null,
            "grid_area": null,
            "grid_auto_columns": null,
            "grid_auto_flow": null,
            "grid_auto_rows": null,
            "grid_column": null,
            "grid_gap": null,
            "grid_row": null,
            "grid_template_areas": null,
            "grid_template_columns": null,
            "grid_template_rows": null,
            "height": null,
            "justify_content": null,
            "justify_items": null,
            "left": null,
            "margin": null,
            "max_height": null,
            "max_width": null,
            "min_height": null,
            "min_width": null,
            "object_fit": null,
            "object_position": null,
            "order": null,
            "overflow": null,
            "overflow_x": null,
            "overflow_y": null,
            "padding": null,
            "right": null,
            "top": null,
            "visibility": null,
            "width": null
          }
        },
        "dc822f7ec17246d1891277c6bb8dce7e": {
          "model_module": "@jupyter-widgets/base",
          "model_name": "LayoutModel",
          "model_module_version": "1.2.0",
          "state": {
            "_model_module": "@jupyter-widgets/base",
            "_model_module_version": "1.2.0",
            "_model_name": "LayoutModel",
            "_view_count": null,
            "_view_module": "@jupyter-widgets/base",
            "_view_module_version": "1.2.0",
            "_view_name": "LayoutView",
            "align_content": null,
            "align_items": null,
            "align_self": null,
            "border": null,
            "bottom": null,
            "display": null,
            "flex": null,
            "flex_flow": null,
            "grid_area": null,
            "grid_auto_columns": null,
            "grid_auto_flow": null,
            "grid_auto_rows": null,
            "grid_column": null,
            "grid_gap": null,
            "grid_row": null,
            "grid_template_areas": null,
            "grid_template_columns": null,
            "grid_template_rows": null,
            "height": null,
            "justify_content": null,
            "justify_items": null,
            "left": null,
            "margin": null,
            "max_height": null,
            "max_width": null,
            "min_height": null,
            "min_width": null,
            "object_fit": null,
            "object_position": null,
            "order": null,
            "overflow": null,
            "overflow_x": null,
            "overflow_y": null,
            "padding": null,
            "right": null,
            "top": null,
            "visibility": null,
            "width": null
          }
        },
        "883ed3a664924244a1e01d6e4bde0499": {
          "model_module": "@jupyter-widgets/controls",
          "model_name": "DescriptionStyleModel",
          "model_module_version": "1.5.0",
          "state": {
            "_model_module": "@jupyter-widgets/controls",
            "_model_module_version": "1.5.0",
            "_model_name": "DescriptionStyleModel",
            "_view_count": null,
            "_view_module": "@jupyter-widgets/base",
            "_view_module_version": "1.2.0",
            "_view_name": "StyleView",
            "description_width": ""
          }
        },
        "8600494987fa4bc594ab1f18d54462cc": {
          "model_module": "@jupyter-widgets/base",
          "model_name": "LayoutModel",
          "model_module_version": "1.2.0",
          "state": {
            "_model_module": "@jupyter-widgets/base",
            "_model_module_version": "1.2.0",
            "_model_name": "LayoutModel",
            "_view_count": null,
            "_view_module": "@jupyter-widgets/base",
            "_view_module_version": "1.2.0",
            "_view_name": "LayoutView",
            "align_content": null,
            "align_items": null,
            "align_self": null,
            "border": null,
            "bottom": null,
            "display": null,
            "flex": null,
            "flex_flow": null,
            "grid_area": null,
            "grid_auto_columns": null,
            "grid_auto_flow": null,
            "grid_auto_rows": null,
            "grid_column": null,
            "grid_gap": null,
            "grid_row": null,
            "grid_template_areas": null,
            "grid_template_columns": null,
            "grid_template_rows": null,
            "height": null,
            "justify_content": null,
            "justify_items": null,
            "left": null,
            "margin": null,
            "max_height": null,
            "max_width": null,
            "min_height": null,
            "min_width": null,
            "object_fit": null,
            "object_position": null,
            "order": null,
            "overflow": null,
            "overflow_x": null,
            "overflow_y": null,
            "padding": null,
            "right": null,
            "top": null,
            "visibility": null,
            "width": null
          }
        },
        "d26e626d6282492589a8cf9bcd78f3ae": {
          "model_module": "@jupyter-widgets/controls",
          "model_name": "ProgressStyleModel",
          "model_module_version": "1.5.0",
          "state": {
            "_model_module": "@jupyter-widgets/controls",
            "_model_module_version": "1.5.0",
            "_model_name": "ProgressStyleModel",
            "_view_count": null,
            "_view_module": "@jupyter-widgets/base",
            "_view_module_version": "1.2.0",
            "_view_name": "StyleView",
            "bar_color": null,
            "description_width": ""
          }
        },
        "beefc5b779744a658bee58b278a175d5": {
          "model_module": "@jupyter-widgets/base",
          "model_name": "LayoutModel",
          "model_module_version": "1.2.0",
          "state": {
            "_model_module": "@jupyter-widgets/base",
            "_model_module_version": "1.2.0",
            "_model_name": "LayoutModel",
            "_view_count": null,
            "_view_module": "@jupyter-widgets/base",
            "_view_module_version": "1.2.0",
            "_view_name": "LayoutView",
            "align_content": null,
            "align_items": null,
            "align_self": null,
            "border": null,
            "bottom": null,
            "display": null,
            "flex": null,
            "flex_flow": null,
            "grid_area": null,
            "grid_auto_columns": null,
            "grid_auto_flow": null,
            "grid_auto_rows": null,
            "grid_column": null,
            "grid_gap": null,
            "grid_row": null,
            "grid_template_areas": null,
            "grid_template_columns": null,
            "grid_template_rows": null,
            "height": null,
            "justify_content": null,
            "justify_items": null,
            "left": null,
            "margin": null,
            "max_height": null,
            "max_width": null,
            "min_height": null,
            "min_width": null,
            "object_fit": null,
            "object_position": null,
            "order": null,
            "overflow": null,
            "overflow_x": null,
            "overflow_y": null,
            "padding": null,
            "right": null,
            "top": null,
            "visibility": null,
            "width": null
          }
        },
        "1ba82bc4d3fe44f6a7ff71b61501b29d": {
          "model_module": "@jupyter-widgets/controls",
          "model_name": "DescriptionStyleModel",
          "model_module_version": "1.5.0",
          "state": {
            "_model_module": "@jupyter-widgets/controls",
            "_model_module_version": "1.5.0",
            "_model_name": "DescriptionStyleModel",
            "_view_count": null,
            "_view_module": "@jupyter-widgets/base",
            "_view_module_version": "1.2.0",
            "_view_name": "StyleView",
            "description_width": ""
          }
        },
        "d41bed790080402fae8333600a621580": {
          "model_module": "@jupyter-widgets/controls",
          "model_name": "HBoxModel",
          "model_module_version": "1.5.0",
          "state": {
            "_dom_classes": [],
            "_model_module": "@jupyter-widgets/controls",
            "_model_module_version": "1.5.0",
            "_model_name": "HBoxModel",
            "_view_count": null,
            "_view_module": "@jupyter-widgets/controls",
            "_view_module_version": "1.5.0",
            "_view_name": "HBoxView",
            "box_style": "",
            "children": [
              "IPY_MODEL_c5d3307ba97f41f3a3c0348d40b41c8d",
              "IPY_MODEL_d75fb7bcc2a74fd88409e244df2b2660",
              "IPY_MODEL_41ef3efdb2dc4d2ab97326837fa35e0e"
            ],
            "layout": "IPY_MODEL_11f0450a414c4db9a8b935588f11f43d"
          }
        },
        "c5d3307ba97f41f3a3c0348d40b41c8d": {
          "model_module": "@jupyter-widgets/controls",
          "model_name": "HTMLModel",
          "model_module_version": "1.5.0",
          "state": {
            "_dom_classes": [],
            "_model_module": "@jupyter-widgets/controls",
            "_model_module_version": "1.5.0",
            "_model_name": "HTMLModel",
            "_view_count": null,
            "_view_module": "@jupyter-widgets/controls",
            "_view_module_version": "1.5.0",
            "_view_name": "HTMLView",
            "description": "",
            "description_tooltip": null,
            "layout": "IPY_MODEL_e1e2b19d2b154b0b857043268c732268",
            "placeholder": "​",
            "style": "IPY_MODEL_fc7c25c1e2e9426ba31c95b39294924b",
            "value": "Downloading (…)b20bca8e1d/README.md: 100%"
          }
        },
        "d75fb7bcc2a74fd88409e244df2b2660": {
          "model_module": "@jupyter-widgets/controls",
          "model_name": "FloatProgressModel",
          "model_module_version": "1.5.0",
          "state": {
            "_dom_classes": [],
            "_model_module": "@jupyter-widgets/controls",
            "_model_module_version": "1.5.0",
            "_model_name": "FloatProgressModel",
            "_view_count": null,
            "_view_module": "@jupyter-widgets/controls",
            "_view_module_version": "1.5.0",
            "_view_name": "ProgressView",
            "bar_style": "success",
            "description": "",
            "description_tooltip": null,
            "layout": "IPY_MODEL_3cb1e566d51f4d57870b8843a6dc0112",
            "max": 10571,
            "min": 0,
            "orientation": "horizontal",
            "style": "IPY_MODEL_9476f08817d2415baff3f2a7a0b91ce4",
            "value": 10571
          }
        },
        "41ef3efdb2dc4d2ab97326837fa35e0e": {
          "model_module": "@jupyter-widgets/controls",
          "model_name": "HTMLModel",
          "model_module_version": "1.5.0",
          "state": {
            "_dom_classes": [],
            "_model_module": "@jupyter-widgets/controls",
            "_model_module_version": "1.5.0",
            "_model_name": "HTMLModel",
            "_view_count": null,
            "_view_module": "@jupyter-widgets/controls",
            "_view_module_version": "1.5.0",
            "_view_name": "HTMLView",
            "description": "",
            "description_tooltip": null,
            "layout": "IPY_MODEL_d1ac2f88bc304d31825d80e7e9dd601e",
            "placeholder": "​",
            "style": "IPY_MODEL_c617edf902d9497787f704f2e9743e6e",
            "value": " 10.6k/10.6k [00:00&lt;00:00, 444kB/s]"
          }
        },
        "11f0450a414c4db9a8b935588f11f43d": {
          "model_module": "@jupyter-widgets/base",
          "model_name": "LayoutModel",
          "model_module_version": "1.2.0",
          "state": {
            "_model_module": "@jupyter-widgets/base",
            "_model_module_version": "1.2.0",
            "_model_name": "LayoutModel",
            "_view_count": null,
            "_view_module": "@jupyter-widgets/base",
            "_view_module_version": "1.2.0",
            "_view_name": "LayoutView",
            "align_content": null,
            "align_items": null,
            "align_self": null,
            "border": null,
            "bottom": null,
            "display": null,
            "flex": null,
            "flex_flow": null,
            "grid_area": null,
            "grid_auto_columns": null,
            "grid_auto_flow": null,
            "grid_auto_rows": null,
            "grid_column": null,
            "grid_gap": null,
            "grid_row": null,
            "grid_template_areas": null,
            "grid_template_columns": null,
            "grid_template_rows": null,
            "height": null,
            "justify_content": null,
            "justify_items": null,
            "left": null,
            "margin": null,
            "max_height": null,
            "max_width": null,
            "min_height": null,
            "min_width": null,
            "object_fit": null,
            "object_position": null,
            "order": null,
            "overflow": null,
            "overflow_x": null,
            "overflow_y": null,
            "padding": null,
            "right": null,
            "top": null,
            "visibility": null,
            "width": null
          }
        },
        "e1e2b19d2b154b0b857043268c732268": {
          "model_module": "@jupyter-widgets/base",
          "model_name": "LayoutModel",
          "model_module_version": "1.2.0",
          "state": {
            "_model_module": "@jupyter-widgets/base",
            "_model_module_version": "1.2.0",
            "_model_name": "LayoutModel",
            "_view_count": null,
            "_view_module": "@jupyter-widgets/base",
            "_view_module_version": "1.2.0",
            "_view_name": "LayoutView",
            "align_content": null,
            "align_items": null,
            "align_self": null,
            "border": null,
            "bottom": null,
            "display": null,
            "flex": null,
            "flex_flow": null,
            "grid_area": null,
            "grid_auto_columns": null,
            "grid_auto_flow": null,
            "grid_auto_rows": null,
            "grid_column": null,
            "grid_gap": null,
            "grid_row": null,
            "grid_template_areas": null,
            "grid_template_columns": null,
            "grid_template_rows": null,
            "height": null,
            "justify_content": null,
            "justify_items": null,
            "left": null,
            "margin": null,
            "max_height": null,
            "max_width": null,
            "min_height": null,
            "min_width": null,
            "object_fit": null,
            "object_position": null,
            "order": null,
            "overflow": null,
            "overflow_x": null,
            "overflow_y": null,
            "padding": null,
            "right": null,
            "top": null,
            "visibility": null,
            "width": null
          }
        },
        "fc7c25c1e2e9426ba31c95b39294924b": {
          "model_module": "@jupyter-widgets/controls",
          "model_name": "DescriptionStyleModel",
          "model_module_version": "1.5.0",
          "state": {
            "_model_module": "@jupyter-widgets/controls",
            "_model_module_version": "1.5.0",
            "_model_name": "DescriptionStyleModel",
            "_view_count": null,
            "_view_module": "@jupyter-widgets/base",
            "_view_module_version": "1.2.0",
            "_view_name": "StyleView",
            "description_width": ""
          }
        },
        "3cb1e566d51f4d57870b8843a6dc0112": {
          "model_module": "@jupyter-widgets/base",
          "model_name": "LayoutModel",
          "model_module_version": "1.2.0",
          "state": {
            "_model_module": "@jupyter-widgets/base",
            "_model_module_version": "1.2.0",
            "_model_name": "LayoutModel",
            "_view_count": null,
            "_view_module": "@jupyter-widgets/base",
            "_view_module_version": "1.2.0",
            "_view_name": "LayoutView",
            "align_content": null,
            "align_items": null,
            "align_self": null,
            "border": null,
            "bottom": null,
            "display": null,
            "flex": null,
            "flex_flow": null,
            "grid_area": null,
            "grid_auto_columns": null,
            "grid_auto_flow": null,
            "grid_auto_rows": null,
            "grid_column": null,
            "grid_gap": null,
            "grid_row": null,
            "grid_template_areas": null,
            "grid_template_columns": null,
            "grid_template_rows": null,
            "height": null,
            "justify_content": null,
            "justify_items": null,
            "left": null,
            "margin": null,
            "max_height": null,
            "max_width": null,
            "min_height": null,
            "min_width": null,
            "object_fit": null,
            "object_position": null,
            "order": null,
            "overflow": null,
            "overflow_x": null,
            "overflow_y": null,
            "padding": null,
            "right": null,
            "top": null,
            "visibility": null,
            "width": null
          }
        },
        "9476f08817d2415baff3f2a7a0b91ce4": {
          "model_module": "@jupyter-widgets/controls",
          "model_name": "ProgressStyleModel",
          "model_module_version": "1.5.0",
          "state": {
            "_model_module": "@jupyter-widgets/controls",
            "_model_module_version": "1.5.0",
            "_model_name": "ProgressStyleModel",
            "_view_count": null,
            "_view_module": "@jupyter-widgets/base",
            "_view_module_version": "1.2.0",
            "_view_name": "StyleView",
            "bar_color": null,
            "description_width": ""
          }
        },
        "d1ac2f88bc304d31825d80e7e9dd601e": {
          "model_module": "@jupyter-widgets/base",
          "model_name": "LayoutModel",
          "model_module_version": "1.2.0",
          "state": {
            "_model_module": "@jupyter-widgets/base",
            "_model_module_version": "1.2.0",
            "_model_name": "LayoutModel",
            "_view_count": null,
            "_view_module": "@jupyter-widgets/base",
            "_view_module_version": "1.2.0",
            "_view_name": "LayoutView",
            "align_content": null,
            "align_items": null,
            "align_self": null,
            "border": null,
            "bottom": null,
            "display": null,
            "flex": null,
            "flex_flow": null,
            "grid_area": null,
            "grid_auto_columns": null,
            "grid_auto_flow": null,
            "grid_auto_rows": null,
            "grid_column": null,
            "grid_gap": null,
            "grid_row": null,
            "grid_template_areas": null,
            "grid_template_columns": null,
            "grid_template_rows": null,
            "height": null,
            "justify_content": null,
            "justify_items": null,
            "left": null,
            "margin": null,
            "max_height": null,
            "max_width": null,
            "min_height": null,
            "min_width": null,
            "object_fit": null,
            "object_position": null,
            "order": null,
            "overflow": null,
            "overflow_x": null,
            "overflow_y": null,
            "padding": null,
            "right": null,
            "top": null,
            "visibility": null,
            "width": null
          }
        },
        "c617edf902d9497787f704f2e9743e6e": {
          "model_module": "@jupyter-widgets/controls",
          "model_name": "DescriptionStyleModel",
          "model_module_version": "1.5.0",
          "state": {
            "_model_module": "@jupyter-widgets/controls",
            "_model_module_version": "1.5.0",
            "_model_name": "DescriptionStyleModel",
            "_view_count": null,
            "_view_module": "@jupyter-widgets/base",
            "_view_module_version": "1.2.0",
            "_view_name": "StyleView",
            "description_width": ""
          }
        },
        "6d41ec3fbdf046dda97e06473c6fe7ac": {
          "model_module": "@jupyter-widgets/controls",
          "model_name": "HBoxModel",
          "model_module_version": "1.5.0",
          "state": {
            "_dom_classes": [],
            "_model_module": "@jupyter-widgets/controls",
            "_model_module_version": "1.5.0",
            "_model_name": "HBoxModel",
            "_view_count": null,
            "_view_module": "@jupyter-widgets/controls",
            "_view_module_version": "1.5.0",
            "_view_name": "HBoxView",
            "box_style": "",
            "children": [
              "IPY_MODEL_0981fdc48ce4493383b1308ad7377f86",
              "IPY_MODEL_ce4974e2c94c4ec9b5c05cda682f9734",
              "IPY_MODEL_dd195aaf5a0342d29aa9e63ba8274cea"
            ],
            "layout": "IPY_MODEL_e58d02dae4bf4feb85de9faf61707590"
          }
        },
        "0981fdc48ce4493383b1308ad7377f86": {
          "model_module": "@jupyter-widgets/controls",
          "model_name": "HTMLModel",
          "model_module_version": "1.5.0",
          "state": {
            "_dom_classes": [],
            "_model_module": "@jupyter-widgets/controls",
            "_model_module_version": "1.5.0",
            "_model_name": "HTMLModel",
            "_view_count": null,
            "_view_module": "@jupyter-widgets/controls",
            "_view_module_version": "1.5.0",
            "_view_name": "HTMLView",
            "description": "",
            "description_tooltip": null,
            "layout": "IPY_MODEL_24d0ddcfb8af40439ed9236e26787f27",
            "placeholder": "​",
            "style": "IPY_MODEL_2c92b5f883574117ab6596d204a0965b",
            "value": "Downloading (…)0bca8e1d/config.json: 100%"
          }
        },
        "ce4974e2c94c4ec9b5c05cda682f9734": {
          "model_module": "@jupyter-widgets/controls",
          "model_name": "FloatProgressModel",
          "model_module_version": "1.5.0",
          "state": {
            "_dom_classes": [],
            "_model_module": "@jupyter-widgets/controls",
            "_model_module_version": "1.5.0",
            "_model_name": "FloatProgressModel",
            "_view_count": null,
            "_view_module": "@jupyter-widgets/controls",
            "_view_module_version": "1.5.0",
            "_view_name": "ProgressView",
            "bar_style": "success",
            "description": "",
            "description_tooltip": null,
            "layout": "IPY_MODEL_6a61b861dd75476c9aaeeaf71c11267c",
            "max": 571,
            "min": 0,
            "orientation": "horizontal",
            "style": "IPY_MODEL_9455c30e1ff640fcbf0f26666e87343d",
            "value": 571
          }
        },
        "dd195aaf5a0342d29aa9e63ba8274cea": {
          "model_module": "@jupyter-widgets/controls",
          "model_name": "HTMLModel",
          "model_module_version": "1.5.0",
          "state": {
            "_dom_classes": [],
            "_model_module": "@jupyter-widgets/controls",
            "_model_module_version": "1.5.0",
            "_model_name": "HTMLModel",
            "_view_count": null,
            "_view_module": "@jupyter-widgets/controls",
            "_view_module_version": "1.5.0",
            "_view_name": "HTMLView",
            "description": "",
            "description_tooltip": null,
            "layout": "IPY_MODEL_2b897a5167f44af081b7c468333a6140",
            "placeholder": "​",
            "style": "IPY_MODEL_a93b5d891cf34e78ac297489507f8573",
            "value": " 571/571 [00:00&lt;00:00, 5.49kB/s]"
          }
        },
        "e58d02dae4bf4feb85de9faf61707590": {
          "model_module": "@jupyter-widgets/base",
          "model_name": "LayoutModel",
          "model_module_version": "1.2.0",
          "state": {
            "_model_module": "@jupyter-widgets/base",
            "_model_module_version": "1.2.0",
            "_model_name": "LayoutModel",
            "_view_count": null,
            "_view_module": "@jupyter-widgets/base",
            "_view_module_version": "1.2.0",
            "_view_name": "LayoutView",
            "align_content": null,
            "align_items": null,
            "align_self": null,
            "border": null,
            "bottom": null,
            "display": null,
            "flex": null,
            "flex_flow": null,
            "grid_area": null,
            "grid_auto_columns": null,
            "grid_auto_flow": null,
            "grid_auto_rows": null,
            "grid_column": null,
            "grid_gap": null,
            "grid_row": null,
            "grid_template_areas": null,
            "grid_template_columns": null,
            "grid_template_rows": null,
            "height": null,
            "justify_content": null,
            "justify_items": null,
            "left": null,
            "margin": null,
            "max_height": null,
            "max_width": null,
            "min_height": null,
            "min_width": null,
            "object_fit": null,
            "object_position": null,
            "order": null,
            "overflow": null,
            "overflow_x": null,
            "overflow_y": null,
            "padding": null,
            "right": null,
            "top": null,
            "visibility": null,
            "width": null
          }
        },
        "24d0ddcfb8af40439ed9236e26787f27": {
          "model_module": "@jupyter-widgets/base",
          "model_name": "LayoutModel",
          "model_module_version": "1.2.0",
          "state": {
            "_model_module": "@jupyter-widgets/base",
            "_model_module_version": "1.2.0",
            "_model_name": "LayoutModel",
            "_view_count": null,
            "_view_module": "@jupyter-widgets/base",
            "_view_module_version": "1.2.0",
            "_view_name": "LayoutView",
            "align_content": null,
            "align_items": null,
            "align_self": null,
            "border": null,
            "bottom": null,
            "display": null,
            "flex": null,
            "flex_flow": null,
            "grid_area": null,
            "grid_auto_columns": null,
            "grid_auto_flow": null,
            "grid_auto_rows": null,
            "grid_column": null,
            "grid_gap": null,
            "grid_row": null,
            "grid_template_areas": null,
            "grid_template_columns": null,
            "grid_template_rows": null,
            "height": null,
            "justify_content": null,
            "justify_items": null,
            "left": null,
            "margin": null,
            "max_height": null,
            "max_width": null,
            "min_height": null,
            "min_width": null,
            "object_fit": null,
            "object_position": null,
            "order": null,
            "overflow": null,
            "overflow_x": null,
            "overflow_y": null,
            "padding": null,
            "right": null,
            "top": null,
            "visibility": null,
            "width": null
          }
        },
        "2c92b5f883574117ab6596d204a0965b": {
          "model_module": "@jupyter-widgets/controls",
          "model_name": "DescriptionStyleModel",
          "model_module_version": "1.5.0",
          "state": {
            "_model_module": "@jupyter-widgets/controls",
            "_model_module_version": "1.5.0",
            "_model_name": "DescriptionStyleModel",
            "_view_count": null,
            "_view_module": "@jupyter-widgets/base",
            "_view_module_version": "1.2.0",
            "_view_name": "StyleView",
            "description_width": ""
          }
        },
        "6a61b861dd75476c9aaeeaf71c11267c": {
          "model_module": "@jupyter-widgets/base",
          "model_name": "LayoutModel",
          "model_module_version": "1.2.0",
          "state": {
            "_model_module": "@jupyter-widgets/base",
            "_model_module_version": "1.2.0",
            "_model_name": "LayoutModel",
            "_view_count": null,
            "_view_module": "@jupyter-widgets/base",
            "_view_module_version": "1.2.0",
            "_view_name": "LayoutView",
            "align_content": null,
            "align_items": null,
            "align_self": null,
            "border": null,
            "bottom": null,
            "display": null,
            "flex": null,
            "flex_flow": null,
            "grid_area": null,
            "grid_auto_columns": null,
            "grid_auto_flow": null,
            "grid_auto_rows": null,
            "grid_column": null,
            "grid_gap": null,
            "grid_row": null,
            "grid_template_areas": null,
            "grid_template_columns": null,
            "grid_template_rows": null,
            "height": null,
            "justify_content": null,
            "justify_items": null,
            "left": null,
            "margin": null,
            "max_height": null,
            "max_width": null,
            "min_height": null,
            "min_width": null,
            "object_fit": null,
            "object_position": null,
            "order": null,
            "overflow": null,
            "overflow_x": null,
            "overflow_y": null,
            "padding": null,
            "right": null,
            "top": null,
            "visibility": null,
            "width": null
          }
        },
        "9455c30e1ff640fcbf0f26666e87343d": {
          "model_module": "@jupyter-widgets/controls",
          "model_name": "ProgressStyleModel",
          "model_module_version": "1.5.0",
          "state": {
            "_model_module": "@jupyter-widgets/controls",
            "_model_module_version": "1.5.0",
            "_model_name": "ProgressStyleModel",
            "_view_count": null,
            "_view_module": "@jupyter-widgets/base",
            "_view_module_version": "1.2.0",
            "_view_name": "StyleView",
            "bar_color": null,
            "description_width": ""
          }
        },
        "2b897a5167f44af081b7c468333a6140": {
          "model_module": "@jupyter-widgets/base",
          "model_name": "LayoutModel",
          "model_module_version": "1.2.0",
          "state": {
            "_model_module": "@jupyter-widgets/base",
            "_model_module_version": "1.2.0",
            "_model_name": "LayoutModel",
            "_view_count": null,
            "_view_module": "@jupyter-widgets/base",
            "_view_module_version": "1.2.0",
            "_view_name": "LayoutView",
            "align_content": null,
            "align_items": null,
            "align_self": null,
            "border": null,
            "bottom": null,
            "display": null,
            "flex": null,
            "flex_flow": null,
            "grid_area": null,
            "grid_auto_columns": null,
            "grid_auto_flow": null,
            "grid_auto_rows": null,
            "grid_column": null,
            "grid_gap": null,
            "grid_row": null,
            "grid_template_areas": null,
            "grid_template_columns": null,
            "grid_template_rows": null,
            "height": null,
            "justify_content": null,
            "justify_items": null,
            "left": null,
            "margin": null,
            "max_height": null,
            "max_width": null,
            "min_height": null,
            "min_width": null,
            "object_fit": null,
            "object_position": null,
            "order": null,
            "overflow": null,
            "overflow_x": null,
            "overflow_y": null,
            "padding": null,
            "right": null,
            "top": null,
            "visibility": null,
            "width": null
          }
        },
        "a93b5d891cf34e78ac297489507f8573": {
          "model_module": "@jupyter-widgets/controls",
          "model_name": "DescriptionStyleModel",
          "model_module_version": "1.5.0",
          "state": {
            "_model_module": "@jupyter-widgets/controls",
            "_model_module_version": "1.5.0",
            "_model_name": "DescriptionStyleModel",
            "_view_count": null,
            "_view_module": "@jupyter-widgets/base",
            "_view_module_version": "1.2.0",
            "_view_name": "StyleView",
            "description_width": ""
          }
        },
        "1bd16f670d6448ab85e1479d6549d261": {
          "model_module": "@jupyter-widgets/controls",
          "model_name": "HBoxModel",
          "model_module_version": "1.5.0",
          "state": {
            "_dom_classes": [],
            "_model_module": "@jupyter-widgets/controls",
            "_model_module_version": "1.5.0",
            "_model_name": "HBoxModel",
            "_view_count": null,
            "_view_module": "@jupyter-widgets/controls",
            "_view_module_version": "1.5.0",
            "_view_name": "HBoxView",
            "box_style": "",
            "children": [
              "IPY_MODEL_055dda488087429585d57bcf321401a2",
              "IPY_MODEL_bdddebfdbe5b4b8c8c69d18730ec1b4e",
              "IPY_MODEL_d65e9981c9ae4ac887d37cebbed72f1d"
            ],
            "layout": "IPY_MODEL_5a4a1724d7ae4ae58638f370f9ff4a34"
          }
        },
        "055dda488087429585d57bcf321401a2": {
          "model_module": "@jupyter-widgets/controls",
          "model_name": "HTMLModel",
          "model_module_version": "1.5.0",
          "state": {
            "_dom_classes": [],
            "_model_module": "@jupyter-widgets/controls",
            "_model_module_version": "1.5.0",
            "_model_name": "HTMLModel",
            "_view_count": null,
            "_view_module": "@jupyter-widgets/controls",
            "_view_module_version": "1.5.0",
            "_view_name": "HTMLView",
            "description": "",
            "description_tooltip": null,
            "layout": "IPY_MODEL_e5227e7ec6914f61a1318fc7b91ae3df",
            "placeholder": "​",
            "style": "IPY_MODEL_41b0383e36784cef97be0f92bbe50dc0",
            "value": "Downloading (…)ce_transformers.json: 100%"
          }
        },
        "bdddebfdbe5b4b8c8c69d18730ec1b4e": {
          "model_module": "@jupyter-widgets/controls",
          "model_name": "FloatProgressModel",
          "model_module_version": "1.5.0",
          "state": {
            "_dom_classes": [],
            "_model_module": "@jupyter-widgets/controls",
            "_model_module_version": "1.5.0",
            "_model_name": "FloatProgressModel",
            "_view_count": null,
            "_view_module": "@jupyter-widgets/controls",
            "_view_module_version": "1.5.0",
            "_view_name": "ProgressView",
            "bar_style": "success",
            "description": "",
            "description_tooltip": null,
            "layout": "IPY_MODEL_f7c9ab012f364575928150033bffb833",
            "max": 116,
            "min": 0,
            "orientation": "horizontal",
            "style": "IPY_MODEL_798925950b024d3185aac2f7c8e87d12",
            "value": 116
          }
        },
        "d65e9981c9ae4ac887d37cebbed72f1d": {
          "model_module": "@jupyter-widgets/controls",
          "model_name": "HTMLModel",
          "model_module_version": "1.5.0",
          "state": {
            "_dom_classes": [],
            "_model_module": "@jupyter-widgets/controls",
            "_model_module_version": "1.5.0",
            "_model_name": "HTMLModel",
            "_view_count": null,
            "_view_module": "@jupyter-widgets/controls",
            "_view_module_version": "1.5.0",
            "_view_name": "HTMLView",
            "description": "",
            "description_tooltip": null,
            "layout": "IPY_MODEL_a5869f43920a437f9bd6f248142606a3",
            "placeholder": "​",
            "style": "IPY_MODEL_1d25d3928230436ea2cdcfe8a9832276",
            "value": " 116/116 [00:00&lt;00:00, 1.68kB/s]"
          }
        },
        "5a4a1724d7ae4ae58638f370f9ff4a34": {
          "model_module": "@jupyter-widgets/base",
          "model_name": "LayoutModel",
          "model_module_version": "1.2.0",
          "state": {
            "_model_module": "@jupyter-widgets/base",
            "_model_module_version": "1.2.0",
            "_model_name": "LayoutModel",
            "_view_count": null,
            "_view_module": "@jupyter-widgets/base",
            "_view_module_version": "1.2.0",
            "_view_name": "LayoutView",
            "align_content": null,
            "align_items": null,
            "align_self": null,
            "border": null,
            "bottom": null,
            "display": null,
            "flex": null,
            "flex_flow": null,
            "grid_area": null,
            "grid_auto_columns": null,
            "grid_auto_flow": null,
            "grid_auto_rows": null,
            "grid_column": null,
            "grid_gap": null,
            "grid_row": null,
            "grid_template_areas": null,
            "grid_template_columns": null,
            "grid_template_rows": null,
            "height": null,
            "justify_content": null,
            "justify_items": null,
            "left": null,
            "margin": null,
            "max_height": null,
            "max_width": null,
            "min_height": null,
            "min_width": null,
            "object_fit": null,
            "object_position": null,
            "order": null,
            "overflow": null,
            "overflow_x": null,
            "overflow_y": null,
            "padding": null,
            "right": null,
            "top": null,
            "visibility": null,
            "width": null
          }
        },
        "e5227e7ec6914f61a1318fc7b91ae3df": {
          "model_module": "@jupyter-widgets/base",
          "model_name": "LayoutModel",
          "model_module_version": "1.2.0",
          "state": {
            "_model_module": "@jupyter-widgets/base",
            "_model_module_version": "1.2.0",
            "_model_name": "LayoutModel",
            "_view_count": null,
            "_view_module": "@jupyter-widgets/base",
            "_view_module_version": "1.2.0",
            "_view_name": "LayoutView",
            "align_content": null,
            "align_items": null,
            "align_self": null,
            "border": null,
            "bottom": null,
            "display": null,
            "flex": null,
            "flex_flow": null,
            "grid_area": null,
            "grid_auto_columns": null,
            "grid_auto_flow": null,
            "grid_auto_rows": null,
            "grid_column": null,
            "grid_gap": null,
            "grid_row": null,
            "grid_template_areas": null,
            "grid_template_columns": null,
            "grid_template_rows": null,
            "height": null,
            "justify_content": null,
            "justify_items": null,
            "left": null,
            "margin": null,
            "max_height": null,
            "max_width": null,
            "min_height": null,
            "min_width": null,
            "object_fit": null,
            "object_position": null,
            "order": null,
            "overflow": null,
            "overflow_x": null,
            "overflow_y": null,
            "padding": null,
            "right": null,
            "top": null,
            "visibility": null,
            "width": null
          }
        },
        "41b0383e36784cef97be0f92bbe50dc0": {
          "model_module": "@jupyter-widgets/controls",
          "model_name": "DescriptionStyleModel",
          "model_module_version": "1.5.0",
          "state": {
            "_model_module": "@jupyter-widgets/controls",
            "_model_module_version": "1.5.0",
            "_model_name": "DescriptionStyleModel",
            "_view_count": null,
            "_view_module": "@jupyter-widgets/base",
            "_view_module_version": "1.2.0",
            "_view_name": "StyleView",
            "description_width": ""
          }
        },
        "f7c9ab012f364575928150033bffb833": {
          "model_module": "@jupyter-widgets/base",
          "model_name": "LayoutModel",
          "model_module_version": "1.2.0",
          "state": {
            "_model_module": "@jupyter-widgets/base",
            "_model_module_version": "1.2.0",
            "_model_name": "LayoutModel",
            "_view_count": null,
            "_view_module": "@jupyter-widgets/base",
            "_view_module_version": "1.2.0",
            "_view_name": "LayoutView",
            "align_content": null,
            "align_items": null,
            "align_self": null,
            "border": null,
            "bottom": null,
            "display": null,
            "flex": null,
            "flex_flow": null,
            "grid_area": null,
            "grid_auto_columns": null,
            "grid_auto_flow": null,
            "grid_auto_rows": null,
            "grid_column": null,
            "grid_gap": null,
            "grid_row": null,
            "grid_template_areas": null,
            "grid_template_columns": null,
            "grid_template_rows": null,
            "height": null,
            "justify_content": null,
            "justify_items": null,
            "left": null,
            "margin": null,
            "max_height": null,
            "max_width": null,
            "min_height": null,
            "min_width": null,
            "object_fit": null,
            "object_position": null,
            "order": null,
            "overflow": null,
            "overflow_x": null,
            "overflow_y": null,
            "padding": null,
            "right": null,
            "top": null,
            "visibility": null,
            "width": null
          }
        },
        "798925950b024d3185aac2f7c8e87d12": {
          "model_module": "@jupyter-widgets/controls",
          "model_name": "ProgressStyleModel",
          "model_module_version": "1.5.0",
          "state": {
            "_model_module": "@jupyter-widgets/controls",
            "_model_module_version": "1.5.0",
            "_model_name": "ProgressStyleModel",
            "_view_count": null,
            "_view_module": "@jupyter-widgets/base",
            "_view_module_version": "1.2.0",
            "_view_name": "StyleView",
            "bar_color": null,
            "description_width": ""
          }
        },
        "a5869f43920a437f9bd6f248142606a3": {
          "model_module": "@jupyter-widgets/base",
          "model_name": "LayoutModel",
          "model_module_version": "1.2.0",
          "state": {
            "_model_module": "@jupyter-widgets/base",
            "_model_module_version": "1.2.0",
            "_model_name": "LayoutModel",
            "_view_count": null,
            "_view_module": "@jupyter-widgets/base",
            "_view_module_version": "1.2.0",
            "_view_name": "LayoutView",
            "align_content": null,
            "align_items": null,
            "align_self": null,
            "border": null,
            "bottom": null,
            "display": null,
            "flex": null,
            "flex_flow": null,
            "grid_area": null,
            "grid_auto_columns": null,
            "grid_auto_flow": null,
            "grid_auto_rows": null,
            "grid_column": null,
            "grid_gap": null,
            "grid_row": null,
            "grid_template_areas": null,
            "grid_template_columns": null,
            "grid_template_rows": null,
            "height": null,
            "justify_content": null,
            "justify_items": null,
            "left": null,
            "margin": null,
            "max_height": null,
            "max_width": null,
            "min_height": null,
            "min_width": null,
            "object_fit": null,
            "object_position": null,
            "order": null,
            "overflow": null,
            "overflow_x": null,
            "overflow_y": null,
            "padding": null,
            "right": null,
            "top": null,
            "visibility": null,
            "width": null
          }
        },
        "1d25d3928230436ea2cdcfe8a9832276": {
          "model_module": "@jupyter-widgets/controls",
          "model_name": "DescriptionStyleModel",
          "model_module_version": "1.5.0",
          "state": {
            "_model_module": "@jupyter-widgets/controls",
            "_model_module_version": "1.5.0",
            "_model_name": "DescriptionStyleModel",
            "_view_count": null,
            "_view_module": "@jupyter-widgets/base",
            "_view_module_version": "1.2.0",
            "_view_name": "StyleView",
            "description_width": ""
          }
        },
        "f205d01eace7482fb4f4caa16dd8db6a": {
          "model_module": "@jupyter-widgets/controls",
          "model_name": "HBoxModel",
          "model_module_version": "1.5.0",
          "state": {
            "_dom_classes": [],
            "_model_module": "@jupyter-widgets/controls",
            "_model_module_version": "1.5.0",
            "_model_name": "HBoxModel",
            "_view_count": null,
            "_view_module": "@jupyter-widgets/controls",
            "_view_module_version": "1.5.0",
            "_view_name": "HBoxView",
            "box_style": "",
            "children": [
              "IPY_MODEL_d5ad5d995f474d7bb6be87131a3331eb",
              "IPY_MODEL_5f88a0a37cee4e6ba7c651645485d0d3",
              "IPY_MODEL_f1954c9b52234285a14afcbb81a9853c"
            ],
            "layout": "IPY_MODEL_44039d8600db4a949e9ab947a28060f2"
          }
        },
        "d5ad5d995f474d7bb6be87131a3331eb": {
          "model_module": "@jupyter-widgets/controls",
          "model_name": "HTMLModel",
          "model_module_version": "1.5.0",
          "state": {
            "_dom_classes": [],
            "_model_module": "@jupyter-widgets/controls",
            "_model_module_version": "1.5.0",
            "_model_name": "HTMLModel",
            "_view_count": null,
            "_view_module": "@jupyter-widgets/controls",
            "_view_module_version": "1.5.0",
            "_view_name": "HTMLView",
            "description": "",
            "description_tooltip": null,
            "layout": "IPY_MODEL_5bebc6dbf9a846438f755bab8402023c",
            "placeholder": "​",
            "style": "IPY_MODEL_c6fcdbaaf1e248d4a8230b0593a14e15",
            "value": "Downloading (…)e1d/data_config.json: 100%"
          }
        },
        "5f88a0a37cee4e6ba7c651645485d0d3": {
          "model_module": "@jupyter-widgets/controls",
          "model_name": "FloatProgressModel",
          "model_module_version": "1.5.0",
          "state": {
            "_dom_classes": [],
            "_model_module": "@jupyter-widgets/controls",
            "_model_module_version": "1.5.0",
            "_model_name": "FloatProgressModel",
            "_view_count": null,
            "_view_module": "@jupyter-widgets/controls",
            "_view_module_version": "1.5.0",
            "_view_name": "ProgressView",
            "bar_style": "success",
            "description": "",
            "description_tooltip": null,
            "layout": "IPY_MODEL_8f62e08417e54a3aaf126abf541eea14",
            "max": 39265,
            "min": 0,
            "orientation": "horizontal",
            "style": "IPY_MODEL_4777cd1c4769497e96bf61e81004aeaf",
            "value": 39265
          }
        },
        "f1954c9b52234285a14afcbb81a9853c": {
          "model_module": "@jupyter-widgets/controls",
          "model_name": "HTMLModel",
          "model_module_version": "1.5.0",
          "state": {
            "_dom_classes": [],
            "_model_module": "@jupyter-widgets/controls",
            "_model_module_version": "1.5.0",
            "_model_name": "HTMLModel",
            "_view_count": null,
            "_view_module": "@jupyter-widgets/controls",
            "_view_module_version": "1.5.0",
            "_view_name": "HTMLView",
            "description": "",
            "description_tooltip": null,
            "layout": "IPY_MODEL_90ed63f369b44d7ba8ce18cf60d83859",
            "placeholder": "​",
            "style": "IPY_MODEL_54b608600b734ec4b3d1f754be1528d7",
            "value": " 39.3k/39.3k [00:00&lt;00:00, 1.04MB/s]"
          }
        },
        "44039d8600db4a949e9ab947a28060f2": {
          "model_module": "@jupyter-widgets/base",
          "model_name": "LayoutModel",
          "model_module_version": "1.2.0",
          "state": {
            "_model_module": "@jupyter-widgets/base",
            "_model_module_version": "1.2.0",
            "_model_name": "LayoutModel",
            "_view_count": null,
            "_view_module": "@jupyter-widgets/base",
            "_view_module_version": "1.2.0",
            "_view_name": "LayoutView",
            "align_content": null,
            "align_items": null,
            "align_self": null,
            "border": null,
            "bottom": null,
            "display": null,
            "flex": null,
            "flex_flow": null,
            "grid_area": null,
            "grid_auto_columns": null,
            "grid_auto_flow": null,
            "grid_auto_rows": null,
            "grid_column": null,
            "grid_gap": null,
            "grid_row": null,
            "grid_template_areas": null,
            "grid_template_columns": null,
            "grid_template_rows": null,
            "height": null,
            "justify_content": null,
            "justify_items": null,
            "left": null,
            "margin": null,
            "max_height": null,
            "max_width": null,
            "min_height": null,
            "min_width": null,
            "object_fit": null,
            "object_position": null,
            "order": null,
            "overflow": null,
            "overflow_x": null,
            "overflow_y": null,
            "padding": null,
            "right": null,
            "top": null,
            "visibility": null,
            "width": null
          }
        },
        "5bebc6dbf9a846438f755bab8402023c": {
          "model_module": "@jupyter-widgets/base",
          "model_name": "LayoutModel",
          "model_module_version": "1.2.0",
          "state": {
            "_model_module": "@jupyter-widgets/base",
            "_model_module_version": "1.2.0",
            "_model_name": "LayoutModel",
            "_view_count": null,
            "_view_module": "@jupyter-widgets/base",
            "_view_module_version": "1.2.0",
            "_view_name": "LayoutView",
            "align_content": null,
            "align_items": null,
            "align_self": null,
            "border": null,
            "bottom": null,
            "display": null,
            "flex": null,
            "flex_flow": null,
            "grid_area": null,
            "grid_auto_columns": null,
            "grid_auto_flow": null,
            "grid_auto_rows": null,
            "grid_column": null,
            "grid_gap": null,
            "grid_row": null,
            "grid_template_areas": null,
            "grid_template_columns": null,
            "grid_template_rows": null,
            "height": null,
            "justify_content": null,
            "justify_items": null,
            "left": null,
            "margin": null,
            "max_height": null,
            "max_width": null,
            "min_height": null,
            "min_width": null,
            "object_fit": null,
            "object_position": null,
            "order": null,
            "overflow": null,
            "overflow_x": null,
            "overflow_y": null,
            "padding": null,
            "right": null,
            "top": null,
            "visibility": null,
            "width": null
          }
        },
        "c6fcdbaaf1e248d4a8230b0593a14e15": {
          "model_module": "@jupyter-widgets/controls",
          "model_name": "DescriptionStyleModel",
          "model_module_version": "1.5.0",
          "state": {
            "_model_module": "@jupyter-widgets/controls",
            "_model_module_version": "1.5.0",
            "_model_name": "DescriptionStyleModel",
            "_view_count": null,
            "_view_module": "@jupyter-widgets/base",
            "_view_module_version": "1.2.0",
            "_view_name": "StyleView",
            "description_width": ""
          }
        },
        "8f62e08417e54a3aaf126abf541eea14": {
          "model_module": "@jupyter-widgets/base",
          "model_name": "LayoutModel",
          "model_module_version": "1.2.0",
          "state": {
            "_model_module": "@jupyter-widgets/base",
            "_model_module_version": "1.2.0",
            "_model_name": "LayoutModel",
            "_view_count": null,
            "_view_module": "@jupyter-widgets/base",
            "_view_module_version": "1.2.0",
            "_view_name": "LayoutView",
            "align_content": null,
            "align_items": null,
            "align_self": null,
            "border": null,
            "bottom": null,
            "display": null,
            "flex": null,
            "flex_flow": null,
            "grid_area": null,
            "grid_auto_columns": null,
            "grid_auto_flow": null,
            "grid_auto_rows": null,
            "grid_column": null,
            "grid_gap": null,
            "grid_row": null,
            "grid_template_areas": null,
            "grid_template_columns": null,
            "grid_template_rows": null,
            "height": null,
            "justify_content": null,
            "justify_items": null,
            "left": null,
            "margin": null,
            "max_height": null,
            "max_width": null,
            "min_height": null,
            "min_width": null,
            "object_fit": null,
            "object_position": null,
            "order": null,
            "overflow": null,
            "overflow_x": null,
            "overflow_y": null,
            "padding": null,
            "right": null,
            "top": null,
            "visibility": null,
            "width": null
          }
        },
        "4777cd1c4769497e96bf61e81004aeaf": {
          "model_module": "@jupyter-widgets/controls",
          "model_name": "ProgressStyleModel",
          "model_module_version": "1.5.0",
          "state": {
            "_model_module": "@jupyter-widgets/controls",
            "_model_module_version": "1.5.0",
            "_model_name": "ProgressStyleModel",
            "_view_count": null,
            "_view_module": "@jupyter-widgets/base",
            "_view_module_version": "1.2.0",
            "_view_name": "StyleView",
            "bar_color": null,
            "description_width": ""
          }
        },
        "90ed63f369b44d7ba8ce18cf60d83859": {
          "model_module": "@jupyter-widgets/base",
          "model_name": "LayoutModel",
          "model_module_version": "1.2.0",
          "state": {
            "_model_module": "@jupyter-widgets/base",
            "_model_module_version": "1.2.0",
            "_model_name": "LayoutModel",
            "_view_count": null,
            "_view_module": "@jupyter-widgets/base",
            "_view_module_version": "1.2.0",
            "_view_name": "LayoutView",
            "align_content": null,
            "align_items": null,
            "align_self": null,
            "border": null,
            "bottom": null,
            "display": null,
            "flex": null,
            "flex_flow": null,
            "grid_area": null,
            "grid_auto_columns": null,
            "grid_auto_flow": null,
            "grid_auto_rows": null,
            "grid_column": null,
            "grid_gap": null,
            "grid_row": null,
            "grid_template_areas": null,
            "grid_template_columns": null,
            "grid_template_rows": null,
            "height": null,
            "justify_content": null,
            "justify_items": null,
            "left": null,
            "margin": null,
            "max_height": null,
            "max_width": null,
            "min_height": null,
            "min_width": null,
            "object_fit": null,
            "object_position": null,
            "order": null,
            "overflow": null,
            "overflow_x": null,
            "overflow_y": null,
            "padding": null,
            "right": null,
            "top": null,
            "visibility": null,
            "width": null
          }
        },
        "54b608600b734ec4b3d1f754be1528d7": {
          "model_module": "@jupyter-widgets/controls",
          "model_name": "DescriptionStyleModel",
          "model_module_version": "1.5.0",
          "state": {
            "_model_module": "@jupyter-widgets/controls",
            "_model_module_version": "1.5.0",
            "_model_name": "DescriptionStyleModel",
            "_view_count": null,
            "_view_module": "@jupyter-widgets/base",
            "_view_module_version": "1.2.0",
            "_view_name": "StyleView",
            "description_width": ""
          }
        },
        "3090829d1d804ecc92e493ad511416f9": {
          "model_module": "@jupyter-widgets/controls",
          "model_name": "HBoxModel",
          "model_module_version": "1.5.0",
          "state": {
            "_dom_classes": [],
            "_model_module": "@jupyter-widgets/controls",
            "_model_module_version": "1.5.0",
            "_model_name": "HBoxModel",
            "_view_count": null,
            "_view_module": "@jupyter-widgets/controls",
            "_view_module_version": "1.5.0",
            "_view_name": "HBoxView",
            "box_style": "",
            "children": [
              "IPY_MODEL_443af92d605745baa7b1a27388d793df",
              "IPY_MODEL_2227af2169654008813b83c2ed38ee19",
              "IPY_MODEL_0817c14805c74f5080fdaa6e452c42e5"
            ],
            "layout": "IPY_MODEL_4051c49d745e4b829f7f7592c6409ca5"
          }
        },
        "443af92d605745baa7b1a27388d793df": {
          "model_module": "@jupyter-widgets/controls",
          "model_name": "HTMLModel",
          "model_module_version": "1.5.0",
          "state": {
            "_dom_classes": [],
            "_model_module": "@jupyter-widgets/controls",
            "_model_module_version": "1.5.0",
            "_model_name": "HTMLModel",
            "_view_count": null,
            "_view_module": "@jupyter-widgets/controls",
            "_view_module_version": "1.5.0",
            "_view_name": "HTMLView",
            "description": "",
            "description_tooltip": null,
            "layout": "IPY_MODEL_3a9fa463eb3643d58bac107d226d0457",
            "placeholder": "​",
            "style": "IPY_MODEL_e423ab4eafcd4fada27313a355a3194e",
            "value": "Downloading pytorch_model.bin: 100%"
          }
        },
        "2227af2169654008813b83c2ed38ee19": {
          "model_module": "@jupyter-widgets/controls",
          "model_name": "FloatProgressModel",
          "model_module_version": "1.5.0",
          "state": {
            "_dom_classes": [],
            "_model_module": "@jupyter-widgets/controls",
            "_model_module_version": "1.5.0",
            "_model_name": "FloatProgressModel",
            "_view_count": null,
            "_view_module": "@jupyter-widgets/controls",
            "_view_module_version": "1.5.0",
            "_view_name": "ProgressView",
            "bar_style": "success",
            "description": "",
            "description_tooltip": null,
            "layout": "IPY_MODEL_fcc7d2c2163b483da41a9dc3996b7d47",
            "max": 438011953,
            "min": 0,
            "orientation": "horizontal",
            "style": "IPY_MODEL_63ab38b2e5934f6ea2a1acc09787a53e",
            "value": 438011953
          }
        },
        "0817c14805c74f5080fdaa6e452c42e5": {
          "model_module": "@jupyter-widgets/controls",
          "model_name": "HTMLModel",
          "model_module_version": "1.5.0",
          "state": {
            "_dom_classes": [],
            "_model_module": "@jupyter-widgets/controls",
            "_model_module_version": "1.5.0",
            "_model_name": "HTMLModel",
            "_view_count": null,
            "_view_module": "@jupyter-widgets/controls",
            "_view_module_version": "1.5.0",
            "_view_name": "HTMLView",
            "description": "",
            "description_tooltip": null,
            "layout": "IPY_MODEL_297122e2cf4f4b899855bc31d52a7ca7",
            "placeholder": "​",
            "style": "IPY_MODEL_392543a2850c45cfb8465c4e88f21724",
            "value": " 438M/438M [00:04&lt;00:00, 108MB/s]"
          }
        },
        "4051c49d745e4b829f7f7592c6409ca5": {
          "model_module": "@jupyter-widgets/base",
          "model_name": "LayoutModel",
          "model_module_version": "1.2.0",
          "state": {
            "_model_module": "@jupyter-widgets/base",
            "_model_module_version": "1.2.0",
            "_model_name": "LayoutModel",
            "_view_count": null,
            "_view_module": "@jupyter-widgets/base",
            "_view_module_version": "1.2.0",
            "_view_name": "LayoutView",
            "align_content": null,
            "align_items": null,
            "align_self": null,
            "border": null,
            "bottom": null,
            "display": null,
            "flex": null,
            "flex_flow": null,
            "grid_area": null,
            "grid_auto_columns": null,
            "grid_auto_flow": null,
            "grid_auto_rows": null,
            "grid_column": null,
            "grid_gap": null,
            "grid_row": null,
            "grid_template_areas": null,
            "grid_template_columns": null,
            "grid_template_rows": null,
            "height": null,
            "justify_content": null,
            "justify_items": null,
            "left": null,
            "margin": null,
            "max_height": null,
            "max_width": null,
            "min_height": null,
            "min_width": null,
            "object_fit": null,
            "object_position": null,
            "order": null,
            "overflow": null,
            "overflow_x": null,
            "overflow_y": null,
            "padding": null,
            "right": null,
            "top": null,
            "visibility": null,
            "width": null
          }
        },
        "3a9fa463eb3643d58bac107d226d0457": {
          "model_module": "@jupyter-widgets/base",
          "model_name": "LayoutModel",
          "model_module_version": "1.2.0",
          "state": {
            "_model_module": "@jupyter-widgets/base",
            "_model_module_version": "1.2.0",
            "_model_name": "LayoutModel",
            "_view_count": null,
            "_view_module": "@jupyter-widgets/base",
            "_view_module_version": "1.2.0",
            "_view_name": "LayoutView",
            "align_content": null,
            "align_items": null,
            "align_self": null,
            "border": null,
            "bottom": null,
            "display": null,
            "flex": null,
            "flex_flow": null,
            "grid_area": null,
            "grid_auto_columns": null,
            "grid_auto_flow": null,
            "grid_auto_rows": null,
            "grid_column": null,
            "grid_gap": null,
            "grid_row": null,
            "grid_template_areas": null,
            "grid_template_columns": null,
            "grid_template_rows": null,
            "height": null,
            "justify_content": null,
            "justify_items": null,
            "left": null,
            "margin": null,
            "max_height": null,
            "max_width": null,
            "min_height": null,
            "min_width": null,
            "object_fit": null,
            "object_position": null,
            "order": null,
            "overflow": null,
            "overflow_x": null,
            "overflow_y": null,
            "padding": null,
            "right": null,
            "top": null,
            "visibility": null,
            "width": null
          }
        },
        "e423ab4eafcd4fada27313a355a3194e": {
          "model_module": "@jupyter-widgets/controls",
          "model_name": "DescriptionStyleModel",
          "model_module_version": "1.5.0",
          "state": {
            "_model_module": "@jupyter-widgets/controls",
            "_model_module_version": "1.5.0",
            "_model_name": "DescriptionStyleModel",
            "_view_count": null,
            "_view_module": "@jupyter-widgets/base",
            "_view_module_version": "1.2.0",
            "_view_name": "StyleView",
            "description_width": ""
          }
        },
        "fcc7d2c2163b483da41a9dc3996b7d47": {
          "model_module": "@jupyter-widgets/base",
          "model_name": "LayoutModel",
          "model_module_version": "1.2.0",
          "state": {
            "_model_module": "@jupyter-widgets/base",
            "_model_module_version": "1.2.0",
            "_model_name": "LayoutModel",
            "_view_count": null,
            "_view_module": "@jupyter-widgets/base",
            "_view_module_version": "1.2.0",
            "_view_name": "LayoutView",
            "align_content": null,
            "align_items": null,
            "align_self": null,
            "border": null,
            "bottom": null,
            "display": null,
            "flex": null,
            "flex_flow": null,
            "grid_area": null,
            "grid_auto_columns": null,
            "grid_auto_flow": null,
            "grid_auto_rows": null,
            "grid_column": null,
            "grid_gap": null,
            "grid_row": null,
            "grid_template_areas": null,
            "grid_template_columns": null,
            "grid_template_rows": null,
            "height": null,
            "justify_content": null,
            "justify_items": null,
            "left": null,
            "margin": null,
            "max_height": null,
            "max_width": null,
            "min_height": null,
            "min_width": null,
            "object_fit": null,
            "object_position": null,
            "order": null,
            "overflow": null,
            "overflow_x": null,
            "overflow_y": null,
            "padding": null,
            "right": null,
            "top": null,
            "visibility": null,
            "width": null
          }
        },
        "63ab38b2e5934f6ea2a1acc09787a53e": {
          "model_module": "@jupyter-widgets/controls",
          "model_name": "ProgressStyleModel",
          "model_module_version": "1.5.0",
          "state": {
            "_model_module": "@jupyter-widgets/controls",
            "_model_module_version": "1.5.0",
            "_model_name": "ProgressStyleModel",
            "_view_count": null,
            "_view_module": "@jupyter-widgets/base",
            "_view_module_version": "1.2.0",
            "_view_name": "StyleView",
            "bar_color": null,
            "description_width": ""
          }
        },
        "297122e2cf4f4b899855bc31d52a7ca7": {
          "model_module": "@jupyter-widgets/base",
          "model_name": "LayoutModel",
          "model_module_version": "1.2.0",
          "state": {
            "_model_module": "@jupyter-widgets/base",
            "_model_module_version": "1.2.0",
            "_model_name": "LayoutModel",
            "_view_count": null,
            "_view_module": "@jupyter-widgets/base",
            "_view_module_version": "1.2.0",
            "_view_name": "LayoutView",
            "align_content": null,
            "align_items": null,
            "align_self": null,
            "border": null,
            "bottom": null,
            "display": null,
            "flex": null,
            "flex_flow": null,
            "grid_area": null,
            "grid_auto_columns": null,
            "grid_auto_flow": null,
            "grid_auto_rows": null,
            "grid_column": null,
            "grid_gap": null,
            "grid_row": null,
            "grid_template_areas": null,
            "grid_template_columns": null,
            "grid_template_rows": null,
            "height": null,
            "justify_content": null,
            "justify_items": null,
            "left": null,
            "margin": null,
            "max_height": null,
            "max_width": null,
            "min_height": null,
            "min_width": null,
            "object_fit": null,
            "object_position": null,
            "order": null,
            "overflow": null,
            "overflow_x": null,
            "overflow_y": null,
            "padding": null,
            "right": null,
            "top": null,
            "visibility": null,
            "width": null
          }
        },
        "392543a2850c45cfb8465c4e88f21724": {
          "model_module": "@jupyter-widgets/controls",
          "model_name": "DescriptionStyleModel",
          "model_module_version": "1.5.0",
          "state": {
            "_model_module": "@jupyter-widgets/controls",
            "_model_module_version": "1.5.0",
            "_model_name": "DescriptionStyleModel",
            "_view_count": null,
            "_view_module": "@jupyter-widgets/base",
            "_view_module_version": "1.2.0",
            "_view_name": "StyleView",
            "description_width": ""
          }
        },
        "4eed27afdb4c414d9b13791ca8f774ab": {
          "model_module": "@jupyter-widgets/controls",
          "model_name": "HBoxModel",
          "model_module_version": "1.5.0",
          "state": {
            "_dom_classes": [],
            "_model_module": "@jupyter-widgets/controls",
            "_model_module_version": "1.5.0",
            "_model_name": "HBoxModel",
            "_view_count": null,
            "_view_module": "@jupyter-widgets/controls",
            "_view_module_version": "1.5.0",
            "_view_name": "HBoxView",
            "box_style": "",
            "children": [
              "IPY_MODEL_205d06603fc94f4db7f1f64649fc37dc",
              "IPY_MODEL_b8edbc61b78c4a538e1808a230e58b5d",
              "IPY_MODEL_c745bcd1ca584a6b899e8e0c5655f085"
            ],
            "layout": "IPY_MODEL_59fac28d3c884fe2b83d1bd493e11867"
          }
        },
        "205d06603fc94f4db7f1f64649fc37dc": {
          "model_module": "@jupyter-widgets/controls",
          "model_name": "HTMLModel",
          "model_module_version": "1.5.0",
          "state": {
            "_dom_classes": [],
            "_model_module": "@jupyter-widgets/controls",
            "_model_module_version": "1.5.0",
            "_model_name": "HTMLModel",
            "_view_count": null,
            "_view_module": "@jupyter-widgets/controls",
            "_view_module_version": "1.5.0",
            "_view_name": "HTMLView",
            "description": "",
            "description_tooltip": null,
            "layout": "IPY_MODEL_8853991a991048f3939349f0c1680da8",
            "placeholder": "​",
            "style": "IPY_MODEL_288e211fca0e49258a8cc27efd5a6415",
            "value": "Downloading (…)nce_bert_config.json: 100%"
          }
        },
        "b8edbc61b78c4a538e1808a230e58b5d": {
          "model_module": "@jupyter-widgets/controls",
          "model_name": "FloatProgressModel",
          "model_module_version": "1.5.0",
          "state": {
            "_dom_classes": [],
            "_model_module": "@jupyter-widgets/controls",
            "_model_module_version": "1.5.0",
            "_model_name": "FloatProgressModel",
            "_view_count": null,
            "_view_module": "@jupyter-widgets/controls",
            "_view_module_version": "1.5.0",
            "_view_name": "ProgressView",
            "bar_style": "success",
            "description": "",
            "description_tooltip": null,
            "layout": "IPY_MODEL_845d83c6331b4144a50840da3579aa67",
            "max": 53,
            "min": 0,
            "orientation": "horizontal",
            "style": "IPY_MODEL_85c48955a546499d80939cb60a749ed9",
            "value": 53
          }
        },
        "c745bcd1ca584a6b899e8e0c5655f085": {
          "model_module": "@jupyter-widgets/controls",
          "model_name": "HTMLModel",
          "model_module_version": "1.5.0",
          "state": {
            "_dom_classes": [],
            "_model_module": "@jupyter-widgets/controls",
            "_model_module_version": "1.5.0",
            "_model_name": "HTMLModel",
            "_view_count": null,
            "_view_module": "@jupyter-widgets/controls",
            "_view_module_version": "1.5.0",
            "_view_name": "HTMLView",
            "description": "",
            "description_tooltip": null,
            "layout": "IPY_MODEL_ce4d89e97eb7492ea4c81e2a8f27fe90",
            "placeholder": "​",
            "style": "IPY_MODEL_cd935cd83adb402e912cfeff69a0f0e4",
            "value": " 53.0/53.0 [00:00&lt;00:00, 510B/s]"
          }
        },
        "59fac28d3c884fe2b83d1bd493e11867": {
          "model_module": "@jupyter-widgets/base",
          "model_name": "LayoutModel",
          "model_module_version": "1.2.0",
          "state": {
            "_model_module": "@jupyter-widgets/base",
            "_model_module_version": "1.2.0",
            "_model_name": "LayoutModel",
            "_view_count": null,
            "_view_module": "@jupyter-widgets/base",
            "_view_module_version": "1.2.0",
            "_view_name": "LayoutView",
            "align_content": null,
            "align_items": null,
            "align_self": null,
            "border": null,
            "bottom": null,
            "display": null,
            "flex": null,
            "flex_flow": null,
            "grid_area": null,
            "grid_auto_columns": null,
            "grid_auto_flow": null,
            "grid_auto_rows": null,
            "grid_column": null,
            "grid_gap": null,
            "grid_row": null,
            "grid_template_areas": null,
            "grid_template_columns": null,
            "grid_template_rows": null,
            "height": null,
            "justify_content": null,
            "justify_items": null,
            "left": null,
            "margin": null,
            "max_height": null,
            "max_width": null,
            "min_height": null,
            "min_width": null,
            "object_fit": null,
            "object_position": null,
            "order": null,
            "overflow": null,
            "overflow_x": null,
            "overflow_y": null,
            "padding": null,
            "right": null,
            "top": null,
            "visibility": null,
            "width": null
          }
        },
        "8853991a991048f3939349f0c1680da8": {
          "model_module": "@jupyter-widgets/base",
          "model_name": "LayoutModel",
          "model_module_version": "1.2.0",
          "state": {
            "_model_module": "@jupyter-widgets/base",
            "_model_module_version": "1.2.0",
            "_model_name": "LayoutModel",
            "_view_count": null,
            "_view_module": "@jupyter-widgets/base",
            "_view_module_version": "1.2.0",
            "_view_name": "LayoutView",
            "align_content": null,
            "align_items": null,
            "align_self": null,
            "border": null,
            "bottom": null,
            "display": null,
            "flex": null,
            "flex_flow": null,
            "grid_area": null,
            "grid_auto_columns": null,
            "grid_auto_flow": null,
            "grid_auto_rows": null,
            "grid_column": null,
            "grid_gap": null,
            "grid_row": null,
            "grid_template_areas": null,
            "grid_template_columns": null,
            "grid_template_rows": null,
            "height": null,
            "justify_content": null,
            "justify_items": null,
            "left": null,
            "margin": null,
            "max_height": null,
            "max_width": null,
            "min_height": null,
            "min_width": null,
            "object_fit": null,
            "object_position": null,
            "order": null,
            "overflow": null,
            "overflow_x": null,
            "overflow_y": null,
            "padding": null,
            "right": null,
            "top": null,
            "visibility": null,
            "width": null
          }
        },
        "288e211fca0e49258a8cc27efd5a6415": {
          "model_module": "@jupyter-widgets/controls",
          "model_name": "DescriptionStyleModel",
          "model_module_version": "1.5.0",
          "state": {
            "_model_module": "@jupyter-widgets/controls",
            "_model_module_version": "1.5.0",
            "_model_name": "DescriptionStyleModel",
            "_view_count": null,
            "_view_module": "@jupyter-widgets/base",
            "_view_module_version": "1.2.0",
            "_view_name": "StyleView",
            "description_width": ""
          }
        },
        "845d83c6331b4144a50840da3579aa67": {
          "model_module": "@jupyter-widgets/base",
          "model_name": "LayoutModel",
          "model_module_version": "1.2.0",
          "state": {
            "_model_module": "@jupyter-widgets/base",
            "_model_module_version": "1.2.0",
            "_model_name": "LayoutModel",
            "_view_count": null,
            "_view_module": "@jupyter-widgets/base",
            "_view_module_version": "1.2.0",
            "_view_name": "LayoutView",
            "align_content": null,
            "align_items": null,
            "align_self": null,
            "border": null,
            "bottom": null,
            "display": null,
            "flex": null,
            "flex_flow": null,
            "grid_area": null,
            "grid_auto_columns": null,
            "grid_auto_flow": null,
            "grid_auto_rows": null,
            "grid_column": null,
            "grid_gap": null,
            "grid_row": null,
            "grid_template_areas": null,
            "grid_template_columns": null,
            "grid_template_rows": null,
            "height": null,
            "justify_content": null,
            "justify_items": null,
            "left": null,
            "margin": null,
            "max_height": null,
            "max_width": null,
            "min_height": null,
            "min_width": null,
            "object_fit": null,
            "object_position": null,
            "order": null,
            "overflow": null,
            "overflow_x": null,
            "overflow_y": null,
            "padding": null,
            "right": null,
            "top": null,
            "visibility": null,
            "width": null
          }
        },
        "85c48955a546499d80939cb60a749ed9": {
          "model_module": "@jupyter-widgets/controls",
          "model_name": "ProgressStyleModel",
          "model_module_version": "1.5.0",
          "state": {
            "_model_module": "@jupyter-widgets/controls",
            "_model_module_version": "1.5.0",
            "_model_name": "ProgressStyleModel",
            "_view_count": null,
            "_view_module": "@jupyter-widgets/base",
            "_view_module_version": "1.2.0",
            "_view_name": "StyleView",
            "bar_color": null,
            "description_width": ""
          }
        },
        "ce4d89e97eb7492ea4c81e2a8f27fe90": {
          "model_module": "@jupyter-widgets/base",
          "model_name": "LayoutModel",
          "model_module_version": "1.2.0",
          "state": {
            "_model_module": "@jupyter-widgets/base",
            "_model_module_version": "1.2.0",
            "_model_name": "LayoutModel",
            "_view_count": null,
            "_view_module": "@jupyter-widgets/base",
            "_view_module_version": "1.2.0",
            "_view_name": "LayoutView",
            "align_content": null,
            "align_items": null,
            "align_self": null,
            "border": null,
            "bottom": null,
            "display": null,
            "flex": null,
            "flex_flow": null,
            "grid_area": null,
            "grid_auto_columns": null,
            "grid_auto_flow": null,
            "grid_auto_rows": null,
            "grid_column": null,
            "grid_gap": null,
            "grid_row": null,
            "grid_template_areas": null,
            "grid_template_columns": null,
            "grid_template_rows": null,
            "height": null,
            "justify_content": null,
            "justify_items": null,
            "left": null,
            "margin": null,
            "max_height": null,
            "max_width": null,
            "min_height": null,
            "min_width": null,
            "object_fit": null,
            "object_position": null,
            "order": null,
            "overflow": null,
            "overflow_x": null,
            "overflow_y": null,
            "padding": null,
            "right": null,
            "top": null,
            "visibility": null,
            "width": null
          }
        },
        "cd935cd83adb402e912cfeff69a0f0e4": {
          "model_module": "@jupyter-widgets/controls",
          "model_name": "DescriptionStyleModel",
          "model_module_version": "1.5.0",
          "state": {
            "_model_module": "@jupyter-widgets/controls",
            "_model_module_version": "1.5.0",
            "_model_name": "DescriptionStyleModel",
            "_view_count": null,
            "_view_module": "@jupyter-widgets/base",
            "_view_module_version": "1.2.0",
            "_view_name": "StyleView",
            "description_width": ""
          }
        },
        "2342aa41038f4b838e5340876c96a63b": {
          "model_module": "@jupyter-widgets/controls",
          "model_name": "HBoxModel",
          "model_module_version": "1.5.0",
          "state": {
            "_dom_classes": [],
            "_model_module": "@jupyter-widgets/controls",
            "_model_module_version": "1.5.0",
            "_model_name": "HBoxModel",
            "_view_count": null,
            "_view_module": "@jupyter-widgets/controls",
            "_view_module_version": "1.5.0",
            "_view_name": "HBoxView",
            "box_style": "",
            "children": [
              "IPY_MODEL_f6c6d09cb9f54bf481b627bde3db0034",
              "IPY_MODEL_d11c34c5de044c35bbe8d4918df55f18",
              "IPY_MODEL_86e03c2202304e36869149d0aa15af40"
            ],
            "layout": "IPY_MODEL_33124a827d0148669b3c86683fd3278e"
          }
        },
        "f6c6d09cb9f54bf481b627bde3db0034": {
          "model_module": "@jupyter-widgets/controls",
          "model_name": "HTMLModel",
          "model_module_version": "1.5.0",
          "state": {
            "_dom_classes": [],
            "_model_module": "@jupyter-widgets/controls",
            "_model_module_version": "1.5.0",
            "_model_name": "HTMLModel",
            "_view_count": null,
            "_view_module": "@jupyter-widgets/controls",
            "_view_module_version": "1.5.0",
            "_view_name": "HTMLView",
            "description": "",
            "description_tooltip": null,
            "layout": "IPY_MODEL_f3fdf7aef1f24029afcf3eda8063aebe",
            "placeholder": "​",
            "style": "IPY_MODEL_7b7864d9f4b444d8844034c624fdd3bc",
            "value": "Downloading (…)cial_tokens_map.json: 100%"
          }
        },
        "d11c34c5de044c35bbe8d4918df55f18": {
          "model_module": "@jupyter-widgets/controls",
          "model_name": "FloatProgressModel",
          "model_module_version": "1.5.0",
          "state": {
            "_dom_classes": [],
            "_model_module": "@jupyter-widgets/controls",
            "_model_module_version": "1.5.0",
            "_model_name": "FloatProgressModel",
            "_view_count": null,
            "_view_module": "@jupyter-widgets/controls",
            "_view_module_version": "1.5.0",
            "_view_name": "ProgressView",
            "bar_style": "success",
            "description": "",
            "description_tooltip": null,
            "layout": "IPY_MODEL_2e59b4a2fde645b189b83e2153198216",
            "max": 239,
            "min": 0,
            "orientation": "horizontal",
            "style": "IPY_MODEL_c2b8b48c36f8467e96c0e983dfccc351",
            "value": 239
          }
        },
        "86e03c2202304e36869149d0aa15af40": {
          "model_module": "@jupyter-widgets/controls",
          "model_name": "HTMLModel",
          "model_module_version": "1.5.0",
          "state": {
            "_dom_classes": [],
            "_model_module": "@jupyter-widgets/controls",
            "_model_module_version": "1.5.0",
            "_model_name": "HTMLModel",
            "_view_count": null,
            "_view_module": "@jupyter-widgets/controls",
            "_view_module_version": "1.5.0",
            "_view_name": "HTMLView",
            "description": "",
            "description_tooltip": null,
            "layout": "IPY_MODEL_c7f0d3ec14534d409946775e2454b2aa",
            "placeholder": "​",
            "style": "IPY_MODEL_5af93001acba4435acc6bce3fad273af",
            "value": " 239/239 [00:00&lt;00:00, 2.79kB/s]"
          }
        },
        "33124a827d0148669b3c86683fd3278e": {
          "model_module": "@jupyter-widgets/base",
          "model_name": "LayoutModel",
          "model_module_version": "1.2.0",
          "state": {
            "_model_module": "@jupyter-widgets/base",
            "_model_module_version": "1.2.0",
            "_model_name": "LayoutModel",
            "_view_count": null,
            "_view_module": "@jupyter-widgets/base",
            "_view_module_version": "1.2.0",
            "_view_name": "LayoutView",
            "align_content": null,
            "align_items": null,
            "align_self": null,
            "border": null,
            "bottom": null,
            "display": null,
            "flex": null,
            "flex_flow": null,
            "grid_area": null,
            "grid_auto_columns": null,
            "grid_auto_flow": null,
            "grid_auto_rows": null,
            "grid_column": null,
            "grid_gap": null,
            "grid_row": null,
            "grid_template_areas": null,
            "grid_template_columns": null,
            "grid_template_rows": null,
            "height": null,
            "justify_content": null,
            "justify_items": null,
            "left": null,
            "margin": null,
            "max_height": null,
            "max_width": null,
            "min_height": null,
            "min_width": null,
            "object_fit": null,
            "object_position": null,
            "order": null,
            "overflow": null,
            "overflow_x": null,
            "overflow_y": null,
            "padding": null,
            "right": null,
            "top": null,
            "visibility": null,
            "width": null
          }
        },
        "f3fdf7aef1f24029afcf3eda8063aebe": {
          "model_module": "@jupyter-widgets/base",
          "model_name": "LayoutModel",
          "model_module_version": "1.2.0",
          "state": {
            "_model_module": "@jupyter-widgets/base",
            "_model_module_version": "1.2.0",
            "_model_name": "LayoutModel",
            "_view_count": null,
            "_view_module": "@jupyter-widgets/base",
            "_view_module_version": "1.2.0",
            "_view_name": "LayoutView",
            "align_content": null,
            "align_items": null,
            "align_self": null,
            "border": null,
            "bottom": null,
            "display": null,
            "flex": null,
            "flex_flow": null,
            "grid_area": null,
            "grid_auto_columns": null,
            "grid_auto_flow": null,
            "grid_auto_rows": null,
            "grid_column": null,
            "grid_gap": null,
            "grid_row": null,
            "grid_template_areas": null,
            "grid_template_columns": null,
            "grid_template_rows": null,
            "height": null,
            "justify_content": null,
            "justify_items": null,
            "left": null,
            "margin": null,
            "max_height": null,
            "max_width": null,
            "min_height": null,
            "min_width": null,
            "object_fit": null,
            "object_position": null,
            "order": null,
            "overflow": null,
            "overflow_x": null,
            "overflow_y": null,
            "padding": null,
            "right": null,
            "top": null,
            "visibility": null,
            "width": null
          }
        },
        "7b7864d9f4b444d8844034c624fdd3bc": {
          "model_module": "@jupyter-widgets/controls",
          "model_name": "DescriptionStyleModel",
          "model_module_version": "1.5.0",
          "state": {
            "_model_module": "@jupyter-widgets/controls",
            "_model_module_version": "1.5.0",
            "_model_name": "DescriptionStyleModel",
            "_view_count": null,
            "_view_module": "@jupyter-widgets/base",
            "_view_module_version": "1.2.0",
            "_view_name": "StyleView",
            "description_width": ""
          }
        },
        "2e59b4a2fde645b189b83e2153198216": {
          "model_module": "@jupyter-widgets/base",
          "model_name": "LayoutModel",
          "model_module_version": "1.2.0",
          "state": {
            "_model_module": "@jupyter-widgets/base",
            "_model_module_version": "1.2.0",
            "_model_name": "LayoutModel",
            "_view_count": null,
            "_view_module": "@jupyter-widgets/base",
            "_view_module_version": "1.2.0",
            "_view_name": "LayoutView",
            "align_content": null,
            "align_items": null,
            "align_self": null,
            "border": null,
            "bottom": null,
            "display": null,
            "flex": null,
            "flex_flow": null,
            "grid_area": null,
            "grid_auto_columns": null,
            "grid_auto_flow": null,
            "grid_auto_rows": null,
            "grid_column": null,
            "grid_gap": null,
            "grid_row": null,
            "grid_template_areas": null,
            "grid_template_columns": null,
            "grid_template_rows": null,
            "height": null,
            "justify_content": null,
            "justify_items": null,
            "left": null,
            "margin": null,
            "max_height": null,
            "max_width": null,
            "min_height": null,
            "min_width": null,
            "object_fit": null,
            "object_position": null,
            "order": null,
            "overflow": null,
            "overflow_x": null,
            "overflow_y": null,
            "padding": null,
            "right": null,
            "top": null,
            "visibility": null,
            "width": null
          }
        },
        "c2b8b48c36f8467e96c0e983dfccc351": {
          "model_module": "@jupyter-widgets/controls",
          "model_name": "ProgressStyleModel",
          "model_module_version": "1.5.0",
          "state": {
            "_model_module": "@jupyter-widgets/controls",
            "_model_module_version": "1.5.0",
            "_model_name": "ProgressStyleModel",
            "_view_count": null,
            "_view_module": "@jupyter-widgets/base",
            "_view_module_version": "1.2.0",
            "_view_name": "StyleView",
            "bar_color": null,
            "description_width": ""
          }
        },
        "c7f0d3ec14534d409946775e2454b2aa": {
          "model_module": "@jupyter-widgets/base",
          "model_name": "LayoutModel",
          "model_module_version": "1.2.0",
          "state": {
            "_model_module": "@jupyter-widgets/base",
            "_model_module_version": "1.2.0",
            "_model_name": "LayoutModel",
            "_view_count": null,
            "_view_module": "@jupyter-widgets/base",
            "_view_module_version": "1.2.0",
            "_view_name": "LayoutView",
            "align_content": null,
            "align_items": null,
            "align_self": null,
            "border": null,
            "bottom": null,
            "display": null,
            "flex": null,
            "flex_flow": null,
            "grid_area": null,
            "grid_auto_columns": null,
            "grid_auto_flow": null,
            "grid_auto_rows": null,
            "grid_column": null,
            "grid_gap": null,
            "grid_row": null,
            "grid_template_areas": null,
            "grid_template_columns": null,
            "grid_template_rows": null,
            "height": null,
            "justify_content": null,
            "justify_items": null,
            "left": null,
            "margin": null,
            "max_height": null,
            "max_width": null,
            "min_height": null,
            "min_width": null,
            "object_fit": null,
            "object_position": null,
            "order": null,
            "overflow": null,
            "overflow_x": null,
            "overflow_y": null,
            "padding": null,
            "right": null,
            "top": null,
            "visibility": null,
            "width": null
          }
        },
        "5af93001acba4435acc6bce3fad273af": {
          "model_module": "@jupyter-widgets/controls",
          "model_name": "DescriptionStyleModel",
          "model_module_version": "1.5.0",
          "state": {
            "_model_module": "@jupyter-widgets/controls",
            "_model_module_version": "1.5.0",
            "_model_name": "DescriptionStyleModel",
            "_view_count": null,
            "_view_module": "@jupyter-widgets/base",
            "_view_module_version": "1.2.0",
            "_view_name": "StyleView",
            "description_width": ""
          }
        },
        "9cda80fd09ee45e1bf62cb09410787d8": {
          "model_module": "@jupyter-widgets/controls",
          "model_name": "HBoxModel",
          "model_module_version": "1.5.0",
          "state": {
            "_dom_classes": [],
            "_model_module": "@jupyter-widgets/controls",
            "_model_module_version": "1.5.0",
            "_model_name": "HBoxModel",
            "_view_count": null,
            "_view_module": "@jupyter-widgets/controls",
            "_view_module_version": "1.5.0",
            "_view_name": "HBoxView",
            "box_style": "",
            "children": [
              "IPY_MODEL_5adc0f76b6324425ae116143fb3bbcb1",
              "IPY_MODEL_7c8724f0bfe84c3a88f0827668e0b4a4",
              "IPY_MODEL_cbd2ee5a043746c4ab8d655aa86197b0"
            ],
            "layout": "IPY_MODEL_fbd489d7a35a459e838b90fd17d6b6f2"
          }
        },
        "5adc0f76b6324425ae116143fb3bbcb1": {
          "model_module": "@jupyter-widgets/controls",
          "model_name": "HTMLModel",
          "model_module_version": "1.5.0",
          "state": {
            "_dom_classes": [],
            "_model_module": "@jupyter-widgets/controls",
            "_model_module_version": "1.5.0",
            "_model_name": "HTMLModel",
            "_view_count": null,
            "_view_module": "@jupyter-widgets/controls",
            "_view_module_version": "1.5.0",
            "_view_name": "HTMLView",
            "description": "",
            "description_tooltip": null,
            "layout": "IPY_MODEL_38731f15b2ce4845ac9cf9104c0c64fd",
            "placeholder": "​",
            "style": "IPY_MODEL_22c890c0562f4998b30a6502b62834ac",
            "value": "Downloading (…)a8e1d/tokenizer.json: 100%"
          }
        },
        "7c8724f0bfe84c3a88f0827668e0b4a4": {
          "model_module": "@jupyter-widgets/controls",
          "model_name": "FloatProgressModel",
          "model_module_version": "1.5.0",
          "state": {
            "_dom_classes": [],
            "_model_module": "@jupyter-widgets/controls",
            "_model_module_version": "1.5.0",
            "_model_name": "FloatProgressModel",
            "_view_count": null,
            "_view_module": "@jupyter-widgets/controls",
            "_view_module_version": "1.5.0",
            "_view_name": "ProgressView",
            "bar_style": "success",
            "description": "",
            "description_tooltip": null,
            "layout": "IPY_MODEL_fc5545af34e5450cb6cd45d9ffb26d35",
            "max": 466021,
            "min": 0,
            "orientation": "horizontal",
            "style": "IPY_MODEL_c858213b88bd4902917c5399cd074c6a",
            "value": 466021
          }
        },
        "cbd2ee5a043746c4ab8d655aa86197b0": {
          "model_module": "@jupyter-widgets/controls",
          "model_name": "HTMLModel",
          "model_module_version": "1.5.0",
          "state": {
            "_dom_classes": [],
            "_model_module": "@jupyter-widgets/controls",
            "_model_module_version": "1.5.0",
            "_model_name": "HTMLModel",
            "_view_count": null,
            "_view_module": "@jupyter-widgets/controls",
            "_view_module_version": "1.5.0",
            "_view_name": "HTMLView",
            "description": "",
            "description_tooltip": null,
            "layout": "IPY_MODEL_da36fbe2d0cf477e8698165877daba48",
            "placeholder": "​",
            "style": "IPY_MODEL_fbb5b7cc2eea4a738a5dc045d50305c2",
            "value": " 466k/466k [00:00&lt;00:00, 1.69MB/s]"
          }
        },
        "fbd489d7a35a459e838b90fd17d6b6f2": {
          "model_module": "@jupyter-widgets/base",
          "model_name": "LayoutModel",
          "model_module_version": "1.2.0",
          "state": {
            "_model_module": "@jupyter-widgets/base",
            "_model_module_version": "1.2.0",
            "_model_name": "LayoutModel",
            "_view_count": null,
            "_view_module": "@jupyter-widgets/base",
            "_view_module_version": "1.2.0",
            "_view_name": "LayoutView",
            "align_content": null,
            "align_items": null,
            "align_self": null,
            "border": null,
            "bottom": null,
            "display": null,
            "flex": null,
            "flex_flow": null,
            "grid_area": null,
            "grid_auto_columns": null,
            "grid_auto_flow": null,
            "grid_auto_rows": null,
            "grid_column": null,
            "grid_gap": null,
            "grid_row": null,
            "grid_template_areas": null,
            "grid_template_columns": null,
            "grid_template_rows": null,
            "height": null,
            "justify_content": null,
            "justify_items": null,
            "left": null,
            "margin": null,
            "max_height": null,
            "max_width": null,
            "min_height": null,
            "min_width": null,
            "object_fit": null,
            "object_position": null,
            "order": null,
            "overflow": null,
            "overflow_x": null,
            "overflow_y": null,
            "padding": null,
            "right": null,
            "top": null,
            "visibility": null,
            "width": null
          }
        },
        "38731f15b2ce4845ac9cf9104c0c64fd": {
          "model_module": "@jupyter-widgets/base",
          "model_name": "LayoutModel",
          "model_module_version": "1.2.0",
          "state": {
            "_model_module": "@jupyter-widgets/base",
            "_model_module_version": "1.2.0",
            "_model_name": "LayoutModel",
            "_view_count": null,
            "_view_module": "@jupyter-widgets/base",
            "_view_module_version": "1.2.0",
            "_view_name": "LayoutView",
            "align_content": null,
            "align_items": null,
            "align_self": null,
            "border": null,
            "bottom": null,
            "display": null,
            "flex": null,
            "flex_flow": null,
            "grid_area": null,
            "grid_auto_columns": null,
            "grid_auto_flow": null,
            "grid_auto_rows": null,
            "grid_column": null,
            "grid_gap": null,
            "grid_row": null,
            "grid_template_areas": null,
            "grid_template_columns": null,
            "grid_template_rows": null,
            "height": null,
            "justify_content": null,
            "justify_items": null,
            "left": null,
            "margin": null,
            "max_height": null,
            "max_width": null,
            "min_height": null,
            "min_width": null,
            "object_fit": null,
            "object_position": null,
            "order": null,
            "overflow": null,
            "overflow_x": null,
            "overflow_y": null,
            "padding": null,
            "right": null,
            "top": null,
            "visibility": null,
            "width": null
          }
        },
        "22c890c0562f4998b30a6502b62834ac": {
          "model_module": "@jupyter-widgets/controls",
          "model_name": "DescriptionStyleModel",
          "model_module_version": "1.5.0",
          "state": {
            "_model_module": "@jupyter-widgets/controls",
            "_model_module_version": "1.5.0",
            "_model_name": "DescriptionStyleModel",
            "_view_count": null,
            "_view_module": "@jupyter-widgets/base",
            "_view_module_version": "1.2.0",
            "_view_name": "StyleView",
            "description_width": ""
          }
        },
        "fc5545af34e5450cb6cd45d9ffb26d35": {
          "model_module": "@jupyter-widgets/base",
          "model_name": "LayoutModel",
          "model_module_version": "1.2.0",
          "state": {
            "_model_module": "@jupyter-widgets/base",
            "_model_module_version": "1.2.0",
            "_model_name": "LayoutModel",
            "_view_count": null,
            "_view_module": "@jupyter-widgets/base",
            "_view_module_version": "1.2.0",
            "_view_name": "LayoutView",
            "align_content": null,
            "align_items": null,
            "align_self": null,
            "border": null,
            "bottom": null,
            "display": null,
            "flex": null,
            "flex_flow": null,
            "grid_area": null,
            "grid_auto_columns": null,
            "grid_auto_flow": null,
            "grid_auto_rows": null,
            "grid_column": null,
            "grid_gap": null,
            "grid_row": null,
            "grid_template_areas": null,
            "grid_template_columns": null,
            "grid_template_rows": null,
            "height": null,
            "justify_content": null,
            "justify_items": null,
            "left": null,
            "margin": null,
            "max_height": null,
            "max_width": null,
            "min_height": null,
            "min_width": null,
            "object_fit": null,
            "object_position": null,
            "order": null,
            "overflow": null,
            "overflow_x": null,
            "overflow_y": null,
            "padding": null,
            "right": null,
            "top": null,
            "visibility": null,
            "width": null
          }
        },
        "c858213b88bd4902917c5399cd074c6a": {
          "model_module": "@jupyter-widgets/controls",
          "model_name": "ProgressStyleModel",
          "model_module_version": "1.5.0",
          "state": {
            "_model_module": "@jupyter-widgets/controls",
            "_model_module_version": "1.5.0",
            "_model_name": "ProgressStyleModel",
            "_view_count": null,
            "_view_module": "@jupyter-widgets/base",
            "_view_module_version": "1.2.0",
            "_view_name": "StyleView",
            "bar_color": null,
            "description_width": ""
          }
        },
        "da36fbe2d0cf477e8698165877daba48": {
          "model_module": "@jupyter-widgets/base",
          "model_name": "LayoutModel",
          "model_module_version": "1.2.0",
          "state": {
            "_model_module": "@jupyter-widgets/base",
            "_model_module_version": "1.2.0",
            "_model_name": "LayoutModel",
            "_view_count": null,
            "_view_module": "@jupyter-widgets/base",
            "_view_module_version": "1.2.0",
            "_view_name": "LayoutView",
            "align_content": null,
            "align_items": null,
            "align_self": null,
            "border": null,
            "bottom": null,
            "display": null,
            "flex": null,
            "flex_flow": null,
            "grid_area": null,
            "grid_auto_columns": null,
            "grid_auto_flow": null,
            "grid_auto_rows": null,
            "grid_column": null,
            "grid_gap": null,
            "grid_row": null,
            "grid_template_areas": null,
            "grid_template_columns": null,
            "grid_template_rows": null,
            "height": null,
            "justify_content": null,
            "justify_items": null,
            "left": null,
            "margin": null,
            "max_height": null,
            "max_width": null,
            "min_height": null,
            "min_width": null,
            "object_fit": null,
            "object_position": null,
            "order": null,
            "overflow": null,
            "overflow_x": null,
            "overflow_y": null,
            "padding": null,
            "right": null,
            "top": null,
            "visibility": null,
            "width": null
          }
        },
        "fbb5b7cc2eea4a738a5dc045d50305c2": {
          "model_module": "@jupyter-widgets/controls",
          "model_name": "DescriptionStyleModel",
          "model_module_version": "1.5.0",
          "state": {
            "_model_module": "@jupyter-widgets/controls",
            "_model_module_version": "1.5.0",
            "_model_name": "DescriptionStyleModel",
            "_view_count": null,
            "_view_module": "@jupyter-widgets/base",
            "_view_module_version": "1.2.0",
            "_view_name": "StyleView",
            "description_width": ""
          }
        },
        "8956c7354e3e467d89a07ef1204f05ad": {
          "model_module": "@jupyter-widgets/controls",
          "model_name": "HBoxModel",
          "model_module_version": "1.5.0",
          "state": {
            "_dom_classes": [],
            "_model_module": "@jupyter-widgets/controls",
            "_model_module_version": "1.5.0",
            "_model_name": "HBoxModel",
            "_view_count": null,
            "_view_module": "@jupyter-widgets/controls",
            "_view_module_version": "1.5.0",
            "_view_name": "HBoxView",
            "box_style": "",
            "children": [
              "IPY_MODEL_4b367d05362448b398dacca79869b7e0",
              "IPY_MODEL_6f6253e8410642d7b50aa372061dc54a",
              "IPY_MODEL_59e375ce426f43d0bf40cd4f94c7ad52"
            ],
            "layout": "IPY_MODEL_a4d5160f9b2d42b1a01ad95d247b9aa6"
          }
        },
        "4b367d05362448b398dacca79869b7e0": {
          "model_module": "@jupyter-widgets/controls",
          "model_name": "HTMLModel",
          "model_module_version": "1.5.0",
          "state": {
            "_dom_classes": [],
            "_model_module": "@jupyter-widgets/controls",
            "_model_module_version": "1.5.0",
            "_model_name": "HTMLModel",
            "_view_count": null,
            "_view_module": "@jupyter-widgets/controls",
            "_view_module_version": "1.5.0",
            "_view_name": "HTMLView",
            "description": "",
            "description_tooltip": null,
            "layout": "IPY_MODEL_67327141a24645b79d07253b728a7dbf",
            "placeholder": "​",
            "style": "IPY_MODEL_4e5b1a13105f46a4adcd3d2a697f28ce",
            "value": "Downloading (…)okenizer_config.json: 100%"
          }
        },
        "6f6253e8410642d7b50aa372061dc54a": {
          "model_module": "@jupyter-widgets/controls",
          "model_name": "FloatProgressModel",
          "model_module_version": "1.5.0",
          "state": {
            "_dom_classes": [],
            "_model_module": "@jupyter-widgets/controls",
            "_model_module_version": "1.5.0",
            "_model_name": "FloatProgressModel",
            "_view_count": null,
            "_view_module": "@jupyter-widgets/controls",
            "_view_module_version": "1.5.0",
            "_view_name": "ProgressView",
            "bar_style": "success",
            "description": "",
            "description_tooltip": null,
            "layout": "IPY_MODEL_ff3e974ea1d1449ebf67c05fc2505bd8",
            "max": 363,
            "min": 0,
            "orientation": "horizontal",
            "style": "IPY_MODEL_51d3a987d51f418697ef308ce610a9f0",
            "value": 363
          }
        },
        "59e375ce426f43d0bf40cd4f94c7ad52": {
          "model_module": "@jupyter-widgets/controls",
          "model_name": "HTMLModel",
          "model_module_version": "1.5.0",
          "state": {
            "_dom_classes": [],
            "_model_module": "@jupyter-widgets/controls",
            "_model_module_version": "1.5.0",
            "_model_name": "HTMLModel",
            "_view_count": null,
            "_view_module": "@jupyter-widgets/controls",
            "_view_module_version": "1.5.0",
            "_view_name": "HTMLView",
            "description": "",
            "description_tooltip": null,
            "layout": "IPY_MODEL_44c38fb4f6ae40c0aa6f6599820b8bb6",
            "placeholder": "​",
            "style": "IPY_MODEL_05eba922f67143ca9e2705e3ba8a33a4",
            "value": " 363/363 [00:00&lt;00:00, 4.85kB/s]"
          }
        },
        "a4d5160f9b2d42b1a01ad95d247b9aa6": {
          "model_module": "@jupyter-widgets/base",
          "model_name": "LayoutModel",
          "model_module_version": "1.2.0",
          "state": {
            "_model_module": "@jupyter-widgets/base",
            "_model_module_version": "1.2.0",
            "_model_name": "LayoutModel",
            "_view_count": null,
            "_view_module": "@jupyter-widgets/base",
            "_view_module_version": "1.2.0",
            "_view_name": "LayoutView",
            "align_content": null,
            "align_items": null,
            "align_self": null,
            "border": null,
            "bottom": null,
            "display": null,
            "flex": null,
            "flex_flow": null,
            "grid_area": null,
            "grid_auto_columns": null,
            "grid_auto_flow": null,
            "grid_auto_rows": null,
            "grid_column": null,
            "grid_gap": null,
            "grid_row": null,
            "grid_template_areas": null,
            "grid_template_columns": null,
            "grid_template_rows": null,
            "height": null,
            "justify_content": null,
            "justify_items": null,
            "left": null,
            "margin": null,
            "max_height": null,
            "max_width": null,
            "min_height": null,
            "min_width": null,
            "object_fit": null,
            "object_position": null,
            "order": null,
            "overflow": null,
            "overflow_x": null,
            "overflow_y": null,
            "padding": null,
            "right": null,
            "top": null,
            "visibility": null,
            "width": null
          }
        },
        "67327141a24645b79d07253b728a7dbf": {
          "model_module": "@jupyter-widgets/base",
          "model_name": "LayoutModel",
          "model_module_version": "1.2.0",
          "state": {
            "_model_module": "@jupyter-widgets/base",
            "_model_module_version": "1.2.0",
            "_model_name": "LayoutModel",
            "_view_count": null,
            "_view_module": "@jupyter-widgets/base",
            "_view_module_version": "1.2.0",
            "_view_name": "LayoutView",
            "align_content": null,
            "align_items": null,
            "align_self": null,
            "border": null,
            "bottom": null,
            "display": null,
            "flex": null,
            "flex_flow": null,
            "grid_area": null,
            "grid_auto_columns": null,
            "grid_auto_flow": null,
            "grid_auto_rows": null,
            "grid_column": null,
            "grid_gap": null,
            "grid_row": null,
            "grid_template_areas": null,
            "grid_template_columns": null,
            "grid_template_rows": null,
            "height": null,
            "justify_content": null,
            "justify_items": null,
            "left": null,
            "margin": null,
            "max_height": null,
            "max_width": null,
            "min_height": null,
            "min_width": null,
            "object_fit": null,
            "object_position": null,
            "order": null,
            "overflow": null,
            "overflow_x": null,
            "overflow_y": null,
            "padding": null,
            "right": null,
            "top": null,
            "visibility": null,
            "width": null
          }
        },
        "4e5b1a13105f46a4adcd3d2a697f28ce": {
          "model_module": "@jupyter-widgets/controls",
          "model_name": "DescriptionStyleModel",
          "model_module_version": "1.5.0",
          "state": {
            "_model_module": "@jupyter-widgets/controls",
            "_model_module_version": "1.5.0",
            "_model_name": "DescriptionStyleModel",
            "_view_count": null,
            "_view_module": "@jupyter-widgets/base",
            "_view_module_version": "1.2.0",
            "_view_name": "StyleView",
            "description_width": ""
          }
        },
        "ff3e974ea1d1449ebf67c05fc2505bd8": {
          "model_module": "@jupyter-widgets/base",
          "model_name": "LayoutModel",
          "model_module_version": "1.2.0",
          "state": {
            "_model_module": "@jupyter-widgets/base",
            "_model_module_version": "1.2.0",
            "_model_name": "LayoutModel",
            "_view_count": null,
            "_view_module": "@jupyter-widgets/base",
            "_view_module_version": "1.2.0",
            "_view_name": "LayoutView",
            "align_content": null,
            "align_items": null,
            "align_self": null,
            "border": null,
            "bottom": null,
            "display": null,
            "flex": null,
            "flex_flow": null,
            "grid_area": null,
            "grid_auto_columns": null,
            "grid_auto_flow": null,
            "grid_auto_rows": null,
            "grid_column": null,
            "grid_gap": null,
            "grid_row": null,
            "grid_template_areas": null,
            "grid_template_columns": null,
            "grid_template_rows": null,
            "height": null,
            "justify_content": null,
            "justify_items": null,
            "left": null,
            "margin": null,
            "max_height": null,
            "max_width": null,
            "min_height": null,
            "min_width": null,
            "object_fit": null,
            "object_position": null,
            "order": null,
            "overflow": null,
            "overflow_x": null,
            "overflow_y": null,
            "padding": null,
            "right": null,
            "top": null,
            "visibility": null,
            "width": null
          }
        },
        "51d3a987d51f418697ef308ce610a9f0": {
          "model_module": "@jupyter-widgets/controls",
          "model_name": "ProgressStyleModel",
          "model_module_version": "1.5.0",
          "state": {
            "_model_module": "@jupyter-widgets/controls",
            "_model_module_version": "1.5.0",
            "_model_name": "ProgressStyleModel",
            "_view_count": null,
            "_view_module": "@jupyter-widgets/base",
            "_view_module_version": "1.2.0",
            "_view_name": "StyleView",
            "bar_color": null,
            "description_width": ""
          }
        },
        "44c38fb4f6ae40c0aa6f6599820b8bb6": {
          "model_module": "@jupyter-widgets/base",
          "model_name": "LayoutModel",
          "model_module_version": "1.2.0",
          "state": {
            "_model_module": "@jupyter-widgets/base",
            "_model_module_version": "1.2.0",
            "_model_name": "LayoutModel",
            "_view_count": null,
            "_view_module": "@jupyter-widgets/base",
            "_view_module_version": "1.2.0",
            "_view_name": "LayoutView",
            "align_content": null,
            "align_items": null,
            "align_self": null,
            "border": null,
            "bottom": null,
            "display": null,
            "flex": null,
            "flex_flow": null,
            "grid_area": null,
            "grid_auto_columns": null,
            "grid_auto_flow": null,
            "grid_auto_rows": null,
            "grid_column": null,
            "grid_gap": null,
            "grid_row": null,
            "grid_template_areas": null,
            "grid_template_columns": null,
            "grid_template_rows": null,
            "height": null,
            "justify_content": null,
            "justify_items": null,
            "left": null,
            "margin": null,
            "max_height": null,
            "max_width": null,
            "min_height": null,
            "min_width": null,
            "object_fit": null,
            "object_position": null,
            "order": null,
            "overflow": null,
            "overflow_x": null,
            "overflow_y": null,
            "padding": null,
            "right": null,
            "top": null,
            "visibility": null,
            "width": null
          }
        },
        "05eba922f67143ca9e2705e3ba8a33a4": {
          "model_module": "@jupyter-widgets/controls",
          "model_name": "DescriptionStyleModel",
          "model_module_version": "1.5.0",
          "state": {
            "_model_module": "@jupyter-widgets/controls",
            "_model_module_version": "1.5.0",
            "_model_name": "DescriptionStyleModel",
            "_view_count": null,
            "_view_module": "@jupyter-widgets/base",
            "_view_module_version": "1.2.0",
            "_view_name": "StyleView",
            "description_width": ""
          }
        },
        "c8aa7031bb014679b82ca29fc2c3871a": {
          "model_module": "@jupyter-widgets/controls",
          "model_name": "HBoxModel",
          "model_module_version": "1.5.0",
          "state": {
            "_dom_classes": [],
            "_model_module": "@jupyter-widgets/controls",
            "_model_module_version": "1.5.0",
            "_model_name": "HBoxModel",
            "_view_count": null,
            "_view_module": "@jupyter-widgets/controls",
            "_view_module_version": "1.5.0",
            "_view_name": "HBoxView",
            "box_style": "",
            "children": [
              "IPY_MODEL_4e9185e4f4b04be988b899f61c1020f3",
              "IPY_MODEL_78981802b817403b9ec75e3c2e5b1502",
              "IPY_MODEL_63d4bf09f97844a7b1e9de117e7bcf81"
            ],
            "layout": "IPY_MODEL_5651339bcea642d0bb78fe8b99ae3497"
          }
        },
        "4e9185e4f4b04be988b899f61c1020f3": {
          "model_module": "@jupyter-widgets/controls",
          "model_name": "HTMLModel",
          "model_module_version": "1.5.0",
          "state": {
            "_dom_classes": [],
            "_model_module": "@jupyter-widgets/controls",
            "_model_module_version": "1.5.0",
            "_model_name": "HTMLModel",
            "_view_count": null,
            "_view_module": "@jupyter-widgets/controls",
            "_view_module_version": "1.5.0",
            "_view_name": "HTMLView",
            "description": "",
            "description_tooltip": null,
            "layout": "IPY_MODEL_cd06b7412e6541539fa805d2ed3135ac",
            "placeholder": "​",
            "style": "IPY_MODEL_d76d1db4332d4445a168cc2d97d52521",
            "value": "Downloading (…)8e1d/train_script.py: 100%"
          }
        },
        "78981802b817403b9ec75e3c2e5b1502": {
          "model_module": "@jupyter-widgets/controls",
          "model_name": "FloatProgressModel",
          "model_module_version": "1.5.0",
          "state": {
            "_dom_classes": [],
            "_model_module": "@jupyter-widgets/controls",
            "_model_module_version": "1.5.0",
            "_model_name": "FloatProgressModel",
            "_view_count": null,
            "_view_module": "@jupyter-widgets/controls",
            "_view_module_version": "1.5.0",
            "_view_name": "ProgressView",
            "bar_style": "success",
            "description": "",
            "description_tooltip": null,
            "layout": "IPY_MODEL_c8cf78cb7cae4a5aa8f4890f69ccb949",
            "max": 13123,
            "min": 0,
            "orientation": "horizontal",
            "style": "IPY_MODEL_22da1c19bff94abca03d945da44c281c",
            "value": 13123
          }
        },
        "63d4bf09f97844a7b1e9de117e7bcf81": {
          "model_module": "@jupyter-widgets/controls",
          "model_name": "HTMLModel",
          "model_module_version": "1.5.0",
          "state": {
            "_dom_classes": [],
            "_model_module": "@jupyter-widgets/controls",
            "_model_module_version": "1.5.0",
            "_model_name": "HTMLModel",
            "_view_count": null,
            "_view_module": "@jupyter-widgets/controls",
            "_view_module_version": "1.5.0",
            "_view_name": "HTMLView",
            "description": "",
            "description_tooltip": null,
            "layout": "IPY_MODEL_f3e4aed3eceb47959b89298307eb7289",
            "placeholder": "​",
            "style": "IPY_MODEL_480d9f2adabb464b96060b1d7884ac88",
            "value": " 13.1k/13.1k [00:00&lt;00:00, 257kB/s]"
          }
        },
        "5651339bcea642d0bb78fe8b99ae3497": {
          "model_module": "@jupyter-widgets/base",
          "model_name": "LayoutModel",
          "model_module_version": "1.2.0",
          "state": {
            "_model_module": "@jupyter-widgets/base",
            "_model_module_version": "1.2.0",
            "_model_name": "LayoutModel",
            "_view_count": null,
            "_view_module": "@jupyter-widgets/base",
            "_view_module_version": "1.2.0",
            "_view_name": "LayoutView",
            "align_content": null,
            "align_items": null,
            "align_self": null,
            "border": null,
            "bottom": null,
            "display": null,
            "flex": null,
            "flex_flow": null,
            "grid_area": null,
            "grid_auto_columns": null,
            "grid_auto_flow": null,
            "grid_auto_rows": null,
            "grid_column": null,
            "grid_gap": null,
            "grid_row": null,
            "grid_template_areas": null,
            "grid_template_columns": null,
            "grid_template_rows": null,
            "height": null,
            "justify_content": null,
            "justify_items": null,
            "left": null,
            "margin": null,
            "max_height": null,
            "max_width": null,
            "min_height": null,
            "min_width": null,
            "object_fit": null,
            "object_position": null,
            "order": null,
            "overflow": null,
            "overflow_x": null,
            "overflow_y": null,
            "padding": null,
            "right": null,
            "top": null,
            "visibility": null,
            "width": null
          }
        },
        "cd06b7412e6541539fa805d2ed3135ac": {
          "model_module": "@jupyter-widgets/base",
          "model_name": "LayoutModel",
          "model_module_version": "1.2.0",
          "state": {
            "_model_module": "@jupyter-widgets/base",
            "_model_module_version": "1.2.0",
            "_model_name": "LayoutModel",
            "_view_count": null,
            "_view_module": "@jupyter-widgets/base",
            "_view_module_version": "1.2.0",
            "_view_name": "LayoutView",
            "align_content": null,
            "align_items": null,
            "align_self": null,
            "border": null,
            "bottom": null,
            "display": null,
            "flex": null,
            "flex_flow": null,
            "grid_area": null,
            "grid_auto_columns": null,
            "grid_auto_flow": null,
            "grid_auto_rows": null,
            "grid_column": null,
            "grid_gap": null,
            "grid_row": null,
            "grid_template_areas": null,
            "grid_template_columns": null,
            "grid_template_rows": null,
            "height": null,
            "justify_content": null,
            "justify_items": null,
            "left": null,
            "margin": null,
            "max_height": null,
            "max_width": null,
            "min_height": null,
            "min_width": null,
            "object_fit": null,
            "object_position": null,
            "order": null,
            "overflow": null,
            "overflow_x": null,
            "overflow_y": null,
            "padding": null,
            "right": null,
            "top": null,
            "visibility": null,
            "width": null
          }
        },
        "d76d1db4332d4445a168cc2d97d52521": {
          "model_module": "@jupyter-widgets/controls",
          "model_name": "DescriptionStyleModel",
          "model_module_version": "1.5.0",
          "state": {
            "_model_module": "@jupyter-widgets/controls",
            "_model_module_version": "1.5.0",
            "_model_name": "DescriptionStyleModel",
            "_view_count": null,
            "_view_module": "@jupyter-widgets/base",
            "_view_module_version": "1.2.0",
            "_view_name": "StyleView",
            "description_width": ""
          }
        },
        "c8cf78cb7cae4a5aa8f4890f69ccb949": {
          "model_module": "@jupyter-widgets/base",
          "model_name": "LayoutModel",
          "model_module_version": "1.2.0",
          "state": {
            "_model_module": "@jupyter-widgets/base",
            "_model_module_version": "1.2.0",
            "_model_name": "LayoutModel",
            "_view_count": null,
            "_view_module": "@jupyter-widgets/base",
            "_view_module_version": "1.2.0",
            "_view_name": "LayoutView",
            "align_content": null,
            "align_items": null,
            "align_self": null,
            "border": null,
            "bottom": null,
            "display": null,
            "flex": null,
            "flex_flow": null,
            "grid_area": null,
            "grid_auto_columns": null,
            "grid_auto_flow": null,
            "grid_auto_rows": null,
            "grid_column": null,
            "grid_gap": null,
            "grid_row": null,
            "grid_template_areas": null,
            "grid_template_columns": null,
            "grid_template_rows": null,
            "height": null,
            "justify_content": null,
            "justify_items": null,
            "left": null,
            "margin": null,
            "max_height": null,
            "max_width": null,
            "min_height": null,
            "min_width": null,
            "object_fit": null,
            "object_position": null,
            "order": null,
            "overflow": null,
            "overflow_x": null,
            "overflow_y": null,
            "padding": null,
            "right": null,
            "top": null,
            "visibility": null,
            "width": null
          }
        },
        "22da1c19bff94abca03d945da44c281c": {
          "model_module": "@jupyter-widgets/controls",
          "model_name": "ProgressStyleModel",
          "model_module_version": "1.5.0",
          "state": {
            "_model_module": "@jupyter-widgets/controls",
            "_model_module_version": "1.5.0",
            "_model_name": "ProgressStyleModel",
            "_view_count": null,
            "_view_module": "@jupyter-widgets/base",
            "_view_module_version": "1.2.0",
            "_view_name": "StyleView",
            "bar_color": null,
            "description_width": ""
          }
        },
        "f3e4aed3eceb47959b89298307eb7289": {
          "model_module": "@jupyter-widgets/base",
          "model_name": "LayoutModel",
          "model_module_version": "1.2.0",
          "state": {
            "_model_module": "@jupyter-widgets/base",
            "_model_module_version": "1.2.0",
            "_model_name": "LayoutModel",
            "_view_count": null,
            "_view_module": "@jupyter-widgets/base",
            "_view_module_version": "1.2.0",
            "_view_name": "LayoutView",
            "align_content": null,
            "align_items": null,
            "align_self": null,
            "border": null,
            "bottom": null,
            "display": null,
            "flex": null,
            "flex_flow": null,
            "grid_area": null,
            "grid_auto_columns": null,
            "grid_auto_flow": null,
            "grid_auto_rows": null,
            "grid_column": null,
            "grid_gap": null,
            "grid_row": null,
            "grid_template_areas": null,
            "grid_template_columns": null,
            "grid_template_rows": null,
            "height": null,
            "justify_content": null,
            "justify_items": null,
            "left": null,
            "margin": null,
            "max_height": null,
            "max_width": null,
            "min_height": null,
            "min_width": null,
            "object_fit": null,
            "object_position": null,
            "order": null,
            "overflow": null,
            "overflow_x": null,
            "overflow_y": null,
            "padding": null,
            "right": null,
            "top": null,
            "visibility": null,
            "width": null
          }
        },
        "480d9f2adabb464b96060b1d7884ac88": {
          "model_module": "@jupyter-widgets/controls",
          "model_name": "DescriptionStyleModel",
          "model_module_version": "1.5.0",
          "state": {
            "_model_module": "@jupyter-widgets/controls",
            "_model_module_version": "1.5.0",
            "_model_name": "DescriptionStyleModel",
            "_view_count": null,
            "_view_module": "@jupyter-widgets/base",
            "_view_module_version": "1.2.0",
            "_view_name": "StyleView",
            "description_width": ""
          }
        },
        "8ae2999d39894aec98db9e64e4d5ad7f": {
          "model_module": "@jupyter-widgets/controls",
          "model_name": "HBoxModel",
          "model_module_version": "1.5.0",
          "state": {
            "_dom_classes": [],
            "_model_module": "@jupyter-widgets/controls",
            "_model_module_version": "1.5.0",
            "_model_name": "HBoxModel",
            "_view_count": null,
            "_view_module": "@jupyter-widgets/controls",
            "_view_module_version": "1.5.0",
            "_view_name": "HBoxView",
            "box_style": "",
            "children": [
              "IPY_MODEL_4c3d0c792a204b84b8e1936edbcaf3d5",
              "IPY_MODEL_a50f4e63b9fb47d2a476c946fa5099f0",
              "IPY_MODEL_8c6dcaddec8a4ae6bb7c2d0e5bd95299"
            ],
            "layout": "IPY_MODEL_48244d5891c5456f9b2c8dbddce9e332"
          }
        },
        "4c3d0c792a204b84b8e1936edbcaf3d5": {
          "model_module": "@jupyter-widgets/controls",
          "model_name": "HTMLModel",
          "model_module_version": "1.5.0",
          "state": {
            "_dom_classes": [],
            "_model_module": "@jupyter-widgets/controls",
            "_model_module_version": "1.5.0",
            "_model_name": "HTMLModel",
            "_view_count": null,
            "_view_module": "@jupyter-widgets/controls",
            "_view_module_version": "1.5.0",
            "_view_name": "HTMLView",
            "description": "",
            "description_tooltip": null,
            "layout": "IPY_MODEL_38158c6ea0f1448887a3a1832f86f91e",
            "placeholder": "​",
            "style": "IPY_MODEL_5dc910a000aa4dcf96f55e644ce26cb3",
            "value": "Downloading (…)b20bca8e1d/vocab.txt: 100%"
          }
        },
        "a50f4e63b9fb47d2a476c946fa5099f0": {
          "model_module": "@jupyter-widgets/controls",
          "model_name": "FloatProgressModel",
          "model_module_version": "1.5.0",
          "state": {
            "_dom_classes": [],
            "_model_module": "@jupyter-widgets/controls",
            "_model_module_version": "1.5.0",
            "_model_name": "FloatProgressModel",
            "_view_count": null,
            "_view_module": "@jupyter-widgets/controls",
            "_view_module_version": "1.5.0",
            "_view_name": "ProgressView",
            "bar_style": "success",
            "description": "",
            "description_tooltip": null,
            "layout": "IPY_MODEL_569d1779736d484b8bf9657c71ca4442",
            "max": 231536,
            "min": 0,
            "orientation": "horizontal",
            "style": "IPY_MODEL_348f3a4414cb4052aff74baefc8faf9c",
            "value": 231536
          }
        },
        "8c6dcaddec8a4ae6bb7c2d0e5bd95299": {
          "model_module": "@jupyter-widgets/controls",
          "model_name": "HTMLModel",
          "model_module_version": "1.5.0",
          "state": {
            "_dom_classes": [],
            "_model_module": "@jupyter-widgets/controls",
            "_model_module_version": "1.5.0",
            "_model_name": "HTMLModel",
            "_view_count": null,
            "_view_module": "@jupyter-widgets/controls",
            "_view_module_version": "1.5.0",
            "_view_name": "HTMLView",
            "description": "",
            "description_tooltip": null,
            "layout": "IPY_MODEL_88854d67e4914f528d2d0cce95b9e6f0",
            "placeholder": "​",
            "style": "IPY_MODEL_097d524f19eb4f97aa993e5e38a37888",
            "value": " 232k/232k [00:00&lt;00:00, 2.36MB/s]"
          }
        },
        "48244d5891c5456f9b2c8dbddce9e332": {
          "model_module": "@jupyter-widgets/base",
          "model_name": "LayoutModel",
          "model_module_version": "1.2.0",
          "state": {
            "_model_module": "@jupyter-widgets/base",
            "_model_module_version": "1.2.0",
            "_model_name": "LayoutModel",
            "_view_count": null,
            "_view_module": "@jupyter-widgets/base",
            "_view_module_version": "1.2.0",
            "_view_name": "LayoutView",
            "align_content": null,
            "align_items": null,
            "align_self": null,
            "border": null,
            "bottom": null,
            "display": null,
            "flex": null,
            "flex_flow": null,
            "grid_area": null,
            "grid_auto_columns": null,
            "grid_auto_flow": null,
            "grid_auto_rows": null,
            "grid_column": null,
            "grid_gap": null,
            "grid_row": null,
            "grid_template_areas": null,
            "grid_template_columns": null,
            "grid_template_rows": null,
            "height": null,
            "justify_content": null,
            "justify_items": null,
            "left": null,
            "margin": null,
            "max_height": null,
            "max_width": null,
            "min_height": null,
            "min_width": null,
            "object_fit": null,
            "object_position": null,
            "order": null,
            "overflow": null,
            "overflow_x": null,
            "overflow_y": null,
            "padding": null,
            "right": null,
            "top": null,
            "visibility": null,
            "width": null
          }
        },
        "38158c6ea0f1448887a3a1832f86f91e": {
          "model_module": "@jupyter-widgets/base",
          "model_name": "LayoutModel",
          "model_module_version": "1.2.0",
          "state": {
            "_model_module": "@jupyter-widgets/base",
            "_model_module_version": "1.2.0",
            "_model_name": "LayoutModel",
            "_view_count": null,
            "_view_module": "@jupyter-widgets/base",
            "_view_module_version": "1.2.0",
            "_view_name": "LayoutView",
            "align_content": null,
            "align_items": null,
            "align_self": null,
            "border": null,
            "bottom": null,
            "display": null,
            "flex": null,
            "flex_flow": null,
            "grid_area": null,
            "grid_auto_columns": null,
            "grid_auto_flow": null,
            "grid_auto_rows": null,
            "grid_column": null,
            "grid_gap": null,
            "grid_row": null,
            "grid_template_areas": null,
            "grid_template_columns": null,
            "grid_template_rows": null,
            "height": null,
            "justify_content": null,
            "justify_items": null,
            "left": null,
            "margin": null,
            "max_height": null,
            "max_width": null,
            "min_height": null,
            "min_width": null,
            "object_fit": null,
            "object_position": null,
            "order": null,
            "overflow": null,
            "overflow_x": null,
            "overflow_y": null,
            "padding": null,
            "right": null,
            "top": null,
            "visibility": null,
            "width": null
          }
        },
        "5dc910a000aa4dcf96f55e644ce26cb3": {
          "model_module": "@jupyter-widgets/controls",
          "model_name": "DescriptionStyleModel",
          "model_module_version": "1.5.0",
          "state": {
            "_model_module": "@jupyter-widgets/controls",
            "_model_module_version": "1.5.0",
            "_model_name": "DescriptionStyleModel",
            "_view_count": null,
            "_view_module": "@jupyter-widgets/base",
            "_view_module_version": "1.2.0",
            "_view_name": "StyleView",
            "description_width": ""
          }
        },
        "569d1779736d484b8bf9657c71ca4442": {
          "model_module": "@jupyter-widgets/base",
          "model_name": "LayoutModel",
          "model_module_version": "1.2.0",
          "state": {
            "_model_module": "@jupyter-widgets/base",
            "_model_module_version": "1.2.0",
            "_model_name": "LayoutModel",
            "_view_count": null,
            "_view_module": "@jupyter-widgets/base",
            "_view_module_version": "1.2.0",
            "_view_name": "LayoutView",
            "align_content": null,
            "align_items": null,
            "align_self": null,
            "border": null,
            "bottom": null,
            "display": null,
            "flex": null,
            "flex_flow": null,
            "grid_area": null,
            "grid_auto_columns": null,
            "grid_auto_flow": null,
            "grid_auto_rows": null,
            "grid_column": null,
            "grid_gap": null,
            "grid_row": null,
            "grid_template_areas": null,
            "grid_template_columns": null,
            "grid_template_rows": null,
            "height": null,
            "justify_content": null,
            "justify_items": null,
            "left": null,
            "margin": null,
            "max_height": null,
            "max_width": null,
            "min_height": null,
            "min_width": null,
            "object_fit": null,
            "object_position": null,
            "order": null,
            "overflow": null,
            "overflow_x": null,
            "overflow_y": null,
            "padding": null,
            "right": null,
            "top": null,
            "visibility": null,
            "width": null
          }
        },
        "348f3a4414cb4052aff74baefc8faf9c": {
          "model_module": "@jupyter-widgets/controls",
          "model_name": "ProgressStyleModel",
          "model_module_version": "1.5.0",
          "state": {
            "_model_module": "@jupyter-widgets/controls",
            "_model_module_version": "1.5.0",
            "_model_name": "ProgressStyleModel",
            "_view_count": null,
            "_view_module": "@jupyter-widgets/base",
            "_view_module_version": "1.2.0",
            "_view_name": "StyleView",
            "bar_color": null,
            "description_width": ""
          }
        },
        "88854d67e4914f528d2d0cce95b9e6f0": {
          "model_module": "@jupyter-widgets/base",
          "model_name": "LayoutModel",
          "model_module_version": "1.2.0",
          "state": {
            "_model_module": "@jupyter-widgets/base",
            "_model_module_version": "1.2.0",
            "_model_name": "LayoutModel",
            "_view_count": null,
            "_view_module": "@jupyter-widgets/base",
            "_view_module_version": "1.2.0",
            "_view_name": "LayoutView",
            "align_content": null,
            "align_items": null,
            "align_self": null,
            "border": null,
            "bottom": null,
            "display": null,
            "flex": null,
            "flex_flow": null,
            "grid_area": null,
            "grid_auto_columns": null,
            "grid_auto_flow": null,
            "grid_auto_rows": null,
            "grid_column": null,
            "grid_gap": null,
            "grid_row": null,
            "grid_template_areas": null,
            "grid_template_columns": null,
            "grid_template_rows": null,
            "height": null,
            "justify_content": null,
            "justify_items": null,
            "left": null,
            "margin": null,
            "max_height": null,
            "max_width": null,
            "min_height": null,
            "min_width": null,
            "object_fit": null,
            "object_position": null,
            "order": null,
            "overflow": null,
            "overflow_x": null,
            "overflow_y": null,
            "padding": null,
            "right": null,
            "top": null,
            "visibility": null,
            "width": null
          }
        },
        "097d524f19eb4f97aa993e5e38a37888": {
          "model_module": "@jupyter-widgets/controls",
          "model_name": "DescriptionStyleModel",
          "model_module_version": "1.5.0",
          "state": {
            "_model_module": "@jupyter-widgets/controls",
            "_model_module_version": "1.5.0",
            "_model_name": "DescriptionStyleModel",
            "_view_count": null,
            "_view_module": "@jupyter-widgets/base",
            "_view_module_version": "1.2.0",
            "_view_name": "StyleView",
            "description_width": ""
          }
        },
        "668ce9073a6c4042b3c9f07662a44aa6": {
          "model_module": "@jupyter-widgets/controls",
          "model_name": "HBoxModel",
          "model_module_version": "1.5.0",
          "state": {
            "_dom_classes": [],
            "_model_module": "@jupyter-widgets/controls",
            "_model_module_version": "1.5.0",
            "_model_name": "HBoxModel",
            "_view_count": null,
            "_view_module": "@jupyter-widgets/controls",
            "_view_module_version": "1.5.0",
            "_view_name": "HBoxView",
            "box_style": "",
            "children": [
              "IPY_MODEL_96b52294d40d4bcf9ac71bc261737ee2",
              "IPY_MODEL_7057589d87ee4adb85fbcf1226df7c77",
              "IPY_MODEL_b329de4952f44d5a8035feab231d0895"
            ],
            "layout": "IPY_MODEL_604d15cc3306410a9158a289cc587c5a"
          }
        },
        "96b52294d40d4bcf9ac71bc261737ee2": {
          "model_module": "@jupyter-widgets/controls",
          "model_name": "HTMLModel",
          "model_module_version": "1.5.0",
          "state": {
            "_dom_classes": [],
            "_model_module": "@jupyter-widgets/controls",
            "_model_module_version": "1.5.0",
            "_model_name": "HTMLModel",
            "_view_count": null,
            "_view_module": "@jupyter-widgets/controls",
            "_view_module_version": "1.5.0",
            "_view_name": "HTMLView",
            "description": "",
            "description_tooltip": null,
            "layout": "IPY_MODEL_4e3ef839fb224f7ab6e357554cf7dd38",
            "placeholder": "​",
            "style": "IPY_MODEL_92d5392f857c4f8db45d868ca7e17018",
            "value": "Downloading (…)bca8e1d/modules.json: 100%"
          }
        },
        "7057589d87ee4adb85fbcf1226df7c77": {
          "model_module": "@jupyter-widgets/controls",
          "model_name": "FloatProgressModel",
          "model_module_version": "1.5.0",
          "state": {
            "_dom_classes": [],
            "_model_module": "@jupyter-widgets/controls",
            "_model_module_version": "1.5.0",
            "_model_name": "FloatProgressModel",
            "_view_count": null,
            "_view_module": "@jupyter-widgets/controls",
            "_view_module_version": "1.5.0",
            "_view_name": "ProgressView",
            "bar_style": "success",
            "description": "",
            "description_tooltip": null,
            "layout": "IPY_MODEL_616557d826f24639ae9b5379610e788a",
            "max": 349,
            "min": 0,
            "orientation": "horizontal",
            "style": "IPY_MODEL_a31dc14f4f234bc3bb454521281ae3fe",
            "value": 349
          }
        },
        "b329de4952f44d5a8035feab231d0895": {
          "model_module": "@jupyter-widgets/controls",
          "model_name": "HTMLModel",
          "model_module_version": "1.5.0",
          "state": {
            "_dom_classes": [],
            "_model_module": "@jupyter-widgets/controls",
            "_model_module_version": "1.5.0",
            "_model_name": "HTMLModel",
            "_view_count": null,
            "_view_module": "@jupyter-widgets/controls",
            "_view_module_version": "1.5.0",
            "_view_name": "HTMLView",
            "description": "",
            "description_tooltip": null,
            "layout": "IPY_MODEL_8dfef9a12bf2416c8b0d106f76fcbaf6",
            "placeholder": "​",
            "style": "IPY_MODEL_81e085215d9a41d5af0705e59f6dec56",
            "value": " 349/349 [00:00&lt;00:00, 3.75kB/s]"
          }
        },
        "604d15cc3306410a9158a289cc587c5a": {
          "model_module": "@jupyter-widgets/base",
          "model_name": "LayoutModel",
          "model_module_version": "1.2.0",
          "state": {
            "_model_module": "@jupyter-widgets/base",
            "_model_module_version": "1.2.0",
            "_model_name": "LayoutModel",
            "_view_count": null,
            "_view_module": "@jupyter-widgets/base",
            "_view_module_version": "1.2.0",
            "_view_name": "LayoutView",
            "align_content": null,
            "align_items": null,
            "align_self": null,
            "border": null,
            "bottom": null,
            "display": null,
            "flex": null,
            "flex_flow": null,
            "grid_area": null,
            "grid_auto_columns": null,
            "grid_auto_flow": null,
            "grid_auto_rows": null,
            "grid_column": null,
            "grid_gap": null,
            "grid_row": null,
            "grid_template_areas": null,
            "grid_template_columns": null,
            "grid_template_rows": null,
            "height": null,
            "justify_content": null,
            "justify_items": null,
            "left": null,
            "margin": null,
            "max_height": null,
            "max_width": null,
            "min_height": null,
            "min_width": null,
            "object_fit": null,
            "object_position": null,
            "order": null,
            "overflow": null,
            "overflow_x": null,
            "overflow_y": null,
            "padding": null,
            "right": null,
            "top": null,
            "visibility": null,
            "width": null
          }
        },
        "4e3ef839fb224f7ab6e357554cf7dd38": {
          "model_module": "@jupyter-widgets/base",
          "model_name": "LayoutModel",
          "model_module_version": "1.2.0",
          "state": {
            "_model_module": "@jupyter-widgets/base",
            "_model_module_version": "1.2.0",
            "_model_name": "LayoutModel",
            "_view_count": null,
            "_view_module": "@jupyter-widgets/base",
            "_view_module_version": "1.2.0",
            "_view_name": "LayoutView",
            "align_content": null,
            "align_items": null,
            "align_self": null,
            "border": null,
            "bottom": null,
            "display": null,
            "flex": null,
            "flex_flow": null,
            "grid_area": null,
            "grid_auto_columns": null,
            "grid_auto_flow": null,
            "grid_auto_rows": null,
            "grid_column": null,
            "grid_gap": null,
            "grid_row": null,
            "grid_template_areas": null,
            "grid_template_columns": null,
            "grid_template_rows": null,
            "height": null,
            "justify_content": null,
            "justify_items": null,
            "left": null,
            "margin": null,
            "max_height": null,
            "max_width": null,
            "min_height": null,
            "min_width": null,
            "object_fit": null,
            "object_position": null,
            "order": null,
            "overflow": null,
            "overflow_x": null,
            "overflow_y": null,
            "padding": null,
            "right": null,
            "top": null,
            "visibility": null,
            "width": null
          }
        },
        "92d5392f857c4f8db45d868ca7e17018": {
          "model_module": "@jupyter-widgets/controls",
          "model_name": "DescriptionStyleModel",
          "model_module_version": "1.5.0",
          "state": {
            "_model_module": "@jupyter-widgets/controls",
            "_model_module_version": "1.5.0",
            "_model_name": "DescriptionStyleModel",
            "_view_count": null,
            "_view_module": "@jupyter-widgets/base",
            "_view_module_version": "1.2.0",
            "_view_name": "StyleView",
            "description_width": ""
          }
        },
        "616557d826f24639ae9b5379610e788a": {
          "model_module": "@jupyter-widgets/base",
          "model_name": "LayoutModel",
          "model_module_version": "1.2.0",
          "state": {
            "_model_module": "@jupyter-widgets/base",
            "_model_module_version": "1.2.0",
            "_model_name": "LayoutModel",
            "_view_count": null,
            "_view_module": "@jupyter-widgets/base",
            "_view_module_version": "1.2.0",
            "_view_name": "LayoutView",
            "align_content": null,
            "align_items": null,
            "align_self": null,
            "border": null,
            "bottom": null,
            "display": null,
            "flex": null,
            "flex_flow": null,
            "grid_area": null,
            "grid_auto_columns": null,
            "grid_auto_flow": null,
            "grid_auto_rows": null,
            "grid_column": null,
            "grid_gap": null,
            "grid_row": null,
            "grid_template_areas": null,
            "grid_template_columns": null,
            "grid_template_rows": null,
            "height": null,
            "justify_content": null,
            "justify_items": null,
            "left": null,
            "margin": null,
            "max_height": null,
            "max_width": null,
            "min_height": null,
            "min_width": null,
            "object_fit": null,
            "object_position": null,
            "order": null,
            "overflow": null,
            "overflow_x": null,
            "overflow_y": null,
            "padding": null,
            "right": null,
            "top": null,
            "visibility": null,
            "width": null
          }
        },
        "a31dc14f4f234bc3bb454521281ae3fe": {
          "model_module": "@jupyter-widgets/controls",
          "model_name": "ProgressStyleModel",
          "model_module_version": "1.5.0",
          "state": {
            "_model_module": "@jupyter-widgets/controls",
            "_model_module_version": "1.5.0",
            "_model_name": "ProgressStyleModel",
            "_view_count": null,
            "_view_module": "@jupyter-widgets/base",
            "_view_module_version": "1.2.0",
            "_view_name": "StyleView",
            "bar_color": null,
            "description_width": ""
          }
        },
        "8dfef9a12bf2416c8b0d106f76fcbaf6": {
          "model_module": "@jupyter-widgets/base",
          "model_name": "LayoutModel",
          "model_module_version": "1.2.0",
          "state": {
            "_model_module": "@jupyter-widgets/base",
            "_model_module_version": "1.2.0",
            "_model_name": "LayoutModel",
            "_view_count": null,
            "_view_module": "@jupyter-widgets/base",
            "_view_module_version": "1.2.0",
            "_view_name": "LayoutView",
            "align_content": null,
            "align_items": null,
            "align_self": null,
            "border": null,
            "bottom": null,
            "display": null,
            "flex": null,
            "flex_flow": null,
            "grid_area": null,
            "grid_auto_columns": null,
            "grid_auto_flow": null,
            "grid_auto_rows": null,
            "grid_column": null,
            "grid_gap": null,
            "grid_row": null,
            "grid_template_areas": null,
            "grid_template_columns": null,
            "grid_template_rows": null,
            "height": null,
            "justify_content": null,
            "justify_items": null,
            "left": null,
            "margin": null,
            "max_height": null,
            "max_width": null,
            "min_height": null,
            "min_width": null,
            "object_fit": null,
            "object_position": null,
            "order": null,
            "overflow": null,
            "overflow_x": null,
            "overflow_y": null,
            "padding": null,
            "right": null,
            "top": null,
            "visibility": null,
            "width": null
          }
        },
        "81e085215d9a41d5af0705e59f6dec56": {
          "model_module": "@jupyter-widgets/controls",
          "model_name": "DescriptionStyleModel",
          "model_module_version": "1.5.0",
          "state": {
            "_model_module": "@jupyter-widgets/controls",
            "_model_module_version": "1.5.0",
            "_model_name": "DescriptionStyleModel",
            "_view_count": null,
            "_view_module": "@jupyter-widgets/base",
            "_view_module_version": "1.2.0",
            "_view_name": "StyleView",
            "description_width": ""
          }
        }
      }
    }
  },
  "cells": [
    {
      "cell_type": "code",
      "execution_count": 1,
      "metadata": {
        "colab": {
          "base_uri": "https://localhost:8080/",
          "height": 53
        },
        "id": "7RT8YGtT6kkN",
        "outputId": "cd5a673c-adbc-49e5-c3d8-03769feee670"
      },
      "outputs": [
        {
          "output_type": "stream",
          "name": "stdout",
          "text": [
            "Mounted at /content/drive\n"
          ]
        },
        {
          "output_type": "execute_result",
          "data": {
            "text/plain": [
              "'/content/drive/MyDrive/stsbenchmark'"
            ],
            "application/vnd.google.colaboratory.intrinsic+json": {
              "type": "string"
            }
          },
          "metadata": {},
          "execution_count": 1
        }
      ],
      "source": [
        "from google.colab import drive\n",
        "drive.mount('/content/drive')\n",
        "import os\n",
        "os.chdir('/content/drive/MyDrive/stsbenchmark')\n",
        "os.getcwd()"
      ]
    },
    {
      "cell_type": "markdown",
      "source": [
        "**EMBEDDINGS DELLE COPPIE DI FRASI, SENTENCE TRANSFORMERS**\n"
      ],
      "metadata": {
        "id": "FfYCgjOBZKlX"
      }
    },
    {
      "cell_type": "code",
      "source": [
        "import csv\n",
        "import pandas as pd\n",
        "import json\n",
        "import string\n",
        "import re\n",
        "import numpy as np\n",
        "import plotly.express as px\n",
        "\n",
        "from sklearn.feature_extraction.text import TfidfVectorizer\n",
        "from sklearn.cluster import KMeans\n",
        "from sklearn import metrics\n",
        "\n",
        "from mpl_toolkits.mplot3d import Axes3D\n",
        "from sklearn.preprocessing import LabelEncoder\n",
        "from sklearn.preprocessing import MinMaxScaler\n",
        "from matplotlib import pyplot as plt\n",
        "from sklearn.decomposition import TruncatedSVD\n",
        "\n",
        "from sklearn.feature_extraction.text import CountVectorizer\n",
        "from sklearn.decomposition import LatentDirichletAllocation\n",
        "from sklearn.manifold import TSNE"
      ],
      "metadata": {
        "id": "pMk4kchH6nwO"
      },
      "execution_count": 2,
      "outputs": []
    },
    {
      "cell_type": "code",
      "source": [
        "columns=['genre', 'file', 'year', 'index', 'score', 'sentence1', 'sentence2']\n",
        "df_train = pd.read_csv('/content/drive/MyDrive/stsbenchmark/sts-train.csv', sep='\\t', usecols=range(7), header=None, quoting=csv.QUOTE_NONE, names=columns, encoding='UTF-8')\n",
        "df_dev = pd.read_csv('/content/drive/MyDrive/stsbenchmark/sts-dev.csv', sep='\\t', usecols=range(7), header=None, quoting=csv.QUOTE_NONE, names=columns, encoding='UTF-8')\n",
        "df_test = pd.read_csv('/content/drive/MyDrive/stsbenchmark/sts-test.csv', sep='\\t', usecols=range(7), header=None, quoting=csv.QUOTE_NONE, names=columns, encoding='UTF-8')"
      ],
      "metadata": {
        "id": "1T4W4ytX6vYZ"
      },
      "execution_count": 3,
      "outputs": []
    },
    {
      "cell_type": "code",
      "source": [
        "def pre_processing(df: pd.DataFrame) -> pd.DataFrame:\n",
        "    df['genre'] = df['genre'].replace('main-', '', regex=True)\n",
        "    df['genre'] = df['genre'].replace('forum', 'forums')\n",
        "    df['year'] = df['year'].replace(r'\\D', '', regex=True)\n",
        "    df['score'] = MinMaxScaler().fit_transform(df[['score']])\n",
        "    return df"
      ],
      "metadata": {
        "id": "3GxM9uF9IS15"
      },
      "execution_count": 4,
      "outputs": []
    },
    {
      "cell_type": "code",
      "source": [
        "df_train = pre_processing(df_train)\n",
        "df_dev = pre_processing(df_dev)\n",
        "df_test = pre_processing(df_test)"
      ],
      "metadata": {
        "id": "hC0zvNCYGszu"
      },
      "execution_count": 5,
      "outputs": []
    },
    {
      "cell_type": "markdown",
      "source": [
        "--descrizione dataset--"
      ],
      "metadata": {
        "id": "1l8I1mex614D"
      }
    },
    {
      "cell_type": "markdown",
      "source": [
        "**Data Processing**"
      ],
      "metadata": {
        "id": "GPADCvMWBIgc"
      }
    },
    {
      "cell_type": "code",
      "source": [
        "import string\n",
        "import re\n",
        "\n",
        "regex = '[' + string.punctuation + ']'\n",
        "print(regex)"
      ],
      "metadata": {
        "colab": {
          "base_uri": "https://localhost:8080/"
        },
        "id": "XZlfU3CYBO3l",
        "outputId": "e1c2287c-8896-4b43-82f2-8ba26515071a"
      },
      "execution_count": 6,
      "outputs": [
        {
          "output_type": "stream",
          "name": "stdout",
          "text": [
            "[!\"#$%&'()*+,-./:;<=>?@[\\]^_`{|}~]\n"
          ]
        }
      ]
    },
    {
      "cell_type": "code",
      "source": [
        "df_train['vocab1'] = df_train['sentence1'].apply(lambda x: sorted(str(re.sub(regex, '', x)).split()))  \n",
        "df_train['vocab2'] = df_train['sentence2'].apply(lambda x: sorted(str(re.sub(regex, '', x)).split()))\n",
        "df_dev['vocab1'] = df_dev['sentence1'].apply(lambda x: sorted(str(re.sub(regex, '', x)).split())) \n",
        "df_dev['vocab2'] = df_dev['sentence2'].apply(lambda x: sorted(str(re.sub(regex, '', x)).split()))\n",
        "df_test['vocab1'] = df_test['sentence1'].apply(lambda x: sorted(str(re.sub(regex, '', x)).split())) \n",
        "df_test['vocab2'] = df_test['sentence2'].apply(lambda x: sorted(str(re.sub(regex, '', x)).split()))"
      ],
      "metadata": {
        "id": "-uvL4187P6tp"
      },
      "execution_count": 7,
      "outputs": []
    },
    {
      "cell_type": "code",
      "source": [
        "'''global_vocab1 = df_train['vocab1'].sum()\n",
        "print(global_vocab1[:20])\n",
        "\n",
        "global_vocab2 = df_train['vocab2'].sum()\n",
        "print(global_vocab2[:20])'''"
      ],
      "metadata": {
        "colab": {
          "base_uri": "https://localhost:8080/",
          "height": 35
        },
        "id": "b_ZtybQeI_Fz",
        "outputId": "14b64b42-5db5-4e08-8d71-26c615e86d30"
      },
      "execution_count": 8,
      "outputs": [
        {
          "output_type": "execute_result",
          "data": {
            "text/plain": [
              "\"global_vocab1 = df_train['vocab1'].sum()\\nprint(global_vocab1[:20])\\n\\nglobal_vocab2 = df_train['vocab2'].sum()\\nprint(global_vocab2[:20])\""
            ],
            "application/vnd.google.colaboratory.intrinsic+json": {
              "type": "string"
            }
          },
          "metadata": {},
          "execution_count": 8
        }
      ]
    },
    {
      "cell_type": "code",
      "source": [
        "'''import nltk\n",
        "counts1 = nltk.Counter(global_vocab1)\n",
        "print(counts1)\n",
        "\n",
        "counts2 = nltk.Counter(global_vocab2)\n",
        "print(counts2)'''"
      ],
      "metadata": {
        "colab": {
          "base_uri": "https://localhost:8080/",
          "height": 35
        },
        "id": "fTg7Yi1UJb4B",
        "outputId": "e9e24727-4371-4cb6-e922-3a5231ebcb24"
      },
      "execution_count": 9,
      "outputs": [
        {
          "output_type": "execute_result",
          "data": {
            "text/plain": [
              "'import nltk\\ncounts1 = nltk.Counter(global_vocab1)\\nprint(counts1)\\n\\ncounts2 = nltk.Counter(global_vocab2)\\nprint(counts2)'"
            ],
            "application/vnd.google.colaboratory.intrinsic+json": {
              "type": "string"
            }
          },
          "metadata": {},
          "execution_count": 9
        }
      ]
    },
    {
      "cell_type": "code",
      "source": [
        "'''counts1.most_common(30)\n",
        "\n",
        "counts2.most_common(30)'''"
      ],
      "metadata": {
        "colab": {
          "base_uri": "https://localhost:8080/",
          "height": 35
        },
        "id": "LPi60Yb7Dd1o",
        "outputId": "6a7158bc-98ac-44e2-ce43-4a59c835d9f1"
      },
      "execution_count": 10,
      "outputs": [
        {
          "output_type": "execute_result",
          "data": {
            "text/plain": [
              "'counts1.most_common(30)\\n\\ncounts2.most_common(30)'"
            ],
            "application/vnd.google.colaboratory.intrinsic+json": {
              "type": "string"
            }
          },
          "metadata": {},
          "execution_count": 10
        }
      ]
    },
    {
      "cell_type": "code",
      "source": [
        "'''nltk.download('stopwords')\n",
        "from nltk.corpus import stopwords\n",
        "\n",
        "# vocab 1 without stopwords\n",
        "vocab1_nostop = [w for w in global_vocab1 if w not in stopwords.words('english')]\n",
        "counts1_nostop = nltk.Counter(vocab1_nostop)\n",
        "\n",
        "# vocab 2 without stopwords\n",
        "vocab2_nostop = [w for w in global_vocab2 if w not in stopwords.words('english')]\n",
        "counts2_nostop = nltk.Counter(vocab2_nostop)'''"
      ],
      "metadata": {
        "colab": {
          "base_uri": "https://localhost:8080/",
          "height": 70
        },
        "id": "TlPTft71Dd--",
        "outputId": "fd7943fa-4624-453d-e369-ed80e6421bf2"
      },
      "execution_count": 11,
      "outputs": [
        {
          "output_type": "execute_result",
          "data": {
            "text/plain": [
              "\"nltk.download('stopwords')\\nfrom nltk.corpus import stopwords\\n\\n# vocab 1 without stopwords\\nvocab1_nostop = [w for w in global_vocab1 if w not in stopwords.words('english')]\\ncounts1_nostop = nltk.Counter(vocab1_nostop)\\n\\n# vocab 2 without stopwords\\nvocab2_nostop = [w for w in global_vocab2 if w not in stopwords.words('english')]\\ncounts2_nostop = nltk.Counter(vocab2_nostop)\""
            ],
            "application/vnd.google.colaboratory.intrinsic+json": {
              "type": "string"
            }
          },
          "metadata": {},
          "execution_count": 11
        }
      ]
    },
    {
      "cell_type": "markdown",
      "source": [
        "removing stopwords\n"
      ],
      "metadata": {
        "id": "rN5PjK95NE6N"
      }
    },
    {
      "cell_type": "code",
      "source": [
        "'''from nltk.corpus import stopwords\n",
        "for i in range(0,len(df_train)):\n",
        "  df_train['sentence1'][i] = re.sub(regex,' ',df_train['sentence1'][i])\n",
        "  df_train['sentence2'][i] = re.sub(regex,' ',df_train['sentence2'][i])\n",
        "  words1 = df_train['sentence1'][i].lower().split()\n",
        "  words2 = df_train['sentence2'][i].lower().split()\n",
        "  df_train['sentence1'][i] = ' '.join([w for w in words1 if w not in stopwords.words('english')])\n",
        "  df_train['sentence2'][i] = ' '.join([w for w in words2 if w not in stopwords.words('english')])\n",
        "\n",
        "for i in range(0,len(df_dev)):\n",
        "  df_dev['sentence1'][i] = re.sub(regex,' ',df_dev['sentence1'][i])\n",
        "  df_dev['sentence2'][i] = re.sub(regex,' ',df_dev['sentence2'][i])\n",
        "  words1 = df_dev['sentence1'][i].lower().split()\n",
        "  words2 = df_dev['sentence2'][i].lower().split()\n",
        "  df_dev['sentence1'][i] = ' '.join([w for w in words1 if w not in stopwords.words('english')])\n",
        "  df_dev['sentence2'][i] = ' '.join([w for w in words2 if w not in stopwords.words('english')])\n",
        "\n",
        "for i in range(0,len(df_test)):\n",
        "  df_test['sentence1'][i] = re.sub(regex,' ',df_test['sentence1'][i])\n",
        "  df_test['sentence2'][i] = re.sub(regex,' ',df_test['sentence2'][i])\n",
        "  words1 = df_test['sentence1'][i].lower().split()\n",
        "  words2 = df_test['sentence2'][i].lower().split()\n",
        "  df_test['sentence1'][i] = ' '.join([w for w in words1 if w not in stopwords.words('english')])\n",
        "  df_test['sentence2'][i] = ' '.join([w for w in words2 if w not in stopwords.words('english')])'''\n",
        " \n"
      ],
      "metadata": {
        "id": "ZWnPu6qaDeKr",
        "colab": {
          "base_uri": "https://localhost:8080/",
          "height": 140
        },
        "outputId": "4cfef02f-d54c-4612-fae0-31c69e9e79b5"
      },
      "execution_count": 12,
      "outputs": [
        {
          "output_type": "execute_result",
          "data": {
            "text/plain": [
              "\"from nltk.corpus import stopwords\\nfor i in range(0,len(df_train)):\\n  df_train['sentence1'][i] = re.sub(regex,' ',df_train['sentence1'][i])\\n  df_train['sentence2'][i] = re.sub(regex,' ',df_train['sentence2'][i])\\n  words1 = df_train['sentence1'][i].lower().split()\\n  words2 = df_train['sentence2'][i].lower().split()\\n  df_train['sentence1'][i] = ' '.join([w for w in words1 if w not in stopwords.words('english')])\\n  df_train['sentence2'][i] = ' '.join([w for w in words2 if w not in stopwords.words('english')])\\n\\nfor i in range(0,len(df_dev)):\\n  df_dev['sentence1'][i] = re.sub(regex,' ',df_dev['sentence1'][i])\\n  df_dev['sentence2'][i] = re.sub(regex,' ',df_dev['sentence2'][i])\\n  words1 = df_dev['sentence1'][i].lower().split()\\n  words2 = df_dev['sentence2'][i].lower().split()\\n  df_dev['sentence1'][i] = ' '.join([w for w in words1 if w not in stopwords.words('english')])\\n  df_dev['sentence2'][i] = ' '.join([w for w in words2 if w not in stopwords.words('english')])\\n\\nfor i in range(0,len(df_test)):\\n  df_test['sentence1'][i] = re.sub(regex,' ',df_test['sentence1'][i])\\n  df_test['sentence2'][i] = re.sub(regex,' ',df_test['sentence2'][i])\\n  words1 = df_test['sentence1'][i].lower().split()\\n  words2 = df_test['sentence2'][i].lower().split()\\n  df_test['sentence1'][i] = ' '.join([w for w in words1 if w not in stopwords.words('english')])\\n  df_test['sentence2'][i] = ' '.join([w for w in words2 if w not in stopwords.words('english')])\""
            ],
            "application/vnd.google.colaboratory.intrinsic+json": {
              "type": "string"
            }
          },
          "metadata": {},
          "execution_count": 12
        }
      ]
    },
    {
      "cell_type": "code",
      "source": [
        "len(df_train)"
      ],
      "metadata": {
        "colab": {
          "base_uri": "https://localhost:8080/"
        },
        "id": "XG0fszjb67q2",
        "outputId": "3f4a1979-3584-4fde-b3e2-ee4c710875d0"
      },
      "execution_count": 13,
      "outputs": [
        {
          "output_type": "execute_result",
          "data": {
            "text/plain": [
              "5749"
            ]
          },
          "metadata": {},
          "execution_count": 13
        }
      ]
    },
    {
      "cell_type": "markdown",
      "source": [
        "**Word Embeddings**"
      ],
      "metadata": {
        "id": "acGLYf_DA_Ny"
      }
    },
    {
      "cell_type": "code",
      "source": [
        "!pip install -U sentence-transformers\n",
        "!pip install datasets\n",
        "!pip install hnswlib"
      ],
      "metadata": {
        "colab": {
          "base_uri": "https://localhost:8080/"
        },
        "id": "FUqzCh2VCwvT",
        "outputId": "550b82de-4fb7-46f5-b7a7-58b7a9777c69"
      },
      "execution_count": 14,
      "outputs": [
        {
          "output_type": "stream",
          "name": "stdout",
          "text": [
            "Looking in indexes: https://pypi.org/simple, https://us-python.pkg.dev/colab-wheels/public/simple/\n",
            "Collecting sentence-transformers\n",
            "  Downloading sentence-transformers-2.2.2.tar.gz (85 kB)\n",
            "\u001b[2K     \u001b[90m━━━━━━━━━━━━━━━━━━━━━━━━━━━━━━━━━━━━━━━━\u001b[0m \u001b[32m86.0/86.0 kB\u001b[0m \u001b[31m4.7 MB/s\u001b[0m eta \u001b[36m0:00:00\u001b[0m\n",
            "\u001b[?25h  Preparing metadata (setup.py) ... \u001b[?25l\u001b[?25hdone\n",
            "Collecting transformers<5.0.0,>=4.6.0 (from sentence-transformers)\n",
            "  Downloading transformers-4.29.2-py3-none-any.whl (7.1 MB)\n",
            "\u001b[2K     \u001b[90m━━━━━━━━━━━━━━━━━━━━━━━━━━━━━━━━━━━━━━━━\u001b[0m \u001b[32m7.1/7.1 MB\u001b[0m \u001b[31m70.5 MB/s\u001b[0m eta \u001b[36m0:00:00\u001b[0m\n",
            "\u001b[?25hRequirement already satisfied: tqdm in /usr/local/lib/python3.10/dist-packages (from sentence-transformers) (4.65.0)\n",
            "Requirement already satisfied: torch>=1.6.0 in /usr/local/lib/python3.10/dist-packages (from sentence-transformers) (2.0.1+cu118)\n",
            "Requirement already satisfied: torchvision in /usr/local/lib/python3.10/dist-packages (from sentence-transformers) (0.15.2+cu118)\n",
            "Requirement already satisfied: numpy in /usr/local/lib/python3.10/dist-packages (from sentence-transformers) (1.22.4)\n",
            "Requirement already satisfied: scikit-learn in /usr/local/lib/python3.10/dist-packages (from sentence-transformers) (1.2.2)\n",
            "Requirement already satisfied: scipy in /usr/local/lib/python3.10/dist-packages (from sentence-transformers) (1.10.1)\n",
            "Requirement already satisfied: nltk in /usr/local/lib/python3.10/dist-packages (from sentence-transformers) (3.8.1)\n",
            "Collecting sentencepiece (from sentence-transformers)\n",
            "  Downloading sentencepiece-0.1.99-cp310-cp310-manylinux_2_17_x86_64.manylinux2014_x86_64.whl (1.3 MB)\n",
            "\u001b[2K     \u001b[90m━━━━━━━━━━━━━━━━━━━━━━━━━━━━━━━━━━━━━━━━\u001b[0m \u001b[32m1.3/1.3 MB\u001b[0m \u001b[31m49.5 MB/s\u001b[0m eta \u001b[36m0:00:00\u001b[0m\n",
            "\u001b[?25hCollecting huggingface-hub>=0.4.0 (from sentence-transformers)\n",
            "  Downloading huggingface_hub-0.14.1-py3-none-any.whl (224 kB)\n",
            "\u001b[2K     \u001b[90m━━━━━━━━━━━━━━━━━━━━━━━━━━━━━━━━━━━━━━\u001b[0m \u001b[32m224.5/224.5 kB\u001b[0m \u001b[31m24.0 MB/s\u001b[0m eta \u001b[36m0:00:00\u001b[0m\n",
            "\u001b[?25hRequirement already satisfied: filelock in /usr/local/lib/python3.10/dist-packages (from huggingface-hub>=0.4.0->sentence-transformers) (3.12.0)\n",
            "Requirement already satisfied: fsspec in /usr/local/lib/python3.10/dist-packages (from huggingface-hub>=0.4.0->sentence-transformers) (2023.4.0)\n",
            "Requirement already satisfied: requests in /usr/local/lib/python3.10/dist-packages (from huggingface-hub>=0.4.0->sentence-transformers) (2.27.1)\n",
            "Requirement already satisfied: pyyaml>=5.1 in /usr/local/lib/python3.10/dist-packages (from huggingface-hub>=0.4.0->sentence-transformers) (6.0)\n",
            "Requirement already satisfied: typing-extensions>=3.7.4.3 in /usr/local/lib/python3.10/dist-packages (from huggingface-hub>=0.4.0->sentence-transformers) (4.5.0)\n",
            "Requirement already satisfied: packaging>=20.9 in /usr/local/lib/python3.10/dist-packages (from huggingface-hub>=0.4.0->sentence-transformers) (23.1)\n",
            "Requirement already satisfied: sympy in /usr/local/lib/python3.10/dist-packages (from torch>=1.6.0->sentence-transformers) (1.11.1)\n",
            "Requirement already satisfied: networkx in /usr/local/lib/python3.10/dist-packages (from torch>=1.6.0->sentence-transformers) (3.1)\n",
            "Requirement already satisfied: jinja2 in /usr/local/lib/python3.10/dist-packages (from torch>=1.6.0->sentence-transformers) (3.1.2)\n",
            "Requirement already satisfied: triton==2.0.0 in /usr/local/lib/python3.10/dist-packages (from torch>=1.6.0->sentence-transformers) (2.0.0)\n",
            "Requirement already satisfied: cmake in /usr/local/lib/python3.10/dist-packages (from triton==2.0.0->torch>=1.6.0->sentence-transformers) (3.25.2)\n",
            "Requirement already satisfied: lit in /usr/local/lib/python3.10/dist-packages (from triton==2.0.0->torch>=1.6.0->sentence-transformers) (16.0.5)\n",
            "Requirement already satisfied: regex!=2019.12.17 in /usr/local/lib/python3.10/dist-packages (from transformers<5.0.0,>=4.6.0->sentence-transformers) (2022.10.31)\n",
            "Collecting tokenizers!=0.11.3,<0.14,>=0.11.1 (from transformers<5.0.0,>=4.6.0->sentence-transformers)\n",
            "  Downloading tokenizers-0.13.3-cp310-cp310-manylinux_2_17_x86_64.manylinux2014_x86_64.whl (7.8 MB)\n",
            "\u001b[2K     \u001b[90m━━━━━━━━━━━━━━━━━━━━━━━━━━━━━━━━━━━━━━━━\u001b[0m \u001b[32m7.8/7.8 MB\u001b[0m \u001b[31m85.0 MB/s\u001b[0m eta \u001b[36m0:00:00\u001b[0m\n",
            "\u001b[?25hRequirement already satisfied: click in /usr/local/lib/python3.10/dist-packages (from nltk->sentence-transformers) (8.1.3)\n",
            "Requirement already satisfied: joblib in /usr/local/lib/python3.10/dist-packages (from nltk->sentence-transformers) (1.2.0)\n",
            "Requirement already satisfied: threadpoolctl>=2.0.0 in /usr/local/lib/python3.10/dist-packages (from scikit-learn->sentence-transformers) (3.1.0)\n",
            "Requirement already satisfied: pillow!=8.3.*,>=5.3.0 in /usr/local/lib/python3.10/dist-packages (from torchvision->sentence-transformers) (8.4.0)\n",
            "Requirement already satisfied: MarkupSafe>=2.0 in /usr/local/lib/python3.10/dist-packages (from jinja2->torch>=1.6.0->sentence-transformers) (2.1.2)\n",
            "Requirement already satisfied: urllib3<1.27,>=1.21.1 in /usr/local/lib/python3.10/dist-packages (from requests->huggingface-hub>=0.4.0->sentence-transformers) (1.26.15)\n",
            "Requirement already satisfied: certifi>=2017.4.17 in /usr/local/lib/python3.10/dist-packages (from requests->huggingface-hub>=0.4.0->sentence-transformers) (2022.12.7)\n",
            "Requirement already satisfied: charset-normalizer~=2.0.0 in /usr/local/lib/python3.10/dist-packages (from requests->huggingface-hub>=0.4.0->sentence-transformers) (2.0.12)\n",
            "Requirement already satisfied: idna<4,>=2.5 in /usr/local/lib/python3.10/dist-packages (from requests->huggingface-hub>=0.4.0->sentence-transformers) (3.4)\n",
            "Requirement already satisfied: mpmath>=0.19 in /usr/local/lib/python3.10/dist-packages (from sympy->torch>=1.6.0->sentence-transformers) (1.3.0)\n",
            "Building wheels for collected packages: sentence-transformers\n",
            "  Building wheel for sentence-transformers (setup.py) ... \u001b[?25l\u001b[?25hdone\n",
            "  Created wheel for sentence-transformers: filename=sentence_transformers-2.2.2-py3-none-any.whl size=125926 sha256=40f81e075dd0dffc2c2b14a0a6a66d6ca0de3fa80324323f8f4b727267a95ed3\n",
            "  Stored in directory: /root/.cache/pip/wheels/62/f2/10/1e606fd5f02395388f74e7462910fe851042f97238cbbd902f\n",
            "Successfully built sentence-transformers\n",
            "Installing collected packages: tokenizers, sentencepiece, huggingface-hub, transformers, sentence-transformers\n",
            "Successfully installed huggingface-hub-0.14.1 sentence-transformers-2.2.2 sentencepiece-0.1.99 tokenizers-0.13.3 transformers-4.29.2\n",
            "Looking in indexes: https://pypi.org/simple, https://us-python.pkg.dev/colab-wheels/public/simple/\n",
            "Collecting datasets\n",
            "  Downloading datasets-2.12.0-py3-none-any.whl (474 kB)\n",
            "\u001b[2K     \u001b[90m━━━━━━━━━━━━━━━━━━━━━━━━━━━━━━━━━━━━━━\u001b[0m \u001b[32m474.6/474.6 kB\u001b[0m \u001b[31m15.8 MB/s\u001b[0m eta \u001b[36m0:00:00\u001b[0m\n",
            "\u001b[?25hRequirement already satisfied: numpy>=1.17 in /usr/local/lib/python3.10/dist-packages (from datasets) (1.22.4)\n",
            "Requirement already satisfied: pyarrow>=8.0.0 in /usr/local/lib/python3.10/dist-packages (from datasets) (9.0.0)\n",
            "Collecting dill<0.3.7,>=0.3.0 (from datasets)\n",
            "  Downloading dill-0.3.6-py3-none-any.whl (110 kB)\n",
            "\u001b[2K     \u001b[90m━━━━━━━━━━━━━━━━━━━━━━━━━━━━━━━━━━━━━━\u001b[0m \u001b[32m110.5/110.5 kB\u001b[0m \u001b[31m13.4 MB/s\u001b[0m eta \u001b[36m0:00:00\u001b[0m\n",
            "\u001b[?25hRequirement already satisfied: pandas in /usr/local/lib/python3.10/dist-packages (from datasets) (1.5.3)\n",
            "Requirement already satisfied: requests>=2.19.0 in /usr/local/lib/python3.10/dist-packages (from datasets) (2.27.1)\n",
            "Requirement already satisfied: tqdm>=4.62.1 in /usr/local/lib/python3.10/dist-packages (from datasets) (4.65.0)\n",
            "Collecting xxhash (from datasets)\n",
            "  Downloading xxhash-3.2.0-cp310-cp310-manylinux_2_17_x86_64.manylinux2014_x86_64.whl (212 kB)\n",
            "\u001b[2K     \u001b[90m━━━━━━━━━━━━━━━━━━━━━━━━━━━━━━━━━━━━━━━\u001b[0m \u001b[32m212.5/212.5 kB\u001b[0m \u001b[31m2.5 MB/s\u001b[0m eta \u001b[36m0:00:00\u001b[0m\n",
            "\u001b[?25hCollecting multiprocess (from datasets)\n",
            "  Downloading multiprocess-0.70.14-py310-none-any.whl (134 kB)\n",
            "\u001b[2K     \u001b[90m━━━━━━━━━━━━━━━━━━━━━━━━━━━━━━━━━━━━━━\u001b[0m \u001b[32m134.3/134.3 kB\u001b[0m \u001b[31m12.8 MB/s\u001b[0m eta \u001b[36m0:00:00\u001b[0m\n",
            "\u001b[?25hRequirement already satisfied: fsspec[http]>=2021.11.1 in /usr/local/lib/python3.10/dist-packages (from datasets) (2023.4.0)\n",
            "Collecting aiohttp (from datasets)\n",
            "  Downloading aiohttp-3.8.4-cp310-cp310-manylinux_2_17_x86_64.manylinux2014_x86_64.whl (1.0 MB)\n",
            "\u001b[2K     \u001b[90m━━━━━━━━━━━━━━━━━━━━━━━━━━━━━━━━━━━━━━━━\u001b[0m \u001b[32m1.0/1.0 MB\u001b[0m \u001b[31m43.7 MB/s\u001b[0m eta \u001b[36m0:00:00\u001b[0m\n",
            "\u001b[?25hRequirement already satisfied: huggingface-hub<1.0.0,>=0.11.0 in /usr/local/lib/python3.10/dist-packages (from datasets) (0.14.1)\n",
            "Requirement already satisfied: packaging in /usr/local/lib/python3.10/dist-packages (from datasets) (23.1)\n",
            "Collecting responses<0.19 (from datasets)\n",
            "  Downloading responses-0.18.0-py3-none-any.whl (38 kB)\n",
            "Requirement already satisfied: pyyaml>=5.1 in /usr/local/lib/python3.10/dist-packages (from datasets) (6.0)\n",
            "Requirement already satisfied: attrs>=17.3.0 in /usr/local/lib/python3.10/dist-packages (from aiohttp->datasets) (23.1.0)\n",
            "Requirement already satisfied: charset-normalizer<4.0,>=2.0 in /usr/local/lib/python3.10/dist-packages (from aiohttp->datasets) (2.0.12)\n",
            "Collecting multidict<7.0,>=4.5 (from aiohttp->datasets)\n",
            "  Downloading multidict-6.0.4-cp310-cp310-manylinux_2_17_x86_64.manylinux2014_x86_64.whl (114 kB)\n",
            "\u001b[2K     \u001b[90m━━━━━━━━━━━━━━━━━━━━━━━━━━━━━━━━━━━━━━\u001b[0m \u001b[32m114.5/114.5 kB\u001b[0m \u001b[31m12.7 MB/s\u001b[0m eta \u001b[36m0:00:00\u001b[0m\n",
            "\u001b[?25hCollecting async-timeout<5.0,>=4.0.0a3 (from aiohttp->datasets)\n",
            "  Downloading async_timeout-4.0.2-py3-none-any.whl (5.8 kB)\n",
            "Collecting yarl<2.0,>=1.0 (from aiohttp->datasets)\n",
            "  Downloading yarl-1.9.2-cp310-cp310-manylinux_2_17_x86_64.manylinux2014_x86_64.whl (268 kB)\n",
            "\u001b[2K     \u001b[90m━━━━━━━━━━━━━━━━━━━━━━━━━━━━━━━━━━━━━━\u001b[0m \u001b[32m268.8/268.8 kB\u001b[0m \u001b[31m19.0 MB/s\u001b[0m eta \u001b[36m0:00:00\u001b[0m\n",
            "\u001b[?25hCollecting frozenlist>=1.1.1 (from aiohttp->datasets)\n",
            "  Downloading frozenlist-1.3.3-cp310-cp310-manylinux_2_5_x86_64.manylinux1_x86_64.manylinux_2_17_x86_64.manylinux2014_x86_64.whl (149 kB)\n",
            "\u001b[2K     \u001b[90m━━━━━━━━━━━━━━━━━━━━━━━━━━━━━━━━━━━━━━\u001b[0m \u001b[32m149.6/149.6 kB\u001b[0m \u001b[31m15.1 MB/s\u001b[0m eta \u001b[36m0:00:00\u001b[0m\n",
            "\u001b[?25hCollecting aiosignal>=1.1.2 (from aiohttp->datasets)\n",
            "  Downloading aiosignal-1.3.1-py3-none-any.whl (7.6 kB)\n",
            "Requirement already satisfied: filelock in /usr/local/lib/python3.10/dist-packages (from huggingface-hub<1.0.0,>=0.11.0->datasets) (3.12.0)\n",
            "Requirement already satisfied: typing-extensions>=3.7.4.3 in /usr/local/lib/python3.10/dist-packages (from huggingface-hub<1.0.0,>=0.11.0->datasets) (4.5.0)\n",
            "Requirement already satisfied: urllib3<1.27,>=1.21.1 in /usr/local/lib/python3.10/dist-packages (from requests>=2.19.0->datasets) (1.26.15)\n",
            "Requirement already satisfied: certifi>=2017.4.17 in /usr/local/lib/python3.10/dist-packages (from requests>=2.19.0->datasets) (2022.12.7)\n",
            "Requirement already satisfied: idna<4,>=2.5 in /usr/local/lib/python3.10/dist-packages (from requests>=2.19.0->datasets) (3.4)\n",
            "Requirement already satisfied: python-dateutil>=2.8.1 in /usr/local/lib/python3.10/dist-packages (from pandas->datasets) (2.8.2)\n",
            "Requirement already satisfied: pytz>=2020.1 in /usr/local/lib/python3.10/dist-packages (from pandas->datasets) (2022.7.1)\n",
            "Requirement already satisfied: six>=1.5 in /usr/local/lib/python3.10/dist-packages (from python-dateutil>=2.8.1->pandas->datasets) (1.16.0)\n",
            "Installing collected packages: xxhash, multidict, frozenlist, dill, async-timeout, yarl, responses, multiprocess, aiosignal, aiohttp, datasets\n",
            "Successfully installed aiohttp-3.8.4 aiosignal-1.3.1 async-timeout-4.0.2 datasets-2.12.0 dill-0.3.6 frozenlist-1.3.3 multidict-6.0.4 multiprocess-0.70.14 responses-0.18.0 xxhash-3.2.0 yarl-1.9.2\n",
            "Looking in indexes: https://pypi.org/simple, https://us-python.pkg.dev/colab-wheels/public/simple/\n",
            "Collecting hnswlib\n",
            "  Downloading hnswlib-0.7.0.tar.gz (33 kB)\n",
            "  Installing build dependencies ... \u001b[?25l\u001b[?25hdone\n",
            "  Getting requirements to build wheel ... \u001b[?25l\u001b[?25hdone\n",
            "  Preparing metadata (pyproject.toml) ... \u001b[?25l\u001b[?25hdone\n",
            "Requirement already satisfied: numpy in /usr/local/lib/python3.10/dist-packages (from hnswlib) (1.22.4)\n",
            "Building wheels for collected packages: hnswlib\n",
            "  Building wheel for hnswlib (pyproject.toml) ... \u001b[?25l\u001b[?25hdone\n",
            "  Created wheel for hnswlib: filename=hnswlib-0.7.0-cp310-cp310-linux_x86_64.whl size=2119843 sha256=ae0ed3194229297cb7a94e58e35317ca8633edfc9aa22c8685e203271368aa46\n",
            "  Stored in directory: /root/.cache/pip/wheels/8a/ae/ec/235a682e0041fbaeee389843670581ec6c66872db856dfa9a4\n",
            "Successfully built hnswlib\n",
            "Installing collected packages: hnswlib\n",
            "Successfully installed hnswlib-0.7.0\n"
          ]
        }
      ]
    },
    {
      "cell_type": "code",
      "source": [
        "from matplotlib import pyplot as plt\n",
        "%matplotlib inline"
      ],
      "metadata": {
        "id": "eDc-wwgmCwau"
      },
      "execution_count": 15,
      "outputs": []
    },
    {
      "cell_type": "code",
      "source": [
        "from sentence_transformers import SentenceTransformer, util\n",
        "import torch\n",
        "\n",
        "model = SentenceTransformer('all-mpnet-base-v2')"
      ],
      "metadata": {
        "id": "R792JcZOCmeo",
        "colab": {
          "base_uri": "https://localhost:8080/",
          "height": 465,
          "referenced_widgets": [
            "1548ea4b67a8439591e611edf56aa326",
            "323200d6375845ac981d453031ed0581",
            "75afdd0402594fc8a480c07b748fa1b4",
            "9b5ec44f4216460ebfb9203f76ad4c6c",
            "800b409991644df398decb16f6670feb",
            "b073d21565414df4b11dcb901d0694e3",
            "1d017d5efc00472dbf6b97cdada25d23",
            "130b48b7efe741359ae1d26ab5ce078a",
            "0942d776150d4896a4b8eed54decefb9",
            "d690016e91a249bb9f857f76b4ff443f",
            "2ffac350b53544ae8c7746752e033817",
            "f08c53f123184ef2b48b8d1ccaa7c938",
            "53ae3f0d98b24d34a89d27ecca9d94c9",
            "e5a7c8699ad04eecb0207312876eaf6f",
            "ae9b7aac75dd429ebb25c62105b29a59",
            "3ea370841e1a406797ff260c63353526",
            "dc822f7ec17246d1891277c6bb8dce7e",
            "883ed3a664924244a1e01d6e4bde0499",
            "8600494987fa4bc594ab1f18d54462cc",
            "d26e626d6282492589a8cf9bcd78f3ae",
            "beefc5b779744a658bee58b278a175d5",
            "1ba82bc4d3fe44f6a7ff71b61501b29d",
            "d41bed790080402fae8333600a621580",
            "c5d3307ba97f41f3a3c0348d40b41c8d",
            "d75fb7bcc2a74fd88409e244df2b2660",
            "41ef3efdb2dc4d2ab97326837fa35e0e",
            "11f0450a414c4db9a8b935588f11f43d",
            "e1e2b19d2b154b0b857043268c732268",
            "fc7c25c1e2e9426ba31c95b39294924b",
            "3cb1e566d51f4d57870b8843a6dc0112",
            "9476f08817d2415baff3f2a7a0b91ce4",
            "d1ac2f88bc304d31825d80e7e9dd601e",
            "c617edf902d9497787f704f2e9743e6e",
            "6d41ec3fbdf046dda97e06473c6fe7ac",
            "0981fdc48ce4493383b1308ad7377f86",
            "ce4974e2c94c4ec9b5c05cda682f9734",
            "dd195aaf5a0342d29aa9e63ba8274cea",
            "e58d02dae4bf4feb85de9faf61707590",
            "24d0ddcfb8af40439ed9236e26787f27",
            "2c92b5f883574117ab6596d204a0965b",
            "6a61b861dd75476c9aaeeaf71c11267c",
            "9455c30e1ff640fcbf0f26666e87343d",
            "2b897a5167f44af081b7c468333a6140",
            "a93b5d891cf34e78ac297489507f8573",
            "1bd16f670d6448ab85e1479d6549d261",
            "055dda488087429585d57bcf321401a2",
            "bdddebfdbe5b4b8c8c69d18730ec1b4e",
            "d65e9981c9ae4ac887d37cebbed72f1d",
            "5a4a1724d7ae4ae58638f370f9ff4a34",
            "e5227e7ec6914f61a1318fc7b91ae3df",
            "41b0383e36784cef97be0f92bbe50dc0",
            "f7c9ab012f364575928150033bffb833",
            "798925950b024d3185aac2f7c8e87d12",
            "a5869f43920a437f9bd6f248142606a3",
            "1d25d3928230436ea2cdcfe8a9832276",
            "f205d01eace7482fb4f4caa16dd8db6a",
            "d5ad5d995f474d7bb6be87131a3331eb",
            "5f88a0a37cee4e6ba7c651645485d0d3",
            "f1954c9b52234285a14afcbb81a9853c",
            "44039d8600db4a949e9ab947a28060f2",
            "5bebc6dbf9a846438f755bab8402023c",
            "c6fcdbaaf1e248d4a8230b0593a14e15",
            "8f62e08417e54a3aaf126abf541eea14",
            "4777cd1c4769497e96bf61e81004aeaf",
            "90ed63f369b44d7ba8ce18cf60d83859",
            "54b608600b734ec4b3d1f754be1528d7",
            "3090829d1d804ecc92e493ad511416f9",
            "443af92d605745baa7b1a27388d793df",
            "2227af2169654008813b83c2ed38ee19",
            "0817c14805c74f5080fdaa6e452c42e5",
            "4051c49d745e4b829f7f7592c6409ca5",
            "3a9fa463eb3643d58bac107d226d0457",
            "e423ab4eafcd4fada27313a355a3194e",
            "fcc7d2c2163b483da41a9dc3996b7d47",
            "63ab38b2e5934f6ea2a1acc09787a53e",
            "297122e2cf4f4b899855bc31d52a7ca7",
            "392543a2850c45cfb8465c4e88f21724",
            "4eed27afdb4c414d9b13791ca8f774ab",
            "205d06603fc94f4db7f1f64649fc37dc",
            "b8edbc61b78c4a538e1808a230e58b5d",
            "c745bcd1ca584a6b899e8e0c5655f085",
            "59fac28d3c884fe2b83d1bd493e11867",
            "8853991a991048f3939349f0c1680da8",
            "288e211fca0e49258a8cc27efd5a6415",
            "845d83c6331b4144a50840da3579aa67",
            "85c48955a546499d80939cb60a749ed9",
            "ce4d89e97eb7492ea4c81e2a8f27fe90",
            "cd935cd83adb402e912cfeff69a0f0e4",
            "2342aa41038f4b838e5340876c96a63b",
            "f6c6d09cb9f54bf481b627bde3db0034",
            "d11c34c5de044c35bbe8d4918df55f18",
            "86e03c2202304e36869149d0aa15af40",
            "33124a827d0148669b3c86683fd3278e",
            "f3fdf7aef1f24029afcf3eda8063aebe",
            "7b7864d9f4b444d8844034c624fdd3bc",
            "2e59b4a2fde645b189b83e2153198216",
            "c2b8b48c36f8467e96c0e983dfccc351",
            "c7f0d3ec14534d409946775e2454b2aa",
            "5af93001acba4435acc6bce3fad273af",
            "9cda80fd09ee45e1bf62cb09410787d8",
            "5adc0f76b6324425ae116143fb3bbcb1",
            "7c8724f0bfe84c3a88f0827668e0b4a4",
            "cbd2ee5a043746c4ab8d655aa86197b0",
            "fbd489d7a35a459e838b90fd17d6b6f2",
            "38731f15b2ce4845ac9cf9104c0c64fd",
            "22c890c0562f4998b30a6502b62834ac",
            "fc5545af34e5450cb6cd45d9ffb26d35",
            "c858213b88bd4902917c5399cd074c6a",
            "da36fbe2d0cf477e8698165877daba48",
            "fbb5b7cc2eea4a738a5dc045d50305c2",
            "8956c7354e3e467d89a07ef1204f05ad",
            "4b367d05362448b398dacca79869b7e0",
            "6f6253e8410642d7b50aa372061dc54a",
            "59e375ce426f43d0bf40cd4f94c7ad52",
            "a4d5160f9b2d42b1a01ad95d247b9aa6",
            "67327141a24645b79d07253b728a7dbf",
            "4e5b1a13105f46a4adcd3d2a697f28ce",
            "ff3e974ea1d1449ebf67c05fc2505bd8",
            "51d3a987d51f418697ef308ce610a9f0",
            "44c38fb4f6ae40c0aa6f6599820b8bb6",
            "05eba922f67143ca9e2705e3ba8a33a4",
            "c8aa7031bb014679b82ca29fc2c3871a",
            "4e9185e4f4b04be988b899f61c1020f3",
            "78981802b817403b9ec75e3c2e5b1502",
            "63d4bf09f97844a7b1e9de117e7bcf81",
            "5651339bcea642d0bb78fe8b99ae3497",
            "cd06b7412e6541539fa805d2ed3135ac",
            "d76d1db4332d4445a168cc2d97d52521",
            "c8cf78cb7cae4a5aa8f4890f69ccb949",
            "22da1c19bff94abca03d945da44c281c",
            "f3e4aed3eceb47959b89298307eb7289",
            "480d9f2adabb464b96060b1d7884ac88",
            "8ae2999d39894aec98db9e64e4d5ad7f",
            "4c3d0c792a204b84b8e1936edbcaf3d5",
            "a50f4e63b9fb47d2a476c946fa5099f0",
            "8c6dcaddec8a4ae6bb7c2d0e5bd95299",
            "48244d5891c5456f9b2c8dbddce9e332",
            "38158c6ea0f1448887a3a1832f86f91e",
            "5dc910a000aa4dcf96f55e644ce26cb3",
            "569d1779736d484b8bf9657c71ca4442",
            "348f3a4414cb4052aff74baefc8faf9c",
            "88854d67e4914f528d2d0cce95b9e6f0",
            "097d524f19eb4f97aa993e5e38a37888",
            "668ce9073a6c4042b3c9f07662a44aa6",
            "96b52294d40d4bcf9ac71bc261737ee2",
            "7057589d87ee4adb85fbcf1226df7c77",
            "b329de4952f44d5a8035feab231d0895",
            "604d15cc3306410a9158a289cc587c5a",
            "4e3ef839fb224f7ab6e357554cf7dd38",
            "92d5392f857c4f8db45d868ca7e17018",
            "616557d826f24639ae9b5379610e788a",
            "a31dc14f4f234bc3bb454521281ae3fe",
            "8dfef9a12bf2416c8b0d106f76fcbaf6",
            "81e085215d9a41d5af0705e59f6dec56"
          ]
        },
        "outputId": "7f53c0d3-28c4-4937-d770-45ae5d84d20c"
      },
      "execution_count": 16,
      "outputs": [
        {
          "output_type": "display_data",
          "data": {
            "text/plain": [
              "Downloading (…)a8e1d/.gitattributes:   0%|          | 0.00/1.18k [00:00<?, ?B/s]"
            ],
            "application/vnd.jupyter.widget-view+json": {
              "version_major": 2,
              "version_minor": 0,
              "model_id": "1548ea4b67a8439591e611edf56aa326"
            }
          },
          "metadata": {}
        },
        {
          "output_type": "display_data",
          "data": {
            "text/plain": [
              "Downloading (…)_Pooling/config.json:   0%|          | 0.00/190 [00:00<?, ?B/s]"
            ],
            "application/vnd.jupyter.widget-view+json": {
              "version_major": 2,
              "version_minor": 0,
              "model_id": "f08c53f123184ef2b48b8d1ccaa7c938"
            }
          },
          "metadata": {}
        },
        {
          "output_type": "display_data",
          "data": {
            "text/plain": [
              "Downloading (…)b20bca8e1d/README.md:   0%|          | 0.00/10.6k [00:00<?, ?B/s]"
            ],
            "application/vnd.jupyter.widget-view+json": {
              "version_major": 2,
              "version_minor": 0,
              "model_id": "d41bed790080402fae8333600a621580"
            }
          },
          "metadata": {}
        },
        {
          "output_type": "display_data",
          "data": {
            "text/plain": [
              "Downloading (…)0bca8e1d/config.json:   0%|          | 0.00/571 [00:00<?, ?B/s]"
            ],
            "application/vnd.jupyter.widget-view+json": {
              "version_major": 2,
              "version_minor": 0,
              "model_id": "6d41ec3fbdf046dda97e06473c6fe7ac"
            }
          },
          "metadata": {}
        },
        {
          "output_type": "display_data",
          "data": {
            "text/plain": [
              "Downloading (…)ce_transformers.json:   0%|          | 0.00/116 [00:00<?, ?B/s]"
            ],
            "application/vnd.jupyter.widget-view+json": {
              "version_major": 2,
              "version_minor": 0,
              "model_id": "1bd16f670d6448ab85e1479d6549d261"
            }
          },
          "metadata": {}
        },
        {
          "output_type": "display_data",
          "data": {
            "text/plain": [
              "Downloading (…)e1d/data_config.json:   0%|          | 0.00/39.3k [00:00<?, ?B/s]"
            ],
            "application/vnd.jupyter.widget-view+json": {
              "version_major": 2,
              "version_minor": 0,
              "model_id": "f205d01eace7482fb4f4caa16dd8db6a"
            }
          },
          "metadata": {}
        },
        {
          "output_type": "display_data",
          "data": {
            "text/plain": [
              "Downloading pytorch_model.bin:   0%|          | 0.00/438M [00:00<?, ?B/s]"
            ],
            "application/vnd.jupyter.widget-view+json": {
              "version_major": 2,
              "version_minor": 0,
              "model_id": "3090829d1d804ecc92e493ad511416f9"
            }
          },
          "metadata": {}
        },
        {
          "output_type": "display_data",
          "data": {
            "text/plain": [
              "Downloading (…)nce_bert_config.json:   0%|          | 0.00/53.0 [00:00<?, ?B/s]"
            ],
            "application/vnd.jupyter.widget-view+json": {
              "version_major": 2,
              "version_minor": 0,
              "model_id": "4eed27afdb4c414d9b13791ca8f774ab"
            }
          },
          "metadata": {}
        },
        {
          "output_type": "display_data",
          "data": {
            "text/plain": [
              "Downloading (…)cial_tokens_map.json:   0%|          | 0.00/239 [00:00<?, ?B/s]"
            ],
            "application/vnd.jupyter.widget-view+json": {
              "version_major": 2,
              "version_minor": 0,
              "model_id": "2342aa41038f4b838e5340876c96a63b"
            }
          },
          "metadata": {}
        },
        {
          "output_type": "display_data",
          "data": {
            "text/plain": [
              "Downloading (…)a8e1d/tokenizer.json:   0%|          | 0.00/466k [00:00<?, ?B/s]"
            ],
            "application/vnd.jupyter.widget-view+json": {
              "version_major": 2,
              "version_minor": 0,
              "model_id": "9cda80fd09ee45e1bf62cb09410787d8"
            }
          },
          "metadata": {}
        },
        {
          "output_type": "display_data",
          "data": {
            "text/plain": [
              "Downloading (…)okenizer_config.json:   0%|          | 0.00/363 [00:00<?, ?B/s]"
            ],
            "application/vnd.jupyter.widget-view+json": {
              "version_major": 2,
              "version_minor": 0,
              "model_id": "8956c7354e3e467d89a07ef1204f05ad"
            }
          },
          "metadata": {}
        },
        {
          "output_type": "display_data",
          "data": {
            "text/plain": [
              "Downloading (…)8e1d/train_script.py:   0%|          | 0.00/13.1k [00:00<?, ?B/s]"
            ],
            "application/vnd.jupyter.widget-view+json": {
              "version_major": 2,
              "version_minor": 0,
              "model_id": "c8aa7031bb014679b82ca29fc2c3871a"
            }
          },
          "metadata": {}
        },
        {
          "output_type": "display_data",
          "data": {
            "text/plain": [
              "Downloading (…)b20bca8e1d/vocab.txt:   0%|          | 0.00/232k [00:00<?, ?B/s]"
            ],
            "application/vnd.jupyter.widget-view+json": {
              "version_major": 2,
              "version_minor": 0,
              "model_id": "8ae2999d39894aec98db9e64e4d5ad7f"
            }
          },
          "metadata": {}
        },
        {
          "output_type": "display_data",
          "data": {
            "text/plain": [
              "Downloading (…)bca8e1d/modules.json:   0%|          | 0.00/349 [00:00<?, ?B/s]"
            ],
            "application/vnd.jupyter.widget-view+json": {
              "version_major": 2,
              "version_minor": 0,
              "model_id": "668ce9073a6c4042b3c9f07662a44aa6"
            }
          },
          "metadata": {}
        }
      ]
    },
    {
      "cell_type": "code",
      "source": [
        "#df_train.head()\n",
        "\n",
        "corpus_train1= np.array(df_train['sentence1'] + ' ' + df_train['sentence2'])\n",
        "\n",
        "corpus_dev1 = np.array(df_dev['sentence1'] + ' ' + df_dev['sentence2'])\n",
        "\n",
        "corpus_test1= np.array(df_test['sentence1'] + ' ' + df_test['sentence2'])\n",
        "len(corpus_train1)\n"
      ],
      "metadata": {
        "id": "GAmqJG26E_Y2",
        "colab": {
          "base_uri": "https://localhost:8080/"
        },
        "outputId": "a11cb675-3088-4a1f-a438-d51427465235"
      },
      "execution_count": 17,
      "outputs": [
        {
          "output_type": "execute_result",
          "data": {
            "text/plain": [
              "5749"
            ]
          },
          "metadata": {},
          "execution_count": 17
        }
      ]
    },
    {
      "cell_type": "code",
      "source": [
        "corpus_embeddings_train1 = model.encode(corpus_train1, convert_to_tensor=True) #each sentence into a single vector\n",
        "#corpus_embeddings_train2 = model.encode(corpus_train2, convert_to_tensor=True)\n",
        "\n",
        "corpus_embeddings_dev1 = model.encode(corpus_dev1, convert_to_tensor=True) \n",
        "#corpus_embeddings_dev2 = model.encode(corpus_dev2, convert_to_tensor=True) #each sentence into a single vector\n",
        "\n",
        "corpus_embeddings_test1 = model.encode(corpus_test1, convert_to_tensor=True) \n",
        "#corpus_embeddings_test2 = model.encode(corpus_test2, convert_to_tensor=True) #each sentence into a single vector\n",
        "corpus_embeddings_test1.size()"
      ],
      "metadata": {
        "colab": {
          "base_uri": "https://localhost:8080/"
        },
        "id": "RgI63joOCiUc",
        "outputId": "e64df4db-6091-4154-b279-f546d7856b90"
      },
      "execution_count": 18,
      "outputs": [
        {
          "output_type": "execute_result",
          "data": {
            "text/plain": [
              "torch.Size([1379, 768])"
            ]
          },
          "metadata": {},
          "execution_count": 18
        }
      ]
    },
    {
      "cell_type": "code",
      "source": [
        "print(corpus_embeddings_train1.size())\n",
        "#print(corpus_embeddings_train2.size())\n"
      ],
      "metadata": {
        "colab": {
          "base_uri": "https://localhost:8080/"
        },
        "id": "FHWEJE-Xjqxv",
        "outputId": "1bb51097-2a51-4b54-eec2-b99ee130a7ba"
      },
      "execution_count": 19,
      "outputs": [
        {
          "output_type": "stream",
          "name": "stdout",
          "text": [
            "torch.Size([5749, 768])\n"
          ]
        }
      ]
    },
    {
      "cell_type": "code",
      "source": [
        "X_train=corpus_embeddings_train1\n",
        "X_train.size()"
      ],
      "metadata": {
        "colab": {
          "base_uri": "https://localhost:8080/"
        },
        "id": "jJmALFX6ROT6",
        "outputId": "44a87e40-3a71-4a44-e800-8a4d50140eed"
      },
      "execution_count": 20,
      "outputs": [
        {
          "output_type": "execute_result",
          "data": {
            "text/plain": [
              "torch.Size([5749, 768])"
            ]
          },
          "metadata": {},
          "execution_count": 20
        }
      ]
    },
    {
      "cell_type": "code",
      "source": [
        "x_dev=corpus_embeddings_dev1\n",
        "\n",
        "X_train = torch.cat([X_train, x_dev])\n",
        "X_train.size()"
      ],
      "metadata": {
        "id": "dLLP1hcaTIaz",
        "colab": {
          "base_uri": "https://localhost:8080/"
        },
        "outputId": "17fadfc6-822b-4d95-aebe-96d06a9bb8ad"
      },
      "execution_count": 21,
      "outputs": [
        {
          "output_type": "execute_result",
          "data": {
            "text/plain": [
              "torch.Size([7249, 768])"
            ]
          },
          "metadata": {},
          "execution_count": 21
        }
      ]
    },
    {
      "cell_type": "code",
      "source": [
        "x_test=corpus_embeddings_test1"
      ],
      "metadata": {
        "id": "4Z_rR4gSTIxa"
      },
      "execution_count": 22,
      "outputs": []
    },
    {
      "cell_type": "code",
      "source": [
        "'''from sklearn.manifold import TSNE\n",
        "\n",
        "tsne_train = TSNE(n_components=3, n_iter=500, n_jobs=-1, verbose=2)\n",
        "tsne_embedding_train = tsne_train.fit_transform(corpus_embeddings_train)\n",
        "x, y, z = np.transpose(tsne_embedding_train)\n",
        "x1, y1, z1 = np.transpose(tsne_embedding_train[:len(df_train)])\n",
        "x2, y2, z2 = np.transpose(tsne_embedding_train[len(df_train):])\n",
        "\n",
        "tsne_test = TSNE(n_components=3, n_iter=500, n_jobs=-1, verbose=2)\n",
        "tsne_embedding_test = tsne_test.fit_transform(corpus_embeddings_test)\n",
        "x, y, z = np.transpose(tsne_embedding_test)\n",
        "x1_test, y1_test, z1_test = np.transpose(tsne_embedding_test[:len(df_test)])\n",
        "x2_test, y2_test, z2_test = np.transpose(tsne_embedding_test[len(df_test):])'''"
      ],
      "metadata": {
        "colab": {
          "base_uri": "https://localhost:8080/",
          "height": 105
        },
        "id": "QCrq5tFiCiLF",
        "outputId": "71f940ea-1846-4155-fc5c-30eabd033f10"
      },
      "execution_count": 23,
      "outputs": [
        {
          "output_type": "execute_result",
          "data": {
            "text/plain": [
              "'from sklearn.manifold import TSNE\\n\\ntsne_train = TSNE(n_components=3, n_iter=500, n_jobs=-1, verbose=2)\\ntsne_embedding_train = tsne_train.fit_transform(corpus_embeddings_train)\\nx, y, z = np.transpose(tsne_embedding_train)\\nx1, y1, z1 = np.transpose(tsne_embedding_train[:len(df_train)])\\nx2, y2, z2 = np.transpose(tsne_embedding_train[len(df_train):])\\n\\ntsne_test = TSNE(n_components=3, n_iter=500, n_jobs=-1, verbose=2)\\ntsne_embedding_test = tsne_test.fit_transform(corpus_embeddings_test)\\nx, y, z = np.transpose(tsne_embedding_test)\\nx1_test, y1_test, z1_test = np.transpose(tsne_embedding_test[:len(df_test)])\\nx2_test, y2_test, z2_test = np.transpose(tsne_embedding_test[len(df_test):])'"
            ],
            "application/vnd.google.colaboratory.intrinsic+json": {
              "type": "string"
            }
          },
          "metadata": {},
          "execution_count": 23
        }
      ]
    },
    {
      "cell_type": "code",
      "source": [
        "'''#Mean Average of distances\n",
        "X_train= pd.DataFrame(columns=['datax','datay','dataz'])\n",
        "for i in range(0,len(df_train)):\n",
        "  dist_x=np.sqrt(abs(x1[i]*x1[i] - x2[i]*x2[i]))\n",
        "  dist_y=np.sqrt(abs(y1[i]*y1[i] - y2[i]*y2[i]))\n",
        "  dist_z=np.sqrt(abs(z1[i]*z1[i] - z2[i]*z2[i]))\n",
        "  #coord_avg=np.mean([dist_x,dist_y,dist_z])\n",
        "  new_row={'datax': dist_x, 'datay': dist_y, 'dataz': dist_z}\n",
        "  X_train.loc[len(X_train)]=new_row\n",
        "\n",
        "X_test=pd.DataFrame(columns=['datax','datay','dataz'])\n",
        "for i in range(0,len(df_test)):\n",
        "  dist_x=np.sqrt(abs(x1_test[i]*x1_test[i] - x2_test[i]*x2_test[i]))\n",
        "  dist_y=np.sqrt(abs(y1_test[i]*y1_test[i] - y2_test[i]*y2_test[i]))\n",
        "  dist_z=np.sqrt(abs(z1_test[i]*z1_test[i] - z2_test[i]*z2_test[i]))\n",
        "  #coord_avg=np.mean([dist_x,dist_y,dist_z])\n",
        "  new_row={'datax': dist_x, 'datay': dist_y, 'dataz': dist_z}\n",
        "  X_test.loc[len(X_test)]=new_row\n",
        "\n",
        "print(X_train.head(15),X_test.head(15))'''"
      ],
      "metadata": {
        "colab": {
          "base_uri": "https://localhost:8080/",
          "height": 122
        },
        "id": "_UyS_7fwCiCC",
        "outputId": "16300122-99b0-4fd1-c035-4b27e1ea144c"
      },
      "execution_count": 24,
      "outputs": [
        {
          "output_type": "execute_result",
          "data": {
            "text/plain": [
              "\"#Mean Average of distances\\nX_train= pd.DataFrame(columns=['datax','datay','dataz'])\\nfor i in range(0,len(df_train)):\\n  dist_x=np.sqrt(abs(x1[i]*x1[i] - x2[i]*x2[i]))\\n  dist_y=np.sqrt(abs(y1[i]*y1[i] - y2[i]*y2[i]))\\n  dist_z=np.sqrt(abs(z1[i]*z1[i] - z2[i]*z2[i]))\\n  #coord_avg=np.mean([dist_x,dist_y,dist_z])\\n  new_row={'datax': dist_x, 'datay': dist_y, 'dataz': dist_z}\\n  X_train.loc[len(X_train)]=new_row\\n\\nX_test=pd.DataFrame(columns=['datax','datay','dataz'])\\nfor i in range(0,len(df_test)):\\n  dist_x=np.sqrt(abs(x1_test[i]*x1_test[i] - x2_test[i]*x2_test[i]))\\n  dist_y=np.sqrt(abs(y1_test[i]*y1_test[i] - y2_test[i]*y2_test[i]))\\n  dist_z=np.sqrt(abs(z1_test[i]*z1_test[i] - z2_test[i]*z2_test[i]))\\n  #coord_avg=np.mean([dist_x,dist_y,dist_z])\\n  new_row={'datax': dist_x, 'datay': dist_y, 'dataz': dist_z}\\n  X_test.loc[len(X_test)]=new_row\\n\\nprint(X_train.head(15),X_test.head(15))\""
            ],
            "application/vnd.google.colaboratory.intrinsic+json": {
              "type": "string"
            }
          },
          "metadata": {},
          "execution_count": 24
        }
      ]
    },
    {
      "cell_type": "code",
      "source": [
        "#y_train = df_train['score']\n",
        "y_train = pd.concat([df_train['score'],df_dev['score']]).reset_index(drop=True)"
      ],
      "metadata": {
        "id": "BeDa6F4uFTLk"
      },
      "execution_count": 25,
      "outputs": []
    },
    {
      "cell_type": "code",
      "source": [
        "y_dev = df_dev['score']"
      ],
      "metadata": {
        "id": "9KDocpmP2S6j"
      },
      "execution_count": 26,
      "outputs": []
    },
    {
      "cell_type": "code",
      "source": [
        "y_test = df_test['score']\n",
        "\n",
        "len(y_train)"
      ],
      "metadata": {
        "id": "T4JMAgNeFTZr",
        "colab": {
          "base_uri": "https://localhost:8080/"
        },
        "outputId": "2d5eede2-a82d-42f5-ac45-c625bf9e51f8"
      },
      "execution_count": 27,
      "outputs": [
        {
          "output_type": "execute_result",
          "data": {
            "text/plain": [
              "7249"
            ]
          },
          "metadata": {},
          "execution_count": 27
        }
      ]
    },
    {
      "cell_type": "markdown",
      "source": [
        "**Training Data**"
      ],
      "metadata": {
        "id": "462OJwRKHmkd"
      }
    },
    {
      "cell_type": "code",
      "source": [
        "from sklearn.linear_model import LinearRegression\n",
        "\n",
        "model = LinearRegression()\n",
        "\n",
        "model.fit(X_train, y_train)"
      ],
      "metadata": {
        "colab": {
          "base_uri": "https://localhost:8080/",
          "height": 75
        },
        "id": "FY_j7Yw48Tzs",
        "outputId": "d8506578-e4ca-4cf4-8045-083a634cd94f"
      },
      "execution_count": 28,
      "outputs": [
        {
          "output_type": "execute_result",
          "data": {
            "text/plain": [
              "LinearRegression()"
            ],
            "text/html": [
              "<style>#sk-container-id-1 {color: black;background-color: white;}#sk-container-id-1 pre{padding: 0;}#sk-container-id-1 div.sk-toggleable {background-color: white;}#sk-container-id-1 label.sk-toggleable__label {cursor: pointer;display: block;width: 100%;margin-bottom: 0;padding: 0.3em;box-sizing: border-box;text-align: center;}#sk-container-id-1 label.sk-toggleable__label-arrow:before {content: \"▸\";float: left;margin-right: 0.25em;color: #696969;}#sk-container-id-1 label.sk-toggleable__label-arrow:hover:before {color: black;}#sk-container-id-1 div.sk-estimator:hover label.sk-toggleable__label-arrow:before {color: black;}#sk-container-id-1 div.sk-toggleable__content {max-height: 0;max-width: 0;overflow: hidden;text-align: left;background-color: #f0f8ff;}#sk-container-id-1 div.sk-toggleable__content pre {margin: 0.2em;color: black;border-radius: 0.25em;background-color: #f0f8ff;}#sk-container-id-1 input.sk-toggleable__control:checked~div.sk-toggleable__content {max-height: 200px;max-width: 100%;overflow: auto;}#sk-container-id-1 input.sk-toggleable__control:checked~label.sk-toggleable__label-arrow:before {content: \"▾\";}#sk-container-id-1 div.sk-estimator input.sk-toggleable__control:checked~label.sk-toggleable__label {background-color: #d4ebff;}#sk-container-id-1 div.sk-label input.sk-toggleable__control:checked~label.sk-toggleable__label {background-color: #d4ebff;}#sk-container-id-1 input.sk-hidden--visually {border: 0;clip: rect(1px 1px 1px 1px);clip: rect(1px, 1px, 1px, 1px);height: 1px;margin: -1px;overflow: hidden;padding: 0;position: absolute;width: 1px;}#sk-container-id-1 div.sk-estimator {font-family: monospace;background-color: #f0f8ff;border: 1px dotted black;border-radius: 0.25em;box-sizing: border-box;margin-bottom: 0.5em;}#sk-container-id-1 div.sk-estimator:hover {background-color: #d4ebff;}#sk-container-id-1 div.sk-parallel-item::after {content: \"\";width: 100%;border-bottom: 1px solid gray;flex-grow: 1;}#sk-container-id-1 div.sk-label:hover label.sk-toggleable__label {background-color: #d4ebff;}#sk-container-id-1 div.sk-serial::before {content: \"\";position: absolute;border-left: 1px solid gray;box-sizing: border-box;top: 0;bottom: 0;left: 50%;z-index: 0;}#sk-container-id-1 div.sk-serial {display: flex;flex-direction: column;align-items: center;background-color: white;padding-right: 0.2em;padding-left: 0.2em;position: relative;}#sk-container-id-1 div.sk-item {position: relative;z-index: 1;}#sk-container-id-1 div.sk-parallel {display: flex;align-items: stretch;justify-content: center;background-color: white;position: relative;}#sk-container-id-1 div.sk-item::before, #sk-container-id-1 div.sk-parallel-item::before {content: \"\";position: absolute;border-left: 1px solid gray;box-sizing: border-box;top: 0;bottom: 0;left: 50%;z-index: -1;}#sk-container-id-1 div.sk-parallel-item {display: flex;flex-direction: column;z-index: 1;position: relative;background-color: white;}#sk-container-id-1 div.sk-parallel-item:first-child::after {align-self: flex-end;width: 50%;}#sk-container-id-1 div.sk-parallel-item:last-child::after {align-self: flex-start;width: 50%;}#sk-container-id-1 div.sk-parallel-item:only-child::after {width: 0;}#sk-container-id-1 div.sk-dashed-wrapped {border: 1px dashed gray;margin: 0 0.4em 0.5em 0.4em;box-sizing: border-box;padding-bottom: 0.4em;background-color: white;}#sk-container-id-1 div.sk-label label {font-family: monospace;font-weight: bold;display: inline-block;line-height: 1.2em;}#sk-container-id-1 div.sk-label-container {text-align: center;}#sk-container-id-1 div.sk-container {/* jupyter's `normalize.less` sets `[hidden] { display: none; }` but bootstrap.min.css set `[hidden] { display: none !important; }` so we also need the `!important` here to be able to override the default hidden behavior on the sphinx rendered scikit-learn.org. See: https://github.com/scikit-learn/scikit-learn/issues/21755 */display: inline-block !important;position: relative;}#sk-container-id-1 div.sk-text-repr-fallback {display: none;}</style><div id=\"sk-container-id-1\" class=\"sk-top-container\"><div class=\"sk-text-repr-fallback\"><pre>LinearRegression()</pre><b>In a Jupyter environment, please rerun this cell to show the HTML representation or trust the notebook. <br />On GitHub, the HTML representation is unable to render, please try loading this page with nbviewer.org.</b></div><div class=\"sk-container\" hidden><div class=\"sk-item\"><div class=\"sk-estimator sk-toggleable\"><input class=\"sk-toggleable__control sk-hidden--visually\" id=\"sk-estimator-id-1\" type=\"checkbox\" checked><label for=\"sk-estimator-id-1\" class=\"sk-toggleable__label sk-toggleable__label-arrow\">LinearRegression</label><div class=\"sk-toggleable__content\"><pre>LinearRegression()</pre></div></div></div></div></div>"
            ]
          },
          "metadata": {},
          "execution_count": 28
        }
      ]
    },
    {
      "cell_type": "code",
      "source": [
        "y_pred = model.predict(x_test)"
      ],
      "metadata": {
        "id": "rGNPgW68JYLr"
      },
      "execution_count": 29,
      "outputs": []
    },
    {
      "cell_type": "code",
      "source": [
        "#print(\"MAE train: \", metrics.mean_absolute_error(y_train, model.predict(x_test))) \n",
        "print(\"MSE train: \",metrics.mean_squared_error(y_train, model.predict(X_train)))\n",
        "print(\"RMSE train: \",np.sqrt(metrics.mean_squared_error(y_train, model.predict(X_train))))\n",
        "print(\"r2: \",metrics.r2_score(y_train, model.predict(X_train)))\n",
        "\n",
        "#print(\"MAE test: \", metrics.mean_absolute_error(y_test, model.predict(x_test))) \n",
        "print(\"MSE test: \",metrics.mean_squared_error(y_test, model.predict(x_test)))\n",
        "print(\"RMSE test: \",np.sqrt(metrics.mean_squared_error(y_test, model.predict(x_test))))\n",
        "print(\"r2: \", metrics.r2_score(y_test, model.predict(x_test)))"
      ],
      "metadata": {
        "colab": {
          "base_uri": "https://localhost:8080/"
        },
        "id": "57KjX0tfJGYn",
        "outputId": "a0c1e699-c645-4442-8bbe-790e91965208"
      },
      "execution_count": 30,
      "outputs": [
        {
          "output_type": "stream",
          "name": "stdout",
          "text": [
            "MSE train:  0.033194080536707575\n",
            "RMSE train:  0.18219242722107737\n",
            "r2:  0.6201430122203674\n",
            "MSE test:  0.05207648603516488\n",
            "RMSE test:  0.22820273012206688\n",
            "r2:  0.44016193775633594\n"
          ]
        }
      ]
    },
    {
      "cell_type": "code",
      "source": [
        "import plotly.graph_objects as go\n",
        "from plotly.subplots import make_subplots\n",
        "\n",
        "# Create figure with secondary y-axis\n",
        "fig = make_subplots(specs=[[{\"secondary_y\": True}]])\n",
        "x_ax=np.array(range(0,len(y_test)))\n",
        "# Add traces\n",
        "fig.add_trace(\n",
        "    go.Scatter(x=x_ax, y=y_test, name=\"True\"),\n",
        "    secondary_y=True,\n",
        ")\n",
        "\n",
        "fig.add_trace(\n",
        "    go.Scatter(x=x_ax, y=y_pred, name=\"Predicition\"),\n",
        "    secondary_y=True,\n",
        ")\n",
        "\n",
        "# Add figure title\n",
        "fig.update_layout(\n",
        "    title_text=\"Results\"\n",
        ")\n",
        "\n",
        "# Set x-axis title\n",
        "fig.update_xaxes(title_text=\"Couple of sentences\")\n",
        "\n",
        "# Set y-axes titles\n",
        "fig.update_yaxes(title_text=\"True\", secondary_y=True)\n",
        "fig.update_yaxes(title_text=\"Prediction\", secondary_y=True)\n",
        "\n",
        "fig.show()"
      ],
      "metadata": {
        "colab": {
          "base_uri": "https://localhost:8080/",
          "height": 542
        },
        "id": "J2XXtn572Wee",
        "outputId": "60accbfd-63d5-4036-94f8-bf75c32bc4c2"
      },
      "execution_count": 31,
      "outputs": [
        {
          "output_type": "display_data",
          "data": {
            "text/html": [
              "<html>\n",
              "<head><meta charset=\"utf-8\" /></head>\n",
              "<body>\n",
              "    <div>            <script src=\"https://cdnjs.cloudflare.com/ajax/libs/mathjax/2.7.5/MathJax.js?config=TeX-AMS-MML_SVG\"></script><script type=\"text/javascript\">if (window.MathJax && window.MathJax.Hub && window.MathJax.Hub.Config) {window.MathJax.Hub.Config({SVG: {font: \"STIX-Web\"}});}</script>                <script type=\"text/javascript\">window.PlotlyConfig = {MathJaxConfig: 'local'};</script>\n",
              "        <script src=\"https://cdn.plot.ly/plotly-2.18.2.min.js\"></script>                <div id=\"55e6f0b8-f343-4b56-b34b-8f1a68fcb751\" class=\"plotly-graph-div\" style=\"height:525px; width:100%;\"></div>            <script type=\"text/javascript\">                                    window.PLOTLYENV=window.PLOTLYENV || {};                                    if (document.getElementById(\"55e6f0b8-f343-4b56-b34b-8f1a68fcb751\")) {                    Plotly.newPlot(                        \"55e6f0b8-f343-4b56-b34b-8f1a68fcb751\",                        [{\"name\":\"True\",\"x\":[0,1,2,3,4,5,6,7,8,9,10,11,12,13,14,15,16,17,18,19,20,21,22,23,24,25,26,27,28,29,30,31,32,33,34,35,36,37,38,39,40,41,42,43,44,45,46,47,48,49,50,51,52,53,54,55,56,57,58,59,60,61,62,63,64,65,66,67,68,69,70,71,72,73,74,75,76,77,78,79,80,81,82,83,84,85,86,87,88,89,90,91,92,93,94,95,96,97,98,99,100,101,102,103,104,105,106,107,108,109,110,111,112,113,114,115,116,117,118,119,120,121,122,123,124,125,126,127,128,129,130,131,132,133,134,135,136,137,138,139,140,141,142,143,144,145,146,147,148,149,150,151,152,153,154,155,156,157,158,159,160,161,162,163,164,165,166,167,168,169,170,171,172,173,174,175,176,177,178,179,180,181,182,183,184,185,186,187,188,189,190,191,192,193,194,195,196,197,198,199,200,201,202,203,204,205,206,207,208,209,210,211,212,213,214,215,216,217,218,219,220,221,222,223,224,225,226,227,228,229,230,231,232,233,234,235,236,237,238,239,240,241,242,243,244,245,246,247,248,249,250,251,252,253,254,255,256,257,258,259,260,261,262,263,264,265,266,267,268,269,270,271,272,273,274,275,276,277,278,279,280,281,282,283,284,285,286,287,288,289,290,291,292,293,294,295,296,297,298,299,300,301,302,303,304,305,306,307,308,309,310,311,312,313,314,315,316,317,318,319,320,321,322,323,324,325,326,327,328,329,330,331,332,333,334,335,336,337,338,339,340,341,342,343,344,345,346,347,348,349,350,351,352,353,354,355,356,357,358,359,360,361,362,363,364,365,366,367,368,369,370,371,372,373,374,375,376,377,378,379,380,381,382,383,384,385,386,387,388,389,390,391,392,393,394,395,396,397,398,399,400,401,402,403,404,405,406,407,408,409,410,411,412,413,414,415,416,417,418,419,420,421,422,423,424,425,426,427,428,429,430,431,432,433,434,435,436,437,438,439,440,441,442,443,444,445,446,447,448,449,450,451,452,453,454,455,456,457,458,459,460,461,462,463,464,465,466,467,468,469,470,471,472,473,474,475,476,477,478,479,480,481,482,483,484,485,486,487,488,489,490,491,492,493,494,495,496,497,498,499,500,501,502,503,504,505,506,507,508,509,510,511,512,513,514,515,516,517,518,519,520,521,522,523,524,525,526,527,528,529,530,531,532,533,534,535,536,537,538,539,540,541,542,543,544,545,546,547,548,549,550,551,552,553,554,555,556,557,558,559,560,561,562,563,564,565,566,567,568,569,570,571,572,573,574,575,576,577,578,579,580,581,582,583,584,585,586,587,588,589,590,591,592,593,594,595,596,597,598,599,600,601,602,603,604,605,606,607,608,609,610,611,612,613,614,615,616,617,618,619,620,621,622,623,624,625,626,627,628,629,630,631,632,633,634,635,636,637,638,639,640,641,642,643,644,645,646,647,648,649,650,651,652,653,654,655,656,657,658,659,660,661,662,663,664,665,666,667,668,669,670,671,672,673,674,675,676,677,678,679,680,681,682,683,684,685,686,687,688,689,690,691,692,693,694,695,696,697,698,699,700,701,702,703,704,705,706,707,708,709,710,711,712,713,714,715,716,717,718,719,720,721,722,723,724,725,726,727,728,729,730,731,732,733,734,735,736,737,738,739,740,741,742,743,744,745,746,747,748,749,750,751,752,753,754,755,756,757,758,759,760,761,762,763,764,765,766,767,768,769,770,771,772,773,774,775,776,777,778,779,780,781,782,783,784,785,786,787,788,789,790,791,792,793,794,795,796,797,798,799,800,801,802,803,804,805,806,807,808,809,810,811,812,813,814,815,816,817,818,819,820,821,822,823,824,825,826,827,828,829,830,831,832,833,834,835,836,837,838,839,840,841,842,843,844,845,846,847,848,849,850,851,852,853,854,855,856,857,858,859,860,861,862,863,864,865,866,867,868,869,870,871,872,873,874,875,876,877,878,879,880,881,882,883,884,885,886,887,888,889,890,891,892,893,894,895,896,897,898,899,900,901,902,903,904,905,906,907,908,909,910,911,912,913,914,915,916,917,918,919,920,921,922,923,924,925,926,927,928,929,930,931,932,933,934,935,936,937,938,939,940,941,942,943,944,945,946,947,948,949,950,951,952,953,954,955,956,957,958,959,960,961,962,963,964,965,966,967,968,969,970,971,972,973,974,975,976,977,978,979,980,981,982,983,984,985,986,987,988,989,990,991,992,993,994,995,996,997,998,999,1000,1001,1002,1003,1004,1005,1006,1007,1008,1009,1010,1011,1012,1013,1014,1015,1016,1017,1018,1019,1020,1021,1022,1023,1024,1025,1026,1027,1028,1029,1030,1031,1032,1033,1034,1035,1036,1037,1038,1039,1040,1041,1042,1043,1044,1045,1046,1047,1048,1049,1050,1051,1052,1053,1054,1055,1056,1057,1058,1059,1060,1061,1062,1063,1064,1065,1066,1067,1068,1069,1070,1071,1072,1073,1074,1075,1076,1077,1078,1079,1080,1081,1082,1083,1084,1085,1086,1087,1088,1089,1090,1091,1092,1093,1094,1095,1096,1097,1098,1099,1100,1101,1102,1103,1104,1105,1106,1107,1108,1109,1110,1111,1112,1113,1114,1115,1116,1117,1118,1119,1120,1121,1122,1123,1124,1125,1126,1127,1128,1129,1130,1131,1132,1133,1134,1135,1136,1137,1138,1139,1140,1141,1142,1143,1144,1145,1146,1147,1148,1149,1150,1151,1152,1153,1154,1155,1156,1157,1158,1159,1160,1161,1162,1163,1164,1165,1166,1167,1168,1169,1170,1171,1172,1173,1174,1175,1176,1177,1178,1179,1180,1181,1182,1183,1184,1185,1186,1187,1188,1189,1190,1191,1192,1193,1194,1195,1196,1197,1198,1199,1200,1201,1202,1203,1204,1205,1206,1207,1208,1209,1210,1211,1212,1213,1214,1215,1216,1217,1218,1219,1220,1221,1222,1223,1224,1225,1226,1227,1228,1229,1230,1231,1232,1233,1234,1235,1236,1237,1238,1239,1240,1241,1242,1243,1244,1245,1246,1247,1248,1249,1250,1251,1252,1253,1254,1255,1256,1257,1258,1259,1260,1261,1262,1263,1264,1265,1266,1267,1268,1269,1270,1271,1272,1273,1274,1275,1276,1277,1278,1279,1280,1281,1282,1283,1284,1285,1286,1287,1288,1289,1290,1291,1292,1293,1294,1295,1296,1297,1298,1299,1300,1301,1302,1303,1304,1305,1306,1307,1308,1309,1310,1311,1312,1313,1314,1315,1316,1317,1318,1319,1320,1321,1322,1323,1324,1325,1326,1327,1328,1329,1330,1331,1332,1333,1334,1335,1336,1337,1338,1339,1340,1341,1342,1343,1344,1345,1346,1347,1348,1349,1350,1351,1352,1353,1354,1355,1356,1357,1358,1359,1360,1361,1362,1363,1364,1365,1366,1367,1368,1369,1370,1371,1372,1373,1374,1375,1376,1377,1378],\"y\":[0.5,0.7200000000000001,1.0,0.8400000000000001,0.30000000000000004,0.36000000000000004,0.7000000000000001,0.44000000000000006,0.44000000000000006,0.3428,0.3428,1.0,0.12,0.8800000000000001,0.4,0.36000000000000004,0.8800000000000001,0.7200000000000001,0.7200000000000001,0.24,0.48,0.04000000000000001,0.8400000000000001,0.8800000000000001,0.45,0.4,0.15000000000000002,0.44000000000000006,0.16000000000000003,0.44000000000000006,0.6400000000000001,0.96,0.27999999999999997,0.8500000000000001,0.68,0.10660000000000001,0.08000000000000002,0.24,1.0,0.10760000000000002,0.75,0.6000000000000001,0.7200000000000001,0.1,0.30000000000000004,0.16000000000000003,0.16000000000000003,0.12,0.8800000000000001,0.35000000000000003,0.08000000000000002,0.27999999999999997,0.08000000000000002,0.16000000000000003,0.4,0.026600000000000002,0.8,0.0534,0.68,0.24,1.0,0.0,0.76,0.15000000000000002,0.68,0.0,0.04000000000000001,0.8,0.1,0.76,0.48,0.9500000000000001,0.0,0.75,0.52,0.0,0.15000000000000002,0.0,0.76,0.5599999999999999,0.0,0.16000000000000003,0.6000000000000001,0.2,0.0,0.2,0.68,1.0,0.46660000000000007,0.27999999999999997,0.15000000000000002,0.7076,0.16000000000000003,0.7000000000000001,0.4,0.9500000000000001,0.8,0.9,0.30000000000000004,0.48,0.0,0.08000000000000002,0.5,0.52,0.7200000000000001,0.6000000000000001,0.0,0.32000000000000006,0.25,0.7200000000000001,0.4,0.7200000000000001,0.5599999999999999,0.8800000000000001,0.0,0.0,0.75,0.5,0.0,0.16000000000000003,0.2,0.0,0.05,0.08000000000000002,0.0,1.0,0.06,0.55,1.0,0.8500000000000001,0.68,0.32000000000000006,0.52,1.0,0.6400000000000001,0.96,1.0,0.48,0.4,1.0,1.0,0.68,0.9,0.8400000000000001,0.44000000000000006,0.48,0.76,0.5,0.4,0.15000000000000002,0.4,0.44000000000000006,0.8,0.6400000000000001,0.76,0.75,0.1,0.16000000000000003,1.0,0.24,1.0,0.5599999999999999,0.24,0.6400000000000001,0.9199999999999999,0.8,0.76,0.68,0.9199999999999999,0.52,0.36000000000000004,0.15000000000000002,0.8,0.55,0.76,0.52,0.4,0.76,0.1166,0.08000000000000002,0.05,0.5599999999999999,0.6400000000000001,0.1,0.45,0.0,0.0,0.0616,0.15000000000000002,0.08000000000000002,0.8400000000000001,0.75,0.32000000000000006,0.6000000000000001,0.8,0.6000000000000001,0.75,0.08000000000000002,0.0,0.6000000000000001,0.08000000000000002,0.08000000000000002,0.05,0.05,0.08000000000000002,0.08000000000000002,0.6400000000000001,0.0,0.44000000000000006,0.16000000000000003,0.16000000000000003,0.06,0.0,0.15000000000000002,0.46660000000000007,0.2666,0.24,0.8400000000000001,0.76,0.6000000000000001,0.1,0.0,0.0666,0.30000000000000004,0.033400000000000006,0.1,0.25,0.32000000000000006,0.0,0.2,0.0,0.0,0.8,0.55,0.6666000000000001,0.7000000000000001,0.0376,0.0,0.05,0.0728,0.6400000000000001,0.0,0.0,0.0,0.35000000000000003,0.0,0.55,0.36000000000000004,0.0,0.0,0.5599999999999999,0.8800000000000001,0.8,0.52,0.24,0.6400000000000001,0.16000000000000003,0.68,0.4,0.0,0.9199999999999999,0.8,0.76,0.8,0.5599999999999999,0.7200000000000001,0.36000000000000004,0.7200000000000001,0.24,1.0,0.8,0.0,0.68,0.8800000000000001,0.8400000000000001,1.0,0.04000000000000001,0.04000000000000001,0.8,0.52,0.12,0.24,0.76,0.8400000000000001,0.5599999999999999,0.8400000000000001,0.48,0.7200000000000001,0.76,0.12,0.96,0.24,0.48,0.8400000000000001,0.0,0.04000000000000001,0.68,0.6000000000000001,0.6400000000000001,0.6000000000000001,0.8800000000000001,0.36000000000000004,0.4,0.96,0.8,0.44000000000000006,0.8400000000000001,0.68,0.8400000000000001,0.68,0.48,0.2,0.32000000000000006,0.6400000000000001,0.68,0.8,0.6000000000000001,0.76,0.0,0.0,0.52,0.52,0.76,0.52,0.5599999999999999,0.0,0.52,0.9199999999999999,0.76,0.68,1.0,0.9199999999999999,0.6000000000000001,0.44000000000000006,0.76,0.44000000000000006,0.7200000000000001,0.8,0.08000000000000002,0.0,0.76,1.0,0.96,0.48,0.5599999999999999,0.27999999999999997,0.7200000000000001,0.0,0.8400000000000001,0.08000000000000002,0.76,0.8,0.24,0.8,0.6000000000000001,0.0,0.48,0.68,0.16000000000000003,0.8400000000000001,0.8800000000000001,0.8,0.36000000000000004,0.5599999999999999,1.0,0.0,0.04000000000000001,0.8,0.76,0.8800000000000001,0.6400000000000001,0.9199999999999999,0.0,0.2,0.16000000000000003,0.8,0.32000000000000006,0.0,0.68,0.2,0.8,0.6000000000000001,0.6000000000000001,0.15000000000000002,0.68,0.5599999999999999,0.96,0.27999999999999997,0.48,0.36000000000000004,0.96,0.27999999999999997,0.08000000000000002,0.266,0.48,0.08000000000000002,0.12,0.96,0.5599999999999999,0.4,0.52,0.0,0.48,0.8,0.8,0.8,0.0,0.6400000000000001,0.27999999999999997,0.7200000000000001,0.8800000000000001,1.0,0.36000000000000004,0.96,0.12,0.27999999999999997,0.04000000000000001,0.8400000000000001,0.9199999999999999,0.8,0.9199999999999999,0.36000000000000004,0.9199999999999999,0.04000000000000001,0.52,0.76,0.0,1.0,0.7200000000000001,0.9199999999999999,0.4,1.0,0.0,0.68,0.0,0.4,0.4,0.9199999999999999,0.6000000000000001,0.9199999999999999,0.4,0.52,0.08000000000000002,0.52,0.8400000000000001,0.0,0.44000000000000006,0.8,0.0,0.4,0.6000000000000001,0.52,0.0,0.0,0.96,0.6000000000000001,0.44000000000000006,0.8800000000000001,0.16000000000000003,0.68,0.0,0.12,0.0,0.48,0.68,0.8,0.4,0.8,0.96,0.12,0.48,0.8800000000000001,0.48,0.96,0.68,0.5599999999999999,0.16000000000000003,0.44000000000000006,0.76,0.08000000000000002,0.9199999999999999,0.6000000000000001,0.9199999999999999,0.16000000000000003,0.8,0.24,0.6400000000000001,0.7200000000000001,0.68,1.0,0.8,0.8,0.5599999999999999,0.76,0.52,0.4,0.16000000000000003,1.0,0.2,1.0,0.48,0.4,0.44000000000000006,0.68,0.16000000000000003,0.9199999999999999,0.5599999999999999,0.4,0.52,0.04000000000000001,0.27999999999999997,0.32000000000000006,0.6400000000000001,0.04000000000000001,0.48,0.04000000000000001,0.27999999999999997,0.36000000000000004,0.32000000000000006,0.76,0.2,0.24,0.8,0.4,0.52,0.76,0.52,0.04000000000000001,0.6000000000000001,0.36000000000000004,0.12,0.12,0.04000000000000001,0.12,0.04000000000000001,0.2,0.68,0.27999999999999997,0.4,0.5599999999999999,0.6400000000000001,0.16000000000000003,0.36000000000000004,0.44000000000000006,0.8400000000000001,1.0,0.24,0.5599999999999999,0.8800000000000001,0.8800000000000001,0.7200000000000001,0.24,0.27999999999999997,0.68,0.16000000000000003,0.5599999999999999,0.6400000000000001,0.32000000000000006,1.0,0.7200000000000001,0.7200000000000001,0.08000000000000002,0.36000000000000004,0.24,0.24,0.44000000000000006,1.0,0.52,0.0,0.5599999999999999,0.6400000000000001,0.32000000000000006,0.04000000000000001,0.76,0.8,0.5599999999999999,1.0,0.68,0.5599999999999999,0.27999999999999997,0.24,0.6400000000000001,0.6000000000000001,0.44000000000000006,0.4,0.76,0.32000000000000006,0.96,0.24,0.48,0.36000000000000004,0.52,0.76,0.24,0.04000000000000001,0.76,0.48,0.08000000000000002,0.68,0.8400000000000001,0.48,0.16000000000000003,0.8800000000000001,0.6000000000000001,0.4,0.6000000000000001,0.44000000000000006,0.36000000000000004,0.5599999999999999,0.5599999999999999,1.0,0.44000000000000006,0.24,0.32000000000000006,0.5599999999999999,0.36000000000000004,0.52,0.04000000000000001,0.48,0.8400000000000001,0.44000000000000006,0.32000000000000006,0.16000000000000003,1.0,0.24,0.6000000000000001,0.6000000000000001,0.0,0.0,0.4,0.0,1.0,0.6000000000000001,0.4,0.0,0.4,1.0,0.2,0.8,0.8,0.2,0.2,0.2,0.8,0.2,1.0,0.8,0.8,0.8,0.8,0.6000000000000001,0.8,0.0,0.0,0.2,0.8,1.0,0.4,0.8,0.0,0.4,0.2,0.0,0.4,1.0,0.2,0.6000000000000001,0.4,1.0,0.4,0.2,1.0,0.0,1.0,1.0,0.0,0.4,0.8,0.0,0.4,0.6000000000000001,0.0,0.6000000000000001,0.2,0.6000000000000001,0.4,0.8,0.0,0.8,0.8,0.4,0.4,1.0,0.4,0.4,0.0,0.4,0.0,0.4,0.8,0.8,0.2,0.8,0.8,0.4,0.4,0.4,0.0,0.6000000000000001,0.2,1.0,0.2,0.0,0.4,0.4,0.0,0.6000000000000001,0.6000000000000001,0.6000000000000001,1.0,1.0,0.8,0.2,0.0,1.0,0.0,0.8,1.0,0.6000000000000001,0.6000000000000001,0.6000000000000001,0.4,0.2,0.0,0.4,0.0,0.4,1.0,0.6000000000000001,0.6000000000000001,1.0,0.6000000000000001,0.4,0.2,0.2,1.0,0.2,0.4,0.8,0.0,0.4,0.2,0.6000000000000001,0.2,0.2,1.0,1.0,1.0,0.0,0.8,0.8,0.0,0.0,0.4,0.8,1.0,0.6000000000000001,0.6000000000000001,0.8,0.2,0.0,0.4,0.4,1.0,0.8,1.0,0.2,0.0,0.4,0.0,0.4,0.2,1.0,1.0,0.6000000000000001,0.0,0.0,0.4,1.0,0.2,0.6000000000000001,0.6000000000000001,0.4,0.2,0.2,0.4,0.4,0.8,0.0,0.2,0.2,0.4,0.4,0.0,0.2,1.0,0.4,0.4,1.0,0.4,1.0,0.0,0.8,0.8,0.8,0.0,0.4,0.4,1.0,0.4,0.6000000000000001,0.8,0.2,1.0,0.4,0.2,0.4,0.2,0.8,1.0,0.2,0.8,0.4,0.8,0.4,0.8,1.0,0.0,0.0,1.0,0.8,0.2,0.8,0.8,1.0,1.0,0.8,0.2,0.0,0.6000000000000001,0.8,0.6000000000000001,1.0,1.0,1.0,0.2,0.0,0.8,0.2,0.8,0.6000000000000001,1.0,1.0,0.0,0.2,0.0,0.0,0.0,0.0,0.8,1.0,0.2,0.2,0.8,0.2,1.0,0.6000000000000001,1.0,1.0,0.27999999999999997,0.7200000000000001,0.7000000000000001,0.6400000000000001,0.8,0.4,0.7200000000000001,0.8400000000000001,0.8,0.65,0.68,0.7334,0.75,0.24,0.76,0.68,0.6400000000000001,0.7200000000000001,0.6000000000000001,0.32000000000000006,0.6400000000000001,0.76,0.8400000000000001,0.6000000000000001,0.8,0.9500000000000001,0.7066,0.25,0.8,0.6000000000000001,0.52,0.7000000000000001,0.30000000000000004,0.4,0.7000000000000001,0.6000000000000001,0.9500000000000001,0.68,0.68,0.8500000000000001,0.76,0.6000000000000001,0.6000000000000001,0.9199999999999999,0.6000000000000001,0.8500000000000001,0.36000000000000004,0.5599999999999999,0.25,0.75,0.75,0.75,0.7000000000000001,0.9199999999999999,0.65,0.2666,0.5,0.65,0.6000000000000001,0.7200000000000001,0.44000000000000006,0.96,0.8,0.68,0.6400000000000001,0.5,0.65,0.76,0.8800000000000001,0.7000000000000001,0.30000000000000004,0.5599999999999999,0.7200000000000001,0.8400000000000001,0.6000000000000001,0.6000000000000001,0.32000000000000006,0.8,0.2666,0.7200000000000001,0.6000000000000001,0.6000000000000001,0.7000000000000001,0.8,0.44000000000000006,0.68,0.7000000000000001,0.8500000000000001,0.52,0.6000000000000001,0.48,0.76,0.6000000000000001,0.7000000000000001,0.7000000000000001,0.75,0.45,0.65,0.96,0.76,0.68,0.4,0.9199999999999999,0.7000000000000001,0.6666000000000001,0.5334,0.6400000000000001,0.76,0.68,0.68,0.7200000000000001,0.76,0.36000000000000004,0.6400000000000001,0.6000000000000001,0.36000000000000004,0.55,0.32000000000000006,0.55,0.65,0.45,0.6000000000000001,0.6364000000000001,0.75,0.52,0.25,0.5,0.8400000000000001,0.52,0.27999999999999997,0.7200000000000001,0.6000000000000001,0.7000000000000001,1.0,0.6000000000000001,0.76,0.76,0.8444000000000002,0.5,1.0,0.8,0.7200000000000001,0.8400000000000001,0.68,0.52,0.7200000000000001,0.8,0.7000000000000001,0.30000000000000004,0.7000000000000001,0.35000000000000003,0.75,0.96,0.68,0.52,0.8800000000000001,0.7200000000000001,0.7200000000000001,0.8,0.9,1.0,0.68,0.75,0.6352000000000001,0.7200000000000001,0.6400000000000001,0.7000000000000001,0.38,0.6000000000000001,0.7200000000000001,0.75,0.7200000000000001,0.75,0.6666000000000001,0.52,0.36000000000000004,0.7200000000000001,0.8800000000000001,0.6000000000000001,0.8,0.65,0.6000000000000001,0.52,0.52,0.9199999999999999,0.55,0.44000000000000006,0.6666000000000001,0.5538000000000001,0.5599999999999999,0.8,0.9466,0.32000000000000006,0.75,0.1,0.65,0.48,0.6400000000000001,0.75,0.65,0.48,0.9,0.8,0.76,0.16000000000000003,0.6000000000000001,0.7000000000000001,0.4,0.5599999999999999,0.4,0.6000000000000001,0.7000000000000001,1.0,0.65,0.68,0.68,0.75,0.55,0.6400000000000001,0.52,0.32000000000000006,0.5,0.68,0.8,0.8500000000000001,0.8,0.68,0.5599999999999999,0.32000000000000006,0.76,0.5334,0.24,0.96,0.6000000000000001,0.8,0.8,0.55,0.45,0.6400000000000001,0.9500000000000001,0.5599999999999999,0.27999999999999997,0.15000000000000002,0.7334,0.68,0.68,0.7714000000000001,0.6000000000000001,0.7000000000000001,0.65,0.27999999999999997,0.15000000000000002,0.68,0.96,0.08000000000000002,0.36000000000000004,0.48,0.32000000000000006,0.6400000000000001,0.08000000000000002,0.8,0.16000000000000003,0.27999999999999997,0.36000000000000004,0.44000000000000006,0.6400000000000001,0.24,0.25,0.8400000000000001,0.52,0.7200000000000001,0.08000000000000002,0.0,1.0,0.8800000000000001,0.96,0.7200000000000001,0.76,0.04000000000000001,0.76,0.44000000000000006,0.8,0.52,0.12,0.8800000000000001,0.8,0.16000000000000003,0.4,0.27999999999999997,0.6000000000000001,0.12,0.4,0.9199999999999999,0.27999999999999997,0.9,0.16000000000000003,0.0,0.8800000000000001,0.2,0.68,0.12,0.2,0.5599999999999999,0.32000000000000006,0.48,0.16000000000000003,0.8800000000000001,0.96,0.68,0.76,0.9,0.44000000000000006,0.8,0.2,0.52,0.2,0.27999999999999997,0.8,0.8400000000000001,0.76,0.76,0.48,0.08000000000000002,0.44000000000000006,0.8800000000000001,0.7200000000000001,0.44000000000000006,1.0,0.8400000000000001,0.36000000000000004,0.27999999999999997,0.44000000000000006,0.76,0.8400000000000001,0.4,1.0,0.76,0.24,0.44000000000000006,0.27999999999999997,0.48,0.6000000000000001,0.6400000000000001,0.76,0.6000000000000001,0.4,0.5599999999999999,0.8,0.9199999999999999,0.8,0.44000000000000006,0.68,0.68,0.68,0.8400000000000001,0.76,0.52,0.44000000000000006,0.08000000000000002,0.36000000000000004,0.2,0.32000000000000006,0.32000000000000006,0.52,0.52,0.0,0.8800000000000001,0.68,0.12,0.0,0.8800000000000001,0.7200000000000001,0.6000000000000001,0.76,0.44000000000000006,0.0,0.9199999999999999,0.32000000000000006,0.9199999999999999,0.8400000000000001,0.76,0.6000000000000001,0.2,0.7200000000000001,0.16000000000000003,0.44000000000000006,0.8400000000000001,0.8400000000000001,0.68,0.26,0.24,0.7200000000000001,0.6400000000000001,0.2,0.6000000000000001,0.76,0.32000000000000006,0.24,0.68,0.08000000000000002,0.96,0.0,0.08000000000000002,0.5599999999999999,0.7200000000000001,0.4,0.8,0.76,0.36000000000000004,0.04000000000000001,0.4,1.0,0.0,0.7200000000000001,0.7200000000000001,0.68,0.04000000000000001,0.8800000000000001,0.12,0.08000000000000002,0.9199999999999999,0.52,0.5599999999999999,0.6400000000000001,0.4,0.36000000000000004,0.08000000000000002,0.27999999999999997,0.24,0.52,0.48,0.8400000000000001,1.0,0.08000000000000002,0.32000000000000006,0.6400000000000001,0.8800000000000001,0.96,1.0,0.534,0.0,1.0,0.6000000000000001,0.96,0.48,1.0,0.96,1.0,0.6400000000000001,0.24,1.0,0.9199999999999999,0.4,0.36000000000000004,0.6000000000000001,0.76,0.8,0.96,0.96,0.5599999999999999,0.52,0.8800000000000001,0.9199999999999999,0.44000000000000006,0.08000000000000002,0.08000000000000002,0.27999999999999997,0.96,0.8800000000000001,1.0,0.4,1.0,1.0,1.0,1.0,0.8,0.6000000000000001,0.6000000000000001,1.0,0.8,0.4,0.2,0.8,0.0,0.4,1.0,0.6000000000000001,0.4,0.4,0.0,0.0,0.2,0.2,0.2,0.4,0.0,0.2,0.2,0.0,0.0],\"type\":\"scatter\",\"xaxis\":\"x\",\"yaxis\":\"y2\"},{\"name\":\"Predicition\",\"x\":[0,1,2,3,4,5,6,7,8,9,10,11,12,13,14,15,16,17,18,19,20,21,22,23,24,25,26,27,28,29,30,31,32,33,34,35,36,37,38,39,40,41,42,43,44,45,46,47,48,49,50,51,52,53,54,55,56,57,58,59,60,61,62,63,64,65,66,67,68,69,70,71,72,73,74,75,76,77,78,79,80,81,82,83,84,85,86,87,88,89,90,91,92,93,94,95,96,97,98,99,100,101,102,103,104,105,106,107,108,109,110,111,112,113,114,115,116,117,118,119,120,121,122,123,124,125,126,127,128,129,130,131,132,133,134,135,136,137,138,139,140,141,142,143,144,145,146,147,148,149,150,151,152,153,154,155,156,157,158,159,160,161,162,163,164,165,166,167,168,169,170,171,172,173,174,175,176,177,178,179,180,181,182,183,184,185,186,187,188,189,190,191,192,193,194,195,196,197,198,199,200,201,202,203,204,205,206,207,208,209,210,211,212,213,214,215,216,217,218,219,220,221,222,223,224,225,226,227,228,229,230,231,232,233,234,235,236,237,238,239,240,241,242,243,244,245,246,247,248,249,250,251,252,253,254,255,256,257,258,259,260,261,262,263,264,265,266,267,268,269,270,271,272,273,274,275,276,277,278,279,280,281,282,283,284,285,286,287,288,289,290,291,292,293,294,295,296,297,298,299,300,301,302,303,304,305,306,307,308,309,310,311,312,313,314,315,316,317,318,319,320,321,322,323,324,325,326,327,328,329,330,331,332,333,334,335,336,337,338,339,340,341,342,343,344,345,346,347,348,349,350,351,352,353,354,355,356,357,358,359,360,361,362,363,364,365,366,367,368,369,370,371,372,373,374,375,376,377,378,379,380,381,382,383,384,385,386,387,388,389,390,391,392,393,394,395,396,397,398,399,400,401,402,403,404,405,406,407,408,409,410,411,412,413,414,415,416,417,418,419,420,421,422,423,424,425,426,427,428,429,430,431,432,433,434,435,436,437,438,439,440,441,442,443,444,445,446,447,448,449,450,451,452,453,454,455,456,457,458,459,460,461,462,463,464,465,466,467,468,469,470,471,472,473,474,475,476,477,478,479,480,481,482,483,484,485,486,487,488,489,490,491,492,493,494,495,496,497,498,499,500,501,502,503,504,505,506,507,508,509,510,511,512,513,514,515,516,517,518,519,520,521,522,523,524,525,526,527,528,529,530,531,532,533,534,535,536,537,538,539,540,541,542,543,544,545,546,547,548,549,550,551,552,553,554,555,556,557,558,559,560,561,562,563,564,565,566,567,568,569,570,571,572,573,574,575,576,577,578,579,580,581,582,583,584,585,586,587,588,589,590,591,592,593,594,595,596,597,598,599,600,601,602,603,604,605,606,607,608,609,610,611,612,613,614,615,616,617,618,619,620,621,622,623,624,625,626,627,628,629,630,631,632,633,634,635,636,637,638,639,640,641,642,643,644,645,646,647,648,649,650,651,652,653,654,655,656,657,658,659,660,661,662,663,664,665,666,667,668,669,670,671,672,673,674,675,676,677,678,679,680,681,682,683,684,685,686,687,688,689,690,691,692,693,694,695,696,697,698,699,700,701,702,703,704,705,706,707,708,709,710,711,712,713,714,715,716,717,718,719,720,721,722,723,724,725,726,727,728,729,730,731,732,733,734,735,736,737,738,739,740,741,742,743,744,745,746,747,748,749,750,751,752,753,754,755,756,757,758,759,760,761,762,763,764,765,766,767,768,769,770,771,772,773,774,775,776,777,778,779,780,781,782,783,784,785,786,787,788,789,790,791,792,793,794,795,796,797,798,799,800,801,802,803,804,805,806,807,808,809,810,811,812,813,814,815,816,817,818,819,820,821,822,823,824,825,826,827,828,829,830,831,832,833,834,835,836,837,838,839,840,841,842,843,844,845,846,847,848,849,850,851,852,853,854,855,856,857,858,859,860,861,862,863,864,865,866,867,868,869,870,871,872,873,874,875,876,877,878,879,880,881,882,883,884,885,886,887,888,889,890,891,892,893,894,895,896,897,898,899,900,901,902,903,904,905,906,907,908,909,910,911,912,913,914,915,916,917,918,919,920,921,922,923,924,925,926,927,928,929,930,931,932,933,934,935,936,937,938,939,940,941,942,943,944,945,946,947,948,949,950,951,952,953,954,955,956,957,958,959,960,961,962,963,964,965,966,967,968,969,970,971,972,973,974,975,976,977,978,979,980,981,982,983,984,985,986,987,988,989,990,991,992,993,994,995,996,997,998,999,1000,1001,1002,1003,1004,1005,1006,1007,1008,1009,1010,1011,1012,1013,1014,1015,1016,1017,1018,1019,1020,1021,1022,1023,1024,1025,1026,1027,1028,1029,1030,1031,1032,1033,1034,1035,1036,1037,1038,1039,1040,1041,1042,1043,1044,1045,1046,1047,1048,1049,1050,1051,1052,1053,1054,1055,1056,1057,1058,1059,1060,1061,1062,1063,1064,1065,1066,1067,1068,1069,1070,1071,1072,1073,1074,1075,1076,1077,1078,1079,1080,1081,1082,1083,1084,1085,1086,1087,1088,1089,1090,1091,1092,1093,1094,1095,1096,1097,1098,1099,1100,1101,1102,1103,1104,1105,1106,1107,1108,1109,1110,1111,1112,1113,1114,1115,1116,1117,1118,1119,1120,1121,1122,1123,1124,1125,1126,1127,1128,1129,1130,1131,1132,1133,1134,1135,1136,1137,1138,1139,1140,1141,1142,1143,1144,1145,1146,1147,1148,1149,1150,1151,1152,1153,1154,1155,1156,1157,1158,1159,1160,1161,1162,1163,1164,1165,1166,1167,1168,1169,1170,1171,1172,1173,1174,1175,1176,1177,1178,1179,1180,1181,1182,1183,1184,1185,1186,1187,1188,1189,1190,1191,1192,1193,1194,1195,1196,1197,1198,1199,1200,1201,1202,1203,1204,1205,1206,1207,1208,1209,1210,1211,1212,1213,1214,1215,1216,1217,1218,1219,1220,1221,1222,1223,1224,1225,1226,1227,1228,1229,1230,1231,1232,1233,1234,1235,1236,1237,1238,1239,1240,1241,1242,1243,1244,1245,1246,1247,1248,1249,1250,1251,1252,1253,1254,1255,1256,1257,1258,1259,1260,1261,1262,1263,1264,1265,1266,1267,1268,1269,1270,1271,1272,1273,1274,1275,1276,1277,1278,1279,1280,1281,1282,1283,1284,1285,1286,1287,1288,1289,1290,1291,1292,1293,1294,1295,1296,1297,1298,1299,1300,1301,1302,1303,1304,1305,1306,1307,1308,1309,1310,1311,1312,1313,1314,1315,1316,1317,1318,1319,1320,1321,1322,1323,1324,1325,1326,1327,1328,1329,1330,1331,1332,1333,1334,1335,1336,1337,1338,1339,1340,1341,1342,1343,1344,1345,1346,1347,1348,1349,1350,1351,1352,1353,1354,1355,1356,1357,1358,1359,1360,1361,1362,1363,1364,1365,1366,1367,1368,1369,1370,1371,1372,1373,1374,1375,1376,1377,1378],\"y\":[0.4285660982131958,0.8425517082214355,0.6992795467376709,0.843402087688446,0.34224963188171387,0.3438799977302551,0.7787889242172241,0.5749682188034058,0.5420531034469604,0.45146045088768005,0.45146045088768005,0.7513038516044617,0.09587258100509644,0.7957960963249207,0.4394509494304657,0.44326868653297424,0.7697588205337524,0.6397938132286072,0.5108710527420044,0.38355472683906555,0.34971535205841064,0.012447059154510498,0.7855133414268494,0.7443967461585999,0.3274734616279602,0.45260947942733765,0.23444339632987976,0.44671350717544556,0.18825799226760864,0.5895418524742126,0.5960863828659058,0.781136691570282,0.31496214866638184,0.6534435749053955,0.6617106199264526,0.020911991596221924,0.2875029444694519,0.5035079121589661,0.6930298805236816,0.1498814821243286,0.6504620313644409,0.5522952675819397,0.45965519547462463,0.22480523586273193,0.39021337032318115,0.07301482558250427,0.058811068534851074,0.10686412453651428,0.5226407647132874,0.3076573610305786,0.2698298692703247,0.3518233299255371,0.014446735382080078,0.20902764797210693,0.41568297147750854,-0.16011816263198853,0.7799862623214722,0.20496627688407898,0.6850229501724243,0.36256706714630127,0.850918173789978,0.11670580506324768,0.49601441621780396,0.3180139362812042,0.3254666030406952,0.10788825154304504,0.11957144737243652,0.7866048812866211,0.01306837797164917,0.864885687828064,0.8917033672332764,0.6702778339385986,0.14080244302749634,0.6443975567817688,0.6737993955612183,0.04640299081802368,0.16142529249191284,0.05051189661026001,0.5140621066093445,0.6645327806472778,0.07900270819664001,0.14737480878829956,0.49922987818717957,0.2930486798286438,-0.12124693393707275,0.25456100702285767,0.7984470129013062,0.756886899471283,0.5377728939056396,0.3264801502227783,0.3754095733165741,0.6623400449752808,0.15782210230827332,0.6286154985427856,0.3426761031150818,0.790489912033081,0.5199201107025146,0.5499953031539917,0.3220735490322113,0.585850715637207,-0.029395997524261475,0.20168685913085938,0.46520736813545227,0.500572681427002,0.7127805352210999,0.41053563356399536,-0.17535322904586792,0.3952815532684326,0.4119296669960022,0.49595147371292114,0.4522654414176941,0.7242796421051025,0.5220939517021179,0.7268478274345398,-0.12878286838531494,0.03592103719711304,0.7886843681335449,0.2888045310974121,-0.006141066551208496,0.07809573411941528,0.19455263018608093,-0.10655701160430908,0.14882409572601318,0.05199134349822998,0.1300641894340515,0.7884902358055115,0.1556653380393982,0.5457479357719421,0.9489679932594299,0.5471736192703247,0.4720272421836853,0.5436602234840393,0.6492979526519775,0.7906228303909302,0.554456353187561,0.6728841066360474,0.7891687154769897,0.5914024710655212,0.4750884473323822,1.0707120895385742,0.7422844171524048,0.6983176469802856,0.7562218904495239,0.8117052316665649,0.3721044361591339,0.26492008566856384,0.5953283905982971,0.672672688961029,0.46923866868019104,0.3794044554233551,0.44765567779541016,0.44618284702301025,0.7109665274620056,0.517940878868103,0.8173509240150452,0.6637701392173767,-0.032187700271606445,0.3425000309944153,0.6948574185371399,0.2092272937297821,0.7963845729827881,0.5055871605873108,0.1564042568206787,0.6899604797363281,0.8105964660644531,0.7238944172859192,0.6985735297203064,0.43357276916503906,0.6329051852226257,0.7355872392654419,0.5103603601455688,0.05410042405128479,0.6961796879768372,0.852569043636322,0.632037878036499,0.6339782476425171,0.6817426681518555,0.7412890195846558,0.0720866322517395,0.009011059999465942,0.02845969796180725,0.6538676619529724,0.5767297744750977,0.13145208358764648,0.5115686655044556,0.004569947719573975,-0.08044564723968506,0.15555983781814575,0.30202746391296387,0.040626972913742065,0.6427711248397827,0.4586436152458191,0.34303349256515503,0.618939995765686,0.6794536709785461,0.675229549407959,0.7272153496742249,0.0984639823436737,0.0848550796508789,0.6919296979904175,0.12570983171463013,0.32559412717819214,0.19667166471481323,0.17545613646507263,0.12205532193183899,0.2917618155479431,0.5304068326950073,-0.11453938484191895,0.5667529106140137,0.4025859236717224,0.24292996525764465,0.25856348872184753,0.17622777819633484,0.1333179771900177,0.4561787545681,0.3141065835952759,0.43168604373931885,0.6114933490753174,0.692035436630249,0.6341320872306824,0.12675327062606812,0.2080104947090149,0.4856302738189697,0.39472413063049316,0.04818612337112427,-0.0953252911567688,0.271447092294693,0.3571910858154297,-0.06033831834793091,0.2222604751586914,0.1288834512233734,0.005103647708892822,0.712788999080658,0.5494736433029175,0.6513488292694092,0.4241733253002167,0.043503254652023315,0.1921282410621643,0.20063841342926025,0.03845477104187012,0.3854314088821411,0.13251614570617676,0.08799180388450623,-0.05888265371322632,0.5381076335906982,0.14540445804595947,0.8728107810020447,0.496685266494751,0.14712554216384888,0.12362474203109741,0.6030331254005432,0.7523369789123535,0.4978485107421875,0.5864574909210205,0.3367975950241089,0.5493074655532837,0.2096169888973236,0.7175337076187134,0.4916626214981079,0.14455178380012512,0.7102810740470886,0.6429078578948975,0.5271151661872864,0.9923990368843079,0.5583119988441467,0.49774396419525146,0.37695834040641785,0.8059861660003662,0.4715382754802704,0.9816509485244751,0.6464395523071289,0.1749669313430786,0.6006447076797485,0.46691104769706726,0.7064303159713745,1.1635171175003052,0.3545449376106262,0.0114973783493042,0.7212315797805786,0.482266366481781,0.15194618701934814,0.3665201663970947,0.6118652820587158,0.6701537370681763,0.620712161064148,0.6263037919998169,0.3242943286895752,0.8492104411125183,0.557804524898529,0.09464916586875916,0.8678513765335083,0.13683751225471497,0.548051655292511,0.5983707308769226,0.1433042585849762,0.180405855178833,0.541994571685791,0.5677925944328308,0.3470503091812134,0.6233621835708618,0.9116113781929016,0.658099889755249,0.4069593846797943,1.0104758739471436,0.39192599058151245,0.578080415725708,0.639758825302124,0.5839441418647766,0.6435689330101013,0.3162175714969635,0.5083538889884949,0.15474829077720642,0.2646465301513672,0.6300454139709473,0.4429721236228943,0.549991250038147,0.21908080577850342,0.665809154510498,-0.09163618087768555,0.0064702630043029785,0.7089245319366455,0.4127391576766968,0.7942185401916504,0.3598904609680176,0.721010148525238,0.22237783670425415,0.6044139862060547,0.5401841998100281,0.6930083632469177,0.6661522388458252,0.8038406372070312,0.7844215631484985,0.5144184231758118,0.5889335870742798,0.3797066807746887,0.330516517162323,0.672296941280365,0.6617201566696167,0.0804641842842102,0.3636913299560547,0.6599207520484924,0.8364560604095459,0.9736362099647522,0.42023152112960815,0.6281085014343262,0.2586138844490051,0.5716407299041748,0.04897654056549072,0.48334360122680664,0.16463708877563477,0.6043704748153687,0.7099182605743408,0.2648857831954956,0.7151952981948853,0.6808381080627441,0.010549962520599365,0.4103979468345642,0.8310039043426514,0.05354595184326172,0.6337300539016724,0.7162317633628845,0.5373661518096924,0.3696935176849365,0.44099926948547363,1.152446985244751,0.17419302463531494,0.35499364137649536,0.4891231954097748,0.7049610018730164,0.6942679286003113,0.5409539937973022,0.5885975956916809,0.2080056369304657,0.2770504355430603,0.5807774066925049,0.6882548928260803,0.5116201043128967,0.06358742713928223,0.5348678231239319,0.6247448921203613,0.6878628730773926,0.5282543897628784,0.5179164409637451,0.12513771653175354,0.6623018980026245,0.6246504187583923,0.45994678139686584,0.3552231192588806,0.5533137917518616,0.25540533661842346,0.7766801118850708,0.36664557456970215,0.010554283857345581,0.2618696093559265,0.6394879221916199,0.10188472270965576,0.15354084968566895,0.9060344099998474,0.6532443165779114,0.4312165081501007,0.42373523116111755,0.15703219175338745,0.5641107559204102,0.679463803768158,0.5372255444526672,0.7174163460731506,0.29038965702056885,0.6238763928413391,0.5616071820259094,0.7731406092643738,0.5289924144744873,0.7005531787872314,0.48779067397117615,0.712216854095459,0.21854013204574585,0.5016631484031677,0.030653774738311768,0.66532301902771,0.7568240165710449,0.8390445709228516,0.8574548363685608,0.29987648129463196,0.9173394441604614,0.19725078344345093,0.48508262634277344,0.16140446066856384,0.3637467622756958,0.9419006705284119,0.2683996558189392,0.5448203086853027,0.34951311349868774,0.8174731731414795,0.33527159690856934,0.6605998873710632,-0.16596299409866333,0.5443863272666931,0.4484705328941345,0.9756920337677002,0.5456939935684204,0.6101828813552856,0.6536915302276611,0.4913371801376343,0.06232661008834839,0.84161776304245,0.563999593257904,0.20093199610710144,0.43012332916259766,0.4950879216194153,0.12243914604187012,0.2681564390659332,0.6133654117584229,0.859904408454895,-0.0629124641418457,0.2913190424442291,0.8816206455230713,0.4877045154571533,0.49053797125816345,0.7387609481811523,0.4802159070968628,0.6378839015960693,0.22711515426635742,0.2889385521411896,0.24454760551452637,0.47972479462623596,0.7387919425964355,0.595963716506958,0.3647313714027405,0.852414071559906,0.9838750958442688,0.19051051139831543,0.5796893835067749,0.5282820463180542,0.5735284090042114,0.5934075713157654,0.4440065324306488,0.36840295791625977,0.3517068028450012,0.4472033977508545,0.34940898418426514,0.10352969169616699,0.7064989805221558,0.44123613834381104,0.7553319931030273,0.10125994682312012,0.684320867061615,0.5121766328811646,0.5824007987976074,0.6683351993560791,0.45516765117645264,0.7816165685653687,0.8155134916305542,0.647596538066864,0.5824751257896423,0.7493003010749817,0.553614616394043,0.6426963806152344,0.19805729389190674,0.6782798767089844,0.27443331480026245,0.8524013757705688,0.5530927181243896,0.40531450510025024,0.4503711462020874,0.6924919486045837,0.377108633518219,0.8034400343894958,0.4850497245788574,0.1461193561553955,0.5432848334312439,0.027381151914596558,0.16850852966308594,0.5021970272064209,0.5210444331169128,0.07326719164848328,0.6019189357757568,0.1993820071220398,0.6634149551391602,0.364755779504776,0.07895556092262268,0.6416871547698975,0.42288458347320557,0.364742636680603,0.7527737617492676,0.4528708755970001,0.6885354518890381,0.5761727094650269,0.37446486949920654,0.3517729938030243,0.35206377506256104,0.24285674095153809,0.2760089933872223,0.0909959077835083,0.576187789440155,0.4875575006008148,0.2563248574733734,0.13994663953781128,0.7610319256782532,0.3781983256340027,0.47496432065963745,0.48333966732025146,0.78226637840271,0.33886802196502686,0.46817877888679504,0.5178930759429932,0.690978467464447,1.0248041152954102,0.2030012011528015,0.4271963834762573,0.6709190607070923,0.8450369834899902,0.6563024520874023,0.17871502041816711,0.6016308069229126,0.4384232759475708,0.5765487551689148,0.4803246855735779,0.6497020721435547,0.28745681047439575,0.7199944257736206,0.4016772508621216,0.8810927867889404,0.1849728226661682,0.2942907214164734,0.659760594367981,0.35798272490501404,0.2239818274974823,1.0588977336883545,0.5393933057785034,0.4616854786872864,0.46548131108283997,0.5026167035102844,0.19503772258758545,0.201442688703537,0.6343472003936768,0.9733471274375916,0.7371774911880493,0.8306599855422974,0.5968576669692993,0.4820817708969116,0.4431988596916199,0.35260501503944397,0.5291993618011475,0.5280306935310364,0.32018399238586426,0.723393440246582,0.5065220594406128,-0.06331092119216919,0.42924413084983826,0.33644604682922363,0.3119402229785919,0.22860050201416016,0.35249704122543335,0.7115895748138428,0.47875168919563293,0.4990016520023346,0.771598219871521,0.5020383596420288,0.4888710677623749,0.4978160858154297,0.8530545234680176,0.2308441698551178,-0.10689383745193481,0.9358550906181335,0.5799480080604553,0.21568048000335693,0.6876873970031738,0.35321754217147827,0.18149793148040771,0.7728699445724487,0.5964735150337219,0.6092932820320129,0.6505638957023621,0.4673822820186615,0.16746187210083008,0.5799190998077393,0.28194767236709595,0.35655179619789124,0.3113909959793091,0.7555901408195496,0.5794341564178467,0.40761610865592957,0.6879312992095947,0.22989881038665771,1.0067780017852783,0.4397015869617462,0.583385705947876,0.48484739661216736,0.1823081374168396,0.46935027837753296,0.49027228355407715,0.47210693359375,0.11069273948669434,0.6416388750076294,0.18638235330581665,0.5071748495101929,0.24158281087875366,0.5195086598396301,0.31936514377593994,0.7156249284744263,0.36101311445236206,0.755233883857727,0.16045475006103516,0.4372674822807312,-0.010827064514160156,0.7393106818199158,0.352369487285614,0.3983791470527649,0.4998021721839905,0.633251965045929,0.7597224116325378,0.32971543073654175,0.39923393726348877,0.2424880862236023,-0.006489574909210205,0.5064653754234314,0.5014489889144897,0.5786288976669312,0.1801672875881195,0.42570599913597107,0.37616923451423645,0.28735509514808655,0.3829006552696228,0.7751035094261169,0.3206545114517212,0.8086309432983398,0.6028217077255249,0.7046068906784058,0.439670205116272,0.4862469434738159,0.25605446100234985,0.32113760709762573,0.9672554731369019,0.40892544388771057,0.7422192692756653,0.6607528924942017,0.48941606283187866,0.23215451836585999,0.6704018115997314,0.5372815132141113,0.34631234407424927,0.7408344149589539,0.34066474437713623,0.8525546193122864,0.6165274977684021,0.7715649604797363,0.4343344569206238,0.6918647885322571,0.420700341463089,0.4621100425720215,0.46243757009506226,0.5033706426620483,0.03535348176956177,0.034018754959106445,0.4576244652271271,0.5073373317718506,0.34286192059516907,0.14780670404434204,0.22964707016944885,0.2736717164516449,0.6641150712966919,0.3301684260368347,0.42930132150650024,0.559241771697998,0.5635504722595215,0.07634472846984863,0.42848271131515503,0.5000385642051697,0.25744274258613586,0.7376392483711243,0.5313420295715332,0.517673909664154,0.29043084383010864,0.15860530734062195,0.42605870962142944,0.5875955820083618,0.4590166211128235,0.10202699899673462,0.3104513883590698,0.3728528618812561,0.6655312776565552,0.6819923520088196,0.30938175320625305,0.398194819688797,0.17994028329849243,0.02737051248550415,0.3911566734313965,0.4524306058883667,0.05500796437263489,0.4675080180168152,0.16314849257469177,0.17491698265075684,0.7272224426269531,0.2560338079929352,0.3537209630012512,0.5321817398071289,0.6214795112609863,0.2334306240081787,0.6976607441902161,0.3288488984107971,0.3928195834159851,0.7072347402572632,0.5165532827377319,0.23067516088485718,0.15661370754241943,0.4286557137966156,0.46280211210250854,0.40829044580459595,0.34565871953964233,0.31276094913482666,0.6306734681129456,0.2441524863243103,0.7021646499633789,0.24590256810188293,0.2884927988052368,0.3561711609363556,0.48747387528419495,-0.09006166458129883,0.48309189081192017,0.7471925616264343,0.7372649908065796,0.7061530351638794,0.08663994073867798,0.29337257146835327,0.38723716139793396,0.6425918936729431,0.4803353548049927,0.4366557002067566,0.4635891914367676,0.4703206419944763,0.30920228362083435,0.28105586767196655,0.37512439489364624,0.5271996259689331,0.72462397813797,0.09394168853759766,0.45943862199783325,0.6695847511291504,0.4600386619567871,0.2891121506690979,0.49321669340133667,0.4705965220928192,0.855158269405365,0.7479596138000488,0.20438647270202637,0.7574046850204468,0.44626104831695557,0.2830984890460968,0.8605872392654419,0.9785680770874023,0.05955672264099121,0.2739393711090088,0.5184074640274048,0.22377043962478638,0.2186024785041809,0.38914036750793457,0.38487106561660767,0.6623154878616333,0.7951329350471497,0.19988495111465454,-0.042012035846710205,0.5076431632041931,0.3669532537460327,0.49350404739379883,0.09431979060173035,0.35654717683792114,0.5108225345611572,0.6891927719116211,0.45220133662223816,0.4539127051830292,0.3114017844200134,0.48408663272857666,0.1719072461128235,0.13289707899093628,0.7302430272102356,0.7126647233963013,0.17892751097679138,0.2741749882698059,0.6109066009521484,0.42905938625335693,0.5025858283042908,0.16223806142807007,0.6309274435043335,0.2614084780216217,0.8190767168998718,0.506064772605896,0.22026357054710388,0.43989354372024536,0.3358075022697449,0.7011538743972778,1.2140703201293945,0.7315527200698853,0.25044766068458557,0.26559919118881226,0.30052584409713745,1.0249090194702148,0.3548393249511719,0.7577998638153076,0.2053600549697876,0.35326439142227173,0.7174718379974365,0.12553751468658447,0.36898112297058105,1.007659912109375,0.49100613594055176,0.596154510974884,0.14427286386489868,0.3543829619884491,0.10031825304031372,0.34853726625442505,0.5242754817008972,0.7768698930740356,0.5705035924911499,0.8201425671577454,0.7857899069786072,1.3812541961669922,0.5681220889091492,0.5221120119094849,0.322490930557251,0.7831463813781738,-0.04425472021102905,0.7926076650619507,0.6237515807151794,0.7747287154197693,0.484902024269104,0.43520456552505493,0.061813533306121826,0.5380186438560486,0.32230129837989807,0.03306931257247925,0.666072428226471,0.46100926399230957,0.37829166650772095,0.155814528465271,0.3059065341949463,0.48892176151275635,1.2701776027679443,0.39779335260391235,0.3597205579280853,0.9751652479171753,0.4888375699520111,0.8131450414657593,0.5408696532249451,0.7686774134635925,0.5251647233963013,0.45302462577819824,0.5732039213180542,0.2645798921585083,0.6593312621116638,0.36371129751205444,0.6325388550758362,0.7604492902755737,0.6180221438407898,0.3212423324584961,0.6872979402542114,0.5040833950042725,0.47654080390930176,0.4503036141395569,0.48409774899482727,0.6827465295791626,0.5305168628692627,0.6889462471008301,0.5095466375350952,0.5111296772956848,0.7057519555091858,0.7883753180503845,0.5272957682609558,0.8803991079330444,0.621084451675415,0.6458413600921631,0.39247995615005493,0.6338679194450378,0.4801008701324463,0.6521684527397156,0.7938767671585083,0.7821336984634399,0.8951235413551331,0.49943116307258606,0.3941999673843384,0.82672518491745,0.4633837640285492,0.6367847919464111,0.7459523677825928,0.965742826461792,0.7222429513931274,0.5765633583068848,0.48856452107429504,0.5335058569908142,0.6165883541107178,0.7982232570648193,0.606041431427002,0.7781712412834167,0.8585416078567505,0.8213933706283569,0.6538294553756714,0.40038275718688965,0.5141617655754089,0.40832972526550293,0.57818204164505,0.6467007398605347,0.6406276822090149,0.7920655608177185,0.6562140583992004,0.6991482973098755,0.516640305519104,0.34392911195755005,0.5718357563018799,0.673637866973877,0.5301260948181152,0.679961085319519,0.46973517537117004,0.6060390472412109,0.6254684925079346,0.7367568016052246,0.49323034286499023,0.7067251205444336,0.521277904510498,0.3761104345321655,0.33190011978149414,0.5518010258674622,0.6717779636383057,0.6390457153320312,0.9034442901611328,0.6783871054649353,0.5512075424194336,0.4999280571937561,0.6922852396965027,0.8000834584236145,0.5008669495582581,0.49424827098846436,0.64653080701828,0.6382394433021545,0.639004647731781,0.6310797929763794,0.525981605052948,0.8805785179138184,0.8522545695304871,0.5538026094436646,0.8419597148895264,0.7545541524887085,0.6031086444854736,0.6504106521606445,0.8405374884605408,0.39370301365852356,0.6709566712379456,0.6368193030357361,0.5651667714118958,0.6782546043395996,0.28942883014678955,0.5668428540229797,0.5556362867355347,0.8192415833473206,0.5904314517974854,0.5290998220443726,0.8079811334609985,0.42977792024612427,0.5811727046966553,0.6149093508720398,0.759660005569458,0.28417736291885376,0.5376827120780945,0.4998732805252075,0.5258299708366394,0.7258856296539307,0.6101128458976746,0.5376753807067871,0.6831400394439697,0.8432787656784058,0.7169727087020874,0.6387714147567749,0.924925684928894,0.5187262892723083,0.6091389656066895,0.6420414447784424,0.49446678161621094,0.9604867696762085,0.7349027395248413,0.8470898866653442,0.5034499764442444,0.7837603688240051,0.6121606826782227,0.6531725525856018,1.001648187637329,0.6592893600463867,0.4725031852722168,0.24065405130386353,0.5906917452812195,0.5161154270172119,0.6507003307342529,0.7360081672668457,0.5365116000175476,0.6337664723396301,0.9576819539070129,0.6527413129806519,0.5954227447509766,0.8321301937103271,0.5117323398590088,0.5670202374458313,0.4977685809135437,0.6844053864479065,0.7411039471626282,0.6587641835212708,0.9581390619277954,0.43667036294937134,0.7523327469825745,0.6953136920928955,0.8047887682914734,0.7109004259109497,0.5614479780197144,0.4054253101348877,0.8850889801979065,0.789159893989563,1.1929726600646973,0.6197446584701538,0.6427902579307556,0.48423463106155396,0.9000104665756226,0.5583288669586182,0.7132269144058228,0.8540201783180237,0.6064997911453247,0.6269989013671875,0.47746598720550537,0.6154273748397827,0.9318007230758667,0.3919808268547058,0.6334196925163269,0.49094584584236145,0.799163818359375,0.3449613153934479,0.7400845885276794,0.7725158333778381,0.5376390218734741,0.6372939348220825,0.31186115741729736,0.7138845920562744,0.6876541376113892,0.8382502794265747,0.8208669424057007,0.7951022982597351,0.5838974714279175,0.7200620770454407,0.7202168703079224,0.47565957903862,0.45288610458374023,0.6579338312149048,0.5207856893539429,0.39373302459716797,0.7913735508918762,0.39382094144821167,0.7673746347427368,0.8995286822319031,0.9001861810684204,0.46739763021469116,0.732061505317688,0.7923824191093445,0.5926186442375183,0.5575761795043945,0.6797451972961426,0.6353723406791687,0.38193732500076294,0.6644954681396484,0.2979542016983032,0.5691837668418884,0.8309898376464844,0.49797189235687256,0.5685440897941589,0.36927106976509094,0.5178880095481873,0.606282114982605,0.7854904532432556,0.2040787935256958,0.7589520215988159,0.7668819427490234,0.8494123220443726,0.6058697700500488,0.9533960819244385,0.7257101535797119,0.6570559740066528,0.9982919096946716,0.3833502233028412,0.5007486939430237,0.1497490406036377,0.8355084657669067,0.458366334438324,0.15298247337341309,0.935979962348938,0.6579529047012329,0.9779382944107056,0.7686987519264221,0.5560777187347412,0.23420652747154236,0.6623637676239014,0.6585049629211426,0.3835744261741638,0.27452170848846436,0.8082225918769836,0.41800373792648315,0.4605485200881958,0.17136672139167786,1.0082670450210571,0.38709694147109985,0.3786318898200989,0.34219926595687866,0.4643101096153259,0.5278222560882568,0.8533639311790466,0.49356406927108765,0.7340856790542603,0.4525413513183594,0.5170130729675293,0.32071739435195923,0.12227049469947815,0.7977839708328247,0.47246548533439636,0.9000617265701294,0.5647475123405457,0.7181941270828247,0.2535066306591034,0.6980172991752625,0.3070141673088074,0.4844799041748047,0.6690451502799988,0.5071991682052612,0.8881930112838745,0.9523371458053589,0.3970240652561188,0.6535355448722839,0.20962730050086975,0.48835489153862,0.30047810077667236,0.4597017765045166,0.7400178909301758,0.4792010188102722,0.7388099431991577,0.3629915118217468,0.17522284388542175,0.8083784580230713,0.3882453441619873,0.7930317521095276,0.3476846218109131,0.46501776576042175,0.7396516799926758,0.8296541571617126,0.7125203609466553,0.1312451958656311,0.7420703172683716,0.9015184640884399,0.6767076253890991,0.5156954526901245,0.6880728006362915,0.4088824987411499,0.6558831930160522,0.4998014569282532,0.32893094420433044,0.4254712462425232,0.5562974810600281,0.6255078315734863,0.5801925659179688,0.24311238527297974,0.5939911603927612,0.5080049633979797,0.3751543164253235,0.3296564221382141,0.948995053768158,0.7638590335845947,0.3779819905757904,0.7229027152061462,0.6258300542831421,0.40840911865234375,0.5690550804138184,0.5913291573524475,0.9298362731933594,0.6641811728477478,0.7098809480667114,0.9098639488220215,0.8567067384719849,0.6630905866622925,0.4712942838668823,0.3913060128688812,0.5518358945846558,0.35532060265541077,0.2704963684082031,0.6673351526260376,0.7241452932357788,0.5845093727111816,0.40643054246902466,0.6917332410812378,0.8274434804916382,0.7637308239936829,0.22636938095092773,0.8241192102432251,0.6856761574745178,0.4939956068992615,0.5847655534744263,0.4003589153289795,0.4803197383880615,0.6236032247543335,0.27544572949409485,0.4637078642845154,0.5451070666313171,0.3446619212627411,0.5411738157272339,0.5623787641525269,0.3575589060783386,0.29524266719818115,0.707260251045227,0.5253355503082275,0.28782153129577637,0.016506969928741455,0.6318497061729431,0.5375138521194458,0.6307620406150818,0.6888051629066467,0.359676718711853,0.26564985513687134,0.5871851444244385,0.2987094223499298,0.7239707708358765,0.4597265124320984,0.7022807002067566,0.6553763151168823,0.28301987051963806,0.5062862634658813,0.49229538440704346,0.5488667488098145,0.6292566657066345,0.5822566151618958,0.8380667567253113,0.35462701320648193,0.10514330863952637,0.10231727361679077,0.43443822860717773,0.36309653520584106,0.5942813754081726,0.44595271348953247,0.3933008015155792,0.3447987735271454,0.8408432006835938,0.33553531765937805,0.743661642074585,0.13020071387290955,0.2339264154434204,0.4092501103878021,0.6106913089752197,0.24463415145874023,0.953713059425354,0.7209439873695374,0.3831932544708252,0.2375374436378479,0.5826019644737244,0.6821523904800415,0.0840069055557251,0.6379823088645935,0.7544434666633606,0.5439149141311646,0.49759620428085327,0.8829103112220764,0.07019904255867004,0.159222811460495,0.20807543396949768,0.6029227375984192,0.8899247646331787,0.5773284435272217,0.4290069043636322,0.6351231336593628,0.38961562514305115,0.23128977417945862,0.12679558992385864,0.3803251087665558,0.47128140926361084,0.7033148407936096,0.5947991013526917,0.21394383907318115,0.5844781994819641,0.39289388060569763,0.8285477161407471,0.7835925817489624,0.8558279871940613,0.4521806836128235,0.12695127725601196,0.8255648612976074,0.2686970829963684,0.8338428139686584,0.7133941650390625,0.4639492630958557,0.7664980888366699,0.659699559211731,0.4551028907299042,0.17748108506202698,0.7556722164154053,0.7457253336906433,0.5272651314735413,0.3928118646144867,0.8092243671417236,0.6129746437072754,0.7283169627189636,0.7253773808479309,0.8555396795272827,0.2518892288208008,0.360984206199646,0.6835139989852905,0.8641104698181152,0.785033106803894,0.19476261734962463,-0.1676906943321228,0.4661940336227417,0.5360767841339111,0.6861894130706787,0.48883920907974243,0.5861058235168457,0.6987029314041138,0.9121642112731934,0.7912992238998413,0.7390784025192261,0.36548447608947754,0.4342612624168396,0.6651688814163208,0.74022376537323,0.6933054327964783,0.5411155223846436,0.1740729808807373,0.6151115298271179,0.348147451877594,0.3803309202194214,0.7429333329200745,0.510046124458313,0.37786129117012024,0.46257519721984863,0.1976078748703003,0.4348265826702118,0.4304583966732025,0.4060104489326477,0.41149401664733887,0.35279494524002075,0.2743406891822815,0.2679171562194824,0.7211631536483765,-0.09683388471603394,0.32893767952919006],\"type\":\"scatter\",\"xaxis\":\"x\",\"yaxis\":\"y2\"}],                        {\"template\":{\"data\":{\"histogram2dcontour\":[{\"type\":\"histogram2dcontour\",\"colorbar\":{\"outlinewidth\":0,\"ticks\":\"\"},\"colorscale\":[[0.0,\"#0d0887\"],[0.1111111111111111,\"#46039f\"],[0.2222222222222222,\"#7201a8\"],[0.3333333333333333,\"#9c179e\"],[0.4444444444444444,\"#bd3786\"],[0.5555555555555556,\"#d8576b\"],[0.6666666666666666,\"#ed7953\"],[0.7777777777777778,\"#fb9f3a\"],[0.8888888888888888,\"#fdca26\"],[1.0,\"#f0f921\"]]}],\"choropleth\":[{\"type\":\"choropleth\",\"colorbar\":{\"outlinewidth\":0,\"ticks\":\"\"}}],\"histogram2d\":[{\"type\":\"histogram2d\",\"colorbar\":{\"outlinewidth\":0,\"ticks\":\"\"},\"colorscale\":[[0.0,\"#0d0887\"],[0.1111111111111111,\"#46039f\"],[0.2222222222222222,\"#7201a8\"],[0.3333333333333333,\"#9c179e\"],[0.4444444444444444,\"#bd3786\"],[0.5555555555555556,\"#d8576b\"],[0.6666666666666666,\"#ed7953\"],[0.7777777777777778,\"#fb9f3a\"],[0.8888888888888888,\"#fdca26\"],[1.0,\"#f0f921\"]]}],\"heatmap\":[{\"type\":\"heatmap\",\"colorbar\":{\"outlinewidth\":0,\"ticks\":\"\"},\"colorscale\":[[0.0,\"#0d0887\"],[0.1111111111111111,\"#46039f\"],[0.2222222222222222,\"#7201a8\"],[0.3333333333333333,\"#9c179e\"],[0.4444444444444444,\"#bd3786\"],[0.5555555555555556,\"#d8576b\"],[0.6666666666666666,\"#ed7953\"],[0.7777777777777778,\"#fb9f3a\"],[0.8888888888888888,\"#fdca26\"],[1.0,\"#f0f921\"]]}],\"heatmapgl\":[{\"type\":\"heatmapgl\",\"colorbar\":{\"outlinewidth\":0,\"ticks\":\"\"},\"colorscale\":[[0.0,\"#0d0887\"],[0.1111111111111111,\"#46039f\"],[0.2222222222222222,\"#7201a8\"],[0.3333333333333333,\"#9c179e\"],[0.4444444444444444,\"#bd3786\"],[0.5555555555555556,\"#d8576b\"],[0.6666666666666666,\"#ed7953\"],[0.7777777777777778,\"#fb9f3a\"],[0.8888888888888888,\"#fdca26\"],[1.0,\"#f0f921\"]]}],\"contourcarpet\":[{\"type\":\"contourcarpet\",\"colorbar\":{\"outlinewidth\":0,\"ticks\":\"\"}}],\"contour\":[{\"type\":\"contour\",\"colorbar\":{\"outlinewidth\":0,\"ticks\":\"\"},\"colorscale\":[[0.0,\"#0d0887\"],[0.1111111111111111,\"#46039f\"],[0.2222222222222222,\"#7201a8\"],[0.3333333333333333,\"#9c179e\"],[0.4444444444444444,\"#bd3786\"],[0.5555555555555556,\"#d8576b\"],[0.6666666666666666,\"#ed7953\"],[0.7777777777777778,\"#fb9f3a\"],[0.8888888888888888,\"#fdca26\"],[1.0,\"#f0f921\"]]}],\"surface\":[{\"type\":\"surface\",\"colorbar\":{\"outlinewidth\":0,\"ticks\":\"\"},\"colorscale\":[[0.0,\"#0d0887\"],[0.1111111111111111,\"#46039f\"],[0.2222222222222222,\"#7201a8\"],[0.3333333333333333,\"#9c179e\"],[0.4444444444444444,\"#bd3786\"],[0.5555555555555556,\"#d8576b\"],[0.6666666666666666,\"#ed7953\"],[0.7777777777777778,\"#fb9f3a\"],[0.8888888888888888,\"#fdca26\"],[1.0,\"#f0f921\"]]}],\"mesh3d\":[{\"type\":\"mesh3d\",\"colorbar\":{\"outlinewidth\":0,\"ticks\":\"\"}}],\"scatter\":[{\"fillpattern\":{\"fillmode\":\"overlay\",\"size\":10,\"solidity\":0.2},\"type\":\"scatter\"}],\"parcoords\":[{\"type\":\"parcoords\",\"line\":{\"colorbar\":{\"outlinewidth\":0,\"ticks\":\"\"}}}],\"scatterpolargl\":[{\"type\":\"scatterpolargl\",\"marker\":{\"colorbar\":{\"outlinewidth\":0,\"ticks\":\"\"}}}],\"bar\":[{\"error_x\":{\"color\":\"#2a3f5f\"},\"error_y\":{\"color\":\"#2a3f5f\"},\"marker\":{\"line\":{\"color\":\"#E5ECF6\",\"width\":0.5},\"pattern\":{\"fillmode\":\"overlay\",\"size\":10,\"solidity\":0.2}},\"type\":\"bar\"}],\"scattergeo\":[{\"type\":\"scattergeo\",\"marker\":{\"colorbar\":{\"outlinewidth\":0,\"ticks\":\"\"}}}],\"scatterpolar\":[{\"type\":\"scatterpolar\",\"marker\":{\"colorbar\":{\"outlinewidth\":0,\"ticks\":\"\"}}}],\"histogram\":[{\"marker\":{\"pattern\":{\"fillmode\":\"overlay\",\"size\":10,\"solidity\":0.2}},\"type\":\"histogram\"}],\"scattergl\":[{\"type\":\"scattergl\",\"marker\":{\"colorbar\":{\"outlinewidth\":0,\"ticks\":\"\"}}}],\"scatter3d\":[{\"type\":\"scatter3d\",\"line\":{\"colorbar\":{\"outlinewidth\":0,\"ticks\":\"\"}},\"marker\":{\"colorbar\":{\"outlinewidth\":0,\"ticks\":\"\"}}}],\"scattermapbox\":[{\"type\":\"scattermapbox\",\"marker\":{\"colorbar\":{\"outlinewidth\":0,\"ticks\":\"\"}}}],\"scatterternary\":[{\"type\":\"scatterternary\",\"marker\":{\"colorbar\":{\"outlinewidth\":0,\"ticks\":\"\"}}}],\"scattercarpet\":[{\"type\":\"scattercarpet\",\"marker\":{\"colorbar\":{\"outlinewidth\":0,\"ticks\":\"\"}}}],\"carpet\":[{\"aaxis\":{\"endlinecolor\":\"#2a3f5f\",\"gridcolor\":\"white\",\"linecolor\":\"white\",\"minorgridcolor\":\"white\",\"startlinecolor\":\"#2a3f5f\"},\"baxis\":{\"endlinecolor\":\"#2a3f5f\",\"gridcolor\":\"white\",\"linecolor\":\"white\",\"minorgridcolor\":\"white\",\"startlinecolor\":\"#2a3f5f\"},\"type\":\"carpet\"}],\"table\":[{\"cells\":{\"fill\":{\"color\":\"#EBF0F8\"},\"line\":{\"color\":\"white\"}},\"header\":{\"fill\":{\"color\":\"#C8D4E3\"},\"line\":{\"color\":\"white\"}},\"type\":\"table\"}],\"barpolar\":[{\"marker\":{\"line\":{\"color\":\"#E5ECF6\",\"width\":0.5},\"pattern\":{\"fillmode\":\"overlay\",\"size\":10,\"solidity\":0.2}},\"type\":\"barpolar\"}],\"pie\":[{\"automargin\":true,\"type\":\"pie\"}]},\"layout\":{\"autotypenumbers\":\"strict\",\"colorway\":[\"#636efa\",\"#EF553B\",\"#00cc96\",\"#ab63fa\",\"#FFA15A\",\"#19d3f3\",\"#FF6692\",\"#B6E880\",\"#FF97FF\",\"#FECB52\"],\"font\":{\"color\":\"#2a3f5f\"},\"hovermode\":\"closest\",\"hoverlabel\":{\"align\":\"left\"},\"paper_bgcolor\":\"white\",\"plot_bgcolor\":\"#E5ECF6\",\"polar\":{\"bgcolor\":\"#E5ECF6\",\"angularaxis\":{\"gridcolor\":\"white\",\"linecolor\":\"white\",\"ticks\":\"\"},\"radialaxis\":{\"gridcolor\":\"white\",\"linecolor\":\"white\",\"ticks\":\"\"}},\"ternary\":{\"bgcolor\":\"#E5ECF6\",\"aaxis\":{\"gridcolor\":\"white\",\"linecolor\":\"white\",\"ticks\":\"\"},\"baxis\":{\"gridcolor\":\"white\",\"linecolor\":\"white\",\"ticks\":\"\"},\"caxis\":{\"gridcolor\":\"white\",\"linecolor\":\"white\",\"ticks\":\"\"}},\"coloraxis\":{\"colorbar\":{\"outlinewidth\":0,\"ticks\":\"\"}},\"colorscale\":{\"sequential\":[[0.0,\"#0d0887\"],[0.1111111111111111,\"#46039f\"],[0.2222222222222222,\"#7201a8\"],[0.3333333333333333,\"#9c179e\"],[0.4444444444444444,\"#bd3786\"],[0.5555555555555556,\"#d8576b\"],[0.6666666666666666,\"#ed7953\"],[0.7777777777777778,\"#fb9f3a\"],[0.8888888888888888,\"#fdca26\"],[1.0,\"#f0f921\"]],\"sequentialminus\":[[0.0,\"#0d0887\"],[0.1111111111111111,\"#46039f\"],[0.2222222222222222,\"#7201a8\"],[0.3333333333333333,\"#9c179e\"],[0.4444444444444444,\"#bd3786\"],[0.5555555555555556,\"#d8576b\"],[0.6666666666666666,\"#ed7953\"],[0.7777777777777778,\"#fb9f3a\"],[0.8888888888888888,\"#fdca26\"],[1.0,\"#f0f921\"]],\"diverging\":[[0,\"#8e0152\"],[0.1,\"#c51b7d\"],[0.2,\"#de77ae\"],[0.3,\"#f1b6da\"],[0.4,\"#fde0ef\"],[0.5,\"#f7f7f7\"],[0.6,\"#e6f5d0\"],[0.7,\"#b8e186\"],[0.8,\"#7fbc41\"],[0.9,\"#4d9221\"],[1,\"#276419\"]]},\"xaxis\":{\"gridcolor\":\"white\",\"linecolor\":\"white\",\"ticks\":\"\",\"title\":{\"standoff\":15},\"zerolinecolor\":\"white\",\"automargin\":true,\"zerolinewidth\":2},\"yaxis\":{\"gridcolor\":\"white\",\"linecolor\":\"white\",\"ticks\":\"\",\"title\":{\"standoff\":15},\"zerolinecolor\":\"white\",\"automargin\":true,\"zerolinewidth\":2},\"scene\":{\"xaxis\":{\"backgroundcolor\":\"#E5ECF6\",\"gridcolor\":\"white\",\"linecolor\":\"white\",\"showbackground\":true,\"ticks\":\"\",\"zerolinecolor\":\"white\",\"gridwidth\":2},\"yaxis\":{\"backgroundcolor\":\"#E5ECF6\",\"gridcolor\":\"white\",\"linecolor\":\"white\",\"showbackground\":true,\"ticks\":\"\",\"zerolinecolor\":\"white\",\"gridwidth\":2},\"zaxis\":{\"backgroundcolor\":\"#E5ECF6\",\"gridcolor\":\"white\",\"linecolor\":\"white\",\"showbackground\":true,\"ticks\":\"\",\"zerolinecolor\":\"white\",\"gridwidth\":2}},\"shapedefaults\":{\"line\":{\"color\":\"#2a3f5f\"}},\"annotationdefaults\":{\"arrowcolor\":\"#2a3f5f\",\"arrowhead\":0,\"arrowwidth\":1},\"geo\":{\"bgcolor\":\"white\",\"landcolor\":\"#E5ECF6\",\"subunitcolor\":\"white\",\"showland\":true,\"showlakes\":true,\"lakecolor\":\"white\"},\"title\":{\"x\":0.05},\"mapbox\":{\"style\":\"light\"}}},\"xaxis\":{\"anchor\":\"y\",\"domain\":[0.0,0.94],\"title\":{\"text\":\"Couple of sentences\"}},\"yaxis\":{\"anchor\":\"x\",\"domain\":[0.0,1.0]},\"yaxis2\":{\"anchor\":\"x\",\"overlaying\":\"y\",\"side\":\"right\",\"title\":{\"text\":\"Prediction\"}},\"title\":{\"text\":\"Results\"}},                        {\"responsive\": true}                    ).then(function(){\n",
              "                            \n",
              "var gd = document.getElementById('55e6f0b8-f343-4b56-b34b-8f1a68fcb751');\n",
              "var x = new MutationObserver(function (mutations, observer) {{\n",
              "        var display = window.getComputedStyle(gd).display;\n",
              "        if (!display || display === 'none') {{\n",
              "            console.log([gd, 'removed!']);\n",
              "            Plotly.purge(gd);\n",
              "            observer.disconnect();\n",
              "        }}\n",
              "}});\n",
              "\n",
              "// Listen for the removal of the full notebook cells\n",
              "var notebookContainer = gd.closest('#notebook-container');\n",
              "if (notebookContainer) {{\n",
              "    x.observe(notebookContainer, {childList: true});\n",
              "}}\n",
              "\n",
              "// Listen for the clearing of the current output cell\n",
              "var outputEl = gd.closest('.output');\n",
              "if (outputEl) {{\n",
              "    x.observe(outputEl, {childList: true});\n",
              "}}\n",
              "\n",
              "                        })                };                            </script>        </div>\n",
              "</body>\n",
              "</html>"
            ]
          },
          "metadata": {}
        }
      ]
    },
    {
      "cell_type": "code",
      "source": [
        "from sklearn.linear_model import PoissonRegressor\n",
        "\n",
        "model = PoissonRegressor()\n",
        "model.fit(X_train, y_train)"
      ],
      "metadata": {
        "colab": {
          "base_uri": "https://localhost:8080/",
          "height": 75
        },
        "id": "2GBKEzVpUAz-",
        "outputId": "edb17714-7f50-4e06-a504-6c5b40749eaf"
      },
      "execution_count": 32,
      "outputs": [
        {
          "output_type": "execute_result",
          "data": {
            "text/plain": [
              "PoissonRegressor()"
            ],
            "text/html": [
              "<style>#sk-container-id-2 {color: black;background-color: white;}#sk-container-id-2 pre{padding: 0;}#sk-container-id-2 div.sk-toggleable {background-color: white;}#sk-container-id-2 label.sk-toggleable__label {cursor: pointer;display: block;width: 100%;margin-bottom: 0;padding: 0.3em;box-sizing: border-box;text-align: center;}#sk-container-id-2 label.sk-toggleable__label-arrow:before {content: \"▸\";float: left;margin-right: 0.25em;color: #696969;}#sk-container-id-2 label.sk-toggleable__label-arrow:hover:before {color: black;}#sk-container-id-2 div.sk-estimator:hover label.sk-toggleable__label-arrow:before {color: black;}#sk-container-id-2 div.sk-toggleable__content {max-height: 0;max-width: 0;overflow: hidden;text-align: left;background-color: #f0f8ff;}#sk-container-id-2 div.sk-toggleable__content pre {margin: 0.2em;color: black;border-radius: 0.25em;background-color: #f0f8ff;}#sk-container-id-2 input.sk-toggleable__control:checked~div.sk-toggleable__content {max-height: 200px;max-width: 100%;overflow: auto;}#sk-container-id-2 input.sk-toggleable__control:checked~label.sk-toggleable__label-arrow:before {content: \"▾\";}#sk-container-id-2 div.sk-estimator input.sk-toggleable__control:checked~label.sk-toggleable__label {background-color: #d4ebff;}#sk-container-id-2 div.sk-label input.sk-toggleable__control:checked~label.sk-toggleable__label {background-color: #d4ebff;}#sk-container-id-2 input.sk-hidden--visually {border: 0;clip: rect(1px 1px 1px 1px);clip: rect(1px, 1px, 1px, 1px);height: 1px;margin: -1px;overflow: hidden;padding: 0;position: absolute;width: 1px;}#sk-container-id-2 div.sk-estimator {font-family: monospace;background-color: #f0f8ff;border: 1px dotted black;border-radius: 0.25em;box-sizing: border-box;margin-bottom: 0.5em;}#sk-container-id-2 div.sk-estimator:hover {background-color: #d4ebff;}#sk-container-id-2 div.sk-parallel-item::after {content: \"\";width: 100%;border-bottom: 1px solid gray;flex-grow: 1;}#sk-container-id-2 div.sk-label:hover label.sk-toggleable__label {background-color: #d4ebff;}#sk-container-id-2 div.sk-serial::before {content: \"\";position: absolute;border-left: 1px solid gray;box-sizing: border-box;top: 0;bottom: 0;left: 50%;z-index: 0;}#sk-container-id-2 div.sk-serial {display: flex;flex-direction: column;align-items: center;background-color: white;padding-right: 0.2em;padding-left: 0.2em;position: relative;}#sk-container-id-2 div.sk-item {position: relative;z-index: 1;}#sk-container-id-2 div.sk-parallel {display: flex;align-items: stretch;justify-content: center;background-color: white;position: relative;}#sk-container-id-2 div.sk-item::before, #sk-container-id-2 div.sk-parallel-item::before {content: \"\";position: absolute;border-left: 1px solid gray;box-sizing: border-box;top: 0;bottom: 0;left: 50%;z-index: -1;}#sk-container-id-2 div.sk-parallel-item {display: flex;flex-direction: column;z-index: 1;position: relative;background-color: white;}#sk-container-id-2 div.sk-parallel-item:first-child::after {align-self: flex-end;width: 50%;}#sk-container-id-2 div.sk-parallel-item:last-child::after {align-self: flex-start;width: 50%;}#sk-container-id-2 div.sk-parallel-item:only-child::after {width: 0;}#sk-container-id-2 div.sk-dashed-wrapped {border: 1px dashed gray;margin: 0 0.4em 0.5em 0.4em;box-sizing: border-box;padding-bottom: 0.4em;background-color: white;}#sk-container-id-2 div.sk-label label {font-family: monospace;font-weight: bold;display: inline-block;line-height: 1.2em;}#sk-container-id-2 div.sk-label-container {text-align: center;}#sk-container-id-2 div.sk-container {/* jupyter's `normalize.less` sets `[hidden] { display: none; }` but bootstrap.min.css set `[hidden] { display: none !important; }` so we also need the `!important` here to be able to override the default hidden behavior on the sphinx rendered scikit-learn.org. See: https://github.com/scikit-learn/scikit-learn/issues/21755 */display: inline-block !important;position: relative;}#sk-container-id-2 div.sk-text-repr-fallback {display: none;}</style><div id=\"sk-container-id-2\" class=\"sk-top-container\"><div class=\"sk-text-repr-fallback\"><pre>PoissonRegressor()</pre><b>In a Jupyter environment, please rerun this cell to show the HTML representation or trust the notebook. <br />On GitHub, the HTML representation is unable to render, please try loading this page with nbviewer.org.</b></div><div class=\"sk-container\" hidden><div class=\"sk-item\"><div class=\"sk-estimator sk-toggleable\"><input class=\"sk-toggleable__control sk-hidden--visually\" id=\"sk-estimator-id-2\" type=\"checkbox\" checked><label for=\"sk-estimator-id-2\" class=\"sk-toggleable__label sk-toggleable__label-arrow\">PoissonRegressor</label><div class=\"sk-toggleable__content\"><pre>PoissonRegressor()</pre></div></div></div></div></div>"
            ]
          },
          "metadata": {},
          "execution_count": 32
        }
      ]
    },
    {
      "cell_type": "code",
      "source": [
        "y_pred = model.predict(x_test)"
      ],
      "metadata": {
        "id": "nNcMVqrzJ1dR"
      },
      "execution_count": 33,
      "outputs": []
    },
    {
      "cell_type": "code",
      "source": [
        "print(\"MAE train: \", metrics.mean_absolute_error(y_train, model.predict(X_train))) \n",
        "print(\"MSE train: \",metrics.mean_squared_error(y_train, model.predict(X_train)))\n",
        "print(\"RMSE train: \",np.sqrt(metrics.mean_squared_error(y_train, model.predict(X_train))))\n",
        "print(\"r2: \",metrics.r2_score(y_train, model.predict(X_train)))\n",
        "\n",
        "print(\"MAE test: \", metrics.mean_absolute_error(y_test, model.predict(x_test))) \n",
        "print(\"MSE test: \",metrics.mean_squared_error(y_test, model.predict(x_test)))\n",
        "print(\"RMSE test: \",np.sqrt(metrics.mean_squared_error(y_test, model.predict(x_test))))\n",
        "print(\"r2: \", metrics.r2_score(y_test, model.predict(x_test)))"
      ],
      "metadata": {
        "colab": {
          "base_uri": "https://localhost:8080/"
        },
        "id": "tRQ50SWkI-tm",
        "outputId": "cbec9535-1046-4e90-d3ac-ac54a3c2260c"
      },
      "execution_count": 34,
      "outputs": [
        {
          "output_type": "stream",
          "name": "stdout",
          "text": [
            "MAE train:  0.25279438166235735\n",
            "MSE train:  0.08713479726422668\n",
            "RMSE train:  0.29518603839651136\n",
            "r2:  0.0028715637122120885\n",
            "MAE test:  0.26103884200811284\n",
            "MSE test:  0.09278434019193561\n",
            "RMSE test:  0.30460522023093367\n",
            "r2:  0.0025401256042009157\n"
          ]
        }
      ]
    },
    {
      "cell_type": "code",
      "source": [
        "import plotly.graph_objects as go\n",
        "from plotly.subplots import make_subplots\n",
        "\n",
        "fig = make_subplots(specs=[[{\"secondary_y\": True}]])\n",
        "x_ax=np.array(range(0,len(y_test)))\n",
        "fig.add_trace(\n",
        "    go.Scatter(x=x_ax, y=y_test, name=\"True\"),\n",
        "    secondary_y=True,)\n",
        "fig.add_trace(\n",
        "    go.Scatter(x=x_ax, y=y_pred, name=\"Predicition\"),\n",
        "    secondary_y=True,)\n",
        "fig.update_layout(\n",
        "    title_text=\"Results\")\n",
        "fig.update_xaxes(title_text=\"Couple of sentences\")\n",
        "fig.update_yaxes(title_text=\"True\", secondary_y=True)\n",
        "fig.update_yaxes(title_text=\"Prediction\", secondary_y=True)\n",
        "\n",
        "fig.show()"
      ],
      "metadata": {
        "colab": {
          "base_uri": "https://localhost:8080/",
          "height": 542
        },
        "id": "S3X3EfjF6ZvX",
        "outputId": "0a3c86ce-b966-47c1-dd09-b39c1b629b96"
      },
      "execution_count": 35,
      "outputs": [
        {
          "output_type": "display_data",
          "data": {
            "text/html": [
              "<html>\n",
              "<head><meta charset=\"utf-8\" /></head>\n",
              "<body>\n",
              "    <div>            <script src=\"https://cdnjs.cloudflare.com/ajax/libs/mathjax/2.7.5/MathJax.js?config=TeX-AMS-MML_SVG\"></script><script type=\"text/javascript\">if (window.MathJax && window.MathJax.Hub && window.MathJax.Hub.Config) {window.MathJax.Hub.Config({SVG: {font: \"STIX-Web\"}});}</script>                <script type=\"text/javascript\">window.PlotlyConfig = {MathJaxConfig: 'local'};</script>\n",
              "        <script src=\"https://cdn.plot.ly/plotly-2.18.2.min.js\"></script>                <div id=\"3d52da50-f44b-4a65-a048-83b48fa22cfa\" class=\"plotly-graph-div\" style=\"height:525px; width:100%;\"></div>            <script type=\"text/javascript\">                                    window.PLOTLYENV=window.PLOTLYENV || {};                                    if (document.getElementById(\"3d52da50-f44b-4a65-a048-83b48fa22cfa\")) {                    Plotly.newPlot(                        \"3d52da50-f44b-4a65-a048-83b48fa22cfa\",                        [{\"name\":\"True\",\"x\":[0,1,2,3,4,5,6,7,8,9,10,11,12,13,14,15,16,17,18,19,20,21,22,23,24,25,26,27,28,29,30,31,32,33,34,35,36,37,38,39,40,41,42,43,44,45,46,47,48,49,50,51,52,53,54,55,56,57,58,59,60,61,62,63,64,65,66,67,68,69,70,71,72,73,74,75,76,77,78,79,80,81,82,83,84,85,86,87,88,89,90,91,92,93,94,95,96,97,98,99,100,101,102,103,104,105,106,107,108,109,110,111,112,113,114,115,116,117,118,119,120,121,122,123,124,125,126,127,128,129,130,131,132,133,134,135,136,137,138,139,140,141,142,143,144,145,146,147,148,149,150,151,152,153,154,155,156,157,158,159,160,161,162,163,164,165,166,167,168,169,170,171,172,173,174,175,176,177,178,179,180,181,182,183,184,185,186,187,188,189,190,191,192,193,194,195,196,197,198,199,200,201,202,203,204,205,206,207,208,209,210,211,212,213,214,215,216,217,218,219,220,221,222,223,224,225,226,227,228,229,230,231,232,233,234,235,236,237,238,239,240,241,242,243,244,245,246,247,248,249,250,251,252,253,254,255,256,257,258,259,260,261,262,263,264,265,266,267,268,269,270,271,272,273,274,275,276,277,278,279,280,281,282,283,284,285,286,287,288,289,290,291,292,293,294,295,296,297,298,299,300,301,302,303,304,305,306,307,308,309,310,311,312,313,314,315,316,317,318,319,320,321,322,323,324,325,326,327,328,329,330,331,332,333,334,335,336,337,338,339,340,341,342,343,344,345,346,347,348,349,350,351,352,353,354,355,356,357,358,359,360,361,362,363,364,365,366,367,368,369,370,371,372,373,374,375,376,377,378,379,380,381,382,383,384,385,386,387,388,389,390,391,392,393,394,395,396,397,398,399,400,401,402,403,404,405,406,407,408,409,410,411,412,413,414,415,416,417,418,419,420,421,422,423,424,425,426,427,428,429,430,431,432,433,434,435,436,437,438,439,440,441,442,443,444,445,446,447,448,449,450,451,452,453,454,455,456,457,458,459,460,461,462,463,464,465,466,467,468,469,470,471,472,473,474,475,476,477,478,479,480,481,482,483,484,485,486,487,488,489,490,491,492,493,494,495,496,497,498,499,500,501,502,503,504,505,506,507,508,509,510,511,512,513,514,515,516,517,518,519,520,521,522,523,524,525,526,527,528,529,530,531,532,533,534,535,536,537,538,539,540,541,542,543,544,545,546,547,548,549,550,551,552,553,554,555,556,557,558,559,560,561,562,563,564,565,566,567,568,569,570,571,572,573,574,575,576,577,578,579,580,581,582,583,584,585,586,587,588,589,590,591,592,593,594,595,596,597,598,599,600,601,602,603,604,605,606,607,608,609,610,611,612,613,614,615,616,617,618,619,620,621,622,623,624,625,626,627,628,629,630,631,632,633,634,635,636,637,638,639,640,641,642,643,644,645,646,647,648,649,650,651,652,653,654,655,656,657,658,659,660,661,662,663,664,665,666,667,668,669,670,671,672,673,674,675,676,677,678,679,680,681,682,683,684,685,686,687,688,689,690,691,692,693,694,695,696,697,698,699,700,701,702,703,704,705,706,707,708,709,710,711,712,713,714,715,716,717,718,719,720,721,722,723,724,725,726,727,728,729,730,731,732,733,734,735,736,737,738,739,740,741,742,743,744,745,746,747,748,749,750,751,752,753,754,755,756,757,758,759,760,761,762,763,764,765,766,767,768,769,770,771,772,773,774,775,776,777,778,779,780,781,782,783,784,785,786,787,788,789,790,791,792,793,794,795,796,797,798,799,800,801,802,803,804,805,806,807,808,809,810,811,812,813,814,815,816,817,818,819,820,821,822,823,824,825,826,827,828,829,830,831,832,833,834,835,836,837,838,839,840,841,842,843,844,845,846,847,848,849,850,851,852,853,854,855,856,857,858,859,860,861,862,863,864,865,866,867,868,869,870,871,872,873,874,875,876,877,878,879,880,881,882,883,884,885,886,887,888,889,890,891,892,893,894,895,896,897,898,899,900,901,902,903,904,905,906,907,908,909,910,911,912,913,914,915,916,917,918,919,920,921,922,923,924,925,926,927,928,929,930,931,932,933,934,935,936,937,938,939,940,941,942,943,944,945,946,947,948,949,950,951,952,953,954,955,956,957,958,959,960,961,962,963,964,965,966,967,968,969,970,971,972,973,974,975,976,977,978,979,980,981,982,983,984,985,986,987,988,989,990,991,992,993,994,995,996,997,998,999,1000,1001,1002,1003,1004,1005,1006,1007,1008,1009,1010,1011,1012,1013,1014,1015,1016,1017,1018,1019,1020,1021,1022,1023,1024,1025,1026,1027,1028,1029,1030,1031,1032,1033,1034,1035,1036,1037,1038,1039,1040,1041,1042,1043,1044,1045,1046,1047,1048,1049,1050,1051,1052,1053,1054,1055,1056,1057,1058,1059,1060,1061,1062,1063,1064,1065,1066,1067,1068,1069,1070,1071,1072,1073,1074,1075,1076,1077,1078,1079,1080,1081,1082,1083,1084,1085,1086,1087,1088,1089,1090,1091,1092,1093,1094,1095,1096,1097,1098,1099,1100,1101,1102,1103,1104,1105,1106,1107,1108,1109,1110,1111,1112,1113,1114,1115,1116,1117,1118,1119,1120,1121,1122,1123,1124,1125,1126,1127,1128,1129,1130,1131,1132,1133,1134,1135,1136,1137,1138,1139,1140,1141,1142,1143,1144,1145,1146,1147,1148,1149,1150,1151,1152,1153,1154,1155,1156,1157,1158,1159,1160,1161,1162,1163,1164,1165,1166,1167,1168,1169,1170,1171,1172,1173,1174,1175,1176,1177,1178,1179,1180,1181,1182,1183,1184,1185,1186,1187,1188,1189,1190,1191,1192,1193,1194,1195,1196,1197,1198,1199,1200,1201,1202,1203,1204,1205,1206,1207,1208,1209,1210,1211,1212,1213,1214,1215,1216,1217,1218,1219,1220,1221,1222,1223,1224,1225,1226,1227,1228,1229,1230,1231,1232,1233,1234,1235,1236,1237,1238,1239,1240,1241,1242,1243,1244,1245,1246,1247,1248,1249,1250,1251,1252,1253,1254,1255,1256,1257,1258,1259,1260,1261,1262,1263,1264,1265,1266,1267,1268,1269,1270,1271,1272,1273,1274,1275,1276,1277,1278,1279,1280,1281,1282,1283,1284,1285,1286,1287,1288,1289,1290,1291,1292,1293,1294,1295,1296,1297,1298,1299,1300,1301,1302,1303,1304,1305,1306,1307,1308,1309,1310,1311,1312,1313,1314,1315,1316,1317,1318,1319,1320,1321,1322,1323,1324,1325,1326,1327,1328,1329,1330,1331,1332,1333,1334,1335,1336,1337,1338,1339,1340,1341,1342,1343,1344,1345,1346,1347,1348,1349,1350,1351,1352,1353,1354,1355,1356,1357,1358,1359,1360,1361,1362,1363,1364,1365,1366,1367,1368,1369,1370,1371,1372,1373,1374,1375,1376,1377,1378],\"y\":[0.5,0.7200000000000001,1.0,0.8400000000000001,0.30000000000000004,0.36000000000000004,0.7000000000000001,0.44000000000000006,0.44000000000000006,0.3428,0.3428,1.0,0.12,0.8800000000000001,0.4,0.36000000000000004,0.8800000000000001,0.7200000000000001,0.7200000000000001,0.24,0.48,0.04000000000000001,0.8400000000000001,0.8800000000000001,0.45,0.4,0.15000000000000002,0.44000000000000006,0.16000000000000003,0.44000000000000006,0.6400000000000001,0.96,0.27999999999999997,0.8500000000000001,0.68,0.10660000000000001,0.08000000000000002,0.24,1.0,0.10760000000000002,0.75,0.6000000000000001,0.7200000000000001,0.1,0.30000000000000004,0.16000000000000003,0.16000000000000003,0.12,0.8800000000000001,0.35000000000000003,0.08000000000000002,0.27999999999999997,0.08000000000000002,0.16000000000000003,0.4,0.026600000000000002,0.8,0.0534,0.68,0.24,1.0,0.0,0.76,0.15000000000000002,0.68,0.0,0.04000000000000001,0.8,0.1,0.76,0.48,0.9500000000000001,0.0,0.75,0.52,0.0,0.15000000000000002,0.0,0.76,0.5599999999999999,0.0,0.16000000000000003,0.6000000000000001,0.2,0.0,0.2,0.68,1.0,0.46660000000000007,0.27999999999999997,0.15000000000000002,0.7076,0.16000000000000003,0.7000000000000001,0.4,0.9500000000000001,0.8,0.9,0.30000000000000004,0.48,0.0,0.08000000000000002,0.5,0.52,0.7200000000000001,0.6000000000000001,0.0,0.32000000000000006,0.25,0.7200000000000001,0.4,0.7200000000000001,0.5599999999999999,0.8800000000000001,0.0,0.0,0.75,0.5,0.0,0.16000000000000003,0.2,0.0,0.05,0.08000000000000002,0.0,1.0,0.06,0.55,1.0,0.8500000000000001,0.68,0.32000000000000006,0.52,1.0,0.6400000000000001,0.96,1.0,0.48,0.4,1.0,1.0,0.68,0.9,0.8400000000000001,0.44000000000000006,0.48,0.76,0.5,0.4,0.15000000000000002,0.4,0.44000000000000006,0.8,0.6400000000000001,0.76,0.75,0.1,0.16000000000000003,1.0,0.24,1.0,0.5599999999999999,0.24,0.6400000000000001,0.9199999999999999,0.8,0.76,0.68,0.9199999999999999,0.52,0.36000000000000004,0.15000000000000002,0.8,0.55,0.76,0.52,0.4,0.76,0.1166,0.08000000000000002,0.05,0.5599999999999999,0.6400000000000001,0.1,0.45,0.0,0.0,0.0616,0.15000000000000002,0.08000000000000002,0.8400000000000001,0.75,0.32000000000000006,0.6000000000000001,0.8,0.6000000000000001,0.75,0.08000000000000002,0.0,0.6000000000000001,0.08000000000000002,0.08000000000000002,0.05,0.05,0.08000000000000002,0.08000000000000002,0.6400000000000001,0.0,0.44000000000000006,0.16000000000000003,0.16000000000000003,0.06,0.0,0.15000000000000002,0.46660000000000007,0.2666,0.24,0.8400000000000001,0.76,0.6000000000000001,0.1,0.0,0.0666,0.30000000000000004,0.033400000000000006,0.1,0.25,0.32000000000000006,0.0,0.2,0.0,0.0,0.8,0.55,0.6666000000000001,0.7000000000000001,0.0376,0.0,0.05,0.0728,0.6400000000000001,0.0,0.0,0.0,0.35000000000000003,0.0,0.55,0.36000000000000004,0.0,0.0,0.5599999999999999,0.8800000000000001,0.8,0.52,0.24,0.6400000000000001,0.16000000000000003,0.68,0.4,0.0,0.9199999999999999,0.8,0.76,0.8,0.5599999999999999,0.7200000000000001,0.36000000000000004,0.7200000000000001,0.24,1.0,0.8,0.0,0.68,0.8800000000000001,0.8400000000000001,1.0,0.04000000000000001,0.04000000000000001,0.8,0.52,0.12,0.24,0.76,0.8400000000000001,0.5599999999999999,0.8400000000000001,0.48,0.7200000000000001,0.76,0.12,0.96,0.24,0.48,0.8400000000000001,0.0,0.04000000000000001,0.68,0.6000000000000001,0.6400000000000001,0.6000000000000001,0.8800000000000001,0.36000000000000004,0.4,0.96,0.8,0.44000000000000006,0.8400000000000001,0.68,0.8400000000000001,0.68,0.48,0.2,0.32000000000000006,0.6400000000000001,0.68,0.8,0.6000000000000001,0.76,0.0,0.0,0.52,0.52,0.76,0.52,0.5599999999999999,0.0,0.52,0.9199999999999999,0.76,0.68,1.0,0.9199999999999999,0.6000000000000001,0.44000000000000006,0.76,0.44000000000000006,0.7200000000000001,0.8,0.08000000000000002,0.0,0.76,1.0,0.96,0.48,0.5599999999999999,0.27999999999999997,0.7200000000000001,0.0,0.8400000000000001,0.08000000000000002,0.76,0.8,0.24,0.8,0.6000000000000001,0.0,0.48,0.68,0.16000000000000003,0.8400000000000001,0.8800000000000001,0.8,0.36000000000000004,0.5599999999999999,1.0,0.0,0.04000000000000001,0.8,0.76,0.8800000000000001,0.6400000000000001,0.9199999999999999,0.0,0.2,0.16000000000000003,0.8,0.32000000000000006,0.0,0.68,0.2,0.8,0.6000000000000001,0.6000000000000001,0.15000000000000002,0.68,0.5599999999999999,0.96,0.27999999999999997,0.48,0.36000000000000004,0.96,0.27999999999999997,0.08000000000000002,0.266,0.48,0.08000000000000002,0.12,0.96,0.5599999999999999,0.4,0.52,0.0,0.48,0.8,0.8,0.8,0.0,0.6400000000000001,0.27999999999999997,0.7200000000000001,0.8800000000000001,1.0,0.36000000000000004,0.96,0.12,0.27999999999999997,0.04000000000000001,0.8400000000000001,0.9199999999999999,0.8,0.9199999999999999,0.36000000000000004,0.9199999999999999,0.04000000000000001,0.52,0.76,0.0,1.0,0.7200000000000001,0.9199999999999999,0.4,1.0,0.0,0.68,0.0,0.4,0.4,0.9199999999999999,0.6000000000000001,0.9199999999999999,0.4,0.52,0.08000000000000002,0.52,0.8400000000000001,0.0,0.44000000000000006,0.8,0.0,0.4,0.6000000000000001,0.52,0.0,0.0,0.96,0.6000000000000001,0.44000000000000006,0.8800000000000001,0.16000000000000003,0.68,0.0,0.12,0.0,0.48,0.68,0.8,0.4,0.8,0.96,0.12,0.48,0.8800000000000001,0.48,0.96,0.68,0.5599999999999999,0.16000000000000003,0.44000000000000006,0.76,0.08000000000000002,0.9199999999999999,0.6000000000000001,0.9199999999999999,0.16000000000000003,0.8,0.24,0.6400000000000001,0.7200000000000001,0.68,1.0,0.8,0.8,0.5599999999999999,0.76,0.52,0.4,0.16000000000000003,1.0,0.2,1.0,0.48,0.4,0.44000000000000006,0.68,0.16000000000000003,0.9199999999999999,0.5599999999999999,0.4,0.52,0.04000000000000001,0.27999999999999997,0.32000000000000006,0.6400000000000001,0.04000000000000001,0.48,0.04000000000000001,0.27999999999999997,0.36000000000000004,0.32000000000000006,0.76,0.2,0.24,0.8,0.4,0.52,0.76,0.52,0.04000000000000001,0.6000000000000001,0.36000000000000004,0.12,0.12,0.04000000000000001,0.12,0.04000000000000001,0.2,0.68,0.27999999999999997,0.4,0.5599999999999999,0.6400000000000001,0.16000000000000003,0.36000000000000004,0.44000000000000006,0.8400000000000001,1.0,0.24,0.5599999999999999,0.8800000000000001,0.8800000000000001,0.7200000000000001,0.24,0.27999999999999997,0.68,0.16000000000000003,0.5599999999999999,0.6400000000000001,0.32000000000000006,1.0,0.7200000000000001,0.7200000000000001,0.08000000000000002,0.36000000000000004,0.24,0.24,0.44000000000000006,1.0,0.52,0.0,0.5599999999999999,0.6400000000000001,0.32000000000000006,0.04000000000000001,0.76,0.8,0.5599999999999999,1.0,0.68,0.5599999999999999,0.27999999999999997,0.24,0.6400000000000001,0.6000000000000001,0.44000000000000006,0.4,0.76,0.32000000000000006,0.96,0.24,0.48,0.36000000000000004,0.52,0.76,0.24,0.04000000000000001,0.76,0.48,0.08000000000000002,0.68,0.8400000000000001,0.48,0.16000000000000003,0.8800000000000001,0.6000000000000001,0.4,0.6000000000000001,0.44000000000000006,0.36000000000000004,0.5599999999999999,0.5599999999999999,1.0,0.44000000000000006,0.24,0.32000000000000006,0.5599999999999999,0.36000000000000004,0.52,0.04000000000000001,0.48,0.8400000000000001,0.44000000000000006,0.32000000000000006,0.16000000000000003,1.0,0.24,0.6000000000000001,0.6000000000000001,0.0,0.0,0.4,0.0,1.0,0.6000000000000001,0.4,0.0,0.4,1.0,0.2,0.8,0.8,0.2,0.2,0.2,0.8,0.2,1.0,0.8,0.8,0.8,0.8,0.6000000000000001,0.8,0.0,0.0,0.2,0.8,1.0,0.4,0.8,0.0,0.4,0.2,0.0,0.4,1.0,0.2,0.6000000000000001,0.4,1.0,0.4,0.2,1.0,0.0,1.0,1.0,0.0,0.4,0.8,0.0,0.4,0.6000000000000001,0.0,0.6000000000000001,0.2,0.6000000000000001,0.4,0.8,0.0,0.8,0.8,0.4,0.4,1.0,0.4,0.4,0.0,0.4,0.0,0.4,0.8,0.8,0.2,0.8,0.8,0.4,0.4,0.4,0.0,0.6000000000000001,0.2,1.0,0.2,0.0,0.4,0.4,0.0,0.6000000000000001,0.6000000000000001,0.6000000000000001,1.0,1.0,0.8,0.2,0.0,1.0,0.0,0.8,1.0,0.6000000000000001,0.6000000000000001,0.6000000000000001,0.4,0.2,0.0,0.4,0.0,0.4,1.0,0.6000000000000001,0.6000000000000001,1.0,0.6000000000000001,0.4,0.2,0.2,1.0,0.2,0.4,0.8,0.0,0.4,0.2,0.6000000000000001,0.2,0.2,1.0,1.0,1.0,0.0,0.8,0.8,0.0,0.0,0.4,0.8,1.0,0.6000000000000001,0.6000000000000001,0.8,0.2,0.0,0.4,0.4,1.0,0.8,1.0,0.2,0.0,0.4,0.0,0.4,0.2,1.0,1.0,0.6000000000000001,0.0,0.0,0.4,1.0,0.2,0.6000000000000001,0.6000000000000001,0.4,0.2,0.2,0.4,0.4,0.8,0.0,0.2,0.2,0.4,0.4,0.0,0.2,1.0,0.4,0.4,1.0,0.4,1.0,0.0,0.8,0.8,0.8,0.0,0.4,0.4,1.0,0.4,0.6000000000000001,0.8,0.2,1.0,0.4,0.2,0.4,0.2,0.8,1.0,0.2,0.8,0.4,0.8,0.4,0.8,1.0,0.0,0.0,1.0,0.8,0.2,0.8,0.8,1.0,1.0,0.8,0.2,0.0,0.6000000000000001,0.8,0.6000000000000001,1.0,1.0,1.0,0.2,0.0,0.8,0.2,0.8,0.6000000000000001,1.0,1.0,0.0,0.2,0.0,0.0,0.0,0.0,0.8,1.0,0.2,0.2,0.8,0.2,1.0,0.6000000000000001,1.0,1.0,0.27999999999999997,0.7200000000000001,0.7000000000000001,0.6400000000000001,0.8,0.4,0.7200000000000001,0.8400000000000001,0.8,0.65,0.68,0.7334,0.75,0.24,0.76,0.68,0.6400000000000001,0.7200000000000001,0.6000000000000001,0.32000000000000006,0.6400000000000001,0.76,0.8400000000000001,0.6000000000000001,0.8,0.9500000000000001,0.7066,0.25,0.8,0.6000000000000001,0.52,0.7000000000000001,0.30000000000000004,0.4,0.7000000000000001,0.6000000000000001,0.9500000000000001,0.68,0.68,0.8500000000000001,0.76,0.6000000000000001,0.6000000000000001,0.9199999999999999,0.6000000000000001,0.8500000000000001,0.36000000000000004,0.5599999999999999,0.25,0.75,0.75,0.75,0.7000000000000001,0.9199999999999999,0.65,0.2666,0.5,0.65,0.6000000000000001,0.7200000000000001,0.44000000000000006,0.96,0.8,0.68,0.6400000000000001,0.5,0.65,0.76,0.8800000000000001,0.7000000000000001,0.30000000000000004,0.5599999999999999,0.7200000000000001,0.8400000000000001,0.6000000000000001,0.6000000000000001,0.32000000000000006,0.8,0.2666,0.7200000000000001,0.6000000000000001,0.6000000000000001,0.7000000000000001,0.8,0.44000000000000006,0.68,0.7000000000000001,0.8500000000000001,0.52,0.6000000000000001,0.48,0.76,0.6000000000000001,0.7000000000000001,0.7000000000000001,0.75,0.45,0.65,0.96,0.76,0.68,0.4,0.9199999999999999,0.7000000000000001,0.6666000000000001,0.5334,0.6400000000000001,0.76,0.68,0.68,0.7200000000000001,0.76,0.36000000000000004,0.6400000000000001,0.6000000000000001,0.36000000000000004,0.55,0.32000000000000006,0.55,0.65,0.45,0.6000000000000001,0.6364000000000001,0.75,0.52,0.25,0.5,0.8400000000000001,0.52,0.27999999999999997,0.7200000000000001,0.6000000000000001,0.7000000000000001,1.0,0.6000000000000001,0.76,0.76,0.8444000000000002,0.5,1.0,0.8,0.7200000000000001,0.8400000000000001,0.68,0.52,0.7200000000000001,0.8,0.7000000000000001,0.30000000000000004,0.7000000000000001,0.35000000000000003,0.75,0.96,0.68,0.52,0.8800000000000001,0.7200000000000001,0.7200000000000001,0.8,0.9,1.0,0.68,0.75,0.6352000000000001,0.7200000000000001,0.6400000000000001,0.7000000000000001,0.38,0.6000000000000001,0.7200000000000001,0.75,0.7200000000000001,0.75,0.6666000000000001,0.52,0.36000000000000004,0.7200000000000001,0.8800000000000001,0.6000000000000001,0.8,0.65,0.6000000000000001,0.52,0.52,0.9199999999999999,0.55,0.44000000000000006,0.6666000000000001,0.5538000000000001,0.5599999999999999,0.8,0.9466,0.32000000000000006,0.75,0.1,0.65,0.48,0.6400000000000001,0.75,0.65,0.48,0.9,0.8,0.76,0.16000000000000003,0.6000000000000001,0.7000000000000001,0.4,0.5599999999999999,0.4,0.6000000000000001,0.7000000000000001,1.0,0.65,0.68,0.68,0.75,0.55,0.6400000000000001,0.52,0.32000000000000006,0.5,0.68,0.8,0.8500000000000001,0.8,0.68,0.5599999999999999,0.32000000000000006,0.76,0.5334,0.24,0.96,0.6000000000000001,0.8,0.8,0.55,0.45,0.6400000000000001,0.9500000000000001,0.5599999999999999,0.27999999999999997,0.15000000000000002,0.7334,0.68,0.68,0.7714000000000001,0.6000000000000001,0.7000000000000001,0.65,0.27999999999999997,0.15000000000000002,0.68,0.96,0.08000000000000002,0.36000000000000004,0.48,0.32000000000000006,0.6400000000000001,0.08000000000000002,0.8,0.16000000000000003,0.27999999999999997,0.36000000000000004,0.44000000000000006,0.6400000000000001,0.24,0.25,0.8400000000000001,0.52,0.7200000000000001,0.08000000000000002,0.0,1.0,0.8800000000000001,0.96,0.7200000000000001,0.76,0.04000000000000001,0.76,0.44000000000000006,0.8,0.52,0.12,0.8800000000000001,0.8,0.16000000000000003,0.4,0.27999999999999997,0.6000000000000001,0.12,0.4,0.9199999999999999,0.27999999999999997,0.9,0.16000000000000003,0.0,0.8800000000000001,0.2,0.68,0.12,0.2,0.5599999999999999,0.32000000000000006,0.48,0.16000000000000003,0.8800000000000001,0.96,0.68,0.76,0.9,0.44000000000000006,0.8,0.2,0.52,0.2,0.27999999999999997,0.8,0.8400000000000001,0.76,0.76,0.48,0.08000000000000002,0.44000000000000006,0.8800000000000001,0.7200000000000001,0.44000000000000006,1.0,0.8400000000000001,0.36000000000000004,0.27999999999999997,0.44000000000000006,0.76,0.8400000000000001,0.4,1.0,0.76,0.24,0.44000000000000006,0.27999999999999997,0.48,0.6000000000000001,0.6400000000000001,0.76,0.6000000000000001,0.4,0.5599999999999999,0.8,0.9199999999999999,0.8,0.44000000000000006,0.68,0.68,0.68,0.8400000000000001,0.76,0.52,0.44000000000000006,0.08000000000000002,0.36000000000000004,0.2,0.32000000000000006,0.32000000000000006,0.52,0.52,0.0,0.8800000000000001,0.68,0.12,0.0,0.8800000000000001,0.7200000000000001,0.6000000000000001,0.76,0.44000000000000006,0.0,0.9199999999999999,0.32000000000000006,0.9199999999999999,0.8400000000000001,0.76,0.6000000000000001,0.2,0.7200000000000001,0.16000000000000003,0.44000000000000006,0.8400000000000001,0.8400000000000001,0.68,0.26,0.24,0.7200000000000001,0.6400000000000001,0.2,0.6000000000000001,0.76,0.32000000000000006,0.24,0.68,0.08000000000000002,0.96,0.0,0.08000000000000002,0.5599999999999999,0.7200000000000001,0.4,0.8,0.76,0.36000000000000004,0.04000000000000001,0.4,1.0,0.0,0.7200000000000001,0.7200000000000001,0.68,0.04000000000000001,0.8800000000000001,0.12,0.08000000000000002,0.9199999999999999,0.52,0.5599999999999999,0.6400000000000001,0.4,0.36000000000000004,0.08000000000000002,0.27999999999999997,0.24,0.52,0.48,0.8400000000000001,1.0,0.08000000000000002,0.32000000000000006,0.6400000000000001,0.8800000000000001,0.96,1.0,0.534,0.0,1.0,0.6000000000000001,0.96,0.48,1.0,0.96,1.0,0.6400000000000001,0.24,1.0,0.9199999999999999,0.4,0.36000000000000004,0.6000000000000001,0.76,0.8,0.96,0.96,0.5599999999999999,0.52,0.8800000000000001,0.9199999999999999,0.44000000000000006,0.08000000000000002,0.08000000000000002,0.27999999999999997,0.96,0.8800000000000001,1.0,0.4,1.0,1.0,1.0,1.0,0.8,0.6000000000000001,0.6000000000000001,1.0,0.8,0.4,0.2,0.8,0.0,0.4,1.0,0.6000000000000001,0.4,0.4,0.0,0.0,0.2,0.2,0.2,0.4,0.0,0.2,0.2,0.0,0.0],\"type\":\"scatter\",\"xaxis\":\"x\",\"yaxis\":\"y2\"},{\"name\":\"Predicition\",\"x\":[0,1,2,3,4,5,6,7,8,9,10,11,12,13,14,15,16,17,18,19,20,21,22,23,24,25,26,27,28,29,30,31,32,33,34,35,36,37,38,39,40,41,42,43,44,45,46,47,48,49,50,51,52,53,54,55,56,57,58,59,60,61,62,63,64,65,66,67,68,69,70,71,72,73,74,75,76,77,78,79,80,81,82,83,84,85,86,87,88,89,90,91,92,93,94,95,96,97,98,99,100,101,102,103,104,105,106,107,108,109,110,111,112,113,114,115,116,117,118,119,120,121,122,123,124,125,126,127,128,129,130,131,132,133,134,135,136,137,138,139,140,141,142,143,144,145,146,147,148,149,150,151,152,153,154,155,156,157,158,159,160,161,162,163,164,165,166,167,168,169,170,171,172,173,174,175,176,177,178,179,180,181,182,183,184,185,186,187,188,189,190,191,192,193,194,195,196,197,198,199,200,201,202,203,204,205,206,207,208,209,210,211,212,213,214,215,216,217,218,219,220,221,222,223,224,225,226,227,228,229,230,231,232,233,234,235,236,237,238,239,240,241,242,243,244,245,246,247,248,249,250,251,252,253,254,255,256,257,258,259,260,261,262,263,264,265,266,267,268,269,270,271,272,273,274,275,276,277,278,279,280,281,282,283,284,285,286,287,288,289,290,291,292,293,294,295,296,297,298,299,300,301,302,303,304,305,306,307,308,309,310,311,312,313,314,315,316,317,318,319,320,321,322,323,324,325,326,327,328,329,330,331,332,333,334,335,336,337,338,339,340,341,342,343,344,345,346,347,348,349,350,351,352,353,354,355,356,357,358,359,360,361,362,363,364,365,366,367,368,369,370,371,372,373,374,375,376,377,378,379,380,381,382,383,384,385,386,387,388,389,390,391,392,393,394,395,396,397,398,399,400,401,402,403,404,405,406,407,408,409,410,411,412,413,414,415,416,417,418,419,420,421,422,423,424,425,426,427,428,429,430,431,432,433,434,435,436,437,438,439,440,441,442,443,444,445,446,447,448,449,450,451,452,453,454,455,456,457,458,459,460,461,462,463,464,465,466,467,468,469,470,471,472,473,474,475,476,477,478,479,480,481,482,483,484,485,486,487,488,489,490,491,492,493,494,495,496,497,498,499,500,501,502,503,504,505,506,507,508,509,510,511,512,513,514,515,516,517,518,519,520,521,522,523,524,525,526,527,528,529,530,531,532,533,534,535,536,537,538,539,540,541,542,543,544,545,546,547,548,549,550,551,552,553,554,555,556,557,558,559,560,561,562,563,564,565,566,567,568,569,570,571,572,573,574,575,576,577,578,579,580,581,582,583,584,585,586,587,588,589,590,591,592,593,594,595,596,597,598,599,600,601,602,603,604,605,606,607,608,609,610,611,612,613,614,615,616,617,618,619,620,621,622,623,624,625,626,627,628,629,630,631,632,633,634,635,636,637,638,639,640,641,642,643,644,645,646,647,648,649,650,651,652,653,654,655,656,657,658,659,660,661,662,663,664,665,666,667,668,669,670,671,672,673,674,675,676,677,678,679,680,681,682,683,684,685,686,687,688,689,690,691,692,693,694,695,696,697,698,699,700,701,702,703,704,705,706,707,708,709,710,711,712,713,714,715,716,717,718,719,720,721,722,723,724,725,726,727,728,729,730,731,732,733,734,735,736,737,738,739,740,741,742,743,744,745,746,747,748,749,750,751,752,753,754,755,756,757,758,759,760,761,762,763,764,765,766,767,768,769,770,771,772,773,774,775,776,777,778,779,780,781,782,783,784,785,786,787,788,789,790,791,792,793,794,795,796,797,798,799,800,801,802,803,804,805,806,807,808,809,810,811,812,813,814,815,816,817,818,819,820,821,822,823,824,825,826,827,828,829,830,831,832,833,834,835,836,837,838,839,840,841,842,843,844,845,846,847,848,849,850,851,852,853,854,855,856,857,858,859,860,861,862,863,864,865,866,867,868,869,870,871,872,873,874,875,876,877,878,879,880,881,882,883,884,885,886,887,888,889,890,891,892,893,894,895,896,897,898,899,900,901,902,903,904,905,906,907,908,909,910,911,912,913,914,915,916,917,918,919,920,921,922,923,924,925,926,927,928,929,930,931,932,933,934,935,936,937,938,939,940,941,942,943,944,945,946,947,948,949,950,951,952,953,954,955,956,957,958,959,960,961,962,963,964,965,966,967,968,969,970,971,972,973,974,975,976,977,978,979,980,981,982,983,984,985,986,987,988,989,990,991,992,993,994,995,996,997,998,999,1000,1001,1002,1003,1004,1005,1006,1007,1008,1009,1010,1011,1012,1013,1014,1015,1016,1017,1018,1019,1020,1021,1022,1023,1024,1025,1026,1027,1028,1029,1030,1031,1032,1033,1034,1035,1036,1037,1038,1039,1040,1041,1042,1043,1044,1045,1046,1047,1048,1049,1050,1051,1052,1053,1054,1055,1056,1057,1058,1059,1060,1061,1062,1063,1064,1065,1066,1067,1068,1069,1070,1071,1072,1073,1074,1075,1076,1077,1078,1079,1080,1081,1082,1083,1084,1085,1086,1087,1088,1089,1090,1091,1092,1093,1094,1095,1096,1097,1098,1099,1100,1101,1102,1103,1104,1105,1106,1107,1108,1109,1110,1111,1112,1113,1114,1115,1116,1117,1118,1119,1120,1121,1122,1123,1124,1125,1126,1127,1128,1129,1130,1131,1132,1133,1134,1135,1136,1137,1138,1139,1140,1141,1142,1143,1144,1145,1146,1147,1148,1149,1150,1151,1152,1153,1154,1155,1156,1157,1158,1159,1160,1161,1162,1163,1164,1165,1166,1167,1168,1169,1170,1171,1172,1173,1174,1175,1176,1177,1178,1179,1180,1181,1182,1183,1184,1185,1186,1187,1188,1189,1190,1191,1192,1193,1194,1195,1196,1197,1198,1199,1200,1201,1202,1203,1204,1205,1206,1207,1208,1209,1210,1211,1212,1213,1214,1215,1216,1217,1218,1219,1220,1221,1222,1223,1224,1225,1226,1227,1228,1229,1230,1231,1232,1233,1234,1235,1236,1237,1238,1239,1240,1241,1242,1243,1244,1245,1246,1247,1248,1249,1250,1251,1252,1253,1254,1255,1256,1257,1258,1259,1260,1261,1262,1263,1264,1265,1266,1267,1268,1269,1270,1271,1272,1273,1274,1275,1276,1277,1278,1279,1280,1281,1282,1283,1284,1285,1286,1287,1288,1289,1290,1291,1292,1293,1294,1295,1296,1297,1298,1299,1300,1301,1302,1303,1304,1305,1306,1307,1308,1309,1310,1311,1312,1313,1314,1315,1316,1317,1318,1319,1320,1321,1322,1323,1324,1325,1326,1327,1328,1329,1330,1331,1332,1333,1334,1335,1336,1337,1338,1339,1340,1341,1342,1343,1344,1345,1346,1347,1348,1349,1350,1351,1352,1353,1354,1355,1356,1357,1358,1359,1360,1361,1362,1363,1364,1365,1366,1367,1368,1369,1370,1371,1372,1373,1374,1375,1376,1377,1378],\"y\":[0.5252686801014662,0.5260204315198004,0.5251928676843893,0.525118874622777,0.5248453519925185,0.5241715553187571,0.5255056629479595,0.5254396703158042,0.5239390784734308,0.524872785755639,0.524872785755639,0.5251855003951077,0.5255595180835502,0.5248496720623972,0.5246897454903606,0.5249880878337316,0.5267801868266685,0.5247640509790098,0.5254367243391725,0.5251726069423752,0.5241903603481344,0.5242650245277746,0.5261909628574215,0.5247286398368125,0.5233921083585151,0.524433826591589,0.52359817728791,0.5245591236165694,0.5246369692902018,0.524537974393189,0.5265342734496494,0.5250854782745165,0.52453308031742,0.526552169545951,0.5248688483350082,0.5243308769563484,0.5240428752689386,0.5250652863317328,0.525426192722482,0.5244568387489185,0.5234201381432477,0.5244645231802635,0.5245469790413505,0.524665436472568,0.5244935394294301,0.5244507894870274,0.5239645733320523,0.5237471516426118,0.5262441773239697,0.5252125026137026,0.5244706227182955,0.524224160886005,0.5238622158996954,0.524508834346434,0.5255628130410309,0.5233517776064376,0.5250290024287344,0.523678122320122,0.5257912734430562,0.5256635818238383,0.5251312205368555,0.5252636995150459,0.5240538992607607,0.524136701690851,0.5248735427367766,0.5250859317110802,0.5231696086494233,0.5259212709361901,0.5229357979892975,0.5263759606748332,0.5263494410190912,0.5250921448205734,0.5245660087541427,0.5254579292862708,0.5247581167669371,0.5230899468136685,0.5250259131873748,0.5234641996094458,0.5262797510414177,0.5266380756977153,0.5233214738995123,0.5246859033458496,0.5243881724651653,0.5258708778546546,0.5235991403815197,0.5238354900932458,0.5277547816912674,0.5252081579480287,0.5258514153824351,0.5239101917767639,0.5235326535030043,0.5255224488270266,0.5232839255022526,0.5263316587607719,0.5247165961741946,0.5251986328386709,0.5244508831348784,0.5254502569034952,0.5256290337570104,0.5250212966689309,0.5240726794477065,0.5249045995932532,0.5255013456720852,0.5246055812838859,0.5241699485099431,0.5248314206460587,0.524163241109221,0.5236047669945084,0.5243366166023157,0.5246465863163011,0.5241068971603889,0.5269609170859518,0.5260963830112599,0.5266146894523988,0.5241416230876755,0.5241454533835191,0.5267269497029257,0.5251307475231508,0.5235549850672547,0.5244548586906169,0.5240899903316201,0.5234510988692878,0.5249525797879006,0.5240563351288994,0.5253329438665211,0.5249339424589702,0.5244127561055535,0.5238745031545072,0.5267666150985693,0.5246074140776634,0.5257974275724732,0.5244321713868436,0.5246032119303594,0.5245898306604158,0.525691435930335,0.525883819144789,0.5253911345872084,0.523712048181978,0.5247088454699965,0.5258448249578387,0.5254150445853494,0.5246279915911675,0.5252660118835555,0.5267875347624057,0.5241233422863774,0.5249300954369427,0.524732008526995,0.5251389906259926,0.525148862514252,0.5251290119792531,0.5250242991487394,0.5242102794209298,0.525044880097806,0.5247410869745799,0.525522894037828,0.5239944919132031,0.5236377438961561,0.5252207209822671,0.5253966549289837,0.5250921613569491,0.5257210451433251,0.5238671080039649,0.52459199837742,0.5248654221161216,0.5253894571328127,0.5267899907992606,0.5257294804238939,0.5254555178437104,0.5244628315131933,0.5259848447497346,0.5253000359966287,0.5234444635015905,0.5242070765034438,0.5257463654531921,0.5262623489789005,0.5248154345118876,0.5258697341937237,0.5258338704294276,0.524281985088574,0.5242390255424102,0.524045431597371,0.5255158504649294,0.52574886573623,0.5253963601901699,0.5258397207886973,0.5235729968169961,0.5247417562053828,0.5240793952097627,0.5249012255672771,0.5236743590989226,0.5246331367672655,0.5244509887869485,0.5238979475567812,0.525626921752169,0.5239827960051177,0.5257462331646527,0.525229708882075,0.5256707534309044,0.523484900935363,0.5249396992409867,0.524793101385631,0.5248554001125593,0.5239103137754215,0.5241500613052709,0.5246605339564073,0.5262404937484585,0.5251928692894616,0.5233127620959588,0.5247545831837744,0.5254542852555871,0.5243018441770978,0.5250739540645553,0.5246773574871118,0.5238116003444887,0.5246232667738934,0.5236227332301775,0.5253968925091455,0.5260104895274689,0.5264396096719852,0.526581906966666,0.5240325850594125,0.5252447406365639,0.525408944086211,0.5249537757687818,0.5228837267061522,0.5227442699650438,0.5253069645898871,0.5254236220428296,0.5241959169368663,0.5234083710709971,0.5229336482132333,0.5238656266163795,0.5245618184759224,0.5246563964934434,0.5251551210275274,0.5264143385072778,0.5229900132235273,0.524861318624843,0.5242430454618889,0.5240776956553105,0.5254655145464746,0.5237640800790986,0.5248595378635662,0.5241596718455271,0.5257193018077243,0.5241037394398196,0.525658934491869,0.5245951028083552,0.5252806716393617,0.5248149304272546,0.5264808773558919,0.5272176796628852,0.5259954092378947,0.5266202683213363,0.5245974098949666,0.5256298795715773,0.5260767258759733,0.5256873090422637,0.526268125235193,0.5262250001950798,0.5265752061595862,0.526259628830825,0.5263421635409019,0.526558639961804,0.5260135839995453,0.5254083299815905,0.525592604659689,0.5268017442099031,0.5262596676414192,0.527009209375212,0.5264300036910551,0.5246708322535731,0.5257799434067578,0.526278333609105,0.5267086611000429,0.525641578852259,0.5248689554171052,0.5245984370826287,0.5249601358858813,0.5245826165260576,0.5263405198094172,0.5246849124857511,0.5264408374599868,0.5266900288530538,0.5258291459982283,0.5263157380033299,0.5256601134444004,0.5254565226316271,0.5256710994319052,0.5252472884674994,0.5265665710979454,0.5249470738003285,0.526465710542961,0.526923965430431,0.5261489225587316,0.5252252467444957,0.5260783169109347,0.5261657377180781,0.5263089540965664,0.5259739757819827,0.5272968790256214,0.5265763480625287,0.5266166680454242,0.5264547167079726,0.525225621332525,0.5260363493559245,0.5259190093004978,0.5257805248058277,0.5251294774365747,0.5264363090115557,0.5253945132338621,0.5257356417196862,0.5256820833313185,0.5258465547651929,0.5260144160139167,0.5255520157113911,0.5244056604239384,0.525368377035191,0.524883464902022,0.5257930756296115,0.5252564289531128,0.5261480250842633,0.5256644379651206,0.5263830332361273,0.5262557566926929,0.5254000123538423,0.5266766095512448,0.5262305829796554,0.5271556286640687,0.5263307523178113,0.5274793233886051,0.5267866471823237,0.5268997930836292,0.5250088074992633,0.5255526480081025,0.5256732189001051,0.5268325959417106,0.5266449886765366,0.5247878178016715,0.5249753308284512,0.5263112684094842,0.5269911797242635,0.5258280787678798,0.5259811144809735,0.526214719772667,0.5252830742464111,0.5265361893219728,0.5256360292432852,0.525395263784886,0.5255939711267544,0.5261670411631076,0.5245492080218082,0.5254848262472392,0.5263725227979243,0.526058188981291,0.5241957995365838,0.5268167978769078,0.5266659415424186,0.523503962325378,0.5264687782421216,0.5266058853137352,0.5260501091101903,0.5262040114264643,0.5266614246821859,0.526527250102978,0.5263864351498012,0.5257527141556576,0.5246201098726327,0.5262725522205175,0.5262127220893563,0.5264423736054732,0.5275880862017569,0.5257557318885177,0.5262084485515286,0.5260135489916382,0.5258043364191854,0.5257131710445612,0.5256517421255145,0.5260975713030145,0.5269141102483108,0.5258570911775936,0.5260543244677596,0.5252976769477974,0.5260399347377082,0.5255821544880243,0.5258462728269806,0.5246119629990529,0.5265075235506059,0.5245657157123262,0.5257223000095637,0.526387892621529,0.526171443794672,0.5239947105764046,0.5253288909668649,0.5259479595446918,0.5245070826007053,0.525407940852781,0.5272628177152096,0.526291494156523,0.5262240569672619,0.5260177791251296,0.5237834573519958,0.5261824923006454,0.525925816515386,0.5246580512618,0.5262935230252016,0.5254919061758113,0.5270933836499435,0.5259879875972135,0.5260346994789095,0.525746952109154,0.5266515539969417,0.5263893310599981,0.5265546686434408,0.5243247687754938,0.5260088487081945,0.5240957420844807,0.5258337502258328,0.5261973654431363,0.5274565747664038,0.5266360127092284,0.5258790535664915,0.5269860274179647,0.5248240262807141,0.5258850680747266,0.5256531688718673,0.5254835406222695,0.5270688021614606,0.5255460270663853,0.5245330957176105,0.5252843585559847,0.5268562655408947,0.5257603023388303,0.5266711895557012,0.5244892017918288,0.5256300637238753,0.5260541189461071,0.5270768343050573,0.5261672185471592,0.5254180291070908,0.525330538523977,0.5259073401678792,0.5249237906203185,0.5256717902760337,0.5260734205765389,0.5247567328309937,0.5258448866074517,0.525743644383855,0.52440815537169,0.5262088680604757,0.5258192685877939,0.526833275349023,0.5257969450628781,0.5241750512489014,0.5265701717633403,0.525538584442546,0.5257223042925695,0.5265242371786784,0.5263101569750366,0.5260249443949656,0.5246429609438423,0.5251279948573778,0.5253768496579008,0.5255230632618209,0.5248448272478099,0.5265550784983287,0.5262204967873633,0.5260320661478295,0.5261161184290094,0.5253156028876972,0.5264083283536665,0.5262312316594036,0.5258392537792688,0.5262890391180498,0.5251895811167736,0.5249005001591344,0.5253601050749076,0.5258171311685663,0.5259632755722639,0.524434412790406,0.5262004806059525,0.5255423653440595,0.5256081210738651,0.5253318377661541,0.5259617598741747,0.5253813609821613,0.5267053824125221,0.5263940545794141,0.5260119151153773,0.5264056193116639,0.527237360533067,0.5255811968308223,0.5265652454561567,0.5265334959378087,0.525736372234722,0.5260937922471752,0.5251400581656116,0.5250582053592665,0.5254428818668936,0.5266620393023224,0.5254862372180312,0.5249649128059495,0.5251643618588664,0.5260022150795236,0.5253146572772782,0.5258891086915702,0.525349472037294,0.5245313550960955,0.5250087753522787,0.5248734138446154,0.5239596174571876,0.5265001196128224,0.5249786686497632,0.524401728659318,0.5256534251895871,0.526434123736126,0.5246684200969541,0.52441588465526,0.5242788231689876,0.5251025993991328,0.5249518780424095,0.526463536148967,0.5267836669671647,0.5260744341340594,0.5249078610365507,0.5259410293150678,0.524204610766114,0.5248359134743561,0.5245959897034903,0.5251957369844006,0.5240700608434385,0.5252599717504489,0.525605140822558,0.5256378737410049,0.525202315950438,0.5242512872815203,0.5256963557459973,0.5250779268706164,0.5258721519826649,0.5248029188811152,0.5266549467130656,0.5257478508730292,0.5254521119370237,0.5271889038244069,0.5247386137957346,0.5260233053843899,0.5248287744209161,0.5251408076053327,0.5258097547774975,0.5255407163913308,0.5261469512549174,0.5247708557376976,0.5250664519046814,0.5244792158692172,0.526489284279814,0.5262636322248098,0.5252749839703629,0.5252458383778799,0.5242689356713127,0.5248782160575176,0.5252021111872861,0.5244281930822957,0.5256313551151098,0.5247964760344466,0.5249566523881491,0.525627264196531,0.526996616736353,0.5253367255695471,0.525353673414787,0.5254089421125849,0.5248678915831368,0.5253711841042432,0.5249262349391145,0.5259774529940999,0.5256542018230355,0.5264559908980226,0.5251387781508489,0.5253181140671159,0.5261300204191738,0.5249263336574305,0.526097345370604,0.525249218273252,0.5247725246870245,0.5261172608519167,0.5257294191076531,0.5267800854642132,0.5253957444584039,0.5245215238365313,0.5255303351325046,0.525580111432695,0.524869313700748,0.5248204487225475,0.52584376168223,0.5250797730303206,0.5266166387968646,0.5268316310740382,0.525414071516619,0.5259163303791583,0.5258066528719793,0.5263588428854042,0.5249560027021376,0.5242530457518874,0.526229580936697,0.5252570007123062,0.5261720323199317,0.5263721667041812,0.5259067224745598,0.5246182047138407,0.5252651895464513,0.5248225335918699,0.5259934832435426,0.5254466730187672,0.5256108162569894,0.5252388034341068,0.5246462592115483,0.5248162275062492,0.524678063470988,0.524941494733576,0.5258203340472549,0.5264697763479733,0.5247730959251831,0.5267198960394481,0.5250730676829749,0.5266104156724466,0.5260825244146016,0.5269199211619111,0.5262695981036593,0.5262985607779873,0.5267095026260086,0.5267661736867376,0.527462022515971,0.5271473918376307,0.5268655995859033,0.5260899364030623,0.5253593734014483,0.5259524275946825,0.5263443954212517,0.5258772612595279,0.5260271148903822,0.5256545783144263,0.5260200392287091,0.5264630674841232,0.5270560879770768,0.525733626306199,0.5257159940812997,0.527329144173509,0.5268028322462849,0.5271757960921183,0.526790635690902,0.5263919718505046,0.5261746088972319,0.5259736393377333,0.5263052102857776,0.5259577584087987,0.5277020221949298,0.5272207936516435,0.5268390430499381,0.5260487287015736,0.5269817869356872,0.5256704669792736,0.5261997893797029,0.5262453706711181,0.525739405235887,0.5258837763952381,0.5270034068513897,0.5271054001208749,0.5266911905520795,0.5270615012414652,0.5264039447283596,0.5262529740591172,0.5260771154476971,0.5276538765284037,0.5251065455099224,0.5275900080168943,0.5270480311244664,0.5264973312252993,0.5271894667680251,0.5262028180020557,0.5256306832989968,0.5264189477515936,0.5261261412001443,0.5267414428015736,0.526126366143303,0.5267953458806708,0.5262895813421126,0.5270154613044573,0.5264076964023011,0.5273126817556147,0.5267369934548202,0.527128178768808,0.5267991014237932,0.5260049998307411,0.528005050443482,0.5261807170924409,0.5265884781995277,0.5253485483136369,0.5256152826228991,0.5256943422789943,0.5254063122103438,0.5266604202018751,0.5263451267391883,0.5270931835956318,0.5262839536677706,0.5278239726469042,0.5264415135707012,0.5272603056666635,0.5258801962091485,0.5262257309020695,0.5258271657386919,0.5263871893078902,0.5267146867284956,0.5266519118610945,0.5247015273537811,0.5259161993222571,0.5259843798552976,0.5265044313434004,0.5262302860801255,0.5263362950486885,0.5259383063215467,0.5276987218371432,0.5277551040543078,0.5260283152864589,0.5263198204162566,0.526064367677704,0.5266087915710836,0.5262534776221551,0.5271419659227802,0.527506698662549,0.5262403051375427,0.5254255150362063,0.5255224792999255,0.5273380913482641,0.5244508717194565,0.526340408425567,0.5248807385621123,0.5261048560543923,0.5258161378965401,0.5266890337623106,0.5260242229445078,0.5267495729754291,0.5266514506201341,0.5263834204988191,0.5257908810541897,0.5270710591314465,0.5253463168465238,0.5268293067342827,0.5263149080987255,0.5264602011830046,0.5262743262300955,0.5259742519805064,0.5258140463309335,0.5261974656045045,0.5274274342456168,0.5254005562986259,0.5270133281452747,0.5265464056460978,0.52647263599604,0.5273824506787247,0.5262249109697733,0.5260010227840036,0.5273985894068792,0.5253284083853944,0.5257091039303255,0.5264478387222783,0.5259933840901241,0.5261932227236051,0.5271634514709234,0.5261732957958795,0.5268825891344728,0.5268208995770092,0.5274889842297459,0.5274431256024268,0.5272645062255304,0.5271589831993475,0.5265734884809221,0.526036920927919,0.5266705096078194,0.5268274747294361,0.5269294581703399,0.527050621855533,0.5260246239188117,0.5263504175497995,0.5275208886591355,0.5272759830468404,0.5262999944035897,0.5267131412698535,0.5264401773449773,0.5273569636892431,0.5273823958722214,0.5266957977111394,0.5267706300821655,0.5266469904654748,0.5271241730416286,0.5269741066388806,0.5265613235036395,0.5273721023442582,0.5266694949775946,0.5261071790291849,0.5254802212386895,0.5258515764093344,0.5264239047014214,0.5259606646577056,0.5267735179014646,0.526084992804382,0.5270189456241985,0.5262443196000127,0.5270509129514105,0.5263938805984885,0.5266009774454742,0.5276061572377613,0.5269409860350055,0.5258691431449779,0.5271123238362091,0.5263983306437593,0.5262102993718025,0.526736898412667,0.5260458246236298,0.5260041505686845,0.526585016697232,0.5254801551741057,0.5264665564403724,0.5256529263361913,0.5261824389877272,0.5267239815251729,0.5262279208090659,0.5263506510903269,0.5269618866019417,0.5265668753422086,0.526538229436761,0.5273004301341548,0.5262295745742291,0.5270882846012681,0.5268319122936024,0.5269100010355251,0.5270733072960161,0.5261970135173742,0.5266718034824485,0.5257739074383453,0.526774530257765,0.5263859332352958,0.5266744623096603,0.5261397245859718,0.5267242722347195,0.5259574788044079,0.5266945094913914,0.5264742893537007,0.5262557270854812,0.5270125946194623,0.5272587109269544,0.5264392409231068,0.5260172843669971,0.5267622560481553,0.5281218048442196,0.5270183972503218,0.5269005768576196,0.5266388298398783,0.5250553733434139,0.5263196109978875,0.5268082618475395,0.525346365387363,0.5268748300863156,0.5267475301287391,0.5275408012851762,0.526602723375883,0.5269463551552351,0.5258543870031693,0.5269956958792583,0.5254665621829656,0.5254889267542507,0.5267930130003662,0.5253838837851319,0.5265689781684314,0.5264253660927335,0.5268457969493427,0.5265301888798001,0.5283497758683917,0.5261747103938406,0.5267236132303866,0.5267254285966945,0.526264323105897,0.5271196065832016,0.5268072883779461,0.5278635213687907,0.5266499326999139,0.5271644849449617,0.5273465786104878,0.5266720916239968,0.5274417434705683,0.5269784532238939,0.5272641290282472,0.5279954734709753,0.5274166128998542,0.526516969993432,0.5265680552237672,0.5278594550416589,0.527017847224418,0.527147387013726,0.5263523856274819,0.5269134713530094,0.5276630641993553,0.5273187007990469,0.527863032286867,0.5272871196394053,0.5267644766831193,0.5279521362056969,0.5273909270152642,0.5275109749117002,0.5275955786250855,0.5280889214198004,0.5261227457487072,0.5267354995541563,0.5264748128404244,0.5284280471859818,0.5273196913560242,0.5268919068356258,0.5272639679714392,0.5278474462471062,0.5275824173582884,0.5257393302123794,0.5276109774739539,0.5267735610894854,0.5280728617775078,0.5272101844029293,0.5276556333138925,0.5264391078806202,0.5271055441331084,0.5269675164186877,0.5278735857110946,0.5273611060182338,0.5276667135196714,0.528650804202688,0.5282478568849619,0.5267012981735352,0.5270366160810209,0.5260854042725104,0.5268308306417098,0.5261613459165889,0.527791017921103,0.5279827244194006,0.5274737595254264,0.527926456724571,0.5267823010133799,0.5287657205514023,0.5265712788370824,0.5270377149118962,0.5268737370216661,0.5269339971752816,0.5265632406785177,0.5263571779167115,0.5270052855443644,0.5267515564668706,0.5269657894772161,0.5274212611347959,0.526938109820164,0.5263892897119942,0.5266154048323493,0.526503559934561,0.5259007551268952,0.5278556380699236,0.5276947874628882,0.5269096482765298,0.528407921494942,0.5282811756555917,0.5264526862988504,0.5264407847265309,0.5276851179707192,0.5269766837140353,0.527073809459308,0.5272059690561036,0.5270040679013215,0.5272429591224341,0.52840931505185,0.5276577128773489,0.5282144617327145,0.5281323733281417,0.5286163493906839,0.5270516125386111,0.5273122875874929,0.5277620232155559,0.5258566118288491,0.526663711249693,0.5267256051501717,0.5263099864867965,0.5267929874898546,0.5287685839207368,0.5272909422946397,0.5281552968476502,0.5262862016559274,0.5286365977941788,0.5274638945765491,0.5278144698854061,0.5281170692740645,0.5264730287944284,0.5279692406511256,0.5257025560406726,0.5270971647023178,0.5273232247686286,0.5259193887722433,0.5269541438607305,0.5267669288063239,0.5261634451477052,0.5271533963304548,0.5267383442617982,0.5272567565278066,0.5271204804997718,0.5264351474136802,0.5272838266613838,0.527236230149324,0.5278976188051074,0.5262465604701971,0.5268097001935828,0.5279480930478717,0.5266091250915418,0.5263773891118484,0.5291504923320638,0.5273594105235659,0.5284558424888928,0.5275017722064639,0.526927487809845,0.5273258495452013,0.5278007981846129,0.5264556256439321,0.5279700173739952,0.5261647272150651,0.526888984804353,0.5272388670620473,0.5270863570061814,0.5272509103376255,0.5283436404379434,0.5259898682361795,0.5268065749639446,0.5278431404428312,0.5273795486290832,0.5275160082425508,0.5275996568409471,0.5262317567747614,0.5279581446638575,0.5279019021952319,0.5282051257783128,0.5276922446001788,0.5265178455192642,0.528642829907144,0.5269018937305903,0.5268985629416312,0.5268905764931724,0.5278637336174046,0.526710862328264,0.526620364703604,0.5264527937742373,0.5274567063505881,0.5272888363582446,0.5279150093763593,0.5270188596743712,0.5267859708410667,0.526630737229975,0.5268049914119457,0.5283115536612251,0.5272173527013447,0.5285917797411651,0.5274570986696772,0.5264616667075329,0.5266314714639868,0.5284159092295957,0.5278023374860659,0.5272667777277802,0.5261902849278467,0.5267422417181394,0.5281405851879276,0.5277191500542261,0.5281981268624809,0.5274416789544777,0.5283171751132373,0.5274741698268253,0.5260244015482803,0.5272392626010352,0.5268283417140306,0.5280673232781831,0.5276509689635778,0.5269799894068637,0.5266065710461413,0.5272081636915296,0.5284400557877066,0.5284943457319469,0.5263391023897805,0.5284439792326031,0.5263934786737203,0.5268612018526386,0.5276548430220371,0.5281826680070253,0.5268667416801819,0.5272794905293756,0.5288486642396621,0.5263847114861845,0.5272840135272309,0.5283412004418742,0.5268179581224869,0.5278686363065828,0.5269300577310824,0.528262978080781,0.5260504168781738,0.5269345505282669,0.5270617054063689,0.5270197947493142,0.5276571564340736,0.527437251137805,0.5275960541995298,0.5267839138862742,0.5262569227230292,0.5271136394218533,0.5283282629487954,0.5262014705347479,0.5281712647975635,0.5263313812893579,0.5285338947429393,0.527149974930645,0.528333704746132,0.5278372563790377,0.52758639245002,0.5285443694384466,0.5276519203964314,0.5269152021190728,0.526236071532982,0.5288879366764088,0.5265972479076886,0.5268561797359181,0.5281298299774773,0.5268008602978288,0.5283205888695411,0.5269152045360908,0.5266339786621022,0.5254086628079078,0.5259498320620271,0.5259649848694564,0.5274170018309307,0.5253887579471126,0.5265761660377851,0.5258427007182673,0.5267042152504069,0.5251425092146844,0.5270584747214472,0.5266383393852759,0.5257074886948253,0.5265386185950156,0.5257836868866521,0.5262077489110116,0.5257759905014375,0.5264075936612261,0.5262698001349512,0.5263642729421947,0.526218493378923,0.5271839510922023,0.5264652981107912,0.527397101956084,0.5273152535177572,0.5267125926119389,0.5268892864722332,0.5262782919340068,0.5274316372346617,0.526466807719384,0.5266744414839686,0.5270548443663374,0.5255277895342438,0.5265259975686276,0.5273734314346676,0.5269978379864498,0.5263779192783606,0.5266951142080746,0.525805000170723,0.5258793618859761,0.5270750281060124,0.5256340064538664,0.5262962310277276,0.5259123674931704,0.52701162191186,0.5258264868460184,0.5266942100365805,0.5269060395064322,0.5265840410446023,0.5266436308898119,0.5260441256158128,0.5264587907309967,0.5260201591821226,0.5264951552925059,0.5271837384749214,0.5257992229071339,0.526859367725824,0.5262892762912365,0.5257209651476145,0.5263404024190771,0.5267756026453828,0.5266949642699374,0.526153604914922,0.5267345701723001,0.5257855791985198,0.5271038287151615,0.5272768092161387,0.5262524588684016,0.5266835863341849,0.5263230770667654,0.5260365437535901,0.5261021529948672,0.5266854643606789,0.5264647870631853,0.5264709211300235,0.5266968756167183,0.5257118846904535,0.5262916373763319,0.5264664588504638,0.5265516688570274,0.5259586863900081,0.5270811597295048,0.5270117422847971,0.5266275346357319,0.5268394215139452,0.526766211735898,0.5271264991259256,0.5260125019350292,0.5258676971751274,0.5256667508863971,0.5266482792315449,0.5255473160768628,0.5270490348220184,0.5267181273779817,0.5265960147094897,0.5261174492239965,0.5259539230216522,0.527236373677513,0.5274897163354438,0.5264980991985172,0.5253698514182914,0.5261791471707807,0.5264690060840724,0.5264502239447574,0.5260983566301478,0.526586368618465,0.5273951486277348,0.526473912221742,0.5250668239476372,0.5277669920127295,0.5268243075984521,0.525814358826193,0.5266931897705265,0.5263518705669791,0.5255015715368462,0.5266977350741746,0.5265294778531269,0.52609003483108,0.5262047090544935,0.5257165110198477,0.5260807187202832,0.5266542023197281,0.527071947730748,0.5265838913064032,0.5255877733735579,0.5270765986690811,0.526696862736872,0.526073716037593,0.5264613701585458,0.5263924352749656,0.5262146694722811,0.526559261128643,0.5251768676203595,0.526953258852452,0.526054522488817,0.52618180684269,0.5261153391000698,0.5264478533836905,0.5275335536725508,0.5275307467365794,0.5259810256060731,0.5263617556117993,0.5262335683969825,0.5261297524414785,0.526402892058874,0.5262589774552843,0.5265800929873355,0.5264448439572538,0.5273235896042193,0.5268873420490897,0.5270848375595866,0.5263331113761458,0.5271608906178961,0.5270721742958119,0.5272634074003112,0.5255179383296802,0.5260718556212424,0.5271511516102516,0.5269475971729545,0.5273619034494639,0.5271550822670695,0.5263068385916149,0.5254944225541737,0.5262268827838229,0.5258264096134276,0.5258051667769719,0.5261245476792277,0.527157075377983,0.5266383400302679,0.5255986931668647,0.5261461356051973,0.5258855796123223,0.5274641793036725,0.5259236946686658,0.5252850840239852,0.5268836688689865,0.5268797555757665,0.5256642247856165,0.5256862740378119,0.5267987228384792,0.5259689243076667,0.5265534173226983,0.5268235847322924,0.526192994236167,0.5261870307816574,0.5259700581927461,0.5267302922728835,0.526326298399974,0.5268607084286213,0.528986326303993,0.5263735112804372,0.5266825180718684,0.5253778215257047,0.5268082192544271,0.525816064432388,0.5271074957239482,0.5271441165860311,0.5265166218280342,0.5254990109218475,0.5251280012223186,0.5260916892766664,0.5259560690244961,0.5273006195514595,0.5260303837726371,0.5263117167758001,0.5261107468996576,0.526418449419653,0.526608405711516,0.5265776619581697,0.5253919224400405,0.5263943768599033,0.5257669098974229,0.5259631293986444,0.5270383353145294,0.5255671634318262,0.5268842326935081,0.5263506469745349,0.5270643833191286,0.5265177282147884,0.5259866890513055,0.5258133963256234,0.5263934757907716,0.5269028923632592,0.5270656823132531,0.5270988089050878,0.5272029056838079,0.525852101684583,0.5265279298839605,0.5271435912143625,0.5257271068227343,0.5265327800057472,0.5261549401200237,0.5263736490577471,0.5267211341031514,0.5270465951169561,0.5275599896220301,0.5254722711958512,0.5254700102453067,0.5272347828505392,0.5264646684654121,0.5266967995070446,0.5276794461963524,0.5260349692185058,0.5268090032413634,0.5263166019797922,0.5263397999538839,0.526295815465492,0.5274537148531757,0.5258574254895733,0.5267906593605134],\"type\":\"scatter\",\"xaxis\":\"x\",\"yaxis\":\"y2\"}],                        {\"template\":{\"data\":{\"histogram2dcontour\":[{\"type\":\"histogram2dcontour\",\"colorbar\":{\"outlinewidth\":0,\"ticks\":\"\"},\"colorscale\":[[0.0,\"#0d0887\"],[0.1111111111111111,\"#46039f\"],[0.2222222222222222,\"#7201a8\"],[0.3333333333333333,\"#9c179e\"],[0.4444444444444444,\"#bd3786\"],[0.5555555555555556,\"#d8576b\"],[0.6666666666666666,\"#ed7953\"],[0.7777777777777778,\"#fb9f3a\"],[0.8888888888888888,\"#fdca26\"],[1.0,\"#f0f921\"]]}],\"choropleth\":[{\"type\":\"choropleth\",\"colorbar\":{\"outlinewidth\":0,\"ticks\":\"\"}}],\"histogram2d\":[{\"type\":\"histogram2d\",\"colorbar\":{\"outlinewidth\":0,\"ticks\":\"\"},\"colorscale\":[[0.0,\"#0d0887\"],[0.1111111111111111,\"#46039f\"],[0.2222222222222222,\"#7201a8\"],[0.3333333333333333,\"#9c179e\"],[0.4444444444444444,\"#bd3786\"],[0.5555555555555556,\"#d8576b\"],[0.6666666666666666,\"#ed7953\"],[0.7777777777777778,\"#fb9f3a\"],[0.8888888888888888,\"#fdca26\"],[1.0,\"#f0f921\"]]}],\"heatmap\":[{\"type\":\"heatmap\",\"colorbar\":{\"outlinewidth\":0,\"ticks\":\"\"},\"colorscale\":[[0.0,\"#0d0887\"],[0.1111111111111111,\"#46039f\"],[0.2222222222222222,\"#7201a8\"],[0.3333333333333333,\"#9c179e\"],[0.4444444444444444,\"#bd3786\"],[0.5555555555555556,\"#d8576b\"],[0.6666666666666666,\"#ed7953\"],[0.7777777777777778,\"#fb9f3a\"],[0.8888888888888888,\"#fdca26\"],[1.0,\"#f0f921\"]]}],\"heatmapgl\":[{\"type\":\"heatmapgl\",\"colorbar\":{\"outlinewidth\":0,\"ticks\":\"\"},\"colorscale\":[[0.0,\"#0d0887\"],[0.1111111111111111,\"#46039f\"],[0.2222222222222222,\"#7201a8\"],[0.3333333333333333,\"#9c179e\"],[0.4444444444444444,\"#bd3786\"],[0.5555555555555556,\"#d8576b\"],[0.6666666666666666,\"#ed7953\"],[0.7777777777777778,\"#fb9f3a\"],[0.8888888888888888,\"#fdca26\"],[1.0,\"#f0f921\"]]}],\"contourcarpet\":[{\"type\":\"contourcarpet\",\"colorbar\":{\"outlinewidth\":0,\"ticks\":\"\"}}],\"contour\":[{\"type\":\"contour\",\"colorbar\":{\"outlinewidth\":0,\"ticks\":\"\"},\"colorscale\":[[0.0,\"#0d0887\"],[0.1111111111111111,\"#46039f\"],[0.2222222222222222,\"#7201a8\"],[0.3333333333333333,\"#9c179e\"],[0.4444444444444444,\"#bd3786\"],[0.5555555555555556,\"#d8576b\"],[0.6666666666666666,\"#ed7953\"],[0.7777777777777778,\"#fb9f3a\"],[0.8888888888888888,\"#fdca26\"],[1.0,\"#f0f921\"]]}],\"surface\":[{\"type\":\"surface\",\"colorbar\":{\"outlinewidth\":0,\"ticks\":\"\"},\"colorscale\":[[0.0,\"#0d0887\"],[0.1111111111111111,\"#46039f\"],[0.2222222222222222,\"#7201a8\"],[0.3333333333333333,\"#9c179e\"],[0.4444444444444444,\"#bd3786\"],[0.5555555555555556,\"#d8576b\"],[0.6666666666666666,\"#ed7953\"],[0.7777777777777778,\"#fb9f3a\"],[0.8888888888888888,\"#fdca26\"],[1.0,\"#f0f921\"]]}],\"mesh3d\":[{\"type\":\"mesh3d\",\"colorbar\":{\"outlinewidth\":0,\"ticks\":\"\"}}],\"scatter\":[{\"fillpattern\":{\"fillmode\":\"overlay\",\"size\":10,\"solidity\":0.2},\"type\":\"scatter\"}],\"parcoords\":[{\"type\":\"parcoords\",\"line\":{\"colorbar\":{\"outlinewidth\":0,\"ticks\":\"\"}}}],\"scatterpolargl\":[{\"type\":\"scatterpolargl\",\"marker\":{\"colorbar\":{\"outlinewidth\":0,\"ticks\":\"\"}}}],\"bar\":[{\"error_x\":{\"color\":\"#2a3f5f\"},\"error_y\":{\"color\":\"#2a3f5f\"},\"marker\":{\"line\":{\"color\":\"#E5ECF6\",\"width\":0.5},\"pattern\":{\"fillmode\":\"overlay\",\"size\":10,\"solidity\":0.2}},\"type\":\"bar\"}],\"scattergeo\":[{\"type\":\"scattergeo\",\"marker\":{\"colorbar\":{\"outlinewidth\":0,\"ticks\":\"\"}}}],\"scatterpolar\":[{\"type\":\"scatterpolar\",\"marker\":{\"colorbar\":{\"outlinewidth\":0,\"ticks\":\"\"}}}],\"histogram\":[{\"marker\":{\"pattern\":{\"fillmode\":\"overlay\",\"size\":10,\"solidity\":0.2}},\"type\":\"histogram\"}],\"scattergl\":[{\"type\":\"scattergl\",\"marker\":{\"colorbar\":{\"outlinewidth\":0,\"ticks\":\"\"}}}],\"scatter3d\":[{\"type\":\"scatter3d\",\"line\":{\"colorbar\":{\"outlinewidth\":0,\"ticks\":\"\"}},\"marker\":{\"colorbar\":{\"outlinewidth\":0,\"ticks\":\"\"}}}],\"scattermapbox\":[{\"type\":\"scattermapbox\",\"marker\":{\"colorbar\":{\"outlinewidth\":0,\"ticks\":\"\"}}}],\"scatterternary\":[{\"type\":\"scatterternary\",\"marker\":{\"colorbar\":{\"outlinewidth\":0,\"ticks\":\"\"}}}],\"scattercarpet\":[{\"type\":\"scattercarpet\",\"marker\":{\"colorbar\":{\"outlinewidth\":0,\"ticks\":\"\"}}}],\"carpet\":[{\"aaxis\":{\"endlinecolor\":\"#2a3f5f\",\"gridcolor\":\"white\",\"linecolor\":\"white\",\"minorgridcolor\":\"white\",\"startlinecolor\":\"#2a3f5f\"},\"baxis\":{\"endlinecolor\":\"#2a3f5f\",\"gridcolor\":\"white\",\"linecolor\":\"white\",\"minorgridcolor\":\"white\",\"startlinecolor\":\"#2a3f5f\"},\"type\":\"carpet\"}],\"table\":[{\"cells\":{\"fill\":{\"color\":\"#EBF0F8\"},\"line\":{\"color\":\"white\"}},\"header\":{\"fill\":{\"color\":\"#C8D4E3\"},\"line\":{\"color\":\"white\"}},\"type\":\"table\"}],\"barpolar\":[{\"marker\":{\"line\":{\"color\":\"#E5ECF6\",\"width\":0.5},\"pattern\":{\"fillmode\":\"overlay\",\"size\":10,\"solidity\":0.2}},\"type\":\"barpolar\"}],\"pie\":[{\"automargin\":true,\"type\":\"pie\"}]},\"layout\":{\"autotypenumbers\":\"strict\",\"colorway\":[\"#636efa\",\"#EF553B\",\"#00cc96\",\"#ab63fa\",\"#FFA15A\",\"#19d3f3\",\"#FF6692\",\"#B6E880\",\"#FF97FF\",\"#FECB52\"],\"font\":{\"color\":\"#2a3f5f\"},\"hovermode\":\"closest\",\"hoverlabel\":{\"align\":\"left\"},\"paper_bgcolor\":\"white\",\"plot_bgcolor\":\"#E5ECF6\",\"polar\":{\"bgcolor\":\"#E5ECF6\",\"angularaxis\":{\"gridcolor\":\"white\",\"linecolor\":\"white\",\"ticks\":\"\"},\"radialaxis\":{\"gridcolor\":\"white\",\"linecolor\":\"white\",\"ticks\":\"\"}},\"ternary\":{\"bgcolor\":\"#E5ECF6\",\"aaxis\":{\"gridcolor\":\"white\",\"linecolor\":\"white\",\"ticks\":\"\"},\"baxis\":{\"gridcolor\":\"white\",\"linecolor\":\"white\",\"ticks\":\"\"},\"caxis\":{\"gridcolor\":\"white\",\"linecolor\":\"white\",\"ticks\":\"\"}},\"coloraxis\":{\"colorbar\":{\"outlinewidth\":0,\"ticks\":\"\"}},\"colorscale\":{\"sequential\":[[0.0,\"#0d0887\"],[0.1111111111111111,\"#46039f\"],[0.2222222222222222,\"#7201a8\"],[0.3333333333333333,\"#9c179e\"],[0.4444444444444444,\"#bd3786\"],[0.5555555555555556,\"#d8576b\"],[0.6666666666666666,\"#ed7953\"],[0.7777777777777778,\"#fb9f3a\"],[0.8888888888888888,\"#fdca26\"],[1.0,\"#f0f921\"]],\"sequentialminus\":[[0.0,\"#0d0887\"],[0.1111111111111111,\"#46039f\"],[0.2222222222222222,\"#7201a8\"],[0.3333333333333333,\"#9c179e\"],[0.4444444444444444,\"#bd3786\"],[0.5555555555555556,\"#d8576b\"],[0.6666666666666666,\"#ed7953\"],[0.7777777777777778,\"#fb9f3a\"],[0.8888888888888888,\"#fdca26\"],[1.0,\"#f0f921\"]],\"diverging\":[[0,\"#8e0152\"],[0.1,\"#c51b7d\"],[0.2,\"#de77ae\"],[0.3,\"#f1b6da\"],[0.4,\"#fde0ef\"],[0.5,\"#f7f7f7\"],[0.6,\"#e6f5d0\"],[0.7,\"#b8e186\"],[0.8,\"#7fbc41\"],[0.9,\"#4d9221\"],[1,\"#276419\"]]},\"xaxis\":{\"gridcolor\":\"white\",\"linecolor\":\"white\",\"ticks\":\"\",\"title\":{\"standoff\":15},\"zerolinecolor\":\"white\",\"automargin\":true,\"zerolinewidth\":2},\"yaxis\":{\"gridcolor\":\"white\",\"linecolor\":\"white\",\"ticks\":\"\",\"title\":{\"standoff\":15},\"zerolinecolor\":\"white\",\"automargin\":true,\"zerolinewidth\":2},\"scene\":{\"xaxis\":{\"backgroundcolor\":\"#E5ECF6\",\"gridcolor\":\"white\",\"linecolor\":\"white\",\"showbackground\":true,\"ticks\":\"\",\"zerolinecolor\":\"white\",\"gridwidth\":2},\"yaxis\":{\"backgroundcolor\":\"#E5ECF6\",\"gridcolor\":\"white\",\"linecolor\":\"white\",\"showbackground\":true,\"ticks\":\"\",\"zerolinecolor\":\"white\",\"gridwidth\":2},\"zaxis\":{\"backgroundcolor\":\"#E5ECF6\",\"gridcolor\":\"white\",\"linecolor\":\"white\",\"showbackground\":true,\"ticks\":\"\",\"zerolinecolor\":\"white\",\"gridwidth\":2}},\"shapedefaults\":{\"line\":{\"color\":\"#2a3f5f\"}},\"annotationdefaults\":{\"arrowcolor\":\"#2a3f5f\",\"arrowhead\":0,\"arrowwidth\":1},\"geo\":{\"bgcolor\":\"white\",\"landcolor\":\"#E5ECF6\",\"subunitcolor\":\"white\",\"showland\":true,\"showlakes\":true,\"lakecolor\":\"white\"},\"title\":{\"x\":0.05},\"mapbox\":{\"style\":\"light\"}}},\"xaxis\":{\"anchor\":\"y\",\"domain\":[0.0,0.94],\"title\":{\"text\":\"Couple of sentences\"}},\"yaxis\":{\"anchor\":\"x\",\"domain\":[0.0,1.0]},\"yaxis2\":{\"anchor\":\"x\",\"overlaying\":\"y\",\"side\":\"right\",\"title\":{\"text\":\"Prediction\"}},\"title\":{\"text\":\"Results\"}},                        {\"responsive\": true}                    ).then(function(){\n",
              "                            \n",
              "var gd = document.getElementById('3d52da50-f44b-4a65-a048-83b48fa22cfa');\n",
              "var x = new MutationObserver(function (mutations, observer) {{\n",
              "        var display = window.getComputedStyle(gd).display;\n",
              "        if (!display || display === 'none') {{\n",
              "            console.log([gd, 'removed!']);\n",
              "            Plotly.purge(gd);\n",
              "            observer.disconnect();\n",
              "        }}\n",
              "}});\n",
              "\n",
              "// Listen for the removal of the full notebook cells\n",
              "var notebookContainer = gd.closest('#notebook-container');\n",
              "if (notebookContainer) {{\n",
              "    x.observe(notebookContainer, {childList: true});\n",
              "}}\n",
              "\n",
              "// Listen for the clearing of the current output cell\n",
              "var outputEl = gd.closest('.output');\n",
              "if (outputEl) {{\n",
              "    x.observe(outputEl, {childList: true});\n",
              "}}\n",
              "\n",
              "                        })                };                            </script>        </div>\n",
              "</body>\n",
              "</html>"
            ]
          },
          "metadata": {}
        }
      ]
    },
    {
      "cell_type": "code",
      "source": [
        "from sklearn.svm import SVR\n",
        "'''model = SVR()\n",
        "parameters = {'C': [10],\n",
        "             'epsilon': [0.1, 0.01],\n",
        "             'gamma':['auto'],\n",
        "             'kernel': ['linear', 'poly','rbf'],\n",
        "             'degree': [2,3,5]\n",
        "             }\n",
        "\n",
        "#DEFINE YOUR GRIDSEARCH \n",
        "from sklearn.model_selection import GridSearchCV\n",
        "gs = GridSearchCV(model, parameters, cv=3, verbose = 0)\n",
        "gs_dev = GridSearchCV(model, parameters, cv=3, verbose = 0)\n",
        "\n",
        "gs = gs.fit(X_train,y_train)\n",
        "gs_dev = gs_dev.fit(x_dev,y_dev)'''"
      ],
      "metadata": {
        "id": "KtjEHzTudwrt",
        "colab": {
          "base_uri": "https://localhost:8080/",
          "height": 70
        },
        "outputId": "46bbf46d-6134-452f-dab1-7394b9e0f817"
      },
      "execution_count": 36,
      "outputs": [
        {
          "output_type": "execute_result",
          "data": {
            "text/plain": [
              "\"model = SVR()\\nparameters = {'C': [10],\\n             'epsilon': [0.1, 0.01],\\n             'gamma':['auto'],\\n             'kernel': ['linear', 'poly','rbf'],\\n             'degree': [2,3,5]\\n             }\\n\\n#DEFINE YOUR GRIDSEARCH \\nfrom sklearn.model_selection import GridSearchCV\\ngs = GridSearchCV(model, parameters, cv=3, verbose = 0)\\ngs_dev = GridSearchCV(model, parameters, cv=3, verbose = 0)\\n\\ngs = gs.fit(X_train,y_train)\\ngs_dev = gs_dev.fit(x_dev,y_dev)\""
            ],
            "application/vnd.google.colaboratory.intrinsic+json": {
              "type": "string"
            }
          },
          "metadata": {},
          "execution_count": 36
        }
      ]
    },
    {
      "cell_type": "code",
      "source": [
        "'''print('**GRIDSEARCH RESULTS**')\n",
        "print(\"Best score: %f using %s\" % (gs.best_score_, gs.best_params_))\n",
        "means = gs.cv_results_['mean_test_score']\n",
        "stds = gs.cv_results_['std_test_score']\n",
        "params = gs.cv_results_['params']\n",
        "for mean, stdev, param in zip(means, stds, params):\n",
        "    print(\"%f (%f) with: %r\" % (mean, stdev, param))\n",
        "\n",
        "print(\"Best score: %f using %s\" % (gs_dev.best_score_, gs_dev.best_params_))\n",
        "means = gs_dev.cv_results_['mean_test_score']\n",
        "stds = gs_dev.cv_results_['std_test_score']\n",
        "params = gs_dev.cv_results_['params']\n",
        "for mean, stdev, param in zip(means, stds, params):\n",
        "    print(\"%f (%f) with: %r\" % (mean, stdev, param))\n",
        "\n",
        "#Returns the coefficient of determination R^2 of the prediction.\n",
        "#Explained variance score: 1 is perfect prediction'''\n"
      ],
      "metadata": {
        "colab": {
          "base_uri": "https://localhost:8080/",
          "height": 105
        },
        "id": "UBvuBfumGAOT",
        "outputId": "86eeea34-861f-4b60-b70d-1d17a55c8e8c"
      },
      "execution_count": 37,
      "outputs": [
        {
          "output_type": "execute_result",
          "data": {
            "text/plain": [
              "'print(\\'**GRIDSEARCH RESULTS**\\')\\nprint(\"Best score: %f using %s\" % (gs.best_score_, gs.best_params_))\\nmeans = gs.cv_results_[\\'mean_test_score\\']\\nstds = gs.cv_results_[\\'std_test_score\\']\\nparams = gs.cv_results_[\\'params\\']\\nfor mean, stdev, param in zip(means, stds, params):\\n    print(\"%f (%f) with: %r\" % (mean, stdev, param))\\n\\nprint(\"Best score: %f using %s\" % (gs_dev.best_score_, gs_dev.best_params_))\\nmeans = gs_dev.cv_results_[\\'mean_test_score\\']\\nstds = gs_dev.cv_results_[\\'std_test_score\\']\\nparams = gs_dev.cv_results_[\\'params\\']\\nfor mean, stdev, param in zip(means, stds, params):\\n    print(\"%f (%f) with: %r\" % (mean, stdev, param))\\n\\n#Returns the coefficient of determination R^2 of the prediction.\\n#Explained variance score: 1 is perfect prediction'"
            ],
            "application/vnd.google.colaboratory.intrinsic+json": {
              "type": "string"
            }
          },
          "metadata": {},
          "execution_count": 37
        }
      ]
    },
    {
      "cell_type": "code",
      "source": [
        "model = SVR(C= 10, degree= 2, epsilon= 0.1, gamma= 'auto', kernel= 'linear')\n",
        "model.fit(X_train, y_train)"
      ],
      "metadata": {
        "colab": {
          "base_uri": "https://localhost:8080/",
          "height": 75
        },
        "id": "hqDVTMI4HjDQ",
        "outputId": "6b81c7d4-976f-4f70-f717-4d37addb4a74"
      },
      "execution_count": 38,
      "outputs": [
        {
          "output_type": "execute_result",
          "data": {
            "text/plain": [
              "SVR(C=10, degree=2, gamma='auto', kernel='linear')"
            ],
            "text/html": [
              "<style>#sk-container-id-3 {color: black;background-color: white;}#sk-container-id-3 pre{padding: 0;}#sk-container-id-3 div.sk-toggleable {background-color: white;}#sk-container-id-3 label.sk-toggleable__label {cursor: pointer;display: block;width: 100%;margin-bottom: 0;padding: 0.3em;box-sizing: border-box;text-align: center;}#sk-container-id-3 label.sk-toggleable__label-arrow:before {content: \"▸\";float: left;margin-right: 0.25em;color: #696969;}#sk-container-id-3 label.sk-toggleable__label-arrow:hover:before {color: black;}#sk-container-id-3 div.sk-estimator:hover label.sk-toggleable__label-arrow:before {color: black;}#sk-container-id-3 div.sk-toggleable__content {max-height: 0;max-width: 0;overflow: hidden;text-align: left;background-color: #f0f8ff;}#sk-container-id-3 div.sk-toggleable__content pre {margin: 0.2em;color: black;border-radius: 0.25em;background-color: #f0f8ff;}#sk-container-id-3 input.sk-toggleable__control:checked~div.sk-toggleable__content {max-height: 200px;max-width: 100%;overflow: auto;}#sk-container-id-3 input.sk-toggleable__control:checked~label.sk-toggleable__label-arrow:before {content: \"▾\";}#sk-container-id-3 div.sk-estimator input.sk-toggleable__control:checked~label.sk-toggleable__label {background-color: #d4ebff;}#sk-container-id-3 div.sk-label input.sk-toggleable__control:checked~label.sk-toggleable__label {background-color: #d4ebff;}#sk-container-id-3 input.sk-hidden--visually {border: 0;clip: rect(1px 1px 1px 1px);clip: rect(1px, 1px, 1px, 1px);height: 1px;margin: -1px;overflow: hidden;padding: 0;position: absolute;width: 1px;}#sk-container-id-3 div.sk-estimator {font-family: monospace;background-color: #f0f8ff;border: 1px dotted black;border-radius: 0.25em;box-sizing: border-box;margin-bottom: 0.5em;}#sk-container-id-3 div.sk-estimator:hover {background-color: #d4ebff;}#sk-container-id-3 div.sk-parallel-item::after {content: \"\";width: 100%;border-bottom: 1px solid gray;flex-grow: 1;}#sk-container-id-3 div.sk-label:hover label.sk-toggleable__label {background-color: #d4ebff;}#sk-container-id-3 div.sk-serial::before {content: \"\";position: absolute;border-left: 1px solid gray;box-sizing: border-box;top: 0;bottom: 0;left: 50%;z-index: 0;}#sk-container-id-3 div.sk-serial {display: flex;flex-direction: column;align-items: center;background-color: white;padding-right: 0.2em;padding-left: 0.2em;position: relative;}#sk-container-id-3 div.sk-item {position: relative;z-index: 1;}#sk-container-id-3 div.sk-parallel {display: flex;align-items: stretch;justify-content: center;background-color: white;position: relative;}#sk-container-id-3 div.sk-item::before, #sk-container-id-3 div.sk-parallel-item::before {content: \"\";position: absolute;border-left: 1px solid gray;box-sizing: border-box;top: 0;bottom: 0;left: 50%;z-index: -1;}#sk-container-id-3 div.sk-parallel-item {display: flex;flex-direction: column;z-index: 1;position: relative;background-color: white;}#sk-container-id-3 div.sk-parallel-item:first-child::after {align-self: flex-end;width: 50%;}#sk-container-id-3 div.sk-parallel-item:last-child::after {align-self: flex-start;width: 50%;}#sk-container-id-3 div.sk-parallel-item:only-child::after {width: 0;}#sk-container-id-3 div.sk-dashed-wrapped {border: 1px dashed gray;margin: 0 0.4em 0.5em 0.4em;box-sizing: border-box;padding-bottom: 0.4em;background-color: white;}#sk-container-id-3 div.sk-label label {font-family: monospace;font-weight: bold;display: inline-block;line-height: 1.2em;}#sk-container-id-3 div.sk-label-container {text-align: center;}#sk-container-id-3 div.sk-container {/* jupyter's `normalize.less` sets `[hidden] { display: none; }` but bootstrap.min.css set `[hidden] { display: none !important; }` so we also need the `!important` here to be able to override the default hidden behavior on the sphinx rendered scikit-learn.org. See: https://github.com/scikit-learn/scikit-learn/issues/21755 */display: inline-block !important;position: relative;}#sk-container-id-3 div.sk-text-repr-fallback {display: none;}</style><div id=\"sk-container-id-3\" class=\"sk-top-container\"><div class=\"sk-text-repr-fallback\"><pre>SVR(C=10, degree=2, gamma=&#x27;auto&#x27;, kernel=&#x27;linear&#x27;)</pre><b>In a Jupyter environment, please rerun this cell to show the HTML representation or trust the notebook. <br />On GitHub, the HTML representation is unable to render, please try loading this page with nbviewer.org.</b></div><div class=\"sk-container\" hidden><div class=\"sk-item\"><div class=\"sk-estimator sk-toggleable\"><input class=\"sk-toggleable__control sk-hidden--visually\" id=\"sk-estimator-id-3\" type=\"checkbox\" checked><label for=\"sk-estimator-id-3\" class=\"sk-toggleable__label sk-toggleable__label-arrow\">SVR</label><div class=\"sk-toggleable__content\"><pre>SVR(C=10, degree=2, gamma=&#x27;auto&#x27;, kernel=&#x27;linear&#x27;)</pre></div></div></div></div></div>"
            ]
          },
          "metadata": {},
          "execution_count": 38
        }
      ]
    },
    {
      "cell_type": "code",
      "source": [
        "y_pred = model.predict(x_test)"
      ],
      "metadata": {
        "id": "x09iIgSFKHx9"
      },
      "execution_count": 39,
      "outputs": []
    },
    {
      "cell_type": "code",
      "source": [
        "#print(\"MAE train: \", metrics.mean_absolute_error(y_train, model.predict(X_train))) \n",
        "print(\"MSE train: \",metrics.mean_squared_error(y_train, model.predict(X_train)))\n",
        "print(\"RMSE train: \",np.sqrt(metrics.mean_squared_error(y_train, model.predict(X_train))))\n",
        "print(\"r2: \",metrics.r2_score(y_train, model.predict(X_train)))\n",
        "\n",
        "#print(\"MAE test: \", metrics.mean_absolute_error(y_test, model.predict(x_test))) \n",
        "print(\"MSE test: \",metrics.mean_squared_error(y_test, model.predict(x_test)))\n",
        "print(\"RMSE test: \",np.sqrt(metrics.mean_squared_error(y_test, model.predict(x_test))))\n",
        "print(\"r2: \", metrics.r2_score(y_test, model.predict(x_test)))"
      ],
      "metadata": {
        "colab": {
          "base_uri": "https://localhost:8080/"
        },
        "id": "BzhOZ0lbGR99",
        "outputId": "d10a28bd-0f6e-4ea5-b375-f8f8c69de0a2"
      },
      "execution_count": 40,
      "outputs": [
        {
          "output_type": "stream",
          "name": "stdout",
          "text": [
            "MAE train:  0.14687982031887437\n",
            "MSE train:  0.03443601289021392\n",
            "RMSE train:  0.1855694287597338\n",
            "r2:  0.6059309396097916\n",
            "MAE test:  0.17615308309534167\n",
            "MSE test:  0.05395811755618081\n",
            "RMSE test:  0.23228886662124126\n",
            "r2:  0.41993382666852497\n"
          ]
        }
      ]
    },
    {
      "cell_type": "code",
      "source": [
        "import plotly.graph_objects as go\n",
        "from plotly.subplots import make_subplots\n",
        "\n",
        "fig = make_subplots(specs=[[{\"secondary_y\": True}]])\n",
        "x_ax=np.array(range(0,len(y_test)))\n",
        "fig.add_trace(\n",
        "    go.Scatter(x=x_ax, y=y_test, name=\"True\"),\n",
        "    secondary_y=True,)\n",
        "fig.add_trace(\n",
        "    go.Scatter(x=x_ax, y=y_pred, name=\"Predicition\"),\n",
        "    secondary_y=True,)\n",
        "fig.update_layout(\n",
        "    title_text=\"Results\")\n",
        "fig.update_xaxes(title_text=\"Couple of sentences\")\n",
        "fig.update_yaxes(title_text=\"True\", secondary_y=True)\n",
        "fig.update_yaxes(title_text=\"Prediction\", secondary_y=True)\n",
        "\n",
        "fig.show()"
      ],
      "metadata": {
        "colab": {
          "base_uri": "https://localhost:8080/",
          "height": 542
        },
        "id": "4DgPlOG36q3c",
        "outputId": "9a85dccd-7cb7-4545-c539-39af7440d951"
      },
      "execution_count": 41,
      "outputs": [
        {
          "output_type": "display_data",
          "data": {
            "text/html": [
              "<html>\n",
              "<head><meta charset=\"utf-8\" /></head>\n",
              "<body>\n",
              "    <div>            <script src=\"https://cdnjs.cloudflare.com/ajax/libs/mathjax/2.7.5/MathJax.js?config=TeX-AMS-MML_SVG\"></script><script type=\"text/javascript\">if (window.MathJax && window.MathJax.Hub && window.MathJax.Hub.Config) {window.MathJax.Hub.Config({SVG: {font: \"STIX-Web\"}});}</script>                <script type=\"text/javascript\">window.PlotlyConfig = {MathJaxConfig: 'local'};</script>\n",
              "        <script src=\"https://cdn.plot.ly/plotly-2.18.2.min.js\"></script>                <div id=\"78e2af5c-139f-4bf8-a5be-6a2f2fb08952\" class=\"plotly-graph-div\" style=\"height:525px; width:100%;\"></div>            <script type=\"text/javascript\">                                    window.PLOTLYENV=window.PLOTLYENV || {};                                    if (document.getElementById(\"78e2af5c-139f-4bf8-a5be-6a2f2fb08952\")) {                    Plotly.newPlot(                        \"78e2af5c-139f-4bf8-a5be-6a2f2fb08952\",                        [{\"name\":\"True\",\"x\":[0,1,2,3,4,5,6,7,8,9,10,11,12,13,14,15,16,17,18,19,20,21,22,23,24,25,26,27,28,29,30,31,32,33,34,35,36,37,38,39,40,41,42,43,44,45,46,47,48,49,50,51,52,53,54,55,56,57,58,59,60,61,62,63,64,65,66,67,68,69,70,71,72,73,74,75,76,77,78,79,80,81,82,83,84,85,86,87,88,89,90,91,92,93,94,95,96,97,98,99,100,101,102,103,104,105,106,107,108,109,110,111,112,113,114,115,116,117,118,119,120,121,122,123,124,125,126,127,128,129,130,131,132,133,134,135,136,137,138,139,140,141,142,143,144,145,146,147,148,149,150,151,152,153,154,155,156,157,158,159,160,161,162,163,164,165,166,167,168,169,170,171,172,173,174,175,176,177,178,179,180,181,182,183,184,185,186,187,188,189,190,191,192,193,194,195,196,197,198,199,200,201,202,203,204,205,206,207,208,209,210,211,212,213,214,215,216,217,218,219,220,221,222,223,224,225,226,227,228,229,230,231,232,233,234,235,236,237,238,239,240,241,242,243,244,245,246,247,248,249,250,251,252,253,254,255,256,257,258,259,260,261,262,263,264,265,266,267,268,269,270,271,272,273,274,275,276,277,278,279,280,281,282,283,284,285,286,287,288,289,290,291,292,293,294,295,296,297,298,299,300,301,302,303,304,305,306,307,308,309,310,311,312,313,314,315,316,317,318,319,320,321,322,323,324,325,326,327,328,329,330,331,332,333,334,335,336,337,338,339,340,341,342,343,344,345,346,347,348,349,350,351,352,353,354,355,356,357,358,359,360,361,362,363,364,365,366,367,368,369,370,371,372,373,374,375,376,377,378,379,380,381,382,383,384,385,386,387,388,389,390,391,392,393,394,395,396,397,398,399,400,401,402,403,404,405,406,407,408,409,410,411,412,413,414,415,416,417,418,419,420,421,422,423,424,425,426,427,428,429,430,431,432,433,434,435,436,437,438,439,440,441,442,443,444,445,446,447,448,449,450,451,452,453,454,455,456,457,458,459,460,461,462,463,464,465,466,467,468,469,470,471,472,473,474,475,476,477,478,479,480,481,482,483,484,485,486,487,488,489,490,491,492,493,494,495,496,497,498,499,500,501,502,503,504,505,506,507,508,509,510,511,512,513,514,515,516,517,518,519,520,521,522,523,524,525,526,527,528,529,530,531,532,533,534,535,536,537,538,539,540,541,542,543,544,545,546,547,548,549,550,551,552,553,554,555,556,557,558,559,560,561,562,563,564,565,566,567,568,569,570,571,572,573,574,575,576,577,578,579,580,581,582,583,584,585,586,587,588,589,590,591,592,593,594,595,596,597,598,599,600,601,602,603,604,605,606,607,608,609,610,611,612,613,614,615,616,617,618,619,620,621,622,623,624,625,626,627,628,629,630,631,632,633,634,635,636,637,638,639,640,641,642,643,644,645,646,647,648,649,650,651,652,653,654,655,656,657,658,659,660,661,662,663,664,665,666,667,668,669,670,671,672,673,674,675,676,677,678,679,680,681,682,683,684,685,686,687,688,689,690,691,692,693,694,695,696,697,698,699,700,701,702,703,704,705,706,707,708,709,710,711,712,713,714,715,716,717,718,719,720,721,722,723,724,725,726,727,728,729,730,731,732,733,734,735,736,737,738,739,740,741,742,743,744,745,746,747,748,749,750,751,752,753,754,755,756,757,758,759,760,761,762,763,764,765,766,767,768,769,770,771,772,773,774,775,776,777,778,779,780,781,782,783,784,785,786,787,788,789,790,791,792,793,794,795,796,797,798,799,800,801,802,803,804,805,806,807,808,809,810,811,812,813,814,815,816,817,818,819,820,821,822,823,824,825,826,827,828,829,830,831,832,833,834,835,836,837,838,839,840,841,842,843,844,845,846,847,848,849,850,851,852,853,854,855,856,857,858,859,860,861,862,863,864,865,866,867,868,869,870,871,872,873,874,875,876,877,878,879,880,881,882,883,884,885,886,887,888,889,890,891,892,893,894,895,896,897,898,899,900,901,902,903,904,905,906,907,908,909,910,911,912,913,914,915,916,917,918,919,920,921,922,923,924,925,926,927,928,929,930,931,932,933,934,935,936,937,938,939,940,941,942,943,944,945,946,947,948,949,950,951,952,953,954,955,956,957,958,959,960,961,962,963,964,965,966,967,968,969,970,971,972,973,974,975,976,977,978,979,980,981,982,983,984,985,986,987,988,989,990,991,992,993,994,995,996,997,998,999,1000,1001,1002,1003,1004,1005,1006,1007,1008,1009,1010,1011,1012,1013,1014,1015,1016,1017,1018,1019,1020,1021,1022,1023,1024,1025,1026,1027,1028,1029,1030,1031,1032,1033,1034,1035,1036,1037,1038,1039,1040,1041,1042,1043,1044,1045,1046,1047,1048,1049,1050,1051,1052,1053,1054,1055,1056,1057,1058,1059,1060,1061,1062,1063,1064,1065,1066,1067,1068,1069,1070,1071,1072,1073,1074,1075,1076,1077,1078,1079,1080,1081,1082,1083,1084,1085,1086,1087,1088,1089,1090,1091,1092,1093,1094,1095,1096,1097,1098,1099,1100,1101,1102,1103,1104,1105,1106,1107,1108,1109,1110,1111,1112,1113,1114,1115,1116,1117,1118,1119,1120,1121,1122,1123,1124,1125,1126,1127,1128,1129,1130,1131,1132,1133,1134,1135,1136,1137,1138,1139,1140,1141,1142,1143,1144,1145,1146,1147,1148,1149,1150,1151,1152,1153,1154,1155,1156,1157,1158,1159,1160,1161,1162,1163,1164,1165,1166,1167,1168,1169,1170,1171,1172,1173,1174,1175,1176,1177,1178,1179,1180,1181,1182,1183,1184,1185,1186,1187,1188,1189,1190,1191,1192,1193,1194,1195,1196,1197,1198,1199,1200,1201,1202,1203,1204,1205,1206,1207,1208,1209,1210,1211,1212,1213,1214,1215,1216,1217,1218,1219,1220,1221,1222,1223,1224,1225,1226,1227,1228,1229,1230,1231,1232,1233,1234,1235,1236,1237,1238,1239,1240,1241,1242,1243,1244,1245,1246,1247,1248,1249,1250,1251,1252,1253,1254,1255,1256,1257,1258,1259,1260,1261,1262,1263,1264,1265,1266,1267,1268,1269,1270,1271,1272,1273,1274,1275,1276,1277,1278,1279,1280,1281,1282,1283,1284,1285,1286,1287,1288,1289,1290,1291,1292,1293,1294,1295,1296,1297,1298,1299,1300,1301,1302,1303,1304,1305,1306,1307,1308,1309,1310,1311,1312,1313,1314,1315,1316,1317,1318,1319,1320,1321,1322,1323,1324,1325,1326,1327,1328,1329,1330,1331,1332,1333,1334,1335,1336,1337,1338,1339,1340,1341,1342,1343,1344,1345,1346,1347,1348,1349,1350,1351,1352,1353,1354,1355,1356,1357,1358,1359,1360,1361,1362,1363,1364,1365,1366,1367,1368,1369,1370,1371,1372,1373,1374,1375,1376,1377,1378],\"y\":[0.5,0.7200000000000001,1.0,0.8400000000000001,0.30000000000000004,0.36000000000000004,0.7000000000000001,0.44000000000000006,0.44000000000000006,0.3428,0.3428,1.0,0.12,0.8800000000000001,0.4,0.36000000000000004,0.8800000000000001,0.7200000000000001,0.7200000000000001,0.24,0.48,0.04000000000000001,0.8400000000000001,0.8800000000000001,0.45,0.4,0.15000000000000002,0.44000000000000006,0.16000000000000003,0.44000000000000006,0.6400000000000001,0.96,0.27999999999999997,0.8500000000000001,0.68,0.10660000000000001,0.08000000000000002,0.24,1.0,0.10760000000000002,0.75,0.6000000000000001,0.7200000000000001,0.1,0.30000000000000004,0.16000000000000003,0.16000000000000003,0.12,0.8800000000000001,0.35000000000000003,0.08000000000000002,0.27999999999999997,0.08000000000000002,0.16000000000000003,0.4,0.026600000000000002,0.8,0.0534,0.68,0.24,1.0,0.0,0.76,0.15000000000000002,0.68,0.0,0.04000000000000001,0.8,0.1,0.76,0.48,0.9500000000000001,0.0,0.75,0.52,0.0,0.15000000000000002,0.0,0.76,0.5599999999999999,0.0,0.16000000000000003,0.6000000000000001,0.2,0.0,0.2,0.68,1.0,0.46660000000000007,0.27999999999999997,0.15000000000000002,0.7076,0.16000000000000003,0.7000000000000001,0.4,0.9500000000000001,0.8,0.9,0.30000000000000004,0.48,0.0,0.08000000000000002,0.5,0.52,0.7200000000000001,0.6000000000000001,0.0,0.32000000000000006,0.25,0.7200000000000001,0.4,0.7200000000000001,0.5599999999999999,0.8800000000000001,0.0,0.0,0.75,0.5,0.0,0.16000000000000003,0.2,0.0,0.05,0.08000000000000002,0.0,1.0,0.06,0.55,1.0,0.8500000000000001,0.68,0.32000000000000006,0.52,1.0,0.6400000000000001,0.96,1.0,0.48,0.4,1.0,1.0,0.68,0.9,0.8400000000000001,0.44000000000000006,0.48,0.76,0.5,0.4,0.15000000000000002,0.4,0.44000000000000006,0.8,0.6400000000000001,0.76,0.75,0.1,0.16000000000000003,1.0,0.24,1.0,0.5599999999999999,0.24,0.6400000000000001,0.9199999999999999,0.8,0.76,0.68,0.9199999999999999,0.52,0.36000000000000004,0.15000000000000002,0.8,0.55,0.76,0.52,0.4,0.76,0.1166,0.08000000000000002,0.05,0.5599999999999999,0.6400000000000001,0.1,0.45,0.0,0.0,0.0616,0.15000000000000002,0.08000000000000002,0.8400000000000001,0.75,0.32000000000000006,0.6000000000000001,0.8,0.6000000000000001,0.75,0.08000000000000002,0.0,0.6000000000000001,0.08000000000000002,0.08000000000000002,0.05,0.05,0.08000000000000002,0.08000000000000002,0.6400000000000001,0.0,0.44000000000000006,0.16000000000000003,0.16000000000000003,0.06,0.0,0.15000000000000002,0.46660000000000007,0.2666,0.24,0.8400000000000001,0.76,0.6000000000000001,0.1,0.0,0.0666,0.30000000000000004,0.033400000000000006,0.1,0.25,0.32000000000000006,0.0,0.2,0.0,0.0,0.8,0.55,0.6666000000000001,0.7000000000000001,0.0376,0.0,0.05,0.0728,0.6400000000000001,0.0,0.0,0.0,0.35000000000000003,0.0,0.55,0.36000000000000004,0.0,0.0,0.5599999999999999,0.8800000000000001,0.8,0.52,0.24,0.6400000000000001,0.16000000000000003,0.68,0.4,0.0,0.9199999999999999,0.8,0.76,0.8,0.5599999999999999,0.7200000000000001,0.36000000000000004,0.7200000000000001,0.24,1.0,0.8,0.0,0.68,0.8800000000000001,0.8400000000000001,1.0,0.04000000000000001,0.04000000000000001,0.8,0.52,0.12,0.24,0.76,0.8400000000000001,0.5599999999999999,0.8400000000000001,0.48,0.7200000000000001,0.76,0.12,0.96,0.24,0.48,0.8400000000000001,0.0,0.04000000000000001,0.68,0.6000000000000001,0.6400000000000001,0.6000000000000001,0.8800000000000001,0.36000000000000004,0.4,0.96,0.8,0.44000000000000006,0.8400000000000001,0.68,0.8400000000000001,0.68,0.48,0.2,0.32000000000000006,0.6400000000000001,0.68,0.8,0.6000000000000001,0.76,0.0,0.0,0.52,0.52,0.76,0.52,0.5599999999999999,0.0,0.52,0.9199999999999999,0.76,0.68,1.0,0.9199999999999999,0.6000000000000001,0.44000000000000006,0.76,0.44000000000000006,0.7200000000000001,0.8,0.08000000000000002,0.0,0.76,1.0,0.96,0.48,0.5599999999999999,0.27999999999999997,0.7200000000000001,0.0,0.8400000000000001,0.08000000000000002,0.76,0.8,0.24,0.8,0.6000000000000001,0.0,0.48,0.68,0.16000000000000003,0.8400000000000001,0.8800000000000001,0.8,0.36000000000000004,0.5599999999999999,1.0,0.0,0.04000000000000001,0.8,0.76,0.8800000000000001,0.6400000000000001,0.9199999999999999,0.0,0.2,0.16000000000000003,0.8,0.32000000000000006,0.0,0.68,0.2,0.8,0.6000000000000001,0.6000000000000001,0.15000000000000002,0.68,0.5599999999999999,0.96,0.27999999999999997,0.48,0.36000000000000004,0.96,0.27999999999999997,0.08000000000000002,0.266,0.48,0.08000000000000002,0.12,0.96,0.5599999999999999,0.4,0.52,0.0,0.48,0.8,0.8,0.8,0.0,0.6400000000000001,0.27999999999999997,0.7200000000000001,0.8800000000000001,1.0,0.36000000000000004,0.96,0.12,0.27999999999999997,0.04000000000000001,0.8400000000000001,0.9199999999999999,0.8,0.9199999999999999,0.36000000000000004,0.9199999999999999,0.04000000000000001,0.52,0.76,0.0,1.0,0.7200000000000001,0.9199999999999999,0.4,1.0,0.0,0.68,0.0,0.4,0.4,0.9199999999999999,0.6000000000000001,0.9199999999999999,0.4,0.52,0.08000000000000002,0.52,0.8400000000000001,0.0,0.44000000000000006,0.8,0.0,0.4,0.6000000000000001,0.52,0.0,0.0,0.96,0.6000000000000001,0.44000000000000006,0.8800000000000001,0.16000000000000003,0.68,0.0,0.12,0.0,0.48,0.68,0.8,0.4,0.8,0.96,0.12,0.48,0.8800000000000001,0.48,0.96,0.68,0.5599999999999999,0.16000000000000003,0.44000000000000006,0.76,0.08000000000000002,0.9199999999999999,0.6000000000000001,0.9199999999999999,0.16000000000000003,0.8,0.24,0.6400000000000001,0.7200000000000001,0.68,1.0,0.8,0.8,0.5599999999999999,0.76,0.52,0.4,0.16000000000000003,1.0,0.2,1.0,0.48,0.4,0.44000000000000006,0.68,0.16000000000000003,0.9199999999999999,0.5599999999999999,0.4,0.52,0.04000000000000001,0.27999999999999997,0.32000000000000006,0.6400000000000001,0.04000000000000001,0.48,0.04000000000000001,0.27999999999999997,0.36000000000000004,0.32000000000000006,0.76,0.2,0.24,0.8,0.4,0.52,0.76,0.52,0.04000000000000001,0.6000000000000001,0.36000000000000004,0.12,0.12,0.04000000000000001,0.12,0.04000000000000001,0.2,0.68,0.27999999999999997,0.4,0.5599999999999999,0.6400000000000001,0.16000000000000003,0.36000000000000004,0.44000000000000006,0.8400000000000001,1.0,0.24,0.5599999999999999,0.8800000000000001,0.8800000000000001,0.7200000000000001,0.24,0.27999999999999997,0.68,0.16000000000000003,0.5599999999999999,0.6400000000000001,0.32000000000000006,1.0,0.7200000000000001,0.7200000000000001,0.08000000000000002,0.36000000000000004,0.24,0.24,0.44000000000000006,1.0,0.52,0.0,0.5599999999999999,0.6400000000000001,0.32000000000000006,0.04000000000000001,0.76,0.8,0.5599999999999999,1.0,0.68,0.5599999999999999,0.27999999999999997,0.24,0.6400000000000001,0.6000000000000001,0.44000000000000006,0.4,0.76,0.32000000000000006,0.96,0.24,0.48,0.36000000000000004,0.52,0.76,0.24,0.04000000000000001,0.76,0.48,0.08000000000000002,0.68,0.8400000000000001,0.48,0.16000000000000003,0.8800000000000001,0.6000000000000001,0.4,0.6000000000000001,0.44000000000000006,0.36000000000000004,0.5599999999999999,0.5599999999999999,1.0,0.44000000000000006,0.24,0.32000000000000006,0.5599999999999999,0.36000000000000004,0.52,0.04000000000000001,0.48,0.8400000000000001,0.44000000000000006,0.32000000000000006,0.16000000000000003,1.0,0.24,0.6000000000000001,0.6000000000000001,0.0,0.0,0.4,0.0,1.0,0.6000000000000001,0.4,0.0,0.4,1.0,0.2,0.8,0.8,0.2,0.2,0.2,0.8,0.2,1.0,0.8,0.8,0.8,0.8,0.6000000000000001,0.8,0.0,0.0,0.2,0.8,1.0,0.4,0.8,0.0,0.4,0.2,0.0,0.4,1.0,0.2,0.6000000000000001,0.4,1.0,0.4,0.2,1.0,0.0,1.0,1.0,0.0,0.4,0.8,0.0,0.4,0.6000000000000001,0.0,0.6000000000000001,0.2,0.6000000000000001,0.4,0.8,0.0,0.8,0.8,0.4,0.4,1.0,0.4,0.4,0.0,0.4,0.0,0.4,0.8,0.8,0.2,0.8,0.8,0.4,0.4,0.4,0.0,0.6000000000000001,0.2,1.0,0.2,0.0,0.4,0.4,0.0,0.6000000000000001,0.6000000000000001,0.6000000000000001,1.0,1.0,0.8,0.2,0.0,1.0,0.0,0.8,1.0,0.6000000000000001,0.6000000000000001,0.6000000000000001,0.4,0.2,0.0,0.4,0.0,0.4,1.0,0.6000000000000001,0.6000000000000001,1.0,0.6000000000000001,0.4,0.2,0.2,1.0,0.2,0.4,0.8,0.0,0.4,0.2,0.6000000000000001,0.2,0.2,1.0,1.0,1.0,0.0,0.8,0.8,0.0,0.0,0.4,0.8,1.0,0.6000000000000001,0.6000000000000001,0.8,0.2,0.0,0.4,0.4,1.0,0.8,1.0,0.2,0.0,0.4,0.0,0.4,0.2,1.0,1.0,0.6000000000000001,0.0,0.0,0.4,1.0,0.2,0.6000000000000001,0.6000000000000001,0.4,0.2,0.2,0.4,0.4,0.8,0.0,0.2,0.2,0.4,0.4,0.0,0.2,1.0,0.4,0.4,1.0,0.4,1.0,0.0,0.8,0.8,0.8,0.0,0.4,0.4,1.0,0.4,0.6000000000000001,0.8,0.2,1.0,0.4,0.2,0.4,0.2,0.8,1.0,0.2,0.8,0.4,0.8,0.4,0.8,1.0,0.0,0.0,1.0,0.8,0.2,0.8,0.8,1.0,1.0,0.8,0.2,0.0,0.6000000000000001,0.8,0.6000000000000001,1.0,1.0,1.0,0.2,0.0,0.8,0.2,0.8,0.6000000000000001,1.0,1.0,0.0,0.2,0.0,0.0,0.0,0.0,0.8,1.0,0.2,0.2,0.8,0.2,1.0,0.6000000000000001,1.0,1.0,0.27999999999999997,0.7200000000000001,0.7000000000000001,0.6400000000000001,0.8,0.4,0.7200000000000001,0.8400000000000001,0.8,0.65,0.68,0.7334,0.75,0.24,0.76,0.68,0.6400000000000001,0.7200000000000001,0.6000000000000001,0.32000000000000006,0.6400000000000001,0.76,0.8400000000000001,0.6000000000000001,0.8,0.9500000000000001,0.7066,0.25,0.8,0.6000000000000001,0.52,0.7000000000000001,0.30000000000000004,0.4,0.7000000000000001,0.6000000000000001,0.9500000000000001,0.68,0.68,0.8500000000000001,0.76,0.6000000000000001,0.6000000000000001,0.9199999999999999,0.6000000000000001,0.8500000000000001,0.36000000000000004,0.5599999999999999,0.25,0.75,0.75,0.75,0.7000000000000001,0.9199999999999999,0.65,0.2666,0.5,0.65,0.6000000000000001,0.7200000000000001,0.44000000000000006,0.96,0.8,0.68,0.6400000000000001,0.5,0.65,0.76,0.8800000000000001,0.7000000000000001,0.30000000000000004,0.5599999999999999,0.7200000000000001,0.8400000000000001,0.6000000000000001,0.6000000000000001,0.32000000000000006,0.8,0.2666,0.7200000000000001,0.6000000000000001,0.6000000000000001,0.7000000000000001,0.8,0.44000000000000006,0.68,0.7000000000000001,0.8500000000000001,0.52,0.6000000000000001,0.48,0.76,0.6000000000000001,0.7000000000000001,0.7000000000000001,0.75,0.45,0.65,0.96,0.76,0.68,0.4,0.9199999999999999,0.7000000000000001,0.6666000000000001,0.5334,0.6400000000000001,0.76,0.68,0.68,0.7200000000000001,0.76,0.36000000000000004,0.6400000000000001,0.6000000000000001,0.36000000000000004,0.55,0.32000000000000006,0.55,0.65,0.45,0.6000000000000001,0.6364000000000001,0.75,0.52,0.25,0.5,0.8400000000000001,0.52,0.27999999999999997,0.7200000000000001,0.6000000000000001,0.7000000000000001,1.0,0.6000000000000001,0.76,0.76,0.8444000000000002,0.5,1.0,0.8,0.7200000000000001,0.8400000000000001,0.68,0.52,0.7200000000000001,0.8,0.7000000000000001,0.30000000000000004,0.7000000000000001,0.35000000000000003,0.75,0.96,0.68,0.52,0.8800000000000001,0.7200000000000001,0.7200000000000001,0.8,0.9,1.0,0.68,0.75,0.6352000000000001,0.7200000000000001,0.6400000000000001,0.7000000000000001,0.38,0.6000000000000001,0.7200000000000001,0.75,0.7200000000000001,0.75,0.6666000000000001,0.52,0.36000000000000004,0.7200000000000001,0.8800000000000001,0.6000000000000001,0.8,0.65,0.6000000000000001,0.52,0.52,0.9199999999999999,0.55,0.44000000000000006,0.6666000000000001,0.5538000000000001,0.5599999999999999,0.8,0.9466,0.32000000000000006,0.75,0.1,0.65,0.48,0.6400000000000001,0.75,0.65,0.48,0.9,0.8,0.76,0.16000000000000003,0.6000000000000001,0.7000000000000001,0.4,0.5599999999999999,0.4,0.6000000000000001,0.7000000000000001,1.0,0.65,0.68,0.68,0.75,0.55,0.6400000000000001,0.52,0.32000000000000006,0.5,0.68,0.8,0.8500000000000001,0.8,0.68,0.5599999999999999,0.32000000000000006,0.76,0.5334,0.24,0.96,0.6000000000000001,0.8,0.8,0.55,0.45,0.6400000000000001,0.9500000000000001,0.5599999999999999,0.27999999999999997,0.15000000000000002,0.7334,0.68,0.68,0.7714000000000001,0.6000000000000001,0.7000000000000001,0.65,0.27999999999999997,0.15000000000000002,0.68,0.96,0.08000000000000002,0.36000000000000004,0.48,0.32000000000000006,0.6400000000000001,0.08000000000000002,0.8,0.16000000000000003,0.27999999999999997,0.36000000000000004,0.44000000000000006,0.6400000000000001,0.24,0.25,0.8400000000000001,0.52,0.7200000000000001,0.08000000000000002,0.0,1.0,0.8800000000000001,0.96,0.7200000000000001,0.76,0.04000000000000001,0.76,0.44000000000000006,0.8,0.52,0.12,0.8800000000000001,0.8,0.16000000000000003,0.4,0.27999999999999997,0.6000000000000001,0.12,0.4,0.9199999999999999,0.27999999999999997,0.9,0.16000000000000003,0.0,0.8800000000000001,0.2,0.68,0.12,0.2,0.5599999999999999,0.32000000000000006,0.48,0.16000000000000003,0.8800000000000001,0.96,0.68,0.76,0.9,0.44000000000000006,0.8,0.2,0.52,0.2,0.27999999999999997,0.8,0.8400000000000001,0.76,0.76,0.48,0.08000000000000002,0.44000000000000006,0.8800000000000001,0.7200000000000001,0.44000000000000006,1.0,0.8400000000000001,0.36000000000000004,0.27999999999999997,0.44000000000000006,0.76,0.8400000000000001,0.4,1.0,0.76,0.24,0.44000000000000006,0.27999999999999997,0.48,0.6000000000000001,0.6400000000000001,0.76,0.6000000000000001,0.4,0.5599999999999999,0.8,0.9199999999999999,0.8,0.44000000000000006,0.68,0.68,0.68,0.8400000000000001,0.76,0.52,0.44000000000000006,0.08000000000000002,0.36000000000000004,0.2,0.32000000000000006,0.32000000000000006,0.52,0.52,0.0,0.8800000000000001,0.68,0.12,0.0,0.8800000000000001,0.7200000000000001,0.6000000000000001,0.76,0.44000000000000006,0.0,0.9199999999999999,0.32000000000000006,0.9199999999999999,0.8400000000000001,0.76,0.6000000000000001,0.2,0.7200000000000001,0.16000000000000003,0.44000000000000006,0.8400000000000001,0.8400000000000001,0.68,0.26,0.24,0.7200000000000001,0.6400000000000001,0.2,0.6000000000000001,0.76,0.32000000000000006,0.24,0.68,0.08000000000000002,0.96,0.0,0.08000000000000002,0.5599999999999999,0.7200000000000001,0.4,0.8,0.76,0.36000000000000004,0.04000000000000001,0.4,1.0,0.0,0.7200000000000001,0.7200000000000001,0.68,0.04000000000000001,0.8800000000000001,0.12,0.08000000000000002,0.9199999999999999,0.52,0.5599999999999999,0.6400000000000001,0.4,0.36000000000000004,0.08000000000000002,0.27999999999999997,0.24,0.52,0.48,0.8400000000000001,1.0,0.08000000000000002,0.32000000000000006,0.6400000000000001,0.8800000000000001,0.96,1.0,0.534,0.0,1.0,0.6000000000000001,0.96,0.48,1.0,0.96,1.0,0.6400000000000001,0.24,1.0,0.9199999999999999,0.4,0.36000000000000004,0.6000000000000001,0.76,0.8,0.96,0.96,0.5599999999999999,0.52,0.8800000000000001,0.9199999999999999,0.44000000000000006,0.08000000000000002,0.08000000000000002,0.27999999999999997,0.96,0.8800000000000001,1.0,0.4,1.0,1.0,1.0,1.0,0.8,0.6000000000000001,0.6000000000000001,1.0,0.8,0.4,0.2,0.8,0.0,0.4,1.0,0.6000000000000001,0.4,0.4,0.0,0.0,0.2,0.2,0.2,0.4,0.0,0.2,0.2,0.0,0.0],\"type\":\"scatter\",\"xaxis\":\"x\",\"yaxis\":\"y2\"},{\"name\":\"Predicition\",\"x\":[0,1,2,3,4,5,6,7,8,9,10,11,12,13,14,15,16,17,18,19,20,21,22,23,24,25,26,27,28,29,30,31,32,33,34,35,36,37,38,39,40,41,42,43,44,45,46,47,48,49,50,51,52,53,54,55,56,57,58,59,60,61,62,63,64,65,66,67,68,69,70,71,72,73,74,75,76,77,78,79,80,81,82,83,84,85,86,87,88,89,90,91,92,93,94,95,96,97,98,99,100,101,102,103,104,105,106,107,108,109,110,111,112,113,114,115,116,117,118,119,120,121,122,123,124,125,126,127,128,129,130,131,132,133,134,135,136,137,138,139,140,141,142,143,144,145,146,147,148,149,150,151,152,153,154,155,156,157,158,159,160,161,162,163,164,165,166,167,168,169,170,171,172,173,174,175,176,177,178,179,180,181,182,183,184,185,186,187,188,189,190,191,192,193,194,195,196,197,198,199,200,201,202,203,204,205,206,207,208,209,210,211,212,213,214,215,216,217,218,219,220,221,222,223,224,225,226,227,228,229,230,231,232,233,234,235,236,237,238,239,240,241,242,243,244,245,246,247,248,249,250,251,252,253,254,255,256,257,258,259,260,261,262,263,264,265,266,267,268,269,270,271,272,273,274,275,276,277,278,279,280,281,282,283,284,285,286,287,288,289,290,291,292,293,294,295,296,297,298,299,300,301,302,303,304,305,306,307,308,309,310,311,312,313,314,315,316,317,318,319,320,321,322,323,324,325,326,327,328,329,330,331,332,333,334,335,336,337,338,339,340,341,342,343,344,345,346,347,348,349,350,351,352,353,354,355,356,357,358,359,360,361,362,363,364,365,366,367,368,369,370,371,372,373,374,375,376,377,378,379,380,381,382,383,384,385,386,387,388,389,390,391,392,393,394,395,396,397,398,399,400,401,402,403,404,405,406,407,408,409,410,411,412,413,414,415,416,417,418,419,420,421,422,423,424,425,426,427,428,429,430,431,432,433,434,435,436,437,438,439,440,441,442,443,444,445,446,447,448,449,450,451,452,453,454,455,456,457,458,459,460,461,462,463,464,465,466,467,468,469,470,471,472,473,474,475,476,477,478,479,480,481,482,483,484,485,486,487,488,489,490,491,492,493,494,495,496,497,498,499,500,501,502,503,504,505,506,507,508,509,510,511,512,513,514,515,516,517,518,519,520,521,522,523,524,525,526,527,528,529,530,531,532,533,534,535,536,537,538,539,540,541,542,543,544,545,546,547,548,549,550,551,552,553,554,555,556,557,558,559,560,561,562,563,564,565,566,567,568,569,570,571,572,573,574,575,576,577,578,579,580,581,582,583,584,585,586,587,588,589,590,591,592,593,594,595,596,597,598,599,600,601,602,603,604,605,606,607,608,609,610,611,612,613,614,615,616,617,618,619,620,621,622,623,624,625,626,627,628,629,630,631,632,633,634,635,636,637,638,639,640,641,642,643,644,645,646,647,648,649,650,651,652,653,654,655,656,657,658,659,660,661,662,663,664,665,666,667,668,669,670,671,672,673,674,675,676,677,678,679,680,681,682,683,684,685,686,687,688,689,690,691,692,693,694,695,696,697,698,699,700,701,702,703,704,705,706,707,708,709,710,711,712,713,714,715,716,717,718,719,720,721,722,723,724,725,726,727,728,729,730,731,732,733,734,735,736,737,738,739,740,741,742,743,744,745,746,747,748,749,750,751,752,753,754,755,756,757,758,759,760,761,762,763,764,765,766,767,768,769,770,771,772,773,774,775,776,777,778,779,780,781,782,783,784,785,786,787,788,789,790,791,792,793,794,795,796,797,798,799,800,801,802,803,804,805,806,807,808,809,810,811,812,813,814,815,816,817,818,819,820,821,822,823,824,825,826,827,828,829,830,831,832,833,834,835,836,837,838,839,840,841,842,843,844,845,846,847,848,849,850,851,852,853,854,855,856,857,858,859,860,861,862,863,864,865,866,867,868,869,870,871,872,873,874,875,876,877,878,879,880,881,882,883,884,885,886,887,888,889,890,891,892,893,894,895,896,897,898,899,900,901,902,903,904,905,906,907,908,909,910,911,912,913,914,915,916,917,918,919,920,921,922,923,924,925,926,927,928,929,930,931,932,933,934,935,936,937,938,939,940,941,942,943,944,945,946,947,948,949,950,951,952,953,954,955,956,957,958,959,960,961,962,963,964,965,966,967,968,969,970,971,972,973,974,975,976,977,978,979,980,981,982,983,984,985,986,987,988,989,990,991,992,993,994,995,996,997,998,999,1000,1001,1002,1003,1004,1005,1006,1007,1008,1009,1010,1011,1012,1013,1014,1015,1016,1017,1018,1019,1020,1021,1022,1023,1024,1025,1026,1027,1028,1029,1030,1031,1032,1033,1034,1035,1036,1037,1038,1039,1040,1041,1042,1043,1044,1045,1046,1047,1048,1049,1050,1051,1052,1053,1054,1055,1056,1057,1058,1059,1060,1061,1062,1063,1064,1065,1066,1067,1068,1069,1070,1071,1072,1073,1074,1075,1076,1077,1078,1079,1080,1081,1082,1083,1084,1085,1086,1087,1088,1089,1090,1091,1092,1093,1094,1095,1096,1097,1098,1099,1100,1101,1102,1103,1104,1105,1106,1107,1108,1109,1110,1111,1112,1113,1114,1115,1116,1117,1118,1119,1120,1121,1122,1123,1124,1125,1126,1127,1128,1129,1130,1131,1132,1133,1134,1135,1136,1137,1138,1139,1140,1141,1142,1143,1144,1145,1146,1147,1148,1149,1150,1151,1152,1153,1154,1155,1156,1157,1158,1159,1160,1161,1162,1163,1164,1165,1166,1167,1168,1169,1170,1171,1172,1173,1174,1175,1176,1177,1178,1179,1180,1181,1182,1183,1184,1185,1186,1187,1188,1189,1190,1191,1192,1193,1194,1195,1196,1197,1198,1199,1200,1201,1202,1203,1204,1205,1206,1207,1208,1209,1210,1211,1212,1213,1214,1215,1216,1217,1218,1219,1220,1221,1222,1223,1224,1225,1226,1227,1228,1229,1230,1231,1232,1233,1234,1235,1236,1237,1238,1239,1240,1241,1242,1243,1244,1245,1246,1247,1248,1249,1250,1251,1252,1253,1254,1255,1256,1257,1258,1259,1260,1261,1262,1263,1264,1265,1266,1267,1268,1269,1270,1271,1272,1273,1274,1275,1276,1277,1278,1279,1280,1281,1282,1283,1284,1285,1286,1287,1288,1289,1290,1291,1292,1293,1294,1295,1296,1297,1298,1299,1300,1301,1302,1303,1304,1305,1306,1307,1308,1309,1310,1311,1312,1313,1314,1315,1316,1317,1318,1319,1320,1321,1322,1323,1324,1325,1326,1327,1328,1329,1330,1331,1332,1333,1334,1335,1336,1337,1338,1339,1340,1341,1342,1343,1344,1345,1346,1347,1348,1349,1350,1351,1352,1353,1354,1355,1356,1357,1358,1359,1360,1361,1362,1363,1364,1365,1366,1367,1368,1369,1370,1371,1372,1373,1374,1375,1376,1377,1378],\"y\":[0.4239311676952826,0.8177790324567666,0.750496130885967,0.8158803130630772,0.30721549351550714,0.32642306072234595,0.8064903692592591,0.566302825953261,0.5295057003961476,0.44320999448808873,0.44320999448808873,0.7413464256001232,0.1268662290312944,0.769009959050293,0.40226445503156283,0.43139195173189204,0.8447139944175852,0.6487318980091692,0.5504636928990378,0.31439814715495096,0.315312905250293,0.02109488178386859,0.7338009633651718,0.7452179927915257,0.2957503827910215,0.489286930503679,0.18780717607724973,0.449146419692116,0.1853807214549711,0.5633410900424526,0.6397298205236026,0.7794018657722293,0.27150496290590137,0.6537251981213572,0.6861853544663982,0.045686777774918697,0.3231905622997322,0.4734156086378267,0.7056571330735439,0.16090379874764052,0.671168736542515,0.47483384726753464,0.4638238035288873,0.19419163402588563,0.3576598071204311,0.047136438073914766,0.03677724095030155,0.0816211377934859,0.5474076035941056,0.34423963417140935,0.3171444279175959,0.3276445935594676,0.0022819158265593442,0.20083928650970184,0.3966161595438177,-0.18552718263877077,0.7668498788316893,0.18730042117796147,0.6841841410115175,0.35127365752800466,0.8717990941068456,0.1441081536546347,0.5242365638451267,0.3267569927339413,0.3135943443694497,0.07714196822693631,0.07542992646006508,0.7647795895239536,0.006503418588902354,0.9105350956411637,0.8866224797468893,0.6606144167570784,0.16959694990135166,0.690596946536765,0.6530832984865589,0.02834595859998501,0.19506565623161892,0.03387645305749121,0.5649202284094859,0.6802091760303834,0.06766834080835515,0.15485883052508748,0.47326705356829796,0.2622935134214383,-0.10371197550048505,0.2436280085115501,0.7715680858913385,0.7503161657446455,0.4685299877767883,0.3380866357185308,0.361991788702682,0.6675147448419897,0.12859200913567315,0.6568198363809643,0.30699027286588565,0.7929356064532513,0.4769538591220148,0.5533901850305689,0.28780045608726124,0.5555590667568262,-0.07835469267155248,0.17631477819402996,0.49868652953109494,0.5076218421273819,0.7197183995730021,0.48293284192666697,-0.18931446466603852,0.46635902092228443,0.45714317284263495,0.5208723067461624,0.43396249128496656,0.7645838667429109,0.5264477082026715,0.7310307495515282,-0.15201430320059817,0.050071793893380456,0.731411303634006,0.3184453526428822,0.0013275178242776464,0.11957350940341449,0.15378899571226912,-0.10386574489057598,0.16589768003529337,0.0843954802435607,0.16848660651417452,0.7712662190039228,0.18489859276506154,0.538545734737343,0.8914127296974614,0.5474537469303008,0.4976302653918103,0.523983638310681,0.650010586733089,0.7810514984193544,0.6164448189514657,0.6872312648420165,0.8023618662416814,0.5802020521788249,0.43718773346369766,1.0988751655076712,0.7482109524291654,0.700698435532561,0.7666659631181334,0.8308383521317457,0.33601247721794647,0.26289928288002634,0.5582788833915822,0.6690733360701646,0.4627852831132096,0.35722526167439983,0.4321122607662039,0.4512715827430247,0.7012047071058263,0.5058394145390461,0.7786227134040545,0.6556559473058086,-0.037503892064117306,0.3294954020222589,0.6731618474681248,0.23552697548844512,0.7835979540664881,0.49619353261080534,0.17102105953723734,0.7209150398821725,0.8210306590849075,0.7392656639886415,0.7436647339066085,0.46736598232956017,0.6620376263290813,0.732669064717757,0.49584353525552927,0.017721905061745424,0.6901294263239157,0.8970268822920876,0.6631352163192628,0.6224525214141947,0.7268892753391614,0.7816882937992264,0.06589300129312992,0.009065081909736206,0.016546355731586138,0.6420812600079938,0.6272329329605063,0.1333973947861845,0.4732781504202622,-0.009770283727843498,-0.0868113458966282,0.1545128676280872,0.3067452423849256,0.04778657746781745,0.6628469554653659,0.4695702868891263,0.34536098845333285,0.6280929098150037,0.6665523922592663,0.7255078743153627,0.7130033911014397,0.10408314333686042,0.04419140553339507,0.688474001957299,0.059167070068828376,0.32890921415988633,0.16998629869235637,0.1962596131003771,0.1335910828123592,0.26690453885426846,0.5344168955381976,-0.10983882537349232,0.5836246628914139,0.4432715104655967,0.23397100226146117,0.23722811110046127,0.20133987405617582,0.10152976841875572,0.48087935843170815,0.31991596254201204,0.36758012523654204,0.6684755690457248,0.68985636676379,0.6454195907105764,0.14687309451973463,0.25771717057809934,0.42618566003233027,0.3923844632702312,0.035651101550874253,-0.11610473383184605,0.22023471022634733,0.35005125020916494,-0.10527846317562795,0.22113343291748944,0.07830884370004954,-0.029746304170140125,0.7214997572358962,0.48899294130515103,0.6014459301892456,0.44252619841798063,0.08628965352328966,0.18410743027767607,0.2551148888721665,0.055117522018108156,0.3677309191318997,0.10861402096218664,0.12082753615258124,-0.10635238266482083,0.5049819034818689,0.11164006228357759,0.8555977948084041,0.5741342261102963,0.206076425853722,0.14017694503974554,0.5622047621724888,0.6693748122710546,0.5159242525458637,0.5656451741805265,0.3296478840539202,0.5364248698850205,0.18735761585027305,0.7613835281089265,0.5120693401042613,0.1653119478840571,0.7030707541657627,0.674411951261343,0.5554577422971962,0.9807939686142209,0.5188013637551394,0.5152839705649087,0.39241866767217215,0.8131763516955359,0.4640046062162215,0.9688626483126804,0.6453975817089996,0.16378146271833371,0.5853580354484148,0.5021362184741749,0.7279477247517296,1.1636935019190087,0.3894164246509165,-0.01522108640842279,0.7510026394374961,0.45211637568996127,0.08152193903472149,0.3344941362755671,0.6025325740755039,0.6701024812847383,0.6643768567164852,0.626116192824229,0.34059137833509606,0.8449548852861024,0.5833836931119974,0.05611412899486212,0.8834589892096759,0.12335042255129791,0.5402936217174549,0.5979117353242731,0.1027594499324116,0.16438396193619467,0.49262143472796116,0.5541068355504053,0.34452738544950956,0.6094941391396267,0.9419179930775017,0.6759204300277074,0.3733210541950296,1.0214440879614282,0.3498125068383948,0.6123659909847966,0.6105679301413134,0.5146761369249658,0.684403251657742,0.2633069468508952,0.48927473307853686,0.13182639409385316,0.24754398667718783,0.6275435124654898,0.4422565834177189,0.5209864516260829,0.18321649896592382,0.6937308772862558,-0.05547334157526018,-0.00970540344479931,0.7214143453471014,0.4308716192992319,0.7793727098762996,0.3573110510500437,0.7271495303548943,0.20197511450138247,0.5826535338737603,0.6021316037333138,0.7295922774947459,0.6465099845995155,0.8214218882862405,0.7742850620556206,0.5457000244559609,0.5618523108288457,0.44249854772775477,0.31875265435493605,0.6505979583071531,0.6607264109648765,0.013378087136174721,0.3347782105776757,0.637889215537983,0.8292945070001975,0.9466869651697458,0.34928708154914645,0.6492581163648936,0.24831020964716277,0.5509636355568105,0.017429936372344357,0.48605409640892383,0.15313958441386263,0.5575399721937274,0.7071024985432737,0.27109644118357745,0.7203425872896942,0.6549584752768882,0.0018351157781728578,0.4320500929397947,0.788088754502233,0.012715817483004987,0.6235893646784677,0.7166817862036062,0.49408792145438585,0.3680291414070934,0.4698737660805826,1.2038924296466709,0.15064398985342764,0.37314427928641486,0.4440772419394279,0.712416050780034,0.6493830806561035,0.5215134381626823,0.5993635351783266,0.16695477731233585,0.2673668874794538,0.5622357961735107,0.667804547939078,0.524505604746445,0.07336563092178577,0.540351291739446,0.6353345042029229,0.6901229688977923,0.5562756947058494,0.5520898864868187,0.07083147461990957,0.6662636667169961,0.6102954614501365,0.41355980965155054,0.35890497451347936,0.5208152762119408,0.2244993300546536,0.7814114023309314,0.38823967156133576,-0.003135166114122123,0.2871900831600648,0.6355006620561163,0.07332017751608644,0.13998575892337162,0.9546909406501037,0.641537821517045,0.4743886551086948,0.39817552648545185,0.15429554987360872,0.5684633207678325,0.6975655748936829,0.5160707477683334,0.7495085284126592,0.3150016394866849,0.6510127188316339,0.5820473861554751,0.7371104784007003,0.5697211263299539,0.6774057117442001,0.4958562495937462,0.6327887679810928,0.2356595658255156,0.4902477170786186,-0.01734920631380643,0.6209555293788913,0.7468726704033639,0.8785416711061466,0.869821165747311,0.2921779994568535,0.9281291651261507,0.2011134294657615,0.4741647232062788,0.14640089362717268,0.36076720415873087,0.9224417429015914,0.3018586839770845,0.5232695979024974,0.3558269586767383,0.843340751322261,0.3014259900626325,0.7119265838076776,-0.13247059807747696,0.5386064426036827,0.43413477898048025,0.996864744988595,0.5291542222394875,0.6295053759054683,0.6584246161347018,0.5658514316325467,0.06975538596566133,0.84855529474285,0.5842859233776211,0.22553808273570453,0.41459664074005426,0.5029012046911551,0.14562177566494294,0.27910338486706426,0.6109115382566374,0.8822368243571577,-0.04079463059238475,0.27962909165805905,0.9420188284987514,0.530544077838794,0.48410141033633813,0.7614824531119964,0.49581850974448316,0.6760049123243752,0.15687790370950994,0.2865368763752848,0.24429900035178004,0.44979739935038315,0.7644528004320028,0.6184840551703108,0.39273607592454707,0.849484831000413,0.9795755013950054,0.19083283144652138,0.6228309510284595,0.5113260650382216,0.5583490884772527,0.5732043175407573,0.4511823741250633,0.3833996138221024,0.38245437267392485,0.4932390575296531,0.37681142801931067,0.12124781460755002,0.7031559854080344,0.41270565116847124,0.7081082129062835,0.08989109189355543,0.6517666053807967,0.5356543088109273,0.5753176843580562,0.638657865829951,0.4611712159494119,0.7757636419059817,0.8767543100437427,0.6888222755550475,0.6098067559742071,0.7605592572627917,0.5758908834922924,0.656326627157249,0.17685004278698957,0.6544318152282871,0.28991562146993377,0.8522529187771384,0.5982641351736797,0.4511376022131649,0.48791470744943144,0.6398397785244602,0.3529121587790032,0.7292796972000708,0.517778880590428,0.06993315472579148,0.496492921548491,0.06733354250121198,0.15882480402343035,0.5287612257306871,0.5215692835886893,0.04564320152352164,0.5592052900369704,0.15601708279006446,0.626406801173873,0.29119861441943573,0.10864858404122035,0.6095754762466448,0.43345775131980757,0.40902943320412244,0.7048689748214712,0.4651647497602368,0.6472304870805932,0.5529689834967813,0.36504347163116896,0.364263741972096,0.31879966967337514,0.21226170481316364,0.24554847405913338,0.06435142292142826,0.5697160936722859,0.5086046994266398,0.30593335407334477,0.13520482012648805,0.7412933373982178,0.3460720857849354,0.4885849386917207,0.4030090997712301,0.7482021864659407,0.3167101095020666,0.46803640690176795,0.5183913986097984,0.7066816640258081,1.0486147086195925,0.21711321036454545,0.4089826582443723,0.6119644055127176,0.8321291044144853,0.6034235187367232,0.14182869687077737,0.6191590331321022,0.4757483741565436,0.616419411688539,0.4833200481853237,0.7026514047716097,0.23780671169105516,0.7849201141478694,0.3784986920864446,0.8731100382401864,0.25672801242726173,0.2458104849539131,0.6759593150717558,0.3708022113209635,0.2511827221605556,1.0524482580319057,0.6411167113742349,0.44631554871317125,0.5067972903758438,0.45040325600033615,0.14915401796690259,0.23682047053516597,0.6165630045208116,0.9667745014510845,0.7525338018355276,0.8106001920864253,0.618657755404326,0.456204074023447,0.3954315915510269,0.3890857481202201,0.5241139056484646,0.5173892729318823,0.2429036636245645,0.7566385448281123,0.5302521412808459,-0.08466190404287832,0.4397690807283165,0.3807490779640905,0.30955217979767147,0.22209207078963156,0.30819361858089167,0.6415977414663286,0.5032368992761334,0.5395340322884885,0.7967674635689938,0.47150548977760876,0.48520176342979104,0.536429353735534,0.818862052040122,0.24785902840702354,-0.11281394219647467,0.9387961622861009,0.5870618158469998,0.24387703231377156,0.6642085739742902,0.3380071751424823,0.18674749282408643,0.7602422849519785,0.5893138555428878,0.5577604099401223,0.6314664718303437,0.472193675234045,0.16621827339637196,0.5783950082141665,0.27025868981764534,0.3062748249409264,0.3550196300657033,0.7933456096500024,0.6257560646175293,0.3991881391536149,0.6992771963246399,0.2369203906584918,0.9725943956588626,0.44364851080785955,0.5958053296875148,0.46326820100371124,0.15622182217284486,0.44419964692914093,0.6340230365663897,0.3792982433065435,0.05413762542911704,0.6026067113661863,0.16188824380024092,0.459919555527174,0.1560236304871151,0.4385577836397213,0.22931222368216325,0.6285075368265516,0.29181364577402413,0.7400522191342174,0.12624141319518845,0.4425280127945143,0.00921194600517472,0.6360044055856626,0.3447632252516983,0.4287642613409122,0.5424248621800287,0.6437547464965887,0.7928189853460408,0.26116628484073906,0.401919407649279,0.20471175210845755,-0.07169322119325405,0.5689343972974288,0.40785293995777877,0.5629135083482726,0.0778617573528485,0.5053350679782481,0.3775373247689059,0.28075520795821596,0.3675690357108302,0.6813239820947589,0.30641032200208645,0.7909773240980833,0.5854879773711438,0.6699528155053966,0.5129808978359519,0.5394123195913916,0.24259979188908543,0.2839809708484048,1.0502642180543438,0.33577559219181824,0.6697401955866683,0.7681532443828774,0.49603104581513385,0.24189404416726012,0.6019249230276088,0.5254922143343488,0.2890826526401178,0.6606694919574708,0.264845535161528,0.7478429366938486,0.6055256276798563,0.7715802461935889,0.4220628992749468,0.7793331190668399,0.5215405439439478,0.5040924395555584,0.5085723490741603,0.46960197577958507,0.09708421489614483,0.028485867344404836,0.3363253983685514,0.6233826600390482,0.28526367214560155,0.16791526140972957,0.18008920714425927,0.22674354807698688,0.6837766060890235,0.29749824309555084,0.4000950901301528,0.5011661216257409,0.47266277886535024,0.1067916454597011,0.3988502363778866,0.5443642928508259,0.26939208538547044,0.6418110437554637,0.5907252889282615,0.6200978454397996,0.2629070278093955,0.05024287735693034,0.42919402761952974,0.5699178021716645,0.4185471852663951,0.09038666211551605,0.28115572535440936,0.3817627631706626,0.7325042528169164,0.6648133115904191,0.2583486443486178,0.431233600114334,0.17811963908348277,-0.07115828552513193,0.3146185926128808,0.4104172513207807,-0.02753527613235429,0.4107191879909895,0.0983516517974628,0.13859057822495036,0.7413193543745784,0.14886739610352762,0.3962916879510797,0.5753288085791295,0.5726281800316018,0.2848639856141828,0.6899678954408044,0.38844694948886044,0.3496480371394376,0.5218760182643472,0.503160830583618,0.3527442539374773,0.1057043231523096,0.46808063617886475,0.43951195550422906,0.46119541901790656,0.3159941048247513,0.23750836344323314,0.6249660888126081,0.13581933124828405,0.6781956772207907,0.2570499361253921,0.2940664759066789,0.340611725238988,0.595028354885658,-0.14448552642281354,0.5173124156389021,0.6671654491240153,0.6389942658156205,0.6563155681278553,0.04077803607452457,0.2892008393348686,0.39863715097400687,0.5242820046955226,0.4067981503124635,0.40531922802937825,0.49121044720865686,0.5098188803251958,0.29949126357747224,0.25839766584974644,0.43843819076381796,0.5595670616659012,0.6938205532607722,0.062034276459112525,0.39131622777348635,0.5819611616400852,0.4003413199775119,0.2607188464109613,0.4385573463155473,0.4704632974020718,0.8320925920058535,0.866044284226028,0.14666087938236794,0.8774202619607817,0.47628447746562147,0.3001600178840875,0.8759587088983318,0.9716086036733195,0.006166133754772207,0.4016844969419537,0.5285016948657238,0.31069259214288986,0.2359821986429248,0.46019159885895666,0.3161617282397895,0.7034890251109953,0.7694651073129168,0.19409692789630428,-0.020192158317823283,0.4002929086558664,0.2730105337765165,0.5126055067866451,0.07607342243416426,0.4098821072064146,0.3896997254412262,0.6620534588206992,0.31102767850162427,0.4075994825305898,0.38944094947484187,0.45971927260284196,0.12193948446443886,0.15640771462693803,0.7342464417378823,0.7397346341893043,0.13391654455658658,0.36887134233032626,0.45405011925360717,0.38778973105641334,0.46313502260161654,0.21631001933766877,0.6260215760278878,0.2702048696428644,0.9595282710490594,0.4680752117986122,0.17384357950506113,0.42765657178654276,0.478101545910208,0.6839776603538351,1.2363722615254953,0.7480465020088247,0.2364771940361765,0.2313415048406992,0.2921802938198477,0.9398670010098548,0.25532107364610623,0.7438848267214556,0.24863663080905357,0.35330045843920665,0.8245214332881357,0.06825831694740792,0.389879205333797,1.1269661739645556,0.4417061262770008,0.5745563385426293,0.1037202311362791,0.316586060143989,0.15423192774237818,0.28734004153712345,0.48369565638735124,0.6804951889539153,0.5967181754396921,0.8090019656988767,0.8004685877839208,1.3864355559508992,0.57072809785807,0.5062161544612931,0.3071461371085874,0.7771256470105051,-0.08503108055188924,0.9105308582671271,0.7007622230965425,0.7484305529470662,0.5436099031129178,0.30205609497163066,0.05503032351396803,0.5684345213706787,0.1646135901172432,0.00856067051159648,0.8315925586494972,0.4509348885562322,0.42098965218422113,0.20000374704770704,0.16332167941371667,0.6003926217679745,1.338371595796617,0.34963417782721834,0.33065480181810514,0.9695741948718544,0.5105027233880061,0.7867070341944742,0.580686488782159,0.8163685606724917,0.561912787997349,0.4579731017376648,0.5678408757590605,0.2662470266503557,0.688626103381446,0.3688434814092624,0.635036037218216,0.7365461816894383,0.5816194613125683,0.31746142428073565,0.6282490047343492,0.5207594883321193,0.47091397119135836,0.44769480034276454,0.3371876252612639,0.6767309138175993,0.5113322414543182,0.7530349119702493,0.5434130166908161,0.4803619694774735,0.7077886130562554,0.780514276450902,0.5515799731384514,0.8864592293021634,0.5806971457001381,0.6401530249085021,0.40780022890731893,0.5904124015353804,0.45051079920283454,0.6362662127516912,0.7991552719151607,0.7776722303048782,0.925054981214624,0.4478840828045302,0.408483860326027,0.7650418590185726,0.4612323612982311,0.5647548477491859,0.7703348123387468,1.0004179884809197,0.726171868740528,0.5601628656620259,0.4663729763591191,0.49840029563895927,0.6145015859737898,0.7896461268439493,0.5668133233269665,0.7531193801527194,0.8541369694015968,0.809082379837866,0.6256778228476388,0.4202844695248412,0.46286226465775826,0.43907008570878236,0.5554567338480579,0.6696521231158746,0.5998104554869484,0.7752510549713911,0.6581754986762585,0.6878626260796801,0.49200473496802527,0.3578430354754478,0.6116918336466748,0.6527137966290812,0.5508879849734554,0.7042331163784179,0.4614797533218465,0.5984293992487419,0.5888499201894899,0.6772496912985257,0.5283967514340555,0.7329699029863166,0.5400554397008328,0.4038438989403501,0.3259982202817186,0.5279786407843285,0.6834156603113775,0.6454774467021941,0.9198129321370454,0.7279872106715124,0.5690435994014259,0.4893200877877176,0.7255143556473432,0.7927380193181821,0.5299799233680008,0.49325955931679255,0.6537155461087399,0.5856908349666741,0.663131756954326,0.6152823164988428,0.4761207343168803,0.8427766796868004,0.8231848193660259,0.5559705008544004,0.8884692835162766,0.7915280923645508,0.6015285328474249,0.617935574784864,0.7371648893216616,0.40818708622832167,0.6976064032306821,0.6461135527781035,0.556725106661871,0.6694786416175745,0.24717675183154375,0.5905336944963558,0.6063642427060041,0.8436519087867562,0.5403277643500618,0.5655200245364347,0.7640353751482174,0.4529959125562457,0.5463564365287021,0.650247057306628,0.7316353636456407,0.3187606119458427,0.5969909539112128,0.5230016715484749,0.5261586353490694,0.724335631405081,0.5846592678031376,0.5871554352031211,0.6515415705561749,0.8543114954391572,0.7089502231868019,0.6767319624765513,0.8885493267631346,0.5183321105578795,0.6358533520472914,0.6025176038608004,0.5121895540187493,0.9726290044038362,0.7410663113143724,0.8356418271282935,0.5423743925192761,0.8172655681925511,0.633790072956308,0.6428905635329185,0.9804428464705024,0.6016824382192063,0.4774646068030277,0.20836934872408217,0.6056866928855604,0.522780898309549,0.6118015987799705,0.7256025088269467,0.5425825377989386,0.566441406179994,0.9491322909590344,0.684560850308715,0.5938962936722956,0.736599123282931,0.5150737761682834,0.6458294508778114,0.6052262468162495,0.7388874135375514,0.7400827636025569,0.6329212335223842,0.9771331516517792,0.4520768459303114,0.7887408345012707,0.7251041608352099,0.7739221097265453,0.6250574788021235,0.5613599612554523,0.36140467216584826,0.8220582789192972,0.8227486042662777,1.139896255583245,0.6014897180849157,0.6384241815098736,0.4628324636332189,0.8560465537180881,0.5869213839861395,0.6926010683038799,0.8025487491479888,0.5895575412152407,0.5889234788268098,0.4331170118068992,0.624264405935824,0.9420520125327096,0.386749642293694,0.5883426797875189,0.4671899204477865,0.8092975488449976,0.3620585316910002,0.7445549528527055,0.767350766288738,0.5570966466396452,0.5901767783038234,0.28545705580483116,0.7544814978862284,0.7458036556650647,0.8474811686474844,0.8128092368648776,0.8167502238232067,0.5603207486292343,0.684313399899783,0.7356834336910533,0.44384212067703976,0.4462741620581772,0.6449323054615431,0.5120616990055528,0.40878921748640407,0.7883183975994372,0.392117404797563,0.7980733943267184,0.9438700825919564,0.9234643267662928,0.49238269105317967,0.7592424223687012,0.8295655920985244,0.6084595003032185,0.5630696690889153,0.681917339270516,0.6842791679941519,0.34735428335631,0.6219852891968135,0.28699569458395435,0.6007271115325015,0.8159596631370041,0.4331345778423526,0.5508129892573603,0.45532514163782234,0.5013103091660044,0.6187476980408251,0.8355326490553816,0.22507863157495772,0.8300123484647413,0.7226750310056196,0.8341906692419443,0.6389484854928784,1.0119365418279131,0.6809806196647721,0.6406626505168926,1.029161271213975,0.39222265890708374,0.5528328428911236,0.1525348691010897,0.8234735412590329,0.5165038189393971,0.05261165415271829,0.9612730897378295,0.6123249289804991,1.0805794790208463,0.7918063787821749,0.5883977377151701,0.26022957926365353,0.7010727426498429,0.6503515398374846,0.3626961176168684,0.24732751432936406,0.8524991095883806,0.4328606702269527,0.4576638533932773,0.12203526536760334,1.0185100048767461,0.3790291090659177,0.3765675979668983,0.3103871484552177,0.48679972846647424,0.5103536577120813,0.8205456615159492,0.4365016363918995,0.7482997199373678,0.4507349224160283,0.4324407655516552,0.34276429058484237,0.1043920704687551,0.806610666268279,0.4742212587832813,0.899604359833218,0.6088456221412586,0.7306779089053581,0.3215740939467593,0.6720106938278398,0.33480763425760407,0.5515605548860654,0.7023332591498137,0.4943043872980124,0.970582887560335,0.9455392068272499,0.40052830112809407,0.6063374559440973,0.18154306876346948,0.47132853195318325,0.28790011797198234,0.49347779606312536,0.7824806967705609,0.521405620325122,0.7301442811638843,0.39228338492679593,0.2286150371480653,0.8337578840464566,0.3727847871101405,0.8668798741803793,0.35699369617089416,0.44551873618113313,0.7963279386020274,0.816643043286467,0.6570950117677085,0.13451062563384064,0.7564225010231544,0.8759498167335578,0.7086425801106073,0.49622116121915394,0.7187887457838134,0.45608913076203983,0.7123364771364469,0.5102912242766117,0.3515719528609724,0.39991676867135745,0.5416067082290414,0.5810213763304068,0.5914038841921606,0.2200070554885999,0.6469079428130837,0.4571105380097156,0.39303988876813545,0.3682717238178124,1.0026453998152933,0.8116742950750646,0.4032106424152171,0.7252165400020312,0.5618492618992753,0.39446295505336315,0.5657208750476166,0.6177210556849031,0.9152697689240685,0.6530857003041233,0.6686833417896879,0.959822506552629,0.8639166645861915,0.6662609604000016,0.4803277687900086,0.34314232416943335,0.5168437922155796,0.3521532213304619,0.25849311804182906,0.6340225359996855,0.6778964070612925,0.5176481013091524,0.4077254974538509,0.5798702245528568,0.8269427590935328,0.7888805280088427,0.24791443051870665,0.963513157900298,0.6467643727107787,0.44813220880774984,0.5538698594644565,0.44051847110627784,0.45792877000512466,0.6214892610933127,0.29046065025047985,0.4688713652312577,0.54822409367259,0.3358359088579117,0.6001458372725681,0.5207340241815666,0.3827357052607363,0.28708872260549556,0.7351562893225584,0.5544215121072934,0.2297533554449458,-0.032003930609158626,0.6138265648760779,0.5890923991862749,0.6219668009853483,0.702368326567745,0.3880072688643441,0.3197885272587512,0.6053525916241528,0.31732602412109895,0.7564359901606705,0.4078366017297199,0.7243230736584461,0.7044930227238866,0.28990714169958043,0.5535573790549484,0.4850834577958234,0.5411888582540225,0.6752940307504751,0.5649895737692321,0.8369938055063005,0.34008078421033444,0.1097619309284219,0.16061570100944367,0.4136795395773385,0.3726332183438207,0.6995434422299969,0.4303599116618788,0.39637159356441726,0.37643140145652176,0.8835889471974798,0.40680787585445133,0.7901501126443239,0.07879257859852351,0.2140190969242053,0.40207113391470406,0.6163769242986826,0.24274542071754368,0.9442090772328042,0.7783695382475417,0.3709436729751736,0.3073184778483191,0.6172149309609911,0.6936321086503421,0.11297680731891058,0.6910725878467663,0.76512946269678,0.5447800703954091,0.5428485982245597,0.8235883643763722,0.043090798856209034,0.1705987013020911,0.1874259481622514,0.5730987285372675,0.8773123024592633,0.5419375023130162,0.42233224648463663,0.599554226879303,0.34882906115089396,0.19586914666614552,0.13646533479592926,0.3927944302249726,0.4571718294354988,0.6856350716161657,0.6508324301540007,0.24030154217488686,0.6286805582182426,0.35576230662188424,0.8046307197443853,0.7540050420953327,0.8803855004436527,0.48567996548943004,0.13689605946310834,0.8369344863400565,0.2793057067512459,0.8636042173243598,0.7243733343527983,0.4376599419124947,0.7719734388508399,0.7072065952257143,0.4879708127521365,0.16990294730562905,0.7696762443292804,0.7574345923038623,0.5335285694150345,0.38570511050832557,0.8122477252167615,0.5838726502604037,0.7413714092231043,0.6261403375715597,0.8459152034480726,0.1930702157735804,0.3232889399830223,0.6436641274456927,0.8560617597996327,0.7729053104769772,0.16580962223785978,-0.21692197054377438,0.4566761587874013,0.6310413358395776,0.7223630576844745,0.4649348685933339,0.5539931475784405,0.7162903428747318,0.9296229016431374,0.7821670166645018,0.8026603894387063,0.3576428538160854,0.4829492182302946,0.6306945670714154,0.8109709368238167,0.761694414973114,0.4444669564801059,0.17492287564174624,0.5901872287824683,0.36023341163053946,0.3508118407809155,0.7340435658249724,0.5353085723007887,0.4562483425708894,0.46675132685299325,0.2581121396059688,0.5147541060530088,0.3962299964539339,0.3595962382340374,0.4379727552010577,0.2996497297654246,0.23932061781659694,0.261052756791447,0.6743288358820267,-0.11516739073373339,0.2903729039685007],\"type\":\"scatter\",\"xaxis\":\"x\",\"yaxis\":\"y2\"}],                        {\"template\":{\"data\":{\"histogram2dcontour\":[{\"type\":\"histogram2dcontour\",\"colorbar\":{\"outlinewidth\":0,\"ticks\":\"\"},\"colorscale\":[[0.0,\"#0d0887\"],[0.1111111111111111,\"#46039f\"],[0.2222222222222222,\"#7201a8\"],[0.3333333333333333,\"#9c179e\"],[0.4444444444444444,\"#bd3786\"],[0.5555555555555556,\"#d8576b\"],[0.6666666666666666,\"#ed7953\"],[0.7777777777777778,\"#fb9f3a\"],[0.8888888888888888,\"#fdca26\"],[1.0,\"#f0f921\"]]}],\"choropleth\":[{\"type\":\"choropleth\",\"colorbar\":{\"outlinewidth\":0,\"ticks\":\"\"}}],\"histogram2d\":[{\"type\":\"histogram2d\",\"colorbar\":{\"outlinewidth\":0,\"ticks\":\"\"},\"colorscale\":[[0.0,\"#0d0887\"],[0.1111111111111111,\"#46039f\"],[0.2222222222222222,\"#7201a8\"],[0.3333333333333333,\"#9c179e\"],[0.4444444444444444,\"#bd3786\"],[0.5555555555555556,\"#d8576b\"],[0.6666666666666666,\"#ed7953\"],[0.7777777777777778,\"#fb9f3a\"],[0.8888888888888888,\"#fdca26\"],[1.0,\"#f0f921\"]]}],\"heatmap\":[{\"type\":\"heatmap\",\"colorbar\":{\"outlinewidth\":0,\"ticks\":\"\"},\"colorscale\":[[0.0,\"#0d0887\"],[0.1111111111111111,\"#46039f\"],[0.2222222222222222,\"#7201a8\"],[0.3333333333333333,\"#9c179e\"],[0.4444444444444444,\"#bd3786\"],[0.5555555555555556,\"#d8576b\"],[0.6666666666666666,\"#ed7953\"],[0.7777777777777778,\"#fb9f3a\"],[0.8888888888888888,\"#fdca26\"],[1.0,\"#f0f921\"]]}],\"heatmapgl\":[{\"type\":\"heatmapgl\",\"colorbar\":{\"outlinewidth\":0,\"ticks\":\"\"},\"colorscale\":[[0.0,\"#0d0887\"],[0.1111111111111111,\"#46039f\"],[0.2222222222222222,\"#7201a8\"],[0.3333333333333333,\"#9c179e\"],[0.4444444444444444,\"#bd3786\"],[0.5555555555555556,\"#d8576b\"],[0.6666666666666666,\"#ed7953\"],[0.7777777777777778,\"#fb9f3a\"],[0.8888888888888888,\"#fdca26\"],[1.0,\"#f0f921\"]]}],\"contourcarpet\":[{\"type\":\"contourcarpet\",\"colorbar\":{\"outlinewidth\":0,\"ticks\":\"\"}}],\"contour\":[{\"type\":\"contour\",\"colorbar\":{\"outlinewidth\":0,\"ticks\":\"\"},\"colorscale\":[[0.0,\"#0d0887\"],[0.1111111111111111,\"#46039f\"],[0.2222222222222222,\"#7201a8\"],[0.3333333333333333,\"#9c179e\"],[0.4444444444444444,\"#bd3786\"],[0.5555555555555556,\"#d8576b\"],[0.6666666666666666,\"#ed7953\"],[0.7777777777777778,\"#fb9f3a\"],[0.8888888888888888,\"#fdca26\"],[1.0,\"#f0f921\"]]}],\"surface\":[{\"type\":\"surface\",\"colorbar\":{\"outlinewidth\":0,\"ticks\":\"\"},\"colorscale\":[[0.0,\"#0d0887\"],[0.1111111111111111,\"#46039f\"],[0.2222222222222222,\"#7201a8\"],[0.3333333333333333,\"#9c179e\"],[0.4444444444444444,\"#bd3786\"],[0.5555555555555556,\"#d8576b\"],[0.6666666666666666,\"#ed7953\"],[0.7777777777777778,\"#fb9f3a\"],[0.8888888888888888,\"#fdca26\"],[1.0,\"#f0f921\"]]}],\"mesh3d\":[{\"type\":\"mesh3d\",\"colorbar\":{\"outlinewidth\":0,\"ticks\":\"\"}}],\"scatter\":[{\"fillpattern\":{\"fillmode\":\"overlay\",\"size\":10,\"solidity\":0.2},\"type\":\"scatter\"}],\"parcoords\":[{\"type\":\"parcoords\",\"line\":{\"colorbar\":{\"outlinewidth\":0,\"ticks\":\"\"}}}],\"scatterpolargl\":[{\"type\":\"scatterpolargl\",\"marker\":{\"colorbar\":{\"outlinewidth\":0,\"ticks\":\"\"}}}],\"bar\":[{\"error_x\":{\"color\":\"#2a3f5f\"},\"error_y\":{\"color\":\"#2a3f5f\"},\"marker\":{\"line\":{\"color\":\"#E5ECF6\",\"width\":0.5},\"pattern\":{\"fillmode\":\"overlay\",\"size\":10,\"solidity\":0.2}},\"type\":\"bar\"}],\"scattergeo\":[{\"type\":\"scattergeo\",\"marker\":{\"colorbar\":{\"outlinewidth\":0,\"ticks\":\"\"}}}],\"scatterpolar\":[{\"type\":\"scatterpolar\",\"marker\":{\"colorbar\":{\"outlinewidth\":0,\"ticks\":\"\"}}}],\"histogram\":[{\"marker\":{\"pattern\":{\"fillmode\":\"overlay\",\"size\":10,\"solidity\":0.2}},\"type\":\"histogram\"}],\"scattergl\":[{\"type\":\"scattergl\",\"marker\":{\"colorbar\":{\"outlinewidth\":0,\"ticks\":\"\"}}}],\"scatter3d\":[{\"type\":\"scatter3d\",\"line\":{\"colorbar\":{\"outlinewidth\":0,\"ticks\":\"\"}},\"marker\":{\"colorbar\":{\"outlinewidth\":0,\"ticks\":\"\"}}}],\"scattermapbox\":[{\"type\":\"scattermapbox\",\"marker\":{\"colorbar\":{\"outlinewidth\":0,\"ticks\":\"\"}}}],\"scatterternary\":[{\"type\":\"scatterternary\",\"marker\":{\"colorbar\":{\"outlinewidth\":0,\"ticks\":\"\"}}}],\"scattercarpet\":[{\"type\":\"scattercarpet\",\"marker\":{\"colorbar\":{\"outlinewidth\":0,\"ticks\":\"\"}}}],\"carpet\":[{\"aaxis\":{\"endlinecolor\":\"#2a3f5f\",\"gridcolor\":\"white\",\"linecolor\":\"white\",\"minorgridcolor\":\"white\",\"startlinecolor\":\"#2a3f5f\"},\"baxis\":{\"endlinecolor\":\"#2a3f5f\",\"gridcolor\":\"white\",\"linecolor\":\"white\",\"minorgridcolor\":\"white\",\"startlinecolor\":\"#2a3f5f\"},\"type\":\"carpet\"}],\"table\":[{\"cells\":{\"fill\":{\"color\":\"#EBF0F8\"},\"line\":{\"color\":\"white\"}},\"header\":{\"fill\":{\"color\":\"#C8D4E3\"},\"line\":{\"color\":\"white\"}},\"type\":\"table\"}],\"barpolar\":[{\"marker\":{\"line\":{\"color\":\"#E5ECF6\",\"width\":0.5},\"pattern\":{\"fillmode\":\"overlay\",\"size\":10,\"solidity\":0.2}},\"type\":\"barpolar\"}],\"pie\":[{\"automargin\":true,\"type\":\"pie\"}]},\"layout\":{\"autotypenumbers\":\"strict\",\"colorway\":[\"#636efa\",\"#EF553B\",\"#00cc96\",\"#ab63fa\",\"#FFA15A\",\"#19d3f3\",\"#FF6692\",\"#B6E880\",\"#FF97FF\",\"#FECB52\"],\"font\":{\"color\":\"#2a3f5f\"},\"hovermode\":\"closest\",\"hoverlabel\":{\"align\":\"left\"},\"paper_bgcolor\":\"white\",\"plot_bgcolor\":\"#E5ECF6\",\"polar\":{\"bgcolor\":\"#E5ECF6\",\"angularaxis\":{\"gridcolor\":\"white\",\"linecolor\":\"white\",\"ticks\":\"\"},\"radialaxis\":{\"gridcolor\":\"white\",\"linecolor\":\"white\",\"ticks\":\"\"}},\"ternary\":{\"bgcolor\":\"#E5ECF6\",\"aaxis\":{\"gridcolor\":\"white\",\"linecolor\":\"white\",\"ticks\":\"\"},\"baxis\":{\"gridcolor\":\"white\",\"linecolor\":\"white\",\"ticks\":\"\"},\"caxis\":{\"gridcolor\":\"white\",\"linecolor\":\"white\",\"ticks\":\"\"}},\"coloraxis\":{\"colorbar\":{\"outlinewidth\":0,\"ticks\":\"\"}},\"colorscale\":{\"sequential\":[[0.0,\"#0d0887\"],[0.1111111111111111,\"#46039f\"],[0.2222222222222222,\"#7201a8\"],[0.3333333333333333,\"#9c179e\"],[0.4444444444444444,\"#bd3786\"],[0.5555555555555556,\"#d8576b\"],[0.6666666666666666,\"#ed7953\"],[0.7777777777777778,\"#fb9f3a\"],[0.8888888888888888,\"#fdca26\"],[1.0,\"#f0f921\"]],\"sequentialminus\":[[0.0,\"#0d0887\"],[0.1111111111111111,\"#46039f\"],[0.2222222222222222,\"#7201a8\"],[0.3333333333333333,\"#9c179e\"],[0.4444444444444444,\"#bd3786\"],[0.5555555555555556,\"#d8576b\"],[0.6666666666666666,\"#ed7953\"],[0.7777777777777778,\"#fb9f3a\"],[0.8888888888888888,\"#fdca26\"],[1.0,\"#f0f921\"]],\"diverging\":[[0,\"#8e0152\"],[0.1,\"#c51b7d\"],[0.2,\"#de77ae\"],[0.3,\"#f1b6da\"],[0.4,\"#fde0ef\"],[0.5,\"#f7f7f7\"],[0.6,\"#e6f5d0\"],[0.7,\"#b8e186\"],[0.8,\"#7fbc41\"],[0.9,\"#4d9221\"],[1,\"#276419\"]]},\"xaxis\":{\"gridcolor\":\"white\",\"linecolor\":\"white\",\"ticks\":\"\",\"title\":{\"standoff\":15},\"zerolinecolor\":\"white\",\"automargin\":true,\"zerolinewidth\":2},\"yaxis\":{\"gridcolor\":\"white\",\"linecolor\":\"white\",\"ticks\":\"\",\"title\":{\"standoff\":15},\"zerolinecolor\":\"white\",\"automargin\":true,\"zerolinewidth\":2},\"scene\":{\"xaxis\":{\"backgroundcolor\":\"#E5ECF6\",\"gridcolor\":\"white\",\"linecolor\":\"white\",\"showbackground\":true,\"ticks\":\"\",\"zerolinecolor\":\"white\",\"gridwidth\":2},\"yaxis\":{\"backgroundcolor\":\"#E5ECF6\",\"gridcolor\":\"white\",\"linecolor\":\"white\",\"showbackground\":true,\"ticks\":\"\",\"zerolinecolor\":\"white\",\"gridwidth\":2},\"zaxis\":{\"backgroundcolor\":\"#E5ECF6\",\"gridcolor\":\"white\",\"linecolor\":\"white\",\"showbackground\":true,\"ticks\":\"\",\"zerolinecolor\":\"white\",\"gridwidth\":2}},\"shapedefaults\":{\"line\":{\"color\":\"#2a3f5f\"}},\"annotationdefaults\":{\"arrowcolor\":\"#2a3f5f\",\"arrowhead\":0,\"arrowwidth\":1},\"geo\":{\"bgcolor\":\"white\",\"landcolor\":\"#E5ECF6\",\"subunitcolor\":\"white\",\"showland\":true,\"showlakes\":true,\"lakecolor\":\"white\"},\"title\":{\"x\":0.05},\"mapbox\":{\"style\":\"light\"}}},\"xaxis\":{\"anchor\":\"y\",\"domain\":[0.0,0.94],\"title\":{\"text\":\"Couple of sentences\"}},\"yaxis\":{\"anchor\":\"x\",\"domain\":[0.0,1.0]},\"yaxis2\":{\"anchor\":\"x\",\"overlaying\":\"y\",\"side\":\"right\",\"title\":{\"text\":\"Prediction\"}},\"title\":{\"text\":\"Results\"}},                        {\"responsive\": true}                    ).then(function(){\n",
              "                            \n",
              "var gd = document.getElementById('78e2af5c-139f-4bf8-a5be-6a2f2fb08952');\n",
              "var x = new MutationObserver(function (mutations, observer) {{\n",
              "        var display = window.getComputedStyle(gd).display;\n",
              "        if (!display || display === 'none') {{\n",
              "            console.log([gd, 'removed!']);\n",
              "            Plotly.purge(gd);\n",
              "            observer.disconnect();\n",
              "        }}\n",
              "}});\n",
              "\n",
              "// Listen for the removal of the full notebook cells\n",
              "var notebookContainer = gd.closest('#notebook-container');\n",
              "if (notebookContainer) {{\n",
              "    x.observe(notebookContainer, {childList: true});\n",
              "}}\n",
              "\n",
              "// Listen for the clearing of the current output cell\n",
              "var outputEl = gd.closest('.output');\n",
              "if (outputEl) {{\n",
              "    x.observe(outputEl, {childList: true});\n",
              "}}\n",
              "\n",
              "                        })                };                            </script>        </div>\n",
              "</body>\n",
              "</html>"
            ]
          },
          "metadata": {}
        }
      ]
    },
    {
      "cell_type": "code",
      "source": [
        "from sklearn import linear_model\n",
        "from sklearn.linear_model import BayesianRidge\n",
        "model = linear_model.BayesianRidge()\n",
        "model.fit(X_train, y_train)"
      ],
      "metadata": {
        "colab": {
          "base_uri": "https://localhost:8080/",
          "height": 75
        },
        "id": "paQqCjdvzGG5",
        "outputId": "86fc5992-d51c-462b-fcb2-489fc7e59406"
      },
      "execution_count": 42,
      "outputs": [
        {
          "output_type": "execute_result",
          "data": {
            "text/plain": [
              "BayesianRidge()"
            ],
            "text/html": [
              "<style>#sk-container-id-4 {color: black;background-color: white;}#sk-container-id-4 pre{padding: 0;}#sk-container-id-4 div.sk-toggleable {background-color: white;}#sk-container-id-4 label.sk-toggleable__label {cursor: pointer;display: block;width: 100%;margin-bottom: 0;padding: 0.3em;box-sizing: border-box;text-align: center;}#sk-container-id-4 label.sk-toggleable__label-arrow:before {content: \"▸\";float: left;margin-right: 0.25em;color: #696969;}#sk-container-id-4 label.sk-toggleable__label-arrow:hover:before {color: black;}#sk-container-id-4 div.sk-estimator:hover label.sk-toggleable__label-arrow:before {color: black;}#sk-container-id-4 div.sk-toggleable__content {max-height: 0;max-width: 0;overflow: hidden;text-align: left;background-color: #f0f8ff;}#sk-container-id-4 div.sk-toggleable__content pre {margin: 0.2em;color: black;border-radius: 0.25em;background-color: #f0f8ff;}#sk-container-id-4 input.sk-toggleable__control:checked~div.sk-toggleable__content {max-height: 200px;max-width: 100%;overflow: auto;}#sk-container-id-4 input.sk-toggleable__control:checked~label.sk-toggleable__label-arrow:before {content: \"▾\";}#sk-container-id-4 div.sk-estimator input.sk-toggleable__control:checked~label.sk-toggleable__label {background-color: #d4ebff;}#sk-container-id-4 div.sk-label input.sk-toggleable__control:checked~label.sk-toggleable__label {background-color: #d4ebff;}#sk-container-id-4 input.sk-hidden--visually {border: 0;clip: rect(1px 1px 1px 1px);clip: rect(1px, 1px, 1px, 1px);height: 1px;margin: -1px;overflow: hidden;padding: 0;position: absolute;width: 1px;}#sk-container-id-4 div.sk-estimator {font-family: monospace;background-color: #f0f8ff;border: 1px dotted black;border-radius: 0.25em;box-sizing: border-box;margin-bottom: 0.5em;}#sk-container-id-4 div.sk-estimator:hover {background-color: #d4ebff;}#sk-container-id-4 div.sk-parallel-item::after {content: \"\";width: 100%;border-bottom: 1px solid gray;flex-grow: 1;}#sk-container-id-4 div.sk-label:hover label.sk-toggleable__label {background-color: #d4ebff;}#sk-container-id-4 div.sk-serial::before {content: \"\";position: absolute;border-left: 1px solid gray;box-sizing: border-box;top: 0;bottom: 0;left: 50%;z-index: 0;}#sk-container-id-4 div.sk-serial {display: flex;flex-direction: column;align-items: center;background-color: white;padding-right: 0.2em;padding-left: 0.2em;position: relative;}#sk-container-id-4 div.sk-item {position: relative;z-index: 1;}#sk-container-id-4 div.sk-parallel {display: flex;align-items: stretch;justify-content: center;background-color: white;position: relative;}#sk-container-id-4 div.sk-item::before, #sk-container-id-4 div.sk-parallel-item::before {content: \"\";position: absolute;border-left: 1px solid gray;box-sizing: border-box;top: 0;bottom: 0;left: 50%;z-index: -1;}#sk-container-id-4 div.sk-parallel-item {display: flex;flex-direction: column;z-index: 1;position: relative;background-color: white;}#sk-container-id-4 div.sk-parallel-item:first-child::after {align-self: flex-end;width: 50%;}#sk-container-id-4 div.sk-parallel-item:last-child::after {align-self: flex-start;width: 50%;}#sk-container-id-4 div.sk-parallel-item:only-child::after {width: 0;}#sk-container-id-4 div.sk-dashed-wrapped {border: 1px dashed gray;margin: 0 0.4em 0.5em 0.4em;box-sizing: border-box;padding-bottom: 0.4em;background-color: white;}#sk-container-id-4 div.sk-label label {font-family: monospace;font-weight: bold;display: inline-block;line-height: 1.2em;}#sk-container-id-4 div.sk-label-container {text-align: center;}#sk-container-id-4 div.sk-container {/* jupyter's `normalize.less` sets `[hidden] { display: none; }` but bootstrap.min.css set `[hidden] { display: none !important; }` so we also need the `!important` here to be able to override the default hidden behavior on the sphinx rendered scikit-learn.org. See: https://github.com/scikit-learn/scikit-learn/issues/21755 */display: inline-block !important;position: relative;}#sk-container-id-4 div.sk-text-repr-fallback {display: none;}</style><div id=\"sk-container-id-4\" class=\"sk-top-container\"><div class=\"sk-text-repr-fallback\"><pre>BayesianRidge()</pre><b>In a Jupyter environment, please rerun this cell to show the HTML representation or trust the notebook. <br />On GitHub, the HTML representation is unable to render, please try loading this page with nbviewer.org.</b></div><div class=\"sk-container\" hidden><div class=\"sk-item\"><div class=\"sk-estimator sk-toggleable\"><input class=\"sk-toggleable__control sk-hidden--visually\" id=\"sk-estimator-id-4\" type=\"checkbox\" checked><label for=\"sk-estimator-id-4\" class=\"sk-toggleable__label sk-toggleable__label-arrow\">BayesianRidge</label><div class=\"sk-toggleable__content\"><pre>BayesianRidge()</pre></div></div></div></div></div>"
            ]
          },
          "metadata": {},
          "execution_count": 42
        }
      ]
    },
    {
      "cell_type": "code",
      "source": [
        "y_pred = model.predict(x_test)"
      ],
      "metadata": {
        "id": "RdeCloCw1mo6"
      },
      "execution_count": 43,
      "outputs": []
    },
    {
      "cell_type": "code",
      "source": [
        "#print(\"MAE train: \", metrics.mean_absolute_error(y_train, model.predict(X_train))) \n",
        "print(\"MSE train: \",metrics.mean_squared_error(y_train, model.predict(X_train)))\n",
        "print(\"RMSE train: \",np.sqrt(metrics.mean_squared_error(y_train, model.predict(X_train))))\n",
        "print(\"r2: \",metrics.r2_score(y_train, model.predict(X_train)))\n",
        "\n",
        "#print(\"MAE test: \", metrics.mean_absolute_error(y_test, model.predict(x_test))) \n",
        "print(\"MSE test: \",metrics.mean_squared_error(y_test, model.predict(x_test)))\n",
        "print(\"RMSE test: \",np.sqrt(metrics.mean_squared_error(y_test, model.predict(x_test))))\n",
        "print(\"r2: \", metrics.r2_score(y_test, model.predict(x_test)))"
      ],
      "metadata": {
        "colab": {
          "base_uri": "https://localhost:8080/"
        },
        "id": "iUmkDGPVKU1F",
        "outputId": "be5cbf67-39cf-4931-a93e-194118cecf34"
      },
      "execution_count": 44,
      "outputs": [
        {
          "output_type": "stream",
          "name": "stdout",
          "text": [
            "MAE train:  0.150882042569276\n",
            "MSE train:  0.034918837694146485\n",
            "RMSE train:  0.18686582805357024\n",
            "r2:  0.6004057262982103\n",
            "MAE test:  0.17346676409827264\n",
            "MSE test:  0.050887563026882514\n",
            "RMSE test:  0.22558271881259548\n",
            "r2:  0.45294322166754797\n"
          ]
        }
      ]
    },
    {
      "cell_type": "code",
      "source": [
        "import plotly.graph_objects as go\n",
        "from plotly.subplots import make_subplots\n",
        "\n",
        "fig = make_subplots(specs=[[{\"secondary_y\": True}]])\n",
        "x_ax=np.array(range(0,len(y_test)))\n",
        "fig.add_trace(\n",
        "    go.Scatter(x=x_ax, y=y_test, name=\"True\"),\n",
        "    secondary_y=True,)\n",
        "fig.add_trace(\n",
        "    go.Scatter(x=x_ax, y=y_pred, name=\"Predicition\"),\n",
        "    secondary_y=True,)\n",
        "fig.update_layout(\n",
        "    title_text=\"Results\")\n",
        "fig.update_xaxes(title_text=\"Couple of sentences\")\n",
        "fig.update_yaxes(title_text=\"True\", secondary_y=True)\n",
        "fig.update_yaxes(title_text=\"Prediction\", secondary_y=True)\n",
        "\n",
        "fig.show()"
      ],
      "metadata": {
        "colab": {
          "base_uri": "https://localhost:8080/",
          "height": 542
        },
        "id": "oA6M66yF6wRL",
        "outputId": "1492c148-705a-4d69-b998-6c271bb07f63"
      },
      "execution_count": 45,
      "outputs": [
        {
          "output_type": "display_data",
          "data": {
            "text/html": [
              "<html>\n",
              "<head><meta charset=\"utf-8\" /></head>\n",
              "<body>\n",
              "    <div>            <script src=\"https://cdnjs.cloudflare.com/ajax/libs/mathjax/2.7.5/MathJax.js?config=TeX-AMS-MML_SVG\"></script><script type=\"text/javascript\">if (window.MathJax && window.MathJax.Hub && window.MathJax.Hub.Config) {window.MathJax.Hub.Config({SVG: {font: \"STIX-Web\"}});}</script>                <script type=\"text/javascript\">window.PlotlyConfig = {MathJaxConfig: 'local'};</script>\n",
              "        <script src=\"https://cdn.plot.ly/plotly-2.18.2.min.js\"></script>                <div id=\"c4283209-5925-47e1-ae71-d214bfe2bb5e\" class=\"plotly-graph-div\" style=\"height:525px; width:100%;\"></div>            <script type=\"text/javascript\">                                    window.PLOTLYENV=window.PLOTLYENV || {};                                    if (document.getElementById(\"c4283209-5925-47e1-ae71-d214bfe2bb5e\")) {                    Plotly.newPlot(                        \"c4283209-5925-47e1-ae71-d214bfe2bb5e\",                        [{\"name\":\"True\",\"x\":[0,1,2,3,4,5,6,7,8,9,10,11,12,13,14,15,16,17,18,19,20,21,22,23,24,25,26,27,28,29,30,31,32,33,34,35,36,37,38,39,40,41,42,43,44,45,46,47,48,49,50,51,52,53,54,55,56,57,58,59,60,61,62,63,64,65,66,67,68,69,70,71,72,73,74,75,76,77,78,79,80,81,82,83,84,85,86,87,88,89,90,91,92,93,94,95,96,97,98,99,100,101,102,103,104,105,106,107,108,109,110,111,112,113,114,115,116,117,118,119,120,121,122,123,124,125,126,127,128,129,130,131,132,133,134,135,136,137,138,139,140,141,142,143,144,145,146,147,148,149,150,151,152,153,154,155,156,157,158,159,160,161,162,163,164,165,166,167,168,169,170,171,172,173,174,175,176,177,178,179,180,181,182,183,184,185,186,187,188,189,190,191,192,193,194,195,196,197,198,199,200,201,202,203,204,205,206,207,208,209,210,211,212,213,214,215,216,217,218,219,220,221,222,223,224,225,226,227,228,229,230,231,232,233,234,235,236,237,238,239,240,241,242,243,244,245,246,247,248,249,250,251,252,253,254,255,256,257,258,259,260,261,262,263,264,265,266,267,268,269,270,271,272,273,274,275,276,277,278,279,280,281,282,283,284,285,286,287,288,289,290,291,292,293,294,295,296,297,298,299,300,301,302,303,304,305,306,307,308,309,310,311,312,313,314,315,316,317,318,319,320,321,322,323,324,325,326,327,328,329,330,331,332,333,334,335,336,337,338,339,340,341,342,343,344,345,346,347,348,349,350,351,352,353,354,355,356,357,358,359,360,361,362,363,364,365,366,367,368,369,370,371,372,373,374,375,376,377,378,379,380,381,382,383,384,385,386,387,388,389,390,391,392,393,394,395,396,397,398,399,400,401,402,403,404,405,406,407,408,409,410,411,412,413,414,415,416,417,418,419,420,421,422,423,424,425,426,427,428,429,430,431,432,433,434,435,436,437,438,439,440,441,442,443,444,445,446,447,448,449,450,451,452,453,454,455,456,457,458,459,460,461,462,463,464,465,466,467,468,469,470,471,472,473,474,475,476,477,478,479,480,481,482,483,484,485,486,487,488,489,490,491,492,493,494,495,496,497,498,499,500,501,502,503,504,505,506,507,508,509,510,511,512,513,514,515,516,517,518,519,520,521,522,523,524,525,526,527,528,529,530,531,532,533,534,535,536,537,538,539,540,541,542,543,544,545,546,547,548,549,550,551,552,553,554,555,556,557,558,559,560,561,562,563,564,565,566,567,568,569,570,571,572,573,574,575,576,577,578,579,580,581,582,583,584,585,586,587,588,589,590,591,592,593,594,595,596,597,598,599,600,601,602,603,604,605,606,607,608,609,610,611,612,613,614,615,616,617,618,619,620,621,622,623,624,625,626,627,628,629,630,631,632,633,634,635,636,637,638,639,640,641,642,643,644,645,646,647,648,649,650,651,652,653,654,655,656,657,658,659,660,661,662,663,664,665,666,667,668,669,670,671,672,673,674,675,676,677,678,679,680,681,682,683,684,685,686,687,688,689,690,691,692,693,694,695,696,697,698,699,700,701,702,703,704,705,706,707,708,709,710,711,712,713,714,715,716,717,718,719,720,721,722,723,724,725,726,727,728,729,730,731,732,733,734,735,736,737,738,739,740,741,742,743,744,745,746,747,748,749,750,751,752,753,754,755,756,757,758,759,760,761,762,763,764,765,766,767,768,769,770,771,772,773,774,775,776,777,778,779,780,781,782,783,784,785,786,787,788,789,790,791,792,793,794,795,796,797,798,799,800,801,802,803,804,805,806,807,808,809,810,811,812,813,814,815,816,817,818,819,820,821,822,823,824,825,826,827,828,829,830,831,832,833,834,835,836,837,838,839,840,841,842,843,844,845,846,847,848,849,850,851,852,853,854,855,856,857,858,859,860,861,862,863,864,865,866,867,868,869,870,871,872,873,874,875,876,877,878,879,880,881,882,883,884,885,886,887,888,889,890,891,892,893,894,895,896,897,898,899,900,901,902,903,904,905,906,907,908,909,910,911,912,913,914,915,916,917,918,919,920,921,922,923,924,925,926,927,928,929,930,931,932,933,934,935,936,937,938,939,940,941,942,943,944,945,946,947,948,949,950,951,952,953,954,955,956,957,958,959,960,961,962,963,964,965,966,967,968,969,970,971,972,973,974,975,976,977,978,979,980,981,982,983,984,985,986,987,988,989,990,991,992,993,994,995,996,997,998,999,1000,1001,1002,1003,1004,1005,1006,1007,1008,1009,1010,1011,1012,1013,1014,1015,1016,1017,1018,1019,1020,1021,1022,1023,1024,1025,1026,1027,1028,1029,1030,1031,1032,1033,1034,1035,1036,1037,1038,1039,1040,1041,1042,1043,1044,1045,1046,1047,1048,1049,1050,1051,1052,1053,1054,1055,1056,1057,1058,1059,1060,1061,1062,1063,1064,1065,1066,1067,1068,1069,1070,1071,1072,1073,1074,1075,1076,1077,1078,1079,1080,1081,1082,1083,1084,1085,1086,1087,1088,1089,1090,1091,1092,1093,1094,1095,1096,1097,1098,1099,1100,1101,1102,1103,1104,1105,1106,1107,1108,1109,1110,1111,1112,1113,1114,1115,1116,1117,1118,1119,1120,1121,1122,1123,1124,1125,1126,1127,1128,1129,1130,1131,1132,1133,1134,1135,1136,1137,1138,1139,1140,1141,1142,1143,1144,1145,1146,1147,1148,1149,1150,1151,1152,1153,1154,1155,1156,1157,1158,1159,1160,1161,1162,1163,1164,1165,1166,1167,1168,1169,1170,1171,1172,1173,1174,1175,1176,1177,1178,1179,1180,1181,1182,1183,1184,1185,1186,1187,1188,1189,1190,1191,1192,1193,1194,1195,1196,1197,1198,1199,1200,1201,1202,1203,1204,1205,1206,1207,1208,1209,1210,1211,1212,1213,1214,1215,1216,1217,1218,1219,1220,1221,1222,1223,1224,1225,1226,1227,1228,1229,1230,1231,1232,1233,1234,1235,1236,1237,1238,1239,1240,1241,1242,1243,1244,1245,1246,1247,1248,1249,1250,1251,1252,1253,1254,1255,1256,1257,1258,1259,1260,1261,1262,1263,1264,1265,1266,1267,1268,1269,1270,1271,1272,1273,1274,1275,1276,1277,1278,1279,1280,1281,1282,1283,1284,1285,1286,1287,1288,1289,1290,1291,1292,1293,1294,1295,1296,1297,1298,1299,1300,1301,1302,1303,1304,1305,1306,1307,1308,1309,1310,1311,1312,1313,1314,1315,1316,1317,1318,1319,1320,1321,1322,1323,1324,1325,1326,1327,1328,1329,1330,1331,1332,1333,1334,1335,1336,1337,1338,1339,1340,1341,1342,1343,1344,1345,1346,1347,1348,1349,1350,1351,1352,1353,1354,1355,1356,1357,1358,1359,1360,1361,1362,1363,1364,1365,1366,1367,1368,1369,1370,1371,1372,1373,1374,1375,1376,1377,1378],\"y\":[0.5,0.7200000000000001,1.0,0.8400000000000001,0.30000000000000004,0.36000000000000004,0.7000000000000001,0.44000000000000006,0.44000000000000006,0.3428,0.3428,1.0,0.12,0.8800000000000001,0.4,0.36000000000000004,0.8800000000000001,0.7200000000000001,0.7200000000000001,0.24,0.48,0.04000000000000001,0.8400000000000001,0.8800000000000001,0.45,0.4,0.15000000000000002,0.44000000000000006,0.16000000000000003,0.44000000000000006,0.6400000000000001,0.96,0.27999999999999997,0.8500000000000001,0.68,0.10660000000000001,0.08000000000000002,0.24,1.0,0.10760000000000002,0.75,0.6000000000000001,0.7200000000000001,0.1,0.30000000000000004,0.16000000000000003,0.16000000000000003,0.12,0.8800000000000001,0.35000000000000003,0.08000000000000002,0.27999999999999997,0.08000000000000002,0.16000000000000003,0.4,0.026600000000000002,0.8,0.0534,0.68,0.24,1.0,0.0,0.76,0.15000000000000002,0.68,0.0,0.04000000000000001,0.8,0.1,0.76,0.48,0.9500000000000001,0.0,0.75,0.52,0.0,0.15000000000000002,0.0,0.76,0.5599999999999999,0.0,0.16000000000000003,0.6000000000000001,0.2,0.0,0.2,0.68,1.0,0.46660000000000007,0.27999999999999997,0.15000000000000002,0.7076,0.16000000000000003,0.7000000000000001,0.4,0.9500000000000001,0.8,0.9,0.30000000000000004,0.48,0.0,0.08000000000000002,0.5,0.52,0.7200000000000001,0.6000000000000001,0.0,0.32000000000000006,0.25,0.7200000000000001,0.4,0.7200000000000001,0.5599999999999999,0.8800000000000001,0.0,0.0,0.75,0.5,0.0,0.16000000000000003,0.2,0.0,0.05,0.08000000000000002,0.0,1.0,0.06,0.55,1.0,0.8500000000000001,0.68,0.32000000000000006,0.52,1.0,0.6400000000000001,0.96,1.0,0.48,0.4,1.0,1.0,0.68,0.9,0.8400000000000001,0.44000000000000006,0.48,0.76,0.5,0.4,0.15000000000000002,0.4,0.44000000000000006,0.8,0.6400000000000001,0.76,0.75,0.1,0.16000000000000003,1.0,0.24,1.0,0.5599999999999999,0.24,0.6400000000000001,0.9199999999999999,0.8,0.76,0.68,0.9199999999999999,0.52,0.36000000000000004,0.15000000000000002,0.8,0.55,0.76,0.52,0.4,0.76,0.1166,0.08000000000000002,0.05,0.5599999999999999,0.6400000000000001,0.1,0.45,0.0,0.0,0.0616,0.15000000000000002,0.08000000000000002,0.8400000000000001,0.75,0.32000000000000006,0.6000000000000001,0.8,0.6000000000000001,0.75,0.08000000000000002,0.0,0.6000000000000001,0.08000000000000002,0.08000000000000002,0.05,0.05,0.08000000000000002,0.08000000000000002,0.6400000000000001,0.0,0.44000000000000006,0.16000000000000003,0.16000000000000003,0.06,0.0,0.15000000000000002,0.46660000000000007,0.2666,0.24,0.8400000000000001,0.76,0.6000000000000001,0.1,0.0,0.0666,0.30000000000000004,0.033400000000000006,0.1,0.25,0.32000000000000006,0.0,0.2,0.0,0.0,0.8,0.55,0.6666000000000001,0.7000000000000001,0.0376,0.0,0.05,0.0728,0.6400000000000001,0.0,0.0,0.0,0.35000000000000003,0.0,0.55,0.36000000000000004,0.0,0.0,0.5599999999999999,0.8800000000000001,0.8,0.52,0.24,0.6400000000000001,0.16000000000000003,0.68,0.4,0.0,0.9199999999999999,0.8,0.76,0.8,0.5599999999999999,0.7200000000000001,0.36000000000000004,0.7200000000000001,0.24,1.0,0.8,0.0,0.68,0.8800000000000001,0.8400000000000001,1.0,0.04000000000000001,0.04000000000000001,0.8,0.52,0.12,0.24,0.76,0.8400000000000001,0.5599999999999999,0.8400000000000001,0.48,0.7200000000000001,0.76,0.12,0.96,0.24,0.48,0.8400000000000001,0.0,0.04000000000000001,0.68,0.6000000000000001,0.6400000000000001,0.6000000000000001,0.8800000000000001,0.36000000000000004,0.4,0.96,0.8,0.44000000000000006,0.8400000000000001,0.68,0.8400000000000001,0.68,0.48,0.2,0.32000000000000006,0.6400000000000001,0.68,0.8,0.6000000000000001,0.76,0.0,0.0,0.52,0.52,0.76,0.52,0.5599999999999999,0.0,0.52,0.9199999999999999,0.76,0.68,1.0,0.9199999999999999,0.6000000000000001,0.44000000000000006,0.76,0.44000000000000006,0.7200000000000001,0.8,0.08000000000000002,0.0,0.76,1.0,0.96,0.48,0.5599999999999999,0.27999999999999997,0.7200000000000001,0.0,0.8400000000000001,0.08000000000000002,0.76,0.8,0.24,0.8,0.6000000000000001,0.0,0.48,0.68,0.16000000000000003,0.8400000000000001,0.8800000000000001,0.8,0.36000000000000004,0.5599999999999999,1.0,0.0,0.04000000000000001,0.8,0.76,0.8800000000000001,0.6400000000000001,0.9199999999999999,0.0,0.2,0.16000000000000003,0.8,0.32000000000000006,0.0,0.68,0.2,0.8,0.6000000000000001,0.6000000000000001,0.15000000000000002,0.68,0.5599999999999999,0.96,0.27999999999999997,0.48,0.36000000000000004,0.96,0.27999999999999997,0.08000000000000002,0.266,0.48,0.08000000000000002,0.12,0.96,0.5599999999999999,0.4,0.52,0.0,0.48,0.8,0.8,0.8,0.0,0.6400000000000001,0.27999999999999997,0.7200000000000001,0.8800000000000001,1.0,0.36000000000000004,0.96,0.12,0.27999999999999997,0.04000000000000001,0.8400000000000001,0.9199999999999999,0.8,0.9199999999999999,0.36000000000000004,0.9199999999999999,0.04000000000000001,0.52,0.76,0.0,1.0,0.7200000000000001,0.9199999999999999,0.4,1.0,0.0,0.68,0.0,0.4,0.4,0.9199999999999999,0.6000000000000001,0.9199999999999999,0.4,0.52,0.08000000000000002,0.52,0.8400000000000001,0.0,0.44000000000000006,0.8,0.0,0.4,0.6000000000000001,0.52,0.0,0.0,0.96,0.6000000000000001,0.44000000000000006,0.8800000000000001,0.16000000000000003,0.68,0.0,0.12,0.0,0.48,0.68,0.8,0.4,0.8,0.96,0.12,0.48,0.8800000000000001,0.48,0.96,0.68,0.5599999999999999,0.16000000000000003,0.44000000000000006,0.76,0.08000000000000002,0.9199999999999999,0.6000000000000001,0.9199999999999999,0.16000000000000003,0.8,0.24,0.6400000000000001,0.7200000000000001,0.68,1.0,0.8,0.8,0.5599999999999999,0.76,0.52,0.4,0.16000000000000003,1.0,0.2,1.0,0.48,0.4,0.44000000000000006,0.68,0.16000000000000003,0.9199999999999999,0.5599999999999999,0.4,0.52,0.04000000000000001,0.27999999999999997,0.32000000000000006,0.6400000000000001,0.04000000000000001,0.48,0.04000000000000001,0.27999999999999997,0.36000000000000004,0.32000000000000006,0.76,0.2,0.24,0.8,0.4,0.52,0.76,0.52,0.04000000000000001,0.6000000000000001,0.36000000000000004,0.12,0.12,0.04000000000000001,0.12,0.04000000000000001,0.2,0.68,0.27999999999999997,0.4,0.5599999999999999,0.6400000000000001,0.16000000000000003,0.36000000000000004,0.44000000000000006,0.8400000000000001,1.0,0.24,0.5599999999999999,0.8800000000000001,0.8800000000000001,0.7200000000000001,0.24,0.27999999999999997,0.68,0.16000000000000003,0.5599999999999999,0.6400000000000001,0.32000000000000006,1.0,0.7200000000000001,0.7200000000000001,0.08000000000000002,0.36000000000000004,0.24,0.24,0.44000000000000006,1.0,0.52,0.0,0.5599999999999999,0.6400000000000001,0.32000000000000006,0.04000000000000001,0.76,0.8,0.5599999999999999,1.0,0.68,0.5599999999999999,0.27999999999999997,0.24,0.6400000000000001,0.6000000000000001,0.44000000000000006,0.4,0.76,0.32000000000000006,0.96,0.24,0.48,0.36000000000000004,0.52,0.76,0.24,0.04000000000000001,0.76,0.48,0.08000000000000002,0.68,0.8400000000000001,0.48,0.16000000000000003,0.8800000000000001,0.6000000000000001,0.4,0.6000000000000001,0.44000000000000006,0.36000000000000004,0.5599999999999999,0.5599999999999999,1.0,0.44000000000000006,0.24,0.32000000000000006,0.5599999999999999,0.36000000000000004,0.52,0.04000000000000001,0.48,0.8400000000000001,0.44000000000000006,0.32000000000000006,0.16000000000000003,1.0,0.24,0.6000000000000001,0.6000000000000001,0.0,0.0,0.4,0.0,1.0,0.6000000000000001,0.4,0.0,0.4,1.0,0.2,0.8,0.8,0.2,0.2,0.2,0.8,0.2,1.0,0.8,0.8,0.8,0.8,0.6000000000000001,0.8,0.0,0.0,0.2,0.8,1.0,0.4,0.8,0.0,0.4,0.2,0.0,0.4,1.0,0.2,0.6000000000000001,0.4,1.0,0.4,0.2,1.0,0.0,1.0,1.0,0.0,0.4,0.8,0.0,0.4,0.6000000000000001,0.0,0.6000000000000001,0.2,0.6000000000000001,0.4,0.8,0.0,0.8,0.8,0.4,0.4,1.0,0.4,0.4,0.0,0.4,0.0,0.4,0.8,0.8,0.2,0.8,0.8,0.4,0.4,0.4,0.0,0.6000000000000001,0.2,1.0,0.2,0.0,0.4,0.4,0.0,0.6000000000000001,0.6000000000000001,0.6000000000000001,1.0,1.0,0.8,0.2,0.0,1.0,0.0,0.8,1.0,0.6000000000000001,0.6000000000000001,0.6000000000000001,0.4,0.2,0.0,0.4,0.0,0.4,1.0,0.6000000000000001,0.6000000000000001,1.0,0.6000000000000001,0.4,0.2,0.2,1.0,0.2,0.4,0.8,0.0,0.4,0.2,0.6000000000000001,0.2,0.2,1.0,1.0,1.0,0.0,0.8,0.8,0.0,0.0,0.4,0.8,1.0,0.6000000000000001,0.6000000000000001,0.8,0.2,0.0,0.4,0.4,1.0,0.8,1.0,0.2,0.0,0.4,0.0,0.4,0.2,1.0,1.0,0.6000000000000001,0.0,0.0,0.4,1.0,0.2,0.6000000000000001,0.6000000000000001,0.4,0.2,0.2,0.4,0.4,0.8,0.0,0.2,0.2,0.4,0.4,0.0,0.2,1.0,0.4,0.4,1.0,0.4,1.0,0.0,0.8,0.8,0.8,0.0,0.4,0.4,1.0,0.4,0.6000000000000001,0.8,0.2,1.0,0.4,0.2,0.4,0.2,0.8,1.0,0.2,0.8,0.4,0.8,0.4,0.8,1.0,0.0,0.0,1.0,0.8,0.2,0.8,0.8,1.0,1.0,0.8,0.2,0.0,0.6000000000000001,0.8,0.6000000000000001,1.0,1.0,1.0,0.2,0.0,0.8,0.2,0.8,0.6000000000000001,1.0,1.0,0.0,0.2,0.0,0.0,0.0,0.0,0.8,1.0,0.2,0.2,0.8,0.2,1.0,0.6000000000000001,1.0,1.0,0.27999999999999997,0.7200000000000001,0.7000000000000001,0.6400000000000001,0.8,0.4,0.7200000000000001,0.8400000000000001,0.8,0.65,0.68,0.7334,0.75,0.24,0.76,0.68,0.6400000000000001,0.7200000000000001,0.6000000000000001,0.32000000000000006,0.6400000000000001,0.76,0.8400000000000001,0.6000000000000001,0.8,0.9500000000000001,0.7066,0.25,0.8,0.6000000000000001,0.52,0.7000000000000001,0.30000000000000004,0.4,0.7000000000000001,0.6000000000000001,0.9500000000000001,0.68,0.68,0.8500000000000001,0.76,0.6000000000000001,0.6000000000000001,0.9199999999999999,0.6000000000000001,0.8500000000000001,0.36000000000000004,0.5599999999999999,0.25,0.75,0.75,0.75,0.7000000000000001,0.9199999999999999,0.65,0.2666,0.5,0.65,0.6000000000000001,0.7200000000000001,0.44000000000000006,0.96,0.8,0.68,0.6400000000000001,0.5,0.65,0.76,0.8800000000000001,0.7000000000000001,0.30000000000000004,0.5599999999999999,0.7200000000000001,0.8400000000000001,0.6000000000000001,0.6000000000000001,0.32000000000000006,0.8,0.2666,0.7200000000000001,0.6000000000000001,0.6000000000000001,0.7000000000000001,0.8,0.44000000000000006,0.68,0.7000000000000001,0.8500000000000001,0.52,0.6000000000000001,0.48,0.76,0.6000000000000001,0.7000000000000001,0.7000000000000001,0.75,0.45,0.65,0.96,0.76,0.68,0.4,0.9199999999999999,0.7000000000000001,0.6666000000000001,0.5334,0.6400000000000001,0.76,0.68,0.68,0.7200000000000001,0.76,0.36000000000000004,0.6400000000000001,0.6000000000000001,0.36000000000000004,0.55,0.32000000000000006,0.55,0.65,0.45,0.6000000000000001,0.6364000000000001,0.75,0.52,0.25,0.5,0.8400000000000001,0.52,0.27999999999999997,0.7200000000000001,0.6000000000000001,0.7000000000000001,1.0,0.6000000000000001,0.76,0.76,0.8444000000000002,0.5,1.0,0.8,0.7200000000000001,0.8400000000000001,0.68,0.52,0.7200000000000001,0.8,0.7000000000000001,0.30000000000000004,0.7000000000000001,0.35000000000000003,0.75,0.96,0.68,0.52,0.8800000000000001,0.7200000000000001,0.7200000000000001,0.8,0.9,1.0,0.68,0.75,0.6352000000000001,0.7200000000000001,0.6400000000000001,0.7000000000000001,0.38,0.6000000000000001,0.7200000000000001,0.75,0.7200000000000001,0.75,0.6666000000000001,0.52,0.36000000000000004,0.7200000000000001,0.8800000000000001,0.6000000000000001,0.8,0.65,0.6000000000000001,0.52,0.52,0.9199999999999999,0.55,0.44000000000000006,0.6666000000000001,0.5538000000000001,0.5599999999999999,0.8,0.9466,0.32000000000000006,0.75,0.1,0.65,0.48,0.6400000000000001,0.75,0.65,0.48,0.9,0.8,0.76,0.16000000000000003,0.6000000000000001,0.7000000000000001,0.4,0.5599999999999999,0.4,0.6000000000000001,0.7000000000000001,1.0,0.65,0.68,0.68,0.75,0.55,0.6400000000000001,0.52,0.32000000000000006,0.5,0.68,0.8,0.8500000000000001,0.8,0.68,0.5599999999999999,0.32000000000000006,0.76,0.5334,0.24,0.96,0.6000000000000001,0.8,0.8,0.55,0.45,0.6400000000000001,0.9500000000000001,0.5599999999999999,0.27999999999999997,0.15000000000000002,0.7334,0.68,0.68,0.7714000000000001,0.6000000000000001,0.7000000000000001,0.65,0.27999999999999997,0.15000000000000002,0.68,0.96,0.08000000000000002,0.36000000000000004,0.48,0.32000000000000006,0.6400000000000001,0.08000000000000002,0.8,0.16000000000000003,0.27999999999999997,0.36000000000000004,0.44000000000000006,0.6400000000000001,0.24,0.25,0.8400000000000001,0.52,0.7200000000000001,0.08000000000000002,0.0,1.0,0.8800000000000001,0.96,0.7200000000000001,0.76,0.04000000000000001,0.76,0.44000000000000006,0.8,0.52,0.12,0.8800000000000001,0.8,0.16000000000000003,0.4,0.27999999999999997,0.6000000000000001,0.12,0.4,0.9199999999999999,0.27999999999999997,0.9,0.16000000000000003,0.0,0.8800000000000001,0.2,0.68,0.12,0.2,0.5599999999999999,0.32000000000000006,0.48,0.16000000000000003,0.8800000000000001,0.96,0.68,0.76,0.9,0.44000000000000006,0.8,0.2,0.52,0.2,0.27999999999999997,0.8,0.8400000000000001,0.76,0.76,0.48,0.08000000000000002,0.44000000000000006,0.8800000000000001,0.7200000000000001,0.44000000000000006,1.0,0.8400000000000001,0.36000000000000004,0.27999999999999997,0.44000000000000006,0.76,0.8400000000000001,0.4,1.0,0.76,0.24,0.44000000000000006,0.27999999999999997,0.48,0.6000000000000001,0.6400000000000001,0.76,0.6000000000000001,0.4,0.5599999999999999,0.8,0.9199999999999999,0.8,0.44000000000000006,0.68,0.68,0.68,0.8400000000000001,0.76,0.52,0.44000000000000006,0.08000000000000002,0.36000000000000004,0.2,0.32000000000000006,0.32000000000000006,0.52,0.52,0.0,0.8800000000000001,0.68,0.12,0.0,0.8800000000000001,0.7200000000000001,0.6000000000000001,0.76,0.44000000000000006,0.0,0.9199999999999999,0.32000000000000006,0.9199999999999999,0.8400000000000001,0.76,0.6000000000000001,0.2,0.7200000000000001,0.16000000000000003,0.44000000000000006,0.8400000000000001,0.8400000000000001,0.68,0.26,0.24,0.7200000000000001,0.6400000000000001,0.2,0.6000000000000001,0.76,0.32000000000000006,0.24,0.68,0.08000000000000002,0.96,0.0,0.08000000000000002,0.5599999999999999,0.7200000000000001,0.4,0.8,0.76,0.36000000000000004,0.04000000000000001,0.4,1.0,0.0,0.7200000000000001,0.7200000000000001,0.68,0.04000000000000001,0.8800000000000001,0.12,0.08000000000000002,0.9199999999999999,0.52,0.5599999999999999,0.6400000000000001,0.4,0.36000000000000004,0.08000000000000002,0.27999999999999997,0.24,0.52,0.48,0.8400000000000001,1.0,0.08000000000000002,0.32000000000000006,0.6400000000000001,0.8800000000000001,0.96,1.0,0.534,0.0,1.0,0.6000000000000001,0.96,0.48,1.0,0.96,1.0,0.6400000000000001,0.24,1.0,0.9199999999999999,0.4,0.36000000000000004,0.6000000000000001,0.76,0.8,0.96,0.96,0.5599999999999999,0.52,0.8800000000000001,0.9199999999999999,0.44000000000000006,0.08000000000000002,0.08000000000000002,0.27999999999999997,0.96,0.8800000000000001,1.0,0.4,1.0,1.0,1.0,1.0,0.8,0.6000000000000001,0.6000000000000001,1.0,0.8,0.4,0.2,0.8,0.0,0.4,1.0,0.6000000000000001,0.4,0.4,0.0,0.0,0.2,0.2,0.2,0.4,0.0,0.2,0.2,0.0,0.0],\"type\":\"scatter\",\"xaxis\":\"x\",\"yaxis\":\"y2\"},{\"name\":\"Predicition\",\"x\":[0,1,2,3,4,5,6,7,8,9,10,11,12,13,14,15,16,17,18,19,20,21,22,23,24,25,26,27,28,29,30,31,32,33,34,35,36,37,38,39,40,41,42,43,44,45,46,47,48,49,50,51,52,53,54,55,56,57,58,59,60,61,62,63,64,65,66,67,68,69,70,71,72,73,74,75,76,77,78,79,80,81,82,83,84,85,86,87,88,89,90,91,92,93,94,95,96,97,98,99,100,101,102,103,104,105,106,107,108,109,110,111,112,113,114,115,116,117,118,119,120,121,122,123,124,125,126,127,128,129,130,131,132,133,134,135,136,137,138,139,140,141,142,143,144,145,146,147,148,149,150,151,152,153,154,155,156,157,158,159,160,161,162,163,164,165,166,167,168,169,170,171,172,173,174,175,176,177,178,179,180,181,182,183,184,185,186,187,188,189,190,191,192,193,194,195,196,197,198,199,200,201,202,203,204,205,206,207,208,209,210,211,212,213,214,215,216,217,218,219,220,221,222,223,224,225,226,227,228,229,230,231,232,233,234,235,236,237,238,239,240,241,242,243,244,245,246,247,248,249,250,251,252,253,254,255,256,257,258,259,260,261,262,263,264,265,266,267,268,269,270,271,272,273,274,275,276,277,278,279,280,281,282,283,284,285,286,287,288,289,290,291,292,293,294,295,296,297,298,299,300,301,302,303,304,305,306,307,308,309,310,311,312,313,314,315,316,317,318,319,320,321,322,323,324,325,326,327,328,329,330,331,332,333,334,335,336,337,338,339,340,341,342,343,344,345,346,347,348,349,350,351,352,353,354,355,356,357,358,359,360,361,362,363,364,365,366,367,368,369,370,371,372,373,374,375,376,377,378,379,380,381,382,383,384,385,386,387,388,389,390,391,392,393,394,395,396,397,398,399,400,401,402,403,404,405,406,407,408,409,410,411,412,413,414,415,416,417,418,419,420,421,422,423,424,425,426,427,428,429,430,431,432,433,434,435,436,437,438,439,440,441,442,443,444,445,446,447,448,449,450,451,452,453,454,455,456,457,458,459,460,461,462,463,464,465,466,467,468,469,470,471,472,473,474,475,476,477,478,479,480,481,482,483,484,485,486,487,488,489,490,491,492,493,494,495,496,497,498,499,500,501,502,503,504,505,506,507,508,509,510,511,512,513,514,515,516,517,518,519,520,521,522,523,524,525,526,527,528,529,530,531,532,533,534,535,536,537,538,539,540,541,542,543,544,545,546,547,548,549,550,551,552,553,554,555,556,557,558,559,560,561,562,563,564,565,566,567,568,569,570,571,572,573,574,575,576,577,578,579,580,581,582,583,584,585,586,587,588,589,590,591,592,593,594,595,596,597,598,599,600,601,602,603,604,605,606,607,608,609,610,611,612,613,614,615,616,617,618,619,620,621,622,623,624,625,626,627,628,629,630,631,632,633,634,635,636,637,638,639,640,641,642,643,644,645,646,647,648,649,650,651,652,653,654,655,656,657,658,659,660,661,662,663,664,665,666,667,668,669,670,671,672,673,674,675,676,677,678,679,680,681,682,683,684,685,686,687,688,689,690,691,692,693,694,695,696,697,698,699,700,701,702,703,704,705,706,707,708,709,710,711,712,713,714,715,716,717,718,719,720,721,722,723,724,725,726,727,728,729,730,731,732,733,734,735,736,737,738,739,740,741,742,743,744,745,746,747,748,749,750,751,752,753,754,755,756,757,758,759,760,761,762,763,764,765,766,767,768,769,770,771,772,773,774,775,776,777,778,779,780,781,782,783,784,785,786,787,788,789,790,791,792,793,794,795,796,797,798,799,800,801,802,803,804,805,806,807,808,809,810,811,812,813,814,815,816,817,818,819,820,821,822,823,824,825,826,827,828,829,830,831,832,833,834,835,836,837,838,839,840,841,842,843,844,845,846,847,848,849,850,851,852,853,854,855,856,857,858,859,860,861,862,863,864,865,866,867,868,869,870,871,872,873,874,875,876,877,878,879,880,881,882,883,884,885,886,887,888,889,890,891,892,893,894,895,896,897,898,899,900,901,902,903,904,905,906,907,908,909,910,911,912,913,914,915,916,917,918,919,920,921,922,923,924,925,926,927,928,929,930,931,932,933,934,935,936,937,938,939,940,941,942,943,944,945,946,947,948,949,950,951,952,953,954,955,956,957,958,959,960,961,962,963,964,965,966,967,968,969,970,971,972,973,974,975,976,977,978,979,980,981,982,983,984,985,986,987,988,989,990,991,992,993,994,995,996,997,998,999,1000,1001,1002,1003,1004,1005,1006,1007,1008,1009,1010,1011,1012,1013,1014,1015,1016,1017,1018,1019,1020,1021,1022,1023,1024,1025,1026,1027,1028,1029,1030,1031,1032,1033,1034,1035,1036,1037,1038,1039,1040,1041,1042,1043,1044,1045,1046,1047,1048,1049,1050,1051,1052,1053,1054,1055,1056,1057,1058,1059,1060,1061,1062,1063,1064,1065,1066,1067,1068,1069,1070,1071,1072,1073,1074,1075,1076,1077,1078,1079,1080,1081,1082,1083,1084,1085,1086,1087,1088,1089,1090,1091,1092,1093,1094,1095,1096,1097,1098,1099,1100,1101,1102,1103,1104,1105,1106,1107,1108,1109,1110,1111,1112,1113,1114,1115,1116,1117,1118,1119,1120,1121,1122,1123,1124,1125,1126,1127,1128,1129,1130,1131,1132,1133,1134,1135,1136,1137,1138,1139,1140,1141,1142,1143,1144,1145,1146,1147,1148,1149,1150,1151,1152,1153,1154,1155,1156,1157,1158,1159,1160,1161,1162,1163,1164,1165,1166,1167,1168,1169,1170,1171,1172,1173,1174,1175,1176,1177,1178,1179,1180,1181,1182,1183,1184,1185,1186,1187,1188,1189,1190,1191,1192,1193,1194,1195,1196,1197,1198,1199,1200,1201,1202,1203,1204,1205,1206,1207,1208,1209,1210,1211,1212,1213,1214,1215,1216,1217,1218,1219,1220,1221,1222,1223,1224,1225,1226,1227,1228,1229,1230,1231,1232,1233,1234,1235,1236,1237,1238,1239,1240,1241,1242,1243,1244,1245,1246,1247,1248,1249,1250,1251,1252,1253,1254,1255,1256,1257,1258,1259,1260,1261,1262,1263,1264,1265,1266,1267,1268,1269,1270,1271,1272,1273,1274,1275,1276,1277,1278,1279,1280,1281,1282,1283,1284,1285,1286,1287,1288,1289,1290,1291,1292,1293,1294,1295,1296,1297,1298,1299,1300,1301,1302,1303,1304,1305,1306,1307,1308,1309,1310,1311,1312,1313,1314,1315,1316,1317,1318,1319,1320,1321,1322,1323,1324,1325,1326,1327,1328,1329,1330,1331,1332,1333,1334,1335,1336,1337,1338,1339,1340,1341,1342,1343,1344,1345,1346,1347,1348,1349,1350,1351,1352,1353,1354,1355,1356,1357,1358,1359,1360,1361,1362,1363,1364,1365,1366,1367,1368,1369,1370,1371,1372,1373,1374,1375,1376,1377,1378],\"y\":[0.41813307146826967,0.8348778450881963,0.6786607670348892,0.7835138266478019,0.35273122972695936,0.3367053514309423,0.7232403829850378,0.5769404809063965,0.5430541047238429,0.47664339251559873,0.47664339251559873,0.7446425560986558,0.163201742352523,0.7353935488509704,0.43306185432329186,0.44461025722910963,0.791341066188791,0.6158984260689029,0.5172297741086592,0.38291667399953716,0.328239284324104,-0.0017924824515838655,0.7888239243522288,0.731071618066733,0.2968603013831981,0.40373600546819965,0.21704685320614284,0.45315263962854646,0.20271382635684343,0.5504045864901495,0.6423460071505998,0.7615654892050068,0.3235504694385407,0.662096912987683,0.6521324131287811,0.01152488922761552,0.29422798011313367,0.4863247551869724,0.6559677166561094,0.1458195500686959,0.5703288840256941,0.4713394328711058,0.48093769376768725,0.2427778586419363,0.4069406542582661,0.1197151464589255,0.08490592620274334,0.14094320690501672,0.5582829203358153,0.33389675145880415,0.27867133181984055,0.3579698943550853,0.03502355583526667,0.2271935724809186,0.44534161220180735,-0.08934613284483445,0.7874059026700944,0.2058818869157279,0.6961226633804258,0.380274197869864,0.8136381597886437,0.0991934319244922,0.5055236041381008,0.3203282458609389,0.34840002427936406,0.15804406475500238,0.12455776196600538,0.7567864931468875,0.03072936289913225,0.8463717504599324,0.831531851524805,0.6714598617971732,0.1947699856519423,0.681328954474937,0.5881272887142923,0.09487008307052441,0.16661180657706326,0.07719584108914468,0.5804738415825612,0.6415022869044293,0.10666336821834593,0.14486736532265104,0.4877560303595487,0.2850635378485495,-0.06668866177757843,0.24197909908801918,0.8205042130140603,0.7003936942802251,0.4918135759690146,0.34355615369267917,0.4020796044983411,0.6187815972914975,0.16568802160139373,0.6664539626333976,0.36250269496880533,0.8128437817390519,0.49311154939601065,0.5758827179753128,0.2974743381462187,0.5652339757149405,-0.03537032424146319,0.2272598721795359,0.45465754173408346,0.4856664704690829,0.7076223303155142,0.4376996238073638,-0.12124413121616945,0.4057012487125399,0.42753475229911886,0.5106089452883269,0.43072240226336905,0.7578999906778461,0.5463929575699837,0.6920292551355598,-0.10033131138372381,0.057395960677393776,0.7941246841308168,0.3298139522562738,0.06821012869742243,0.11865560594718894,0.19926363483857842,-0.04441351805507948,0.1904854113155856,0.09462942095821714,0.14277225722699227,0.7230708593305171,0.1667964070693173,0.5428217614996598,0.9694915670650761,0.5625261389055325,0.4584761266685784,0.5269098386992048,0.6412595841400097,0.7654043479756809,0.5693032233241724,0.6845275380351012,0.7892988167389492,0.527466889304348,0.4672301839768875,1.0512603029904286,0.7527873423886292,0.6682229763176926,0.7202307694180331,0.7821931493712591,0.3400388733986045,0.33006143140062716,0.5523535171405225,0.6866293062791147,0.4622897464592762,0.36426898977246835,0.45529950315876744,0.4424955389527322,0.6668034016796072,0.5164250771276209,0.7385294777677829,0.6188997900208666,0.004251592088976464,0.3769935285916589,0.6543243036863212,0.20912449899457575,0.7630035715231755,0.5061089739681714,0.26802444356237143,0.6916366369858791,0.7959614132274466,0.7722327432484161,0.6838758934940226,0.4464795310605545,0.6194763239864658,0.7054770541234461,0.5127642172256642,0.10179054602261645,0.6829469628894655,0.8254876482148896,0.640501421628994,0.5876224337815815,0.7128956614946149,0.7089644490593032,0.1019087384629076,0.06502743427730556,0.08766361970012293,0.6183227618726375,0.6203485420585554,0.2116430925186946,0.5175053731179395,0.005109009783670571,-0.041672080312110726,0.13220189282481393,0.3070773504753504,0.08472920774702047,0.6312671543309323,0.4504309663121071,0.33328959744687836,0.6456893315161327,0.6323779562358156,0.6609255918606494,0.6284405017609999,0.16377690987605448,0.04608963878743999,0.6159634812068728,0.13068745728503528,0.29445465577280056,0.20489903849456131,0.1957009628127159,0.16025223818919954,0.3361657171936304,0.5016408719212984,-0.0870030870362622,0.5217237444706431,0.3871096447159619,0.2668959856665731,0.2809437538262843,0.16275750320865945,0.1469726716114646,0.49744920654958436,0.3079494237440592,0.42501040619007435,0.5902970848413507,0.6125254040724184,0.6447316543680879,0.16631933848645275,0.2650055040785698,0.4405049394895505,0.38564040959850054,0.04669014715771935,-0.03422058951080226,0.261686733157945,0.3716228435945821,-0.05126386626373203,0.24574045019332727,0.11400656871159348,-0.010903216036260488,0.6752101500250636,0.5274902144333085,0.5720443745755361,0.4697423868557387,0.06624621958000837,0.21892992603875241,0.2106842609257349,0.06059663544061522,0.40132243541508666,0.11031257572196401,0.1539365623771134,-0.029944744672207035,0.53399098481029,0.09150177715408908,0.8249160001924596,0.4930482524637748,0.19190635933638034,0.13981446736776648,0.6289032801327175,0.7372501323633638,0.5633948662012613,0.6137461556576125,0.3442996961044657,0.49740738626177644,0.23438559635200334,0.6813088064372445,0.45720249241103694,0.22743300402799888,0.7019920727385442,0.6130011666801922,0.573586631350134,0.9907902264621478,0.5203608712784313,0.5360087165407686,0.4239079565681485,0.751309806256087,0.48032189012742643,0.9456339876426583,0.6609950814739747,0.22968826144747231,0.6330816794152744,0.5026591140524761,0.67447803258554,1.0633456719621164,0.4146111481915029,0.040050524797562215,0.6534099855450666,0.4814232026133816,0.21721519912410725,0.3706046230317463,0.6501413076332636,0.683743690061507,0.6249807616555214,0.6186391450752924,0.31510996606342945,0.7515815346254237,0.5370770788843003,0.1400634502585073,0.8160522891220879,0.1542021324653408,0.5432926089662169,0.6297502123606142,0.1967479435451729,0.24894487970506587,0.5725547581879221,0.5406871483539737,0.34668077913069406,0.5735012112122866,0.8806731798797359,0.608102702029088,0.4472395999878518,0.9811421988311018,0.4243252453637415,0.587736294728817,0.6578395861049053,0.4904269676797127,0.5973911047815863,0.3422587977836937,0.4892141442798685,0.18197337687871795,0.27198003777163954,0.6081562829438742,0.40920180255882116,0.5169326610829135,0.21117028458618015,0.6788660233795407,0.023567745224307934,0.07451995483736618,0.7093862781024938,0.4480121907540158,0.7620477163255619,0.41657664491806246,0.6579147580975422,0.2239300510226177,0.6354074510261706,0.5480632244912476,0.7127440122300686,0.6552799655811019,0.7908896062428032,0.7372982624592193,0.5700065407579502,0.5742873350853877,0.4219296231549865,0.33124935503680764,0.6885601602147706,0.6599010505335082,0.09936832836175308,0.3489925850546485,0.6095460832389668,0.8043530817393025,0.9339045581283127,0.3842109188226242,0.637590418314476,0.2899274319549251,0.5747451334679736,0.07502477947333336,0.5201220747632871,0.17241019109576727,0.6095313409581982,0.6861569854585141,0.27488584920635545,0.6943602167221554,0.6534516514566843,0.058307355012254425,0.4486382455477302,0.8243346651198957,0.07585588486764777,0.6544044012263257,0.6716648723578178,0.5231325421779172,0.40923596085911806,0.47498768224464005,1.0712604614644323,0.16912660989582906,0.3873177843888308,0.4127508851302647,0.7120164726148066,0.6181076541508175,0.5507148846913017,0.6721559280146292,0.2205115761557616,0.3657063655013165,0.5368792419927015,0.6652200226061015,0.5086843851166084,0.12496716594471441,0.5307663218158298,0.6111238163324474,0.661910480064742,0.5193800174831353,0.5152270608759271,0.15795079281087693,0.6695824107275101,0.6116239524601134,0.3880405219034074,0.4210312926795214,0.5306253414757229,0.3011109290450311,0.7371295872409271,0.4221600729030003,0.030953972448530098,0.31774882638637714,0.6152785090911447,0.12548018082614792,0.1651731167078394,0.9379441046472379,0.6506307271829426,0.4817358462617595,0.417280206106481,0.12948102891606406,0.5752253572918162,0.6717869439046262,0.4929811809405462,0.720478360448944,0.26688825837812635,0.6361910149082434,0.5127163365297277,0.7271548687161575,0.5167559180105809,0.7401204206713172,0.5048868322804582,0.7268442661752619,0.22289737598291792,0.4935441569204278,0.003618071392243072,0.6443508379463028,0.781776793369251,0.8111529614131163,0.8715503597903478,0.3268656072873512,0.9055931064830041,0.2381444597289908,0.4816478133223159,0.20243606312790835,0.3458560424635014,0.9166471792276293,0.2882670006308695,0.479872875544364,0.38332092768403037,0.8914254656854823,0.3666962312645491,0.7175127616468142,-0.0758354998594512,0.5485077179348615,0.4521306995647776,0.9789192489046523,0.5405824536824171,0.6257925316379269,0.6658071876649383,0.527385483564459,0.10700438231199616,0.8533245368111118,0.5692871546944671,0.22849063880897924,0.41727455243674205,0.483519882689476,0.1494102594548234,0.3181473315234127,0.5795486174560363,0.8781010016192181,0.05105143147296348,0.287903836660743,0.9231483061274417,0.5023472104663859,0.5156491488910615,0.7403997779131983,0.5271814934079391,0.6180970511882902,0.22273801566438445,0.3090050420605924,0.2521757026061724,0.44490239540868004,0.6837726377169967,0.653284630837971,0.40180046731579966,0.8143493126575934,0.9018691348972578,0.2345053110159109,0.5643983343770606,0.5320180349565826,0.5587370263567522,0.6401946218569794,0.43630398138476867,0.38667650048437846,0.3949609949454633,0.4479831935799422,0.33801889039925614,0.10278760088264804,0.7159187413233168,0.4326619458371354,0.675011046326849,0.15718925213696433,0.6424232505162237,0.4637712210162698,0.6248589486967879,0.6596511829275054,0.4756314510760169,0.796141044615015,0.8330568925218154,0.6469697013419295,0.6291689194026271,0.7787793768686759,0.5820708183731189,0.6363179000383754,0.22544290936292904,0.5921816020564863,0.3101630609748071,0.8629306635225964,0.554494482746709,0.40150778051960934,0.4638603586886568,0.6606184019313137,0.34871746500518297,0.7657937834073218,0.49678386924020645,0.1609331239380068,0.48798746459598036,0.09982551149521363,0.156731301889328,0.5567682449874083,0.5147413345164297,0.10688659564086694,0.5633172961242736,0.2379986974523738,0.6078639975208414,0.3600368973089958,0.13239994908904446,0.6370971918609419,0.4722706202724607,0.43593056620997706,0.7665289110278823,0.4616390491787248,0.6524703358724495,0.577223442069146,0.3515432051196168,0.3777917860346603,0.36023973203980036,0.258479642364968,0.2637611492662777,0.12127291108267485,0.5747328619921799,0.49400906244208065,0.28176437399599197,0.13074837104266268,0.7474262068527879,0.3615748991674249,0.45761166049318114,0.4202044240909883,0.7828950952831575,0.3907112767694253,0.4524000803432202,0.5626074775209007,0.6234882350006188,0.93331140360205,0.26328482381893525,0.415545155649898,0.6729028280493077,0.764256585872513,0.699805428597088,0.18905292735478735,0.5824188292219836,0.4116026002525198,0.5968822078957093,0.5504432429689943,0.6338245946819707,0.3056447266134324,0.7058658678769414,0.3680313630545903,0.801106458505499,0.22641764253829977,0.29006962375158685,0.6044491627860359,0.36901466246277437,0.24328010945821635,1.0686333782090924,0.5188022513169157,0.42903147145657494,0.5064991297667633,0.45811543158160106,0.23706076194317866,0.2826126014135715,0.6123088231274272,0.9643578042517822,0.659005343695813,0.7343847478052627,0.5930290498159503,0.5228484994624383,0.4332011438056893,0.3274093314795497,0.49801115540678464,0.5558593583328264,0.3424444726114563,0.6952055082485769,0.5470548633545712,-0.027707282896911767,0.42012499948140875,0.3440648885798324,0.3546050919970016,0.25521391696913287,0.34217483307285207,0.6925540499484959,0.41716612588473156,0.5013687912015484,0.7985818467567549,0.5041251755697396,0.5091551234882863,0.5196677371405684,0.8274875019257185,0.2323414924885388,0.024187914685216583,0.8618354472481977,0.566545771761558,0.21875486040280498,0.6420902715528753,0.41129596966878196,0.21687354566823808,0.7241159281533834,0.5265428884558288,0.5902843155143737,0.5993989399019671,0.4467654619225649,0.20801912034570566,0.5605945049365733,0.22564358613135316,0.37216841853116733,0.3380671282713057,0.6914185660014418,0.6137724786898336,0.4428303624802975,0.7421037747079986,0.2655109087561621,0.9744610202405284,0.496846630721306,0.5895245911085485,0.4048099600597269,0.26011033346627815,0.4148792168918281,0.5891537559034619,0.4258828852576094,0.2707081468480539,0.5472161320608218,0.16590077261526776,0.3473308308271822,0.2354584809434206,0.4791266788431372,0.25593912964983834,0.6078699085759932,0.2966914219876304,0.6669235837801393,0.2091965823607761,0.46872621050765584,0.12941168038610656,0.5423203169232831,0.3084260030381759,0.3434988999876164,0.5401542347511771,0.5730277473422465,0.6362569461254602,0.2846312836730068,0.4671080214487135,0.25937592809894183,0.03323465828083999,0.5853878575465816,0.42638373962725346,0.5351206260411732,0.25748871052522493,0.5316831390555201,0.32040479052931536,0.39102057828853315,0.3916987989577958,0.7414003243030345,0.2322010569172106,0.7429282515794724,0.5777887158908657,0.6312233278647537,0.5455692399500275,0.435153850799731,0.18117275041718722,0.33535085915455176,0.913233311462465,0.3948917300844577,0.6627163336327992,0.627993610175358,0.45726209871614343,0.24730133809160212,0.5404757261163917,0.5417907003182747,0.27756172775653687,0.5938848567683076,0.2880127093554677,0.6774875673461331,0.6059692790210689,0.7478761408087444,0.4805606808130757,0.688002656207422,0.45676232698208397,0.4784786872150116,0.4788801031045893,0.529072766418541,0.16841181250458193,0.1710326392227992,0.35948133510481306,0.5145196526335384,0.2842326109942209,0.16035622230840874,0.2738884036166774,0.24143290126724087,0.6177744752510024,0.24634606539837806,0.30904577650832327,0.5491081797902893,0.4983145042038093,0.1631144168406044,0.38559390595735255,0.527990229854815,0.17113690888511374,0.5702972598120841,0.5033315401357268,0.5040257584468988,0.26612424717584615,0.07224924990382503,0.4459299788519092,0.5464734061580111,0.48048797602588444,0.11634331843115703,0.2843274047403688,0.36397609699621725,0.7003123580930295,0.7228431912450504,0.2918926063153186,0.41271466259032197,0.20126452330976302,0.09323673073248379,0.3916508782172425,0.38089245770360447,0.19041333698595747,0.5098378728472168,0.16550351884919967,0.14878557041481139,0.7205361250678723,0.16440492092783227,0.3664853590224365,0.535173502748826,0.45787674810780515,0.2932631741732164,0.7488237570093783,0.35058627308292756,0.3878903774593202,0.6537140589256358,0.4785193226492638,0.33277395707243196,0.20423520398137654,0.4695681883630848,0.42012523961313714,0.4210042564387658,0.33504330831492013,0.32866545149417725,0.6397837369387039,0.2286824806964876,0.6722707837428492,0.3529093291102109,0.36476254908038064,0.3511591860885599,0.4834164686661789,0.03686016328786612,0.484562408259964,0.6915242075890822,0.643393560515879,0.6650909149133399,0.06309025457735534,0.32517806554510037,0.32519161895369514,0.5231412834644482,0.4218103585047459,0.3525418813905731,0.4576779092598542,0.44400602561887303,0.4709176379497025,0.2929569601107346,0.35094640483210515,0.5500795024870051,0.7801713290215053,0.20723528263611382,0.44370112620539215,0.5742571915608983,0.41188801229306227,0.276294015321244,0.44426871856596717,0.49148509225667447,0.781656396315966,0.7113706833287541,0.22892295615440944,0.6747125714628273,0.525598345335346,0.37978166148670134,0.816844638052572,0.8774341735333653,0.14235263235070422,0.43859506620664157,0.5591969224078013,0.27960155244297286,0.2706663366428422,0.37802817809744427,0.37059137647747453,0.6976323884573374,0.6512624449200567,0.2503930474658313,0.037824910015905655,0.4123358789883461,0.35528384431560367,0.4970239439066869,0.1353864859291779,0.48123378938747097,0.41689028896724634,0.7130625735401337,0.4229597034176861,0.40518868568390043,0.36244427243299127,0.4739745750281467,0.1117683932009958,0.17397013139699874,0.5913641267494139,0.595711907775521,0.19594425615797048,0.34993293017535193,0.5076702156458595,0.3433659613008958,0.5196533984068115,0.3051455354844727,0.5522261317934595,0.36748955851556386,0.7456335694797729,0.4899602317285989,0.14495514045359043,0.4170354370423247,0.42468756495200666,0.660039548364891,1.0793173208520217,0.6864306294717154,0.349552144085516,0.3001532520311814,0.303733285060632,0.9629803783459177,0.3671354667648874,0.7113335686315692,0.25014167746124194,0.30429630048927914,0.6007485298261961,0.1212422225939398,0.3534394621889606,0.865674692330122,0.3572157507530146,0.5384664367381234,0.06363103843248247,0.3365641286638988,0.18869657311439847,0.32222739445231985,0.5342024002208862,0.6071107525849881,0.6761717103307754,0.8911525315006237,0.7924432216650179,1.1728240260632132,0.5363451480569504,0.5110530890118099,0.29648315652525525,0.6934088885304758,0.020641580983133734,0.7093704367988612,0.695830667775035,0.7762207561277097,0.4970068621157379,0.4420867251043774,0.13560179208914508,0.5675077652641147,0.2403458834443794,0.07610172884565969,0.6709964332864544,0.34575969369724613,0.38068329443771176,0.2273216250218039,0.10179752232756761,0.5726817257763845,1.2132699391742812,0.3303745886797571,0.28907542543673836,0.8718739956204076,0.4454691479358221,0.8114110014471448,0.5840087120592077,0.8086214610402014,0.5123559302277959,0.4649992439411087,0.5917077475752099,0.31591059921212566,0.6371301394226511,0.38667670480929817,0.6180613786236853,0.7167898500382328,0.6095599065955618,0.35711925029669,0.6726775322175244,0.5492473073667063,0.4825217383523879,0.4290818622818464,0.4404239880166679,0.6450684166029965,0.5042141642872079,0.6625186982194252,0.5661769032566715,0.5119088657410225,0.6498274420812127,0.8341052663995834,0.5381500066562876,0.9031468487986559,0.5822754251312386,0.6369888372180907,0.4594357251535949,0.5971546158312836,0.5400392625737791,0.6602562497261413,0.7966419808466589,0.6862519809783687,0.8193023228964134,0.5078900074453649,0.4961796785679619,0.722745989565553,0.5378944918193881,0.5979615924828323,0.7081534563392347,0.8885361837404446,0.7264363181485718,0.5356297000310749,0.5022451608623888,0.5329459275818915,0.6109880278665207,0.788378670779857,0.5950452763225174,0.7645347717298048,0.8793940186234488,0.7604895943115324,0.6211205788590719,0.46081074116397913,0.3972212977140741,0.41066614390301576,0.6199000543216097,0.6605819685128143,0.6153327008753234,0.7574537962848229,0.6298039817754011,0.682589062203795,0.5469189217752983,0.36461507034406715,0.5705919942701045,0.6352917517236527,0.5110226853846983,0.6795923000201312,0.46912774452033035,0.5868109083010893,0.6696342778156554,0.7061126329964906,0.5107995094386873,0.6285754781287785,0.5022339812277253,0.3634368647210189,0.37496942149473556,0.5754057000318967,0.6719954283179981,0.6257946822761329,0.828687894221051,0.691213188739976,0.5126665476057929,0.4866262274146399,0.6901935208350949,0.7012618030831979,0.47087111685352157,0.5035358879809257,0.7370803184913124,0.6216548774658812,0.6792121541267524,0.67194418776747,0.5221836006668724,0.7993628617385817,0.8804553345262862,0.5631218046970595,0.7872768082420484,0.7743696572729072,0.5587250731959655,0.5833634459901462,0.7687454648901693,0.44921231935079875,0.6818477024440448,0.5728345986097574,0.5938726085151318,0.6988241476703803,0.3576499480873317,0.6054819220883428,0.559321898424378,0.765050913878865,0.5372075760683734,0.5080105730786816,0.7913251782990063,0.4361054315378171,0.5928947058992442,0.5737028768562492,0.6830591017924875,0.3440118160138099,0.5979506626807898,0.5132846939590838,0.5167421445410442,0.66684908265006,0.5568256083033697,0.5654505136524436,0.6839552753669993,0.7925320113761783,0.6961154538409575,0.6407832668172323,0.8693899616815746,0.5575631396743879,0.6509773818432512,0.6746757963323367,0.50452806909476,0.9416293490187495,0.7380197369625254,0.8121515658090586,0.5150858653841908,0.7670338065532949,0.6426636906982508,0.6353040403137402,0.9314714944987526,0.6306187021399736,0.554319209969732,0.31355041431011205,0.5849944726631319,0.47912253466342536,0.6656504062431028,0.7864043168670412,0.5269179316184078,0.606619310514267,0.9101291533845812,0.5992855653004828,0.6226792828321834,0.8350498025046907,0.48514788058616276,0.5378117423869455,0.5569394625757321,0.6688867960315242,0.7378725848551598,0.6647725998201977,0.9712187659871778,0.43968885628468524,0.7849918207257287,0.6727941571525334,0.749986990496272,0.6953440725097466,0.5411203135552218,0.3537235417249254,0.815667077211989,0.7685228893032996,1.0537508883829472,0.5436243966117621,0.6547096478758274,0.448245012586612,0.8773864506662397,0.6161904525582895,0.7242199677761237,0.7660544073679902,0.5681797538198559,0.6307154313159761,0.506232682694219,0.6282513769872374,0.8856766464622212,0.42713360907964326,0.6031372932002965,0.4333184510023044,0.7441226225928625,0.3842940337150302,0.7669823236041389,0.7409193547317091,0.6279981314394086,0.6038798866443553,0.346099171280735,0.7073978874499691,0.6634247386631017,0.8291061986559152,0.8241917731510258,0.7939152612595424,0.5585387737736259,0.6811768203796955,0.7638983765178986,0.4773339612914633,0.4566661303775324,0.6817076657505028,0.5500856302089655,0.3973300064478025,0.7523835545854658,0.41966418210572165,0.6844786281998578,0.9034786555977772,0.9145869515346134,0.5188024048508684,0.7146514216986162,0.7891327739863419,0.5772782707143445,0.5448160214055611,0.6722819772869941,0.6490401502422651,0.40088253204737834,0.7008938302828386,0.442444772970115,0.567699662536605,0.7486566401199075,0.5139148010794654,0.57510877544894,0.3872696941698736,0.5512503775269426,0.6564195005047935,0.7404499761727795,0.25206463579269506,0.8359580533494271,0.7110770035197329,0.8064595010544642,0.6211950437016982,0.9004836801207771,0.7138606306138033,0.6756086547307079,0.9530389059550151,0.4766488124848566,0.5829821925819759,0.20092552597127883,0.8069350046299921,0.4625623466381223,0.22426386367520093,0.9032481334108904,0.6715247020764137,0.9996266593682974,0.7752789713739869,0.5653479295762298,0.2823538045451565,0.6407161603119168,0.6485956228205547,0.4053789953681316,0.3059371177923065,0.759052064654316,0.4391037257778124,0.4952812081643274,0.16738993807850838,0.9179485610546432,0.40160250724339963,0.4349101038455476,0.31188592105131857,0.4162466105998233,0.4858918389340245,0.7766353369156609,0.4520996742771537,0.7090778217798199,0.47864869247896497,0.519552127283442,0.2551822093649302,0.14884871693779844,0.7630875995246605,0.43027973544457454,0.846571794449887,0.5979068757156674,0.6799253710606005,0.2867900348502586,0.6582796858722487,0.39210166777317723,0.5016811549952049,0.5917675277385817,0.50500493478565,0.8689358217796569,0.8284910816297617,0.3765622180107213,0.6494397160075367,0.1987900505219162,0.5008067560966181,0.27138284099798293,0.5123490012869837,0.7075004676661616,0.4544898470415212,0.6945860785322724,0.39470180051331333,0.21138894944849657,0.7536463881817783,0.36540341386147657,0.767296124541291,0.37325236475238815,0.4765764743971437,0.7164482064091521,0.7279577634192375,0.6377860090235958,0.20071358922772792,0.6663261312641648,0.8345229503525716,0.6737057430194587,0.530946605868989,0.6500528444306598,0.4163430855124921,0.6543600212064089,0.5056974397116953,0.35459863441975303,0.46344961117840217,0.594055907995829,0.611846322885482,0.5840409111403431,0.322426223603242,0.6082406330503322,0.4833453269510666,0.43453511170453896,0.3748497317891344,0.8760571334142159,0.736296615081065,0.37311907420264595,0.7232827213812059,0.5610333494838459,0.41742197737660636,0.5475033682321251,0.6380029973155696,0.8524529463587953,0.6090338038529758,0.5958819301563767,0.8993347931033524,0.7861019542696499,0.6320616951296376,0.4806295376737667,0.37858452538988135,0.4211383203041965,0.3841985006862767,0.2706977891115617,0.6519510001322333,0.6967089018891715,0.615615711687892,0.42583421474820904,0.6989814121806694,0.7822575884938705,0.7565015885887394,0.26464188629891594,0.7869289478248582,0.5926402171175618,0.4627292751745304,0.5635089872340463,0.4283896223462371,0.4968601719221528,0.6290422020256976,0.29295783438246714,0.43622564285294163,0.6044371556309545,0.35825809986228496,0.5968836841553198,0.5478858672320637,0.38123745985254787,0.36274336145379116,0.6610859722161144,0.5717991293869137,0.32939926112187057,0.04636207348422772,0.6169160285694183,0.5542163369805568,0.639507398093283,0.6580238040909142,0.4310386851364343,0.3342890441064878,0.6064155733313351,0.3480821813015188,0.723295626624629,0.4588166149617518,0.6781857476878128,0.6211246619081799,0.3061379213351165,0.49921879191696794,0.4807629550639088,0.5609842356454191,0.6557767204294089,0.550726821217643,0.842205611378742,0.38016973444007074,0.12806950512750942,0.21325015562642902,0.4615442328209505,0.3776075789339714,0.6099688527601559,0.44587707946552924,0.4749988476731475,0.3801303823019656,0.8638593307653373,0.3681798861447262,0.7446350008482852,0.16237941379878795,0.27565375109836066,0.41752552536781384,0.5975878770755443,0.3054911383203125,0.860485186529621,0.7024714423779077,0.38471370369810726,0.3566917079348695,0.6271826672021326,0.6051448867965007,0.14100312385192593,0.5851786346023551,0.7119293873632011,0.56123776873954,0.5311320824894012,0.8350435861667957,0.10276907958506148,0.177146882792986,0.21485980064903154,0.6089495696398243,0.8507678310369422,0.567630409813581,0.39533273783603384,0.5863462412965934,0.3781481150723289,0.2502408714132896,0.17653522675357364,0.4424744329141678,0.4967448530510713,0.6705805288555087,0.6217725619590135,0.241048961917317,0.5420226646644117,0.39396988399371974,0.8322089448202041,0.6890629523847578,0.8925808400127369,0.5042780215719201,0.1993642132396442,0.7741374464215076,0.32523266391318634,0.7405499888890719,0.7099163946026322,0.49193410875173305,0.7905359155260285,0.654333062713998,0.4044564991666422,0.18122045227756137,0.6936253007106143,0.6983151862402617,0.5291969785217949,0.3861603614981614,0.76654212326086,0.5571911151574899,0.7180064154335191,0.6848322709181576,0.8367124118767859,0.2867681880498255,0.35047868242750907,0.6638568282870929,0.8044285874488943,0.7510673612477455,0.18376939995481983,-0.06208986014512419,0.4980543342422621,0.6043695922574777,0.6615138248903072,0.4703836576519729,0.5751105303324199,0.6753302230785254,0.8389886112790328,0.758355423847563,0.7040473070131101,0.47861707315041024,0.43624032452056405,0.6541678322959236,0.6960916367232135,0.6416011528897128,0.47561140160325965,0.1756791608882651,0.552421652461326,0.37545415257000586,0.3713931636126629,0.6996519662749245,0.5224449055839042,0.42266072190471654,0.44531323838722714,0.2531450244978599,0.49589700886258403,0.4771431726670296,0.40555237334580996,0.4529855755750294,0.3195323044904719,0.2944016484767153,0.26953058388928863,0.6167166016784684,-0.03530241024806424,0.39707064583399504],\"type\":\"scatter\",\"xaxis\":\"x\",\"yaxis\":\"y2\"}],                        {\"template\":{\"data\":{\"histogram2dcontour\":[{\"type\":\"histogram2dcontour\",\"colorbar\":{\"outlinewidth\":0,\"ticks\":\"\"},\"colorscale\":[[0.0,\"#0d0887\"],[0.1111111111111111,\"#46039f\"],[0.2222222222222222,\"#7201a8\"],[0.3333333333333333,\"#9c179e\"],[0.4444444444444444,\"#bd3786\"],[0.5555555555555556,\"#d8576b\"],[0.6666666666666666,\"#ed7953\"],[0.7777777777777778,\"#fb9f3a\"],[0.8888888888888888,\"#fdca26\"],[1.0,\"#f0f921\"]]}],\"choropleth\":[{\"type\":\"choropleth\",\"colorbar\":{\"outlinewidth\":0,\"ticks\":\"\"}}],\"histogram2d\":[{\"type\":\"histogram2d\",\"colorbar\":{\"outlinewidth\":0,\"ticks\":\"\"},\"colorscale\":[[0.0,\"#0d0887\"],[0.1111111111111111,\"#46039f\"],[0.2222222222222222,\"#7201a8\"],[0.3333333333333333,\"#9c179e\"],[0.4444444444444444,\"#bd3786\"],[0.5555555555555556,\"#d8576b\"],[0.6666666666666666,\"#ed7953\"],[0.7777777777777778,\"#fb9f3a\"],[0.8888888888888888,\"#fdca26\"],[1.0,\"#f0f921\"]]}],\"heatmap\":[{\"type\":\"heatmap\",\"colorbar\":{\"outlinewidth\":0,\"ticks\":\"\"},\"colorscale\":[[0.0,\"#0d0887\"],[0.1111111111111111,\"#46039f\"],[0.2222222222222222,\"#7201a8\"],[0.3333333333333333,\"#9c179e\"],[0.4444444444444444,\"#bd3786\"],[0.5555555555555556,\"#d8576b\"],[0.6666666666666666,\"#ed7953\"],[0.7777777777777778,\"#fb9f3a\"],[0.8888888888888888,\"#fdca26\"],[1.0,\"#f0f921\"]]}],\"heatmapgl\":[{\"type\":\"heatmapgl\",\"colorbar\":{\"outlinewidth\":0,\"ticks\":\"\"},\"colorscale\":[[0.0,\"#0d0887\"],[0.1111111111111111,\"#46039f\"],[0.2222222222222222,\"#7201a8\"],[0.3333333333333333,\"#9c179e\"],[0.4444444444444444,\"#bd3786\"],[0.5555555555555556,\"#d8576b\"],[0.6666666666666666,\"#ed7953\"],[0.7777777777777778,\"#fb9f3a\"],[0.8888888888888888,\"#fdca26\"],[1.0,\"#f0f921\"]]}],\"contourcarpet\":[{\"type\":\"contourcarpet\",\"colorbar\":{\"outlinewidth\":0,\"ticks\":\"\"}}],\"contour\":[{\"type\":\"contour\",\"colorbar\":{\"outlinewidth\":0,\"ticks\":\"\"},\"colorscale\":[[0.0,\"#0d0887\"],[0.1111111111111111,\"#46039f\"],[0.2222222222222222,\"#7201a8\"],[0.3333333333333333,\"#9c179e\"],[0.4444444444444444,\"#bd3786\"],[0.5555555555555556,\"#d8576b\"],[0.6666666666666666,\"#ed7953\"],[0.7777777777777778,\"#fb9f3a\"],[0.8888888888888888,\"#fdca26\"],[1.0,\"#f0f921\"]]}],\"surface\":[{\"type\":\"surface\",\"colorbar\":{\"outlinewidth\":0,\"ticks\":\"\"},\"colorscale\":[[0.0,\"#0d0887\"],[0.1111111111111111,\"#46039f\"],[0.2222222222222222,\"#7201a8\"],[0.3333333333333333,\"#9c179e\"],[0.4444444444444444,\"#bd3786\"],[0.5555555555555556,\"#d8576b\"],[0.6666666666666666,\"#ed7953\"],[0.7777777777777778,\"#fb9f3a\"],[0.8888888888888888,\"#fdca26\"],[1.0,\"#f0f921\"]]}],\"mesh3d\":[{\"type\":\"mesh3d\",\"colorbar\":{\"outlinewidth\":0,\"ticks\":\"\"}}],\"scatter\":[{\"fillpattern\":{\"fillmode\":\"overlay\",\"size\":10,\"solidity\":0.2},\"type\":\"scatter\"}],\"parcoords\":[{\"type\":\"parcoords\",\"line\":{\"colorbar\":{\"outlinewidth\":0,\"ticks\":\"\"}}}],\"scatterpolargl\":[{\"type\":\"scatterpolargl\",\"marker\":{\"colorbar\":{\"outlinewidth\":0,\"ticks\":\"\"}}}],\"bar\":[{\"error_x\":{\"color\":\"#2a3f5f\"},\"error_y\":{\"color\":\"#2a3f5f\"},\"marker\":{\"line\":{\"color\":\"#E5ECF6\",\"width\":0.5},\"pattern\":{\"fillmode\":\"overlay\",\"size\":10,\"solidity\":0.2}},\"type\":\"bar\"}],\"scattergeo\":[{\"type\":\"scattergeo\",\"marker\":{\"colorbar\":{\"outlinewidth\":0,\"ticks\":\"\"}}}],\"scatterpolar\":[{\"type\":\"scatterpolar\",\"marker\":{\"colorbar\":{\"outlinewidth\":0,\"ticks\":\"\"}}}],\"histogram\":[{\"marker\":{\"pattern\":{\"fillmode\":\"overlay\",\"size\":10,\"solidity\":0.2}},\"type\":\"histogram\"}],\"scattergl\":[{\"type\":\"scattergl\",\"marker\":{\"colorbar\":{\"outlinewidth\":0,\"ticks\":\"\"}}}],\"scatter3d\":[{\"type\":\"scatter3d\",\"line\":{\"colorbar\":{\"outlinewidth\":0,\"ticks\":\"\"}},\"marker\":{\"colorbar\":{\"outlinewidth\":0,\"ticks\":\"\"}}}],\"scattermapbox\":[{\"type\":\"scattermapbox\",\"marker\":{\"colorbar\":{\"outlinewidth\":0,\"ticks\":\"\"}}}],\"scatterternary\":[{\"type\":\"scatterternary\",\"marker\":{\"colorbar\":{\"outlinewidth\":0,\"ticks\":\"\"}}}],\"scattercarpet\":[{\"type\":\"scattercarpet\",\"marker\":{\"colorbar\":{\"outlinewidth\":0,\"ticks\":\"\"}}}],\"carpet\":[{\"aaxis\":{\"endlinecolor\":\"#2a3f5f\",\"gridcolor\":\"white\",\"linecolor\":\"white\",\"minorgridcolor\":\"white\",\"startlinecolor\":\"#2a3f5f\"},\"baxis\":{\"endlinecolor\":\"#2a3f5f\",\"gridcolor\":\"white\",\"linecolor\":\"white\",\"minorgridcolor\":\"white\",\"startlinecolor\":\"#2a3f5f\"},\"type\":\"carpet\"}],\"table\":[{\"cells\":{\"fill\":{\"color\":\"#EBF0F8\"},\"line\":{\"color\":\"white\"}},\"header\":{\"fill\":{\"color\":\"#C8D4E3\"},\"line\":{\"color\":\"white\"}},\"type\":\"table\"}],\"barpolar\":[{\"marker\":{\"line\":{\"color\":\"#E5ECF6\",\"width\":0.5},\"pattern\":{\"fillmode\":\"overlay\",\"size\":10,\"solidity\":0.2}},\"type\":\"barpolar\"}],\"pie\":[{\"automargin\":true,\"type\":\"pie\"}]},\"layout\":{\"autotypenumbers\":\"strict\",\"colorway\":[\"#636efa\",\"#EF553B\",\"#00cc96\",\"#ab63fa\",\"#FFA15A\",\"#19d3f3\",\"#FF6692\",\"#B6E880\",\"#FF97FF\",\"#FECB52\"],\"font\":{\"color\":\"#2a3f5f\"},\"hovermode\":\"closest\",\"hoverlabel\":{\"align\":\"left\"},\"paper_bgcolor\":\"white\",\"plot_bgcolor\":\"#E5ECF6\",\"polar\":{\"bgcolor\":\"#E5ECF6\",\"angularaxis\":{\"gridcolor\":\"white\",\"linecolor\":\"white\",\"ticks\":\"\"},\"radialaxis\":{\"gridcolor\":\"white\",\"linecolor\":\"white\",\"ticks\":\"\"}},\"ternary\":{\"bgcolor\":\"#E5ECF6\",\"aaxis\":{\"gridcolor\":\"white\",\"linecolor\":\"white\",\"ticks\":\"\"},\"baxis\":{\"gridcolor\":\"white\",\"linecolor\":\"white\",\"ticks\":\"\"},\"caxis\":{\"gridcolor\":\"white\",\"linecolor\":\"white\",\"ticks\":\"\"}},\"coloraxis\":{\"colorbar\":{\"outlinewidth\":0,\"ticks\":\"\"}},\"colorscale\":{\"sequential\":[[0.0,\"#0d0887\"],[0.1111111111111111,\"#46039f\"],[0.2222222222222222,\"#7201a8\"],[0.3333333333333333,\"#9c179e\"],[0.4444444444444444,\"#bd3786\"],[0.5555555555555556,\"#d8576b\"],[0.6666666666666666,\"#ed7953\"],[0.7777777777777778,\"#fb9f3a\"],[0.8888888888888888,\"#fdca26\"],[1.0,\"#f0f921\"]],\"sequentialminus\":[[0.0,\"#0d0887\"],[0.1111111111111111,\"#46039f\"],[0.2222222222222222,\"#7201a8\"],[0.3333333333333333,\"#9c179e\"],[0.4444444444444444,\"#bd3786\"],[0.5555555555555556,\"#d8576b\"],[0.6666666666666666,\"#ed7953\"],[0.7777777777777778,\"#fb9f3a\"],[0.8888888888888888,\"#fdca26\"],[1.0,\"#f0f921\"]],\"diverging\":[[0,\"#8e0152\"],[0.1,\"#c51b7d\"],[0.2,\"#de77ae\"],[0.3,\"#f1b6da\"],[0.4,\"#fde0ef\"],[0.5,\"#f7f7f7\"],[0.6,\"#e6f5d0\"],[0.7,\"#b8e186\"],[0.8,\"#7fbc41\"],[0.9,\"#4d9221\"],[1,\"#276419\"]]},\"xaxis\":{\"gridcolor\":\"white\",\"linecolor\":\"white\",\"ticks\":\"\",\"title\":{\"standoff\":15},\"zerolinecolor\":\"white\",\"automargin\":true,\"zerolinewidth\":2},\"yaxis\":{\"gridcolor\":\"white\",\"linecolor\":\"white\",\"ticks\":\"\",\"title\":{\"standoff\":15},\"zerolinecolor\":\"white\",\"automargin\":true,\"zerolinewidth\":2},\"scene\":{\"xaxis\":{\"backgroundcolor\":\"#E5ECF6\",\"gridcolor\":\"white\",\"linecolor\":\"white\",\"showbackground\":true,\"ticks\":\"\",\"zerolinecolor\":\"white\",\"gridwidth\":2},\"yaxis\":{\"backgroundcolor\":\"#E5ECF6\",\"gridcolor\":\"white\",\"linecolor\":\"white\",\"showbackground\":true,\"ticks\":\"\",\"zerolinecolor\":\"white\",\"gridwidth\":2},\"zaxis\":{\"backgroundcolor\":\"#E5ECF6\",\"gridcolor\":\"white\",\"linecolor\":\"white\",\"showbackground\":true,\"ticks\":\"\",\"zerolinecolor\":\"white\",\"gridwidth\":2}},\"shapedefaults\":{\"line\":{\"color\":\"#2a3f5f\"}},\"annotationdefaults\":{\"arrowcolor\":\"#2a3f5f\",\"arrowhead\":0,\"arrowwidth\":1},\"geo\":{\"bgcolor\":\"white\",\"landcolor\":\"#E5ECF6\",\"subunitcolor\":\"white\",\"showland\":true,\"showlakes\":true,\"lakecolor\":\"white\"},\"title\":{\"x\":0.05},\"mapbox\":{\"style\":\"light\"}}},\"xaxis\":{\"anchor\":\"y\",\"domain\":[0.0,0.94],\"title\":{\"text\":\"Couple of sentences\"}},\"yaxis\":{\"anchor\":\"x\",\"domain\":[0.0,1.0]},\"yaxis2\":{\"anchor\":\"x\",\"overlaying\":\"y\",\"side\":\"right\",\"title\":{\"text\":\"Prediction\"}},\"title\":{\"text\":\"Results\"}},                        {\"responsive\": true}                    ).then(function(){\n",
              "                            \n",
              "var gd = document.getElementById('c4283209-5925-47e1-ae71-d214bfe2bb5e');\n",
              "var x = new MutationObserver(function (mutations, observer) {{\n",
              "        var display = window.getComputedStyle(gd).display;\n",
              "        if (!display || display === 'none') {{\n",
              "            console.log([gd, 'removed!']);\n",
              "            Plotly.purge(gd);\n",
              "            observer.disconnect();\n",
              "        }}\n",
              "}});\n",
              "\n",
              "// Listen for the removal of the full notebook cells\n",
              "var notebookContainer = gd.closest('#notebook-container');\n",
              "if (notebookContainer) {{\n",
              "    x.observe(notebookContainer, {childList: true});\n",
              "}}\n",
              "\n",
              "// Listen for the clearing of the current output cell\n",
              "var outputEl = gd.closest('.output');\n",
              "if (outputEl) {{\n",
              "    x.observe(outputEl, {childList: true});\n",
              "}}\n",
              "\n",
              "                        })                };                            </script>        </div>\n",
              "</body>\n",
              "</html>"
            ]
          },
          "metadata": {}
        }
      ]
    },
    {
      "cell_type": "markdown",
      "source": [],
      "metadata": {
        "id": "Kk8tftkFGN2A"
      }
    }
  ]
}